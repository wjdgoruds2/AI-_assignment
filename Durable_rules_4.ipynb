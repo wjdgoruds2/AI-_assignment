{
  "nbformat": 4,
  "nbformat_minor": 0,
  "metadata": {
    "colab": {
      "name": "Durable_rules_1.ipynb",
      "provenance": [],
      "authorship_tag": "ABX9TyPU6vFsOWplbLuo/JDH6yWA",
      "include_colab_link": true
    },
    "kernelspec": {
      "name": "python3",
      "display_name": "Python 3"
    }
  },
  "cells": [
    {
      "cell_type": "markdown",
      "metadata": {
        "id": "view-in-github",
        "colab_type": "text"
      },
      "source": [
        "<a href=\"https://colab.research.google.com/github/wjdgoruds2/AI-_assignment/blob/master/Durable_rules_4.ipynb\" target=\"_parent\"><img src=\"https://colab.research.google.com/assets/colab-badge.svg\" alt=\"Open In Colab\"/></a>"
      ]
    },
    {
      "cell_type": "code",
      "metadata": {
        "id": "gsbRuMpIuqyr",
        "colab_type": "code",
        "colab": {
          "base_uri": "https://localhost:8080/",
          "height": 144
        },
        "outputId": "827bf0eb-10fb-41fc-c0b9-032550c576dd"
      },
      "source": [
        "!pip install durable_rules\n",
        "\n",
        "from durable.lang import *\n",
        "\n",
        "if _main_host is not None:\n",
        "    _main_host._ruleset_directory.clear()\n",
        "\n",
        "with ruleset('bookstore'):\n",
        "  @when_all(+m.status)\n",
        "  def event(c):\n",
        "    print('bookstore ->Reference {0} status {1}'.format(c.m.reference, c.m.status))\n",
        "\n",
        "  @when_all(+m.name)\n",
        "  def fact(c):\n",
        "    print('bookstore->Added \"{0}\"'.format(c.m.name))\n",
        "  @when_all(none(+m.name))\n",
        "  def empty(c):\n",
        "    print('bookstore-> No books')\n",
        "\n",
        "assert_fact('bookstore',{'name':'The new book','seller':'bookstore','reference':'75323','price':500})\n",
        "\n",
        "try:\n",
        "  assert_fact('bookstore',{'reference':'75323','name':'The new book','price':500,'seller':'bookstore'})\n",
        "\n",
        "except BaseException as e:\n",
        "  print('Error:{0}'.format(e.message))\n",
        "\n",
        "post('bookstore',{'reference':'75323','status':'Active'})\n",
        "retract_fact('bookstore',{'reference':'75323','name':'The new book','price':500,'seller':'bookstore'})"
      ],
      "execution_count": 25,
      "outputs": [
        {
          "output_type": "stream",
          "text": [
            "Requirement already satisfied: durable_rules in /usr/local/lib/python3.6/dist-packages (2.0.28)\n",
            "bookstore->Added \"The new book\"\n",
            "Error:Message has already been observed: {\"reference\": \"75323\", \"name\": \"The new book\", \"price\": 500, \"seller\": \"bookstore\"}\n",
            "bookstore ->Reference 75323 status Active\n",
            "bookstore-> No books\n"
          ],
          "name": "stdout"
        },
        {
          "output_type": "execute_result",
          "data": {
            "text/plain": [
              "{'$s': 1, 'id': 'sid-0', 'sid': '0'}"
            ]
          },
          "metadata": {
            "tags": []
          },
          "execution_count": 25
        }
      ]
    },
    {
      "cell_type": "markdown",
      "metadata": {
        "id": "cxAQn_Fn7QG9",
        "colab_type": "text"
      },
      "source": [
        ""
      ]
    }
  ]
}
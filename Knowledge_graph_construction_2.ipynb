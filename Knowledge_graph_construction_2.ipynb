{
  "nbformat": 4,
  "nbformat_minor": 0,
  "metadata": {
    "colab": {
      "name": "Knowledge graph construction.ipynb",
      "provenance": [],
      "collapsed_sections": [],
      "authorship_tag": "ABX9TyNd2vvM1LToITkkNXi9RV5v",
      "include_colab_link": true
    },
    "kernelspec": {
      "name": "python3",
      "display_name": "Python 3"
    }
  },
  "cells": [
    {
      "cell_type": "markdown",
      "metadata": {
        "id": "view-in-github",
        "colab_type": "text"
      },
      "source": [
        "<a href=\"https://colab.research.google.com/github/wjdgoruds2/AI-_assignment/blob/master/Knowledge_graph_construction_2.ipynb\" target=\"_parent\"><img src=\"https://colab.research.google.com/assets/colab-badge.svg\" alt=\"Open In Colab\"/></a>"
      ]
    },
    {
      "cell_type": "code",
      "metadata": {
        "id": "B85YJooJ9Cpw",
        "colab_type": "code",
        "colab": {
          "resources": {
            "http://localhost:8080/nbextensions/google.colab/files.js": {
              "data": "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",
              "ok": true,
              "headers": [
                [
                  "content-type",
                  "application/javascript"
                ]
              ],
              "status": 200,
              "status_text": ""
            }
          },
          "base_uri": "https://localhost:8080/",
          "height": 1000
        },
        "outputId": "6605bcdc-b9cd-4cf2-e194-a4030c0361cc"
      },
      "source": [
        "!pip install spacy\n",
        "import re\n",
        "import pandas as pd\n",
        "import bs4\n",
        "import requests\n",
        "import spacy\n",
        "from spacy import displacy\n",
        "nlp=spacy.load('en_core_web_sm')\n",
        "\n",
        "from spacy.matcher import Matcher\n",
        "from spacy.tokens import Span\n",
        "\n",
        "import networkx as nx\n",
        "\n",
        "import matplotlib.pyplot as plt\n",
        "from tqdm import tqdm\n",
        "from google.colab import files\n",
        "myfile = files.upload()\n",
        "\n",
        "import io\n",
        "import pandas as pd\n",
        "\n",
        "pd.set_option('display.max_colwidth',200)\n",
        "%matplotlib inline\n",
        "\n",
        "\n",
        "\n",
        "candidate_sentences=pd.read_csv(io.BytesIO(myfile['wiki_sentences_v2.csv']))\n",
        "candidate_sentences.shape\n",
        "def get_entities(sent):\n",
        "\n",
        "  ent1=\"\"\n",
        "  ent2=\"\"\n",
        "  prv_tok_dep=\"\"\n",
        "  prv_tok_text=\"\"\n",
        "  prefix=\"\"\n",
        "  modifier=\"\"\n",
        "  for tok in nlp(sent):\n",
        "    if tok.dep_ !=\"punct\":\n",
        "      if tok.dep_==\"compound\":\n",
        "        prefix=tok.text\n",
        "        if prv_tok_dep==\"compound\":\n",
        "          prefix=prv_tok_text +\" \"+tok.text\n",
        "      if tok.dep_.endswith(\"mod\")==True:\n",
        "        modifier=tok.text\n",
        "        if prv_tok_dep ==\"compound\":\n",
        "          modifier=prv_tok_text+\" \"+tok.text\n",
        "\n",
        "      if tok.dep_.find(\"subj\")==True:\n",
        "        ent1=modifier+\" \"+prefix+\" \"+tok.text\n",
        "        prefix=\"\"\n",
        "        modifier=\"\"\n",
        "        prv_tok_dep=\"\"\n",
        "        prv_tok_text=\"\"\n",
        "      if tok.dep_.find(\"obj\")==True:\n",
        "        ent2=modifier+\" \"+prefix+\" \"+tok.text\n",
        "\n",
        "      prv_tok_dep=tok.dep_\n",
        "      prv_tok_text=tok.text\n",
        "  return [ent1.strip(),ent2.strip()]\n",
        "\n",
        "\n",
        "entity_pairs=[]\n",
        "for i in tqdm(candidate_sentences[\"sentence\"]):\n",
        " entity_pairs.append(get_entities(i))\n",
        "entity_pairs[10:20]\n",
        "\n",
        "\n",
        "def get_relation(sent):\n",
        "  doc=nlp(sent)\n",
        "  matcher=Matcher(nlp.vocab)\n",
        "\n",
        "  pattern=[{'DEP':'ROOT'},{'DEP':'prep','OP':\"?\"},{'DEP':'agent','OP':\"?\"},{'POS':'ADJ','OP':\"?\"}]\n",
        "\n",
        "  matcher.add(\"matching_1\",None,pattern)\n",
        "\n",
        "  matches=matcher(doc)\n",
        "  print('matches:',matches)\n",
        "  k=len(matches)-1\n",
        "\n",
        "  span=doc[matches[k][1]:matches[k][2]]\n",
        "\n",
        "  return(span.text)\n",
        "\n",
        "get_relation(\"Joan completed the task\")\n",
        "relations=[get_relation(i) for i in tqdm(candidate_sentences['sentence'])]\n",
        "source =[i[0] for i in entity_pairs]\n",
        "target=[i[1]for i in entity_pairs]\n",
        "\n",
        "kg_df=pd.DataFrame({'source':source,'target':target,'edge':relations})\n",
        "\n",
        "#G=nx.from_pandas_edgelist(kg_df,\"source\",\"target\",edge_attr=True,create_using=nx.MultiDiGraph())\n",
        "\n",
        "#plt.figure(figsize=(12,12))\n",
        "#pos=nx.spring_layout(G)\n",
        "#nx.draw(G, with_labels=True,node_color='skyblue',edge_cmap=plt.cm.Blues,pos=pos)\n",
        "#plt.show()\n",
        "\n",
        "\n",
        "G=nx.from_pandas_edgelist(kg_df[kg_df['edge']==\"written by\"],\"source\",\"target\",edge_attr=True,create_using=nx.MultiDiGraph())\n",
        "\n",
        "plt.figure(figsize=(12,12))\n",
        "pos=nx.spring_layout(G,k=0.5)\n",
        "nx.draw(G,with_labels=True,node_color='skyblue',node_size=1500,edge_cmap=plt.cm.Blues,pos=pos)\n",
        "nx.draw_networkx_edge_labels(G,pos,edge_labels=\"written by\")\n",
        "plt.show()\n",
        "\n",
        "\n",
        "#G=nx.from_pandas_edgelist(kg_df[kg_df['edge']==\"composed by\"],\"source\",\"target\",edge_attr=True,create_using=nx.MultiDiGraph())\n",
        "#plt.figure(figsize=(12,12))\n",
        "#pos=nx.spring_layout(G,k=0.5)\n",
        "#nx.draw(G,with_labels=True,node_color='skyblue',node_size=1500,edge_cmap=plt.cm.Blues,pos=pos)\n",
        "#plt.show()\n"
      ],
      "execution_count": 9,
      "outputs": [
        {
          "output_type": "stream",
          "text": [
            "Requirement already satisfied: spacy in /usr/local/lib/python3.6/dist-packages (2.2.4)\n",
            "Requirement already satisfied: murmurhash<1.1.0,>=0.28.0 in /usr/local/lib/python3.6/dist-packages (from spacy) (1.0.2)\n",
            "Requirement already satisfied: requests<3.0.0,>=2.13.0 in /usr/local/lib/python3.6/dist-packages (from spacy) (2.23.0)\n",
            "Requirement already satisfied: blis<0.5.0,>=0.4.0 in /usr/local/lib/python3.6/dist-packages (from spacy) (0.4.1)\n",
            "Requirement already satisfied: thinc==7.4.0 in /usr/local/lib/python3.6/dist-packages (from spacy) (7.4.0)\n",
            "Requirement already satisfied: cymem<2.1.0,>=2.0.2 in /usr/local/lib/python3.6/dist-packages (from spacy) (2.0.3)\n",
            "Requirement already satisfied: numpy>=1.15.0 in /usr/local/lib/python3.6/dist-packages (from spacy) (1.18.5)\n",
            "Requirement already satisfied: setuptools in /usr/local/lib/python3.6/dist-packages (from spacy) (50.3.0)\n",
            "Requirement already satisfied: tqdm<5.0.0,>=4.38.0 in /usr/local/lib/python3.6/dist-packages (from spacy) (4.41.1)\n",
            "Requirement already satisfied: catalogue<1.1.0,>=0.0.7 in /usr/local/lib/python3.6/dist-packages (from spacy) (1.0.0)\n",
            "Requirement already satisfied: srsly<1.1.0,>=1.0.2 in /usr/local/lib/python3.6/dist-packages (from spacy) (1.0.2)\n",
            "Requirement already satisfied: plac<1.2.0,>=0.9.6 in /usr/local/lib/python3.6/dist-packages (from spacy) (1.1.3)\n",
            "Requirement already satisfied: wasabi<1.1.0,>=0.4.0 in /usr/local/lib/python3.6/dist-packages (from spacy) (0.8.0)\n",
            "Requirement already satisfied: preshed<3.1.0,>=3.0.2 in /usr/local/lib/python3.6/dist-packages (from spacy) (3.0.2)\n",
            "Requirement already satisfied: chardet<4,>=3.0.2 in /usr/local/lib/python3.6/dist-packages (from requests<3.0.0,>=2.13.0->spacy) (3.0.4)\n",
            "Requirement already satisfied: urllib3!=1.25.0,!=1.25.1,<1.26,>=1.21.1 in /usr/local/lib/python3.6/dist-packages (from requests<3.0.0,>=2.13.0->spacy) (1.24.3)\n",
            "Requirement already satisfied: certifi>=2017.4.17 in /usr/local/lib/python3.6/dist-packages (from requests<3.0.0,>=2.13.0->spacy) (2020.6.20)\n",
            "Requirement already satisfied: idna<3,>=2.5 in /usr/local/lib/python3.6/dist-packages (from requests<3.0.0,>=2.13.0->spacy) (2.10)\n",
            "Requirement already satisfied: importlib-metadata>=0.20; python_version < \"3.8\" in /usr/local/lib/python3.6/dist-packages (from catalogue<1.1.0,>=0.0.7->spacy) (1.7.0)\n",
            "Requirement already satisfied: zipp>=0.5 in /usr/local/lib/python3.6/dist-packages (from importlib-metadata>=0.20; python_version < \"3.8\"->catalogue<1.1.0,>=0.0.7->spacy) (3.1.0)\n"
          ],
          "name": "stdout"
        },
        {
          "output_type": "display_data",
          "data": {
            "text/html": [
              "\n",
              "     <input type=\"file\" id=\"files-b9c8c834-28da-45d4-9651-24b1c19ae610\" name=\"files[]\" multiple disabled\n",
              "        style=\"border:none\" />\n",
              "     <output id=\"result-b9c8c834-28da-45d4-9651-24b1c19ae610\">\n",
              "      Upload widget is only available when the cell has been executed in the\n",
              "      current browser session. Please rerun this cell to enable.\n",
              "      </output>\n",
              "      <script src=\"/nbextensions/google.colab/files.js\"></script> "
            ],
            "text/plain": [
              "<IPython.core.display.HTML object>"
            ]
          },
          "metadata": {
            "tags": []
          }
        },
        {
          "output_type": "stream",
          "text": [
            "Saving wiki_sentences_v2.csv to wiki_sentences_v2 (8).csv\n"
          ],
          "name": "stdout"
        },
        {
          "output_type": "stream",
          "text": [
            "100%|██████████| 4318/4318 [00:45<00:00, 95.14it/s]\n",
            "  0%|          | 10/4318 [00:00<00:46, 91.98it/s]"
          ],
          "name": "stderr"
        },
        {
          "output_type": "stream",
          "text": [
            "matches: [(11840699188806025751, 1, 2)]\n",
            "matches: [(11840699188806025751, 5, 6)]\n",
            "matches: [(11840699188806025751, 7, 8), (11840699188806025751, 7, 9)]\n",
            "matches: [(11840699188806025751, 3, 4), (11840699188806025751, 3, 5)]\n",
            "matches: [(11840699188806025751, 3, 4), (11840699188806025751, 3, 5)]\n",
            "matches: [(11840699188806025751, 4, 5), (11840699188806025751, 4, 6)]\n",
            "matches: [(11840699188806025751, 1, 2)]\n",
            "matches: [(11840699188806025751, 6, 7)]\n",
            "matches: [(11840699188806025751, 9, 10)]\n",
            "matches: [(11840699188806025751, 9, 10), (11840699188806025751, 9, 11)]\n",
            "matches: [(11840699188806025751, 2, 3)]\n",
            "matches: [(11840699188806025751, 1, 2), (11840699188806025751, 1, 3)]\n",
            "matches: [(11840699188806025751, 4, 5)]\n",
            "matches: [(11840699188806025751, 4, 5)]\n",
            "matches: [(11840699188806025751, 1, 2)]\n",
            "matches: [(11840699188806025751, 1, 2)]\n"
          ],
          "name": "stdout"
        },
        {
          "output_type": "stream",
          "text": [
            "  1%|          | 25/4318 [00:00<00:53, 80.96it/s]"
          ],
          "name": "stderr"
        },
        {
          "output_type": "stream",
          "text": [
            "matches: [(11840699188806025751, 2, 3)]\n",
            "matches: [(11840699188806025751, 1, 2)]\n",
            "matches: [(11840699188806025751, 3, 4), (11840699188806025751, 3, 5)]\n",
            "matches: [(11840699188806025751, 2, 3)]\n",
            "matches: [(11840699188806025751, 3, 4)]\n",
            "matches: [(11840699188806025751, 2, 3)]\n",
            "matches: [(11840699188806025751, 6, 7), (11840699188806025751, 6, 8)]\n",
            "matches: [(11840699188806025751, 2, 3), (11840699188806025751, 2, 4)]\n",
            "matches: [(11840699188806025751, 2, 3), (11840699188806025751, 2, 4)]\n",
            "matches: [(11840699188806025751, 3, 4)]\n",
            "matches: [(11840699188806025751, 3, 4)]\n",
            "matches: [(11840699188806025751, 3, 4), (11840699188806025751, 3, 5)]\n",
            "matches: [(11840699188806025751, 1, 2)]\n",
            "matches: [(11840699188806025751, 4, 5)]\n",
            "matches: [(11840699188806025751, 2, 3), (11840699188806025751, 2, 4), (11840699188806025751, 2, 5)]\n",
            "matches: [(11840699188806025751, 2, 3), (11840699188806025751, 2, 4)]\n",
            "matches: [(11840699188806025751, 1, 2)]\n"
          ],
          "name": "stdout"
        },
        {
          "output_type": "stream",
          "text": [
            "  1%|          | 43/4318 [00:00<00:51, 82.46it/s]"
          ],
          "name": "stderr"
        },
        {
          "output_type": "stream",
          "text": [
            "matches: [(11840699188806025751, 3, 4)]\n",
            "matches: [(11840699188806025751, 2, 3), (11840699188806025751, 2, 4)]\n",
            "matches: [(11840699188806025751, 10, 11), (11840699188806025751, 10, 12)]\n",
            "matches: [(11840699188806025751, 12, 13)]\n",
            "matches: [(11840699188806025751, 2, 3), (11840699188806025751, 2, 4)]\n",
            "matches: [(11840699188806025751, 4, 5)]\n",
            "matches: [(11840699188806025751, 2, 3), (11840699188806025751, 2, 4)]\n",
            "matches: [(11840699188806025751, 2, 3)]\n",
            "matches: [(11840699188806025751, 2, 3)]\n",
            "matches: [(11840699188806025751, 6, 7)]\n",
            "matches: [(11840699188806025751, 4, 5), (11840699188806025751, 4, 6), (11840699188806025751, 4, 7)]\n",
            "matches: [(11840699188806025751, 2, 3)]\n",
            "matches: [(11840699188806025751, 4, 5)]\n",
            "matches: [(11840699188806025751, 3, 4), (11840699188806025751, 3, 5)]\n",
            "matches: [(11840699188806025751, 3, 4), (11840699188806025751, 3, 5)]\n",
            "matches: [(11840699188806025751, 4, 5), (11840699188806025751, 4, 6)]\n",
            "matches: [(11840699188806025751, 16, 17)]\n",
            "matches: [(11840699188806025751, 9, 10)]\n",
            "matches: [(11840699188806025751, 4, 5)]\n"
          ],
          "name": "stdout"
        },
        {
          "output_type": "stream",
          "text": [
            "  1%|▏         | 60/4318 [00:00<00:52, 81.18it/s]"
          ],
          "name": "stderr"
        },
        {
          "output_type": "stream",
          "text": [
            "matches: [(11840699188806025751, 4, 5), (11840699188806025751, 4, 6)]\n",
            "matches: [(11840699188806025751, 3, 4)]\n",
            "matches: [(11840699188806025751, 5, 6), (11840699188806025751, 5, 7)]\n",
            "matches: [(11840699188806025751, 2, 3), (11840699188806025751, 2, 4)]\n",
            "matches: [(11840699188806025751, 1, 2)]\n",
            "matches: [(11840699188806025751, 11, 12)]\n",
            "matches: [(11840699188806025751, 1, 2)]\n",
            "matches: [(11840699188806025751, 4, 5), (11840699188806025751, 4, 6), (11840699188806025751, 4, 7)]\n",
            "matches: [(11840699188806025751, 1, 2), (11840699188806025751, 5, 6)]\n",
            "matches: [(11840699188806025751, 1, 2)]\n",
            "matches: [(11840699188806025751, 1, 2), (11840699188806025751, 1, 3)]\n",
            "matches: [(11840699188806025751, 3, 4)]\n",
            "matches: [(11840699188806025751, 5, 6)]\n",
            "matches: [(11840699188806025751, 5, 6)]\n",
            "matches: [(11840699188806025751, 4, 5), (11840699188806025751, 4, 6)]\n",
            "matches: [(11840699188806025751, 3, 4), (11840699188806025751, 3, 5)]\n"
          ],
          "name": "stdout"
        },
        {
          "output_type": "stream",
          "text": [
            "  2%|▏         | 77/4318 [00:00<00:52, 80.42it/s]"
          ],
          "name": "stderr"
        },
        {
          "output_type": "stream",
          "text": [
            "matches: [(11840699188806025751, 4, 5)]\n",
            "matches: [(11840699188806025751, 1, 2), (11840699188806025751, 1, 3)]\n",
            "matches: [(11840699188806025751, 3, 4)]\n",
            "matches: [(11840699188806025751, 4, 5), (11840699188806025751, 4, 6), (11840699188806025751, 4, 7)]\n",
            "matches: [(11840699188806025751, 6, 7), (11840699188806025751, 6, 8)]\n",
            "matches: [(11840699188806025751, 8, 9), (11840699188806025751, 8, 10)]\n",
            "matches: [(11840699188806025751, 1, 2), (11840699188806025751, 1, 3)]\n",
            "matches: [(11840699188806025751, 4, 5)]\n",
            "matches: [(11840699188806025751, 4, 5), (11840699188806025751, 4, 6)]\n",
            "matches: [(11840699188806025751, 5, 6), (11840699188806025751, 5, 7)]\n",
            "matches: [(11840699188806025751, 1, 2)]\n",
            "matches: [(11840699188806025751, 3, 4)]\n",
            "matches: [(11840699188806025751, 2, 3), (11840699188806025751, 2, 4)]\n",
            "matches: [(11840699188806025751, 5, 6), (11840699188806025751, 5, 7)]\n",
            "matches: [(11840699188806025751, 4, 5)]\n",
            "matches: [(11840699188806025751, 4, 5)]\n",
            "matches: [(11840699188806025751, 10, 11)]\n"
          ],
          "name": "stdout"
        },
        {
          "output_type": "stream",
          "text": [
            "  2%|▏         | 96/4318 [00:01<00:50, 83.64it/s]"
          ],
          "name": "stderr"
        },
        {
          "output_type": "stream",
          "text": [
            "matches: [(11840699188806025751, 2, 3)]\n",
            "matches: [(11840699188806025751, 3, 4)]\n",
            "matches: [(11840699188806025751, 3, 4)]\n",
            "matches: [(11840699188806025751, 1, 2)]\n",
            "matches: [(11840699188806025751, 3, 4)]\n",
            "matches: [(11840699188806025751, 1, 2)]\n",
            "matches: [(11840699188806025751, 1, 2)]\n",
            "matches: [(11840699188806025751, 4, 5), (11840699188806025751, 4, 6)]\n",
            "matches: [(11840699188806025751, 7, 8), (11840699188806025751, 7, 9)]\n",
            "matches: [(11840699188806025751, 2, 3)]\n",
            "matches: [(11840699188806025751, 1, 2)]\n",
            "matches: [(11840699188806025751, 3, 4)]\n",
            "matches: [(11840699188806025751, 5, 6)]\n",
            "matches: [(11840699188806025751, 2, 3), (11840699188806025751, 2, 4)]\n",
            "matches: [(11840699188806025751, 2, 3), (11840699188806025751, 2, 4)]\n",
            "matches: [(11840699188806025751, 2, 3)]\n",
            "matches: [(11840699188806025751, 1, 2)]\n",
            "matches: [(11840699188806025751, 1, 2)]\n"
          ],
          "name": "stdout"
        },
        {
          "output_type": "stream",
          "text": [
            "  3%|▎         | 114/4318 [00:01<00:51, 81.54it/s]"
          ],
          "name": "stderr"
        },
        {
          "output_type": "stream",
          "text": [
            "matches: [(11840699188806025751, 4, 5)]\n",
            "matches: [(11840699188806025751, 6, 7)]\n",
            "matches: [(11840699188806025751, 1, 2)]\n",
            "matches: [(11840699188806025751, 2, 3)]\n",
            "matches: [(11840699188806025751, 8, 9)]\n",
            "matches: [(11840699188806025751, 5, 6)]\n",
            "matches: [(11840699188806025751, 4, 5)]\n",
            "matches: [(11840699188806025751, 2, 3)]\n",
            "matches: [(11840699188806025751, 1, 2)]\n",
            "matches: [(11840699188806025751, 5, 6), (11840699188806025751, 5, 7), (11840699188806025751, 5, 8)]\n",
            "matches: [(11840699188806025751, 4, 5)]\n",
            "matches: [(11840699188806025751, 8, 9)]\n",
            "matches: [(11840699188806025751, 2, 3), (11840699188806025751, 2, 4)]\n",
            "matches: [(11840699188806025751, 1, 2)]\n",
            "matches: [(11840699188806025751, 3, 4)]\n",
            "matches: [(11840699188806025751, 5, 6), (11840699188806025751, 5, 7)]\n",
            "matches: [(11840699188806025751, 3, 4)]\n"
          ],
          "name": "stdout"
        },
        {
          "output_type": "stream",
          "text": [
            "  3%|▎         | 132/4318 [00:01<00:52, 80.24it/s]"
          ],
          "name": "stderr"
        },
        {
          "output_type": "stream",
          "text": [
            "matches: [(11840699188806025751, 3, 4)]\n",
            "matches: [(11840699188806025751, 2, 3), (11840699188806025751, 2, 4)]\n",
            "matches: [(11840699188806025751, 4, 5), (11840699188806025751, 4, 6)]\n",
            "matches: [(11840699188806025751, 7, 8)]\n",
            "matches: [(11840699188806025751, 3, 4)]\n",
            "matches: [(11840699188806025751, 5, 6)]\n",
            "matches: [(11840699188806025751, 1, 2)]\n",
            "matches: [(11840699188806025751, 1, 2)]\n",
            "matches: [(11840699188806025751, 1, 2)]\n",
            "matches: [(11840699188806025751, 4, 5), (11840699188806025751, 4, 6)]\n",
            "matches: [(11840699188806025751, 2, 3)]\n",
            "matches: [(11840699188806025751, 5, 6), (11840699188806025751, 5, 7)]\n",
            "matches: [(11840699188806025751, 7, 8)]\n",
            "matches: [(11840699188806025751, 2, 3), (11840699188806025751, 2, 4)]\n",
            "matches: [(11840699188806025751, 4, 5), (11840699188806025751, 4, 6)]\n",
            "matches: [(11840699188806025751, 0, 1), (11840699188806025751, 0, 2)]\n",
            "matches: [(11840699188806025751, 3, 4)]\n"
          ],
          "name": "stdout"
        },
        {
          "output_type": "stream",
          "text": [
            "  3%|▎         | 150/4318 [00:01<00:51, 81.66it/s]"
          ],
          "name": "stderr"
        },
        {
          "output_type": "stream",
          "text": [
            "matches: [(11840699188806025751, 2, 3), (11840699188806025751, 2, 4)]\n",
            "matches: [(11840699188806025751, 3, 4), (11840699188806025751, 3, 5)]\n",
            "matches: [(11840699188806025751, 5, 6), (11840699188806025751, 5, 7)]\n",
            "matches: [(11840699188806025751, 8, 9), (11840699188806025751, 8, 10)]\n",
            "matches: [(11840699188806025751, 4, 5), (11840699188806025751, 4, 6), (11840699188806025751, 4, 7)]\n",
            "matches: [(11840699188806025751, 8, 9), (11840699188806025751, 8, 10)]\n",
            "matches: [(11840699188806025751, 3, 4)]\n",
            "matches: [(11840699188806025751, 4, 5)]\n",
            "matches: [(11840699188806025751, 4, 5), (11840699188806025751, 4, 6)]\n",
            "matches: [(11840699188806025751, 3, 4)]\n",
            "matches: [(11840699188806025751, 11, 12)]\n",
            "matches: [(11840699188806025751, 1, 2)]\n",
            "matches: [(11840699188806025751, 4, 5)]\n",
            "matches: [(11840699188806025751, 3, 4)]\n",
            "matches: [(11840699188806025751, 0, 1)]\n",
            "matches: [(11840699188806025751, 4, 5)]\n",
            "matches: [(11840699188806025751, 3, 4)]\n",
            "matches: [(11840699188806025751, 2, 3)]\n"
          ],
          "name": "stdout"
        },
        {
          "output_type": "stream",
          "text": [
            "  4%|▍         | 169/4318 [00:02<00:48, 86.13it/s]"
          ],
          "name": "stderr"
        },
        {
          "output_type": "stream",
          "text": [
            "matches: [(11840699188806025751, 7, 8)]\n",
            "matches: [(11840699188806025751, 2, 3), (11840699188806025751, 2, 4)]\n",
            "matches: [(11840699188806025751, 4, 5), (11840699188806025751, 4, 6)]\n",
            "matches: [(11840699188806025751, 0, 1), (11840699188806025751, 0, 2)]\n",
            "matches: [(11840699188806025751, 3, 4)]\n",
            "matches: [(11840699188806025751, 2, 3), (11840699188806025751, 2, 4)]\n",
            "matches: [(11840699188806025751, 3, 4), (11840699188806025751, 3, 5)]\n",
            "matches: [(11840699188806025751, 5, 6), (11840699188806025751, 5, 7)]\n",
            "matches: [(11840699188806025751, 8, 9), (11840699188806025751, 8, 10)]\n",
            "matches: [(11840699188806025751, 4, 5), (11840699188806025751, 4, 6), (11840699188806025751, 4, 7)]\n",
            "matches: [(11840699188806025751, 8, 9), (11840699188806025751, 8, 10)]\n",
            "matches: [(11840699188806025751, 3, 4)]\n",
            "matches: [(11840699188806025751, 4, 5)]\n",
            "matches: [(11840699188806025751, 4, 5), (11840699188806025751, 4, 6)]\n",
            "matches: [(11840699188806025751, 3, 4)]\n",
            "matches: [(11840699188806025751, 11, 12)]\n",
            "matches: [(11840699188806025751, 1, 2)]\n",
            "matches: [(11840699188806025751, 4, 5)]\n",
            "matches: [(11840699188806025751, 3, 4)]\n"
          ],
          "name": "stdout"
        },
        {
          "output_type": "stream",
          "text": [
            "  4%|▍         | 187/4318 [00:02<00:51, 79.60it/s]"
          ],
          "name": "stderr"
        },
        {
          "output_type": "stream",
          "text": [
            "matches: [(11840699188806025751, 0, 1)]\n",
            "matches: [(11840699188806025751, 4, 5)]\n",
            "matches: [(11840699188806025751, 3, 4)]\n",
            "matches: [(11840699188806025751, 2, 3)]\n",
            "matches: [(11840699188806025751, 1, 2)]\n",
            "matches: [(11840699188806025751, 1, 2)]\n",
            "matches: [(11840699188806025751, 1, 2), (11840699188806025751, 1, 3)]\n",
            "matches: [(11840699188806025751, 1, 2)]\n",
            "matches: [(11840699188806025751, 2, 3)]\n",
            "matches: [(11840699188806025751, 1, 2), (11840699188806025751, 1, 3)]\n",
            "matches: [(11840699188806025751, 1, 2)]\n",
            "matches: [(11840699188806025751, 3, 4), (11840699188806025751, 3, 5)]\n",
            "matches: [(11840699188806025751, 5, 6)]\n",
            "matches: [(11840699188806025751, 5, 6), (11840699188806025751, 5, 7)]\n",
            "matches: [(11840699188806025751, 1, 2)]\n"
          ],
          "name": "stdout"
        },
        {
          "output_type": "stream",
          "text": [
            "  5%|▍         | 205/4318 [00:02<00:50, 81.38it/s]"
          ],
          "name": "stderr"
        },
        {
          "output_type": "stream",
          "text": [
            "matches: [(11840699188806025751, 2, 3)]\n",
            "matches: [(11840699188806025751, 1, 2)]\n",
            "matches: [(11840699188806025751, 1, 2), (11840699188806025751, 1, 3)]\n",
            "matches: [(11840699188806025751, 3, 4), (11840699188806025751, 3, 5)]\n",
            "matches: [(11840699188806025751, 2, 3)]\n",
            "matches: [(11840699188806025751, 1, 2)]\n",
            "matches: [(11840699188806025751, 1, 2)]\n",
            "matches: [(11840699188806025751, 2, 3), (11840699188806025751, 2, 4)]\n",
            "matches: [(11840699188806025751, 2, 3), (11840699188806025751, 2, 4)]\n",
            "matches: [(11840699188806025751, 2, 3)]\n",
            "matches: [(11840699188806025751, 3, 4), (11840699188806025751, 3, 5)]\n",
            "matches: [(11840699188806025751, 1, 2)]\n",
            "matches: [(11840699188806025751, 4, 5)]\n",
            "matches: [(11840699188806025751, 1, 2)]\n",
            "matches: [(11840699188806025751, 2, 3)]\n",
            "matches: [(11840699188806025751, 2, 3)]\n",
            "matches: [(11840699188806025751, 3, 4)]\n",
            "matches: [(11840699188806025751, 4, 5), (11840699188806025751, 4, 6)]\n"
          ],
          "name": "stdout"
        },
        {
          "output_type": "stream",
          "text": [
            "  5%|▌         | 223/4318 [00:02<00:49, 83.09it/s]"
          ],
          "name": "stderr"
        },
        {
          "output_type": "stream",
          "text": [
            "matches: [(11840699188806025751, 8, 9)]\n",
            "matches: [(11840699188806025751, 1, 2)]\n",
            "matches: [(11840699188806025751, 2, 3)]\n",
            "matches: [(11840699188806025751, 4, 5)]\n",
            "matches: [(11840699188806025751, 3, 4)]\n",
            "matches: [(11840699188806025751, 1, 2)]\n",
            "matches: [(11840699188806025751, 3, 4), (11840699188806025751, 3, 5)]\n",
            "matches: [(11840699188806025751, 1, 2)]\n",
            "matches: [(11840699188806025751, 1, 2)]\n",
            "matches: [(11840699188806025751, 1, 2)]\n",
            "matches: [(11840699188806025751, 2, 3)]\n",
            "matches: [(11840699188806025751, 3, 4)]\n",
            "matches: [(11840699188806025751, 7, 8)]\n",
            "matches: [(11840699188806025751, 3, 4)]\n",
            "matches: [(11840699188806025751, 1, 2), (11840699188806025751, 1, 3)]\n",
            "matches: [(11840699188806025751, 4, 5)]\n",
            "matches: [(11840699188806025751, 3, 4)]\n",
            "matches: [(11840699188806025751, 9, 10)]\n"
          ],
          "name": "stdout"
        },
        {
          "output_type": "stream",
          "text": [
            "  6%|▌         | 241/4318 [00:02<00:48, 83.63it/s]"
          ],
          "name": "stderr"
        },
        {
          "output_type": "stream",
          "text": [
            "matches: [(11840699188806025751, 2, 3)]\n",
            "matches: [(11840699188806025751, 3, 4), (11840699188806025751, 3, 5)]\n",
            "matches: [(11840699188806025751, 2, 3)]\n",
            "matches: [(11840699188806025751, 10, 11)]\n",
            "matches: [(11840699188806025751, 7, 8)]\n",
            "matches: [(11840699188806025751, 2, 3)]\n",
            "matches: [(11840699188806025751, 2, 3)]\n",
            "matches: [(11840699188806025751, 3, 4)]\n",
            "matches: [(11840699188806025751, 6, 7)]\n",
            "matches: [(11840699188806025751, 2, 3)]\n",
            "matches: [(11840699188806025751, 16, 17)]\n",
            "matches: [(11840699188806025751, 3, 4)]\n",
            "matches: [(11840699188806025751, 2, 3)]\n",
            "matches: [(11840699188806025751, 2, 3)]\n",
            "matches: [(11840699188806025751, 7, 8), (11840699188806025751, 7, 9)]\n",
            "matches: [(11840699188806025751, 4, 5)]\n",
            "matches: [(11840699188806025751, 13, 14)]\n",
            "matches: [(11840699188806025751, 7, 8), (11840699188806025751, 7, 9)]\n"
          ],
          "name": "stdout"
        },
        {
          "output_type": "stream",
          "text": [
            "  6%|▌         | 259/4318 [00:03<00:48, 82.91it/s]"
          ],
          "name": "stderr"
        },
        {
          "output_type": "stream",
          "text": [
            "matches: [(11840699188806025751, 0, 1)]\n",
            "matches: [(11840699188806025751, 3, 4)]\n",
            "matches: [(11840699188806025751, 2, 3)]\n",
            "matches: [(11840699188806025751, 2, 3)]\n",
            "matches: [(11840699188806025751, 5, 6)]\n",
            "matches: [(11840699188806025751, 3, 4)]\n",
            "matches: [(11840699188806025751, 2, 3)]\n",
            "matches: [(11840699188806025751, 14, 15)]\n",
            "matches: [(11840699188806025751, 4, 5)]\n",
            "matches: [(11840699188806025751, 8, 9), (11840699188806025751, 8, 10)]\n",
            "matches: [(11840699188806025751, 3, 4)]\n",
            "matches: [(11840699188806025751, 2, 3)]\n",
            "matches: [(11840699188806025751, 3, 4)]\n",
            "matches: [(11840699188806025751, 3, 4)]\n",
            "matches: [(11840699188806025751, 0, 1)]\n",
            "matches: [(11840699188806025751, 1, 2)]\n",
            "matches: [(11840699188806025751, 9, 10), (11840699188806025751, 9, 11)]\n"
          ],
          "name": "stdout"
        },
        {
          "output_type": "stream",
          "text": [
            "\r  6%|▌         | 268/4318 [00:03<00:53, 76.02it/s]"
          ],
          "name": "stderr"
        },
        {
          "output_type": "stream",
          "text": [
            "matches: [(11840699188806025751, 4, 5), (11840699188806025751, 4, 6), (11840699188806025751, 4, 7)]\n",
            "matches: [(11840699188806025751, 3, 4)]\n",
            "matches: [(11840699188806025751, 2, 3)]\n",
            "matches: [(11840699188806025751, 2, 3), (11840699188806025751, 2, 4)]\n",
            "matches: [(11840699188806025751, 1, 2)]\n",
            "matches: [(11840699188806025751, 1, 2)]\n",
            "matches: [(11840699188806025751, 2, 3), (11840699188806025751, 2, 4)]\n",
            "matches: [(11840699188806025751, 1, 2)]\n",
            "matches: [(11840699188806025751, 4, 5), (11840699188806025751, 4, 6)]\n",
            "matches: [(11840699188806025751, 1, 2)]\n",
            "matches: [(11840699188806025751, 1, 2)]\n",
            "matches: [(11840699188806025751, 1, 2), (11840699188806025751, 1, 3)]\n",
            "matches: [(11840699188806025751, 7, 8), (11840699188806025751, 7, 9)]\n",
            "matches: [(11840699188806025751, 4, 5), (11840699188806025751, 4, 6)]\n",
            "matches: [(11840699188806025751, 7, 8), (11840699188806025751, 7, 9)]\n",
            "matches: [(11840699188806025751, 9, 10)]\n"
          ],
          "name": "stdout"
        },
        {
          "output_type": "stream",
          "text": [
            "  7%|▋         | 286/4318 [00:03<00:50, 79.23it/s]"
          ],
          "name": "stderr"
        },
        {
          "output_type": "stream",
          "text": [
            "matches: [(11840699188806025751, 1, 2)]\n",
            "matches: [(11840699188806025751, 4, 5), (11840699188806025751, 4, 6)]\n",
            "matches: [(11840699188806025751, 4, 5), (11840699188806025751, 4, 6)]\n",
            "matches: [(11840699188806025751, 2, 3)]\n",
            "matches: [(11840699188806025751, 3, 4)]\n",
            "matches: [(11840699188806025751, 2, 3)]\n",
            "matches: [(11840699188806025751, 4, 5), (11840699188806025751, 4, 6)]\n",
            "matches: [(11840699188806025751, 4, 5), (11840699188806025751, 4, 6)]\n",
            "matches: [(11840699188806025751, 3, 4)]\n",
            "matches: [(11840699188806025751, 5, 6), (11840699188806025751, 5, 7)]\n",
            "matches: [(11840699188806025751, 8, 9)]\n",
            "matches: [(11840699188806025751, 3, 4)]\n",
            "matches: [(11840699188806025751, 8, 9), (11840699188806025751, 8, 10)]\n",
            "matches: [(11840699188806025751, 5, 6), (11840699188806025751, 5, 7)]\n",
            "matches: [(11840699188806025751, 3, 4)]\n",
            "matches: [(11840699188806025751, 7, 8), (11840699188806025751, 7, 9)]\n",
            "matches: [(11840699188806025751, 1, 2)]\n"
          ],
          "name": "stdout"
        },
        {
          "output_type": "stream",
          "text": [
            "  7%|▋         | 302/4318 [00:03<00:54, 73.16it/s]"
          ],
          "name": "stderr"
        },
        {
          "output_type": "stream",
          "text": [
            "matches: [(11840699188806025751, 2, 3), (11840699188806025751, 2, 4)]\n",
            "matches: [(11840699188806025751, 4, 5)]\n",
            "matches: [(11840699188806025751, 12, 13)]\n",
            "matches: [(11840699188806025751, 5, 6)]\n",
            "matches: [(11840699188806025751, 1, 2)]\n",
            "matches: [(11840699188806025751, 11, 12)]\n",
            "matches: [(11840699188806025751, 2, 3)]\n",
            "matches: [(11840699188806025751, 4, 5)]\n",
            "matches: [(11840699188806025751, 10, 11)]\n",
            "matches: [(11840699188806025751, 8, 9)]\n",
            "matches: [(11840699188806025751, 2, 3)]\n",
            "matches: [(11840699188806025751, 3, 4)]\n",
            "matches: [(11840699188806025751, 6, 7)]\n",
            "matches: [(11840699188806025751, 1, 2)]\n"
          ],
          "name": "stdout"
        },
        {
          "output_type": "stream",
          "text": [
            "  7%|▋         | 319/4318 [00:03<00:52, 75.70it/s]"
          ],
          "name": "stderr"
        },
        {
          "output_type": "stream",
          "text": [
            "matches: [(11840699188806025751, 1, 2)]\n",
            "matches: [(11840699188806025751, 1, 2)]\n",
            "matches: [(11840699188806025751, 3, 4), (11840699188806025751, 3, 5)]\n",
            "matches: [(11840699188806025751, 2, 3), (11840699188806025751, 2, 4), (11840699188806025751, 2, 5)]\n",
            "matches: [(11840699188806025751, 1, 2)]\n",
            "matches: [(11840699188806025751, 2, 3)]\n",
            "matches: [(11840699188806025751, 2, 3)]\n",
            "matches: [(11840699188806025751, 3, 4)]\n",
            "matches: [(11840699188806025751, 6, 7), (11840699188806025751, 6, 8)]\n",
            "matches: [(11840699188806025751, 4, 5), (11840699188806025751, 4, 6), (11840699188806025751, 4, 7)]\n",
            "matches: [(11840699188806025751, 1, 2)]\n",
            "matches: [(11840699188806025751, 5, 6), (11840699188806025751, 5, 7)]\n",
            "matches: [(11840699188806025751, 1, 2)]\n",
            "matches: [(11840699188806025751, 2, 3)]\n",
            "matches: [(11840699188806025751, 4, 5)]\n",
            "matches: [(11840699188806025751, 2, 3)]\n",
            "matches: [(11840699188806025751, 2, 3)]\n"
          ],
          "name": "stdout"
        },
        {
          "output_type": "stream",
          "text": [
            "  8%|▊         | 335/4318 [00:04<00:52, 75.27it/s]"
          ],
          "name": "stderr"
        },
        {
          "output_type": "stream",
          "text": [
            "matches: [(11840699188806025751, 5, 6), (11840699188806025751, 5, 7)]\n",
            "matches: [(11840699188806025751, 4, 5), (11840699188806025751, 4, 6), (11840699188806025751, 4, 7)]\n",
            "matches: [(11840699188806025751, 3, 4), (11840699188806025751, 3, 5)]\n",
            "matches: [(11840699188806025751, 1, 2)]\n",
            "matches: [(11840699188806025751, 1, 2)]\n",
            "matches: [(11840699188806025751, 2, 3)]\n",
            "matches: [(11840699188806025751, 4, 5)]\n",
            "matches: [(11840699188806025751, 2, 3)]\n",
            "matches: [(11840699188806025751, 2, 3)]\n",
            "matches: [(11840699188806025751, 5, 6), (11840699188806025751, 5, 7)]\n",
            "matches: [(11840699188806025751, 4, 5), (11840699188806025751, 4, 6), (11840699188806025751, 4, 7)]\n",
            "matches: [(11840699188806025751, 3, 4), (11840699188806025751, 3, 5)]\n",
            "matches: [(11840699188806025751, 1, 2)]\n",
            "matches: [(11840699188806025751, 1, 2), (11840699188806025751, 1, 3)]\n",
            "matches: [(11840699188806025751, 5, 6), (11840699188806025751, 9, 10), (11840699188806025751, 9, 11)]\n"
          ],
          "name": "stdout"
        },
        {
          "output_type": "stream",
          "text": [
            "  8%|▊         | 352/4318 [00:04<00:53, 73.90it/s]"
          ],
          "name": "stderr"
        },
        {
          "output_type": "stream",
          "text": [
            "matches: [(11840699188806025751, 2, 3)]\n",
            "matches: [(11840699188806025751, 3, 4)]\n",
            "matches: [(11840699188806025751, 2, 3)]\n",
            "matches: [(11840699188806025751, 3, 4), (11840699188806025751, 3, 5)]\n",
            "matches: [(11840699188806025751, 8, 9), (11840699188806025751, 8, 10)]\n",
            "matches: [(11840699188806025751, 3, 4)]\n",
            "matches: [(11840699188806025751, 4, 5), (11840699188806025751, 4, 6)]\n",
            "matches: [(11840699188806025751, 10, 11), (11840699188806025751, 10, 12)]\n",
            "matches: [(11840699188806025751, 4, 5), (11840699188806025751, 4, 6)]\n",
            "matches: [(11840699188806025751, 1, 2)]\n",
            "matches: [(11840699188806025751, 5, 6), (11840699188806025751, 5, 7)]\n",
            "matches: [(11840699188806025751, 2, 3)]\n",
            "matches: [(11840699188806025751, 5, 6)]\n",
            "matches: [(11840699188806025751, 4, 5), (11840699188806025751, 4, 6)]\n",
            "matches: [(11840699188806025751, 6, 7), (11840699188806025751, 6, 8), (11840699188806025751, 6, 9)]\n",
            "matches: [(11840699188806025751, 4, 5), (11840699188806025751, 4, 6)]\n"
          ],
          "name": "stdout"
        },
        {
          "output_type": "stream",
          "text": [
            "  9%|▊         | 369/4318 [00:04<00:51, 77.43it/s]"
          ],
          "name": "stderr"
        },
        {
          "output_type": "stream",
          "text": [
            "matches: [(11840699188806025751, 1, 2)]\n",
            "matches: [(11840699188806025751, 5, 6), (11840699188806025751, 5, 7)]\n",
            "matches: [(11840699188806025751, 1, 2)]\n",
            "matches: [(11840699188806025751, 2, 3), (11840699188806025751, 2, 4)]\n",
            "matches: [(11840699188806025751, 7, 8), (11840699188806025751, 7, 9)]\n",
            "matches: [(11840699188806025751, 2, 3)]\n",
            "matches: [(11840699188806025751, 4, 5), (11840699188806025751, 4, 6)]\n",
            "matches: [(11840699188806025751, 4, 5)]\n",
            "matches: [(11840699188806025751, 3, 4)]\n",
            "matches: [(11840699188806025751, 4, 5)]\n",
            "matches: [(11840699188806025751, 5, 6), (11840699188806025751, 10, 11)]\n",
            "matches: [(11840699188806025751, 2, 3)]\n",
            "matches: [(11840699188806025751, 5, 6), (11840699188806025751, 5, 7)]\n",
            "matches: [(11840699188806025751, 2, 3), (11840699188806025751, 2, 4)]\n",
            "matches: [(11840699188806025751, 1, 2)]\n",
            "matches: [(11840699188806025751, 8, 9), (11840699188806025751, 8, 10)]\n",
            "matches: [(11840699188806025751, 4, 5), (11840699188806025751, 4, 6)]\n"
          ],
          "name": "stdout"
        },
        {
          "output_type": "stream",
          "text": [
            "  9%|▉         | 386/4318 [00:04<00:50, 78.55it/s]"
          ],
          "name": "stderr"
        },
        {
          "output_type": "stream",
          "text": [
            "matches: [(11840699188806025751, 1, 2)]\n",
            "matches: [(11840699188806025751, 3, 4), (11840699188806025751, 3, 5)]\n",
            "matches: [(11840699188806025751, 2, 3)]\n",
            "matches: [(11840699188806025751, 2, 3)]\n",
            "matches: [(11840699188806025751, 1, 2)]\n",
            "matches: [(11840699188806025751, 1, 2)]\n",
            "matches: [(11840699188806025751, 1, 2)]\n",
            "matches: [(11840699188806025751, 7, 8), (11840699188806025751, 7, 9)]\n",
            "matches: [(11840699188806025751, 4, 5), (11840699188806025751, 4, 6)]\n",
            "matches: [(11840699188806025751, 3, 4)]\n",
            "matches: [(11840699188806025751, 1, 2)]\n",
            "matches: [(11840699188806025751, 9, 10), (11840699188806025751, 9, 11)]\n",
            "matches: [(11840699188806025751, 1, 2)]\n",
            "matches: [(11840699188806025751, 2, 3), (11840699188806025751, 2, 4)]\n",
            "matches: [(11840699188806025751, 4, 5)]\n",
            "matches: [(11840699188806025751, 4, 5), (11840699188806025751, 4, 6)]\n",
            "matches: [(11840699188806025751, 5, 6)]\n"
          ],
          "name": "stdout"
        },
        {
          "output_type": "stream",
          "text": [
            "  9%|▉         | 403/4318 [00:05<00:48, 80.48it/s]"
          ],
          "name": "stderr"
        },
        {
          "output_type": "stream",
          "text": [
            "matches: [(11840699188806025751, 4, 5), (11840699188806025751, 4, 6)]\n",
            "matches: [(11840699188806025751, 5, 6)]\n",
            "matches: [(11840699188806025751, 6, 7), (11840699188806025751, 6, 8)]\n",
            "matches: [(11840699188806025751, 1, 2)]\n",
            "matches: [(11840699188806025751, 1, 2)]\n",
            "matches: [(11840699188806025751, 1, 2)]\n",
            "matches: [(11840699188806025751, 2, 3), (11840699188806025751, 2, 4)]\n",
            "matches: [(11840699188806025751, 3, 4)]\n",
            "matches: [(11840699188806025751, 8, 9)]\n",
            "matches: [(11840699188806025751, 2, 3)]\n",
            "matches: [(11840699188806025751, 7, 8)]\n",
            "matches: [(11840699188806025751, 2, 3)]\n",
            "matches: [(11840699188806025751, 1, 2), (11840699188806025751, 1, 3)]\n",
            "matches: [(11840699188806025751, 1, 2)]\n",
            "matches: [(11840699188806025751, 1, 2)]\n",
            "matches: [(11840699188806025751, 3, 4)]\n",
            "matches: [(11840699188806025751, 2, 3)]\n",
            "matches: [(11840699188806025751, 3, 4)]\n"
          ],
          "name": "stdout"
        },
        {
          "output_type": "stream",
          "text": [
            " 10%|▉         | 421/4318 [00:05<00:49, 78.58it/s]"
          ],
          "name": "stderr"
        },
        {
          "output_type": "stream",
          "text": [
            "matches: [(11840699188806025751, 2, 3)]\n",
            "matches: [(11840699188806025751, 4, 5), (11840699188806025751, 4, 6)]\n",
            "matches: [(11840699188806025751, 8, 9)]\n",
            "matches: [(11840699188806025751, 2, 3)]\n",
            "matches: [(11840699188806025751, 1, 2)]\n",
            "matches: [(11840699188806025751, 4, 5)]\n",
            "matches: [(11840699188806025751, 3, 4)]\n",
            "matches: [(11840699188806025751, 3, 4), (11840699188806025751, 3, 5)]\n",
            "matches: [(11840699188806025751, 1, 2)]\n",
            "matches: [(11840699188806025751, 2, 3)]\n",
            "matches: [(11840699188806025751, 1, 2), (11840699188806025751, 3, 4)]\n",
            "matches: [(11840699188806025751, 3, 4), (11840699188806025751, 3, 5)]\n",
            "matches: [(11840699188806025751, 2, 3)]\n",
            "matches: [(11840699188806025751, 5, 6), (11840699188806025751, 5, 7)]\n",
            "matches: [(11840699188806025751, 2, 3)]\n",
            "matches: [(11840699188806025751, 5, 6)]\n"
          ],
          "name": "stdout"
        },
        {
          "output_type": "stream",
          "text": [
            " 10%|█         | 438/4318 [00:05<00:47, 80.86it/s]"
          ],
          "name": "stderr"
        },
        {
          "output_type": "stream",
          "text": [
            "matches: [(11840699188806025751, 6, 7)]\n",
            "matches: [(11840699188806025751, 2, 3)]\n",
            "matches: [(11840699188806025751, 1, 2)]\n",
            "matches: [(11840699188806025751, 6, 7), (11840699188806025751, 6, 8)]\n",
            "matches: [(11840699188806025751, 3, 4), (11840699188806025751, 3, 5)]\n",
            "matches: [(11840699188806025751, 2, 3), (11840699188806025751, 2, 4)]\n",
            "matches: [(11840699188806025751, 2, 3)]\n",
            "matches: [(11840699188806025751, 2, 3), (11840699188806025751, 2, 4)]\n",
            "matches: [(11840699188806025751, 5, 6)]\n",
            "matches: [(11840699188806025751, 2, 3), (11840699188806025751, 2, 4)]\n",
            "matches: [(11840699188806025751, 3, 4), (11840699188806025751, 3, 5)]\n",
            "matches: [(11840699188806025751, 3, 4)]\n",
            "matches: [(11840699188806025751, 3, 4)]\n",
            "matches: [(11840699188806025751, 1, 2)]\n",
            "matches: [(11840699188806025751, 6, 7), (11840699188806025751, 6, 8)]\n",
            "matches: [(11840699188806025751, 4, 5), (11840699188806025751, 4, 6)]\n",
            "matches: [(11840699188806025751, 6, 7), (11840699188806025751, 6, 8)]\n"
          ],
          "name": "stdout"
        },
        {
          "output_type": "stream",
          "text": [
            "\r 10%|█         | 447/4318 [00:05<00:49, 78.03it/s]"
          ],
          "name": "stderr"
        },
        {
          "output_type": "stream",
          "text": [
            "matches: [(11840699188806025751, 3, 4)]\n",
            "matches: [(11840699188806025751, 1, 2)]\n",
            "matches: [(11840699188806025751, 3, 4)]\n",
            "matches: [(11840699188806025751, 6, 7)]\n",
            "matches: [(11840699188806025751, 2, 3)]\n",
            "matches: [(11840699188806025751, 2, 3)]\n",
            "matches: [(11840699188806025751, 9, 10)]\n",
            "matches: [(11840699188806025751, 2, 3)]\n",
            "matches: [(11840699188806025751, 9, 10)]\n",
            "matches: [(11840699188806025751, 4, 5)]\n",
            "matches: [(11840699188806025751, 2, 3), (11840699188806025751, 2, 4)]\n",
            "matches: [(11840699188806025751, 10, 11)]\n",
            "matches: [(11840699188806025751, 4, 5)]\n",
            "matches: [(11840699188806025751, 8, 9)]\n",
            "matches: [(11840699188806025751, 10, 11)]\n"
          ],
          "name": "stdout"
        },
        {
          "output_type": "stream",
          "text": [
            " 11%|█         | 464/4318 [00:05<00:50, 76.25it/s]"
          ],
          "name": "stderr"
        },
        {
          "output_type": "stream",
          "text": [
            "matches: [(11840699188806025751, 32, 33)]\n",
            "matches: [(11840699188806025751, 4, 5), (11840699188806025751, 4, 6)]\n",
            "matches: [(11840699188806025751, 8, 9)]\n",
            "matches: [(11840699188806025751, 5, 6), (11840699188806025751, 5, 7)]\n",
            "matches: [(11840699188806025751, 3, 4)]\n",
            "matches: [(11840699188806025751, 2, 3)]\n",
            "matches: [(11840699188806025751, 4, 5)]\n",
            "matches: [(11840699188806025751, 10, 11)]\n",
            "matches: [(11840699188806025751, 4, 5), (11840699188806025751, 4, 6)]\n",
            "matches: [(11840699188806025751, 4, 5)]\n",
            "matches: [(11840699188806025751, 1, 2), (11840699188806025751, 1, 3)]\n",
            "matches: [(11840699188806025751, 2, 3), (11840699188806025751, 2, 4), (11840699188806025751, 2, 5)]\n",
            "matches: [(11840699188806025751, 4, 5)]\n",
            "matches: [(11840699188806025751, 2, 3)]\n",
            "matches: [(11840699188806025751, 3, 4)]\n",
            "matches: [(11840699188806025751, 3, 4), (11840699188806025751, 3, 5)]\n",
            "matches: [(11840699188806025751, 2, 3), (11840699188806025751, 2, 4), (11840699188806025751, 2, 5)]\n"
          ],
          "name": "stdout"
        },
        {
          "output_type": "stream",
          "text": [
            " 11%|█         | 482/4318 [00:06<00:47, 80.80it/s]"
          ],
          "name": "stderr"
        },
        {
          "output_type": "stream",
          "text": [
            "matches: [(11840699188806025751, 4, 5)]\n",
            "matches: [(11840699188806025751, 21, 22)]\n",
            "matches: [(11840699188806025751, 8, 9)]\n",
            "matches: [(11840699188806025751, 5, 6)]\n",
            "matches: [(11840699188806025751, 2, 3), (11840699188806025751, 2, 4)]\n",
            "matches: [(11840699188806025751, 15, 16)]\n",
            "matches: [(11840699188806025751, 4, 5), (11840699188806025751, 4, 6)]\n",
            "matches: [(11840699188806025751, 1, 2)]\n",
            "matches: [(11840699188806025751, 3, 4), (11840699188806025751, 3, 5), (11840699188806025751, 3, 6)]\n",
            "matches: [(11840699188806025751, 3, 4), (11840699188806025751, 3, 5)]\n",
            "matches: [(11840699188806025751, 2, 3), (11840699188806025751, 2, 4), (11840699188806025751, 2, 5)]\n",
            "matches: [(11840699188806025751, 4, 5)]\n",
            "matches: [(11840699188806025751, 21, 22)]\n",
            "matches: [(11840699188806025751, 8, 9)]\n",
            "matches: [(11840699188806025751, 5, 6)]\n",
            "matches: [(11840699188806025751, 2, 3), (11840699188806025751, 2, 4)]\n",
            "matches: [(11840699188806025751, 15, 16)]\n",
            "matches: [(11840699188806025751, 4, 5), (11840699188806025751, 4, 6)]\n"
          ],
          "name": "stdout"
        },
        {
          "output_type": "stream",
          "text": [
            " 12%|█▏        | 500/4318 [00:06<00:48, 79.32it/s]"
          ],
          "name": "stderr"
        },
        {
          "output_type": "stream",
          "text": [
            "matches: [(11840699188806025751, 1, 2)]\n",
            "matches: [(11840699188806025751, 3, 4), (11840699188806025751, 3, 5), (11840699188806025751, 3, 6)]\n",
            "matches: [(11840699188806025751, 5, 6), (11840699188806025751, 5, 7)]\n",
            "matches: [(11840699188806025751, 5, 6), (11840699188806025751, 5, 7)]\n",
            "matches: [(11840699188806025751, 10, 11), (11840699188806025751, 10, 12)]\n",
            "matches: [(11840699188806025751, 4, 5), (11840699188806025751, 4, 6)]\n",
            "matches: [(11840699188806025751, 1, 2)]\n",
            "matches: [(11840699188806025751, 4, 5)]\n",
            "matches: [(11840699188806025751, 1, 2)]\n",
            "matches: [(11840699188806025751, 5, 6), (11840699188806025751, 5, 7)]\n",
            "matches: [(11840699188806025751, 5, 6), (11840699188806025751, 5, 7)]\n",
            "matches: [(11840699188806025751, 10, 11), (11840699188806025751, 10, 12)]\n",
            "matches: [(11840699188806025751, 4, 5), (11840699188806025751, 4, 6)]\n",
            "matches: [(11840699188806025751, 1, 2)]\n",
            "matches: [(11840699188806025751, 4, 5)]\n",
            "matches: [(11840699188806025751, 1, 2)]\n",
            "matches: [(11840699188806025751, 3, 4)]\n"
          ],
          "name": "stdout"
        },
        {
          "output_type": "stream",
          "text": [
            " 12%|█▏        | 518/4318 [00:06<00:45, 83.86it/s]"
          ],
          "name": "stderr"
        },
        {
          "output_type": "stream",
          "text": [
            "matches: [(11840699188806025751, 2, 3)]\n",
            "matches: [(11840699188806025751, 3, 4)]\n",
            "matches: [(11840699188806025751, 3, 4), (11840699188806025751, 3, 5)]\n",
            "matches: [(11840699188806025751, 9, 10)]\n",
            "matches: [(11840699188806025751, 1, 2), (11840699188806025751, 1, 3)]\n",
            "matches: [(11840699188806025751, 3, 4), (11840699188806025751, 3, 5)]\n",
            "matches: [(11840699188806025751, 5, 6)]\n",
            "matches: [(11840699188806025751, 2, 3), (11840699188806025751, 2, 4)]\n",
            "matches: [(11840699188806025751, 1, 2), (11840699188806025751, 1, 3)]\n",
            "matches: [(11840699188806025751, 0, 1)]\n",
            "matches: [(11840699188806025751, 1, 2)]\n",
            "matches: [(11840699188806025751, 2, 3)]\n",
            "matches: [(11840699188806025751, 1, 2)]\n",
            "matches: [(11840699188806025751, 3, 4)]\n",
            "matches: [(11840699188806025751, 2, 3), (11840699188806025751, 2, 4)]\n",
            "matches: [(11840699188806025751, 3, 4), (11840699188806025751, 3, 5)]\n",
            "matches: [(11840699188806025751, 5, 6)]\n",
            "matches: [(11840699188806025751, 3, 4)]\n"
          ],
          "name": "stdout"
        },
        {
          "output_type": "stream",
          "text": [
            " 12%|█▏        | 536/4318 [00:06<00:45, 83.45it/s]"
          ],
          "name": "stderr"
        },
        {
          "output_type": "stream",
          "text": [
            "matches: [(11840699188806025751, 4, 5)]\n",
            "matches: [(11840699188806025751, 9, 10)]\n",
            "matches: [(11840699188806025751, 3, 4)]\n",
            "matches: [(11840699188806025751, 3, 4)]\n",
            "matches: [(11840699188806025751, 6, 7), (11840699188806025751, 6, 8)]\n",
            "matches: [(11840699188806025751, 10, 11)]\n",
            "matches: [(11840699188806025751, 5, 6)]\n",
            "matches: [(11840699188806025751, 5, 6)]\n",
            "matches: [(11840699188806025751, 8, 9)]\n",
            "matches: [(11840699188806025751, 1, 2), (11840699188806025751, 1, 3)]\n",
            "matches: [(11840699188806025751, 2, 3)]\n",
            "matches: [(11840699188806025751, 5, 6), (11840699188806025751, 5, 7)]\n",
            "matches: [(11840699188806025751, 1, 2)]\n",
            "matches: [(11840699188806025751, 3, 4), (11840699188806025751, 3, 5)]\n",
            "matches: [(11840699188806025751, 3, 4), (11840699188806025751, 3, 5)]\n",
            "matches: [(11840699188806025751, 4, 5)]\n",
            "matches: [(11840699188806025751, 4, 5), (11840699188806025751, 4, 6)]\n"
          ],
          "name": "stdout"
        },
        {
          "output_type": "stream",
          "text": [
            " 13%|█▎        | 554/4318 [00:06<00:45, 83.33it/s]"
          ],
          "name": "stderr"
        },
        {
          "output_type": "stream",
          "text": [
            "matches: [(11840699188806025751, 3, 4)]\n",
            "matches: [(11840699188806025751, 9, 10)]\n",
            "matches: [(11840699188806025751, 4, 5), (11840699188806025751, 4, 6)]\n",
            "matches: [(11840699188806025751, 2, 3), (11840699188806025751, 4, 5)]\n",
            "matches: [(11840699188806025751, 5, 6)]\n",
            "matches: [(11840699188806025751, 5, 6)]\n",
            "matches: [(11840699188806025751, 4, 5)]\n",
            "matches: [(11840699188806025751, 2, 3)]\n",
            "matches: [(11840699188806025751, 3, 4), (11840699188806025751, 3, 5)]\n",
            "matches: [(11840699188806025751, 2, 3), (11840699188806025751, 2, 4)]\n",
            "matches: [(11840699188806025751, 2, 3), (11840699188806025751, 2, 4)]\n",
            "matches: [(11840699188806025751, 1, 2)]\n",
            "matches: [(11840699188806025751, 2, 3)]\n",
            "matches: [(11840699188806025751, 5, 6)]\n",
            "matches: [(11840699188806025751, 1, 2)]\n",
            "matches: [(11840699188806025751, 2, 3)]\n",
            "matches: [(11840699188806025751, 3, 4)]\n",
            "matches: [(11840699188806025751, 1, 2)]\n"
          ],
          "name": "stdout"
        },
        {
          "output_type": "stream",
          "text": [
            " 13%|█▎        | 574/4318 [00:07<00:42, 87.93it/s]"
          ],
          "name": "stderr"
        },
        {
          "output_type": "stream",
          "text": [
            "matches: [(11840699188806025751, 1, 2)]\n",
            "matches: [(11840699188806025751, 2, 3)]\n",
            "matches: [(11840699188806025751, 7, 8)]\n",
            "matches: [(11840699188806025751, 1, 2)]\n",
            "matches: [(11840699188806025751, 4, 5), (11840699188806025751, 4, 6)]\n",
            "matches: [(11840699188806025751, 1, 2)]\n",
            "matches: [(11840699188806025751, 1, 2)]\n",
            "matches: [(11840699188806025751, 1, 2)]\n",
            "matches: [(11840699188806025751, 2, 3)]\n",
            "matches: [(11840699188806025751, 6, 7)]\n",
            "matches: [(11840699188806025751, 3, 4)]\n",
            "matches: [(11840699188806025751, 3, 4)]\n",
            "matches: [(11840699188806025751, 3, 4)]\n",
            "matches: [(11840699188806025751, 8, 9)]\n",
            "matches: [(11840699188806025751, 4, 5)]\n",
            "matches: [(11840699188806025751, 1, 2)]\n",
            "matches: [(11840699188806025751, 3, 4), (11840699188806025751, 3, 5)]\n",
            "matches: [(11840699188806025751, 3, 4)]\n",
            "matches: [(11840699188806025751, 5, 6)]\n"
          ],
          "name": "stdout"
        },
        {
          "output_type": "stream",
          "text": [
            " 14%|█▎        | 593/4318 [00:07<00:41, 89.74it/s]"
          ],
          "name": "stderr"
        },
        {
          "output_type": "stream",
          "text": [
            "matches: [(11840699188806025751, 3, 4), (11840699188806025751, 3, 5)]\n",
            "matches: [(11840699188806025751, 4, 5), (11840699188806025751, 4, 6)]\n",
            "matches: [(11840699188806025751, 3, 4)]\n",
            "matches: [(11840699188806025751, 3, 4), (11840699188806025751, 3, 5)]\n",
            "matches: [(11840699188806025751, 3, 4), (11840699188806025751, 3, 5)]\n",
            "matches: [(11840699188806025751, 3, 4), (11840699188806025751, 3, 5)]\n",
            "matches: [(11840699188806025751, 3, 4), (11840699188806025751, 3, 5)]\n",
            "matches: [(11840699188806025751, 3, 4), (11840699188806025751, 3, 5)]\n",
            "matches: [(11840699188806025751, 4, 5)]\n",
            "matches: [(11840699188806025751, 4, 5)]\n",
            "matches: [(11840699188806025751, 3, 4), (11840699188806025751, 3, 5)]\n",
            "matches: [(11840699188806025751, 3, 4), (11840699188806025751, 3, 5)]\n",
            "matches: [(11840699188806025751, 10, 11)]\n",
            "matches: [(11840699188806025751, 3, 4), (11840699188806025751, 3, 5)]\n",
            "matches: [(11840699188806025751, 3, 4), (11840699188806025751, 3, 5)]\n",
            "matches: [(11840699188806025751, 6, 7), (11840699188806025751, 6, 8)]\n",
            "matches: [(11840699188806025751, 2, 3), (11840699188806025751, 2, 4)]\n",
            "matches: [(11840699188806025751, 3, 4), (11840699188806025751, 3, 5)]\n",
            "matches: [(11840699188806025751, 10, 11)]\n"
          ],
          "name": "stdout"
        },
        {
          "output_type": "stream",
          "text": [
            " 14%|█▍        | 612/4318 [00:07<00:41, 89.45it/s]"
          ],
          "name": "stderr"
        },
        {
          "output_type": "stream",
          "text": [
            "matches: [(11840699188806025751, 1, 2)]\n",
            "matches: [(11840699188806025751, 6, 7), (11840699188806025751, 6, 8)]\n",
            "matches: [(11840699188806025751, 6, 7)]\n",
            "matches: [(11840699188806025751, 9, 10)]\n",
            "matches: [(11840699188806025751, 8, 9)]\n",
            "matches: [(11840699188806025751, 1, 2)]\n",
            "matches: [(11840699188806025751, 5, 6), (11840699188806025751, 5, 7)]\n",
            "matches: [(11840699188806025751, 1, 2)]\n",
            "matches: [(11840699188806025751, 8, 9)]\n",
            "matches: [(11840699188806025751, 1, 2)]\n",
            "matches: [(11840699188806025751, 11, 12), (11840699188806025751, 11, 13)]\n",
            "matches: [(11840699188806025751, 3, 4), (11840699188806025751, 3, 5)]\n",
            "matches: [(11840699188806025751, 3, 4)]\n",
            "matches: [(11840699188806025751, 7, 8), (11840699188806025751, 7, 9)]\n",
            "matches: [(11840699188806025751, 2, 3)]\n",
            "matches: [(11840699188806025751, 2, 3), (11840699188806025751, 2, 4)]\n",
            "matches: [(11840699188806025751, 3, 4), (11840699188806025751, 3, 5)]\n",
            "matches: [(11840699188806025751, 1, 2)]\n",
            "matches: [(11840699188806025751, 3, 4), (11840699188806025751, 3, 5)]\n"
          ],
          "name": "stdout"
        },
        {
          "output_type": "stream",
          "text": [
            " 15%|█▍        | 632/4318 [00:07<00:42, 86.39it/s]"
          ],
          "name": "stderr"
        },
        {
          "output_type": "stream",
          "text": [
            "matches: [(11840699188806025751, 2, 3), (11840699188806025751, 2, 4)]\n",
            "matches: [(11840699188806025751, 3, 4), (11840699188806025751, 3, 5)]\n",
            "matches: [(11840699188806025751, 4, 5)]\n",
            "matches: [(11840699188806025751, 3, 4), (11840699188806025751, 3, 5)]\n",
            "matches: [(11840699188806025751, 1, 2)]\n",
            "matches: [(11840699188806025751, 2, 3)]\n",
            "matches: [(11840699188806025751, 1, 2)]\n",
            "matches: [(11840699188806025751, 6, 7)]\n",
            "matches: [(11840699188806025751, 9, 10)]\n",
            "matches: [(11840699188806025751, 8, 9)]\n",
            "matches: [(11840699188806025751, 1, 2)]\n",
            "matches: [(11840699188806025751, 5, 6), (11840699188806025751, 5, 7)]\n",
            "matches: [(11840699188806025751, 1, 2)]\n",
            "matches: [(11840699188806025751, 8, 9)]\n",
            "matches: [(11840699188806025751, 1, 2)]\n",
            "matches: [(11840699188806025751, 11, 12), (11840699188806025751, 11, 13)]\n",
            "matches: [(11840699188806025751, 3, 4), (11840699188806025751, 3, 5)]\n"
          ],
          "name": "stdout"
        },
        {
          "output_type": "stream",
          "text": [
            " 15%|█▌        | 651/4318 [00:08<00:42, 86.05it/s]"
          ],
          "name": "stderr"
        },
        {
          "output_type": "stream",
          "text": [
            "matches: [(11840699188806025751, 3, 4)]\n",
            "matches: [(11840699188806025751, 7, 8), (11840699188806025751, 7, 9)]\n",
            "matches: [(11840699188806025751, 2, 3)]\n",
            "matches: [(11840699188806025751, 2, 3), (11840699188806025751, 2, 4)]\n",
            "matches: [(11840699188806025751, 3, 4), (11840699188806025751, 3, 5)]\n",
            "matches: [(11840699188806025751, 1, 2)]\n",
            "matches: [(11840699188806025751, 3, 4), (11840699188806025751, 3, 5)]\n",
            "matches: [(11840699188806025751, 2, 3), (11840699188806025751, 2, 4)]\n",
            "matches: [(11840699188806025751, 3, 4), (11840699188806025751, 3, 5)]\n",
            "matches: [(11840699188806025751, 4, 5)]\n",
            "matches: [(11840699188806025751, 3, 4), (11840699188806025751, 3, 5)]\n",
            "matches: [(11840699188806025751, 1, 2)]\n",
            "matches: [(11840699188806025751, 2, 3)]\n",
            "matches: [(11840699188806025751, 1, 2)]\n",
            "matches: [(11840699188806025751, 3, 4)]\n",
            "matches: [(11840699188806025751, 14, 15)]\n",
            "matches: [(11840699188806025751, 2, 3)]\n",
            "matches: [(11840699188806025751, 1, 2)]\n"
          ],
          "name": "stdout"
        },
        {
          "output_type": "stream",
          "text": [
            "\r 15%|█▌        | 660/4318 [00:08<00:43, 84.39it/s]"
          ],
          "name": "stderr"
        },
        {
          "output_type": "stream",
          "text": [
            "matches: [(11840699188806025751, 8, 9)]\n",
            "matches: [(11840699188806025751, 6, 7), (11840699188806025751, 6, 8)]\n",
            "matches: [(11840699188806025751, 8, 9), (11840699188806025751, 8, 10)]\n",
            "matches: [(11840699188806025751, 3, 4)]\n",
            "matches: [(11840699188806025751, 3, 4)]\n",
            "matches: [(11840699188806025751, 14, 15)]\n",
            "matches: [(11840699188806025751, 2, 3)]\n",
            "matches: [(11840699188806025751, 1, 2)]\n",
            "matches: [(11840699188806025751, 8, 9)]\n",
            "matches: [(11840699188806025751, 6, 7), (11840699188806025751, 6, 8)]\n",
            "matches: [(11840699188806025751, 8, 9), (11840699188806025751, 8, 10)]\n",
            "matches: [(11840699188806025751, 3, 4)]\n",
            "matches: [(11840699188806025751, 2, 3)]\n",
            "matches: [(11840699188806025751, 4, 5)]\n",
            "matches: [(11840699188806025751, 5, 6), (11840699188806025751, 5, 7)]\n",
            "matches: [(11840699188806025751, 1, 2), (11840699188806025751, 1, 3)]\n",
            "matches: [(11840699188806025751, 4, 5)]\n"
          ],
          "name": "stdout"
        },
        {
          "output_type": "stream",
          "text": [
            " 16%|█▌        | 678/4318 [00:08<00:43, 84.50it/s]"
          ],
          "name": "stderr"
        },
        {
          "output_type": "stream",
          "text": [
            "matches: [(11840699188806025751, 4, 5), (11840699188806025751, 4, 6), (11840699188806025751, 4, 7)]\n",
            "matches: [(11840699188806025751, 2, 3), (11840699188806025751, 2, 4)]\n",
            "matches: [(11840699188806025751, 3, 4)]\n",
            "matches: [(11840699188806025751, 4, 5), (11840699188806025751, 4, 6)]\n",
            "matches: [(11840699188806025751, 5, 6), (11840699188806025751, 5, 7), (11840699188806025751, 10, 11)]\n",
            "matches: [(11840699188806025751, 12, 13)]\n",
            "matches: [(11840699188806025751, 7, 8), (11840699188806025751, 7, 9)]\n",
            "matches: [(11840699188806025751, 2, 3)]\n",
            "matches: [(11840699188806025751, 4, 5), (11840699188806025751, 4, 6)]\n",
            "matches: [(11840699188806025751, 15, 16), (11840699188806025751, 15, 17)]\n",
            "matches: [(11840699188806025751, 2, 3)]\n",
            "matches: [(11840699188806025751, 4, 5), (11840699188806025751, 4, 6)]\n",
            "matches: [(11840699188806025751, 1, 2), (11840699188806025751, 1, 3)]\n",
            "matches: [(11840699188806025751, 5, 6)]\n",
            "matches: [(11840699188806025751, 6, 7)]\n",
            "matches: [(11840699188806025751, 9, 10)]\n",
            "matches: [(11840699188806025751, 1, 2)]\n",
            "matches: [(11840699188806025751, 6, 7)]\n",
            "matches: [(11840699188806025751, 7, 8)]\n"
          ],
          "name": "stdout"
        },
        {
          "output_type": "stream",
          "text": [
            " 16%|█▌        | 697/4318 [00:08<00:42, 85.56it/s]"
          ],
          "name": "stderr"
        },
        {
          "output_type": "stream",
          "text": [
            "matches: [(11840699188806025751, 1, 2)]\n",
            "matches: [(11840699188806025751, 2, 3)]\n",
            "matches: [(11840699188806025751, 3, 4), (11840699188806025751, 3, 5), (11840699188806025751, 3, 6)]\n",
            "matches: [(11840699188806025751, 5, 6), (11840699188806025751, 5, 7)]\n",
            "matches: [(11840699188806025751, 8, 9)]\n",
            "matches: [(11840699188806025751, 2, 3), (11840699188806025751, 2, 4), (11840699188806025751, 2, 5)]\n",
            "matches: [(11840699188806025751, 4, 5)]\n",
            "matches: [(11840699188806025751, 2, 3), (11840699188806025751, 2, 4)]\n",
            "matches: [(11840699188806025751, 5, 6)]\n",
            "matches: [(11840699188806025751, 5, 6)]\n",
            "matches: [(11840699188806025751, 5, 6)]\n",
            "matches: [(11840699188806025751, 2, 3), (11840699188806025751, 2, 4)]\n",
            "matches: [(11840699188806025751, 9, 10), (11840699188806025751, 9, 11)]\n",
            "matches: [(11840699188806025751, 1, 2)]\n",
            "matches: [(11840699188806025751, 6, 7)]\n",
            "matches: [(11840699188806025751, 5, 6), (11840699188806025751, 5, 7)]\n",
            "matches: [(11840699188806025751, 1, 2)]\n",
            "matches: [(11840699188806025751, 3, 4)]\n"
          ],
          "name": "stdout"
        },
        {
          "output_type": "stream",
          "text": [
            " 17%|█▋        | 715/4318 [00:08<00:41, 86.66it/s]"
          ],
          "name": "stderr"
        },
        {
          "output_type": "stream",
          "text": [
            "matches: [(11840699188806025751, 3, 4)]\n",
            "matches: [(11840699188806025751, 3, 4), (11840699188806025751, 3, 5)]\n",
            "matches: [(11840699188806025751, 2, 3)]\n",
            "matches: [(11840699188806025751, 1, 2)]\n",
            "matches: [(11840699188806025751, 7, 8)]\n",
            "matches: [(11840699188806025751, 2, 3)]\n",
            "matches: [(11840699188806025751, 2, 3)]\n",
            "matches: [(11840699188806025751, 4, 5), (11840699188806025751, 4, 6)]\n",
            "matches: [(11840699188806025751, 2, 3)]\n",
            "matches: [(11840699188806025751, 7, 8), (11840699188806025751, 7, 9)]\n",
            "matches: [(11840699188806025751, 4, 5), (11840699188806025751, 4, 6)]\n",
            "matches: [(11840699188806025751, 3, 4)]\n",
            "matches: [(11840699188806025751, 5, 6)]\n",
            "matches: [(11840699188806025751, 1, 2)]\n",
            "matches: [(11840699188806025751, 1, 2), (11840699188806025751, 1, 3)]\n",
            "matches: [(11840699188806025751, 1, 2)]\n",
            "matches: [(11840699188806025751, 7, 8)]\n",
            "matches: [(11840699188806025751, 3, 4), (11840699188806025751, 3, 5)]\n"
          ],
          "name": "stdout"
        },
        {
          "output_type": "stream",
          "text": [
            " 17%|█▋        | 733/4318 [00:08<00:41, 87.37it/s]"
          ],
          "name": "stderr"
        },
        {
          "output_type": "stream",
          "text": [
            "matches: [(11840699188806025751, 3, 4)]\n",
            "matches: [(11840699188806025751, 8, 9)]\n",
            "matches: [(11840699188806025751, 4, 5), (11840699188806025751, 4, 6)]\n",
            "matches: [(11840699188806025751, 5, 6)]\n",
            "matches: [(11840699188806025751, 4, 5)]\n",
            "matches: [(11840699188806025751, 1, 2)]\n",
            "matches: [(11840699188806025751, 2, 3), (11840699188806025751, 2, 4)]\n",
            "matches: [(11840699188806025751, 6, 7)]\n",
            "matches: [(11840699188806025751, 2, 3)]\n",
            "matches: [(11840699188806025751, 6, 7), (11840699188806025751, 6, 8)]\n",
            "matches: [(11840699188806025751, 2, 3), (11840699188806025751, 2, 4)]\n",
            "matches: [(11840699188806025751, 4, 5)]\n",
            "matches: [(11840699188806025751, 8, 9), (11840699188806025751, 8, 10)]\n",
            "matches: [(11840699188806025751, 4, 5), (11840699188806025751, 4, 6)]\n",
            "matches: [(11840699188806025751, 8, 9)]\n",
            "matches: [(11840699188806025751, 3, 4), (11840699188806025751, 3, 5)]\n",
            "matches: [(11840699188806025751, 3, 4)]\n",
            "matches: [(11840699188806025751, 2, 3)]\n",
            "matches: [(11840699188806025751, 1, 2)]\n"
          ],
          "name": "stdout"
        },
        {
          "output_type": "stream",
          "text": [
            " 17%|█▋        | 752/4318 [00:09<00:40, 87.05it/s]"
          ],
          "name": "stderr"
        },
        {
          "output_type": "stream",
          "text": [
            "matches: [(11840699188806025751, 1, 2)]\n",
            "matches: [(11840699188806025751, 2, 3)]\n",
            "matches: [(11840699188806025751, 3, 4)]\n",
            "matches: [(11840699188806025751, 4, 5)]\n",
            "matches: [(11840699188806025751, 5, 6)]\n",
            "matches: [(11840699188806025751, 4, 5)]\n",
            "matches: [(11840699188806025751, 3, 4)]\n",
            "matches: [(11840699188806025751, 8, 9)]\n",
            "matches: [(11840699188806025751, 5, 6)]\n",
            "matches: [(11840699188806025751, 3, 4)]\n",
            "matches: [(11840699188806025751, 4, 5)]\n",
            "matches: [(11840699188806025751, 4, 5)]\n",
            "matches: [(11840699188806025751, 7, 8)]\n",
            "matches: [(11840699188806025751, 4, 5)]\n",
            "matches: [(11840699188806025751, 4, 5), (11840699188806025751, 4, 6)]\n",
            "matches: [(11840699188806025751, 1, 2)]\n",
            "matches: [(11840699188806025751, 10, 11)]\n",
            "matches: [(11840699188806025751, 4, 5)]\n"
          ],
          "name": "stdout"
        },
        {
          "output_type": "stream",
          "text": [
            " 18%|█▊        | 771/4318 [00:09<00:41, 85.06it/s]"
          ],
          "name": "stderr"
        },
        {
          "output_type": "stream",
          "text": [
            "matches: [(11840699188806025751, 7, 8), (11840699188806025751, 7, 9)]\n",
            "matches: [(11840699188806025751, 5, 6)]\n",
            "matches: [(11840699188806025751, 4, 5), (11840699188806025751, 4, 6)]\n",
            "matches: [(11840699188806025751, 3, 4), (11840699188806025751, 3, 5)]\n",
            "matches: [(11840699188806025751, 3, 4), (11840699188806025751, 3, 5), (11840699188806025751, 8, 9), (11840699188806025751, 8, 10)]\n",
            "matches: [(11840699188806025751, 6, 7)]\n",
            "matches: [(11840699188806025751, 3, 4), (11840699188806025751, 3, 5), (11840699188806025751, 3, 6)]\n",
            "matches: [(11840699188806025751, 1, 2)]\n",
            "matches: [(11840699188806025751, 2, 3)]\n",
            "matches: [(11840699188806025751, 3, 4), (11840699188806025751, 3, 5), (11840699188806025751, 3, 6)]\n",
            "matches: [(11840699188806025751, 3, 4)]\n",
            "matches: [(11840699188806025751, 3, 4), (11840699188806025751, 3, 5)]\n",
            "matches: [(11840699188806025751, 8, 9), (11840699188806025751, 8, 10)]\n",
            "matches: [(11840699188806025751, 2, 3)]\n",
            "matches: [(11840699188806025751, 2, 3)]\n",
            "matches: [(11840699188806025751, 2, 3)]\n",
            "matches: [(11840699188806025751, 3, 4), (11840699188806025751, 3, 5)]\n",
            "matches: [(11840699188806025751, 3, 4)]\n"
          ],
          "name": "stdout"
        },
        {
          "output_type": "stream",
          "text": [
            " 18%|█▊        | 789/4318 [00:09<00:41, 85.56it/s]"
          ],
          "name": "stderr"
        },
        {
          "output_type": "stream",
          "text": [
            "matches: [(11840699188806025751, 8, 9), (11840699188806025751, 8, 10)]\n",
            "matches: [(11840699188806025751, 2, 3)]\n",
            "matches: [(11840699188806025751, 2, 3)]\n",
            "matches: [(11840699188806025751, 2, 3)]\n",
            "matches: [(11840699188806025751, 3, 4), (11840699188806025751, 3, 5)]\n",
            "matches: [(11840699188806025751, 3, 4)]\n",
            "matches: [(11840699188806025751, 1, 2)]\n",
            "matches: [(11840699188806025751, 35, 36), (11840699188806025751, 35, 37)]\n",
            "matches: [(11840699188806025751, 1, 2)]\n",
            "matches: [(11840699188806025751, 2, 3)]\n",
            "matches: [(11840699188806025751, 4, 5)]\n",
            "matches: [(11840699188806025751, 2, 3)]\n",
            "matches: [(11840699188806025751, 1, 2)]\n",
            "matches: [(11840699188806025751, 2, 3)]\n",
            "matches: [(11840699188806025751, 2, 3), (11840699188806025751, 2, 4)]\n",
            "matches: [(11840699188806025751, 5, 6)]\n",
            "matches: [(11840699188806025751, 3, 4)]\n",
            "matches: [(11840699188806025751, 1, 2)]\n"
          ],
          "name": "stdout"
        },
        {
          "output_type": "stream",
          "text": [
            " 19%|█▊        | 808/4318 [00:09<00:39, 87.76it/s]"
          ],
          "name": "stderr"
        },
        {
          "output_type": "stream",
          "text": [
            "matches: [(11840699188806025751, 2, 3)]\n",
            "matches: [(11840699188806025751, 1, 2)]\n",
            "matches: [(11840699188806025751, 9, 10)]\n",
            "matches: [(11840699188806025751, 5, 6), (11840699188806025751, 5, 7)]\n",
            "matches: [(11840699188806025751, 3, 4)]\n",
            "matches: [(11840699188806025751, 7, 8)]\n",
            "matches: [(11840699188806025751, 0, 1)]\n",
            "matches: [(11840699188806025751, 4, 5)]\n",
            "matches: [(11840699188806025751, 2, 3)]\n",
            "matches: [(11840699188806025751, 4, 5)]\n",
            "matches: [(11840699188806025751, 5, 6), (11840699188806025751, 5, 7)]\n",
            "matches: [(11840699188806025751, 3, 4), (11840699188806025751, 11, 12)]\n",
            "matches: [(11840699188806025751, 5, 6)]\n",
            "matches: [(11840699188806025751, 1, 2)]\n",
            "matches: [(11840699188806025751, 6, 7)]\n",
            "matches: [(11840699188806025751, 12, 13)]\n",
            "matches: [(11840699188806025751, 2, 3)]\n",
            "matches: [(11840699188806025751, 4, 5), (11840699188806025751, 4, 6)]\n"
          ],
          "name": "stdout"
        },
        {
          "output_type": "stream",
          "text": [
            " 19%|█▉        | 827/4318 [00:10<00:39, 88.76it/s]"
          ],
          "name": "stderr"
        },
        {
          "output_type": "stream",
          "text": [
            "matches: [(11840699188806025751, 4, 5), (11840699188806025751, 4, 6)]\n",
            "matches: [(11840699188806025751, 12, 13)]\n",
            "matches: [(11840699188806025751, 2, 3), (11840699188806025751, 2, 4), (11840699188806025751, 2, 5)]\n",
            "matches: [(11840699188806025751, 11, 12)]\n",
            "matches: [(11840699188806025751, 2, 3), (11840699188806025751, 2, 4)]\n",
            "matches: [(11840699188806025751, 11, 12), (11840699188806025751, 11, 13)]\n",
            "matches: [(11840699188806025751, 8, 9), (11840699188806025751, 8, 10)]\n",
            "matches: [(11840699188806025751, 3, 4), (11840699188806025751, 3, 5), (11840699188806025751, 3, 6)]\n",
            "matches: [(11840699188806025751, 3, 4)]\n",
            "matches: [(11840699188806025751, 7, 8)]\n",
            "matches: [(11840699188806025751, 3, 4), (11840699188806025751, 3, 5), (11840699188806025751, 3, 6)]\n",
            "matches: [(11840699188806025751, 9, 10)]\n",
            "matches: [(11840699188806025751, 3, 4), (11840699188806025751, 3, 5)]\n",
            "matches: [(11840699188806025751, 2, 3)]\n",
            "matches: [(11840699188806025751, 4, 5)]\n",
            "matches: [(11840699188806025751, 4, 5), (11840699188806025751, 4, 6), (11840699188806025751, 4, 7)]\n",
            "matches: [(11840699188806025751, 5, 6), (11840699188806025751, 5, 7)]\n",
            "matches: [(11840699188806025751, 2, 3), (11840699188806025751, 2, 4)]\n",
            "matches: [(11840699188806025751, 5, 6)]\n"
          ],
          "name": "stdout"
        },
        {
          "output_type": "stream",
          "text": [
            " 20%|█▉        | 845/4318 [00:10<00:39, 86.84it/s]"
          ],
          "name": "stderr"
        },
        {
          "output_type": "stream",
          "text": [
            "matches: [(11840699188806025751, 4, 5)]\n",
            "matches: [(11840699188806025751, 2, 3)]\n",
            "matches: [(11840699188806025751, 10, 11)]\n",
            "matches: [(11840699188806025751, 2, 3)]\n",
            "matches: [(11840699188806025751, 2, 3), (11840699188806025751, 2, 4), (11840699188806025751, 2, 5)]\n",
            "matches: [(11840699188806025751, 2, 3)]\n",
            "matches: [(11840699188806025751, 4, 5), (11840699188806025751, 4, 6)]\n",
            "matches: [(11840699188806025751, 3, 4)]\n",
            "matches: [(11840699188806025751, 4, 5)]\n",
            "matches: [(11840699188806025751, 8, 9)]\n",
            "matches: [(11840699188806025751, 5, 6)]\n",
            "matches: [(11840699188806025751, 2, 3)]\n",
            "matches: [(11840699188806025751, 5, 6)]\n",
            "matches: [(11840699188806025751, 2, 3)]\n",
            "matches: [(11840699188806025751, 3, 4)]\n",
            "matches: [(11840699188806025751, 2, 3)]\n",
            "matches: [(11840699188806025751, 7, 8)]\n"
          ],
          "name": "stdout"
        },
        {
          "output_type": "stream",
          "text": [
            " 20%|██        | 864/4318 [00:10<00:38, 88.69it/s]"
          ],
          "name": "stderr"
        },
        {
          "output_type": "stream",
          "text": [
            "matches: [(11840699188806025751, 0, 1)]\n",
            "matches: [(11840699188806025751, 2, 3)]\n",
            "matches: [(11840699188806025751, 5, 6)]\n",
            "matches: [(11840699188806025751, 1, 2)]\n",
            "matches: [(11840699188806025751, 5, 6), (11840699188806025751, 5, 7)]\n",
            "matches: [(11840699188806025751, 3, 4), (11840699188806025751, 3, 5)]\n",
            "matches: [(11840699188806025751, 2, 3), (11840699188806025751, 2, 4)]\n",
            "matches: [(11840699188806025751, 4, 5), (11840699188806025751, 4, 6)]\n",
            "matches: [(11840699188806025751, 3, 4)]\n",
            "matches: [(11840699188806025751, 3, 4)]\n",
            "matches: [(11840699188806025751, 2, 3)]\n",
            "matches: [(11840699188806025751, 4, 5), (11840699188806025751, 4, 6)]\n",
            "matches: [(11840699188806025751, 4, 5), (11840699188806025751, 4, 6)]\n",
            "matches: [(11840699188806025751, 8, 9)]\n",
            "matches: [(11840699188806025751, 0, 1)]\n",
            "matches: [(11840699188806025751, 2, 3)]\n",
            "matches: [(11840699188806025751, 5, 6)]\n",
            "matches: [(11840699188806025751, 1, 2)]\n",
            "matches: [(11840699188806025751, 5, 6), (11840699188806025751, 5, 7)]\n",
            "matches: [(11840699188806025751, 3, 4), (11840699188806025751, 3, 5)]\n"
          ],
          "name": "stdout"
        },
        {
          "output_type": "stream",
          "text": [
            " 20%|██        | 882/4318 [00:10<00:38, 88.87it/s]"
          ],
          "name": "stderr"
        },
        {
          "output_type": "stream",
          "text": [
            "matches: [(11840699188806025751, 2, 3), (11840699188806025751, 2, 4)]\n",
            "matches: [(11840699188806025751, 4, 5), (11840699188806025751, 4, 6)]\n",
            "matches: [(11840699188806025751, 3, 4)]\n",
            "matches: [(11840699188806025751, 3, 4)]\n",
            "matches: [(11840699188806025751, 2, 3)]\n",
            "matches: [(11840699188806025751, 4, 5), (11840699188806025751, 4, 6)]\n",
            "matches: [(11840699188806025751, 4, 5), (11840699188806025751, 4, 6)]\n",
            "matches: [(11840699188806025751, 8, 9)]\n",
            "matches: [(11840699188806025751, 2, 3)]\n",
            "matches: [(11840699188806025751, 5, 6)]\n",
            "matches: [(11840699188806025751, 5, 6)]\n",
            "matches: [(11840699188806025751, 8, 9)]\n",
            "matches: [(11840699188806025751, 2, 3), (11840699188806025751, 2, 4)]\n",
            "matches: [(11840699188806025751, 10, 11), (11840699188806025751, 10, 12)]\n",
            "matches: [(11840699188806025751, 4, 5), (11840699188806025751, 4, 6)]\n",
            "matches: [(11840699188806025751, 8, 9)]\n",
            "matches: [(11840699188806025751, 7, 8)]\n",
            "matches: [(11840699188806025751, 4, 5), (11840699188806025751, 4, 6)]\n"
          ],
          "name": "stdout"
        },
        {
          "output_type": "stream",
          "text": [
            " 21%|██        | 901/4318 [00:10<00:38, 87.80it/s]"
          ],
          "name": "stderr"
        },
        {
          "output_type": "stream",
          "text": [
            "matches: [(11840699188806025751, 3, 4)]\n",
            "matches: [(11840699188806025751, 2, 3)]\n",
            "matches: [(11840699188806025751, 4, 5), (11840699188806025751, 4, 6)]\n",
            "matches: [(11840699188806025751, 4, 5), (11840699188806025751, 4, 6)]\n",
            "matches: [(11840699188806025751, 1, 2)]\n",
            "matches: [(11840699188806025751, 1, 2)]\n",
            "matches: [(11840699188806025751, 2, 3)]\n",
            "matches: [(11840699188806025751, 1, 2)]\n",
            "matches: [(11840699188806025751, 11, 12)]\n",
            "matches: [(11840699188806025751, 2, 3)]\n",
            "matches: [(11840699188806025751, 2, 3)]\n",
            "matches: [(11840699188806025751, 4, 5)]\n",
            "matches: [(11840699188806025751, 2, 3)]\n",
            "matches: [(11840699188806025751, 6, 7), (11840699188806025751, 6, 8)]\n",
            "matches: [(11840699188806025751, 2, 3), (11840699188806025751, 2, 4)]\n",
            "matches: [(11840699188806025751, 3, 4)]\n",
            "matches: [(11840699188806025751, 3, 4)]\n",
            "matches: [(11840699188806025751, 4, 5), (11840699188806025751, 4, 6), (11840699188806025751, 4, 7)]\n",
            "matches: [(11840699188806025751, 7, 8)]\n"
          ],
          "name": "stdout"
        },
        {
          "output_type": "stream",
          "text": [
            " 21%|██▏       | 919/4318 [00:11<00:39, 86.89it/s]"
          ],
          "name": "stderr"
        },
        {
          "output_type": "stream",
          "text": [
            "matches: [(11840699188806025751, 2, 3)]\n",
            "matches: [(11840699188806025751, 5, 6), (11840699188806025751, 5, 7)]\n",
            "matches: [(11840699188806025751, 8, 9)]\n",
            "matches: [(11840699188806025751, 7, 8)]\n",
            "matches: [(11840699188806025751, 16, 17)]\n",
            "matches: [(11840699188806025751, 7, 8)]\n",
            "matches: [(11840699188806025751, 2, 3)]\n",
            "matches: [(11840699188806025751, 2, 3)]\n",
            "matches: [(11840699188806025751, 2, 3)]\n",
            "matches: [(11840699188806025751, 2, 3)]\n",
            "matches: [(11840699188806025751, 3, 4), (11840699188806025751, 3, 5), (11840699188806025751, 3, 6)]\n",
            "matches: [(11840699188806025751, 4, 5), (11840699188806025751, 4, 6)]\n",
            "matches: [(11840699188806025751, 3, 4), (11840699188806025751, 3, 5)]\n",
            "matches: [(11840699188806025751, 2, 3)]\n",
            "matches: [(11840699188806025751, 14, 15)]\n",
            "matches: [(11840699188806025751, 11, 12)]\n",
            "matches: [(11840699188806025751, 4, 5), (11840699188806025751, 4, 6), (11840699188806025751, 4, 7)]\n"
          ],
          "name": "stdout"
        },
        {
          "output_type": "stream",
          "text": [
            " 22%|██▏       | 937/4318 [00:11<00:39, 85.97it/s]"
          ],
          "name": "stderr"
        },
        {
          "output_type": "stream",
          "text": [
            "matches: [(11840699188806025751, 2, 3)]\n",
            "matches: [(11840699188806025751, 5, 6), (11840699188806025751, 5, 7)]\n",
            "matches: [(11840699188806025751, 3, 4), (11840699188806025751, 3, 5)]\n",
            "matches: [(11840699188806025751, 16, 17)]\n",
            "matches: [(11840699188806025751, 4, 5)]\n",
            "matches: [(11840699188806025751, 3, 4)]\n",
            "matches: [(11840699188806025751, 5, 6), (11840699188806025751, 5, 7), (11840699188806025751, 10, 11), (11840699188806025751, 12, 13), (11840699188806025751, 14, 15)]\n",
            "matches: [(11840699188806025751, 6, 7), (11840699188806025751, 6, 8)]\n",
            "matches: [(11840699188806025751, 2, 3), (11840699188806025751, 2, 4)]\n",
            "matches: [(11840699188806025751, 6, 7)]\n",
            "matches: [(11840699188806025751, 3, 4)]\n",
            "matches: [(11840699188806025751, 7, 8)]\n",
            "matches: [(11840699188806025751, 7, 8)]\n",
            "matches: [(11840699188806025751, 5, 6), (11840699188806025751, 5, 7)]\n",
            "matches: [(11840699188806025751, 4, 5)]\n",
            "matches: [(11840699188806025751, 3, 4)]\n",
            "matches: [(11840699188806025751, 5, 6), (11840699188806025751, 5, 7)]\n",
            "matches: [(11840699188806025751, 1, 2)]\n"
          ],
          "name": "stdout"
        },
        {
          "output_type": "stream",
          "text": [
            " 22%|██▏       | 956/4318 [00:11<00:38, 87.69it/s]"
          ],
          "name": "stderr"
        },
        {
          "output_type": "stream",
          "text": [
            "matches: [(11840699188806025751, 6, 7)]\n",
            "matches: [(11840699188806025751, 3, 4)]\n",
            "matches: [(11840699188806025751, 1, 2)]\n",
            "matches: [(11840699188806025751, 6, 7), (11840699188806025751, 6, 8)]\n",
            "matches: [(11840699188806025751, 10, 11), (11840699188806025751, 10, 12)]\n",
            "matches: [(11840699188806025751, 2, 3)]\n",
            "matches: [(11840699188806025751, 3, 4), (11840699188806025751, 3, 5)]\n",
            "matches: [(11840699188806025751, 13, 14)]\n",
            "matches: [(11840699188806025751, 4, 5)]\n",
            "matches: [(11840699188806025751, 5, 6), (11840699188806025751, 5, 7)]\n",
            "matches: [(11840699188806025751, 1, 2)]\n",
            "matches: [(11840699188806025751, 6, 7)]\n",
            "matches: [(11840699188806025751, 3, 4)]\n",
            "matches: [(11840699188806025751, 1, 2)]\n",
            "matches: [(11840699188806025751, 6, 7), (11840699188806025751, 6, 8)]\n",
            "matches: [(11840699188806025751, 10, 11), (11840699188806025751, 10, 12)]\n",
            "matches: [(11840699188806025751, 2, 3)]\n",
            "matches: [(11840699188806025751, 3, 4), (11840699188806025751, 3, 5)]\n",
            "matches: [(11840699188806025751, 13, 14)]\n"
          ],
          "name": "stdout"
        },
        {
          "output_type": "stream",
          "text": [
            " 23%|██▎       | 975/4318 [00:11<00:37, 89.29it/s]"
          ],
          "name": "stderr"
        },
        {
          "output_type": "stream",
          "text": [
            "matches: [(11840699188806025751, 4, 5)]\n",
            "matches: [(11840699188806025751, 2, 3), (11840699188806025751, 2, 4)]\n",
            "matches: [(11840699188806025751, 5, 6), (11840699188806025751, 5, 7), (11840699188806025751, 5, 8)]\n",
            "matches: [(11840699188806025751, 9, 10), (11840699188806025751, 9, 11)]\n",
            "matches: [(11840699188806025751, 1, 2)]\n",
            "matches: [(11840699188806025751, 5, 6), (11840699188806025751, 5, 7)]\n",
            "matches: [(11840699188806025751, 2, 3)]\n",
            "matches: [(11840699188806025751, 3, 4)]\n",
            "matches: [(11840699188806025751, 0, 1), (11840699188806025751, 5, 6)]\n",
            "matches: [(11840699188806025751, 2, 3), (11840699188806025751, 2, 4)]\n",
            "matches: [(11840699188806025751, 3, 4)]\n",
            "matches: [(11840699188806025751, 5, 6)]\n",
            "matches: [(11840699188806025751, 2, 3)]\n",
            "matches: [(11840699188806025751, 1, 2)]\n",
            "matches: [(11840699188806025751, 8, 9)]\n",
            "matches: [(11840699188806025751, 1, 2)]\n",
            "matches: [(11840699188806025751, 5, 6)]\n",
            "matches: [(11840699188806025751, 1, 2)]\n",
            "matches: [(11840699188806025751, 8, 9), (11840699188806025751, 8, 10)]\n"
          ],
          "name": "stdout"
        },
        {
          "output_type": "stream",
          "text": [
            " 23%|██▎       | 993/4318 [00:11<00:38, 86.38it/s]"
          ],
          "name": "stderr"
        },
        {
          "output_type": "stream",
          "text": [
            "matches: [(11840699188806025751, 3, 4), (11840699188806025751, 3, 5)]\n",
            "matches: [(11840699188806025751, 5, 6)]\n",
            "matches: [(11840699188806025751, 3, 4)]\n",
            "matches: [(11840699188806025751, 5, 6)]\n",
            "matches: [(11840699188806025751, 2, 3)]\n",
            "matches: [(11840699188806025751, 1, 2)]\n",
            "matches: [(11840699188806025751, 8, 9)]\n",
            "matches: [(11840699188806025751, 1, 2)]\n",
            "matches: [(11840699188806025751, 5, 6)]\n",
            "matches: [(11840699188806025751, 1, 2)]\n",
            "matches: [(11840699188806025751, 8, 9), (11840699188806025751, 8, 10)]\n",
            "matches: [(11840699188806025751, 3, 4), (11840699188806025751, 3, 5)]\n",
            "matches: [(11840699188806025751, 5, 6)]\n",
            "matches: [(11840699188806025751, 3, 4), (11840699188806025751, 3, 5)]\n",
            "matches: [(11840699188806025751, 3, 4), (11840699188806025751, 3, 5)]\n",
            "matches: [(11840699188806025751, 5, 6)]\n",
            "matches: [(11840699188806025751, 4, 5)]\n",
            "matches: [(11840699188806025751, 3, 4)]\n"
          ],
          "name": "stdout"
        },
        {
          "output_type": "stream",
          "text": [
            " 23%|██▎       | 1012/4318 [00:12<00:37, 87.45it/s]"
          ],
          "name": "stderr"
        },
        {
          "output_type": "stream",
          "text": [
            "matches: [(11840699188806025751, 8, 9), (11840699188806025751, 8, 10)]\n",
            "matches: [(11840699188806025751, 3, 4)]\n",
            "matches: [(11840699188806025751, 9, 10)]\n",
            "matches: [(11840699188806025751, 11, 12), (11840699188806025751, 11, 13)]\n",
            "matches: [(11840699188806025751, 1, 2), (11840699188806025751, 1, 3)]\n",
            "matches: [(11840699188806025751, 4, 5), (11840699188806025751, 4, 6)]\n",
            "matches: [(11840699188806025751, 13, 14)]\n",
            "matches: [(11840699188806025751, 0, 1)]\n",
            "matches: [(11840699188806025751, 1, 2)]\n",
            "matches: [(11840699188806025751, 3, 4)]\n",
            "matches: [(11840699188806025751, 1, 2)]\n",
            "matches: [(11840699188806025751, 5, 6)]\n",
            "matches: [(11840699188806025751, 3, 4)]\n",
            "matches: [(11840699188806025751, 2, 3), (11840699188806025751, 2, 4)]\n",
            "matches: [(11840699188806025751, 4, 5), (11840699188806025751, 4, 6)]\n",
            "matches: [(11840699188806025751, 3, 4)]\n",
            "matches: [(11840699188806025751, 0, 1)]\n",
            "matches: [(11840699188806025751, 2, 3), (11840699188806025751, 2, 4)]\n",
            "matches: [(11840699188806025751, 2, 3)]\n"
          ],
          "name": "stdout"
        },
        {
          "output_type": "stream",
          "text": [
            " 24%|██▍       | 1031/4318 [00:12<00:37, 88.55it/s]"
          ],
          "name": "stderr"
        },
        {
          "output_type": "stream",
          "text": [
            "matches: [(11840699188806025751, 2, 3)]\n",
            "matches: [(11840699188806025751, 5, 6), (11840699188806025751, 5, 7)]\n",
            "matches: [(11840699188806025751, 1, 2)]\n",
            "matches: [(11840699188806025751, 6, 7)]\n",
            "matches: [(11840699188806025751, 8, 9), (11840699188806025751, 8, 10)]\n",
            "matches: [(11840699188806025751, 2, 3)]\n",
            "matches: [(11840699188806025751, 3, 4)]\n",
            "matches: [(11840699188806025751, 3, 4)]\n",
            "matches: [(11840699188806025751, 2, 3)]\n",
            "matches: [(11840699188806025751, 6, 7), (11840699188806025751, 6, 8), (11840699188806025751, 6, 9)]\n",
            "matches: [(11840699188806025751, 1, 2)]\n",
            "matches: [(11840699188806025751, 2, 3)]\n",
            "matches: [(11840699188806025751, 2, 3)]\n",
            "matches: [(11840699188806025751, 1, 2)]\n",
            "matches: [(11840699188806025751, 1, 2)]\n",
            "matches: [(11840699188806025751, 1, 2)]\n",
            "matches: [(11840699188806025751, 2, 3), (11840699188806025751, 2, 4)]\n",
            "matches: [(11840699188806025751, 3, 4)]\n",
            "matches: [(11840699188806025751, 6, 7)]\n"
          ],
          "name": "stdout"
        },
        {
          "output_type": "stream",
          "text": [
            " 24%|██▍       | 1050/4318 [00:12<00:36, 88.78it/s]"
          ],
          "name": "stderr"
        },
        {
          "output_type": "stream",
          "text": [
            "matches: [(11840699188806025751, 9, 10)]\n",
            "matches: [(11840699188806025751, 3, 4)]\n",
            "matches: [(11840699188806025751, 2, 3)]\n",
            "matches: [(11840699188806025751, 2, 3)]\n",
            "matches: [(11840699188806025751, 4, 5), (11840699188806025751, 4, 6)]\n",
            "matches: [(11840699188806025751, 2, 3)]\n",
            "matches: [(11840699188806025751, 2, 3)]\n",
            "matches: [(11840699188806025751, 3, 4)]\n",
            "matches: [(11840699188806025751, 2, 3)]\n",
            "matches: [(11840699188806025751, 3, 4), (11840699188806025751, 3, 5)]\n",
            "matches: [(11840699188806025751, 5, 6)]\n",
            "matches: [(11840699188806025751, 12, 13), (11840699188806025751, 12, 14)]\n",
            "matches: [(11840699188806025751, 2, 3)]\n",
            "matches: [(11840699188806025751, 2, 3)]\n",
            "matches: [(11840699188806025751, 1, 2)]\n",
            "matches: [(11840699188806025751, 1, 2)]\n",
            "matches: [(11840699188806025751, 1, 2)]\n",
            "matches: [(11840699188806025751, 2, 3), (11840699188806025751, 2, 4)]\n",
            "matches: [(11840699188806025751, 3, 4)]\n"
          ],
          "name": "stdout"
        },
        {
          "output_type": "stream",
          "text": [
            " 25%|██▍       | 1068/4318 [00:12<00:37, 86.70it/s]"
          ],
          "name": "stderr"
        },
        {
          "output_type": "stream",
          "text": [
            "matches: [(11840699188806025751, 6, 7)]\n",
            "matches: [(11840699188806025751, 9, 10)]\n",
            "matches: [(11840699188806025751, 3, 4)]\n",
            "matches: [(11840699188806025751, 2, 3)]\n",
            "matches: [(11840699188806025751, 2, 3)]\n",
            "matches: [(11840699188806025751, 4, 5), (11840699188806025751, 4, 6)]\n",
            "matches: [(11840699188806025751, 2, 3)]\n",
            "matches: [(11840699188806025751, 2, 3)]\n",
            "matches: [(11840699188806025751, 3, 4)]\n",
            "matches: [(11840699188806025751, 2, 3)]\n",
            "matches: [(11840699188806025751, 3, 4), (11840699188806025751, 3, 5)]\n",
            "matches: [(11840699188806025751, 5, 6)]\n",
            "matches: [(11840699188806025751, 12, 13), (11840699188806025751, 12, 14)]\n",
            "matches: [(11840699188806025751, 9, 10)]\n",
            "matches: [(11840699188806025751, 5, 6), (11840699188806025751, 5, 7)]\n",
            "matches: [(11840699188806025751, 14, 15)]\n",
            "matches: [(11840699188806025751, 5, 6)]\n",
            "matches: [(11840699188806025751, 8, 9), (11840699188806025751, 8, 10)]\n"
          ],
          "name": "stdout"
        },
        {
          "output_type": "stream",
          "text": [
            " 25%|██▌       | 1087/4318 [00:13<00:36, 88.88it/s]"
          ],
          "name": "stderr"
        },
        {
          "output_type": "stream",
          "text": [
            "matches: [(11840699188806025751, 9, 10)]\n",
            "matches: [(11840699188806025751, 5, 6)]\n",
            "matches: [(11840699188806025751, 8, 9)]\n",
            "matches: [(11840699188806025751, 4, 5), (11840699188806025751, 4, 6)]\n",
            "matches: [(11840699188806025751, 2, 3)]\n",
            "matches: [(11840699188806025751, 5, 6)]\n",
            "matches: [(11840699188806025751, 2, 3), (11840699188806025751, 2, 4)]\n",
            "matches: [(11840699188806025751, 2, 3)]\n",
            "matches: [(11840699188806025751, 8, 9)]\n",
            "matches: [(11840699188806025751, 2, 3), (11840699188806025751, 2, 4)]\n",
            "matches: [(11840699188806025751, 2, 3), (11840699188806025751, 2, 4)]\n",
            "matches: [(11840699188806025751, 4, 5)]\n",
            "matches: [(11840699188806025751, 2, 3), (11840699188806025751, 2, 4)]\n",
            "matches: [(11840699188806025751, 3, 4), (11840699188806025751, 3, 5)]\n",
            "matches: [(11840699188806025751, 5, 6)]\n",
            "matches: [(11840699188806025751, 4, 5)]\n",
            "matches: [(11840699188806025751, 4, 5)]\n",
            "matches: [(11840699188806025751, 5, 6), (11840699188806025751, 5, 7), (11840699188806025751, 5, 8)]\n",
            "matches: [(11840699188806025751, 8, 9)]\n",
            "matches: [(11840699188806025751, 8, 9)]\n"
          ],
          "name": "stdout"
        },
        {
          "output_type": "stream",
          "text": [
            " 26%|██▌       | 1105/4318 [00:13<00:36, 89.15it/s]"
          ],
          "name": "stderr"
        },
        {
          "output_type": "stream",
          "text": [
            "matches: [(11840699188806025751, 14, 15)]\n",
            "matches: [(11840699188806025751, 1, 2)]\n",
            "matches: [(11840699188806025751, 1, 2)]\n",
            "matches: [(11840699188806025751, 2, 3), (11840699188806025751, 2, 4)]\n",
            "matches: [(11840699188806025751, 3, 4), (11840699188806025751, 3, 5)]\n",
            "matches: [(11840699188806025751, 3, 4)]\n",
            "matches: [(11840699188806025751, 3, 4)]\n",
            "matches: [(11840699188806025751, 2, 3), (11840699188806025751, 2, 4)]\n",
            "matches: [(11840699188806025751, 6, 7)]\n",
            "matches: [(11840699188806025751, 1, 2)]\n",
            "matches: [(11840699188806025751, 3, 4), (11840699188806025751, 3, 5)]\n",
            "matches: [(11840699188806025751, 6, 7), (11840699188806025751, 6, 8)]\n",
            "matches: [(11840699188806025751, 5, 6)]\n",
            "matches: [(11840699188806025751, 7, 8)]\n",
            "matches: [(11840699188806025751, 1, 2)]\n",
            "matches: [(11840699188806025751, 3, 4)]\n",
            "matches: [(11840699188806025751, 4, 5), (11840699188806025751, 4, 6)]\n",
            "matches: [(11840699188806025751, 2, 3)]\n",
            "matches: [(11840699188806025751, 3, 4)]\n"
          ],
          "name": "stdout"
        },
        {
          "output_type": "stream",
          "text": [
            " 26%|██▌       | 1124/4318 [00:13<00:35, 89.28it/s]"
          ],
          "name": "stderr"
        },
        {
          "output_type": "stream",
          "text": [
            "matches: [(11840699188806025751, 1, 2)]\n",
            "matches: [(11840699188806025751, 2, 3)]\n",
            "matches: [(11840699188806025751, 1, 2)]\n",
            "matches: [(11840699188806025751, 2, 3)]\n",
            "matches: [(11840699188806025751, 2, 3)]\n",
            "matches: [(11840699188806025751, 2, 3)]\n",
            "matches: [(11840699188806025751, 1, 2), (11840699188806025751, 1, 3)]\n",
            "matches: [(11840699188806025751, 1, 2)]\n",
            "matches: [(11840699188806025751, 5, 6)]\n",
            "matches: [(11840699188806025751, 2, 3)]\n",
            "matches: [(11840699188806025751, 2, 3)]\n",
            "matches: [(11840699188806025751, 14, 15)]\n",
            "matches: [(11840699188806025751, 1, 2)]\n",
            "matches: [(11840699188806025751, 1, 2)]\n",
            "matches: [(11840699188806025751, 2, 3), (11840699188806025751, 2, 4)]\n",
            "matches: [(11840699188806025751, 3, 4), (11840699188806025751, 3, 5)]\n",
            "matches: [(11840699188806025751, 3, 4)]\n",
            "matches: [(11840699188806025751, 3, 4)]\n"
          ],
          "name": "stdout"
        },
        {
          "output_type": "stream",
          "text": [
            " 26%|██▋       | 1143/4318 [00:13<00:35, 88.88it/s]"
          ],
          "name": "stderr"
        },
        {
          "output_type": "stream",
          "text": [
            "matches: [(11840699188806025751, 2, 3), (11840699188806025751, 2, 4)]\n",
            "matches: [(11840699188806025751, 6, 7)]\n",
            "matches: [(11840699188806025751, 1, 2)]\n",
            "matches: [(11840699188806025751, 3, 4), (11840699188806025751, 3, 5)]\n",
            "matches: [(11840699188806025751, 6, 7), (11840699188806025751, 6, 8)]\n",
            "matches: [(11840699188806025751, 5, 6)]\n",
            "matches: [(11840699188806025751, 7, 8)]\n",
            "matches: [(11840699188806025751, 1, 2)]\n",
            "matches: [(11840699188806025751, 3, 4)]\n",
            "matches: [(11840699188806025751, 4, 5), (11840699188806025751, 4, 6)]\n",
            "matches: [(11840699188806025751, 2, 3)]\n",
            "matches: [(11840699188806025751, 3, 4)]\n",
            "matches: [(11840699188806025751, 1, 2)]\n",
            "matches: [(11840699188806025751, 2, 3)]\n",
            "matches: [(11840699188806025751, 1, 2)]\n",
            "matches: [(11840699188806025751, 2, 3)]\n",
            "matches: [(11840699188806025751, 2, 3)]\n",
            "matches: [(11840699188806025751, 2, 3)]\n",
            "matches: [(11840699188806025751, 1, 2), (11840699188806025751, 1, 3)]\n"
          ],
          "name": "stdout"
        },
        {
          "output_type": "stream",
          "text": [
            " 27%|██▋       | 1163/4318 [00:13<00:36, 87.38it/s]"
          ],
          "name": "stderr"
        },
        {
          "output_type": "stream",
          "text": [
            "matches: [(11840699188806025751, 1, 2)]\n",
            "matches: [(11840699188806025751, 5, 6)]\n",
            "matches: [(11840699188806025751, 2, 3)]\n",
            "matches: [(11840699188806025751, 2, 3)]\n",
            "matches: [(11840699188806025751, 10, 11)]\n",
            "matches: [(11840699188806025751, 1, 2)]\n",
            "matches: [(11840699188806025751, 3, 4), (11840699188806025751, 3, 5)]\n",
            "matches: [(11840699188806025751, 2, 3), (11840699188806025751, 2, 4)]\n",
            "matches: [(11840699188806025751, 1, 2)]\n",
            "matches: [(11840699188806025751, 2, 3), (11840699188806025751, 2, 4), (11840699188806025751, 2, 5)]\n",
            "matches: [(11840699188806025751, 2, 3)]\n",
            "matches: [(11840699188806025751, 1, 2), (11840699188806025751, 1, 3)]\n",
            "matches: [(11840699188806025751, 1, 2)]\n",
            "matches: [(11840699188806025751, 2, 3), (11840699188806025751, 2, 4)]\n",
            "matches: [(11840699188806025751, 2, 3), (11840699188806025751, 2, 4)]\n",
            "matches: [(11840699188806025751, 3, 4)]\n",
            "matches: [(11840699188806025751, 5, 6), (11840699188806025751, 5, 7)]\n",
            "matches: [(11840699188806025751, 1, 2)]\n"
          ],
          "name": "stdout"
        },
        {
          "output_type": "stream",
          "text": [
            " 27%|██▋       | 1182/4318 [00:14<00:35, 88.85it/s]"
          ],
          "name": "stderr"
        },
        {
          "output_type": "stream",
          "text": [
            "matches: [(11840699188806025751, 3, 4), (11840699188806025751, 3, 5)]\n",
            "matches: [(11840699188806025751, 6, 7), (11840699188806025751, 6, 8)]\n",
            "matches: [(11840699188806025751, 5, 6), (11840699188806025751, 5, 7)]\n",
            "matches: [(11840699188806025751, 9, 10), (11840699188806025751, 9, 11)]\n",
            "matches: [(11840699188806025751, 8, 9), (11840699188806025751, 8, 10)]\n",
            "matches: [(11840699188806025751, 5, 6)]\n",
            "matches: [(11840699188806025751, 4, 5), (11840699188806025751, 4, 6)]\n",
            "matches: [(11840699188806025751, 13, 14)]\n",
            "matches: [(11840699188806025751, 6, 7), (11840699188806025751, 6, 8)]\n",
            "matches: [(11840699188806025751, 3, 4), (11840699188806025751, 3, 5)]\n",
            "matches: [(11840699188806025751, 7, 8)]\n",
            "matches: [(11840699188806025751, 2, 3), (11840699188806025751, 2, 4)]\n",
            "matches: [(11840699188806025751, 2, 3), (11840699188806025751, 2, 4)]\n",
            "matches: [(11840699188806025751, 1, 2)]\n",
            "matches: [(11840699188806025751, 1, 2), (11840699188806025751, 1, 3)]\n",
            "matches: [(11840699188806025751, 2, 3)]\n",
            "matches: [(11840699188806025751, 2, 3), (11840699188806025751, 2, 4)]\n",
            "matches: [(11840699188806025751, 2, 3)]\n",
            "matches: [(11840699188806025751, 3, 4)]\n"
          ],
          "name": "stdout"
        },
        {
          "output_type": "stream",
          "text": [
            " 28%|██▊       | 1201/4318 [00:14<00:34, 90.05it/s]"
          ],
          "name": "stderr"
        },
        {
          "output_type": "stream",
          "text": [
            "matches: [(11840699188806025751, 2, 3)]\n",
            "matches: [(11840699188806025751, 5, 6), (11840699188806025751, 5, 7)]\n",
            "matches: [(11840699188806025751, 3, 4), (11840699188806025751, 3, 5)]\n",
            "matches: [(11840699188806025751, 2, 3)]\n",
            "matches: [(11840699188806025751, 1, 2)]\n",
            "matches: [(11840699188806025751, 3, 4), (11840699188806025751, 3, 5)]\n",
            "matches: [(11840699188806025751, 2, 3), (11840699188806025751, 2, 4)]\n",
            "matches: [(11840699188806025751, 3, 4)]\n",
            "matches: [(11840699188806025751, 6, 7)]\n",
            "matches: [(11840699188806025751, 7, 8)]\n",
            "matches: [(11840699188806025751, 3, 4), (11840699188806025751, 3, 5)]\n",
            "matches: [(11840699188806025751, 3, 4), (11840699188806025751, 3, 5)]\n",
            "matches: [(11840699188806025751, 3, 4)]\n",
            "matches: [(11840699188806025751, 4, 5), (11840699188806025751, 4, 6)]\n",
            "matches: [(11840699188806025751, 1, 2)]\n",
            "matches: [(11840699188806025751, 4, 5), (11840699188806025751, 4, 6)]\n",
            "matches: [(11840699188806025751, 4, 5)]\n",
            "matches: [(11840699188806025751, 2, 3), (11840699188806025751, 2, 4)]\n",
            "matches: [(11840699188806025751, 1, 2)]\n"
          ],
          "name": "stdout"
        },
        {
          "output_type": "stream",
          "text": [
            " 28%|██▊       | 1220/4318 [00:14<00:34, 88.86it/s]"
          ],
          "name": "stderr"
        },
        {
          "output_type": "stream",
          "text": [
            "matches: [(11840699188806025751, 1, 2)]\n",
            "matches: [(11840699188806025751, 1, 2)]\n",
            "matches: [(11840699188806025751, 3, 4), (11840699188806025751, 3, 5)]\n",
            "matches: [(11840699188806025751, 8, 9), (11840699188806025751, 8, 10)]\n",
            "matches: [(11840699188806025751, 3, 4)]\n",
            "matches: [(11840699188806025751, 2, 3)]\n",
            "matches: [(11840699188806025751, 6, 7)]\n",
            "matches: [(11840699188806025751, 2, 3)]\n",
            "matches: [(11840699188806025751, 6, 7), (11840699188806025751, 6, 8)]\n",
            "matches: [(11840699188806025751, 3, 4)]\n",
            "matches: [(11840699188806025751, 8, 9)]\n",
            "matches: [(11840699188806025751, 1, 2)]\n",
            "matches: [(11840699188806025751, 0, 1)]\n",
            "matches: [(11840699188806025751, 6, 7), (11840699188806025751, 6, 8)]\n",
            "matches: [(11840699188806025751, 7, 8), (11840699188806025751, 7, 9)]\n",
            "matches: [(11840699188806025751, 2, 3)]\n",
            "matches: [(11840699188806025751, 2, 3)]\n",
            "matches: [(11840699188806025751, 3, 4)]\n"
          ],
          "name": "stdout"
        },
        {
          "output_type": "stream",
          "text": [
            " 29%|██▊       | 1239/4318 [00:14<00:34, 88.60it/s]"
          ],
          "name": "stderr"
        },
        {
          "output_type": "stream",
          "text": [
            "matches: [(11840699188806025751, 6, 7)]\n",
            "matches: [(11840699188806025751, 6, 7), (11840699188806025751, 6, 8)]\n",
            "matches: [(11840699188806025751, 2, 3)]\n",
            "matches: [(11840699188806025751, 1, 2)]\n",
            "matches: [(11840699188806025751, 2, 3)]\n",
            "matches: [(11840699188806025751, 4, 5)]\n",
            "matches: [(11840699188806025751, 3, 4), (11840699188806025751, 3, 5)]\n",
            "matches: [(11840699188806025751, 1, 2)]\n",
            "matches: [(11840699188806025751, 2, 3), (11840699188806025751, 2, 4)]\n",
            "matches: [(11840699188806025751, 3, 4), (11840699188806025751, 3, 5)]\n",
            "matches: [(11840699188806025751, 1, 2)]\n",
            "matches: [(11840699188806025751, 2, 3), (11840699188806025751, 2, 4)]\n",
            "matches: [(11840699188806025751, 4, 5)]\n",
            "matches: [(11840699188806025751, 1, 2)]\n",
            "matches: [(11840699188806025751, 4, 5)]\n",
            "matches: [(11840699188806025751, 3, 4), (11840699188806025751, 3, 5)]\n",
            "matches: [(11840699188806025751, 2, 3)]\n",
            "matches: [(11840699188806025751, 5, 6)]\n",
            "matches: [(11840699188806025751, 3, 4)]\n"
          ],
          "name": "stdout"
        },
        {
          "output_type": "stream",
          "text": [
            " 29%|██▉       | 1257/4318 [00:14<00:35, 86.72it/s]"
          ],
          "name": "stderr"
        },
        {
          "output_type": "stream",
          "text": [
            "matches: [(11840699188806025751, 5, 6)]\n",
            "matches: [(11840699188806025751, 10, 11)]\n",
            "matches: [(11840699188806025751, 2, 3), (11840699188806025751, 2, 4), (11840699188806025751, 2, 5)]\n",
            "matches: [(11840699188806025751, 4, 5), (11840699188806025751, 4, 6)]\n",
            "matches: [(11840699188806025751, 4, 5)]\n",
            "matches: [(11840699188806025751, 4, 5), (11840699188806025751, 4, 6)]\n",
            "matches: [(11840699188806025751, 7, 8), (11840699188806025751, 7, 9)]\n",
            "matches: [(11840699188806025751, 1, 2)]\n",
            "matches: [(11840699188806025751, 5, 6)]\n",
            "matches: [(11840699188806025751, 8, 9), (11840699188806025751, 8, 10)]\n",
            "matches: [(11840699188806025751, 5, 6), (11840699188806025751, 5, 7)]\n",
            "matches: [(11840699188806025751, 7, 8)]\n",
            "matches: [(11840699188806025751, 5, 6)]\n",
            "matches: [(11840699188806025751, 1, 2)]\n",
            "matches: [(11840699188806025751, 8, 9)]\n",
            "matches: [(11840699188806025751, 2, 3)]\n",
            "matches: [(11840699188806025751, 2, 3)]\n",
            "matches: [(11840699188806025751, 1, 2)]\n"
          ],
          "name": "stdout"
        },
        {
          "output_type": "stream",
          "text": [
            " 30%|██▉       | 1277/4318 [00:15<00:34, 88.51it/s]"
          ],
          "name": "stderr"
        },
        {
          "output_type": "stream",
          "text": [
            "matches: [(11840699188806025751, 0, 1)]\n",
            "matches: [(11840699188806025751, 1, 2), (11840699188806025751, 1, 3)]\n",
            "matches: [(11840699188806025751, 1, 2)]\n",
            "matches: [(11840699188806025751, 1, 2)]\n",
            "matches: [(11840699188806025751, 1, 2)]\n",
            "matches: [(11840699188806025751, 1, 2)]\n",
            "matches: [(11840699188806025751, 5, 6)]\n",
            "matches: [(11840699188806025751, 2, 3)]\n",
            "matches: [(11840699188806025751, 0, 1)]\n",
            "matches: [(11840699188806025751, 1, 2)]\n",
            "matches: [(11840699188806025751, 4, 5), (11840699188806025751, 4, 6)]\n",
            "matches: [(11840699188806025751, 4, 5), (11840699188806025751, 4, 6)]\n",
            "matches: [(11840699188806025751, 1, 2), (11840699188806025751, 1, 3)]\n",
            "matches: [(11840699188806025751, 1, 2)]\n",
            "matches: [(11840699188806025751, 1, 2)]\n",
            "matches: [(11840699188806025751, 1, 2)]\n",
            "matches: [(11840699188806025751, 3, 4)]\n",
            "matches: [(11840699188806025751, 1, 2), (11840699188806025751, 1, 3), (11840699188806025751, 8, 9)]\n"
          ],
          "name": "stdout"
        },
        {
          "output_type": "stream",
          "text": [
            " 30%|███       | 1296/4318 [00:15<00:34, 87.90it/s]"
          ],
          "name": "stderr"
        },
        {
          "output_type": "stream",
          "text": [
            "matches: [(11840699188806025751, 0, 1)]\n",
            "matches: [(11840699188806025751, 1, 2)]\n",
            "matches: [(11840699188806025751, 1, 2)]\n",
            "matches: [(11840699188806025751, 4, 5)]\n",
            "matches: [(11840699188806025751, 5, 6)]\n",
            "matches: [(11840699188806025751, 1, 2), (11840699188806025751, 1, 3)]\n",
            "matches: [(11840699188806025751, 6, 7)]\n",
            "matches: [(11840699188806025751, 3, 4)]\n",
            "matches: [(11840699188806025751, 11, 12), (11840699188806025751, 11, 13)]\n",
            "matches: [(11840699188806025751, 7, 8), (11840699188806025751, 7, 9)]\n",
            "matches: [(11840699188806025751, 2, 3), (11840699188806025751, 2, 4)]\n",
            "matches: [(11840699188806025751, 3, 4), (11840699188806025751, 3, 5)]\n",
            "matches: [(11840699188806025751, 4, 5), (11840699188806025751, 4, 6)]\n",
            "matches: [(11840699188806025751, 3, 4)]\n",
            "matches: [(11840699188806025751, 2, 3)]\n",
            "matches: [(11840699188806025751, 2, 3)]\n",
            "matches: [(11840699188806025751, 8, 9)]\n",
            "matches: [(11840699188806025751, 2, 3), (11840699188806025751, 2, 4)]\n",
            "matches: [(11840699188806025751, 5, 6)]\n"
          ],
          "name": "stdout"
        },
        {
          "output_type": "stream",
          "text": [
            " 30%|███       | 1315/4318 [00:15<00:33, 89.84it/s]"
          ],
          "name": "stderr"
        },
        {
          "output_type": "stream",
          "text": [
            "matches: [(11840699188806025751, 1, 2), (11840699188806025751, 4, 5)]\n",
            "matches: [(11840699188806025751, 2, 3)]\n",
            "matches: [(11840699188806025751, 2, 3), (11840699188806025751, 2, 4)]\n",
            "matches: [(11840699188806025751, 0, 1), (11840699188806025751, 0, 2)]\n",
            "matches: [(11840699188806025751, 2, 3)]\n",
            "matches: [(11840699188806025751, 4, 5), (11840699188806025751, 4, 6)]\n",
            "matches: [(11840699188806025751, 5, 6), (11840699188806025751, 5, 7), (11840699188806025751, 5, 8)]\n",
            "matches: [(11840699188806025751, 1, 2), (11840699188806025751, 1, 3)]\n",
            "matches: [(11840699188806025751, 10, 11)]\n",
            "matches: [(11840699188806025751, 3, 4)]\n",
            "matches: [(11840699188806025751, 3, 4), (11840699188806025751, 3, 5)]\n",
            "matches: [(11840699188806025751, 5, 6), (11840699188806025751, 5, 7)]\n",
            "matches: [(11840699188806025751, 3, 4), (11840699188806025751, 3, 5)]\n",
            "matches: [(11840699188806025751, 3, 4), (11840699188806025751, 3, 5)]\n",
            "matches: [(11840699188806025751, 2, 3)]\n",
            "matches: [(11840699188806025751, 5, 6), (11840699188806025751, 5, 7)]\n",
            "matches: [(11840699188806025751, 1, 2)]\n",
            "matches: [(11840699188806025751, 1, 2)]\n",
            "matches: [(11840699188806025751, 2, 3)]\n"
          ],
          "name": "stdout"
        },
        {
          "output_type": "stream",
          "text": [
            " 31%|███       | 1335/4318 [00:15<00:33, 90.34it/s]"
          ],
          "name": "stderr"
        },
        {
          "output_type": "stream",
          "text": [
            "matches: [(11840699188806025751, 4, 5), (11840699188806025751, 4, 6)]\n",
            "matches: [(11840699188806025751, 5, 6), (11840699188806025751, 5, 7), (11840699188806025751, 5, 8)]\n",
            "matches: [(11840699188806025751, 1, 2), (11840699188806025751, 1, 3)]\n",
            "matches: [(11840699188806025751, 10, 11)]\n",
            "matches: [(11840699188806025751, 3, 4)]\n",
            "matches: [(11840699188806025751, 3, 4), (11840699188806025751, 3, 5)]\n",
            "matches: [(11840699188806025751, 5, 6), (11840699188806025751, 5, 7)]\n",
            "matches: [(11840699188806025751, 3, 4), (11840699188806025751, 3, 5)]\n",
            "matches: [(11840699188806025751, 3, 4), (11840699188806025751, 3, 5)]\n",
            "matches: [(11840699188806025751, 2, 3)]\n",
            "matches: [(11840699188806025751, 5, 6), (11840699188806025751, 5, 7)]\n",
            "matches: [(11840699188806025751, 1, 2)]\n",
            "matches: [(11840699188806025751, 1, 2)]\n",
            "matches: [(11840699188806025751, 3, 4), (11840699188806025751, 3, 5)]\n",
            "matches: [(11840699188806025751, 2, 3), (11840699188806025751, 2, 4)]\n",
            "matches: [(11840699188806025751, 2, 3), (11840699188806025751, 2, 4)]\n",
            "matches: [(11840699188806025751, 1, 2)]\n",
            "matches: [(11840699188806025751, 4, 5), (11840699188806025751, 4, 6)]\n",
            "matches: [(11840699188806025751, 3, 4)]\n"
          ],
          "name": "stdout"
        },
        {
          "output_type": "stream",
          "text": [
            "\r 31%|███       | 1345/4318 [00:15<00:33, 88.86it/s]"
          ],
          "name": "stderr"
        },
        {
          "output_type": "stream",
          "text": [
            "matches: [(11840699188806025751, 3, 4)]\n",
            "matches: [(11840699188806025751, 1, 2), (11840699188806025751, 1, 3)]\n",
            "matches: [(11840699188806025751, 3, 4), (11840699188806025751, 3, 5)]\n",
            "matches: [(11840699188806025751, 2, 3), (11840699188806025751, 2, 4)]\n",
            "matches: [(11840699188806025751, 1, 2), (11840699188806025751, 1, 3)]\n",
            "matches: [(11840699188806025751, 1, 2)]\n",
            "matches: [(11840699188806025751, 3, 4)]\n",
            "matches: [(11840699188806025751, 2, 3)]\n",
            "matches: [(11840699188806025751, 6, 7), (11840699188806025751, 6, 8)]\n",
            "matches: [(11840699188806025751, 3, 4)]\n",
            "matches: [(11840699188806025751, 1, 2)]\n",
            "matches: [(11840699188806025751, 4, 5), (11840699188806025751, 4, 6)]\n",
            "matches: [(11840699188806025751, 3, 4)]\n",
            "matches: [(11840699188806025751, 1, 2)]\n",
            "matches: [(11840699188806025751, 2, 3)]\n",
            "matches: [(11840699188806025751, 8, 9), (11840699188806025751, 8, 10)]\n",
            "matches: [(11840699188806025751, 4, 5), (11840699188806025751, 4, 6)]\n",
            "matches: [(11840699188806025751, 2, 3)]\n",
            "matches: [(11840699188806025751, 3, 4)]\n"
          ],
          "name": "stdout"
        },
        {
          "output_type": "stream",
          "text": [
            " 32%|███▏      | 1365/4318 [00:16<00:32, 91.38it/s]"
          ],
          "name": "stderr"
        },
        {
          "output_type": "stream",
          "text": [
            "matches: [(11840699188806025751, 14, 15)]\n",
            "matches: [(11840699188806025751, 3, 4), (11840699188806025751, 3, 5)]\n",
            "matches: [(11840699188806025751, 1, 2)]\n",
            "matches: [(11840699188806025751, 1, 2), (11840699188806025751, 1, 3)]\n",
            "matches: [(11840699188806025751, 6, 7), (11840699188806025751, 6, 8)]\n",
            "matches: [(11840699188806025751, 3, 4)]\n",
            "matches: [(11840699188806025751, 2, 3), (11840699188806025751, 2, 4)]\n",
            "matches: [(11840699188806025751, 8, 9)]\n",
            "matches: [(11840699188806025751, 2, 3)]\n",
            "matches: [(11840699188806025751, 3, 4)]\n",
            "matches: [(11840699188806025751, 1, 2)]\n",
            "matches: [(11840699188806025751, 1, 2)]\n",
            "matches: [(11840699188806025751, 3, 4)]\n",
            "matches: [(11840699188806025751, 3, 4), (11840699188806025751, 3, 5)]\n",
            "matches: [(11840699188806025751, 1, 2)]\n",
            "matches: [(11840699188806025751, 3, 4)]\n",
            "matches: [(11840699188806025751, 2, 3), (11840699188806025751, 2, 4)]\n",
            "matches: [(11840699188806025751, 3, 4)]\n",
            "matches: [(11840699188806025751, 8, 9)]\n",
            "matches: [(11840699188806025751, 9, 10)]\n"
          ],
          "name": "stdout"
        },
        {
          "output_type": "stream",
          "text": [
            " 32%|███▏      | 1385/4318 [00:16<00:32, 91.56it/s]"
          ],
          "name": "stderr"
        },
        {
          "output_type": "stream",
          "text": [
            "matches: [(11840699188806025751, 9, 10)]\n",
            "matches: [(11840699188806025751, 2, 3), (11840699188806025751, 2, 4)]\n",
            "matches: [(11840699188806025751, 1, 2)]\n",
            "matches: [(11840699188806025751, 3, 4)]\n",
            "matches: [(11840699188806025751, 4, 5), (11840699188806025751, 4, 6)]\n",
            "matches: [(11840699188806025751, 1, 2)]\n",
            "matches: [(11840699188806025751, 1, 2)]\n",
            "matches: [(11840699188806025751, 1, 2)]\n",
            "matches: [(11840699188806025751, 3, 4)]\n",
            "matches: [(11840699188806025751, 2, 3), (11840699188806025751, 2, 4)]\n",
            "matches: [(11840699188806025751, 1, 2)]\n",
            "matches: [(11840699188806025751, 7, 8), (11840699188806025751, 7, 9)]\n",
            "matches: [(11840699188806025751, 13, 14), (11840699188806025751, 13, 15), (11840699188806025751, 13, 16)]\n",
            "matches: [(11840699188806025751, 1, 2)]\n",
            "matches: [(11840699188806025751, 4, 5)]\n",
            "matches: [(11840699188806025751, 1, 2)]\n",
            "matches: [(11840699188806025751, 1, 2), (11840699188806025751, 1, 3)]\n",
            "matches: [(11840699188806025751, 3, 4)]\n",
            "matches: [(11840699188806025751, 2, 3)]\n",
            "matches: [(11840699188806025751, 2, 3)]"
          ],
          "name": "stdout"
        },
        {
          "output_type": "stream",
          "text": [
            " 33%|███▎      | 1405/4318 [00:16<00:31, 91.38it/s]"
          ],
          "name": "stderr"
        },
        {
          "output_type": "stream",
          "text": [
            "\n",
            "matches: [(11840699188806025751, 2, 3), (11840699188806025751, 2, 4)]\n",
            "matches: [(11840699188806025751, 6, 7), (11840699188806025751, 6, 8), (11840699188806025751, 6, 9)]\n",
            "matches: [(11840699188806025751, 3, 4)]\n",
            "matches: [(11840699188806025751, 7, 8), (11840699188806025751, 7, 9)]\n",
            "matches: [(11840699188806025751, 5, 6)]\n",
            "matches: [(11840699188806025751, 0, 1)]\n",
            "matches: [(11840699188806025751, 2, 3), (11840699188806025751, 2, 4)]\n",
            "matches: [(11840699188806025751, 6, 7)]\n",
            "matches: [(11840699188806025751, 3, 4)]\n",
            "matches: [(11840699188806025751, 3, 4)]\n",
            "matches: [(11840699188806025751, 0, 1)]\n",
            "matches: [(11840699188806025751, 1, 2)]\n",
            "matches: [(11840699188806025751, 3, 4), (11840699188806025751, 3, 5)]\n",
            "matches: [(11840699188806025751, 2, 3)]\n",
            "matches: [(11840699188806025751, 5, 6)]\n",
            "matches: [(11840699188806025751, 15, 16)]\n",
            "matches: [(11840699188806025751, 4, 5), (11840699188806025751, 4, 6)]\n",
            "matches: [(11840699188806025751, 6, 7)]\n"
          ],
          "name": "stdout"
        },
        {
          "output_type": "stream",
          "text": [
            " 33%|███▎      | 1425/4318 [00:16<00:31, 90.59it/s]"
          ],
          "name": "stderr"
        },
        {
          "output_type": "stream",
          "text": [
            "matches: [(11840699188806025751, 2, 3)]\n",
            "matches: [(11840699188806025751, 3, 4), (11840699188806025751, 3, 5)]\n",
            "matches: [(11840699188806025751, 8, 9), (11840699188806025751, 8, 10)]\n",
            "matches: [(11840699188806025751, 3, 4)]\n",
            "matches: [(11840699188806025751, 1, 2)]\n",
            "matches: [(11840699188806025751, 0, 1)]\n",
            "matches: [(11840699188806025751, 1, 2)]\n",
            "matches: [(11840699188806025751, 3, 4), (11840699188806025751, 3, 5)]\n",
            "matches: [(11840699188806025751, 2, 3)]\n",
            "matches: [(11840699188806025751, 5, 6)]\n",
            "matches: [(11840699188806025751, 15, 16)]\n",
            "matches: [(11840699188806025751, 4, 5), (11840699188806025751, 4, 6)]\n",
            "matches: [(11840699188806025751, 6, 7)]\n",
            "matches: [(11840699188806025751, 2, 3)]\n",
            "matches: [(11840699188806025751, 3, 4), (11840699188806025751, 3, 5)]\n",
            "matches: [(11840699188806025751, 8, 9), (11840699188806025751, 8, 10)]\n",
            "matches: [(11840699188806025751, 3, 4)]\n",
            "matches: [(11840699188806025751, 1, 2)]\n",
            "matches: [(11840699188806025751, 0, 1)]\n",
            "matches: [(11840699188806025751, 6, 7), (11840699188806025751, 6, 8)]\n"
          ],
          "name": "stdout"
        },
        {
          "output_type": "stream",
          "text": [
            " 33%|███▎      | 1444/4318 [00:17<00:33, 86.20it/s]"
          ],
          "name": "stderr"
        },
        {
          "output_type": "stream",
          "text": [
            "matches: [(11840699188806025751, 1, 2)]\n",
            "matches: [(11840699188806025751, 3, 4)]\n",
            "matches: [(11840699188806025751, 4, 5), (11840699188806025751, 4, 6)]\n",
            "matches: [(11840699188806025751, 2, 3), (11840699188806025751, 2, 4)]\n",
            "matches: [(11840699188806025751, 2, 3)]\n",
            "matches: [(11840699188806025751, 3, 4), (11840699188806025751, 3, 5)]\n",
            "matches: [(11840699188806025751, 5, 6)]\n",
            "matches: [(11840699188806025751, 3, 4)]\n",
            "matches: [(11840699188806025751, 5, 6), (11840699188806025751, 5, 7)]\n",
            "matches: [(11840699188806025751, 1, 2)]\n",
            "matches: [(11840699188806025751, 7, 8)]\n",
            "matches: [(11840699188806025751, 3, 4), (11840699188806025751, 3, 5)]\n",
            "matches: [(11840699188806025751, 2, 3), (11840699188806025751, 2, 4)]\n",
            "matches: [(11840699188806025751, 13, 14), (11840699188806025751, 13, 15)]\n",
            "matches: [(11840699188806025751, 26, 27)]\n",
            "matches: [(11840699188806025751, 11, 12)]\n",
            "matches: [(11840699188806025751, 3, 4), (11840699188806025751, 3, 5)]\n",
            "matches: [(11840699188806025751, 3, 4)]\n"
          ],
          "name": "stdout"
        },
        {
          "output_type": "stream",
          "text": [
            " 34%|███▍      | 1462/4318 [00:17<00:33, 85.70it/s]"
          ],
          "name": "stderr"
        },
        {
          "output_type": "stream",
          "text": [
            "matches: [(11840699188806025751, 5, 6)]\n",
            "matches: [(11840699188806025751, 0, 1), (11840699188806025751, 0, 2)]\n",
            "matches: [(11840699188806025751, 3, 4), (11840699188806025751, 3, 5), (11840699188806025751, 3, 6)]\n",
            "matches: [(11840699188806025751, 10, 11), (11840699188806025751, 10, 12)]\n",
            "matches: [(11840699188806025751, 3, 4), (11840699188806025751, 3, 5)]\n",
            "matches: [(11840699188806025751, 3, 4), (11840699188806025751, 3, 5), (11840699188806025751, 3, 6)]\n",
            "matches: [(11840699188806025751, 4, 5)]\n",
            "matches: [(11840699188806025751, 3, 4)]\n",
            "matches: [(11840699188806025751, 2, 3), (11840699188806025751, 2, 4)]\n",
            "matches: [(11840699188806025751, 4, 5)]\n",
            "matches: [(11840699188806025751, 4, 5), (11840699188806025751, 4, 6)]\n",
            "matches: [(11840699188806025751, 4, 5)]\n",
            "matches: [(11840699188806025751, 2, 3)]\n",
            "matches: [(11840699188806025751, 4, 5)]\n",
            "matches: [(11840699188806025751, 2, 3)]\n",
            "matches: [(11840699188806025751, 5, 6)]\n",
            "matches: [(11840699188806025751, 3, 4), (11840699188806025751, 3, 5)]\n",
            "matches: [(11840699188806025751, 8, 9)]\n"
          ],
          "name": "stdout"
        },
        {
          "output_type": "stream",
          "text": [
            " 34%|███▍      | 1480/4318 [00:17<00:33, 85.55it/s]"
          ],
          "name": "stderr"
        },
        {
          "output_type": "stream",
          "text": [
            "matches: [(11840699188806025751, 11, 12)]\n",
            "matches: [(11840699188806025751, 3, 4), (11840699188806025751, 3, 5)]\n",
            "matches: [(11840699188806025751, 8, 9), (11840699188806025751, 8, 10)]\n",
            "matches: [(11840699188806025751, 3, 4)]\n",
            "matches: [(11840699188806025751, 3, 4)]\n",
            "matches: [(11840699188806025751, 2, 3)]\n",
            "matches: [(11840699188806025751, 1, 2)]\n",
            "matches: [(11840699188806025751, 1, 2)]\n",
            "matches: [(11840699188806025751, 2, 3)]\n",
            "matches: [(11840699188806025751, 6, 7)]\n",
            "matches: [(11840699188806025751, 6, 7)]\n",
            "matches: [(11840699188806025751, 2, 3), (11840699188806025751, 2, 4), (11840699188806025751, 2, 5)]\n",
            "matches: [(11840699188806025751, 0, 1)]\n",
            "matches: [(11840699188806025751, 5, 6), (11840699188806025751, 5, 7)]\n",
            "matches: [(11840699188806025751, 10, 11), (11840699188806025751, 10, 12)]\n",
            "matches: [(11840699188806025751, 11, 12), (11840699188806025751, 11, 13)]\n",
            "matches: [(11840699188806025751, 1, 2)]\n"
          ],
          "name": "stdout"
        },
        {
          "output_type": "stream",
          "text": [
            " 35%|███▍      | 1499/4318 [00:17<00:32, 87.77it/s]"
          ],
          "name": "stderr"
        },
        {
          "output_type": "stream",
          "text": [
            "matches: [(11840699188806025751, 1, 2)]\n",
            "matches: [(11840699188806025751, 3, 4), (11840699188806025751, 3, 5)]\n",
            "matches: [(11840699188806025751, 2, 3)]\n",
            "matches: [(11840699188806025751, 1, 2)]\n",
            "matches: [(11840699188806025751, 2, 3), (11840699188806025751, 2, 4)]\n",
            "matches: [(11840699188806025751, 6, 7)]\n",
            "matches: [(11840699188806025751, 0, 1)]\n",
            "matches: [(11840699188806025751, 5, 6), (11840699188806025751, 5, 7)]\n",
            "matches: [(11840699188806025751, 7, 8), (11840699188806025751, 7, 9)]\n",
            "matches: [(11840699188806025751, 1, 2)]\n",
            "matches: [(11840699188806025751, 2, 3)]\n",
            "matches: [(11840699188806025751, 9, 10), (11840699188806025751, 9, 11)]\n",
            "matches: [(11840699188806025751, 2, 3)]\n",
            "matches: [(11840699188806025751, 2, 3), (11840699188806025751, 2, 4)]\n",
            "matches: [(11840699188806025751, 5, 6)]\n",
            "matches: [(11840699188806025751, 3, 4)]\n",
            "matches: [(11840699188806025751, 2, 3), (11840699188806025751, 2, 4)]\n",
            "matches: [(11840699188806025751, 2, 3)]\n",
            "matches: [(11840699188806025751, 5, 6)]\n",
            "matches: [(11840699188806025751, 6, 7)]\n"
          ],
          "name": "stdout"
        },
        {
          "output_type": "stream",
          "text": [
            " 35%|███▌      | 1517/4318 [00:17<00:31, 87.85it/s]"
          ],
          "name": "stderr"
        },
        {
          "output_type": "stream",
          "text": [
            "matches: [(11840699188806025751, 3, 4)]\n",
            "matches: [(11840699188806025751, 7, 8)]\n",
            "matches: [(11840699188806025751, 5, 6)]\n",
            "matches: [(11840699188806025751, 3, 4), (11840699188806025751, 3, 5)]\n",
            "matches: [(11840699188806025751, 5, 6)]\n",
            "matches: [(11840699188806025751, 3, 4)]\n",
            "matches: [(11840699188806025751, 5, 6), (11840699188806025751, 5, 7)]\n",
            "matches: [(11840699188806025751, 1, 2)]\n",
            "matches: [(11840699188806025751, 7, 8)]\n",
            "matches: [(11840699188806025751, 3, 4), (11840699188806025751, 3, 5)]\n",
            "matches: [(11840699188806025751, 2, 3), (11840699188806025751, 2, 4)]\n",
            "matches: [(11840699188806025751, 13, 14), (11840699188806025751, 13, 15)]\n",
            "matches: [(11840699188806025751, 26, 27)]\n",
            "matches: [(11840699188806025751, 11, 12)]\n",
            "matches: [(11840699188806025751, 3, 4), (11840699188806025751, 3, 5)]\n",
            "matches: [(11840699188806025751, 3, 4)]\n",
            "matches: [(11840699188806025751, 5, 6)]\n",
            "matches: [(11840699188806025751, 0, 1), (11840699188806025751, 0, 2)]\n"
          ],
          "name": "stdout"
        },
        {
          "output_type": "stream",
          "text": [
            " 36%|███▌      | 1536/4318 [00:18<00:31, 87.90it/s]"
          ],
          "name": "stderr"
        },
        {
          "output_type": "stream",
          "text": [
            "matches: [(11840699188806025751, 3, 4), (11840699188806025751, 3, 5), (11840699188806025751, 3, 6)]\n",
            "matches: [(11840699188806025751, 10, 11), (11840699188806025751, 10, 12)]\n",
            "matches: [(11840699188806025751, 3, 4), (11840699188806025751, 3, 5)]\n",
            "matches: [(11840699188806025751, 3, 4), (11840699188806025751, 3, 5), (11840699188806025751, 3, 6)]\n",
            "matches: [(11840699188806025751, 4, 5)]\n",
            "matches: [(11840699188806025751, 3, 4)]\n",
            "matches: [(11840699188806025751, 2, 3), (11840699188806025751, 2, 4)]\n",
            "matches: [(11840699188806025751, 4, 5)]\n",
            "matches: [(11840699188806025751, 4, 5), (11840699188806025751, 4, 6)]\n",
            "matches: [(11840699188806025751, 4, 5)]\n",
            "matches: [(11840699188806025751, 2, 3)]\n",
            "matches: [(11840699188806025751, 4, 5)]\n",
            "matches: [(11840699188806025751, 2, 3)]\n",
            "matches: [(11840699188806025751, 5, 6)]\n",
            "matches: [(11840699188806025751, 3, 4), (11840699188806025751, 3, 5)]\n",
            "matches: [(11840699188806025751, 8, 9)]\n",
            "matches: [(11840699188806025751, 11, 12)]\n",
            "matches: [(11840699188806025751, 3, 4), (11840699188806025751, 3, 5)]\n",
            "matches: [(11840699188806025751, 8, 9), (11840699188806025751, 8, 10)]\n"
          ],
          "name": "stdout"
        },
        {
          "output_type": "stream",
          "text": [
            " 36%|███▌      | 1554/4318 [00:18<00:32, 84.09it/s]"
          ],
          "name": "stderr"
        },
        {
          "output_type": "stream",
          "text": [
            "matches: [(11840699188806025751, 3, 4)]\n",
            "matches: [(11840699188806025751, 3, 4)]\n",
            "matches: [(11840699188806025751, 2, 3)]\n",
            "matches: [(11840699188806025751, 1, 2)]\n",
            "matches: [(11840699188806025751, 1, 2)]\n",
            "matches: [(11840699188806025751, 2, 3)]\n",
            "matches: [(11840699188806025751, 6, 7)]\n",
            "matches: [(11840699188806025751, 6, 7)]\n",
            "matches: [(11840699188806025751, 2, 3), (11840699188806025751, 2, 4), (11840699188806025751, 2, 5)]\n",
            "matches: [(11840699188806025751, 0, 1)]\n",
            "matches: [(11840699188806025751, 5, 6), (11840699188806025751, 5, 7)]\n",
            "matches: [(11840699188806025751, 10, 11), (11840699188806025751, 10, 12)]\n",
            "matches: [(11840699188806025751, 11, 12), (11840699188806025751, 11, 13)]\n",
            "matches: [(11840699188806025751, 1, 2)]\n",
            "matches: [(11840699188806025751, 1, 2)]\n",
            "matches: [(11840699188806025751, 3, 4), (11840699188806025751, 3, 5)]\n",
            "matches: [(11840699188806025751, 2, 3)]\n"
          ],
          "name": "stdout"
        },
        {
          "output_type": "stream",
          "text": [
            " 36%|███▋      | 1573/4318 [00:18<00:31, 86.99it/s]"
          ],
          "name": "stderr"
        },
        {
          "output_type": "stream",
          "text": [
            "matches: [(11840699188806025751, 1, 2)]\n",
            "matches: [(11840699188806025751, 2, 3), (11840699188806025751, 2, 4)]\n",
            "matches: [(11840699188806025751, 6, 7)]\n",
            "matches: [(11840699188806025751, 0, 1)]\n",
            "matches: [(11840699188806025751, 5, 6), (11840699188806025751, 5, 7)]\n",
            "matches: [(11840699188806025751, 7, 8), (11840699188806025751, 7, 9)]\n",
            "matches: [(11840699188806025751, 1, 2)]\n",
            "matches: [(11840699188806025751, 2, 3)]\n",
            "matches: [(11840699188806025751, 9, 10), (11840699188806025751, 9, 11)]\n",
            "matches: [(11840699188806025751, 2, 3)]\n",
            "matches: [(11840699188806025751, 2, 3), (11840699188806025751, 2, 4)]\n",
            "matches: [(11840699188806025751, 5, 6)]\n",
            "matches: [(11840699188806025751, 3, 4)]\n",
            "matches: [(11840699188806025751, 2, 3), (11840699188806025751, 2, 4)]\n",
            "matches: [(11840699188806025751, 2, 3)]\n",
            "matches: [(11840699188806025751, 5, 6)]\n",
            "matches: [(11840699188806025751, 6, 7)]\n",
            "matches: [(11840699188806025751, 3, 4)]\n",
            "matches: [(11840699188806025751, 7, 8)]\n",
            "matches: [(11840699188806025751, 5, 6)]\n"
          ],
          "name": "stdout"
        },
        {
          "output_type": "stream",
          "text": [
            " 37%|███▋      | 1592/4318 [00:18<00:31, 87.57it/s]"
          ],
          "name": "stderr"
        },
        {
          "output_type": "stream",
          "text": [
            "matches: [(11840699188806025751, 4, 5)]\n",
            "matches: [(11840699188806025751, 4, 5)]\n",
            "matches: [(11840699188806025751, 3, 4), (11840699188806025751, 3, 5), (11840699188806025751, 3, 6)]\n",
            "matches: [(11840699188806025751, 2, 3)]\n",
            "matches: [(11840699188806025751, 3, 4)]\n",
            "matches: [(11840699188806025751, 2, 3)]\n",
            "matches: [(11840699188806025751, 5, 6), (11840699188806025751, 5, 7), (11840699188806025751, 5, 8)]\n",
            "matches: [(11840699188806025751, 4, 5), (11840699188806025751, 4, 6)]\n",
            "matches: [(11840699188806025751, 9, 10)]\n",
            "matches: [(11840699188806025751, 3, 4)]\n",
            "matches: [(11840699188806025751, 2, 3)]\n",
            "matches: [(11840699188806025751, 2, 3)]\n",
            "matches: [(11840699188806025751, 4, 5)]\n",
            "matches: [(11840699188806025751, 3, 4)]\n",
            "matches: [(11840699188806025751, 13, 14)]\n",
            "matches: [(11840699188806025751, 11, 12), (11840699188806025751, 11, 13)]\n",
            "matches: [(11840699188806025751, 9, 10)]\n",
            "matches: [(11840699188806025751, 3, 4), (11840699188806025751, 3, 5)]\n"
          ],
          "name": "stdout"
        },
        {
          "output_type": "stream",
          "text": [
            " 37%|███▋      | 1610/4318 [00:18<00:30, 88.05it/s]"
          ],
          "name": "stderr"
        },
        {
          "output_type": "stream",
          "text": [
            "matches: [(11840699188806025751, 1, 2)]\n",
            "matches: [(11840699188806025751, 3, 4), (11840699188806025751, 3, 5)]\n",
            "matches: [(11840699188806025751, 1, 2)]\n",
            "matches: [(11840699188806025751, 1, 2)]\n",
            "matches: [(11840699188806025751, 4, 5), (11840699188806025751, 4, 6)]\n",
            "matches: [(11840699188806025751, 1, 2)]\n",
            "matches: [(11840699188806025751, 8, 9)]\n",
            "matches: [(11840699188806025751, 5, 6)]\n",
            "matches: [(11840699188806025751, 6, 7)]\n",
            "matches: [(11840699188806025751, 1, 2)]\n",
            "matches: [(11840699188806025751, 1, 2)]\n",
            "matches: [(11840699188806025751, 3, 4), (11840699188806025751, 3, 5)]\n",
            "matches: [(11840699188806025751, 12, 13)]\n",
            "matches: [(11840699188806025751, 1, 2), (11840699188806025751, 19, 20)]\n",
            "matches: [(11840699188806025751, 5, 6)]\n",
            "matches: [(11840699188806025751, 3, 4), (11840699188806025751, 3, 5)]\n",
            "matches: [(11840699188806025751, 1, 2)]\n",
            "matches: [(11840699188806025751, 1, 2)]\n"
          ],
          "name": "stdout"
        },
        {
          "output_type": "stream",
          "text": [
            " 38%|███▊      | 1628/4318 [00:19<00:30, 87.24it/s]"
          ],
          "name": "stderr"
        },
        {
          "output_type": "stream",
          "text": [
            "matches: [(11840699188806025751, 8, 9)]\n",
            "matches: [(11840699188806025751, 1, 2), (11840699188806025751, 1, 3)]\n",
            "matches: [(11840699188806025751, 1, 2)]\n",
            "matches: [(11840699188806025751, 2, 3)]\n",
            "matches: [(11840699188806025751, 5, 6)]\n",
            "matches: [(11840699188806025751, 1, 2)]\n",
            "matches: [(11840699188806025751, 1, 2)]\n",
            "matches: [(11840699188806025751, 2, 3), (11840699188806025751, 2, 4)]\n",
            "matches: [(11840699188806025751, 5, 6), (11840699188806025751, 5, 7)]\n",
            "matches: [(11840699188806025751, 2, 3), (11840699188806025751, 2, 4)]\n",
            "matches: [(11840699188806025751, 4, 5), (11840699188806025751, 4, 6)]\n",
            "matches: [(11840699188806025751, 3, 4), (11840699188806025751, 3, 5)]\n",
            "matches: [(11840699188806025751, 3, 4)]\n",
            "matches: [(11840699188806025751, 3, 4)]\n",
            "matches: [(11840699188806025751, 6, 7)]\n",
            "matches: [(11840699188806025751, 3, 4), (11840699188806025751, 3, 5)]\n",
            "matches: [(11840699188806025751, 1, 2)]\n",
            "matches: [(11840699188806025751, 1, 2)]\n"
          ],
          "name": "stdout"
        },
        {
          "output_type": "stream",
          "text": [
            " 38%|███▊      | 1646/4318 [00:19<00:30, 87.27it/s]"
          ],
          "name": "stderr"
        },
        {
          "output_type": "stream",
          "text": [
            "matches: [(11840699188806025751, 8, 9)]\n",
            "matches: [(11840699188806025751, 1, 2), (11840699188806025751, 1, 3)]\n",
            "matches: [(11840699188806025751, 1, 2)]\n",
            "matches: [(11840699188806025751, 2, 3)]\n",
            "matches: [(11840699188806025751, 5, 6)]\n",
            "matches: [(11840699188806025751, 1, 2)]\n",
            "matches: [(11840699188806025751, 1, 2)]\n",
            "matches: [(11840699188806025751, 2, 3), (11840699188806025751, 2, 4)]\n",
            "matches: [(11840699188806025751, 5, 6), (11840699188806025751, 5, 7)]\n",
            "matches: [(11840699188806025751, 2, 3), (11840699188806025751, 2, 4)]\n",
            "matches: [(11840699188806025751, 4, 5), (11840699188806025751, 4, 6)]\n",
            "matches: [(11840699188806025751, 3, 4), (11840699188806025751, 3, 5)]\n",
            "matches: [(11840699188806025751, 3, 4)]\n",
            "matches: [(11840699188806025751, 3, 4)]\n",
            "matches: [(11840699188806025751, 6, 7)]\n",
            "matches: [(11840699188806025751, 4, 5), (11840699188806025751, 4, 6)]\n",
            "matches: [(11840699188806025751, 3, 4)]\n",
            "matches: [(11840699188806025751, 2, 3)]\n"
          ],
          "name": "stdout"
        },
        {
          "output_type": "stream",
          "text": [
            " 39%|███▊      | 1664/4318 [00:19<00:30, 86.26it/s]"
          ],
          "name": "stderr"
        },
        {
          "output_type": "stream",
          "text": [
            "matches: [(11840699188806025751, 2, 3)]\n",
            "matches: [(11840699188806025751, 2, 3), (11840699188806025751, 2, 4), (11840699188806025751, 2, 5)]\n",
            "matches: [(11840699188806025751, 0, 1), (11840699188806025751, 14, 15)]\n",
            "matches: [(11840699188806025751, 3, 4), (11840699188806025751, 3, 5)]\n",
            "matches: [(11840699188806025751, 14, 15)]\n",
            "matches: [(11840699188806025751, 4, 5), (11840699188806025751, 4, 6)]\n",
            "matches: [(11840699188806025751, 3, 4)]\n",
            "matches: [(11840699188806025751, 6, 7), (11840699188806025751, 6, 8)]\n",
            "matches: [(11840699188806025751, 2, 3)]\n",
            "matches: [(11840699188806025751, 6, 7), (11840699188806025751, 6, 8), (11840699188806025751, 6, 9)]\n",
            "matches: [(11840699188806025751, 3, 4)]\n",
            "matches: [(11840699188806025751, 2, 3), (11840699188806025751, 2, 4)]\n",
            "matches: [(11840699188806025751, 8, 9)]\n",
            "matches: [(11840699188806025751, 4, 5), (11840699188806025751, 4, 6), (11840699188806025751, 4, 7)]\n",
            "matches: [(11840699188806025751, 3, 4)]\n",
            "matches: [(11840699188806025751, 1, 2)]\n",
            "matches: [(11840699188806025751, 2, 3), (11840699188806025751, 2, 4)]\n",
            "matches: [(11840699188806025751, 2, 3)]\n"
          ],
          "name": "stdout"
        },
        {
          "output_type": "stream",
          "text": [
            " 39%|███▉      | 1682/4318 [00:19<00:31, 83.53it/s]"
          ],
          "name": "stderr"
        },
        {
          "output_type": "stream",
          "text": [
            "matches: [(11840699188806025751, 3, 4), (11840699188806025751, 3, 5)]\n",
            "matches: [(11840699188806025751, 1, 2)]\n",
            "matches: [(11840699188806025751, 2, 3), (11840699188806025751, 2, 4)]\n",
            "matches: [(11840699188806025751, 1, 2)]\n",
            "matches: [(11840699188806025751, 3, 4), (11840699188806025751, 3, 5)]\n",
            "matches: [(11840699188806025751, 2, 3)]\n",
            "matches: [(11840699188806025751, 12, 13)]\n",
            "matches: [(11840699188806025751, 5, 6)]\n",
            "matches: [(11840699188806025751, 9, 10), (11840699188806025751, 9, 11)]\n",
            "matches: [(11840699188806025751, 2, 3)]\n",
            "matches: [(11840699188806025751, 2, 3)]\n",
            "matches: [(11840699188806025751, 6, 7)]\n",
            "matches: [(11840699188806025751, 2, 3)]\n",
            "matches: [(11840699188806025751, 5, 6), (11840699188806025751, 5, 7)]\n",
            "matches: [(11840699188806025751, 14, 15), (11840699188806025751, 14, 16)]\n",
            "matches: [(11840699188806025751, 9, 10)]\n",
            "matches: [(11840699188806025751, 6, 7)]\n"
          ],
          "name": "stdout"
        },
        {
          "output_type": "stream",
          "text": [
            " 39%|███▉      | 1700/4318 [00:19<00:31, 84.38it/s]"
          ],
          "name": "stderr"
        },
        {
          "output_type": "stream",
          "text": [
            "matches: [(11840699188806025751, 2, 3)]\n",
            "matches: [(11840699188806025751, 1, 2)]\n",
            "matches: [(11840699188806025751, 5, 6), (11840699188806025751, 5, 7), (11840699188806025751, 5, 8)]\n",
            "matches: [(11840699188806025751, 3, 4)]\n",
            "matches: [(11840699188806025751, 2, 3)]\n",
            "matches: [(11840699188806025751, 3, 4), (11840699188806025751, 3, 5)]\n",
            "matches: [(11840699188806025751, 3, 4)]\n",
            "matches: [(11840699188806025751, 2, 3)]\n",
            "matches: [(11840699188806025751, 3, 4), (11840699188806025751, 3, 5)]\n",
            "matches: [(11840699188806025751, 4, 5)]\n",
            "matches: [(11840699188806025751, 3, 4)]\n",
            "matches: [(11840699188806025751, 5, 6), (11840699188806025751, 5, 7)]\n",
            "matches: [(11840699188806025751, 6, 7), (11840699188806025751, 6, 8)]\n",
            "matches: [(11840699188806025751, 2, 3)]\n",
            "matches: [(11840699188806025751, 2, 3), (11840699188806025751, 2, 4)]\n",
            "matches: [(11840699188806025751, 2, 3)]\n",
            "matches: [(11840699188806025751, 2, 3)]\n",
            "matches: [(11840699188806025751, 6, 7), (11840699188806025751, 6, 8)]\n"
          ],
          "name": "stdout"
        },
        {
          "output_type": "stream",
          "text": [
            " 40%|███▉      | 1718/4318 [00:20<00:31, 82.37it/s]"
          ],
          "name": "stderr"
        },
        {
          "output_type": "stream",
          "text": [
            "matches: [(11840699188806025751, 2, 3)]\n",
            "matches: [(11840699188806025751, 2, 3), (11840699188806025751, 2, 4)]\n",
            "matches: [(11840699188806025751, 4, 5), (11840699188806025751, 4, 6)]\n",
            "matches: [(11840699188806025751, 2, 3)]\n",
            "matches: [(11840699188806025751, 6, 7), (11840699188806025751, 6, 8)]\n",
            "matches: [(11840699188806025751, 6, 7), (11840699188806025751, 6, 8)]\n",
            "matches: [(11840699188806025751, 7, 8)]\n",
            "matches: [(11840699188806025751, 4, 5)]\n",
            "matches: [(11840699188806025751, 3, 4)]\n",
            "matches: [(11840699188806025751, 3, 4), (11840699188806025751, 3, 5)]\n",
            "matches: [(11840699188806025751, 16, 17)]\n",
            "matches: [(11840699188806025751, 1, 2), (11840699188806025751, 1, 3)]\n",
            "matches: [(11840699188806025751, 3, 4)]\n",
            "matches: [(11840699188806025751, 1, 2)]\n",
            "matches: [(11840699188806025751, 4, 5)]\n",
            "matches: [(11840699188806025751, 3, 4), (11840699188806025751, 3, 5)]\n",
            "matches: [(11840699188806025751, 2, 3)]\n"
          ],
          "name": "stdout"
        },
        {
          "output_type": "stream",
          "text": [
            " 40%|████      | 1736/4318 [00:20<00:30, 85.07it/s]"
          ],
          "name": "stderr"
        },
        {
          "output_type": "stream",
          "text": [
            "matches: [(11840699188806025751, 12, 13)]\n",
            "matches: [(11840699188806025751, 5, 6)]\n",
            "matches: [(11840699188806025751, 9, 10), (11840699188806025751, 9, 11)]\n",
            "matches: [(11840699188806025751, 2, 3)]\n",
            "matches: [(11840699188806025751, 2, 3)]\n",
            "matches: [(11840699188806025751, 6, 7)]\n",
            "matches: [(11840699188806025751, 2, 3)]\n",
            "matches: [(11840699188806025751, 5, 6), (11840699188806025751, 5, 7)]\n",
            "matches: [(11840699188806025751, 14, 15), (11840699188806025751, 14, 16)]\n",
            "matches: [(11840699188806025751, 9, 10)]\n",
            "matches: [(11840699188806025751, 6, 7)]\n",
            "matches: [(11840699188806025751, 2, 3)]\n",
            "matches: [(11840699188806025751, 1, 2)]\n",
            "matches: [(11840699188806025751, 5, 6), (11840699188806025751, 5, 7), (11840699188806025751, 5, 8)]\n",
            "matches: [(11840699188806025751, 3, 4)]\n",
            "matches: [(11840699188806025751, 2, 3)]\n",
            "matches: [(11840699188806025751, 3, 4), (11840699188806025751, 3, 5)]\n",
            "matches: [(11840699188806025751, 3, 4)]\n"
          ],
          "name": "stdout"
        },
        {
          "output_type": "stream",
          "text": [
            " 41%|████      | 1754/4318 [00:20<00:30, 85.42it/s]"
          ],
          "name": "stderr"
        },
        {
          "output_type": "stream",
          "text": [
            "matches: [(11840699188806025751, 2, 3)]\n",
            "matches: [(11840699188806025751, 3, 4), (11840699188806025751, 3, 5)]\n",
            "matches: [(11840699188806025751, 4, 5)]\n",
            "matches: [(11840699188806025751, 3, 4)]\n",
            "matches: [(11840699188806025751, 5, 6), (11840699188806025751, 5, 7)]\n",
            "matches: [(11840699188806025751, 6, 7), (11840699188806025751, 6, 8)]\n",
            "matches: [(11840699188806025751, 2, 3)]\n",
            "matches: [(11840699188806025751, 2, 3), (11840699188806025751, 2, 4)]\n",
            "matches: [(11840699188806025751, 2, 3)]\n",
            "matches: [(11840699188806025751, 2, 3)]\n",
            "matches: [(11840699188806025751, 6, 7), (11840699188806025751, 6, 8)]\n",
            "matches: [(11840699188806025751, 2, 3)]\n",
            "matches: [(11840699188806025751, 2, 3), (11840699188806025751, 2, 4)]\n",
            "matches: [(11840699188806025751, 4, 5), (11840699188806025751, 4, 6)]\n",
            "matches: [(11840699188806025751, 2, 3)]\n",
            "matches: [(11840699188806025751, 6, 7), (11840699188806025751, 6, 8)]\n",
            "matches: [(11840699188806025751, 6, 7), (11840699188806025751, 6, 8)]\n",
            "matches: [(11840699188806025751, 7, 8)]\n",
            "matches: [(11840699188806025751, 4, 5)]\n"
          ],
          "name": "stdout"
        },
        {
          "output_type": "stream",
          "text": [
            " 41%|████      | 1773/4318 [00:20<00:28, 87.98it/s]"
          ],
          "name": "stderr"
        },
        {
          "output_type": "stream",
          "text": [
            "matches: [(11840699188806025751, 3, 4)]\n",
            "matches: [(11840699188806025751, 3, 4), (11840699188806025751, 3, 5)]\n",
            "matches: [(11840699188806025751, 16, 17)]\n",
            "matches: [(11840699188806025751, 1, 2), (11840699188806025751, 1, 3)]\n",
            "matches: [(11840699188806025751, 3, 4)]\n",
            "matches: [(11840699188806025751, 1, 2)]\n",
            "matches: [(11840699188806025751, 4, 5)]\n",
            "matches: [(11840699188806025751, 3, 4), (11840699188806025751, 3, 5)]\n",
            "matches: [(11840699188806025751, 2, 3)]\n",
            "matches: [(11840699188806025751, 3, 4), (11840699188806025751, 3, 5)]\n",
            "matches: [(11840699188806025751, 2, 3), (11840699188806025751, 2, 4)]\n",
            "matches: [(11840699188806025751, 5, 6), (11840699188806025751, 5, 7)]\n",
            "matches: [(11840699188806025751, 5, 6), (11840699188806025751, 5, 7)]\n",
            "matches: [(11840699188806025751, 6, 7), (11840699188806025751, 6, 8)]\n",
            "matches: [(11840699188806025751, 2, 3)]\n",
            "matches: [(11840699188806025751, 3, 4)]\n",
            "matches: [(11840699188806025751, 5, 6)]\n",
            "matches: [(11840699188806025751, 2, 3)]\n",
            "matches: [(11840699188806025751, 6, 7)]\n"
          ],
          "name": "stdout"
        },
        {
          "output_type": "stream",
          "text": [
            " 41%|████▏     | 1791/4318 [00:21<00:29, 85.75it/s]"
          ],
          "name": "stderr"
        },
        {
          "output_type": "stream",
          "text": [
            "matches: [(11840699188806025751, 4, 5), (11840699188806025751, 4, 6)]\n",
            "matches: [(11840699188806025751, 9, 10), (11840699188806025751, 9, 11)]\n",
            "matches: [(11840699188806025751, 1, 2)]\n",
            "matches: [(11840699188806025751, 2, 3)]\n",
            "matches: [(11840699188806025751, 4, 5), (11840699188806025751, 4, 6)]\n",
            "matches: [(11840699188806025751, 3, 4), (11840699188806025751, 3, 5)]\n",
            "matches: [(11840699188806025751, 4, 5)]\n",
            "matches: [(11840699188806025751, 4, 5)]\n",
            "matches: [(11840699188806025751, 1, 2)]\n",
            "matches: [(11840699188806025751, 2, 3), (11840699188806025751, 2, 4)]\n",
            "matches: [(11840699188806025751, 3, 4)]\n",
            "matches: [(11840699188806025751, 2, 3)]\n",
            "matches: [(11840699188806025751, 8, 9)]\n",
            "matches: [(11840699188806025751, 1, 2)]\n",
            "matches: [(11840699188806025751, 7, 8)]\n",
            "matches: [(11840699188806025751, 3, 4), (11840699188806025751, 3, 5)]\n",
            "matches: [(11840699188806025751, 11, 12)]\n",
            "matches: [(11840699188806025751, 8, 9)]\n"
          ],
          "name": "stdout"
        },
        {
          "output_type": "stream",
          "text": [
            " 42%|████▏     | 1809/4318 [00:21<00:29, 85.69it/s]"
          ],
          "name": "stderr"
        },
        {
          "output_type": "stream",
          "text": [
            "matches: [(11840699188806025751, 9, 10)]\n",
            "matches: [(11840699188806025751, 1, 2), (11840699188806025751, 1, 3)]\n",
            "matches: [(11840699188806025751, 3, 4), (11840699188806025751, 3, 5)]\n",
            "matches: [(11840699188806025751, 4, 5)]\n",
            "matches: [(11840699188806025751, 4, 5)]\n",
            "matches: [(11840699188806025751, 1, 2)]\n",
            "matches: [(11840699188806025751, 2, 3), (11840699188806025751, 2, 4)]\n",
            "matches: [(11840699188806025751, 3, 4)]\n",
            "matches: [(11840699188806025751, 2, 3)]\n",
            "matches: [(11840699188806025751, 8, 9)]\n",
            "matches: [(11840699188806025751, 1, 2)]\n",
            "matches: [(11840699188806025751, 7, 8)]\n",
            "matches: [(11840699188806025751, 3, 4), (11840699188806025751, 3, 5)]\n",
            "matches: [(11840699188806025751, 11, 12)]\n",
            "matches: [(11840699188806025751, 8, 9)]\n",
            "matches: [(11840699188806025751, 9, 10)]\n",
            "matches: [(11840699188806025751, 1, 2), (11840699188806025751, 1, 3)]\n",
            "matches: [(11840699188806025751, 2, 3)]\n"
          ],
          "name": "stdout"
        },
        {
          "output_type": "stream",
          "text": [
            " 42%|████▏     | 1829/4318 [00:21<00:28, 88.78it/s]"
          ],
          "name": "stderr"
        },
        {
          "output_type": "stream",
          "text": [
            "matches: [(11840699188806025751, 2, 3), (11840699188806025751, 2, 4)]\n",
            "matches: [(11840699188806025751, 3, 4)]\n",
            "matches: [(11840699188806025751, 1, 2), (11840699188806025751, 1, 3)]\n",
            "matches: [(11840699188806025751, 3, 4)]\n",
            "matches: [(11840699188806025751, 4, 5)]\n",
            "matches: [(11840699188806025751, 5, 6)]\n",
            "matches: [(11840699188806025751, 5, 6)]\n",
            "matches: [(11840699188806025751, 5, 6)]\n",
            "matches: [(11840699188806025751, 4, 5)]\n",
            "matches: [(11840699188806025751, 0, 1), (11840699188806025751, 3, 4), (11840699188806025751, 10, 11), (11840699188806025751, 15, 16), (11840699188806025751, 17, 18)]\n",
            "matches: [(11840699188806025751, 3, 4)]\n",
            "matches: [(11840699188806025751, 4, 5), (11840699188806025751, 4, 6)]\n",
            "matches: [(11840699188806025751, 3, 4)]\n",
            "matches: [(11840699188806025751, 2, 3)]\n",
            "matches: [(11840699188806025751, 3, 4), (11840699188806025751, 3, 5)]\n",
            "matches: [(11840699188806025751, 9, 10), (11840699188806025751, 9, 11), (11840699188806025751, 9, 12)]\n",
            "matches: [(11840699188806025751, 9, 10), (11840699188806025751, 9, 11)]\n",
            "matches: [(11840699188806025751, 2, 3)]\n",
            "matches: [(11840699188806025751, 3, 4), (11840699188806025751, 3, 5)]\n"
          ],
          "name": "stdout"
        },
        {
          "output_type": "stream",
          "text": [
            " 43%|████▎     | 1847/4318 [00:21<00:28, 87.89it/s]"
          ],
          "name": "stderr"
        },
        {
          "output_type": "stream",
          "text": [
            "matches: [(11840699188806025751, 9, 10), (11840699188806025751, 9, 11), (11840699188806025751, 9, 12)]\n",
            "matches: [(11840699188806025751, 9, 10), (11840699188806025751, 9, 11)]\n",
            "matches: [(11840699188806025751, 1, 2)]\n",
            "matches: [(11840699188806025751, 2, 3)]\n",
            "matches: [(11840699188806025751, 2, 3), (11840699188806025751, 2, 4)]\n",
            "matches: [(11840699188806025751, 2, 3)]\n",
            "matches: [(11840699188806025751, 1, 2)]\n",
            "matches: [(11840699188806025751, 2, 3)]\n",
            "matches: [(11840699188806025751, 2, 3), (11840699188806025751, 2, 4)]\n",
            "matches: [(11840699188806025751, 2, 3)]\n",
            "matches: [(11840699188806025751, 10, 11)]\n",
            "matches: [(11840699188806025751, 3, 4)]\n",
            "matches: [(11840699188806025751, 7, 8), (11840699188806025751, 7, 9)]\n",
            "matches: [(11840699188806025751, 1, 2)]\n",
            "matches: [(11840699188806025751, 11, 12)]\n",
            "matches: [(11840699188806025751, 7, 8)]\n",
            "matches: [(11840699188806025751, 5, 6), (11840699188806025751, 5, 7)]\n",
            "matches: [(11840699188806025751, 1, 2)]\n"
          ],
          "name": "stdout"
        },
        {
          "output_type": "stream",
          "text": [
            " 43%|████▎     | 1865/4318 [00:21<00:28, 85.69it/s]"
          ],
          "name": "stderr"
        },
        {
          "output_type": "stream",
          "text": [
            "matches: [(11840699188806025751, 2, 3)]\n",
            "matches: [(11840699188806025751, 2, 3), (11840699188806025751, 2, 4)]\n",
            "matches: [(11840699188806025751, 8, 9), (11840699188806025751, 8, 10)]\n",
            "matches: [(11840699188806025751, 11, 12)]\n",
            "matches: [(11840699188806025751, 5, 6)]\n",
            "matches: [(11840699188806025751, 1, 2)]\n",
            "matches: [(11840699188806025751, 5, 6), (11840699188806025751, 5, 7)]\n",
            "matches: [(11840699188806025751, 3, 4)]\n",
            "matches: [(11840699188806025751, 5, 6), (11840699188806025751, 5, 7)]\n",
            "matches: [(11840699188806025751, 3, 4)]\n",
            "matches: [(11840699188806025751, 4, 5), (11840699188806025751, 4, 6)]\n",
            "matches: [(11840699188806025751, 1, 2)]\n",
            "matches: [(11840699188806025751, 3, 4), (11840699188806025751, 3, 5)]\n",
            "matches: [(11840699188806025751, 3, 4), (11840699188806025751, 3, 5)]\n",
            "matches: [(11840699188806025751, 1, 2)]\n",
            "matches: [(11840699188806025751, 4, 5)]\n",
            "matches: [(11840699188806025751, 2, 3)]\n",
            "matches: [(11840699188806025751, 8, 9)]\n"
          ],
          "name": "stdout"
        },
        {
          "output_type": "stream",
          "text": [
            " 44%|████▎     | 1884/4318 [00:22<00:27, 87.13it/s]"
          ],
          "name": "stderr"
        },
        {
          "output_type": "stream",
          "text": [
            "matches: [(11840699188806025751, 1, 2)]\n",
            "matches: [(11840699188806025751, 1, 2)]\n",
            "matches: [(11840699188806025751, 0, 1), (11840699188806025751, 0, 2)]\n",
            "matches: [(11840699188806025751, 9, 10)]\n",
            "matches: [(11840699188806025751, 3, 4)]\n",
            "matches: [(11840699188806025751, 2, 3)]\n",
            "matches: [(11840699188806025751, 1, 2)]\n",
            "matches: [(11840699188806025751, 3, 4)]\n",
            "matches: [(11840699188806025751, 5, 6)]\n",
            "matches: [(11840699188806025751, 4, 5)]\n",
            "matches: [(11840699188806025751, 7, 8)]\n",
            "matches: [(11840699188806025751, 15, 16), (11840699188806025751, 15, 17)]\n",
            "matches: [(11840699188806025751, 6, 7), (11840699188806025751, 6, 8)]\n",
            "matches: [(11840699188806025751, 1, 2), (11840699188806025751, 1, 3)]\n",
            "matches: [(11840699188806025751, 7, 8)]\n",
            "matches: [(11840699188806025751, 2, 3)]\n",
            "matches: [(11840699188806025751, 4, 5)]\n",
            "matches: [(11840699188806025751, 1, 2)]\n"
          ],
          "name": "stdout"
        },
        {
          "output_type": "stream",
          "text": [
            " 44%|████▍     | 1902/4318 [00:22<00:28, 85.55it/s]"
          ],
          "name": "stderr"
        },
        {
          "output_type": "stream",
          "text": [
            "matches: [(11840699188806025751, 11, 12), (11840699188806025751, 11, 13)]\n",
            "matches: [(11840699188806025751, 10, 11)]\n",
            "matches: [(11840699188806025751, 6, 7), (11840699188806025751, 6, 8), (11840699188806025751, 6, 9)]\n",
            "matches: [(11840699188806025751, 3, 4), (11840699188806025751, 3, 5)]\n",
            "matches: [(11840699188806025751, 2, 3), (11840699188806025751, 2, 4)]\n",
            "matches: [(11840699188806025751, 2, 3), (11840699188806025751, 2, 4)]\n",
            "matches: [(11840699188806025751, 3, 4)]\n",
            "matches: [(11840699188806025751, 10, 11)]\n",
            "matches: [(11840699188806025751, 2, 3), (11840699188806025751, 2, 4)]\n",
            "matches: [(11840699188806025751, 2, 3)]\n",
            "matches: [(11840699188806025751, 5, 6)]\n",
            "matches: [(11840699188806025751, 11, 12), (11840699188806025751, 11, 13)]\n",
            "matches: [(11840699188806025751, 10, 11)]\n",
            "matches: [(11840699188806025751, 6, 7), (11840699188806025751, 6, 8), (11840699188806025751, 6, 9)]\n",
            "matches: [(11840699188806025751, 3, 4), (11840699188806025751, 3, 5)]\n",
            "matches: [(11840699188806025751, 2, 3), (11840699188806025751, 2, 4)]\n",
            "matches: [(11840699188806025751, 2, 3), (11840699188806025751, 2, 4)]\n",
            "matches: [(11840699188806025751, 3, 4)]\n"
          ],
          "name": "stdout"
        },
        {
          "output_type": "stream",
          "text": [
            " 44%|████▍     | 1921/4318 [00:22<00:27, 87.58it/s]"
          ],
          "name": "stderr"
        },
        {
          "output_type": "stream",
          "text": [
            "matches: [(11840699188806025751, 10, 11)]\n",
            "matches: [(11840699188806025751, 2, 3), (11840699188806025751, 2, 4)]\n",
            "matches: [(11840699188806025751, 2, 3)]\n",
            "matches: [(11840699188806025751, 5, 6)]\n",
            "matches: [(11840699188806025751, 2, 3)]\n",
            "matches: [(11840699188806025751, 8, 9)]\n",
            "matches: [(11840699188806025751, 1, 2)]\n",
            "matches: [(11840699188806025751, 9, 10)]\n",
            "matches: [(11840699188806025751, 5, 6)]\n",
            "matches: [(11840699188806025751, 2, 3)]\n",
            "matches: [(11840699188806025751, 5, 6)]\n",
            "matches: [(11840699188806025751, 2, 3)]\n",
            "matches: [(11840699188806025751, 1, 2)]\n",
            "matches: [(11840699188806025751, 1, 2)]\n",
            "matches: [(11840699188806025751, 1, 2)]\n",
            "matches: [(11840699188806025751, 9, 10)]\n",
            "matches: [(11840699188806025751, 5, 6)]\n",
            "matches: [(11840699188806025751, 2, 3)]\n",
            "matches: [(11840699188806025751, 5, 6)]\n"
          ],
          "name": "stdout"
        },
        {
          "output_type": "stream",
          "text": [
            " 45%|████▍     | 1940/4318 [00:22<00:26, 89.07it/s]"
          ],
          "name": "stderr"
        },
        {
          "output_type": "stream",
          "text": [
            "matches: [(11840699188806025751, 2, 3)]\n",
            "matches: [(11840699188806025751, 1, 2)]\n",
            "matches: [(11840699188806025751, 1, 2)]\n",
            "matches: [(11840699188806025751, 1, 2)]\n",
            "matches: [(11840699188806025751, 2, 3)]\n",
            "matches: [(11840699188806025751, 2, 3)]\n",
            "matches: [(11840699188806025751, 3, 4)]\n",
            "matches: [(11840699188806025751, 2, 3), (11840699188806025751, 2, 4)]\n",
            "matches: [(11840699188806025751, 5, 6)]\n",
            "matches: [(11840699188806025751, 7, 8)]\n",
            "matches: [(11840699188806025751, 1, 2)]\n",
            "matches: [(11840699188806025751, 8, 9), (11840699188806025751, 8, 10)]\n",
            "matches: [(11840699188806025751, 7, 8)]\n",
            "matches: [(11840699188806025751, 2, 3)]\n",
            "matches: [(11840699188806025751, 0, 1)]\n",
            "matches: [(11840699188806025751, 3, 4)]\n",
            "matches: [(11840699188806025751, 4, 5), (11840699188806025751, 4, 6), (11840699188806025751, 4, 7)]\n",
            "matches: [(11840699188806025751, 4, 5)]\n",
            "matches: [(11840699188806025751, 2, 3)]\n"
          ],
          "name": "stdout"
        },
        {
          "output_type": "stream",
          "text": [
            " 45%|████▌     | 1958/4318 [00:22<00:27, 85.78it/s]"
          ],
          "name": "stderr"
        },
        {
          "output_type": "stream",
          "text": [
            "matches: [(11840699188806025751, 22, 23), (11840699188806025751, 22, 24)]\n",
            "matches: [(11840699188806025751, 2, 3)]\n",
            "matches: [(11840699188806025751, 1, 2)]\n",
            "matches: [(11840699188806025751, 2, 3), (11840699188806025751, 2, 4)]\n",
            "matches: [(11840699188806025751, 6, 7), (11840699188806025751, 6, 8)]\n",
            "matches: [(11840699188806025751, 8, 9), (11840699188806025751, 8, 10)]\n",
            "matches: [(11840699188806025751, 2, 3), (11840699188806025751, 2, 4)]\n",
            "matches: [(11840699188806025751, 2, 3), (11840699188806025751, 2, 4)]\n",
            "matches: [(11840699188806025751, 1, 2)]\n",
            "matches: [(11840699188806025751, 1, 2)]\n",
            "matches: [(11840699188806025751, 2, 3), (11840699188806025751, 2, 4)]\n",
            "matches: [(11840699188806025751, 5, 6)]\n",
            "matches: [(11840699188806025751, 9, 10), (11840699188806025751, 9, 11)]\n",
            "matches: [(11840699188806025751, 2, 3), (11840699188806025751, 2, 4)]\n",
            "matches: [(11840699188806025751, 1, 2)]\n",
            "matches: [(11840699188806025751, 1, 2)]\n",
            "matches: [(11840699188806025751, 2, 3)]\n"
          ],
          "name": "stdout"
        },
        {
          "output_type": "stream",
          "text": [
            " 46%|████▌     | 1976/4318 [00:23<00:28, 82.12it/s]"
          ],
          "name": "stderr"
        },
        {
          "output_type": "stream",
          "text": [
            "matches: [(11840699188806025751, 3, 4), (11840699188806025751, 3, 5)]\n",
            "matches: [(11840699188806025751, 1, 2)]\n",
            "matches: [(11840699188806025751, 3, 4), (11840699188806025751, 3, 5)]\n",
            "matches: [(11840699188806025751, 2, 3)]\n",
            "matches: [(11840699188806025751, 8, 9)]\n",
            "matches: [(11840699188806025751, 2, 3)]\n",
            "matches: [(11840699188806025751, 13, 14)]\n",
            "matches: [(11840699188806025751, 1, 2)]\n",
            "matches: [(11840699188806025751, 4, 5)]\n",
            "matches: [(11840699188806025751, 11, 12)]\n",
            "matches: [(11840699188806025751, 1, 2)]\n",
            "matches: [(11840699188806025751, 10, 11)]\n",
            "matches: [(11840699188806025751, 3, 4)]\n",
            "matches: [(11840699188806025751, 7, 8), (11840699188806025751, 7, 9)]\n",
            "matches: [(11840699188806025751, 2, 3)]\n",
            "matches: [(11840699188806025751, 3, 4), (11840699188806025751, 3, 5)]\n",
            "matches: [(11840699188806025751, 3, 4)]\n"
          ],
          "name": "stdout"
        },
        {
          "output_type": "stream",
          "text": [
            " 46%|████▌     | 1995/4318 [00:23<00:27, 85.74it/s]"
          ],
          "name": "stderr"
        },
        {
          "output_type": "stream",
          "text": [
            "matches: [(11840699188806025751, 5, 6), (11840699188806025751, 5, 7)]\n",
            "matches: [(11840699188806025751, 5, 6), (11840699188806025751, 5, 7)]\n",
            "matches: [(11840699188806025751, 5, 6)]\n",
            "matches: [(11840699188806025751, 10, 11), (11840699188806025751, 10, 12)]\n",
            "matches: [(11840699188806025751, 2, 3)]\n",
            "matches: [(11840699188806025751, 2, 3), (11840699188806025751, 2, 4)]\n",
            "matches: [(11840699188806025751, 2, 3)]\n",
            "matches: [(11840699188806025751, 10, 11)]\n",
            "matches: [(11840699188806025751, 3, 4)]\n",
            "matches: [(11840699188806025751, 3, 4)]\n",
            "matches: [(11840699188806025751, 1, 2)]\n",
            "matches: [(11840699188806025751, 4, 5)]\n",
            "matches: [(11840699188806025751, 1, 2)]\n",
            "matches: [(11840699188806025751, 5, 6)]\n",
            "matches: [(11840699188806025751, 2, 3)]\n",
            "matches: [(11840699188806025751, 1, 2)]\n",
            "matches: [(11840699188806025751, 2, 3)]\n",
            "matches: [(11840699188806025751, 9, 10)]\n",
            "matches: [(11840699188806025751, 3, 4)]\n"
          ],
          "name": "stdout"
        },
        {
          "output_type": "stream",
          "text": [
            "\r 46%|████▋     | 2004/4318 [00:23<00:27, 84.05it/s]"
          ],
          "name": "stderr"
        },
        {
          "output_type": "stream",
          "text": [
            "matches: [(11840699188806025751, 3, 4), (11840699188806025751, 3, 5)]\n",
            "matches: [(11840699188806025751, 5, 6)]\n",
            "matches: [(11840699188806025751, 4, 5)]\n",
            "matches: [(11840699188806025751, 1, 2)]\n",
            "matches: [(11840699188806025751, 3, 4)]\n",
            "matches: [(11840699188806025751, 1, 2), (11840699188806025751, 1, 3)]\n",
            "matches: [(11840699188806025751, 1, 2)]\n",
            "matches: [(11840699188806025751, 5, 6)]\n",
            "matches: [(11840699188806025751, 1, 2)]\n",
            "matches: [(11840699188806025751, 3, 4)]\n",
            "matches: [(11840699188806025751, 2, 3)]\n",
            "matches: [(11840699188806025751, 1, 2)]\n",
            "matches: [(11840699188806025751, 3, 4)]\n",
            "matches: [(11840699188806025751, 6, 7)]\n",
            "matches: [(11840699188806025751, 4, 5)]\n",
            "matches: [(11840699188806025751, 2, 3)]\n",
            "matches: [(11840699188806025751, 4, 5), (11840699188806025751, 4, 6)]\n",
            "matches: [(11840699188806025751, 3, 4), (11840699188806025751, 3, 5)]\n"
          ],
          "name": "stdout"
        },
        {
          "output_type": "stream",
          "text": [
            " 47%|████▋     | 2023/4318 [00:23<00:26, 86.57it/s]"
          ],
          "name": "stderr"
        },
        {
          "output_type": "stream",
          "text": [
            "matches: [(11840699188806025751, 1, 2), (11840699188806025751, 1, 3)]\n",
            "matches: [(11840699188806025751, 3, 4), (11840699188806025751, 3, 5)]\n",
            "matches: [(11840699188806025751, 3, 4)]\n",
            "matches: [(11840699188806025751, 2, 3), (11840699188806025751, 2, 4)]\n",
            "matches: [(11840699188806025751, 1, 2)]\n",
            "matches: [(11840699188806025751, 6, 7)]\n",
            "matches: [(11840699188806025751, 3, 4), (11840699188806025751, 3, 5)]\n",
            "matches: [(11840699188806025751, 3, 4), (11840699188806025751, 3, 5)]\n",
            "matches: [(11840699188806025751, 7, 8)]\n",
            "matches: [(11840699188806025751, 11, 12)]\n",
            "matches: [(11840699188806025751, 5, 6)]\n",
            "matches: [(11840699188806025751, 6, 7), (11840699188806025751, 6, 8)]\n",
            "matches: [(11840699188806025751, 2, 3), (11840699188806025751, 2, 4)]\n",
            "matches: [(11840699188806025751, 1, 2), (11840699188806025751, 1, 3)]\n",
            "matches: [(11840699188806025751, 2, 3)]\n",
            "matches: [(11840699188806025751, 4, 5), (11840699188806025751, 4, 6)]\n",
            "matches: [(11840699188806025751, 3, 4), (11840699188806025751, 3, 5)]\n",
            "matches: [(11840699188806025751, 0, 1)]\n"
          ],
          "name": "stdout"
        },
        {
          "output_type": "stream",
          "text": [
            " 47%|████▋     | 2041/4318 [00:23<00:26, 86.35it/s]"
          ],
          "name": "stderr"
        },
        {
          "output_type": "stream",
          "text": [
            "matches: [(11840699188806025751, 1, 2)]\n",
            "matches: [(11840699188806025751, 6, 7), (11840699188806025751, 6, 8), (11840699188806025751, 6, 9)]\n",
            "matches: [(11840699188806025751, 1, 2)]\n",
            "matches: [(11840699188806025751, 2, 3)]\n",
            "matches: [(11840699188806025751, 0, 1), (11840699188806025751, 0, 2)]\n",
            "matches: [(11840699188806025751, 11, 12)]\n",
            "matches: [(11840699188806025751, 2, 3)]\n",
            "matches: [(11840699188806025751, 1, 2)]\n",
            "matches: [(11840699188806025751, 1, 2)]\n",
            "matches: [(11840699188806025751, 2, 3)]\n",
            "matches: [(11840699188806025751, 11, 12)]\n",
            "matches: [(11840699188806025751, 6, 7)]\n",
            "matches: [(11840699188806025751, 3, 4)]\n",
            "matches: [(11840699188806025751, 4, 5), (11840699188806025751, 4, 6)]\n",
            "matches: [(11840699188806025751, 4, 5), (11840699188806025751, 4, 6)]\n",
            "matches: [(11840699188806025751, 4, 5)]\n",
            "matches: [(11840699188806025751, 3, 4)]\n",
            "matches: [(11840699188806025751, 3, 4)]\n"
          ],
          "name": "stdout"
        },
        {
          "output_type": "stream",
          "text": [
            " 48%|████▊     | 2059/4318 [00:24<00:26, 83.68it/s]"
          ],
          "name": "stderr"
        },
        {
          "output_type": "stream",
          "text": [
            "matches: [(11840699188806025751, 7, 8), (11840699188806025751, 7, 9)]\n",
            "matches: [(11840699188806025751, 3, 4)]\n",
            "matches: [(11840699188806025751, 11, 12)]\n",
            "matches: [(11840699188806025751, 2, 3)]\n",
            "matches: [(11840699188806025751, 1, 2)]\n",
            "matches: [(11840699188806025751, 1, 2)]\n",
            "matches: [(11840699188806025751, 2, 3)]\n",
            "matches: [(11840699188806025751, 11, 12)]\n",
            "matches: [(11840699188806025751, 6, 7)]\n",
            "matches: [(11840699188806025751, 3, 4)]\n",
            "matches: [(11840699188806025751, 4, 5), (11840699188806025751, 4, 6)]\n",
            "matches: [(11840699188806025751, 4, 5), (11840699188806025751, 4, 6)]\n",
            "matches: [(11840699188806025751, 4, 5)]\n",
            "matches: [(11840699188806025751, 3, 4)]\n",
            "matches: [(11840699188806025751, 3, 4)]\n",
            "matches: [(11840699188806025751, 7, 8), (11840699188806025751, 7, 9)]\n",
            "matches: [(11840699188806025751, 3, 4)]\n",
            "matches: [(11840699188806025751, 2, 3)]\n"
          ],
          "name": "stdout"
        },
        {
          "output_type": "stream",
          "text": [
            " 48%|████▊     | 2077/4318 [00:24<00:26, 85.35it/s]"
          ],
          "name": "stderr"
        },
        {
          "output_type": "stream",
          "text": [
            "matches: [(11840699188806025751, 2, 3), (11840699188806025751, 2, 4), (11840699188806025751, 2, 5)]\n",
            "matches: [(11840699188806025751, 6, 7)]\n",
            "matches: [(11840699188806025751, 3, 4), (11840699188806025751, 3, 5)]\n",
            "matches: [(11840699188806025751, 3, 4)]\n",
            "matches: [(11840699188806025751, 1, 2), (11840699188806025751, 1, 3)]\n",
            "matches: [(11840699188806025751, 2, 3), (11840699188806025751, 2, 4)]\n",
            "matches: [(11840699188806025751, 1, 2)]\n",
            "matches: [(11840699188806025751, 1, 2)]\n",
            "matches: [(11840699188806025751, 2, 3), (11840699188806025751, 2, 4), (11840699188806025751, 2, 5)]\n",
            "matches: [(11840699188806025751, 6, 7)]\n",
            "matches: [(11840699188806025751, 3, 4), (11840699188806025751, 3, 5)]\n",
            "matches: [(11840699188806025751, 3, 4)]\n",
            "matches: [(11840699188806025751, 1, 2), (11840699188806025751, 1, 3)]\n",
            "matches: [(11840699188806025751, 2, 3), (11840699188806025751, 2, 4)]\n",
            "matches: [(11840699188806025751, 1, 2)]\n",
            "matches: [(11840699188806025751, 1, 2)]\n",
            "matches: [(11840699188806025751, 12, 13), (11840699188806025751, 12, 14)]\n",
            "matches: [(11840699188806025751, 11, 12)]\n"
          ],
          "name": "stdout"
        },
        {
          "output_type": "stream",
          "text": [
            " 49%|████▊     | 2095/4318 [00:24<00:25, 86.97it/s]"
          ],
          "name": "stderr"
        },
        {
          "output_type": "stream",
          "text": [
            "matches: [(11840699188806025751, 3, 4), (11840699188806025751, 3, 5)]\n",
            "matches: [(11840699188806025751, 3, 4)]\n",
            "matches: [(11840699188806025751, 3, 4), (11840699188806025751, 3, 5)]\n",
            "matches: [(11840699188806025751, 7, 8), (11840699188806025751, 7, 9), (11840699188806025751, 7, 10)]\n",
            "matches: [(11840699188806025751, 2, 3)]\n",
            "matches: [(11840699188806025751, 8, 9), (11840699188806025751, 8, 10)]\n",
            "matches: [(11840699188806025751, 7, 8)]\n",
            "matches: [(11840699188806025751, 2, 3)]\n",
            "matches: [(11840699188806025751, 3, 4)]\n",
            "matches: [(11840699188806025751, 14, 15), (11840699188806025751, 14, 16)]\n",
            "matches: [(11840699188806025751, 5, 6)]\n",
            "matches: [(11840699188806025751, 2, 3)]\n",
            "matches: [(11840699188806025751, 2, 3)]\n",
            "matches: [(11840699188806025751, 7, 8)]\n",
            "matches: [(11840699188806025751, 5, 6)]\n",
            "matches: [(11840699188806025751, 1, 2)]\n",
            "matches: [(11840699188806025751, 3, 4), (11840699188806025751, 3, 5)]\n",
            "matches: [(11840699188806025751, 1, 2)]\n",
            "matches: "
          ],
          "name": "stdout"
        },
        {
          "output_type": "stream",
          "text": [
            " 49%|████▉     | 2114/4318 [00:24<00:24, 88.76it/s]"
          ],
          "name": "stderr"
        },
        {
          "output_type": "stream",
          "text": [
            "[(11840699188806025751, 0, 1), (11840699188806025751, 14, 15)]\n",
            "matches: [(11840699188806025751, 7, 8)]\n",
            "matches: [(11840699188806025751, 17, 18), (11840699188806025751, 17, 19)]\n",
            "matches: [(11840699188806025751, 3, 4)]\n",
            "matches: [(11840699188806025751, 4, 5)]\n",
            "matches: [(11840699188806025751, 4, 5)]\n",
            "matches: [(11840699188806025751, 5, 6)]\n",
            "matches: [(11840699188806025751, 1, 2)]\n",
            "matches: [(11840699188806025751, 11, 12)]\n",
            "matches: [(11840699188806025751, 1, 2)]\n",
            "matches: [(11840699188806025751, 2, 3), (11840699188806025751, 2, 4)]\n",
            "matches: [(11840699188806025751, 3, 4)]\n",
            "matches: [(11840699188806025751, 3, 4)]\n",
            "matches: [(11840699188806025751, 6, 7)]\n",
            "matches: [(11840699188806025751, 6, 7), (11840699188806025751, 6, 8)]\n",
            "matches: [(11840699188806025751, 2, 3)]\n",
            "matches: [(11840699188806025751, 13, 14)]\n",
            "matches: [(11840699188806025751, 3, 4)]\n",
            "matches: [(11840699188806025751, 3, 4), (11840699188806025751, 3, 5)]\n"
          ],
          "name": "stdout"
        },
        {
          "output_type": "stream",
          "text": [
            " 49%|████▉     | 2132/4318 [00:25<00:25, 87.31it/s]"
          ],
          "name": "stderr"
        },
        {
          "output_type": "stream",
          "text": [
            "matches: [(11840699188806025751, 5, 6)]\n",
            "matches: [(11840699188806025751, 2, 3), (11840699188806025751, 2, 4)]\n",
            "matches: [(11840699188806025751, 3, 4), (11840699188806025751, 3, 5)]\n",
            "matches: [(11840699188806025751, 1, 2)]\n",
            "matches: [(11840699188806025751, 2, 3), (11840699188806025751, 2, 4)]\n",
            "matches: [(11840699188806025751, 2, 3)]\n",
            "matches: [(11840699188806025751, 5, 6)]\n",
            "matches: [(11840699188806025751, 2, 3)]\n",
            "matches: [(11840699188806025751, 3, 4)]\n",
            "matches: [(11840699188806025751, 2, 3), (11840699188806025751, 2, 4)]\n",
            "matches: [(11840699188806025751, 1, 2), (11840699188806025751, 1, 3), (11840699188806025751, 1, 4)]\n",
            "matches: [(11840699188806025751, 3, 4)]\n",
            "matches: [(11840699188806025751, 2, 3), (11840699188806025751, 2, 4)]\n",
            "matches: [(11840699188806025751, 1, 2)]\n",
            "matches: [(11840699188806025751, 5, 6)]\n",
            "matches: [(11840699188806025751, 3, 4), (11840699188806025751, 3, 5)]\n",
            "matches: [(11840699188806025751, 8, 9)]\n",
            "matches: [(11840699188806025751, 1, 2)]\n"
          ],
          "name": "stdout"
        },
        {
          "output_type": "stream",
          "text": [
            " 50%|████▉     | 2150/4318 [00:25<00:24, 87.33it/s]"
          ],
          "name": "stderr"
        },
        {
          "output_type": "stream",
          "text": [
            "matches: [(11840699188806025751, 1, 2), (11840699188806025751, 1, 3), (11840699188806025751, 1, 4)]\n",
            "matches: [(11840699188806025751, 3, 4)]\n",
            "matches: [(11840699188806025751, 2, 3), (11840699188806025751, 2, 4)]\n",
            "matches: [(11840699188806025751, 1, 2)]\n",
            "matches: [(11840699188806025751, 5, 6)]\n",
            "matches: [(11840699188806025751, 3, 4), (11840699188806025751, 3, 5)]\n",
            "matches: [(11840699188806025751, 8, 9)]\n",
            "matches: [(11840699188806025751, 1, 2)]\n",
            "matches: [(11840699188806025751, 1, 2)]\n",
            "matches: [(11840699188806025751, 3, 4), (11840699188806025751, 3, 5)]\n",
            "matches: [(11840699188806025751, 4, 5), (11840699188806025751, 4, 6)]\n",
            "matches: [(11840699188806025751, 7, 8), (11840699188806025751, 7, 9), (11840699188806025751, 7, 10)]\n",
            "matches: [(11840699188806025751, 7, 8)]\n",
            "matches: [(11840699188806025751, 2, 3)]\n",
            "matches: [(11840699188806025751, 2, 3)]\n",
            "matches: [(11840699188806025751, 2, 3)]\n",
            "matches: [(11840699188806025751, 8, 9)]\n",
            "matches: [(11840699188806025751, 1, 2)]\n"
          ],
          "name": "stdout"
        },
        {
          "output_type": "stream",
          "text": [
            " 50%|█████     | 2168/4318 [00:25<00:24, 87.55it/s]"
          ],
          "name": "stderr"
        },
        {
          "output_type": "stream",
          "text": [
            "matches: [(11840699188806025751, 2, 3), (11840699188806025751, 2, 4)]\n",
            "matches: [(11840699188806025751, 3, 4), (11840699188806025751, 3, 5)]\n",
            "matches: [(11840699188806025751, 5, 6), (11840699188806025751, 5, 7)]\n",
            "matches: [(11840699188806025751, 3, 4), (11840699188806025751, 3, 5)]\n",
            "matches: [(11840699188806025751, 1, 2)]\n",
            "matches: [(11840699188806025751, 3, 4)]\n",
            "matches: [(11840699188806025751, 5, 6), (11840699188806025751, 5, 7), (11840699188806025751, 5, 8)]\n",
            "matches: [(11840699188806025751, 8, 9), (11840699188806025751, 8, 10)]\n",
            "matches: [(11840699188806025751, 3, 4), (11840699188806025751, 3, 5)]\n",
            "matches: [(11840699188806025751, 0, 1)]\n",
            "matches: [(11840699188806025751, 2, 3)]\n",
            "matches: [(11840699188806025751, 3, 4)]\n",
            "matches: [(11840699188806025751, 3, 4), (11840699188806025751, 3, 5)]\n",
            "matches: [(11840699188806025751, 6, 7), (11840699188806025751, 6, 8)]\n",
            "matches: [(11840699188806025751, 4, 5), (11840699188806025751, 13, 14)]\n",
            "matches: [(11840699188806025751, 1, 2)]\n",
            "matches: [(11840699188806025751, 1, 2)]\n",
            "matches: [(11840699188806025751, 1, 2)]\n"
          ],
          "name": "stdout"
        },
        {
          "output_type": "stream",
          "text": [
            " 51%|█████     | 2187/4318 [00:25<00:24, 87.84it/s]"
          ],
          "name": "stderr"
        },
        {
          "output_type": "stream",
          "text": [
            "matches: [(11840699188806025751, 2, 3)]\n",
            "matches: [(11840699188806025751, 5, 6), (11840699188806025751, 5, 7)]\n",
            "matches: [(11840699188806025751, 3, 4), (11840699188806025751, 3, 5), (11840699188806025751, 3, 6)]\n",
            "matches: [(11840699188806025751, 0, 1)]\n",
            "matches: [(11840699188806025751, 3, 4)]\n",
            "matches: [(11840699188806025751, 0, 1)]\n",
            "matches: [(11840699188806025751, 2, 3)]\n",
            "matches: [(11840699188806025751, 6, 7), (11840699188806025751, 6, 8)]\n",
            "matches: [(11840699188806025751, 4, 5)]\n",
            "matches: [(11840699188806025751, 2, 3)]\n",
            "matches: [(11840699188806025751, 2, 3), (11840699188806025751, 2, 4)]\n",
            "matches: [(11840699188806025751, 5, 6)]\n",
            "matches: [(11840699188806025751, 3, 4), (11840699188806025751, 3, 5)]\n",
            "matches: [(11840699188806025751, 10, 11)]\n",
            "matches: [(11840699188806025751, 1, 2)]\n",
            "matches: [(11840699188806025751, 3, 4)]\n",
            "matches: [(11840699188806025751, 6, 7), (11840699188806025751, 6, 8)]\n",
            "matches: [(11840699188806025751, 3, 4), (11840699188806025751, 3, 5)]\n",
            "matches: [(11840699188806025751, 3, 4)]\n"
          ],
          "name": "stdout"
        },
        {
          "output_type": "stream",
          "text": [
            " 51%|█████     | 2205/4318 [00:25<00:24, 86.29it/s]"
          ],
          "name": "stderr"
        },
        {
          "output_type": "stream",
          "text": [
            "matches: [(11840699188806025751, 2, 3)]\n",
            "matches: [(11840699188806025751, 1, 2)]\n",
            "matches: [(11840699188806025751, 3, 4)]\n",
            "matches: [(11840699188806025751, 0, 1)]\n",
            "matches: [(11840699188806025751, 1, 2)]\n",
            "matches: [(11840699188806025751, 8, 9), (11840699188806025751, 8, 10)]\n",
            "matches: [(11840699188806025751, 1, 2)]\n",
            "matches: [(11840699188806025751, 1, 2)]\n",
            "matches: [(11840699188806025751, 2, 3)]\n",
            "matches: [(11840699188806025751, 4, 5)]\n",
            "matches: [(11840699188806025751, 3, 4)]\n",
            "matches: [(11840699188806025751, 5, 6)]\n",
            "matches: [(11840699188806025751, 2, 3)]\n",
            "matches: [(11840699188806025751, 5, 6)]\n",
            "matches: [(11840699188806025751, 7, 8)]\n",
            "matches: [(11840699188806025751, 8, 9), (11840699188806025751, 8, 10)]\n",
            "matches: [(11840699188806025751, 7, 8), (11840699188806025751, 7, 9)]\n",
            "matches: [(11840699188806025751, 4, 5), (11840699188806025751, 4, 6), (11840699188806025751, 4, 7)]\n"
          ],
          "name": "stdout"
        },
        {
          "output_type": "stream",
          "text": [
            " 52%|█████▏    | 2224/4318 [00:26<00:23, 88.20it/s]"
          ],
          "name": "stderr"
        },
        {
          "output_type": "stream",
          "text": [
            "matches: [(11840699188806025751, 0, 1)]\n",
            "matches: [(11840699188806025751, 3, 4), (11840699188806025751, 3, 5)]\n",
            "matches: [(11840699188806025751, 8, 9), (11840699188806025751, 8, 10)]\n",
            "matches: [(11840699188806025751, 6, 7)]\n",
            "matches: [(11840699188806025751, 2, 3), (11840699188806025751, 2, 4)]\n",
            "matches: [(11840699188806025751, 3, 4)]\n",
            "matches: [(11840699188806025751, 3, 4), (11840699188806025751, 3, 5)]\n",
            "matches: [(11840699188806025751, 3, 4), (11840699188806025751, 3, 5)]\n",
            "matches: [(11840699188806025751, 2, 3), (11840699188806025751, 2, 4)]\n",
            "matches: [(11840699188806025751, 6, 7), (11840699188806025751, 6, 8)]\n",
            "matches: [(11840699188806025751, 8, 9)]\n",
            "matches: [(11840699188806025751, 1, 2)]\n",
            "matches: [(11840699188806025751, 2, 3)]\n",
            "matches: [(11840699188806025751, 3, 4)]\n",
            "matches: [(11840699188806025751, 3, 4), (11840699188806025751, 3, 5)]\n",
            "matches: [(11840699188806025751, 2, 3), (11840699188806025751, 2, 4)]\n",
            "matches: [(11840699188806025751, 3, 4)]\n",
            "matches: [(11840699188806025751, 2, 3), (11840699188806025751, 2, 4)]\n",
            "matches: [(11840699188806025751, 3, 4), (11840699188806025751, 3, 5)]\n"
          ],
          "name": "stdout"
        },
        {
          "output_type": "stream",
          "text": [
            " 52%|█████▏    | 2244/4318 [00:26<00:23, 90.15it/s]"
          ],
          "name": "stderr"
        },
        {
          "output_type": "stream",
          "text": [
            "matches: [(11840699188806025751, 2, 3)]\n",
            "matches: [(11840699188806025751, 2, 3)]\n",
            "matches: [(11840699188806025751, 4, 5)]\n",
            "matches: [(11840699188806025751, 3, 4), (11840699188806025751, 3, 5)]\n",
            "matches: [(11840699188806025751, 5, 6), (11840699188806025751, 5, 7)]\n",
            "matches: [(11840699188806025751, 4, 5), (11840699188806025751, 4, 6)]\n",
            "matches: [(11840699188806025751, 3, 4), (11840699188806025751, 3, 5)]\n",
            "matches: [(11840699188806025751, 2, 3), (11840699188806025751, 2, 4)]\n",
            "matches: [(11840699188806025751, 4, 5), (11840699188806025751, 4, 6)]\n",
            "matches: [(11840699188806025751, 5, 6), (11840699188806025751, 5, 7)]\n",
            "matches: [(11840699188806025751, 1, 2)]\n",
            "matches: [(11840699188806025751, 1, 2)]\n",
            "matches: [(11840699188806025751, 3, 4)]\n",
            "matches: [(11840699188806025751, 8, 9)]\n",
            "matches: [(11840699188806025751, 4, 5)]\n",
            "matches: [(11840699188806025751, 2, 3), (11840699188806025751, 2, 4)]\n",
            "matches: [(11840699188806025751, 9, 10)]\n",
            "matches: [(11840699188806025751, 1, 2)]\n"
          ],
          "name": "stdout"
        },
        {
          "output_type": "stream",
          "text": [
            " 52%|█████▏    | 2264/4318 [00:26<00:23, 88.75it/s]"
          ],
          "name": "stderr"
        },
        {
          "output_type": "stream",
          "text": [
            "matches: [(11840699188806025751, 2, 3)]\n",
            "matches: [(11840699188806025751, 1, 2)]\n",
            "matches: [(11840699188806025751, 3, 4)]\n",
            "matches: [(11840699188806025751, 9, 10)]\n",
            "matches: [(11840699188806025751, 2, 3)]\n",
            "matches: [(11840699188806025751, 5, 6)]\n",
            "matches: [(11840699188806025751, 1, 2), (11840699188806025751, 1, 3)]\n",
            "matches: [(11840699188806025751, 4, 5)]\n",
            "matches: [(11840699188806025751, 5, 6)]\n",
            "matches: [(11840699188806025751, 1, 2)]\n",
            "matches: [(11840699188806025751, 2, 3)]\n",
            "matches: [(11840699188806025751, 2, 3)]\n",
            "matches: [(11840699188806025751, 3, 4)]\n",
            "matches: [(11840699188806025751, 3, 4), (11840699188806025751, 3, 5)]\n",
            "matches: [(11840699188806025751, 4, 5), (11840699188806025751, 4, 6)]\n",
            "matches: [(11840699188806025751, 4, 5), (11840699188806025751, 4, 6)]\n",
            "matches: [(11840699188806025751, 1, 2)]\n",
            "matches: [(11840699188806025751, 3, 4)]\n",
            "matches: [(11840699188806025751, 0, 1)]\n"
          ],
          "name": "stdout"
        },
        {
          "output_type": "stream",
          "text": [
            " 53%|█████▎    | 2282/4318 [00:26<00:23, 88.47it/s]"
          ],
          "name": "stderr"
        },
        {
          "output_type": "stream",
          "text": [
            "matches: [(11840699188806025751, 2, 3)]\n",
            "matches: [(11840699188806025751, 2, 3)]\n",
            "matches: [(11840699188806025751, 4, 5), (11840699188806025751, 4, 6)]\n",
            "matches: [(11840699188806025751, 1, 2)]\n",
            "matches: [(11840699188806025751, 3, 4)]\n",
            "matches: [(11840699188806025751, 0, 1)]\n",
            "matches: [(11840699188806025751, 2, 3)]\n",
            "matches: [(11840699188806025751, 2, 3)]\n",
            "matches: [(11840699188806025751, 2, 3)]\n",
            "matches: [(11840699188806025751, 1, 2)]\n",
            "matches: [(11840699188806025751, 6, 7)]\n",
            "matches: [(11840699188806025751, 3, 4)]\n",
            "matches: [(11840699188806025751, 3, 4), (11840699188806025751, 3, 5)]\n",
            "matches: [(11840699188806025751, 3, 4), (11840699188806025751, 3, 5)]\n",
            "matches: [(11840699188806025751, 3, 4)]\n",
            "matches: [(11840699188806025751, 2, 3)]\n",
            "matches: [(11840699188806025751, 4, 5)]\n",
            "matches: [(11840699188806025751, 8, 9), (11840699188806025751, 8, 10)]\n",
            "matches: [(11840699188806025751, 4, 5)]\n"
          ],
          "name": "stdout"
        },
        {
          "output_type": "stream",
          "text": [
            " 53%|█████▎    | 2301/4318 [00:26<00:22, 91.03it/s]"
          ],
          "name": "stderr"
        },
        {
          "output_type": "stream",
          "text": [
            "matches: [(11840699188806025751, 2, 3), (11840699188806025751, 2, 4)]\n",
            "matches: [(11840699188806025751, 2, 3)]\n",
            "matches: [(11840699188806025751, 2, 3)]\n",
            "matches: [(11840699188806025751, 3, 4)]\n",
            "matches: [(11840699188806025751, 6, 7), (11840699188806025751, 6, 8)]\n",
            "matches: [(11840699188806025751, 1, 2)]\n",
            "matches: [(11840699188806025751, 2, 3), (11840699188806025751, 2, 4)]\n",
            "matches: [(11840699188806025751, 3, 4), (11840699188806025751, 3, 5)]\n",
            "matches: [(11840699188806025751, 2, 3)]\n",
            "matches: [(11840699188806025751, 3, 4), (11840699188806025751, 3, 5)]\n",
            "matches: [(11840699188806025751, 5, 6), (11840699188806025751, 5, 7)]\n",
            "matches: [(11840699188806025751, 2, 3)]\n",
            "matches: [(11840699188806025751, 6, 7), (11840699188806025751, 6, 8)]\n",
            "matches: [(11840699188806025751, 3, 4), (11840699188806025751, 3, 5)]\n",
            "matches: [(11840699188806025751, 4, 5), (11840699188806025751, 4, 6)]\n",
            "matches: [(11840699188806025751, 6, 7), (11840699188806025751, 6, 8)]\n",
            "matches: [(11840699188806025751, 7, 8)]\n",
            "matches: [(11840699188806025751, 7, 8)]\n",
            "matches: [(11840699188806025751, 1, 2), (11840699188806025751, 1, 3)]\n",
            "matches: [(11840699188806025751, 2, 3)]\n"
          ],
          "name": "stdout"
        },
        {
          "output_type": "stream",
          "text": [
            " 54%|█████▍    | 2321/4318 [00:27<00:22, 89.55it/s]"
          ],
          "name": "stderr"
        },
        {
          "output_type": "stream",
          "text": [
            "matches: [(11840699188806025751, 1, 2)]\n",
            "matches: [(11840699188806025751, 7, 8)]\n",
            "matches: [(11840699188806025751, 10, 11)]\n",
            "matches: [(11840699188806025751, 7, 8)]\n",
            "matches: [(11840699188806025751, 3, 4), (11840699188806025751, 3, 5)]\n",
            "matches: [(11840699188806025751, 4, 5), (11840699188806025751, 4, 6)]\n",
            "matches: [(11840699188806025751, 6, 7)]\n",
            "matches: [(11840699188806025751, 1, 2)]\n",
            "matches: [(11840699188806025751, 2, 3), (11840699188806025751, 7, 8)]\n",
            "matches: [(11840699188806025751, 5, 6)]\n",
            "matches: [(11840699188806025751, 2, 3), (11840699188806025751, 2, 4), (11840699188806025751, 2, 5)]\n",
            "matches: [(11840699188806025751, 4, 5)]\n",
            "matches: [(11840699188806025751, 4, 5), (11840699188806025751, 4, 6)]\n",
            "matches: [(11840699188806025751, 2, 3), (11840699188806025751, 17, 18)]\n",
            "matches: [(11840699188806025751, 5, 6)]\n",
            "matches: [(11840699188806025751, 3, 4)]\n",
            "matches: [(11840699188806025751, 3, 4)]\n",
            "matches: [(11840699188806025751, 7, 8), (11840699188806025751, 7, 9)]\n"
          ],
          "name": "stdout"
        },
        {
          "output_type": "stream",
          "text": [
            " 54%|█████▍    | 2339/4318 [00:27<00:22, 88.31it/s]"
          ],
          "name": "stderr"
        },
        {
          "output_type": "stream",
          "text": [
            "matches: [(11840699188806025751, 3, 4)]\n",
            "matches: [(11840699188806025751, 3, 4), (11840699188806025751, 3, 5)]\n",
            "matches: [(11840699188806025751, 12, 13), (11840699188806025751, 12, 14)]\n",
            "matches: [(11840699188806025751, 10, 11)]\n",
            "matches: [(11840699188806025751, 2, 3)]\n",
            "matches: [(11840699188806025751, 1, 2)]\n",
            "matches: [(11840699188806025751, 11, 12)]\n",
            "matches: [(11840699188806025751, 1, 2)]\n",
            "matches: [(11840699188806025751, 2, 3), (11840699188806025751, 2, 4)]\n",
            "matches: [(11840699188806025751, 3, 4), (11840699188806025751, 3, 5)]\n",
            "matches: [(11840699188806025751, 2, 3)]\n",
            "matches: [(11840699188806025751, 2, 3)]\n",
            "matches: [(11840699188806025751, 2, 3), (11840699188806025751, 2, 4)]\n",
            "matches: [(11840699188806025751, 3, 4)]\n",
            "matches: [(11840699188806025751, 6, 7), (11840699188806025751, 6, 8), (11840699188806025751, 6, 9)]\n",
            "matches: [(11840699188806025751, 1, 2)]\n",
            "matches: [(11840699188806025751, 1, 2)]\n",
            "matches: [(11840699188806025751, 1, 2)]\n",
            "matches: [(11840699188806025751, 7, 8), (11840699188806025751, 7, 9)]\n"
          ],
          "name": "stdout"
        },
        {
          "output_type": "stream",
          "text": [
            " 55%|█████▍    | 2359/4318 [00:27<00:21, 90.85it/s]"
          ],
          "name": "stderr"
        },
        {
          "output_type": "stream",
          "text": [
            "matches: [(11840699188806025751, 2, 3)]\n",
            "matches: [(11840699188806025751, 2, 3)]\n",
            "matches: [(11840699188806025751, 1, 2), (11840699188806025751, 1, 3)]\n",
            "matches: [(11840699188806025751, 3, 4)]\n",
            "matches: [(11840699188806025751, 4, 5), (11840699188806025751, 4, 6)]\n",
            "matches: [(11840699188806025751, 2, 3), (11840699188806025751, 2, 4)]\n",
            "matches: [(11840699188806025751, 1, 2)]\n",
            "matches: [(11840699188806025751, 3, 4)]\n",
            "matches: [(11840699188806025751, 2, 3), (11840699188806025751, 2, 4)]\n",
            "matches: [(11840699188806025751, 3, 4), (11840699188806025751, 3, 5)]\n",
            "matches: [(11840699188806025751, 6, 7), (11840699188806025751, 6, 8)]\n",
            "matches: [(11840699188806025751, 1, 2), (11840699188806025751, 1, 3)]\n",
            "matches: [(11840699188806025751, 1, 2)]\n",
            "matches: [(11840699188806025751, 3, 4), (11840699188806025751, 3, 5)]\n",
            "matches: [(11840699188806025751, 5, 6)]\n",
            "matches: [(11840699188806025751, 2, 3)]\n",
            "matches: [(11840699188806025751, 6, 7), (11840699188806025751, 6, 8)]\n",
            "matches: [(11840699188806025751, 1, 2)]\n",
            "matches: [(11840699188806025751, 3, 4)]\n"
          ],
          "name": "stdout"
        },
        {
          "output_type": "stream",
          "text": [
            " 55%|█████▌    | 2379/4318 [00:27<00:21, 89.80it/s]"
          ],
          "name": "stderr"
        },
        {
          "output_type": "stream",
          "text": [
            "matches: [(11840699188806025751, 5, 6), (11840699188806025751, 5, 7)]\n",
            "matches: [(11840699188806025751, 7, 8), (11840699188806025751, 7, 9)]\n",
            "matches: [(11840699188806025751, 6, 7)]\n",
            "matches: [(11840699188806025751, 5, 6), (11840699188806025751, 5, 7)]\n",
            "matches: [(11840699188806025751, 13, 14)]\n",
            "matches: [(11840699188806025751, 4, 5)]\n",
            "matches: [(11840699188806025751, 2, 3)]\n",
            "matches: [(11840699188806025751, 1, 2), (11840699188806025751, 1, 3)]\n",
            "matches: [(11840699188806025751, 3, 4)]\n",
            "matches: [(11840699188806025751, 2, 3), (11840699188806025751, 2, 4)]\n",
            "matches: [(11840699188806025751, 2, 3), (11840699188806025751, 2, 4)]\n",
            "matches: [(11840699188806025751, 2, 3)]\n",
            "matches: [(11840699188806025751, 1, 2)]\n",
            "matches: [(11840699188806025751, 2, 3), (11840699188806025751, 2, 4)]\n",
            "matches: [(11840699188806025751, 3, 4), (11840699188806025751, 3, 5), (11840699188806025751, 3, 6)]\n",
            "matches: [(11840699188806025751, 2, 3)]\n",
            "matches: [(11840699188806025751, 2, 3)]\n",
            "matches: [(11840699188806025751, 2, 3)]\n",
            "matches: [(11840699188806025751, 2, 3)]\n"
          ],
          "name": "stdout"
        },
        {
          "output_type": "stream",
          "text": [
            " 56%|█████▌    | 2399/4318 [00:28<00:21, 90.82it/s]"
          ],
          "name": "stderr"
        },
        {
          "output_type": "stream",
          "text": [
            "matches: [(11840699188806025751, 3, 4), (11840699188806025751, 3, 5)]\n",
            "matches: [(11840699188806025751, 6, 7)]\n",
            "matches: [(11840699188806025751, 2, 3), (11840699188806025751, 2, 4)]\n",
            "matches: [(11840699188806025751, 8, 9)]\n",
            "matches: [(11840699188806025751, 15, 16)]\n",
            "matches: [(11840699188806025751, 10, 11)]\n",
            "matches: [(11840699188806025751, 3, 4), (11840699188806025751, 3, 5)]\n",
            "matches: [(11840699188806025751, 4, 5)]\n",
            "matches: [(11840699188806025751, 3, 4)]\n",
            "matches: [(11840699188806025751, 5, 6), (11840699188806025751, 5, 7)]\n",
            "matches: [(11840699188806025751, 7, 8), (11840699188806025751, 7, 9)]\n",
            "matches: [(11840699188806025751, 6, 7)]\n",
            "matches: [(11840699188806025751, 5, 6), (11840699188806025751, 5, 7)]\n",
            "matches: [(11840699188806025751, 13, 14)]\n",
            "matches: [(11840699188806025751, 4, 5)]\n",
            "matches: [(11840699188806025751, 2, 3)]\n",
            "matches: [(11840699188806025751, 1, 2), (11840699188806025751, 1, 3)]\n",
            "matches: [(11840699188806025751, 3, 4)]\n",
            "matches: [(11840699188806025751, 2, 3), (11840699188806025751, 2, 4)]\n",
            "matches: [(11840699188806025751, 2, 3), (11840699188806025751, 2, 4)]\n"
          ],
          "name": "stdout"
        },
        {
          "output_type": "stream",
          "text": [
            " 56%|█████▌    | 2418/4318 [00:28<00:21, 86.86it/s]"
          ],
          "name": "stderr"
        },
        {
          "output_type": "stream",
          "text": [
            "matches: [(11840699188806025751, 2, 3)]\n",
            "matches: [(11840699188806025751, 1, 2)]\n",
            "matches: [(11840699188806025751, 2, 3), (11840699188806025751, 2, 4)]\n",
            "matches: [(11840699188806025751, 3, 4), (11840699188806025751, 3, 5), (11840699188806025751, 3, 6)]\n",
            "matches: [(11840699188806025751, 2, 3)]\n",
            "matches: [(11840699188806025751, 2, 3)]\n",
            "matches: [(11840699188806025751, 2, 3)]\n",
            "matches: [(11840699188806025751, 2, 3)]\n",
            "matches: [(11840699188806025751, 3, 4), (11840699188806025751, 3, 5)]\n",
            "matches: [(11840699188806025751, 6, 7)]\n",
            "matches: [(11840699188806025751, 2, 3), (11840699188806025751, 2, 4)]\n",
            "matches: [(11840699188806025751, 8, 9)]\n",
            "matches: [(11840699188806025751, 15, 16)]\n",
            "matches: [(11840699188806025751, 10, 11)]\n",
            "matches: [(11840699188806025751, 3, 4), (11840699188806025751, 3, 5)]\n",
            "matches: [(11840699188806025751, 4, 5)]\n",
            "matches: [(11840699188806025751, 2, 3)]\n"
          ],
          "name": "stdout"
        },
        {
          "output_type": "stream",
          "text": [
            " 56%|█████▋    | 2437/4318 [00:28<00:21, 88.08it/s]"
          ],
          "name": "stderr"
        },
        {
          "output_type": "stream",
          "text": [
            "matches: [(11840699188806025751, 0, 1)]\n",
            "matches: [(11840699188806025751, 3, 4)]\n",
            "matches: [(11840699188806025751, 5, 6), (11840699188806025751, 5, 7)]\n",
            "matches: [(11840699188806025751, 4, 5), (11840699188806025751, 4, 6)]\n",
            "matches: [(11840699188806025751, 3, 4)]\n",
            "matches: [(11840699188806025751, 3, 4)]\n",
            "matches: [(11840699188806025751, 6, 7)]\n",
            "matches: [(11840699188806025751, 3, 4)]\n",
            "matches: [(11840699188806025751, 12, 13)]\n",
            "matches: [(11840699188806025751, 2, 3), (11840699188806025751, 2, 4)]\n",
            "matches: [(11840699188806025751, 1, 2)]\n",
            "matches: [(11840699188806025751, 6, 7), (11840699188806025751, 6, 8), (11840699188806025751, 6, 9)]\n",
            "matches: [(11840699188806025751, 5, 6), (11840699188806025751, 5, 7)]\n",
            "matches: [(11840699188806025751, 2, 3)]\n",
            "matches: [(11840699188806025751, 1, 2)]\n",
            "matches: [(11840699188806025751, 3, 4)]\n",
            "matches: [(11840699188806025751, 6, 7), (11840699188806025751, 6, 8)]\n",
            "matches: [(11840699188806025751, 2, 3)]\n",
            "matches: [(11840699188806025751, 2, 3)]\n"
          ],
          "name": "stdout"
        },
        {
          "output_type": "stream",
          "text": [
            " 57%|█████▋    | 2456/4318 [00:28<00:20, 89.12it/s]"
          ],
          "name": "stderr"
        },
        {
          "output_type": "stream",
          "text": [
            "matches: [(11840699188806025751, 0, 1)]\n",
            "matches: [(11840699188806025751, 3, 4)]\n",
            "matches: [(11840699188806025751, 5, 6), (11840699188806025751, 5, 7)]\n",
            "matches: [(11840699188806025751, 4, 5), (11840699188806025751, 4, 6)]\n",
            "matches: [(11840699188806025751, 3, 4)]\n",
            "matches: [(11840699188806025751, 3, 4)]\n",
            "matches: [(11840699188806025751, 6, 7)]\n",
            "matches: [(11840699188806025751, 3, 4)]\n",
            "matches: [(11840699188806025751, 12, 13)]\n",
            "matches: [(11840699188806025751, 2, 3), (11840699188806025751, 2, 4)]\n",
            "matches: [(11840699188806025751, 1, 2)]\n",
            "matches: [(11840699188806025751, 6, 7), (11840699188806025751, 6, 8), (11840699188806025751, 6, 9)]\n",
            "matches: [(11840699188806025751, 5, 6), (11840699188806025751, 5, 7)]\n",
            "matches: [(11840699188806025751, 2, 3)]\n",
            "matches: [(11840699188806025751, 1, 2)]\n",
            "matches: [(11840699188806025751, 3, 4)]\n",
            "matches: [(11840699188806025751, 6, 7), (11840699188806025751, 6, 8)]\n",
            "matches: [(11840699188806025751, 2, 3)]\n",
            "matches: [(11840699188806025751, 4, 5)]\n"
          ],
          "name": "stdout"
        },
        {
          "output_type": "stream",
          "text": [
            " 57%|█████▋    | 2475/4318 [00:28<00:20, 90.15it/s]"
          ],
          "name": "stderr"
        },
        {
          "output_type": "stream",
          "text": [
            "matches: [(11840699188806025751, 2, 3)]\n",
            "matches: [(11840699188806025751, 8, 9)]\n",
            "matches: [(11840699188806025751, 6, 7)]\n",
            "matches: [(11840699188806025751, 3, 4)]\n",
            "matches: [(11840699188806025751, 10, 11)]\n",
            "matches: [(11840699188806025751, 1, 2), (11840699188806025751, 3, 4)]\n",
            "matches: [(11840699188806025751, 2, 3)]\n",
            "matches: [(11840699188806025751, 0, 1)]\n",
            "matches: [(11840699188806025751, 2, 3), (11840699188806025751, 2, 4)]\n",
            "matches: [(11840699188806025751, 2, 3), (11840699188806025751, 2, 4)]\n",
            "matches: [(11840699188806025751, 4, 5)]\n",
            "matches: [(11840699188806025751, 5, 6), (11840699188806025751, 5, 7), (11840699188806025751, 5, 8)]\n",
            "matches: [(11840699188806025751, 4, 5)]\n",
            "matches: [(11840699188806025751, 3, 4)]\n",
            "matches: [(11840699188806025751, 3, 4)]\n",
            "matches: [(11840699188806025751, 8, 9)]\n",
            "matches: [(11840699188806025751, 3, 4)]\n",
            "matches: [(11840699188806025751, 8, 9)]\n",
            "matches: [(11840699188806025751, 9, 10)]\n"
          ],
          "name": "stdout"
        },
        {
          "output_type": "stream",
          "text": [
            " 58%|█████▊    | 2494/4318 [00:29<00:20, 89.08it/s]"
          ],
          "name": "stderr"
        },
        {
          "output_type": "stream",
          "text": [
            "matches: [(11840699188806025751, 3, 4)]\n",
            "matches: [(11840699188806025751, 23, 24)]\n",
            "matches: [(11840699188806025751, 8, 9)]\n",
            "matches: [(11840699188806025751, 6, 7), (11840699188806025751, 6, 8)]\n",
            "matches: [(11840699188806025751, 10, 11)]\n",
            "matches: [(11840699188806025751, 5, 6)]\n",
            "matches: [(11840699188806025751, 1, 2), (11840699188806025751, 1, 3)]\n",
            "matches: [(11840699188806025751, 4, 5), (11840699188806025751, 4, 6)]\n",
            "matches: [(11840699188806025751, 2, 3)]\n",
            "matches: [(11840699188806025751, 4, 5)]\n",
            "matches: [(11840699188806025751, 1, 2), (11840699188806025751, 5, 6)]\n",
            "matches: [(11840699188806025751, 4, 5), (11840699188806025751, 8, 9)]\n",
            "matches: [(11840699188806025751, 4, 5)]\n",
            "matches: [(11840699188806025751, 2, 3)]\n",
            "matches: [(11840699188806025751, 12, 13), (11840699188806025751, 12, 14)]\n",
            "matches: [(11840699188806025751, 1, 2)]\n",
            "matches: [(11840699188806025751, 7, 8)]\n",
            "matches: [(11840699188806025751, 1, 2)]\n"
          ],
          "name": "stdout"
        },
        {
          "output_type": "stream",
          "text": [
            " 58%|█████▊    | 2513/4318 [00:29<00:20, 87.28it/s]"
          ],
          "name": "stderr"
        },
        {
          "output_type": "stream",
          "text": [
            "matches: [(11840699188806025751, 9, 10)]\n",
            "matches: [(11840699188806025751, 2, 3)]\n",
            "matches: [(11840699188806025751, 3, 4)]\n",
            "matches: [(11840699188806025751, 9, 10)]\n",
            "matches: [(11840699188806025751, 3, 4)]\n",
            "matches: [(11840699188806025751, 23, 24)]\n",
            "matches: [(11840699188806025751, 8, 9)]\n",
            "matches: [(11840699188806025751, 6, 7), (11840699188806025751, 6, 8)]\n",
            "matches: [(11840699188806025751, 10, 11)]\n",
            "matches: [(11840699188806025751, 5, 6)]\n",
            "matches: [(11840699188806025751, 1, 2), (11840699188806025751, 1, 3)]\n",
            "matches: [(11840699188806025751, 4, 5), (11840699188806025751, 4, 6)]\n",
            "matches: [(11840699188806025751, 2, 3)]\n",
            "matches: [(11840699188806025751, 4, 5)]\n",
            "matches: [(11840699188806025751, 1, 2), (11840699188806025751, 5, 6)]\n",
            "matches: [(11840699188806025751, 4, 5), (11840699188806025751, 8, 9)]\n",
            "matches: [(11840699188806025751, 4, 5)]\n",
            "matches: [(11840699188806025751, 2, 3)]\n"
          ],
          "name": "stdout"
        },
        {
          "output_type": "stream",
          "text": [
            "\r 58%|█████▊    | 2522/4318 [00:29<00:21, 83.65it/s]"
          ],
          "name": "stderr"
        },
        {
          "output_type": "stream",
          "text": [
            "matches: [(11840699188806025751, 12, 13), (11840699188806025751, 12, 14)]\n",
            "matches: [(11840699188806025751, 1, 2)]\n",
            "matches: [(11840699188806025751, 7, 8)]\n",
            "matches: [(11840699188806025751, 1, 2)]\n",
            "matches: [(11840699188806025751, 9, 10)]\n",
            "matches: [(11840699188806025751, 2, 3)]\n",
            "matches: [(11840699188806025751, 3, 4)]\n",
            "matches: [(11840699188806025751, 6, 7), (11840699188806025751, 6, 8), (11840699188806025751, 6, 9)]\n",
            "matches: [(11840699188806025751, 1, 2)]\n",
            "matches: [(11840699188806025751, 1, 2)]\n",
            "matches: [(11840699188806025751, 4, 5)]\n",
            "matches: [(11840699188806025751, 1, 2)]\n",
            "matches: [(11840699188806025751, 2, 3)]\n",
            "matches: [(11840699188806025751, 2, 3)]\n",
            "matches: [(11840699188806025751, 3, 4)]\n",
            "matches: [(11840699188806025751, 6, 7)]\n",
            "matches: [(11840699188806025751, 2, 3)]\n",
            "matches: [(11840699188806025751, 6, 7)]\n"
          ],
          "name": "stdout"
        },
        {
          "output_type": "stream",
          "text": [
            " 59%|█████▉    | 2541/4318 [00:29<00:21, 84.46it/s]"
          ],
          "name": "stderr"
        },
        {
          "output_type": "stream",
          "text": [
            "matches: [(11840699188806025751, 5, 6)]\n",
            "matches: [(11840699188806025751, 2, 3)]\n",
            "matches: [(11840699188806025751, 5, 6), (11840699188806025751, 5, 7)]\n",
            "matches: [(11840699188806025751, 2, 3)]\n",
            "matches: [(11840699188806025751, 2, 3)]\n",
            "matches: [(11840699188806025751, 1, 2)]\n",
            "matches: [(11840699188806025751, 5, 6), (11840699188806025751, 12, 13)]\n",
            "matches: [(11840699188806025751, 4, 5)]\n",
            "matches: [(11840699188806025751, 4, 5)]\n",
            "matches: [(11840699188806025751, 8, 9)]\n",
            "matches: [(11840699188806025751, 6, 7), (11840699188806025751, 6, 8)]\n",
            "matches: [(11840699188806025751, 6, 7)]\n",
            "matches: [(11840699188806025751, 4, 5)]\n",
            "matches: [(11840699188806025751, 1, 2)]\n",
            "matches: [(11840699188806025751, 6, 7)]\n",
            "matches: [(11840699188806025751, 4, 5), (11840699188806025751, 4, 6)]\n",
            "matches: [(11840699188806025751, 1, 2), (11840699188806025751, 1, 3)]\n",
            "matches: [(11840699188806025751, 10, 11)]\n"
          ],
          "name": "stdout"
        },
        {
          "output_type": "stream",
          "text": [
            " 59%|█████▉    | 2559/4318 [00:29<00:20, 86.22it/s]"
          ],
          "name": "stderr"
        },
        {
          "output_type": "stream",
          "text": [
            "matches: [(11840699188806025751, 1, 2)]\n",
            "matches: [(11840699188806025751, 1, 2)]\n",
            "matches: [(11840699188806025751, 13, 14)]\n",
            "matches: [(11840699188806025751, 2, 3)]\n",
            "matches: [(11840699188806025751, 1, 2)]\n",
            "matches: [(11840699188806025751, 6, 7)]\n",
            "matches: [(11840699188806025751, 3, 4)]\n",
            "matches: [(11840699188806025751, 5, 6), (11840699188806025751, 5, 7)]\n",
            "matches: [(11840699188806025751, 3, 4)]\n",
            "matches: [(11840699188806025751, 3, 4)]\n",
            "matches: [(11840699188806025751, 2, 3)]\n",
            "matches: [(11840699188806025751, 1, 2), (11840699188806025751, 1, 3)]\n",
            "matches: [(11840699188806025751, 2, 3), (11840699188806025751, 2, 4)]\n",
            "matches: [(11840699188806025751, 2, 3)]\n",
            "matches: [(11840699188806025751, 6, 7), (11840699188806025751, 6, 8)]\n",
            "matches: [(11840699188806025751, 2, 3)]\n",
            "matches: [(11840699188806025751, 1, 2)]\n",
            "matches: [(11840699188806025751, 6, 7), (11840699188806025751, 6, 8)]\n"
          ],
          "name": "stdout"
        },
        {
          "output_type": "stream",
          "text": [
            " 60%|█████▉    | 2577/4318 [00:30<00:20, 85.63it/s]"
          ],
          "name": "stderr"
        },
        {
          "output_type": "stream",
          "text": [
            "matches: [(11840699188806025751, 3, 4)]\n",
            "matches: [(11840699188806025751, 2, 3), (11840699188806025751, 2, 4)]\n",
            "matches: [(11840699188806025751, 7, 8), (11840699188806025751, 7, 9)]\n",
            "matches: [(11840699188806025751, 11, 12), (11840699188806025751, 11, 13)]\n",
            "matches: [(11840699188806025751, 2, 3)]\n",
            "matches: [(11840699188806025751, 3, 4)]\n",
            "matches: [(11840699188806025751, 3, 4), (11840699188806025751, 3, 5)]\n",
            "matches: [(11840699188806025751, 1, 2)]\n",
            "matches: [(11840699188806025751, 7, 8)]\n",
            "matches: [(11840699188806025751, 2, 3), (11840699188806025751, 6, 7), (11840699188806025751, 6, 8)]\n",
            "matches: [(11840699188806025751, 5, 6), (11840699188806025751, 5, 7)]\n",
            "matches: [(11840699188806025751, 4, 5)]\n",
            "matches: [(11840699188806025751, 6, 7)]\n",
            "matches: [(11840699188806025751, 9, 10)]\n",
            "matches: [(11840699188806025751, 3, 4)]\n",
            "matches: [(11840699188806025751, 3, 4)]\n",
            "matches: [(11840699188806025751, 1, 2), (11840699188806025751, 8, 9), (11840699188806025751, 8, 10)]\n"
          ],
          "name": "stdout"
        },
        {
          "output_type": "stream",
          "text": [
            " 60%|██████    | 2596/4318 [00:30<00:20, 85.21it/s]"
          ],
          "name": "stderr"
        },
        {
          "output_type": "stream",
          "text": [
            "matches: [(11840699188806025751, 8, 9)]\n",
            "matches: [(11840699188806025751, 3, 4)]\n",
            "matches: [(11840699188806025751, 2, 3), (11840699188806025751, 2, 4)]\n",
            "matches: [(11840699188806025751, 1, 2), (11840699188806025751, 1, 3)]\n",
            "matches: [(11840699188806025751, 2, 3)]\n",
            "matches: [(11840699188806025751, 4, 5)]\n",
            "matches: [(11840699188806025751, 6, 7)]\n",
            "matches: [(11840699188806025751, 1, 2), (11840699188806025751, 1, 3)]\n",
            "matches: [(11840699188806025751, 9, 10), (11840699188806025751, 9, 11)]\n",
            "matches: [(11840699188806025751, 1, 2)]\n",
            "matches: [(11840699188806025751, 2, 3), (11840699188806025751, 2, 4)]\n",
            "matches: [(11840699188806025751, 2, 3), (11840699188806025751, 2, 4)]\n",
            "matches: [(11840699188806025751, 2, 3)]\n",
            "matches: [(11840699188806025751, 1, 2)]\n",
            "matches: [(11840699188806025751, 2, 3)]\n",
            "matches: [(11840699188806025751, 8, 9)]\n",
            "matches: [(11840699188806025751, 2, 3)]\n",
            "matches: [(11840699188806025751, 6, 7), (11840699188806025751, 6, 8)]\n",
            "matches: [(11840699188806025751, 5, 6), (11840699188806025751, 5, 7)]\n"
          ],
          "name": "stdout"
        },
        {
          "output_type": "stream",
          "text": [
            " 61%|██████    | 2615/4318 [00:30<00:19, 87.28it/s]"
          ],
          "name": "stderr"
        },
        {
          "output_type": "stream",
          "text": [
            "matches: [(11840699188806025751, 1, 2), (11840699188806025751, 10, 11), (11840699188806025751, 12, 13)]\n",
            "matches: [(11840699188806025751, 4, 5)]\n",
            "matches: [(11840699188806025751, 4, 5)]\n",
            "matches: [(11840699188806025751, 4, 5)]\n",
            "matches: [(11840699188806025751, 6, 7), (11840699188806025751, 6, 8)]\n",
            "matches: [(11840699188806025751, 8, 9), (11840699188806025751, 8, 10), (11840699188806025751, 8, 11)]\n",
            "matches: [(11840699188806025751, 15, 16)]\n",
            "matches: [(11840699188806025751, 2, 3), (11840699188806025751, 2, 4), (11840699188806025751, 2, 5)]\n",
            "matches: [(11840699188806025751, 1, 2)]\n",
            "matches: [(11840699188806025751, 5, 6)]\n",
            "matches: [(11840699188806025751, 1, 2)]\n",
            "matches: [(11840699188806025751, 2, 3)]\n",
            "matches: [(11840699188806025751, 2, 3), (11840699188806025751, 2, 4)]\n",
            "matches: [(11840699188806025751, 2, 3)]\n",
            "matches: [(11840699188806025751, 1, 2)]\n",
            "matches: [(11840699188806025751, 3, 4)]\n",
            "matches: [(11840699188806025751, 4, 5)]\n",
            "matches: [(11840699188806025751, 15, 16)]\n",
            "matches: [(11840699188806025751, 2, 3), (11840699188806025751, 2, 4), (11840699188806025751, 2, 5)]\n"
          ],
          "name": "stdout"
        },
        {
          "output_type": "stream",
          "text": [
            " 61%|██████    | 2635/4318 [00:30<00:18, 89.68it/s]"
          ],
          "name": "stderr"
        },
        {
          "output_type": "stream",
          "text": [
            "matches: [(11840699188806025751, 1, 2)]\n",
            "matches: [(11840699188806025751, 5, 6)]\n",
            "matches: [(11840699188806025751, 1, 2)]\n",
            "matches: [(11840699188806025751, 2, 3)]\n",
            "matches: [(11840699188806025751, 2, 3), (11840699188806025751, 2, 4)]\n",
            "matches: [(11840699188806025751, 2, 3)]\n",
            "matches: [(11840699188806025751, 1, 2)]\n",
            "matches: [(11840699188806025751, 3, 4)]\n",
            "matches: [(11840699188806025751, 4, 5)]\n",
            "matches: [(11840699188806025751, 24, 25)]\n",
            "matches: [(11840699188806025751, 2, 3)]\n",
            "matches: [(11840699188806025751, 2, 3)]\n",
            "matches: [(11840699188806025751, 15, 16)]\n",
            "matches: [(11840699188806025751, 3, 4)]\n",
            "matches: [(11840699188806025751, 7, 8), (11840699188806025751, 7, 9)]\n",
            "matches: [(11840699188806025751, 6, 7)]\n",
            "matches: [(11840699188806025751, 3, 4)]\n",
            "matches: [(11840699188806025751, 5, 6), (11840699188806025751, 5, 7)]\n",
            "matches: [(11840699188806025751, 5, 6), (11840699188806025751, 5, 7)]\n"
          ],
          "name": "stdout"
        },
        {
          "output_type": "stream",
          "text": [
            " 61%|██████▏   | 2654/4318 [00:30<00:18, 89.46it/s]"
          ],
          "name": "stderr"
        },
        {
          "output_type": "stream",
          "text": [
            "matches: [(11840699188806025751, 4, 5)]\n",
            "matches: [(11840699188806025751, 3, 4), (11840699188806025751, 3, 5), (11840699188806025751, 3, 6)]\n",
            "matches: [(11840699188806025751, 2, 3)]\n",
            "matches: [(11840699188806025751, 2, 3), (11840699188806025751, 2, 4), (11840699188806025751, 2, 5)]\n",
            "matches: [(11840699188806025751, 1, 2), (11840699188806025751, 1, 3)]\n",
            "matches: [(11840699188806025751, 6, 7)]\n",
            "matches: [(11840699188806025751, 0, 1)]\n",
            "matches: [(11840699188806025751, 2, 3)]\n",
            "matches: [(11840699188806025751, 2, 3)]\n",
            "matches: [(11840699188806025751, 2, 3)]\n",
            "matches: [(11840699188806025751, 4, 5), (11840699188806025751, 4, 6)]\n",
            "matches: [(11840699188806025751, 2, 3)]\n",
            "matches: [(11840699188806025751, 2, 3)]\n",
            "matches: [(11840699188806025751, 2, 3)]\n",
            "matches: [(11840699188806025751, 1, 2)]\n",
            "matches: [(11840699188806025751, 4, 5)]\n",
            "matches: [(11840699188806025751, 3, 4)]\n",
            "matches: [(11840699188806025751, 2, 3)]\n",
            "matches: [(11840699188806025751, 1, 2)]\n"
          ],
          "name": "stdout"
        },
        {
          "output_type": "stream",
          "text": [
            " 62%|██████▏   | 2672/4318 [00:31<00:18, 87.83it/s]"
          ],
          "name": "stderr"
        },
        {
          "output_type": "stream",
          "text": [
            "matches: [(11840699188806025751, 2, 3), (11840699188806025751, 5, 6)]\n",
            "matches: [(11840699188806025751, 2, 3), (11840699188806025751, 4, 5)]\n",
            "matches: [(11840699188806025751, 1, 2)]\n",
            "matches: [(11840699188806025751, 3, 4), (11840699188806025751, 3, 5)]\n",
            "matches: [(11840699188806025751, 14, 15), (11840699188806025751, 14, 16)]\n",
            "matches: [(11840699188806025751, 1, 2)]\n",
            "matches: [(11840699188806025751, 1, 2)]\n",
            "matches: [(11840699188806025751, 2, 3), (11840699188806025751, 2, 4)]\n",
            "matches: [(11840699188806025751, 4, 5)]\n",
            "matches: [(11840699188806025751, 10, 11)]\n",
            "matches: [(11840699188806025751, 2, 3)]\n",
            "matches: [(11840699188806025751, 4, 5)]\n",
            "matches: [(11840699188806025751, 1, 2)]\n",
            "matches: [(11840699188806025751, 2, 3), (11840699188806025751, 2, 4)]\n",
            "matches: [(11840699188806025751, 3, 4)]\n",
            "matches: [(11840699188806025751, 2, 3)]\n",
            "matches: [(11840699188806025751, 2, 3)]\n",
            "matches: [(11840699188806025751, 4, 5), (11840699188806025751, 4, 6)]\n"
          ],
          "name": "stdout"
        },
        {
          "output_type": "stream",
          "text": [
            " 62%|██████▏   | 2691/4318 [00:31<00:18, 89.50it/s]"
          ],
          "name": "stderr"
        },
        {
          "output_type": "stream",
          "text": [
            "matches: [(11840699188806025751, 1, 2)]\n",
            "matches: [(11840699188806025751, 3, 4)]\n",
            "matches: [(11840699188806025751, 10, 11), (11840699188806025751, 10, 12)]\n",
            "matches: [(11840699188806025751, 2, 3)]\n",
            "matches: [(11840699188806025751, 2, 3)]\n",
            "matches: [(11840699188806025751, 6, 7), (11840699188806025751, 6, 8)]\n",
            "matches: [(11840699188806025751, 4, 5), (11840699188806025751, 4, 6)]\n",
            "matches: [(11840699188806025751, 5, 6), (11840699188806025751, 5, 7)]\n",
            "matches: [(11840699188806025751, 1, 2)]\n",
            "matches: [(11840699188806025751, 2, 3)]\n",
            "matches: [(11840699188806025751, 3, 4), (11840699188806025751, 3, 5)]\n",
            "matches: [(11840699188806025751, 2, 3), (11840699188806025751, 2, 4)]\n",
            "matches: [(11840699188806025751, 4, 5)]\n",
            "matches: [(11840699188806025751, 2, 3)]\n",
            "matches: [(11840699188806025751, 9, 10), (11840699188806025751, 9, 11)]\n",
            "matches: [(11840699188806025751, 1, 2), (11840699188806025751, 1, 3)]\n",
            "matches: [(11840699188806025751, 9, 10), (11840699188806025751, 9, 11)]\n",
            "matches: [(11840699188806025751, 1, 2), (11840699188806025751, 1, 3)]\n",
            "matches: [(11840699188806025751, 1, 2)]\n"
          ],
          "name": "stdout"
        },
        {
          "output_type": "stream",
          "text": [
            " 63%|██████▎   | 2710/4318 [00:31<00:17, 90.77it/s]"
          ],
          "name": "stderr"
        },
        {
          "output_type": "stream",
          "text": [
            "matches: [(11840699188806025751, 2, 3)]\n",
            "matches: [(11840699188806025751, 2, 3)]\n",
            "matches: [(11840699188806025751, 3, 4)]\n",
            "matches: [(11840699188806025751, 3, 4)]\n",
            "matches: [(11840699188806025751, 5, 6), (11840699188806025751, 5, 7)]\n",
            "matches: [(11840699188806025751, 2, 3)]\n",
            "matches: [(11840699188806025751, 1, 2)]\n",
            "matches: [(11840699188806025751, 1, 2)]\n",
            "matches: [(11840699188806025751, 4, 5), (11840699188806025751, 4, 6), (11840699188806025751, 4, 7)]\n",
            "matches: [(11840699188806025751, 6, 7)]\n",
            "matches: [(11840699188806025751, 0, 1)]\n",
            "matches: [(11840699188806025751, 4, 5)]\n",
            "matches: [(11840699188806025751, 2, 3)]\n",
            "matches: [(11840699188806025751, 2, 3)]\n",
            "matches: [(11840699188806025751, 5, 6)]\n",
            "matches: [(11840699188806025751, 5, 6), (11840699188806025751, 5, 7)]\n",
            "matches: [(11840699188806025751, 3, 4), (11840699188806025751, 3, 5), (11840699188806025751, 3, 6)]\n",
            "matches: [(11840699188806025751, 3, 4), (11840699188806025751, 3, 5)]\n",
            "matches: [(11840699188806025751, 2, 3), (11840699188806025751, 2, 4)]\n"
          ],
          "name": "stdout"
        },
        {
          "output_type": "stream",
          "text": [
            " 63%|██████▎   | 2730/4318 [00:31<00:17, 90.27it/s]"
          ],
          "name": "stderr"
        },
        {
          "output_type": "stream",
          "text": [
            "matches: [(11840699188806025751, 2, 3), (11840699188806025751, 2, 4)]\n",
            "matches: [(11840699188806025751, 3, 4), (11840699188806025751, 3, 5)]\n",
            "matches: [(11840699188806025751, 3, 4), (11840699188806025751, 3, 5)]\n",
            "matches: [(11840699188806025751, 3, 4), (11840699188806025751, 3, 5)]\n",
            "matches: [(11840699188806025751, 2, 3)]\n",
            "matches: [(11840699188806025751, 2, 3)]\n",
            "matches: [(11840699188806025751, 1, 2)]\n",
            "matches: [(11840699188806025751, 2, 3)]\n",
            "matches: [(11840699188806025751, 1, 2)]\n",
            "matches: [(11840699188806025751, 2, 3)]\n",
            "matches: [(11840699188806025751, 2, 3)]\n",
            "matches: [(11840699188806025751, 1, 2), (11840699188806025751, 1, 3)]\n",
            "matches: [(11840699188806025751, 8, 9)]\n",
            "matches: [(11840699188806025751, 2, 3)]\n",
            "matches: [(11840699188806025751, 2, 3)]\n",
            "matches: [(11840699188806025751, 1, 2)]\n",
            "matches: [(11840699188806025751, 2, 3)]\n",
            "matches: [(11840699188806025751, 1, 2)]\n",
            "matches: [(11840699188806025751, 2, 3)]\n"
          ],
          "name": "stdout"
        },
        {
          "output_type": "stream",
          "text": [
            " 64%|██████▎   | 2750/4318 [00:32<00:17, 91.70it/s]"
          ],
          "name": "stderr"
        },
        {
          "output_type": "stream",
          "text": [
            "matches: [(11840699188806025751, 2, 3)]\n",
            "matches: [(11840699188806025751, 1, 2), (11840699188806025751, 1, 3)]\n",
            "matches: [(11840699188806025751, 8, 9)]\n",
            "matches: [(11840699188806025751, 6, 7)]\n",
            "matches: [(11840699188806025751, 2, 3), (11840699188806025751, 2, 4)]\n",
            "matches: [(11840699188806025751, 6, 7), (11840699188806025751, 6, 8)]\n",
            "matches: [(11840699188806025751, 4, 5), (11840699188806025751, 4, 6)]\n",
            "matches: [(11840699188806025751, 6, 7)]\n",
            "matches: [(11840699188806025751, 6, 7)]\n",
            "matches: [(11840699188806025751, 5, 6)]\n",
            "matches: [(11840699188806025751, 10, 11)]\n",
            "matches: [(11840699188806025751, 5, 6), (11840699188806025751, 5, 7)]\n",
            "matches: [(11840699188806025751, 12, 13)]\n",
            "matches: [(11840699188806025751, 3, 4)]\n",
            "matches: [(11840699188806025751, 4, 5)]\n",
            "matches: [(11840699188806025751, 4, 5), (11840699188806025751, 4, 6)]\n",
            "matches: [(11840699188806025751, 5, 6), (11840699188806025751, 5, 7)]\n",
            "matches: [(11840699188806025751, 4, 5)]\n",
            "matches: [(11840699188806025751, 1, 2)]\n"
          ],
          "name": "stdout"
        },
        {
          "output_type": "stream",
          "text": [
            " 64%|██████▍   | 2770/4318 [00:32<00:17, 89.47it/s]"
          ],
          "name": "stderr"
        },
        {
          "output_type": "stream",
          "text": [
            "matches: [(11840699188806025751, 4, 5)]\n",
            "matches: [(11840699188806025751, 2, 3), (11840699188806025751, 2, 4)]\n",
            "matches: [(11840699188806025751, 2, 3)]\n",
            "matches: [(11840699188806025751, 14, 15)]\n",
            "matches: [(11840699188806025751, 3, 4)]\n",
            "matches: [(11840699188806025751, 3, 4), (11840699188806025751, 3, 5)]\n",
            "matches: [(11840699188806025751, 4, 5)]\n",
            "matches: [(11840699188806025751, 1, 2), (11840699188806025751, 1, 3)]\n",
            "matches: [(11840699188806025751, 2, 3)]\n",
            "matches: [(11840699188806025751, 5, 6)]\n",
            "matches: [(11840699188806025751, 4, 5), (11840699188806025751, 4, 6)]\n",
            "matches: [(11840699188806025751, 7, 8)]\n",
            "matches: [(11840699188806025751, 13, 14), (11840699188806025751, 13, 15)]\n",
            "matches: [(11840699188806025751, 3, 4), (11840699188806025751, 3, 5)]\n",
            "matches: [(11840699188806025751, 5, 6)]\n",
            "matches: [(11840699188806025751, 12, 13)]\n",
            "matches: [(11840699188806025751, 1, 2)]\n",
            "matches: [(11840699188806025751, 9, 10)]\n"
          ],
          "name": "stdout"
        },
        {
          "output_type": "stream",
          "text": [
            " 65%|██████▍   | 2789/4318 [00:32<00:17, 89.52it/s]"
          ],
          "name": "stderr"
        },
        {
          "output_type": "stream",
          "text": [
            "matches: [(11840699188806025751, 1, 2)]\n",
            "matches: [(11840699188806025751, 6, 7)]\n",
            "matches: [(11840699188806025751, 2, 3)]\n",
            "matches: [(11840699188806025751, 14, 15)]\n",
            "matches: [(11840699188806025751, 7, 8)]\n",
            "matches: [(11840699188806025751, 6, 7)]\n",
            "matches: [(11840699188806025751, 0, 1)]\n",
            "matches: [(11840699188806025751, 1, 2)]\n",
            "matches: [(11840699188806025751, 3, 4)]\n",
            "matches: [(11840699188806025751, 4, 5)]\n",
            "matches: [(11840699188806025751, 3, 4)]\n",
            "matches: [(11840699188806025751, 5, 6), (11840699188806025751, 5, 7)]\n",
            "matches: [(11840699188806025751, 1, 2), (11840699188806025751, 1, 3)]\n",
            "matches: [(11840699188806025751, 2, 3), (11840699188806025751, 2, 4)]\n",
            "matches: [(11840699188806025751, 5, 6), (11840699188806025751, 5, 7)]\n",
            "matches: [(11840699188806025751, 2, 3)]\n",
            "matches: [(11840699188806025751, 4, 5), (11840699188806025751, 4, 6)]\n",
            "matches: [(11840699188806025751, 2, 3), (11840699188806025751, 2, 4)]\n"
          ],
          "name": "stdout"
        },
        {
          "output_type": "stream",
          "text": [
            " 65%|██████▌   | 2808/4318 [00:32<00:17, 87.90it/s]"
          ],
          "name": "stderr"
        },
        {
          "output_type": "stream",
          "text": [
            "matches: [(11840699188806025751, 1, 2)]\n",
            "matches: [(11840699188806025751, 3, 4), (11840699188806025751, 3, 5)]\n",
            "matches: [(11840699188806025751, 1, 2)]\n",
            "matches: [(11840699188806025751, 1, 2)]\n",
            "matches: [(11840699188806025751, 13, 14)]\n",
            "matches: [(11840699188806025751, 4, 5), (11840699188806025751, 4, 6)]\n",
            "matches: [(11840699188806025751, 1, 2), (11840699188806025751, 1, 3)]\n",
            "matches: [(11840699188806025751, 4, 5), (11840699188806025751, 4, 6)]\n",
            "matches: [(11840699188806025751, 2, 3), (11840699188806025751, 2, 4)]\n",
            "matches: [(11840699188806025751, 1, 2)]\n",
            "matches: [(11840699188806025751, 2, 3)]\n",
            "matches: [(11840699188806025751, 4, 5), (11840699188806025751, 4, 6)]\n",
            "matches: [(11840699188806025751, 2, 3)]\n",
            "matches: [(11840699188806025751, 4, 5)]\n",
            "matches: [(11840699188806025751, 2, 3), (11840699188806025751, 2, 4)]\n",
            "matches: [(11840699188806025751, 6, 7)]\n",
            "matches: [(11840699188806025751, 2, 3), (11840699188806025751, 2, 4)]\n",
            "matches: [(11840699188806025751, 1, 2), (11840699188806025751, 1, 3)]\n"
          ],
          "name": "stdout"
        },
        {
          "output_type": "stream",
          "text": [
            " 65%|██████▌   | 2828/4318 [00:32<00:16, 90.31it/s]"
          ],
          "name": "stderr"
        },
        {
          "output_type": "stream",
          "text": [
            "matches: [(11840699188806025751, 5, 6), (11840699188806025751, 5, 7)]\n",
            "matches: [(11840699188806025751, 6, 7)]\n",
            "matches: [(11840699188806025751, 3, 4)]\n",
            "matches: [(11840699188806025751, 2, 3)]\n",
            "matches: [(11840699188806025751, 3, 4), (11840699188806025751, 3, 5)]\n",
            "matches: [(11840699188806025751, 5, 6)]\n",
            "matches: [(11840699188806025751, 2, 3)]\n",
            "matches: [(11840699188806025751, 1, 2)]\n",
            "matches: [(11840699188806025751, 1, 2)]\n",
            "matches: [(11840699188806025751, 4, 5)]\n",
            "matches: [(11840699188806025751, 1, 2)]\n",
            "matches: [(11840699188806025751, 3, 4)]\n",
            "matches: [(11840699188806025751, 1, 2)]\n",
            "matches: [(11840699188806025751, 2, 3), (11840699188806025751, 2, 4)]\n",
            "matches: [(11840699188806025751, 3, 4), (11840699188806025751, 3, 5)]\n",
            "matches: [(11840699188806025751, 2, 3)]\n",
            "matches: [(11840699188806025751, 6, 7), (11840699188806025751, 6, 8)]\n",
            "matches: [(11840699188806025751, 2, 3)]\n",
            "matches: [(11840699188806025751, 2, 3)]\n",
            "matches: [(11840699188806025751, 2, 3)]\n"
          ],
          "name": "stdout"
        },
        {
          "output_type": "stream",
          "text": [
            "\r 66%|██████▌   | 2838/4318 [00:32<00:16, 90.81it/s]"
          ],
          "name": "stderr"
        },
        {
          "output_type": "stream",
          "text": [
            "matches: [(11840699188806025751, 0, 1)]\n",
            "matches: [(11840699188806025751, 6, 7)]\n",
            "matches: [(11840699188806025751, 3, 4)]\n",
            "matches: [(11840699188806025751, 2, 3)]\n",
            "matches: [(11840699188806025751, 2, 3), (11840699188806025751, 2, 4), (11840699188806025751, 2, 5)]\n",
            "matches: [(11840699188806025751, 2, 3)]\n",
            "matches: [(11840699188806025751, 6, 7), (11840699188806025751, 6, 8)]\n",
            "matches: [(11840699188806025751, 2, 3)]\n",
            "matches: [(11840699188806025751, 2, 3)]\n",
            "matches: [(11840699188806025751, 2, 3)]\n",
            "matches: [(11840699188806025751, 0, 1)]\n",
            "matches: [(11840699188806025751, 6, 7)]\n",
            "matches: [(11840699188806025751, 3, 4)]\n",
            "matches: [(11840699188806025751, 2, 3)]\n",
            "matches: [(11840699188806025751, 2, 3), (11840699188806025751, 2, 4), (11840699188806025751, 2, 5)]\n",
            "matches: [(11840699188806025751, 5, 6)]\n",
            "matches: [(11840699188806025751, 1, 2)]\n",
            "matches: [(11840699188806025751, 11, 12), (11840699188806025751, 11, 13)]\n",
            "matches: [(11840699188806025751, 8, 9)]\n"
          ],
          "name": "stdout"
        },
        {
          "output_type": "stream",
          "text": [
            " 66%|██████▌   | 2858/4318 [00:33<00:16, 86.96it/s]"
          ],
          "name": "stderr"
        },
        {
          "output_type": "stream",
          "text": [
            "matches: [(11840699188806025751, 7, 8)]\n",
            "matches: [(11840699188806025751, 1, 2)]\n",
            "matches: [(11840699188806025751, 3, 4)]\n",
            "matches: [(11840699188806025751, 2, 3), (11840699188806025751, 2, 4), (11840699188806025751, 2, 5)]\n",
            "matches: [(11840699188806025751, 9, 10)]\n",
            "matches: [(11840699188806025751, 4, 5), (11840699188806025751, 4, 6)]\n",
            "matches: [(11840699188806025751, 2, 3)]\n",
            "matches: [(11840699188806025751, 3, 4)]\n",
            "matches: [(11840699188806025751, 3, 4)]\n",
            "matches: [(11840699188806025751, 7, 8)]\n",
            "matches: [(11840699188806025751, 1, 2)]\n",
            "matches: [(11840699188806025751, 5, 6)]\n",
            "matches: [(11840699188806025751, 0, 1)]\n",
            "matches: [(11840699188806025751, 3, 4), (11840699188806025751, 3, 5)]\n",
            "matches: [(11840699188806025751, 1, 2)]\n",
            "matches: [(11840699188806025751, 2, 3), (11840699188806025751, 11, 12), (11840699188806025751, 11, 13)]\n",
            "matches: [(11840699188806025751, 1, 2)]\n"
          ],
          "name": "stdout"
        },
        {
          "output_type": "stream",
          "text": [
            " 67%|██████▋   | 2876/4318 [00:33<00:17, 84.40it/s]"
          ],
          "name": "stderr"
        },
        {
          "output_type": "stream",
          "text": [
            "matches: [(11840699188806025751, 5, 6)]\n",
            "matches: [(11840699188806025751, 1, 2), (11840699188806025751, 1, 3)]\n",
            "matches: [(11840699188806025751, 3, 4)]\n",
            "matches: [(11840699188806025751, 3, 4), (11840699188806025751, 3, 5)]\n",
            "matches: [(11840699188806025751, 1, 2), (11840699188806025751, 1, 3)]\n",
            "matches: [(11840699188806025751, 2, 3), (11840699188806025751, 2, 4)]\n",
            "matches: [(11840699188806025751, 2, 3), (11840699188806025751, 2, 4)]\n",
            "matches: [(11840699188806025751, 3, 4)]\n",
            "matches: [(11840699188806025751, 0, 1)]\n",
            "matches: [(11840699188806025751, 1, 2)]\n",
            "matches: [(11840699188806025751, 5, 6), (11840699188806025751, 5, 7)]\n",
            "matches: [(11840699188806025751, 3, 4), (11840699188806025751, 3, 5)]\n",
            "matches: [(11840699188806025751, 3, 4)]\n",
            "matches: [(11840699188806025751, 0, 1)]\n",
            "matches: [(11840699188806025751, 4, 5), (11840699188806025751, 4, 6)]\n",
            "matches: [(11840699188806025751, 4, 5), (11840699188806025751, 4, 6)]\n",
            "matches: [(11840699188806025751, 0, 1)]\n",
            "matches: [(11840699188806025751, 10, 11)]\n"
          ],
          "name": "stdout"
        },
        {
          "output_type": "stream",
          "text": [
            " 67%|██████▋   | 2895/4318 [00:33<00:16, 86.45it/s]"
          ],
          "name": "stderr"
        },
        {
          "output_type": "stream",
          "text": [
            "matches: [(11840699188806025751, 6, 7), (11840699188806025751, 6, 8), (11840699188806025751, 6, 9)]\n",
            "matches: [(11840699188806025751, 5, 6)]\n",
            "matches: [(11840699188806025751, 0, 1)]\n",
            "matches: [(11840699188806025751, 4, 5), (11840699188806025751, 4, 6)]\n",
            "matches: [(11840699188806025751, 3, 4)]\n",
            "matches: [(11840699188806025751, 1, 2)]\n",
            "matches: [(11840699188806025751, 1, 2)]\n",
            "matches: [(11840699188806025751, 3, 4), (11840699188806025751, 3, 5), (11840699188806025751, 3, 6)]\n",
            "matches: [(11840699188806025751, 1, 2)]\n",
            "matches: [(11840699188806025751, 8, 9), (11840699188806025751, 8, 10)]\n",
            "matches: [(11840699188806025751, 1, 2)]\n",
            "matches: [(11840699188806025751, 4, 5), (11840699188806025751, 4, 6)]\n",
            "matches: [(11840699188806025751, 5, 6), (11840699188806025751, 5, 7)]\n",
            "matches: [(11840699188806025751, 6, 7), (11840699188806025751, 6, 8)]\n",
            "matches: [(11840699188806025751, 6, 7)]\n",
            "matches: [(11840699188806025751, 4, 5)]\n",
            "matches: [(11840699188806025751, 3, 4), (11840699188806025751, 3, 5)]\n",
            "matches: [(11840699188806025751, 1, 2), (11840699188806025751, 1, 3)]\n",
            "matches: [(11840699188806025751, 2, 3)]\n"
          ],
          "name": "stdout"
        },
        {
          "output_type": "stream",
          "text": [
            " 67%|██████▋   | 2914/4318 [00:33<00:16, 87.49it/s]"
          ],
          "name": "stderr"
        },
        {
          "output_type": "stream",
          "text": [
            "matches: [(11840699188806025751, 2, 3), (11840699188806025751, 2, 4)]\n",
            "matches: [(11840699188806025751, 0, 1)]\n",
            "matches: [(11840699188806025751, 9, 10), (11840699188806025751, 9, 11)]\n",
            "matches: [(11840699188806025751, 10, 11), (11840699188806025751, 10, 12)]\n",
            "matches: [(11840699188806025751, 1, 2), (11840699188806025751, 1, 3)]\n",
            "matches: [(11840699188806025751, 2, 3)]\n",
            "matches: [(11840699188806025751, 2, 3)]\n",
            "matches: [(11840699188806025751, 2, 3)]\n",
            "matches: [(11840699188806025751, 1, 2)]\n",
            "matches: [(11840699188806025751, 2, 3)]\n",
            "matches: [(11840699188806025751, 2, 3), (11840699188806025751, 2, 4)]\n",
            "matches: [(11840699188806025751, 2, 3)]\n",
            "matches: [(11840699188806025751, 8, 9), (11840699188806025751, 8, 10)]\n",
            "matches: [(11840699188806025751, 4, 5)]\n",
            "matches: [(11840699188806025751, 2, 3)]\n",
            "matches: [(11840699188806025751, 1, 2)]\n",
            "matches: [(11840699188806025751, 9, 10), (11840699188806025751, 9, 11)]\n",
            "matches: [(11840699188806025751, 1, 2)]\n",
            "matches: [(11840699188806025751, 7, 8)]\n"
          ],
          "name": "stdout"
        },
        {
          "output_type": "stream",
          "text": [
            " 68%|██████▊   | 2933/4318 [00:34<00:15, 88.69it/s]"
          ],
          "name": "stderr"
        },
        {
          "output_type": "stream",
          "text": [
            "matches: [(11840699188806025751, 1, 2)]\n",
            "matches: [(11840699188806025751, 3, 4)]\n",
            "matches: [(11840699188806025751, 4, 5)]\n",
            "matches: [(11840699188806025751, 8, 9), (11840699188806025751, 8, 10)]\n",
            "matches: [(11840699188806025751, 2, 3), (11840699188806025751, 2, 4)]\n",
            "matches: [(11840699188806025751, 3, 4), (11840699188806025751, 3, 5)]\n",
            "matches: [(11840699188806025751, 3, 4), (11840699188806025751, 3, 5)]\n",
            "matches: [(11840699188806025751, 2, 3), (11840699188806025751, 2, 4)]\n",
            "matches: [(11840699188806025751, 3, 4)]\n",
            "matches: [(11840699188806025751, 4, 5), (11840699188806025751, 4, 6)]\n",
            "matches: [(11840699188806025751, 3, 4), (11840699188806025751, 3, 5), (11840699188806025751, 3, 6)]\n",
            "matches: [(11840699188806025751, 3, 4)]\n",
            "matches: [(11840699188806025751, 3, 4)]\n",
            "matches: [(11840699188806025751, 6, 7), (11840699188806025751, 6, 8)]\n",
            "matches: [(11840699188806025751, 3, 4)]\n",
            "matches: [(11840699188806025751, 1, 2)]\n",
            "matches: [(11840699188806025751, 3, 4)]\n",
            "matches: [(11840699188806025751, 1, 2)]\n"
          ],
          "name": "stdout"
        },
        {
          "output_type": "stream",
          "text": [
            " 68%|██████▊   | 2952/4318 [00:34<00:15, 87.33it/s]"
          ],
          "name": "stderr"
        },
        {
          "output_type": "stream",
          "text": [
            "matches: [(11840699188806025751, 6, 7), (11840699188806025751, 6, 8)]\n",
            "matches: [(11840699188806025751, 1, 2)]\n",
            "matches: [(11840699188806025751, 1, 2)]\n",
            "matches: [(11840699188806025751, 7, 8)]\n",
            "matches: [(11840699188806025751, 3, 4), (11840699188806025751, 3, 5)]\n",
            "matches: [(11840699188806025751, 1, 2)]\n",
            "matches: [(11840699188806025751, 2, 3)]\n",
            "matches: [(11840699188806025751, 7, 8)]\n",
            "matches: [(11840699188806025751, 1, 2), (11840699188806025751, 1, 3)]\n",
            "matches: [(11840699188806025751, 1, 2)]\n",
            "matches: [(11840699188806025751, 5, 6)]\n",
            "matches: [(11840699188806025751, 3, 4), (11840699188806025751, 3, 5)]\n",
            "matches: [(11840699188806025751, 1, 2), (11840699188806025751, 1, 3)]\n",
            "matches: [(11840699188806025751, 2, 3), (11840699188806025751, 2, 4)]\n",
            "matches: [(11840699188806025751, 2, 3)]\n",
            "matches: [(11840699188806025751, 6, 7)]\n",
            "matches: [(11840699188806025751, 1, 2)]\n",
            "matches: [(11840699188806025751, 9, 10), (11840699188806025751, 9, 11)]\n"
          ],
          "name": "stdout"
        },
        {
          "output_type": "stream",
          "text": [
            " 69%|██████▉   | 2971/4318 [00:34<00:15, 87.49it/s]"
          ],
          "name": "stderr"
        },
        {
          "output_type": "stream",
          "text": [
            "matches: [(11840699188806025751, 6, 7)]\n",
            "matches: [(11840699188806025751, 1, 2), (11840699188806025751, 1, 3)]\n",
            "matches: [(11840699188806025751, 1, 2)]\n",
            "matches: [(11840699188806025751, 1, 2)]\n",
            "matches: [(11840699188806025751, 2, 3)]\n",
            "matches: [(11840699188806025751, 1, 2)]\n",
            "matches: [(11840699188806025751, 5, 6)]\n",
            "matches: [(11840699188806025751, 2, 3), (11840699188806025751, 2, 4)]\n",
            "matches: [(11840699188806025751, 1, 2)]\n",
            "matches: [(11840699188806025751, 1, 2)]\n",
            "matches: [(11840699188806025751, 3, 4), (11840699188806025751, 3, 5)]\n",
            "matches: [(11840699188806025751, 1, 2)]\n",
            "matches: [(11840699188806025751, 12, 13)]\n",
            "matches: [(11840699188806025751, 9, 10)]\n",
            "matches: [(11840699188806025751, 6, 7)]\n",
            "matches: [(11840699188806025751, 5, 6)]\n",
            "matches: [(11840699188806025751, 1, 2)]\n",
            "matches: [(11840699188806025751, 8, 9)]\n",
            "matches: [(11840699188806025751, 2, 3)]\n"
          ],
          "name": "stdout"
        },
        {
          "output_type": "stream",
          "text": [
            " 69%|██████▉   | 2990/4318 [00:34<00:14, 89.32it/s]"
          ],
          "name": "stderr"
        },
        {
          "output_type": "stream",
          "text": [
            "matches: [(11840699188806025751, 3, 4)]\n",
            "matches: [(11840699188806025751, 7, 8)]\n",
            "matches: [(11840699188806025751, 3, 4)]\n",
            "matches: [(11840699188806025751, 4, 5)]\n",
            "matches: [(11840699188806025751, 1, 2)]\n",
            "matches: [(11840699188806025751, 2, 3)]\n",
            "matches: [(11840699188806025751, 4, 5)]\n",
            "matches: [(11840699188806025751, 1, 2)]\n",
            "matches: [(11840699188806025751, 1, 2)]\n",
            "matches: [(11840699188806025751, 2, 3)]\n",
            "matches: [(11840699188806025751, 1, 2)]\n",
            "matches: [(11840699188806025751, 8, 9), (11840699188806025751, 8, 10)]\n",
            "matches: [(11840699188806025751, 4, 5)]\n",
            "matches: [(11840699188806025751, 8, 9)]\n",
            "matches: [(11840699188806025751, 6, 7)]\n",
            "matches: [(11840699188806025751, 4, 5), (11840699188806025751, 4, 6)]\n",
            "matches: [(11840699188806025751, 3, 4)]\n",
            "matches: [(11840699188806025751, 4, 5)]\n",
            "matches: [(11840699188806025751, 4, 5), (11840699188806025751, 4, 6), (11840699188806025751, 4, 7)]\n"
          ],
          "name": "stdout"
        },
        {
          "output_type": "stream",
          "text": [
            " 70%|██████▉   | 3010/4318 [00:34<00:14, 91.06it/s]"
          ],
          "name": "stderr"
        },
        {
          "output_type": "stream",
          "text": [
            "matches: [(11840699188806025751, 3, 4)]\n",
            "matches: [(11840699188806025751, 6, 7)]\n",
            "matches: [(11840699188806025751, 5, 6), (11840699188806025751, 5, 7)]\n",
            "matches: [(11840699188806025751, 5, 6)]\n",
            "matches: [(11840699188806025751, 2, 3), (11840699188806025751, 2, 4)]\n",
            "matches: [(11840699188806025751, 7, 8), (11840699188806025751, 7, 9)]\n",
            "matches: [(11840699188806025751, 4, 5)]\n",
            "matches: [(11840699188806025751, 3, 4)]\n",
            "matches: [(11840699188806025751, 1, 2)]\n",
            "matches: [(11840699188806025751, 8, 9)]\n",
            "matches: [(11840699188806025751, 5, 6)]\n",
            "matches: [(11840699188806025751, 4, 5), (11840699188806025751, 4, 6)]\n",
            "matches: [(11840699188806025751, 2, 3)]\n",
            "matches: [(11840699188806025751, 3, 4), (11840699188806025751, 3, 5)]\n",
            "matches: [(11840699188806025751, 1, 2)]\n",
            "matches: [(11840699188806025751, 1, 2)]\n",
            "matches: [(11840699188806025751, 4, 5)]\n",
            "matches: [(11840699188806025751, 1, 2)]\n",
            "matches: [(11840699188806025751, 2, 3)]\n"
          ],
          "name": "stdout"
        },
        {
          "output_type": "stream",
          "text": [
            " 70%|███████   | 3030/4318 [00:35<00:14, 91.88it/s]"
          ],
          "name": "stderr"
        },
        {
          "output_type": "stream",
          "text": [
            "matches: [(11840699188806025751, 3, 4)]\n",
            "matches: [(11840699188806025751, 3, 4)]\n",
            "matches: [(11840699188806025751, 3, 4)]\n",
            "matches: [(11840699188806025751, 5, 6), (11840699188806025751, 5, 7)]\n",
            "matches: [(11840699188806025751, 5, 6)]\n",
            "matches: [(11840699188806025751, 7, 8)]\n",
            "matches: [(11840699188806025751, 2, 3)]\n",
            "matches: [(11840699188806025751, 1, 2)]\n",
            "matches: [(11840699188806025751, 2, 3)]\n",
            "matches: [(11840699188806025751, 4, 5), (11840699188806025751, 4, 6)]\n",
            "matches: [(11840699188806025751, 1, 2), (11840699188806025751, 1, 3)]\n",
            "matches: [(11840699188806025751, 12, 13)]\n",
            "matches: [(11840699188806025751, 2, 3)]\n",
            "matches: [(11840699188806025751, 8, 9)]\n",
            "matches: [(11840699188806025751, 6, 7)]\n",
            "matches: [(11840699188806025751, 3, 4)]\n",
            "matches: [(11840699188806025751, 3, 4), (11840699188806025751, 3, 5)]\n",
            "matches: [(11840699188806025751, 9, 10)]\n",
            "matches: [(11840699188806025751, 7, 8)]\n"
          ],
          "name": "stdout"
        },
        {
          "output_type": "stream",
          "text": [
            " 71%|███████   | 3050/4318 [00:35<00:14, 90.28it/s]"
          ],
          "name": "stderr"
        },
        {
          "output_type": "stream",
          "text": [
            "matches: [(11840699188806025751, 3, 4)]\n",
            "matches: [(11840699188806025751, 5, 6), (11840699188806025751, 5, 7)]\n",
            "matches: [(11840699188806025751, 3, 4), (11840699188806025751, 3, 5)]\n",
            "matches: [(11840699188806025751, 2, 3)]\n",
            "matches: [(11840699188806025751, 3, 4), (11840699188806025751, 3, 5)]\n",
            "matches: [(11840699188806025751, 6, 7)]\n",
            "matches: [(11840699188806025751, 5, 6)]\n",
            "matches: [(11840699188806025751, 6, 7)]\n",
            "matches: [(11840699188806025751, 3, 4), (11840699188806025751, 3, 5)]\n",
            "matches: [(11840699188806025751, 10, 11)]\n",
            "matches: [(11840699188806025751, 3, 4), (11840699188806025751, 3, 5)]\n",
            "matches: [(11840699188806025751, 2, 3)]\n",
            "matches: [(11840699188806025751, 7, 8)]\n",
            "matches: [(11840699188806025751, 3, 4)]\n",
            "matches: [(11840699188806025751, 1, 2)]\n",
            "matches: [(11840699188806025751, 8, 9)]\n",
            "matches: [(11840699188806025751, 7, 8)]\n",
            "matches: [(11840699188806025751, 1, 2)]\n",
            "matches: [(11840699188806025751, 1, 2)]\n"
          ],
          "name": "stdout"
        },
        {
          "output_type": "stream",
          "text": [
            " 71%|███████   | 3070/4318 [00:35<00:13, 92.21it/s]"
          ],
          "name": "stderr"
        },
        {
          "output_type": "stream",
          "text": [
            "matches: [(11840699188806025751, 5, 6), (11840699188806025751, 5, 7)]\n",
            "matches: [(11840699188806025751, 9, 10)]\n",
            "matches: [(11840699188806025751, 14, 15)]\n",
            "matches: [(11840699188806025751, 5, 6)]\n",
            "matches: [(11840699188806025751, 1, 2)]\n",
            "matches: [(11840699188806025751, 1, 2)]\n",
            "matches: [(11840699188806025751, 2, 3)]\n",
            "matches: [(11840699188806025751, 7, 8)]\n",
            "matches: [(11840699188806025751, 4, 5)]\n",
            "matches: [(11840699188806025751, 2, 3)]\n",
            "matches: [(11840699188806025751, 1, 2)]\n",
            "matches: [(11840699188806025751, 2, 3)]\n",
            "matches: [(11840699188806025751, 1, 2)]\n",
            "matches: [(11840699188806025751, 2, 3)]\n",
            "matches: [(11840699188806025751, 2, 3)]\n",
            "matches: [(11840699188806025751, 4, 5), (11840699188806025751, 4, 6), (11840699188806025751, 4, 7)]\n",
            "matches: [(11840699188806025751, 0, 1)]\n",
            "matches: [(11840699188806025751, 2, 3), (11840699188806025751, 2, 4)]\n",
            "matches: [(11840699188806025751, 10, 11)]\n",
            "matches: [(11840699188806025751, 1, 2)]\n"
          ],
          "name": "stdout"
        },
        {
          "output_type": "stream",
          "text": [
            " 72%|███████▏  | 3090/4318 [00:35<00:13, 92.02it/s]"
          ],
          "name": "stderr"
        },
        {
          "output_type": "stream",
          "text": [
            "matches: [(11840699188806025751, 1, 2)]\n",
            "matches: [(11840699188806025751, 5, 6)]\n",
            "matches: [(11840699188806025751, 2, 3)]\n",
            "matches: [(11840699188806025751, 5, 6)]\n",
            "matches: [(11840699188806025751, 2, 3)]\n",
            "matches: [(11840699188806025751, 11, 12)]\n",
            "matches: [(11840699188806025751, 3, 4)]\n",
            "matches: [(11840699188806025751, 5, 6)]\n",
            "matches: [(11840699188806025751, 1, 2)]\n",
            "matches: [(11840699188806025751, 4, 5)]\n",
            "matches: [(11840699188806025751, 2, 3)]\n",
            "matches: [(11840699188806025751, 4, 5), (11840699188806025751, 4, 6), (11840699188806025751, 4, 7)]\n",
            "matches: [(11840699188806025751, 7, 8), (11840699188806025751, 7, 9)]\n",
            "matches: [(11840699188806025751, 7, 8)]\n",
            "matches: [(11840699188806025751, 3, 4)]\n",
            "matches: [(11840699188806025751, 5, 6)]\n",
            "matches: [(11840699188806025751, 4, 5), (11840699188806025751, 4, 6), (11840699188806025751, 4, 7)]\n",
            "matches: [(11840699188806025751, 3, 4)]\n",
            "matches: [(11840699188806025751, 13, 14)]\n"
          ],
          "name": "stdout"
        },
        {
          "output_type": "stream",
          "text": [
            "\r 72%|███████▏  | 3100/4318 [00:35<00:13, 91.23it/s]"
          ],
          "name": "stderr"
        },
        {
          "output_type": "stream",
          "text": [
            "matches: [(11840699188806025751, 3, 4)]\n",
            "matches: [(11840699188806025751, 2, 3)]\n",
            "matches: [(11840699188806025751, 3, 4)]\n",
            "matches: [(11840699188806025751, 4, 5)]\n",
            "matches: [(11840699188806025751, 2, 3)]\n",
            "matches: [(11840699188806025751, 4, 5), (11840699188806025751, 4, 6)]\n",
            "matches: [(11840699188806025751, 2, 3)]\n",
            "matches: [(11840699188806025751, 2, 3)]\n",
            "matches: [(11840699188806025751, 2, 3), (11840699188806025751, 2, 4)]\n",
            "matches: [(11840699188806025751, 3, 4)]\n",
            "matches: [(11840699188806025751, 3, 4), (11840699188806025751, 3, 5)]\n",
            "matches: [(11840699188806025751, 2, 3)]\n",
            "matches: [(11840699188806025751, 2, 3)]\n",
            "matches: [(11840699188806025751, 8, 9)]\n",
            "matches: [(11840699188806025751, 2, 3)]\n",
            "matches: [(11840699188806025751, 3, 4)]\n",
            "matches: [(11840699188806025751, 4, 5), (11840699188806025751, 4, 6)]\n",
            "matches: [(11840699188806025751, 3, 4), (11840699188806025751, 3, 5)]\n",
            "matches: [(11840699188806025751, 3, 4), (11840699188806025751, 3, 5)]\n"
          ],
          "name": "stdout"
        },
        {
          "output_type": "stream",
          "text": [
            " 72%|███████▏  | 3120/4318 [00:36<00:13, 91.47it/s]"
          ],
          "name": "stderr"
        },
        {
          "output_type": "stream",
          "text": [
            "matches: [(11840699188806025751, 1, 2), (11840699188806025751, 7, 8), (11840699188806025751, 7, 9)]\n",
            "matches: [(11840699188806025751, 2, 3)]\n",
            "matches: [(11840699188806025751, 2, 3)]\n",
            "matches: [(11840699188806025751, 3, 4)]\n",
            "matches: [(11840699188806025751, 6, 7)]\n",
            "matches: [(11840699188806025751, 1, 2)]\n",
            "matches: [(11840699188806025751, 1, 2), (11840699188806025751, 1, 3)]\n",
            "matches: [(11840699188806025751, 2, 3), (11840699188806025751, 2, 4)]\n",
            "matches: [(11840699188806025751, 4, 5), (11840699188806025751, 4, 6)]\n",
            "matches: [(11840699188806025751, 2, 3)]\n",
            "matches: [(11840699188806025751, 1, 2)]\n",
            "matches: [(11840699188806025751, 7, 8)]\n",
            "matches: [(11840699188806025751, 1, 2)]\n",
            "matches: [(11840699188806025751, 3, 4)]\n",
            "matches: [(11840699188806025751, 1, 2), (11840699188806025751, 1, 3)]\n",
            "matches: [(11840699188806025751, 1, 2)]\n",
            "matches: [(11840699188806025751, 2, 3)]\n",
            "matches: [(11840699188806025751, 1, 2), (11840699188806025751, 1, 3)]\n",
            "matches: [(11840699188806025751, 1, 2)]\n"
          ],
          "name": "stdout"
        },
        {
          "output_type": "stream",
          "text": [
            " 73%|███████▎  | 3139/4318 [00:36<00:13, 89.22it/s]"
          ],
          "name": "stderr"
        },
        {
          "output_type": "stream",
          "text": [
            "matches: [(11840699188806025751, 4, 5)]\n",
            "matches: [(11840699188806025751, 2, 3), (11840699188806025751, 2, 4)]\n",
            "matches: [(11840699188806025751, 6, 7)]\n",
            "matches: [(11840699188806025751, 2, 3)]\n",
            "matches: [(11840699188806025751, 5, 6)]\n",
            "matches: [(11840699188806025751, 3, 4)]\n",
            "matches: [(11840699188806025751, 1, 2)]\n",
            "matches: [(11840699188806025751, 1, 2), (11840699188806025751, 1, 3)]\n",
            "matches: [(11840699188806025751, 6, 7)]\n",
            "matches: [(11840699188806025751, 1, 2)]\n",
            "matches: [(11840699188806025751, 2, 3), (11840699188806025751, 2, 4)]\n",
            "matches: [(11840699188806025751, 2, 3), (11840699188806025751, 2, 4)]\n",
            "matches: [(11840699188806025751, 0, 1)]\n",
            "matches: [(11840699188806025751, 1, 2), (11840699188806025751, 7, 8), (11840699188806025751, 7, 9)]\n",
            "matches: [(11840699188806025751, 2, 3)]\n",
            "matches: [(11840699188806025751, 2, 3)]\n",
            "matches: [(11840699188806025751, 3, 4)]\n",
            "matches: [(11840699188806025751, 6, 7)]\n"
          ],
          "name": "stdout"
        },
        {
          "output_type": "stream",
          "text": [
            " 73%|███████▎  | 3157/4318 [00:36<00:13, 88.00it/s]"
          ],
          "name": "stderr"
        },
        {
          "output_type": "stream",
          "text": [
            "matches: [(11840699188806025751, 1, 2)]\n",
            "matches: [(11840699188806025751, 1, 2), (11840699188806025751, 1, 3)]\n",
            "matches: [(11840699188806025751, 2, 3), (11840699188806025751, 2, 4)]\n",
            "matches: [(11840699188806025751, 4, 5), (11840699188806025751, 4, 6)]\n",
            "matches: [(11840699188806025751, 2, 3)]\n",
            "matches: [(11840699188806025751, 1, 2)]\n",
            "matches: [(11840699188806025751, 7, 8)]\n",
            "matches: [(11840699188806025751, 1, 2)]\n",
            "matches: [(11840699188806025751, 3, 4)]\n",
            "matches: [(11840699188806025751, 1, 2), (11840699188806025751, 1, 3)]\n",
            "matches: [(11840699188806025751, 1, 2)]\n",
            "matches: [(11840699188806025751, 2, 3)]\n",
            "matches: [(11840699188806025751, 1, 2), (11840699188806025751, 1, 3)]\n",
            "matches: [(11840699188806025751, 1, 2)]\n",
            "matches: [(11840699188806025751, 4, 5)]\n",
            "matches: [(11840699188806025751, 2, 3), (11840699188806025751, 2, 4)]\n",
            "matches: [(11840699188806025751, 6, 7)]\n",
            "matches: [(11840699188806025751, 2, 3)]\n",
            "matches: [(11840699188806025751, 5, 6)]\n"
          ],
          "name": "stdout"
        },
        {
          "output_type": "stream",
          "text": [
            " 74%|███████▎  | 3176/4318 [00:36<00:12, 89.03it/s]"
          ],
          "name": "stderr"
        },
        {
          "output_type": "stream",
          "text": [
            "matches: [(11840699188806025751, 3, 4)]\n",
            "matches: [(11840699188806025751, 1, 2)]\n",
            "matches: [(11840699188806025751, 1, 2), (11840699188806025751, 1, 3)]\n",
            "matches: [(11840699188806025751, 6, 7)]\n",
            "matches: [(11840699188806025751, 1, 2)]\n",
            "matches: [(11840699188806025751, 2, 3), (11840699188806025751, 2, 4)]\n",
            "matches: [(11840699188806025751, 2, 3), (11840699188806025751, 2, 4)]\n",
            "matches: [(11840699188806025751, 0, 1)]\n",
            "matches: [(11840699188806025751, 1, 2)]\n",
            "matches: [(11840699188806025751, 1, 2)]\n",
            "matches: [(11840699188806025751, 8, 9), (11840699188806025751, 8, 10)]\n",
            "matches: [(11840699188806025751, 3, 4)]\n",
            "matches: [(11840699188806025751, 2, 3)]\n",
            "matches: [(11840699188806025751, 5, 6)]\n",
            "matches: [(11840699188806025751, 1, 2)]\n",
            "matches: [(11840699188806025751, 8, 9)]\n",
            "matches: [(11840699188806025751, 4, 5)]\n",
            "matches: [(11840699188806025751, 2, 3)]\n",
            "matches: [(11840699188806025751, 2, 3)]\n"
          ],
          "name": "stdout"
        },
        {
          "output_type": "stream",
          "text": [
            " 74%|███████▍  | 3195/4318 [00:37<00:12, 89.71it/s]"
          ],
          "name": "stderr"
        },
        {
          "output_type": "stream",
          "text": [
            "matches: [(11840699188806025751, 10, 11)]\n",
            "matches: [(11840699188806025751, 4, 5)]\n",
            "matches: [(11840699188806025751, 3, 4)]\n",
            "matches: [(11840699188806025751, 8, 9)]\n",
            "matches: [(11840699188806025751, 2, 3)]\n",
            "matches: [(11840699188806025751, 9, 10)]\n",
            "matches: [(11840699188806025751, 2, 3), (11840699188806025751, 2, 4)]\n",
            "matches: [(11840699188806025751, 1, 2), (11840699188806025751, 1, 3)]\n",
            "matches: [(11840699188806025751, 2, 3)]\n",
            "matches: [(11840699188806025751, 1, 2)]\n",
            "matches: [(11840699188806025751, 5, 6)]\n",
            "matches: [(11840699188806025751, 4, 5)]\n",
            "matches: [(11840699188806025751, 1, 2)]\n",
            "matches: [(11840699188806025751, 3, 4)]\n",
            "matches: [(11840699188806025751, 4, 5)]\n",
            "matches: [(11840699188806025751, 10, 11)]\n",
            "matches: [(11840699188806025751, 6, 7)]\n",
            "matches: [(11840699188806025751, 6, 7)]\n",
            "matches: [(11840699188806025751, 3, 4)]\n"
          ],
          "name": "stdout"
        },
        {
          "output_type": "stream",
          "text": [
            " 74%|███████▍  | 3213/4318 [00:37<00:12, 87.72it/s]"
          ],
          "name": "stderr"
        },
        {
          "output_type": "stream",
          "text": [
            "matches: [(11840699188806025751, 3, 4)]\n",
            "matches: [(11840699188806025751, 4, 5), (11840699188806025751, 4, 6), (11840699188806025751, 4, 7)]\n",
            "matches: [(11840699188806025751, 9, 10), (11840699188806025751, 9, 11)]\n",
            "matches: [(11840699188806025751, 3, 4)]\n",
            "matches: [(11840699188806025751, 3, 4)]\n",
            "matches: [(11840699188806025751, 3, 4)]\n",
            "matches: [(11840699188806025751, 2, 3), (11840699188806025751, 2, 4)]\n",
            "matches: [(11840699188806025751, 4, 5), (11840699188806025751, 4, 6)]\n",
            "matches: [(11840699188806025751, 7, 8)]\n",
            "matches: [(11840699188806025751, 4, 5), (11840699188806025751, 4, 6)]\n",
            "matches: [(11840699188806025751, 2, 3), (11840699188806025751, 2, 4)]\n",
            "matches: [(11840699188806025751, 5, 6)]\n",
            "matches: [(11840699188806025751, 1, 2), (11840699188806025751, 1, 3), (11840699188806025751, 16, 17)]\n",
            "matches: [(11840699188806025751, 2, 3), (11840699188806025751, 2, 4)]\n",
            "matches: [(11840699188806025751, 4, 5), (11840699188806025751, 4, 6)]\n",
            "matches: [(11840699188806025751, 2, 3)]\n",
            "matches: [(11840699188806025751, 2, 3)]\n",
            "matches: [(11840699188806025751, 2, 3)]\n"
          ],
          "name": "stdout"
        },
        {
          "output_type": "stream",
          "text": [
            " 75%|███████▍  | 3232/4318 [00:37<00:12, 88.27it/s]"
          ],
          "name": "stderr"
        },
        {
          "output_type": "stream",
          "text": [
            "matches: [(11840699188806025751, 1, 2)]\n",
            "matches: [(11840699188806025751, 4, 5), (11840699188806025751, 4, 6)]\n",
            "matches: [(11840699188806025751, 2, 3)]\n",
            "matches: [(11840699188806025751, 2, 3)]\n",
            "matches: [(11840699188806025751, 2, 3)]\n",
            "matches: [(11840699188806025751, 3, 4)]\n",
            "matches: [(11840699188806025751, 5, 6), (11840699188806025751, 5, 7)]\n",
            "matches: [(11840699188806025751, 5, 6), (11840699188806025751, 5, 7)]\n",
            "matches: [(11840699188806025751, 5, 6), (11840699188806025751, 5, 7)]\n",
            "matches: [(11840699188806025751, 3, 4), (11840699188806025751, 3, 5)]\n",
            "matches: [(11840699188806025751, 3, 4)]\n",
            "matches: [(11840699188806025751, 8, 9)]\n",
            "matches: [(11840699188806025751, 2, 3)]\n",
            "matches: [(11840699188806025751, 11, 12), (11840699188806025751, 11, 13), (11840699188806025751, 11, 14)]\n",
            "matches: [(11840699188806025751, 3, 4)]\n",
            "matches: [(11840699188806025751, 3, 4), (11840699188806025751, 3, 5)]\n",
            "matches: [(11840699188806025751, 2, 3)]\n",
            "matches: [(11840699188806025751, 7, 8), (11840699188806025751, 7, 9)]\n",
            "matches: [(11840699188806025751, 3, 4), (11840699188806025751, 3, 5)]\n"
          ],
          "name": "stdout"
        },
        {
          "output_type": "stream",
          "text": [
            " 75%|███████▌  | 3251/4318 [00:37<00:12, 88.71it/s]"
          ],
          "name": "stderr"
        },
        {
          "output_type": "stream",
          "text": [
            "matches: [(11840699188806025751, 6, 7)]\n",
            "matches: [(11840699188806025751, 5, 6)]\n",
            "matches: [(11840699188806025751, 2, 3), (11840699188806025751, 2, 4)]\n",
            "matches: [(11840699188806025751, 1, 2)]\n",
            "matches: [(11840699188806025751, 2, 3)]\n",
            "matches: [(11840699188806025751, 2, 3), (11840699188806025751, 2, 4)]\n",
            "matches: [(11840699188806025751, 2, 3)]\n",
            "matches: [(11840699188806025751, 3, 4), (11840699188806025751, 3, 5)]\n",
            "matches: [(11840699188806025751, 6, 7)]\n",
            "matches: [(11840699188806025751, 7, 8)]\n",
            "matches: [(11840699188806025751, 4, 5)]\n",
            "matches: [(11840699188806025751, 4, 5), (11840699188806025751, 4, 6)]\n",
            "matches: [(11840699188806025751, 2, 3), (11840699188806025751, 2, 4)]\n",
            "matches: [(11840699188806025751, 4, 5)]\n",
            "matches: [(11840699188806025751, 2, 3), (11840699188806025751, 2, 4), (11840699188806025751, 2, 5)]\n",
            "matches: [(11840699188806025751, 4, 5), (11840699188806025751, 4, 6)]\n",
            "matches: [(11840699188806025751, 7, 8)]\n",
            "matches: [(11840699188806025751, 1, 2), (11840699188806025751, 1, 3)]\n",
            "matches: [(11840699188806025751, 1, 2)]\n"
          ],
          "name": "stdout"
        },
        {
          "output_type": "stream",
          "text": [
            " 76%|███████▌  | 3271/4318 [00:37<00:11, 91.41it/s]"
          ],
          "name": "stderr"
        },
        {
          "output_type": "stream",
          "text": [
            "matches: [(11840699188806025751, 1, 2)]\n",
            "matches: [(11840699188806025751, 8, 9), (11840699188806025751, 8, 10)]\n",
            "matches: [(11840699188806025751, 1, 2)]\n",
            "matches: [(11840699188806025751, 2, 3)]\n",
            "matches: [(11840699188806025751, 2, 3), (11840699188806025751, 2, 4)]\n",
            "matches: [(11840699188806025751, 3, 4)]\n",
            "matches: [(11840699188806025751, 2, 3)]\n",
            "matches: [(11840699188806025751, 8, 9)]\n",
            "matches: [(11840699188806025751, 1, 2)]\n",
            "matches: [(11840699188806025751, 3, 4), (11840699188806025751, 3, 5)]\n",
            "matches: [(11840699188806025751, 7, 8), (11840699188806025751, 7, 9)]\n",
            "matches: [(11840699188806025751, 6, 7)]\n",
            "matches: [(11840699188806025751, 3, 4), (11840699188806025751, 3, 5), (11840699188806025751, 3, 6)]\n",
            "matches: [(11840699188806025751, 15, 16)]\n",
            "matches: [(11840699188806025751, 4, 5), (11840699188806025751, 4, 6)]\n",
            "matches: [(11840699188806025751, 15, 16), (11840699188806025751, 15, 17)]\n",
            "matches: [(11840699188806025751, 3, 4), (11840699188806025751, 3, 5)]\n",
            "matches: [(11840699188806025751, 5, 6)]\n",
            "matches: [(11840699188806025751, 11, 12), (11840699188806025751, 11, 13)]\n"
          ],
          "name": "stdout"
        },
        {
          "output_type": "stream",
          "text": [
            " 76%|███████▌  | 3291/4318 [00:38<00:11, 91.18it/s]"
          ],
          "name": "stderr"
        },
        {
          "output_type": "stream",
          "text": [
            "matches: [(11840699188806025751, 18, 19), (11840699188806025751, 18, 20)]\n",
            "matches: [(11840699188806025751, 1, 2)]\n",
            "matches: [(11840699188806025751, 0, 1)]\n",
            "matches: [(11840699188806025751, 1, 2)]\n",
            "matches: [(11840699188806025751, 3, 4), (11840699188806025751, 3, 5)]\n",
            "matches: [(11840699188806025751, 0, 1), (11840699188806025751, 5, 6), (11840699188806025751, 5, 7)]\n",
            "matches: [(11840699188806025751, 2, 3), (11840699188806025751, 2, 4), (11840699188806025751, 2, 5)]\n",
            "matches: [(11840699188806025751, 1, 2)]\n",
            "matches: [(11840699188806025751, 2, 3)]\n",
            "matches: [(11840699188806025751, 3, 4)]\n",
            "matches: [(11840699188806025751, 3, 4), (11840699188806025751, 3, 5)]\n",
            "matches: [(11840699188806025751, 3, 4)]\n",
            "matches: [(11840699188806025751, 1, 2)]\n",
            "matches: [(11840699188806025751, 2, 3)]\n",
            "matches: [(11840699188806025751, 3, 4), (11840699188806025751, 3, 5)]\n",
            "matches: [(11840699188806025751, 11, 12), (11840699188806025751, 11, 13)]\n",
            "matches: [(11840699188806025751, 3, 4)]\n",
            "matches: [(11840699188806025751, 3, 4), (11840699188806025751, 3, 5)]\n",
            "matches: [(11840699188806025751, 7, 8)]\n",
            "matches: [(11840699188806025751, 3, 4), (11840699188806025751, 3, 5)]\n"
          ],
          "name": "stdout"
        },
        {
          "output_type": "stream",
          "text": [
            " 77%|███████▋  | 3311/4318 [00:38<00:11, 87.02it/s]"
          ],
          "name": "stderr"
        },
        {
          "output_type": "stream",
          "text": [
            "matches: [(11840699188806025751, 3, 4), (11840699188806025751, 3, 5)]\n",
            "matches: [(11840699188806025751, 2, 3)]\n",
            "matches: [(11840699188806025751, 3, 4), (11840699188806025751, 3, 5)]\n",
            "matches: [(11840699188806025751, 2, 3), (11840699188806025751, 2, 4)]\n",
            "matches: [(11840699188806025751, 4, 5), (11840699188806025751, 4, 6)]\n",
            "matches: [(11840699188806025751, 1, 2)]\n",
            "matches: [(11840699188806025751, 4, 5)]\n",
            "matches: [(11840699188806025751, 2, 3)]\n",
            "matches: [(11840699188806025751, 3, 4), (11840699188806025751, 3, 5)]\n",
            "matches: [(11840699188806025751, 9, 10)]\n",
            "matches: [(11840699188806025751, 1, 2)]\n",
            "matches: [(11840699188806025751, 7, 8)]\n",
            "matches: [(11840699188806025751, 1, 2), (11840699188806025751, 1, 3)]\n",
            "matches: [(11840699188806025751, 2, 3)]\n",
            "matches: [(11840699188806025751, 3, 4), (11840699188806025751, 3, 5)]\n",
            "matches: [(11840699188806025751, 4, 5), (11840699188806025751, 4, 6)]\n",
            "matches: [(11840699188806025751, 1, 2)]\n",
            "matches: [(11840699188806025751, 3, 4)]\n"
          ],
          "name": "stdout"
        },
        {
          "output_type": "stream",
          "text": [
            " 77%|███████▋  | 3330/4318 [00:38<00:11, 86.96it/s]"
          ],
          "name": "stderr"
        },
        {
          "output_type": "stream",
          "text": [
            "matches: [(11840699188806025751, 2, 3)]\n",
            "matches: [(11840699188806025751, 2, 3), (11840699188806025751, 2, 4)]\n",
            "matches: [(11840699188806025751, 3, 4), (11840699188806025751, 3, 5)]\n",
            "matches: [(11840699188806025751, 2, 3), (11840699188806025751, 2, 4), (11840699188806025751, 2, 5)]\n",
            "matches: [(11840699188806025751, 2, 3), (11840699188806025751, 2, 4)]\n",
            "matches: [(11840699188806025751, 6, 7)]\n",
            "matches: [(11840699188806025751, 7, 8)]\n",
            "matches: [(11840699188806025751, 4, 5)]\n",
            "matches: [(11840699188806025751, 4, 5)]\n",
            "matches: [(11840699188806025751, 3, 4)]\n",
            "matches: [(11840699188806025751, 4, 5)]\n",
            "matches: [(11840699188806025751, 4, 5)]\n",
            "matches: [(11840699188806025751, 3, 4)]\n",
            "matches: [(11840699188806025751, 2, 3), (11840699188806025751, 2, 4)]\n",
            "matches: [(11840699188806025751, 3, 4), (11840699188806025751, 3, 5)]\n",
            "matches: [(11840699188806025751, 7, 8)]\n",
            "matches: [(11840699188806025751, 5, 6)]\n",
            "matches: [(11840699188806025751, 4, 5)]\n"
          ],
          "name": "stdout"
        },
        {
          "output_type": "stream",
          "text": [
            " 78%|███████▊  | 3348/4318 [00:38<00:11, 87.76it/s]"
          ],
          "name": "stderr"
        },
        {
          "output_type": "stream",
          "text": [
            "matches: [(11840699188806025751, 2, 3), (11840699188806025751, 2, 4)]\n",
            "matches: [(11840699188806025751, 3, 4), (11840699188806025751, 3, 5)]\n",
            "matches: [(11840699188806025751, 5, 6)]\n",
            "matches: [(11840699188806025751, 2, 3), (11840699188806025751, 2, 4)]\n",
            "matches: [(11840699188806025751, 17, 18), (11840699188806025751, 17, 19)]\n",
            "matches: [(11840699188806025751, 8, 9)]\n",
            "matches: [(11840699188806025751, 10, 11), (11840699188806025751, 10, 12)]\n",
            "matches: [(11840699188806025751, 4, 5)]\n",
            "matches: [(11840699188806025751, 3, 4), (11840699188806025751, 3, 5)]\n",
            "matches: [(11840699188806025751, 4, 5)]\n",
            "matches: [(11840699188806025751, 7, 8)]\n",
            "matches: [(11840699188806025751, 9, 10), (11840699188806025751, 9, 11)]\n",
            "matches: [(11840699188806025751, 8, 9)]\n",
            "matches: [(11840699188806025751, 9, 10)]\n",
            "matches: [(11840699188806025751, 5, 6)]\n",
            "matches: [(11840699188806025751, 4, 5), (11840699188806025751, 4, 6)]\n",
            "matches: [(11840699188806025751, 9, 10)]\n",
            "matches: [(11840699188806025751, 5, 6)]\n",
            "matches: [(11840699188806025751, 6, 7)]\n"
          ],
          "name": "stdout"
        },
        {
          "output_type": "stream",
          "text": [
            " 78%|███████▊  | 3367/4318 [00:38<00:10, 89.40it/s]"
          ],
          "name": "stderr"
        },
        {
          "output_type": "stream",
          "text": [
            "matches: [(11840699188806025751, 7, 8), (11840699188806025751, 7, 9), (11840699188806025751, 7, 10)]\n",
            "matches: [(11840699188806025751, 4, 5), (11840699188806025751, 4, 6)]\n",
            "matches: [(11840699188806025751, 5, 6), (11840699188806025751, 5, 7)]\n",
            "matches: [(11840699188806025751, 4, 5), (11840699188806025751, 4, 6)]\n",
            "matches: [(11840699188806025751, 7, 8), (11840699188806025751, 7, 9)]\n",
            "matches: [(11840699188806025751, 2, 3)]\n",
            "matches: [(11840699188806025751, 3, 4)]\n",
            "matches: [(11840699188806025751, 6, 7), (11840699188806025751, 6, 8)]\n",
            "matches: [(11840699188806025751, 2, 3)]\n",
            "matches: [(11840699188806025751, 2, 3), (11840699188806025751, 2, 4)]\n",
            "matches: [(11840699188806025751, 8, 9)]\n",
            "matches: [(11840699188806025751, 3, 4)]\n",
            "matches: [(11840699188806025751, 5, 6), (11840699188806025751, 9, 10)]\n",
            "matches: [(11840699188806025751, 5, 6), (11840699188806025751, 5, 7)]\n",
            "matches: [(11840699188806025751, 9, 10)]\n",
            "matches: [(11840699188806025751, 7, 8)]\n",
            "matches: [(11840699188806025751, 1, 2)]\n",
            "matches: [(11840699188806025751, 1, 2)]\n",
            "matches: [(11840699188806025751, 1, 2)]\n"
          ],
          "name": "stdout"
        },
        {
          "output_type": "stream",
          "text": [
            " 78%|███████▊  | 3385/4318 [00:39<00:10, 87.82it/s]"
          ],
          "name": "stderr"
        },
        {
          "output_type": "stream",
          "text": [
            "matches: [(11840699188806025751, 4, 5)]\n",
            "matches: [(11840699188806025751, 3, 4), (11840699188806025751, 3, 5)]\n",
            "matches: [(11840699188806025751, 4, 5)]\n",
            "matches: [(11840699188806025751, 7, 8)]\n",
            "matches: [(11840699188806025751, 9, 10), (11840699188806025751, 9, 11)]\n",
            "matches: [(11840699188806025751, 8, 9)]\n",
            "matches: [(11840699188806025751, 9, 10)]\n",
            "matches: [(11840699188806025751, 5, 6)]\n",
            "matches: [(11840699188806025751, 4, 5), (11840699188806025751, 4, 6)]\n",
            "matches: [(11840699188806025751, 9, 10)]\n",
            "matches: [(11840699188806025751, 5, 6)]\n",
            "matches: [(11840699188806025751, 6, 7)]\n",
            "matches: [(11840699188806025751, 7, 8), (11840699188806025751, 7, 9), (11840699188806025751, 7, 10)]\n",
            "matches: [(11840699188806025751, 4, 5), (11840699188806025751, 4, 6)]\n",
            "matches: [(11840699188806025751, 5, 6), (11840699188806025751, 5, 7)]\n",
            "matches: [(11840699188806025751, 4, 5), (11840699188806025751, 4, 6)]\n",
            "matches: [(11840699188806025751, 7, 8), (11840699188806025751, 7, 9)]\n",
            "matches: [(11840699188806025751, 2, 3)]\n"
          ],
          "name": "stdout"
        },
        {
          "output_type": "stream",
          "text": [
            " 79%|███████▉  | 3404/4318 [00:39<00:10, 88.44it/s]"
          ],
          "name": "stderr"
        },
        {
          "output_type": "stream",
          "text": [
            "matches: [(11840699188806025751, 3, 4)]\n",
            "matches: [(11840699188806025751, 6, 7), (11840699188806025751, 6, 8)]\n",
            "matches: [(11840699188806025751, 2, 3)]\n",
            "matches: [(11840699188806025751, 2, 3), (11840699188806025751, 2, 4)]\n",
            "matches: [(11840699188806025751, 8, 9)]\n",
            "matches: [(11840699188806025751, 3, 4)]\n",
            "matches: [(11840699188806025751, 5, 6), (11840699188806025751, 9, 10)]\n",
            "matches: [(11840699188806025751, 5, 6), (11840699188806025751, 5, 7)]\n",
            "matches: [(11840699188806025751, 9, 10)]\n",
            "matches: [(11840699188806025751, 7, 8)]\n",
            "matches: [(11840699188806025751, 1, 2)]\n",
            "matches: [(11840699188806025751, 1, 2)]\n",
            "matches: [(11840699188806025751, 1, 2)]\n",
            "matches: [(11840699188806025751, 2, 3)]\n",
            "matches: [(11840699188806025751, 2, 3)]\n",
            "matches: [(11840699188806025751, 2, 3)]\n",
            "matches: [(11840699188806025751, 2, 3), (11840699188806025751, 2, 4)]\n",
            "matches: [(11840699188806025751, 2, 3)]\n",
            "matches: [(11840699188806025751, 1, 2)]\n"
          ],
          "name": "stdout"
        },
        {
          "output_type": "stream",
          "text": [
            " 79%|███████▉  | 3422/4318 [00:39<00:10, 86.94it/s]"
          ],
          "name": "stderr"
        },
        {
          "output_type": "stream",
          "text": [
            "matches: [(11840699188806025751, 5, 6)]\n",
            "matches: [(11840699188806025751, 12, 13)]\n",
            "matches: [(11840699188806025751, 4, 5), (11840699188806025751, 4, 6)]\n",
            "matches: [(11840699188806025751, 7, 8)]\n",
            "matches: [(11840699188806025751, 2, 3)]\n",
            "matches: [(11840699188806025751, 5, 6)]\n",
            "matches: [(11840699188806025751, 5, 6)]\n",
            "matches: [(11840699188806025751, 2, 3), (11840699188806025751, 2, 4)]\n",
            "matches: [(11840699188806025751, 1, 2)]\n",
            "matches: [(11840699188806025751, 1, 2)]\n",
            "matches: [(11840699188806025751, 2, 3)]\n",
            "matches: [(11840699188806025751, 2, 3)]\n",
            "matches: [(11840699188806025751, 4, 5), (11840699188806025751, 4, 6)]\n",
            "matches: [(11840699188806025751, 1, 2)]\n",
            "matches: [(11840699188806025751, 5, 6), (11840699188806025751, 5, 7)]\n",
            "matches: [(11840699188806025751, 2, 3)]\n",
            "matches: [(11840699188806025751, 5, 6), (11840699188806025751, 5, 7)]\n",
            "matches: [(11840699188806025751, 1, 2), (11840699188806025751, 4, 5)]\n"
          ],
          "name": "stdout"
        },
        {
          "output_type": "stream",
          "text": [
            " 80%|███████▉  | 3440/4318 [00:39<00:09, 88.02it/s]"
          ],
          "name": "stderr"
        },
        {
          "output_type": "stream",
          "text": [
            "matches: [(11840699188806025751, 6, 7), (11840699188806025751, 6, 8)]\n",
            "matches: [(11840699188806025751, 2, 3), (11840699188806025751, 2, 4)]\n",
            "matches: [(11840699188806025751, 1, 2)]\n",
            "matches: [(11840699188806025751, 2, 3)]\n",
            "matches: [(11840699188806025751, 3, 4)]\n",
            "matches: [(11840699188806025751, 1, 2)]\n",
            "matches: [(11840699188806025751, 2, 3), (11840699188806025751, 2, 4)]\n",
            "matches: [(11840699188806025751, 5, 6)]\n",
            "matches: [(11840699188806025751, 1, 2)]\n",
            "matches: [(11840699188806025751, 1, 2), (11840699188806025751, 4, 5)]\n",
            "matches: [(11840699188806025751, 6, 7), (11840699188806025751, 6, 8)]\n",
            "matches: [(11840699188806025751, 2, 3), (11840699188806025751, 2, 4)]\n",
            "matches: [(11840699188806025751, 1, 2)]\n",
            "matches: [(11840699188806025751, 2, 3)]\n",
            "matches: [(11840699188806025751, 3, 4)]\n",
            "matches: [(11840699188806025751, 1, 2)]\n",
            "matches: [(11840699188806025751, 2, 3), (11840699188806025751, 2, 4)]\n",
            "matches: [(11840699188806025751, 5, 6)]\n",
            "matches: [(11840699188806025751, 1, 2)]\n"
          ],
          "name": "stdout"
        },
        {
          "output_type": "stream",
          "text": [
            " 80%|████████  | 3458/4318 [00:39<00:09, 87.85it/s]"
          ],
          "name": "stderr"
        },
        {
          "output_type": "stream",
          "text": [
            "matches: [(11840699188806025751, 1, 2)]\n",
            "matches: [(11840699188806025751, 1, 2)]\n",
            "matches: [(11840699188806025751, 5, 6)]\n",
            "matches: [(11840699188806025751, 1, 2), (11840699188806025751, 1, 3)]\n",
            "matches: [(11840699188806025751, 6, 7)]\n",
            "matches: [(11840699188806025751, 5, 6), (11840699188806025751, 5, 7)]\n",
            "matches: [(11840699188806025751, 2, 3)]\n",
            "matches: [(11840699188806025751, 4, 5), (11840699188806025751, 4, 6)]\n",
            "matches: [(11840699188806025751, 7, 8)]\n",
            "matches: [(11840699188806025751, 7, 8), (11840699188806025751, 7, 9)]\n",
            "matches: [(11840699188806025751, 8, 9)]\n",
            "matches: [(11840699188806025751, 3, 4)]\n",
            "matches: [(11840699188806025751, 1, 2)]\n",
            "matches: [(11840699188806025751, 2, 3), (11840699188806025751, 2, 4)]\n",
            "matches: [(11840699188806025751, 1, 2)]\n",
            "matches: [(11840699188806025751, 4, 5)]\n",
            "matches: [(11840699188806025751, 5, 6), (11840699188806025751, 5, 7)]\n",
            "matches: [(11840699188806025751, 1, 2)]\n"
          ],
          "name": "stdout"
        },
        {
          "output_type": "stream",
          "text": [
            " 81%|████████  | 3476/4318 [00:40<00:09, 85.65it/s]"
          ],
          "name": "stderr"
        },
        {
          "output_type": "stream",
          "text": [
            "matches: [(11840699188806025751, 6, 7), (11840699188806025751, 6, 8)]\n",
            "matches: [(11840699188806025751, 2, 3)]\n",
            "matches: [(11840699188806025751, 1, 2)]\n",
            "matches: [(11840699188806025751, 2, 3)]\n",
            "matches: [(11840699188806025751, 1, 2), (11840699188806025751, 1, 3), (11840699188806025751, 6, 7)]\n",
            "matches: [(11840699188806025751, 2, 3)]\n",
            "matches: [(11840699188806025751, 1, 2), (11840699188806025751, 1, 3)]\n",
            "matches: [(11840699188806025751, 1, 2), (11840699188806025751, 1, 3)]\n",
            "matches: [(11840699188806025751, 3, 4), (11840699188806025751, 3, 5)]\n",
            "matches: [(11840699188806025751, 1, 2)]\n",
            "matches: [(11840699188806025751, 3, 4), (11840699188806025751, 3, 5)]\n",
            "matches: [(11840699188806025751, 2, 3), (11840699188806025751, 2, 4)]\n",
            "matches: [(11840699188806025751, 1, 2)]\n",
            "matches: [(11840699188806025751, 4, 5)]\n",
            "matches: [(11840699188806025751, 5, 6), (11840699188806025751, 5, 7)]\n",
            "matches: [(11840699188806025751, 1, 2)]\n",
            "matches: [(11840699188806025751, 6, 7), (11840699188806025751, 6, 8)]\n",
            "matches: [(11840699188806025751, 2, 3)]\n"
          ],
          "name": "stdout"
        },
        {
          "output_type": "stream",
          "text": [
            " 81%|████████  | 3495/4318 [00:40<00:09, 87.80it/s]"
          ],
          "name": "stderr"
        },
        {
          "output_type": "stream",
          "text": [
            "matches: [(11840699188806025751, 1, 2)]\n",
            "matches: [(11840699188806025751, 2, 3)]\n",
            "matches: [(11840699188806025751, 1, 2), (11840699188806025751, 1, 3), (11840699188806025751, 6, 7)]\n",
            "matches: [(11840699188806025751, 2, 3)]\n",
            "matches: [(11840699188806025751, 1, 2), (11840699188806025751, 1, 3)]\n",
            "matches: [(11840699188806025751, 1, 2), (11840699188806025751, 1, 3)]\n",
            "matches: [(11840699188806025751, 3, 4), (11840699188806025751, 3, 5)]\n",
            "matches: [(11840699188806025751, 1, 2)]\n",
            "matches: [(11840699188806025751, 3, 4), (11840699188806025751, 3, 5)]\n",
            "matches: [(11840699188806025751, 3, 4)]\n",
            "matches: [(11840699188806025751, 4, 5), (11840699188806025751, 4, 6)]\n",
            "matches: [(11840699188806025751, 2, 3)]\n",
            "matches: [(11840699188806025751, 4, 5), (11840699188806025751, 4, 6)]\n",
            "matches: [(11840699188806025751, 3, 4)]\n",
            "matches: [(11840699188806025751, 2, 3)]\n",
            "matches: [(11840699188806025751, 1, 2)]\n",
            "matches: [(11840699188806025751, 4, 5), (11840699188806025751, 4, 6)]\n",
            "matches: [(11840699188806025751, 3, 4)]\n",
            "matches: [(11840699188806025751, 3, 4)]\n"
          ],
          "name": "stdout"
        },
        {
          "output_type": "stream",
          "text": [
            " 81%|████████▏ | 3514/4318 [00:40<00:09, 86.84it/s]"
          ],
          "name": "stderr"
        },
        {
          "output_type": "stream",
          "text": [
            "matches: [(11840699188806025751, 6, 7), (11840699188806025751, 6, 8)]\n",
            "matches: [(11840699188806025751, 6, 7)]\n",
            "matches: [(11840699188806025751, 5, 6)]\n",
            "matches: [(11840699188806025751, 6, 7), (11840699188806025751, 6, 8)]\n",
            "matches: [(11840699188806025751, 3, 4), (11840699188806025751, 3, 5), (11840699188806025751, 3, 6)]\n",
            "matches: [(11840699188806025751, 4, 5), (11840699188806025751, 4, 6)]\n",
            "matches: [(11840699188806025751, 3, 4)]\n",
            "matches: [(11840699188806025751, 2, 3)]\n",
            "matches: [(11840699188806025751, 1, 2)]\n",
            "matches: [(11840699188806025751, 4, 5), (11840699188806025751, 4, 6)]\n",
            "matches: [(11840699188806025751, 3, 4)]\n",
            "matches: [(11840699188806025751, 3, 4)]\n",
            "matches: [(11840699188806025751, 6, 7), (11840699188806025751, 6, 8)]\n",
            "matches: [(11840699188806025751, 6, 7)]\n",
            "matches: [(11840699188806025751, 5, 6)]\n",
            "matches: [(11840699188806025751, 6, 7), (11840699188806025751, 6, 8)]\n",
            "matches: [(11840699188806025751, 3, 4), (11840699188806025751, 3, 5), (11840699188806025751, 3, 6)]\n"
          ],
          "name": "stdout"
        },
        {
          "output_type": "stream",
          "text": [
            " 82%|████████▏ | 3533/4318 [00:40<00:08, 87.28it/s]"
          ],
          "name": "stderr"
        },
        {
          "output_type": "stream",
          "text": [
            "matches: [(11840699188806025751, 23, 24), (11840699188806025751, 23, 25), (11840699188806025751, 23, 26)]\n",
            "matches: [(11840699188806025751, 2, 3)]\n",
            "matches: [(11840699188806025751, 6, 7), (11840699188806025751, 6, 8)]\n",
            "matches: [(11840699188806025751, 22, 23)]\n",
            "matches: [(11840699188806025751, 2, 3)]\n",
            "matches: [(11840699188806025751, 6, 7), (11840699188806025751, 6, 8)]\n",
            "matches: [(11840699188806025751, 1, 2)]\n",
            "matches: [(11840699188806025751, 5, 6), (11840699188806025751, 5, 7)]\n",
            "matches: [(11840699188806025751, 3, 4), (11840699188806025751, 3, 5)]\n",
            "matches: [(11840699188806025751, 2, 3)]\n",
            "matches: [(11840699188806025751, 1, 2)]\n",
            "matches: [(11840699188806025751, 4, 5)]\n",
            "matches: [(11840699188806025751, 2, 3), (11840699188806025751, 5, 6)]\n",
            "matches: [(11840699188806025751, 3, 4)]\n",
            "matches: [(11840699188806025751, 1, 2)]\n",
            "matches: [(11840699188806025751, 2, 3), (11840699188806025751, 2, 4)]\n",
            "matches: [(11840699188806025751, 1, 2)]\n",
            "matches: [(11840699188806025751, 2, 3)]\n",
            "matches: [(11840699188806025751, 1, 2)]\n"
          ],
          "name": "stdout"
        },
        {
          "output_type": "stream",
          "text": [
            " 82%|████████▏ | 3553/4318 [00:41<00:08, 90.14it/s]"
          ],
          "name": "stderr"
        },
        {
          "output_type": "stream",
          "text": [
            "matches: [(11840699188806025751, 4, 5), (11840699188806025751, 4, 6)]\n",
            "matches: [(11840699188806025751, 3, 4), (11840699188806025751, 3, 5)]\n",
            "matches: [(11840699188806025751, 3, 4)]\n",
            "matches: [(11840699188806025751, 8, 9), (11840699188806025751, 8, 10)]\n",
            "matches: [(11840699188806025751, 2, 3)]\n",
            "matches: [(11840699188806025751, 3, 4)]\n",
            "matches: [(11840699188806025751, 1, 2)]\n",
            "matches: [(11840699188806025751, 2, 3), (11840699188806025751, 2, 4)]\n",
            "matches: [(11840699188806025751, 1, 2)]\n",
            "matches: [(11840699188806025751, 2, 3)]\n",
            "matches: [(11840699188806025751, 1, 2)]\n",
            "matches: [(11840699188806025751, 4, 5), (11840699188806025751, 4, 6)]\n",
            "matches: [(11840699188806025751, 3, 4), (11840699188806025751, 3, 5)]\n",
            "matches: [(11840699188806025751, 3, 4)]\n",
            "matches: [(11840699188806025751, 8, 9), (11840699188806025751, 8, 10)]\n",
            "matches: [(11840699188806025751, 2, 3)]\n",
            "matches: [(11840699188806025751, 3, 4)]\n",
            "matches: [(11840699188806025751, 1, 2)]\n",
            "matches: [(11840699188806025751, 2, 3)]\n"
          ],
          "name": "stdout"
        },
        {
          "output_type": "stream",
          "text": [
            " 83%|████████▎ | 3572/4318 [00:41<00:08, 86.90it/s]"
          ],
          "name": "stderr"
        },
        {
          "output_type": "stream",
          "text": [
            "matches: [(11840699188806025751, 2, 3)]\n",
            "matches: [(11840699188806025751, 3, 4)]\n",
            "matches: [(11840699188806025751, 1, 2), (11840699188806025751, 1, 3)]\n",
            "matches: [(11840699188806025751, 4, 5), (11840699188806025751, 4, 6), (11840699188806025751, 4, 7)]\n",
            "matches: [(11840699188806025751, 5, 6), (11840699188806025751, 5, 7)]\n",
            "matches: [(11840699188806025751, 4, 5)]\n",
            "matches: [(11840699188806025751, 5, 6)]\n",
            "matches: [(11840699188806025751, 4, 5)]\n",
            "matches: [(11840699188806025751, 3, 4), (11840699188806025751, 3, 5)]\n",
            "matches: [(11840699188806025751, 5, 6), (11840699188806025751, 5, 7)]\n",
            "matches: [(11840699188806025751, 3, 4), (11840699188806025751, 3, 5)]\n",
            "matches: [(11840699188806025751, 3, 4)]\n",
            "matches: [(11840699188806025751, 10, 11), (11840699188806025751, 10, 12)]\n",
            "matches: [(11840699188806025751, 2, 3)]\n",
            "matches: [(11840699188806025751, 3, 4), (11840699188806025751, 3, 5)]\n",
            "matches: [(11840699188806025751, 2, 3), (11840699188806025751, 2, 4), (11840699188806025751, 2, 5)]\n",
            "matches: [(11840699188806025751, 2, 3)]\n"
          ],
          "name": "stdout"
        },
        {
          "output_type": "stream",
          "text": [
            " 83%|████████▎ | 3591/4318 [00:41<00:08, 86.77it/s]"
          ],
          "name": "stderr"
        },
        {
          "output_type": "stream",
          "text": [
            "matches: [(11840699188806025751, 9, 10)]\n",
            "matches: [(11840699188806025751, 0, 1)]\n",
            "matches: [(11840699188806025751, 8, 9)]\n",
            "matches: [(11840699188806025751, 3, 4), (11840699188806025751, 3, 5)]\n",
            "matches: [(11840699188806025751, 4, 5)]\n",
            "matches: [(11840699188806025751, 1, 2)]\n",
            "matches: [(11840699188806025751, 1, 2), (11840699188806025751, 1, 3)]\n",
            "matches: [(11840699188806025751, 3, 4)]\n",
            "matches: [(11840699188806025751, 3, 4)]\n",
            "matches: [(11840699188806025751, 3, 4)]\n",
            "matches: [(11840699188806025751, 2, 3)]\n",
            "matches: [(11840699188806025751, 1, 2)]\n",
            "matches: [(11840699188806025751, 5, 6)]\n",
            "matches: [(11840699188806025751, 2, 3)]\n",
            "matches: [(11840699188806025751, 1, 2)]\n",
            "matches: [(11840699188806025751, 5, 6), (11840699188806025751, 5, 7)]\n",
            "matches: [(11840699188806025751, 4, 5), (11840699188806025751, 4, 6)]\n",
            "matches: [(11840699188806025751, 5, 6)]\n",
            "matches: [(11840699188806025751, 4, 5), (11840699188806025751, 4, 6)]\n"
          ],
          "name": "stdout"
        },
        {
          "output_type": "stream",
          "text": [
            " 84%|████████▎ | 3610/4318 [00:41<00:08, 87.50it/s]"
          ],
          "name": "stderr"
        },
        {
          "output_type": "stream",
          "text": [
            "matches: [(11840699188806025751, 1, 2), (11840699188806025751, 3, 4)]\n",
            "matches: [(11840699188806025751, 1, 2)]\n",
            "matches: [(11840699188806025751, 3, 4), (11840699188806025751, 3, 5)]\n",
            "matches: [(11840699188806025751, 5, 6)]\n",
            "matches: [(11840699188806025751, 3, 4)]\n",
            "matches: [(11840699188806025751, 2, 3), (11840699188806025751, 2, 4)]\n",
            "matches: [(11840699188806025751, 1, 2), (11840699188806025751, 1, 3)]\n",
            "matches: [(11840699188806025751, 6, 7)]\n",
            "matches: [(11840699188806025751, 2, 3)]\n",
            "matches: [(11840699188806025751, 16, 17)]\n",
            "matches: [(11840699188806025751, 10, 11)]\n",
            "matches: [(11840699188806025751, 4, 5)]\n",
            "matches: [(11840699188806025751, 3, 4), (11840699188806025751, 3, 5)]\n",
            "matches: [(11840699188806025751, 7, 8), (11840699188806025751, 7, 9)]\n",
            "matches: [(11840699188806025751, 3, 4), (11840699188806025751, 3, 5)]\n",
            "matches: [(11840699188806025751, 3, 4), (11840699188806025751, 3, 5)]\n",
            "matches: [(11840699188806025751, 3, 4)]\n",
            "matches: [(11840699188806025751, 10, 11)]\n"
          ],
          "name": "stdout"
        },
        {
          "output_type": "stream",
          "text": [
            " 84%|████████▍ | 3630/4318 [00:41<00:07, 90.59it/s]"
          ],
          "name": "stderr"
        },
        {
          "output_type": "stream",
          "text": [
            "matches: [(11840699188806025751, 2, 3)]\n",
            "matches: [(11840699188806025751, 3, 4)]\n",
            "matches: [(11840699188806025751, 3, 4), (11840699188806025751, 3, 5), (11840699188806025751, 3, 6)]\n",
            "matches: [(11840699188806025751, 4, 5), (11840699188806025751, 4, 6), (11840699188806025751, 4, 7)]\n",
            "matches: [(11840699188806025751, 1, 2)]\n",
            "matches: [(11840699188806025751, 1, 2)]\n",
            "matches: [(11840699188806025751, 3, 4), (11840699188806025751, 3, 5)]\n",
            "matches: [(11840699188806025751, 3, 4)]\n",
            "matches: [(11840699188806025751, 4, 5), (11840699188806025751, 4, 6), (11840699188806025751, 4, 7)]\n",
            "matches: [(11840699188806025751, 7, 8), (11840699188806025751, 7, 9)]\n",
            "matches: [(11840699188806025751, 4, 5), (11840699188806025751, 4, 6)]\n",
            "matches: [(11840699188806025751, 2, 3), (11840699188806025751, 2, 4)]\n",
            "matches: [(11840699188806025751, 6, 7)]\n",
            "matches: [(11840699188806025751, 5, 6)]\n",
            "matches: [(11840699188806025751, 6, 7)]\n",
            "matches: [(11840699188806025751, 9, 10), (11840699188806025751, 9, 11)]\n",
            "matches: [(11840699188806025751, 6, 7), (11840699188806025751, 6, 8)]\n",
            "matches: [(11840699188806025751, 1, 2)]\n",
            "matches: [(11840699188806025751, 0, 1)]\n",
            "matches: [(11840699188806025751, 7, 8)]\n"
          ],
          "name": "stdout"
        },
        {
          "output_type": "stream",
          "text": [
            " 85%|████████▍ | 3650/4318 [00:42<00:07, 90.93it/s]"
          ],
          "name": "stderr"
        },
        {
          "output_type": "stream",
          "text": [
            "matches: [(11840699188806025751, 10, 11)]\n",
            "matches: [(11840699188806025751, 1, 2)]\n",
            "matches: [(11840699188806025751, 4, 5)]\n",
            "matches: [(11840699188806025751, 7, 8)]\n",
            "matches: [(11840699188806025751, 3, 4), (11840699188806025751, 3, 5)]\n",
            "matches: [(11840699188806025751, 6, 7)]\n",
            "matches: [(11840699188806025751, 2, 3), (11840699188806025751, 2, 4)]\n",
            "matches: [(11840699188806025751, 3, 4), (11840699188806025751, 3, 5)]\n",
            "matches: [(11840699188806025751, 2, 3)]\n",
            "matches: [(11840699188806025751, 1, 2)]\n",
            "matches: [(11840699188806025751, 2, 3)]\n",
            "matches: [(11840699188806025751, 6, 7), (11840699188806025751, 6, 8), (11840699188806025751, 6, 9)]\n",
            "matches: [(11840699188806025751, 3, 4), (11840699188806025751, 3, 5)]\n",
            "matches: [(11840699188806025751, 2, 3)]\n",
            "matches: [(11840699188806025751, 5, 6), (11840699188806025751, 5, 7)]\n",
            "matches: [(11840699188806025751, 2, 3)]\n",
            "matches: [(11840699188806025751, 1, 2)]\n",
            "matches: [(11840699188806025751, 2, 3)]\n",
            "matches: [(11840699188806025751, 5, 6), (11840699188806025751, 5, 7)]\n",
            "matches: [(11840699188806025751, 7, 8)]\n"
          ],
          "name": "stdout"
        },
        {
          "output_type": "stream",
          "text": [
            "\r 85%|████████▍ | 3660/4318 [00:42<00:07, 92.13it/s]"
          ],
          "name": "stderr"
        },
        {
          "output_type": "stream",
          "text": [
            "matches: [(11840699188806025751, 1, 2)]\n",
            "matches: [(11840699188806025751, 2, 3)]\n",
            "matches: [(11840699188806025751, 4, 5), (11840699188806025751, 4, 6)]\n",
            "matches: [(11840699188806025751, 14, 15), (11840699188806025751, 14, 16)]\n",
            "matches: [(11840699188806025751, 1, 2)]\n",
            "matches: [(11840699188806025751, 0, 1)]\n",
            "matches: [(11840699188806025751, 1, 2), (11840699188806025751, 1, 3)]\n",
            "matches: [(11840699188806025751, 3, 4), (11840699188806025751, 3, 5)]\n",
            "matches: [(11840699188806025751, 2, 3), (11840699188806025751, 2, 4)]\n",
            "matches: [(11840699188806025751, 8, 9)]\n",
            "matches: [(11840699188806025751, 2, 3)]\n",
            "matches: [(11840699188806025751, 3, 4), (11840699188806025751, 3, 5)]\n",
            "matches: [(11840699188806025751, 3, 4), (11840699188806025751, 3, 5)]\n",
            "matches: [(11840699188806025751, 1, 2)]\n",
            "matches: [(11840699188806025751, 3, 4), (11840699188806025751, 3, 5)]\n",
            "matches: [(11840699188806025751, 4, 5)]\n",
            "matches: [(11840699188806025751, 4, 5), (11840699188806025751, 4, 6)]\n",
            "matches: [(11840699188806025751, 5, 6)]\n",
            "matches: [(11840699188806025751, 1, 2)]\n"
          ],
          "name": "stdout"
        },
        {
          "output_type": "stream",
          "text": [
            " 85%|████████▌ | 3680/4318 [00:42<00:07, 90.26it/s]"
          ],
          "name": "stderr"
        },
        {
          "output_type": "stream",
          "text": [
            "matches: [(11840699188806025751, 0, 1)]\n",
            "matches: [(11840699188806025751, 4, 5), (11840699188806025751, 4, 6)]\n",
            "matches: [(11840699188806025751, 8, 9)]\n",
            "matches: [(11840699188806025751, 3, 4)]\n",
            "matches: [(11840699188806025751, 4, 5)]\n",
            "matches: [(11840699188806025751, 2, 3), (11840699188806025751, 2, 4)]\n",
            "matches: [(11840699188806025751, 2, 3)]\n",
            "matches: [(11840699188806025751, 2, 3)]\n",
            "matches: [(11840699188806025751, 1, 2)]\n",
            "matches: [(11840699188806025751, 4, 5)]\n",
            "matches: [(11840699188806025751, 2, 3), (11840699188806025751, 2, 4), (11840699188806025751, 2, 5)]\n",
            "matches: [(11840699188806025751, 0, 1)]\n",
            "matches: [(11840699188806025751, 1, 2)]\n",
            "matches: [(11840699188806025751, 15, 16)]\n",
            "matches: [(11840699188806025751, 1, 2)]\n",
            "matches: [(11840699188806025751, 4, 5)]\n",
            "matches: [(11840699188806025751, 6, 7), (11840699188806025751, 6, 8)]\n",
            "matches: [(11840699188806025751, 5, 6), (11840699188806025751, 5, 7)]\n"
          ],
          "name": "stdout"
        },
        {
          "output_type": "stream",
          "text": [
            " 86%|████████▌ | 3700/4318 [00:42<00:06, 88.40it/s]"
          ],
          "name": "stderr"
        },
        {
          "output_type": "stream",
          "text": [
            "matches: [(11840699188806025751, 5, 6)]\n",
            "matches: [(11840699188806025751, 8, 9)]\n",
            "matches: [(11840699188806025751, 2, 3)]\n",
            "matches: [(11840699188806025751, 2, 3)]\n",
            "matches: [(11840699188806025751, 5, 6), (11840699188806025751, 5, 7)]\n",
            "matches: [(11840699188806025751, 20, 21), (11840699188806025751, 20, 22)]\n",
            "matches: [(11840699188806025751, 4, 5), (11840699188806025751, 4, 6)]\n",
            "matches: [(11840699188806025751, 5, 6)]\n",
            "matches: [(11840699188806025751, 4, 5)]\n",
            "matches: [(11840699188806025751, 1, 2)]\n",
            "matches: [(11840699188806025751, 2, 3), (11840699188806025751, 2, 4)]\n",
            "matches: [(11840699188806025751, 5, 6)]\n",
            "matches: [(11840699188806025751, 9, 10)]\n",
            "matches: [(11840699188806025751, 3, 4)]\n",
            "matches: [(11840699188806025751, 15, 16)]\n",
            "matches: [(11840699188806025751, 1, 2)]\n",
            "matches: [(11840699188806025751, 4, 5)]\n",
            "matches: [(11840699188806025751, 6, 7), (11840699188806025751, 6, 8)]\n",
            "matches: [(11840699188806025751, 5, 6), (11840699188806025751, 5, 7)]\n"
          ],
          "name": "stdout"
        },
        {
          "output_type": "stream",
          "text": [
            " 86%|████████▌ | 3719/4318 [00:42<00:06, 89.09it/s]"
          ],
          "name": "stderr"
        },
        {
          "output_type": "stream",
          "text": [
            "matches: [(11840699188806025751, 5, 6)]\n",
            "matches: [(11840699188806025751, 8, 9)]\n",
            "matches: [(11840699188806025751, 2, 3)]\n",
            "matches: [(11840699188806025751, 2, 3)]\n",
            "matches: [(11840699188806025751, 5, 6), (11840699188806025751, 5, 7)]\n",
            "matches: [(11840699188806025751, 20, 21), (11840699188806025751, 20, 22)]\n",
            "matches: [(11840699188806025751, 4, 5), (11840699188806025751, 4, 6)]\n",
            "matches: [(11840699188806025751, 5, 6)]\n",
            "matches: [(11840699188806025751, 4, 5)]\n",
            "matches: [(11840699188806025751, 1, 2)]\n",
            "matches: [(11840699188806025751, 2, 3), (11840699188806025751, 2, 4)]\n",
            "matches: [(11840699188806025751, 5, 6)]\n",
            "matches: [(11840699188806025751, 9, 10)]\n",
            "matches: [(11840699188806025751, 3, 4)]\n",
            "matches: [(11840699188806025751, 1, 2)]\n",
            "matches: [(11840699188806025751, 0, 1)]\n",
            "matches: [(11840699188806025751, 2, 3)]\n",
            "matches: [(11840699188806025751, 1, 2)]\n",
            "matches: [(11840699188806025751, 3, 4), (11840699188806025751, 3, 5)]\n"
          ],
          "name": "stdout"
        },
        {
          "output_type": "stream",
          "text": [
            " 87%|████████▋ | 3739/4318 [00:43<00:06, 91.28it/s]"
          ],
          "name": "stderr"
        },
        {
          "output_type": "stream",
          "text": [
            "matches: [(11840699188806025751, 4, 5)]\n",
            "matches: [(11840699188806025751, 5, 6), (11840699188806025751, 5, 7)]\n",
            "matches: [(11840699188806025751, 1, 2)]\n",
            "matches: [(11840699188806025751, 3, 4)]\n",
            "matches: [(11840699188806025751, 1, 2)]\n",
            "matches: [(11840699188806025751, 2, 3), (11840699188806025751, 2, 4)]\n",
            "matches: [(11840699188806025751, 4, 5), (11840699188806025751, 4, 6)]\n",
            "matches: [(11840699188806025751, 3, 4), (11840699188806025751, 3, 5)]\n",
            "matches: [(11840699188806025751, 2, 3)]\n",
            "matches: [(11840699188806025751, 3, 4), (11840699188806025751, 3, 5)]\n",
            "matches: [(11840699188806025751, 2, 3)]\n",
            "matches: [(11840699188806025751, 2, 3), (11840699188806025751, 2, 4)]\n",
            "matches: [(11840699188806025751, 1, 2)]\n",
            "matches: [(11840699188806025751, 5, 6), (11840699188806025751, 5, 7)]\n",
            "matches: [(11840699188806025751, 1, 2)]\n",
            "matches: [(11840699188806025751, 2, 3), (11840699188806025751, 2, 4)]\n",
            "matches: [(11840699188806025751, 2, 3)]\n",
            "matches: [(11840699188806025751, 2, 3)]\n",
            "matches: [(11840699188806025751, 1, 2)]\n"
          ],
          "name": "stdout"
        },
        {
          "output_type": "stream",
          "text": [
            " 87%|████████▋ | 3759/4318 [00:43<00:06, 89.84it/s]"
          ],
          "name": "stderr"
        },
        {
          "output_type": "stream",
          "text": [
            "matches: [(11840699188806025751, 1, 2)]\n",
            "matches: [(11840699188806025751, 3, 4), (11840699188806025751, 3, 5)]\n",
            "matches: [(11840699188806025751, 3, 4), (11840699188806025751, 3, 5)]\n",
            "matches: [(11840699188806025751, 4, 5), (11840699188806025751, 4, 6)]\n",
            "matches: [(11840699188806025751, 1, 2)]\n",
            "matches: [(11840699188806025751, 2, 3)]\n",
            "matches: [(11840699188806025751, 4, 5)]\n",
            "matches: [(11840699188806025751, 3, 4), (11840699188806025751, 3, 5)]\n",
            "matches: [(11840699188806025751, 8, 9)]\n",
            "matches: [(11840699188806025751, 5, 6), (11840699188806025751, 5, 7)]\n",
            "matches: [(11840699188806025751, 5, 6), (11840699188806025751, 5, 7)]\n",
            "matches: [(11840699188806025751, 6, 7), (11840699188806025751, 6, 8)]\n",
            "matches: [(11840699188806025751, 6, 7)]\n",
            "matches: [(11840699188806025751, 7, 8)]\n",
            "matches: [(11840699188806025751, 5, 6)]\n",
            "matches: [(11840699188806025751, 2, 3), (11840699188806025751, 2, 4)]\n",
            "matches: [(11840699188806025751, 2, 3), (11840699188806025751, 2, 4)]\n",
            "matches: [(11840699188806025751, 3, 4), (11840699188806025751, 3, 5)]\n",
            "matches: [(11840699188806025751, 3, 4), (11840699188806025751, 3, 5), (11840699188806025751, 3, 6)]\n"
          ],
          "name": "stdout"
        },
        {
          "output_type": "stream",
          "text": [
            " 88%|████████▊ | 3779/4318 [00:43<00:05, 89.87it/s]"
          ],
          "name": "stderr"
        },
        {
          "output_type": "stream",
          "text": [
            "matches: [(11840699188806025751, 4, 5), (11840699188806025751, 4, 6)]\n",
            "matches: [(11840699188806025751, 2, 3), (11840699188806025751, 2, 4)]\n",
            "matches: [(11840699188806025751, 1, 2)]\n",
            "matches: [(11840699188806025751, 2, 3)]\n",
            "matches: [(11840699188806025751, 1, 2)]\n",
            "matches: [(11840699188806025751, 1, 2)]\n",
            "matches: [(11840699188806025751, 6, 7)]\n",
            "matches: [(11840699188806025751, 4, 5), (11840699188806025751, 4, 6)]\n",
            "matches: [(11840699188806025751, 1, 2)]\n",
            "matches: [(11840699188806025751, 3, 4), (11840699188806025751, 3, 5)]\n",
            "matches: [(11840699188806025751, 8, 9)]\n",
            "matches: [(11840699188806025751, 5, 6), (11840699188806025751, 5, 7)]\n",
            "matches: [(11840699188806025751, 5, 6), (11840699188806025751, 5, 7)]\n",
            "matches: [(11840699188806025751, 6, 7), (11840699188806025751, 6, 8)]\n",
            "matches: [(11840699188806025751, 6, 7)]\n",
            "matches: [(11840699188806025751, 7, 8)]\n",
            "matches: [(11840699188806025751, 5, 6)]\n",
            "matches: [(11840699188806025751, 2, 3), (11840699188806025751, 2, 4)]\n",
            "matches: [(11840699188806025751, 2, 3), (11840699188806025751, 2, 4)]\n"
          ],
          "name": "stdout"
        },
        {
          "output_type": "stream",
          "text": [
            " 88%|████████▊ | 3799/4318 [00:43<00:05, 91.36it/s]"
          ],
          "name": "stderr"
        },
        {
          "output_type": "stream",
          "text": [
            "matches: [(11840699188806025751, 3, 4), (11840699188806025751, 3, 5)]\n",
            "matches: [(11840699188806025751, 3, 4), (11840699188806025751, 3, 5), (11840699188806025751, 3, 6)]\n",
            "matches: [(11840699188806025751, 4, 5), (11840699188806025751, 4, 6)]\n",
            "matches: [(11840699188806025751, 2, 3), (11840699188806025751, 2, 4)]\n",
            "matches: [(11840699188806025751, 1, 2)]\n",
            "matches: [(11840699188806025751, 2, 3)]\n",
            "matches: [(11840699188806025751, 1, 2)]\n",
            "matches: [(11840699188806025751, 1, 2)]\n",
            "matches: [(11840699188806025751, 6, 7)]\n",
            "matches: [(11840699188806025751, 4, 5), (11840699188806025751, 4, 6)]\n",
            "matches: [(11840699188806025751, 1, 2)]\n",
            "matches: [(11840699188806025751, 3, 4)]\n",
            "matches: [(11840699188806025751, 10, 11), (11840699188806025751, 10, 12)]\n",
            "matches: [(11840699188806025751, 4, 5)]\n",
            "matches: [(11840699188806025751, 6, 7), (11840699188806025751, 6, 8)]\n",
            "matches: [(11840699188806025751, 1, 2)]\n",
            "matches: [(11840699188806025751, 5, 6), (11840699188806025751, 5, 7)]\n",
            "matches: [(11840699188806025751, 2, 3), (11840699188806025751, 2, 4)]\n",
            "matches: [(11840699188806025751, 7, 8), (11840699188806025751, 7, 9), (11840699188806025751, 7, 10)]\n"
          ],
          "name": "stdout"
        },
        {
          "output_type": "stream",
          "text": [
            " 88%|████████▊ | 3819/4318 [00:44<00:05, 91.07it/s]"
          ],
          "name": "stderr"
        },
        {
          "output_type": "stream",
          "text": [
            "matches: [(11840699188806025751, 4, 5)]\n",
            "matches: [(11840699188806025751, 2, 3)]\n",
            "matches: [(11840699188806025751, 3, 4), (11840699188806025751, 3, 5)]\n",
            "matches: [(11840699188806025751, 2, 3), (11840699188806025751, 2, 4)]\n",
            "matches: [(11840699188806025751, 7, 8), (11840699188806025751, 7, 9), (11840699188806025751, 7, 10)]\n",
            "matches: [(11840699188806025751, 4, 5)]\n",
            "matches: [(11840699188806025751, 2, 3)]\n",
            "matches: [(11840699188806025751, 3, 4), (11840699188806025751, 3, 5)]\n",
            "matches: [(11840699188806025751, 1, 2)]\n",
            "matches: [(11840699188806025751, 1, 2)]\n",
            "matches: [(11840699188806025751, 4, 5)]\n",
            "matches: [(11840699188806025751, 5, 6)]\n",
            "matches: [(11840699188806025751, 8, 9)]\n",
            "matches: [(11840699188806025751, 3, 4)]\n",
            "matches: [(11840699188806025751, 13, 14)]\n",
            "matches: [(11840699188806025751, 2, 3)]\n",
            "matches: [(11840699188806025751, 2, 3)]\n",
            "matches: [(11840699188806025751, 3, 4), (11840699188806025751, 3, 5)]\n",
            "matches: [(11840699188806025751, 3, 4)]\n"
          ],
          "name": "stdout"
        },
        {
          "output_type": "stream",
          "text": [
            " 89%|████████▉ | 3839/4318 [00:44<00:05, 91.14it/s]"
          ],
          "name": "stderr"
        },
        {
          "output_type": "stream",
          "text": [
            "matches: [(11840699188806025751, 3, 4)]\n",
            "matches: [(11840699188806025751, 3, 4), (11840699188806025751, 3, 5)]\n",
            "matches: [(11840699188806025751, 4, 5)]\n",
            "matches: [(11840699188806025751, 2, 3)]\n",
            "matches: [(11840699188806025751, 3, 4), (11840699188806025751, 3, 5)]\n",
            "matches: [(11840699188806025751, 1, 2), (11840699188806025751, 1, 3)]\n",
            "matches: [(11840699188806025751, 1, 2)]\n",
            "matches: [(11840699188806025751, 4, 5), (11840699188806025751, 4, 6)]\n",
            "matches: [(11840699188806025751, 6, 7), (11840699188806025751, 6, 8)]\n",
            "matches: [(11840699188806025751, 2, 3)]\n",
            "matches: [(11840699188806025751, 1, 2), (11840699188806025751, 1, 3), (11840699188806025751, 1, 4)]\n",
            "matches: [(11840699188806025751, 4, 5), (11840699188806025751, 4, 6)]\n",
            "matches: [(11840699188806025751, 2, 3), (11840699188806025751, 2, 4)]\n",
            "matches: [(11840699188806025751, 5, 6), (11840699188806025751, 5, 7), (11840699188806025751, 5, 8)]\n",
            "matches: [(11840699188806025751, 5, 6), (11840699188806025751, 5, 7), (11840699188806025751, 5, 8)]\n",
            "matches: [(11840699188806025751, 1, 2)]\n",
            "matches: [(11840699188806025751, 3, 4)]\n",
            "matches: [(11840699188806025751, 6, 7)]\n",
            "matches: [(11840699188806025751, 8, 9), (11840699188806025751, 8, 10)]\n"
          ],
          "name": "stdout"
        },
        {
          "output_type": "stream",
          "text": [
            "\r 89%|████████▉ | 3849/4318 [00:44<00:05, 90.42it/s]"
          ],
          "name": "stderr"
        },
        {
          "output_type": "stream",
          "text": [
            "matches: [(11840699188806025751, 6, 7), (11840699188806025751, 6, 8)]\n",
            "matches: [(11840699188806025751, 5, 6), (11840699188806025751, 5, 7)]\n",
            "matches: [(11840699188806025751, 5, 6)]\n",
            "matches: [(11840699188806025751, 4, 5)]\n",
            "matches: [(11840699188806025751, 1, 2), (11840699188806025751, 1, 3), (11840699188806025751, 1, 4)]\n",
            "matches: [(11840699188806025751, 4, 5), (11840699188806025751, 4, 6)]\n",
            "matches: [(11840699188806025751, 2, 3), (11840699188806025751, 2, 4)]\n",
            "matches: [(11840699188806025751, 5, 6), (11840699188806025751, 5, 7), (11840699188806025751, 5, 8)]\n",
            "matches: [(11840699188806025751, 5, 6), (11840699188806025751, 5, 7), (11840699188806025751, 5, 8)]\n",
            "matches: [(11840699188806025751, 1, 2)]\n",
            "matches: [(11840699188806025751, 3, 4)]\n",
            "matches: [(11840699188806025751, 6, 7)]\n",
            "matches: [(11840699188806025751, 8, 9), (11840699188806025751, 8, 10)]\n",
            "matches: [(11840699188806025751, 6, 7), (11840699188806025751, 6, 8)]\n",
            "matches: [(11840699188806025751, 5, 6), (11840699188806025751, 5, 7)]\n",
            "matches: [(11840699188806025751, 5, 6)]\n",
            "matches: [(11840699188806025751, 4, 5)]\n",
            "matches: [(11840699188806025751, 0, 1), (11840699188806025751, 2, 3)]\n",
            "matches: [(11840699188806025751, 2, 3), (11840699188806025751, 2, 4)]\n"
          ],
          "name": "stdout"
        },
        {
          "output_type": "stream",
          "text": [
            " 90%|████████▉ | 3869/4318 [00:44<00:04, 91.46it/s]"
          ],
          "name": "stderr"
        },
        {
          "output_type": "stream",
          "text": [
            "matches: [(11840699188806025751, 2, 3), (11840699188806025751, 2, 4)]\n",
            "matches: [(11840699188806025751, 3, 4)]\n",
            "matches: [(11840699188806025751, 3, 4)]\n",
            "matches: [(11840699188806025751, 3, 4)]\n",
            "matches: [(11840699188806025751, 5, 6), (11840699188806025751, 5, 7)]\n",
            "matches: [(11840699188806025751, 2, 3)]\n",
            "matches: [(11840699188806025751, 4, 5)]\n",
            "matches: [(11840699188806025751, 1, 2), (11840699188806025751, 1, 3)]\n",
            "matches: [(11840699188806025751, 1, 2)]\n",
            "matches: [(11840699188806025751, 1, 2)]\n",
            "matches: [(11840699188806025751, 3, 4)]\n",
            "matches: [(11840699188806025751, 3, 4), (11840699188806025751, 3, 5)]\n",
            "matches: [(11840699188806025751, 2, 3)]\n",
            "matches: [(11840699188806025751, 4, 5)]\n",
            "matches: [(11840699188806025751, 1, 2), (11840699188806025751, 1, 3)]\n",
            "matches: [(11840699188806025751, 1, 2)]\n",
            "matches: [(11840699188806025751, 1, 2)]\n",
            "matches: [(11840699188806025751, 3, 4)]\n",
            "matches: [(11840699188806025751, 3, 4), (11840699188806025751, 3, 5)]\n",
            "matches: [(11840699188806025751, 1, 2)]\n"
          ],
          "name": "stdout"
        },
        {
          "output_type": "stream",
          "text": [
            " 90%|█████████ | 3889/4318 [00:44<00:04, 93.16it/s]"
          ],
          "name": "stderr"
        },
        {
          "output_type": "stream",
          "text": [
            "matches: [(11840699188806025751, 1, 2)]\n",
            "matches: [(11840699188806025751, 4, 5), (11840699188806025751, 4, 6)]\n",
            "matches: [(11840699188806025751, 4, 5), (11840699188806025751, 4, 6)]\n",
            "matches: [(11840699188806025751, 2, 3)]\n",
            "matches: [(11840699188806025751, 4, 5)]\n",
            "matches: [(11840699188806025751, 3, 4), (11840699188806025751, 3, 5)]\n",
            "matches: [(11840699188806025751, 3, 4)]\n",
            "matches: [(11840699188806025751, 6, 7), (11840699188806025751, 6, 8)]\n",
            "matches: [(11840699188806025751, 1, 2)]\n",
            "matches: [(11840699188806025751, 1, 2), (11840699188806025751, 1, 3)]\n",
            "matches: [(11840699188806025751, 3, 4), (11840699188806025751, 3, 5), (11840699188806025751, 11, 12)]\n",
            "matches: [(11840699188806025751, 2, 3)]\n",
            "matches: [(11840699188806025751, 4, 5)]\n",
            "matches: [(11840699188806025751, 0, 1), (11840699188806025751, 5, 6)]\n",
            "matches: [(11840699188806025751, 7, 8), (11840699188806025751, 7, 9)]\n",
            "matches: [(11840699188806025751, 4, 5), (11840699188806025751, 4, 6)]\n",
            "matches: [(11840699188806025751, 1, 2)]\n",
            "matches: [(11840699188806025751, 3, 4), (11840699188806025751, 3, 5)]\n"
          ],
          "name": "stdout"
        },
        {
          "output_type": "stream",
          "text": [
            " 91%|█████████ | 3909/4318 [00:45<00:04, 91.30it/s]"
          ],
          "name": "stderr"
        },
        {
          "output_type": "stream",
          "text": [
            "matches: [(11840699188806025751, 2, 3), (11840699188806025751, 2, 4), (11840699188806025751, 2, 5)]\n",
            "matches: [(11840699188806025751, 5, 6)]\n",
            "matches: [(11840699188806025751, 4, 5), (11840699188806025751, 4, 6)]\n",
            "matches: [(11840699188806025751, 3, 4)]\n",
            "matches: [(11840699188806025751, 2, 3)]\n",
            "matches: [(11840699188806025751, 2, 3)]\n",
            "matches: [(11840699188806025751, 1, 2)]\n",
            "matches: [(11840699188806025751, 4, 5), (11840699188806025751, 4, 6)]\n",
            "matches: [(11840699188806025751, 3, 4), (11840699188806025751, 3, 5)]\n",
            "matches: [(11840699188806025751, 3, 4), (11840699188806025751, 3, 5)]\n",
            "matches: [(11840699188806025751, 0, 1), (11840699188806025751, 5, 6), (11840699188806025751, 5, 7)]\n",
            "matches: [(11840699188806025751, 5, 6), (11840699188806025751, 5, 7), (11840699188806025751, 5, 8)]\n",
            "matches: [(11840699188806025751, 2, 3)]\n",
            "matches: [(11840699188806025751, 8, 9)]\n",
            "matches: [(11840699188806025751, 0, 1), (11840699188806025751, 5, 6)]\n",
            "matches: [(11840699188806025751, 1, 2)]\n",
            "matches: [(11840699188806025751, 1, 2), (11840699188806025751, 1, 3)]\n",
            "matches: [(11840699188806025751, 3, 4), (11840699188806025751, 3, 5)]\n",
            "matches: [(11840699188806025751, 6, 7)]\n",
            "matches: [(11840699188806025751, 4, 5), (11840699188806025751, 4, 6)]\n"
          ],
          "name": "stdout"
        },
        {
          "output_type": "stream",
          "text": [
            " 91%|█████████ | 3929/4318 [00:45<00:04, 89.38it/s]"
          ],
          "name": "stderr"
        },
        {
          "output_type": "stream",
          "text": [
            "matches: [(11840699188806025751, 1, 2)]\n",
            "matches: [(11840699188806025751, 4, 5)]\n",
            "matches: [(11840699188806025751, 1, 2), (11840699188806025751, 1, 3)]\n",
            "matches: [(11840699188806025751, 3, 4)]\n",
            "matches: [(11840699188806025751, 0, 1), (11840699188806025751, 5, 6)]\n",
            "matches: [(11840699188806025751, 7, 8), (11840699188806025751, 7, 9)]\n",
            "matches: [(11840699188806025751, 4, 5), (11840699188806025751, 4, 6)]\n",
            "matches: [(11840699188806025751, 1, 2)]\n",
            "matches: [(11840699188806025751, 3, 4), (11840699188806025751, 3, 5)]\n",
            "matches: [(11840699188806025751, 2, 3), (11840699188806025751, 2, 4), (11840699188806025751, 2, 5)]\n",
            "matches: [(11840699188806025751, 5, 6)]\n",
            "matches: [(11840699188806025751, 4, 5), (11840699188806025751, 4, 6)]\n",
            "matches: [(11840699188806025751, 3, 4)]\n",
            "matches: [(11840699188806025751, 2, 3)]\n",
            "matches: [(11840699188806025751, 2, 3)]\n",
            "matches: [(11840699188806025751, 1, 2)]\n",
            "matches: [(11840699188806025751, 4, 5), (11840699188806025751, 4, 6)]\n",
            "matches: [(11840699188806025751, 3, 4), (11840699188806025751, 3, 5)]\n",
            "matches: [(11840699188806025751, 3, 4), (11840699188806025751, 3, 5)]\n"
          ],
          "name": "stdout"
        },
        {
          "output_type": "stream",
          "text": [
            " 91%|█████████▏| 3949/4318 [00:45<00:04, 90.05it/s]"
          ],
          "name": "stderr"
        },
        {
          "output_type": "stream",
          "text": [
            "matches: [(11840699188806025751, 0, 1), (11840699188806025751, 5, 6), (11840699188806025751, 5, 7)]\n",
            "matches: [(11840699188806025751, 5, 6), (11840699188806025751, 5, 7), (11840699188806025751, 5, 8)]\n",
            "matches: [(11840699188806025751, 2, 3)]\n",
            "matches: [(11840699188806025751, 8, 9)]\n",
            "matches: [(11840699188806025751, 0, 1), (11840699188806025751, 5, 6)]\n",
            "matches: [(11840699188806025751, 1, 2)]\n",
            "matches: [(11840699188806025751, 1, 2), (11840699188806025751, 1, 3)]\n",
            "matches: [(11840699188806025751, 3, 4), (11840699188806025751, 3, 5)]\n",
            "matches: [(11840699188806025751, 6, 7)]\n",
            "matches: [(11840699188806025751, 4, 5), (11840699188806025751, 4, 6)]\n",
            "matches: [(11840699188806025751, 1, 2)]\n",
            "matches: [(11840699188806025751, 4, 5)]\n",
            "matches: [(11840699188806025751, 1, 2), (11840699188806025751, 1, 3)]\n",
            "matches: [(11840699188806025751, 3, 4)]\n",
            "matches: [(11840699188806025751, 2, 3)]\n",
            "matches: [(11840699188806025751, 2, 3)]\n",
            "matches: [(11840699188806025751, 2, 3)]\n",
            "matches: [(11840699188806025751, 7, 8), (11840699188806025751, 7, 9)]\n"
          ],
          "name": "stdout"
        },
        {
          "output_type": "stream",
          "text": [
            " 92%|█████████▏| 3969/4318 [00:45<00:03, 89.17it/s]"
          ],
          "name": "stderr"
        },
        {
          "output_type": "stream",
          "text": [
            "matches: [(11840699188806025751, 3, 4)]\n",
            "matches: [(11840699188806025751, 4, 5), (11840699188806025751, 4, 6), (11840699188806025751, 4, 7)]\n",
            "matches: [(11840699188806025751, 3, 4), (11840699188806025751, 3, 5)]\n",
            "matches: [(11840699188806025751, 1, 2)]\n",
            "matches: [(11840699188806025751, 4, 5)]\n",
            "matches: [(11840699188806025751, 9, 10)]\n",
            "matches: [(11840699188806025751, 4, 5), (11840699188806025751, 4, 6)]\n",
            "matches: [(11840699188806025751, 2, 3)]\n",
            "matches: [(11840699188806025751, 1, 2)]\n",
            "matches: [(11840699188806025751, 5, 6)]\n",
            "matches: [(11840699188806025751, 9, 10)]\n",
            "matches: [(11840699188806025751, 2, 3), (11840699188806025751, 2, 4)]\n",
            "matches: [(11840699188806025751, 12, 13)]\n",
            "matches: [(11840699188806025751, 1, 2), (11840699188806025751, 1, 3)]\n",
            "matches: [(11840699188806025751, 13, 14)]\n",
            "matches: [(11840699188806025751, 3, 4)]\n",
            "matches: [(11840699188806025751, 2, 3)]\n",
            "matches: [(11840699188806025751, 1, 2)]\n",
            "matches: [(11840699188806025751, 0, 1)]\n"
          ],
          "name": "stdout"
        },
        {
          "output_type": "stream",
          "text": [
            " 92%|█████████▏| 3987/4318 [00:45<00:03, 87.20it/s]"
          ],
          "name": "stderr"
        },
        {
          "output_type": "stream",
          "text": [
            "matches: [(11840699188806025751, 2, 3)]\n",
            "matches: [(11840699188806025751, 1, 2)]\n",
            "matches: [(11840699188806025751, 4, 5), (11840699188806025751, 4, 6)]\n",
            "matches: [(11840699188806025751, 6, 7)]\n",
            "matches: [(11840699188806025751, 3, 4), (11840699188806025751, 3, 5)]\n",
            "matches: [(11840699188806025751, 1, 2)]\n",
            "matches: [(11840699188806025751, 4, 5), (11840699188806025751, 13, 14), (11840699188806025751, 13, 15)]\n",
            "matches: [(11840699188806025751, 3, 4), (11840699188806025751, 3, 5)]\n",
            "matches: [(11840699188806025751, 11, 12), (11840699188806025751, 11, 13)]\n",
            "matches: [(11840699188806025751, 2, 3)]\n",
            "matches: [(11840699188806025751, 5, 6)]\n",
            "matches: [(11840699188806025751, 1, 2)]\n",
            "matches: [(11840699188806025751, 2, 3)]\n",
            "matches: [(11840699188806025751, 3, 4), (11840699188806025751, 3, 5)]\n",
            "matches: [(11840699188806025751, 5, 6)]\n",
            "matches: [(11840699188806025751, 2, 3)]\n",
            "matches: [(11840699188806025751, 2, 3)]\n",
            "matches: [(11840699188806025751, 1, 2)]\n"
          ],
          "name": "stdout"
        },
        {
          "output_type": "stream",
          "text": [
            " 93%|█████████▎| 4005/4318 [00:46<00:03, 86.70it/s]"
          ],
          "name": "stderr"
        },
        {
          "output_type": "stream",
          "text": [
            "matches: [(11840699188806025751, 3, 4)]\n",
            "matches: [(11840699188806025751, 3, 4)]\n",
            "matches: [(11840699188806025751, 3, 4), (11840699188806025751, 3, 5)]\n",
            "matches: [(11840699188806025751, 1, 2)]\n",
            "matches: [(11840699188806025751, 1, 2), (11840699188806025751, 1, 3)]\n",
            "matches: [(11840699188806025751, 2, 3)]\n",
            "matches: [(11840699188806025751, 1, 2)]\n",
            "matches: [(11840699188806025751, 3, 4)]\n",
            "matches: [(11840699188806025751, 2, 3), (11840699188806025751, 2, 4)]\n",
            "matches: [(11840699188806025751, 2, 3)]\n",
            "matches: [(11840699188806025751, 2, 3)]\n",
            "matches: [(11840699188806025751, 1, 2), (11840699188806025751, 1, 3)]\n",
            "matches: [(11840699188806025751, 3, 4)]\n",
            "matches: [(11840699188806025751, 4, 5)]\n",
            "matches: [(11840699188806025751, 2, 3)]\n",
            "matches: [(11840699188806025751, 6, 7)]\n",
            "matches: [(11840699188806025751, 1, 2)]\n",
            "matches: [(11840699188806025751, 4, 5), (11840699188806025751, 4, 6)]\n"
          ],
          "name": "stdout"
        },
        {
          "output_type": "stream",
          "text": [
            " 93%|█████████▎| 4024/4318 [00:46<00:03, 87.60it/s]"
          ],
          "name": "stderr"
        },
        {
          "output_type": "stream",
          "text": [
            "matches: [(11840699188806025751, 2, 3)]\n",
            "matches: [(11840699188806025751, 0, 1)]\n",
            "matches: [(11840699188806025751, 1, 2)]\n",
            "matches: [(11840699188806025751, 9, 10)]\n",
            "matches: [(11840699188806025751, 5, 6)]\n",
            "matches: [(11840699188806025751, 3, 4), (11840699188806025751, 3, 5)]\n",
            "matches: [(11840699188806025751, 2, 3)]\n",
            "matches: [(11840699188806025751, 4, 5), (11840699188806025751, 4, 6)]\n",
            "matches: [(11840699188806025751, 5, 6), (11840699188806025751, 5, 7)]\n",
            "matches: [(11840699188806025751, 4, 5), (11840699188806025751, 4, 6)]\n",
            "matches: [(11840699188806025751, 1, 2)]\n",
            "matches: [(11840699188806025751, 1, 2)]\n",
            "matches: [(11840699188806025751, 3, 4)]\n",
            "matches: [(11840699188806025751, 12, 13)]\n",
            "matches: [(11840699188806025751, 1, 2)]\n",
            "matches: [(11840699188806025751, 5, 6), (11840699188806025751, 5, 7)]\n",
            "matches: [(11840699188806025751, 10, 11)]\n",
            "matches: [(11840699188806025751, 2, 3), (11840699188806025751, 2, 4)]\n",
            "matches: [(11840699188806025751, 3, 4)]\n"
          ],
          "name": "stdout"
        },
        {
          "output_type": "stream",
          "text": [
            " 94%|█████████▎| 4043/4318 [00:46<00:03, 88.52it/s]"
          ],
          "name": "stderr"
        },
        {
          "output_type": "stream",
          "text": [
            "matches: [(11840699188806025751, 4, 5), (11840699188806025751, 4, 6)]\n",
            "matches: [(11840699188806025751, 3, 4)]\n",
            "matches: [(11840699188806025751, 1, 2)]\n",
            "matches: [(11840699188806025751, 6, 7)]\n",
            "matches: [(11840699188806025751, 6, 7)]\n",
            "matches: [(11840699188806025751, 3, 4), (11840699188806025751, 3, 5)]\n",
            "matches: [(11840699188806025751, 3, 4), (11840699188806025751, 3, 5)]\n",
            "matches: [(11840699188806025751, 7, 8), (11840699188806025751, 7, 9)]\n",
            "matches: [(11840699188806025751, 1, 2)]\n",
            "matches: [(11840699188806025751, 5, 6)]\n",
            "matches: [(11840699188806025751, 6, 7), (11840699188806025751, 6, 8)]\n",
            "matches: [(11840699188806025751, 0, 1), (11840699188806025751, 0, 2)]\n",
            "matches: [(11840699188806025751, 2, 3)]\n",
            "matches: [(11840699188806025751, 6, 7)]\n",
            "matches: [(11840699188806025751, 3, 4), (11840699188806025751, 3, 5)]\n",
            "matches: [(11840699188806025751, 3, 4), (11840699188806025751, 3, 5)]\n",
            "matches: [(11840699188806025751, 7, 8), (11840699188806025751, 7, 9)]\n",
            "matches: [(11840699188806025751, 1, 2)]\n",
            "matches: [(11840699188806025751, 5, 6)]\n",
            "matches: [(11840699188806025751, 6, 7), (11840699188806025751, 6, 8)]\n"
          ],
          "name": "stdout"
        },
        {
          "output_type": "stream",
          "text": [
            " 94%|█████████▍| 4063/4318 [00:46<00:02, 90.08it/s]"
          ],
          "name": "stderr"
        },
        {
          "output_type": "stream",
          "text": [
            "matches: [(11840699188806025751, 0, 1), (11840699188806025751, 0, 2)]\n",
            "matches: [(11840699188806025751, 2, 3)]\n",
            "matches: [(11840699188806025751, 2, 3), (11840699188806025751, 2, 4)]\n",
            "matches: [(11840699188806025751, 3, 4)]\n",
            "matches: [(11840699188806025751, 1, 2)]\n",
            "matches: [(11840699188806025751, 6, 7), (11840699188806025751, 6, 8), (11840699188806025751, 6, 9)]\n",
            "matches: [(11840699188806025751, 1, 2)]\n",
            "matches: [(11840699188806025751, 0, 1), (11840699188806025751, 4, 5), (11840699188806025751, 4, 6)]\n",
            "matches: [(11840699188806025751, 3, 4), (11840699188806025751, 3, 5)]\n",
            "matches: [(11840699188806025751, 7, 8)]\n",
            "matches: [(11840699188806025751, 3, 4), (11840699188806025751, 3, 5)]\n",
            "matches: [(11840699188806025751, 4, 5)]\n",
            "matches: [(11840699188806025751, 1, 2)]\n",
            "matches: [(11840699188806025751, 1, 2), (11840699188806025751, 1, 3)]\n",
            "matches: [(11840699188806025751, 2, 3), (11840699188806025751, 2, 4)]\n",
            "matches: [(11840699188806025751, 2, 3)]\n",
            "matches: [(11840699188806025751, 4, 5), (11840699188806025751, 4, 6)]\n",
            "matches: [(11840699188806025751, 2, 3)]\n",
            "matches: [(11840699188806025751, 3, 4)]\n"
          ],
          "name": "stdout"
        },
        {
          "output_type": "stream",
          "text": [
            " 95%|█████████▍| 4083/4318 [00:46<00:02, 91.12it/s]"
          ],
          "name": "stderr"
        },
        {
          "output_type": "stream",
          "text": [
            "matches: [(11840699188806025751, 2, 3)]\n",
            "matches: [(11840699188806025751, 4, 5), (11840699188806025751, 4, 6)]\n",
            "matches: [(11840699188806025751, 4, 5), (11840699188806025751, 4, 6)]\n",
            "matches: [(11840699188806025751, 0, 1), (11840699188806025751, 4, 5), (11840699188806025751, 4, 6)]\n",
            "matches: [(11840699188806025751, 3, 4), (11840699188806025751, 3, 5)]\n",
            "matches: [(11840699188806025751, 7, 8)]\n",
            "matches: [(11840699188806025751, 3, 4), (11840699188806025751, 3, 5)]\n",
            "matches: [(11840699188806025751, 4, 5)]\n",
            "matches: [(11840699188806025751, 1, 2)]\n",
            "matches: [(11840699188806025751, 1, 2), (11840699188806025751, 1, 3)]\n",
            "matches: [(11840699188806025751, 2, 3), (11840699188806025751, 2, 4)]\n",
            "matches: [(11840699188806025751, 2, 3)]\n",
            "matches: [(11840699188806025751, 4, 5), (11840699188806025751, 4, 6)]\n",
            "matches: [(11840699188806025751, 2, 3)]\n",
            "matches: [(11840699188806025751, 3, 4)]\n",
            "matches: [(11840699188806025751, 2, 3)]\n",
            "matches: [(11840699188806025751, 4, 5), (11840699188806025751, 4, 6)]\n",
            "matches: [(11840699188806025751, 4, 5), (11840699188806025751, 4, 6)]\n",
            "matches: [(11840699188806025751, 1, 2)]\n"
          ],
          "name": "stdout"
        },
        {
          "output_type": "stream",
          "text": [
            " 95%|█████████▌| 4103/4318 [00:47<00:02, 87.67it/s]"
          ],
          "name": "stderr"
        },
        {
          "output_type": "stream",
          "text": [
            "matches: [(11840699188806025751, 1, 2), (11840699188806025751, 1, 3)]\n",
            "matches: [(11840699188806025751, 7, 8)]\n",
            "matches: [(11840699188806025751, 5, 6)]\n",
            "matches: [(11840699188806025751, 3, 4), (11840699188806025751, 3, 5)]\n",
            "matches: [(11840699188806025751, 1, 2), (11840699188806025751, 1, 3)]\n",
            "matches: [(11840699188806025751, 6, 7), (11840699188806025751, 6, 8)]\n",
            "matches: [(11840699188806025751, 1, 2)]\n",
            "matches: [(11840699188806025751, 3, 4), (11840699188806025751, 3, 5), (11840699188806025751, 3, 6)]\n",
            "matches: [(11840699188806025751, 1, 2)]\n",
            "matches: [(11840699188806025751, 5, 6), (11840699188806025751, 10, 11)]\n",
            "matches: [(11840699188806025751, 2, 3)]\n",
            "matches: [(11840699188806025751, 5, 6)]\n",
            "matches: [(11840699188806025751, 4, 5), (11840699188806025751, 4, 6)]\n",
            "matches: [(11840699188806025751, 1, 2)]\n",
            "matches: [(11840699188806025751, 2, 3), (11840699188806025751, 2, 4)]\n",
            "matches: [(11840699188806025751, 2, 3)]\n",
            "matches: [(11840699188806025751, 1, 2), (11840699188806025751, 1, 3)]\n",
            "matches: [(11840699188806025751, 2, 3)]\n"
          ],
          "name": "stdout"
        },
        {
          "output_type": "stream",
          "text": [
            " 95%|█████████▌| 4121/4318 [00:47<00:02, 86.70it/s]"
          ],
          "name": "stderr"
        },
        {
          "output_type": "stream",
          "text": [
            "matches: [(11840699188806025751, 8, 9)]\n",
            "matches: [(11840699188806025751, 7, 8)]\n",
            "matches: [(11840699188806025751, 3, 4), (11840699188806025751, 3, 5)]\n",
            "matches: [(11840699188806025751, 1, 2)]\n",
            "matches: [(11840699188806025751, 7, 8)]\n",
            "matches: [(11840699188806025751, 3, 4)]\n",
            "matches: [(11840699188806025751, 2, 3), (11840699188806025751, 2, 4), (11840699188806025751, 2, 5)]\n",
            "matches: [(11840699188806025751, 2, 3), (11840699188806025751, 2, 4)]\n",
            "matches: [(11840699188806025751, 5, 6), (11840699188806025751, 5, 7)]\n",
            "matches: [(11840699188806025751, 3, 4), (11840699188806025751, 3, 5)]\n",
            "matches: [(11840699188806025751, 1, 2)]\n",
            "matches: [(11840699188806025751, 2, 3)]\n",
            "matches: [(11840699188806025751, 7, 8), (11840699188806025751, 7, 9)]\n",
            "matches: [(11840699188806025751, 2, 3), (11840699188806025751, 2, 4)]\n",
            "matches: [(11840699188806025751, 2, 3), (11840699188806025751, 2, 4), (11840699188806025751, 2, 5)]\n",
            "matches: [(11840699188806025751, 1, 2), (11840699188806025751, 1, 3)]\n",
            "matches: [(11840699188806025751, 4, 5), (11840699188806025751, 4, 6)]\n",
            "matches: [(11840699188806025751, 2, 3)]\n"
          ],
          "name": "stdout"
        },
        {
          "output_type": "stream",
          "text": [
            " 96%|█████████▌| 4140/4318 [00:47<00:02, 88.64it/s]"
          ],
          "name": "stderr"
        },
        {
          "output_type": "stream",
          "text": [
            "matches: [(11840699188806025751, 9, 10), (11840699188806025751, 9, 11)]\n",
            "matches: [(11840699188806025751, 4, 5), (11840699188806025751, 4, 6)]\n",
            "matches: [(11840699188806025751, 2, 3)]\n",
            "matches: [(11840699188806025751, 3, 4), (11840699188806025751, 3, 5)]\n",
            "matches: [(11840699188806025751, 2, 3)]\n",
            "matches: [(11840699188806025751, 5, 6), (11840699188806025751, 5, 7)]\n",
            "matches: [(11840699188806025751, 5, 6)]\n",
            "matches: [(11840699188806025751, 4, 5)]\n",
            "matches: [(11840699188806025751, 4, 5), (11840699188806025751, 4, 6)]\n",
            "matches: [(11840699188806025751, 2, 3)]\n",
            "matches: [(11840699188806025751, 5, 6), (11840699188806025751, 5, 7)]\n",
            "matches: [(11840699188806025751, 5, 6)]\n",
            "matches: [(11840699188806025751, 4, 5)]\n",
            "matches: [(11840699188806025751, 4, 5), (11840699188806025751, 4, 6)]\n",
            "matches: [(11840699188806025751, 2, 3)]\n",
            "matches: [(11840699188806025751, 1, 2)]\n",
            "matches: [(11840699188806025751, 3, 4), (11840699188806025751, 3, 5)]\n",
            "matches: [(11840699188806025751, 10, 11), (11840699188806025751, 10, 12)]\n",
            "matches: [(11840699188806025751, 2, 3)]\n"
          ],
          "name": "stdout"
        },
        {
          "output_type": "stream",
          "text": [
            " 96%|█████████▋| 4159/4318 [00:47<00:01, 89.67it/s]"
          ],
          "name": "stderr"
        },
        {
          "output_type": "stream",
          "text": [
            "matches: [(11840699188806025751, 1, 2)]\n",
            "matches: [(11840699188806025751, 5, 6), (11840699188806025751, 5, 7)]\n",
            "matches: [(11840699188806025751, 8, 9), (11840699188806025751, 8, 10)]\n",
            "matches: [(11840699188806025751, 4, 5), (11840699188806025751, 4, 6)]\n",
            "matches: [(11840699188806025751, 2, 3)]\n",
            "matches: [(11840699188806025751, 3, 4)]\n",
            "matches: [(11840699188806025751, 3, 4), (11840699188806025751, 3, 5)]\n",
            "matches: [(11840699188806025751, 8, 9), (11840699188806025751, 8, 10)]\n",
            "matches: [(11840699188806025751, 1, 2), (11840699188806025751, 1, 3)]\n",
            "matches: [(11840699188806025751, 2, 3)]\n",
            "matches: [(11840699188806025751, 3, 4)]\n",
            "matches: [(11840699188806025751, 2, 3), (11840699188806025751, 2, 4), (11840699188806025751, 2, 5)]\n",
            "matches: [(11840699188806025751, 16, 17), (11840699188806025751, 16, 18)]\n",
            "matches: [(11840699188806025751, 3, 4), (11840699188806025751, 3, 5)]\n",
            "matches: [(11840699188806025751, 5, 6), (11840699188806025751, 5, 7)]\n",
            "matches: [(11840699188806025751, 1, 2)]\n",
            "matches: [(11840699188806025751, 1, 2)]\n",
            "matches: [(11840699188806025751, 1, 2), (11840699188806025751, 1, 3)]\n",
            "matches: [(11840699188806025751, 3, 4), (11840699188806025751, 3, 5)]\n"
          ],
          "name": "stdout"
        },
        {
          "output_type": "stream",
          "text": [
            " 97%|█████████▋| 4179/4318 [00:48<00:01, 91.18it/s]"
          ],
          "name": "stderr"
        },
        {
          "output_type": "stream",
          "text": [
            "matches: [(11840699188806025751, 2, 3)]\n",
            "matches: [(11840699188806025751, 2, 3)]\n",
            "matches: [(11840699188806025751, 2, 3)]\n",
            "matches: [(11840699188806025751, 1, 2)]\n",
            "matches: [(11840699188806025751, 2, 3)]\n",
            "matches: [(11840699188806025751, 1, 2)]\n",
            "matches: [(11840699188806025751, 5, 6)]\n",
            "matches: [(11840699188806025751, 3, 4)]\n",
            "matches: [(11840699188806025751, 2, 3)]\n",
            "matches: [(11840699188806025751, 3, 4), (11840699188806025751, 3, 5)]\n",
            "matches: [(11840699188806025751, 3, 4)]\n",
            "matches: [(11840699188806025751, 7, 8)]\n",
            "matches: [(11840699188806025751, 1, 2)]\n",
            "matches: [(11840699188806025751, 5, 6), (11840699188806025751, 5, 7)]\n",
            "matches: [(11840699188806025751, 3, 4)]\n",
            "matches: [(11840699188806025751, 3, 4)]\n",
            "matches: [(11840699188806025751, 1, 2), (11840699188806025751, 7, 8), (11840699188806025751, 7, 9)]\n",
            "matches: [(11840699188806025751, 3, 4), (11840699188806025751, 3, 5)]\n",
            "matches: [(11840699188806025751, 8, 9), (11840699188806025751, 8, 10)]\n",
            "matches: [(11840699188806025751, 1, 2), (11840699188806025751, 1, 3)]\n"
          ],
          "name": "stdout"
        },
        {
          "output_type": "stream",
          "text": [
            "\r 97%|█████████▋| 4189/4318 [00:48<00:01, 89.67it/s]"
          ],
          "name": "stderr"
        },
        {
          "output_type": "stream",
          "text": [
            "matches: [(11840699188806025751, 2, 3)]\n",
            "matches: [(11840699188806025751, 3, 4)]\n",
            "matches: [(11840699188806025751, 2, 3), (11840699188806025751, 2, 4), (11840699188806025751, 2, 5)]\n",
            "matches: [(11840699188806025751, 16, 17), (11840699188806025751, 16, 18)]\n",
            "matches: [(11840699188806025751, 3, 4), (11840699188806025751, 3, 5)]\n",
            "matches: [(11840699188806025751, 5, 6), (11840699188806025751, 5, 7)]\n",
            "matches: [(11840699188806025751, 1, 2)]\n",
            "matches: [(11840699188806025751, 1, 2)]\n",
            "matches: [(11840699188806025751, 1, 2), (11840699188806025751, 1, 3)]\n",
            "matches: [(11840699188806025751, 3, 4), (11840699188806025751, 3, 5)]\n",
            "matches: [(11840699188806025751, 2, 3)]\n",
            "matches: [(11840699188806025751, 2, 3)]\n",
            "matches: [(11840699188806025751, 2, 3)]\n",
            "matches: [(11840699188806025751, 1, 2)]\n",
            "matches: [(11840699188806025751, 2, 3)]\n",
            "matches: [(11840699188806025751, 1, 2)]\n",
            "matches: [(11840699188806025751, 5, 6)]\n",
            "matches: [(11840699188806025751, 3, 4)]\n",
            "matches: [(11840699188806025751, 2, 3)]\n"
          ],
          "name": "stdout"
        },
        {
          "output_type": "stream",
          "text": [
            " 97%|█████████▋| 4209/4318 [00:48<00:01, 91.52it/s]"
          ],
          "name": "stderr"
        },
        {
          "output_type": "stream",
          "text": [
            "matches: [(11840699188806025751, 3, 4), (11840699188806025751, 3, 5)]\n",
            "matches: [(11840699188806025751, 3, 4)]\n",
            "matches: [(11840699188806025751, 7, 8)]\n",
            "matches: [(11840699188806025751, 1, 2)]\n",
            "matches: [(11840699188806025751, 5, 6), (11840699188806025751, 5, 7)]\n",
            "matches: [(11840699188806025751, 3, 4)]\n",
            "matches: [(11840699188806025751, 3, 4)]\n",
            "matches: [(11840699188806025751, 1, 2), (11840699188806025751, 7, 8), (11840699188806025751, 7, 9)]\n",
            "matches: [(11840699188806025751, 2, 3)]\n",
            "matches: [(11840699188806025751, 1, 2)]\n",
            "matches: [(11840699188806025751, 5, 6), (11840699188806025751, 5, 7)]\n",
            "matches: [(11840699188806025751, 2, 3)]\n",
            "matches: [(11840699188806025751, 5, 6), (11840699188806025751, 5, 7)]\n",
            "matches: [(11840699188806025751, 2, 3), (11840699188806025751, 2, 4)]\n",
            "matches: [(11840699188806025751, 4, 5), (11840699188806025751, 4, 6)]\n",
            "matches: [(11840699188806025751, 3, 4), (11840699188806025751, 3, 5)]\n",
            "matches: [(11840699188806025751, 3, 4)]\n",
            "matches: [(11840699188806025751, 2, 3)]\n"
          ],
          "name": "stdout"
        },
        {
          "output_type": "stream",
          "text": [
            " 98%|█████████▊| 4229/4318 [00:48<00:00, 90.15it/s]"
          ],
          "name": "stderr"
        },
        {
          "output_type": "stream",
          "text": [
            "matches: [(11840699188806025751, 2, 3), (11840699188806025751, 2, 4)]\n",
            "matches: [(11840699188806025751, 4, 5), (11840699188806025751, 4, 6)]\n",
            "matches: [(11840699188806025751, 5, 6), (11840699188806025751, 5, 7)]\n",
            "matches: [(11840699188806025751, 1, 2)]\n",
            "matches: [(11840699188806025751, 1, 2)]\n",
            "matches: [(11840699188806025751, 10, 11)]\n",
            "matches: [(11840699188806025751, 1, 2)]\n",
            "matches: [(11840699188806025751, 1, 2)]\n",
            "matches: [(11840699188806025751, 4, 5), (11840699188806025751, 4, 6), (11840699188806025751, 4, 7)]\n",
            "matches: [(11840699188806025751, 3, 4)]\n",
            "matches: [(11840699188806025751, 5, 6)]\n",
            "matches: [(11840699188806025751, 1, 2)]\n",
            "matches: [(11840699188806025751, 1, 2)]\n",
            "matches: [(11840699188806025751, 6, 7)]\n",
            "matches: [(11840699188806025751, 2, 3)]\n",
            "matches: [(11840699188806025751, 1, 2)]\n",
            "matches: [(11840699188806025751, 3, 4)]\n",
            "matches: [(11840699188806025751, 3, 4), (11840699188806025751, 3, 5)]\n",
            "matches: [(11840699188806025751, 9, 10)]\n"
          ],
          "name": "stdout"
        },
        {
          "output_type": "stream",
          "text": [
            " 98%|█████████▊| 4249/4318 [00:48<00:00, 90.62it/s]"
          ],
          "name": "stderr"
        },
        {
          "output_type": "stream",
          "text": [
            "matches: [(11840699188806025751, 1, 2), (11840699188806025751, 4, 5), (11840699188806025751, 4, 6)]\n",
            "matches: [(11840699188806025751, 3, 4), (11840699188806025751, 3, 5)]\n",
            "matches: [(11840699188806025751, 4, 5)]\n",
            "matches: [(11840699188806025751, 5, 6), (11840699188806025751, 5, 7)]\n",
            "matches: [(11840699188806025751, 2, 3), (11840699188806025751, 2, 4)]\n",
            "matches: [(11840699188806025751, 4, 5), (11840699188806025751, 4, 6)]\n",
            "matches: [(11840699188806025751, 11, 12), (11840699188806025751, 11, 13)]\n",
            "matches: [(11840699188806025751, 3, 4), (11840699188806025751, 3, 5)]\n",
            "matches: [(11840699188806025751, 2, 3)]\n",
            "matches: [(11840699188806025751, 14, 15)]\n",
            "matches: [(11840699188806025751, 2, 3)]\n",
            "matches: [(11840699188806025751, 2, 3), (11840699188806025751, 2, 4)]\n",
            "matches: [(11840699188806025751, 6, 7)]\n",
            "matches: [(11840699188806025751, 2, 3)]\n",
            "matches: [(11840699188806025751, 11, 12)]\n",
            "matches: [(11840699188806025751, 11, 12)]\n",
            "matches: [(11840699188806025751, 6, 7)]\n",
            "matches: [(11840699188806025751, 1, 2)]\n",
            "matches: [(11840699188806025751, 7, 8)]\n"
          ],
          "name": "stdout"
        },
        {
          "output_type": "stream",
          "text": [
            " 99%|█████████▉| 4269/4318 [00:49<00:00, 90.45it/s]"
          ],
          "name": "stderr"
        },
        {
          "output_type": "stream",
          "text": [
            "matches: [(11840699188806025751, 2, 3)]\n",
            "matches: [(11840699188806025751, 5, 6), (11840699188806025751, 5, 7), (11840699188806025751, 5, 8)]\n",
            "matches: [(11840699188806025751, 2, 3), (11840699188806025751, 2, 4)]\n",
            "matches: [(11840699188806025751, 1, 2)]\n",
            "matches: [(11840699188806025751, 15, 16)]\n",
            "matches: [(11840699188806025751, 3, 4)]\n",
            "matches: [(11840699188806025751, 3, 4)]\n",
            "matches: [(11840699188806025751, 1, 2)]\n",
            "matches: [(11840699188806025751, 3, 4)]\n",
            "matches: [(11840699188806025751, 2, 3)]\n",
            "matches: [(11840699188806025751, 6, 7), (11840699188806025751, 6, 8), (11840699188806025751, 6, 9)]\n",
            "matches: [(11840699188806025751, 5, 6)]\n",
            "matches: [(11840699188806025751, 12, 13), (11840699188806025751, 12, 14), (11840699188806025751, 12, 15)]\n",
            "matches: [(11840699188806025751, 2, 3)]\n",
            "matches: [(11840699188806025751, 3, 4)]\n",
            "matches: [(11840699188806025751, 3, 4)]\n",
            "matches: [(11840699188806025751, 2, 3)]\n",
            "matches: [(11840699188806025751, 3, 4), (11840699188806025751, 3, 5)]\n",
            "matches: [(11840699188806025751, 7, 8)]\n"
          ],
          "name": "stdout"
        },
        {
          "output_type": "stream",
          "text": [
            " 99%|█████████▉| 4288/4318 [00:49<00:00, 88.94it/s]"
          ],
          "name": "stderr"
        },
        {
          "output_type": "stream",
          "text": [
            "matches: [(11840699188806025751, 6, 7), (11840699188806025751, 6, 8)]\n",
            "matches: [(11840699188806025751, 1, 2)]\n",
            "matches: [(11840699188806025751, 2, 3)]\n",
            "matches: [(11840699188806025751, 1, 2)]\n",
            "matches: [(11840699188806025751, 4, 5)]\n",
            "matches: [(11840699188806025751, 3, 4)]\n",
            "matches: [(11840699188806025751, 9, 10)]\n",
            "matches: [(11840699188806025751, 2, 3)]\n",
            "matches: [(11840699188806025751, 1, 2)]\n",
            "matches: [(11840699188806025751, 1, 2)]\n",
            "matches: [(11840699188806025751, 8, 9), (11840699188806025751, 8, 10)]\n",
            "matches: [(11840699188806025751, 7, 8)]\n",
            "matches: [(11840699188806025751, 6, 7), (11840699188806025751, 6, 8)]\n",
            "matches: [(11840699188806025751, 1, 2)]\n",
            "matches: [(11840699188806025751, 1, 2)]\n",
            "matches: [(11840699188806025751, 3, 4)]\n",
            "matches: [(11840699188806025751, 2, 3), (11840699188806025751, 2, 4)]\n",
            "matches: [(11840699188806025751, 3, 4), (11840699188806025751, 3, 5), (11840699188806025751, 3, 6)]\n"
          ],
          "name": "stdout"
        },
        {
          "output_type": "stream",
          "text": [
            "100%|█████████▉| 4306/4318 [00:49<00:00, 87.78it/s]"
          ],
          "name": "stderr"
        },
        {
          "output_type": "stream",
          "text": [
            "matches: [(11840699188806025751, 6, 7)]\n",
            "matches: [(11840699188806025751, 3, 4), (11840699188806025751, 3, 5)]\n",
            "matches: [(11840699188806025751, 2, 3), (11840699188806025751, 2, 4)]\n",
            "matches: [(11840699188806025751, 4, 5)]\n",
            "matches: [(11840699188806025751, 3, 4), (11840699188806025751, 3, 5)]\n",
            "matches: [(11840699188806025751, 2, 3)]\n",
            "matches: [(11840699188806025751, 3, 4)]\n",
            "matches: [(11840699188806025751, 6, 7)]\n",
            "matches: [(11840699188806025751, 3, 4)]\n",
            "matches: [(11840699188806025751, 6, 7)]\n",
            "matches: [(11840699188806025751, 3, 4), (11840699188806025751, 3, 5)]\n",
            "matches: [(11840699188806025751, 3, 4)]\n",
            "matches: [(11840699188806025751, 4, 5)]\n",
            "matches: [(11840699188806025751, 1, 2)]\n",
            "matches: [(11840699188806025751, 10, 11)]\n",
            "matches: [(11840699188806025751, 3, 4), (11840699188806025751, 3, 5)]\n",
            "matches: [(11840699188806025751, 2, 3)]\n",
            "matches: [(11840699188806025751, 2, 3), (11840699188806025751, 2, 4)]\n",
            "matches: [(11840699188806025751, 5, 6), (11840699188806025751, 5, 7)]\n"
          ],
          "name": "stdout"
        },
        {
          "output_type": "stream",
          "text": [
            "100%|██████████| 4318/4318 [00:49<00:00, 86.98it/s]\n"
          ],
          "name": "stderr"
        },
        {
          "output_type": "stream",
          "text": [
            "matches: [(11840699188806025751, 1, 2)]\n",
            "matches: [(11840699188806025751, 2, 3)]\n",
            "matches: [(11840699188806025751, 2, 3), (11840699188806025751, 2, 4)]\n",
            "matches: [(11840699188806025751, 2, 3)]\n",
            "matches: [(11840699188806025751, 3, 4)]\n",
            "matches: [(11840699188806025751, 3, 4)]\n",
            "matches: [(11840699188806025751, 2, 3)]\n",
            "matches: [(11840699188806025751, 3, 4), (11840699188806025751, 3, 5)]\n"
          ],
          "name": "stdout"
        },
        {
          "output_type": "error",
          "ename": "AttributeError",
          "evalue": "ignored",
          "traceback": [
            "\u001b[0;31m---------------------------------------------------------------------------\u001b[0m",
            "\u001b[0;31mAttributeError\u001b[0m                            Traceback (most recent call last)",
            "\u001b[0;32m<ipython-input-9-449c8c3c8d92>\u001b[0m in \u001b[0;36m<module>\u001b[0;34m()\u001b[0m\n\u001b[1;32m    103\u001b[0m \u001b[0mpos\u001b[0m\u001b[0;34m=\u001b[0m\u001b[0mnx\u001b[0m\u001b[0;34m.\u001b[0m\u001b[0mspring_layout\u001b[0m\u001b[0;34m(\u001b[0m\u001b[0mG\u001b[0m\u001b[0;34m,\u001b[0m\u001b[0mk\u001b[0m\u001b[0;34m=\u001b[0m\u001b[0;36m0.5\u001b[0m\u001b[0;34m)\u001b[0m\u001b[0;34m\u001b[0m\u001b[0;34m\u001b[0m\u001b[0m\n\u001b[1;32m    104\u001b[0m \u001b[0mnx\u001b[0m\u001b[0;34m.\u001b[0m\u001b[0mdraw\u001b[0m\u001b[0;34m(\u001b[0m\u001b[0mG\u001b[0m\u001b[0;34m,\u001b[0m\u001b[0mwith_labels\u001b[0m\u001b[0;34m=\u001b[0m\u001b[0;32mTrue\u001b[0m\u001b[0;34m,\u001b[0m\u001b[0mnode_color\u001b[0m\u001b[0;34m=\u001b[0m\u001b[0;34m'skyblue'\u001b[0m\u001b[0;34m,\u001b[0m\u001b[0mnode_size\u001b[0m\u001b[0;34m=\u001b[0m\u001b[0;36m1500\u001b[0m\u001b[0;34m,\u001b[0m\u001b[0medge_cmap\u001b[0m\u001b[0;34m=\u001b[0m\u001b[0mplt\u001b[0m\u001b[0;34m.\u001b[0m\u001b[0mcm\u001b[0m\u001b[0;34m.\u001b[0m\u001b[0mBlues\u001b[0m\u001b[0;34m,\u001b[0m\u001b[0mpos\u001b[0m\u001b[0;34m=\u001b[0m\u001b[0mpos\u001b[0m\u001b[0;34m)\u001b[0m\u001b[0;34m\u001b[0m\u001b[0;34m\u001b[0m\u001b[0m\n\u001b[0;32m--> 105\u001b[0;31m \u001b[0mnx\u001b[0m\u001b[0;34m.\u001b[0m\u001b[0mdraw_networkx_edge_labels\u001b[0m\u001b[0;34m(\u001b[0m\u001b[0mG\u001b[0m\u001b[0;34m,\u001b[0m\u001b[0mpos\u001b[0m\u001b[0;34m,\u001b[0m\u001b[0medge_labels\u001b[0m\u001b[0;34m=\u001b[0m\u001b[0;34m\"written by\"\u001b[0m\u001b[0;34m)\u001b[0m\u001b[0;34m\u001b[0m\u001b[0;34m\u001b[0m\u001b[0m\n\u001b[0m\u001b[1;32m    106\u001b[0m \u001b[0mplt\u001b[0m\u001b[0;34m.\u001b[0m\u001b[0mshow\u001b[0m\u001b[0;34m(\u001b[0m\u001b[0;34m)\u001b[0m\u001b[0;34m\u001b[0m\u001b[0;34m\u001b[0m\u001b[0m\n\u001b[1;32m    107\u001b[0m \u001b[0;34m\u001b[0m\u001b[0m\n",
            "\u001b[0;32m/usr/local/lib/python3.6/dist-packages/networkx/drawing/nx_pylab.py\u001b[0m in \u001b[0;36mdraw_networkx_edge_labels\u001b[0;34m(G, pos, edge_labels, label_pos, font_size, font_color, font_family, font_weight, alpha, bbox, horizontalalignment, verticalalignment, ax, rotate)\u001b[0m\n\u001b[1;32m   1022\u001b[0m         \u001b[0mlabels\u001b[0m \u001b[0;34m=\u001b[0m \u001b[0medge_labels\u001b[0m\u001b[0;34m\u001b[0m\u001b[0;34m\u001b[0m\u001b[0m\n\u001b[1;32m   1023\u001b[0m     \u001b[0mtext_items\u001b[0m \u001b[0;34m=\u001b[0m \u001b[0;34m{\u001b[0m\u001b[0;34m}\u001b[0m\u001b[0;34m\u001b[0m\u001b[0;34m\u001b[0m\u001b[0m\n\u001b[0;32m-> 1024\u001b[0;31m     \u001b[0;32mfor\u001b[0m \u001b[0;34m(\u001b[0m\u001b[0mn1\u001b[0m\u001b[0;34m,\u001b[0m \u001b[0mn2\u001b[0m\u001b[0;34m)\u001b[0m\u001b[0;34m,\u001b[0m \u001b[0mlabel\u001b[0m \u001b[0;32min\u001b[0m \u001b[0mlabels\u001b[0m\u001b[0;34m.\u001b[0m\u001b[0mitems\u001b[0m\u001b[0;34m(\u001b[0m\u001b[0;34m)\u001b[0m\u001b[0;34m:\u001b[0m\u001b[0;34m\u001b[0m\u001b[0;34m\u001b[0m\u001b[0m\n\u001b[0m\u001b[1;32m   1025\u001b[0m         \u001b[0;34m(\u001b[0m\u001b[0mx1\u001b[0m\u001b[0;34m,\u001b[0m \u001b[0my1\u001b[0m\u001b[0;34m)\u001b[0m \u001b[0;34m=\u001b[0m \u001b[0mpos\u001b[0m\u001b[0;34m[\u001b[0m\u001b[0mn1\u001b[0m\u001b[0;34m]\u001b[0m\u001b[0;34m\u001b[0m\u001b[0;34m\u001b[0m\u001b[0m\n\u001b[1;32m   1026\u001b[0m         \u001b[0;34m(\u001b[0m\u001b[0mx2\u001b[0m\u001b[0;34m,\u001b[0m \u001b[0my2\u001b[0m\u001b[0;34m)\u001b[0m \u001b[0;34m=\u001b[0m \u001b[0mpos\u001b[0m\u001b[0;34m[\u001b[0m\u001b[0mn2\u001b[0m\u001b[0;34m]\u001b[0m\u001b[0;34m\u001b[0m\u001b[0;34m\u001b[0m\u001b[0m\n",
            "\u001b[0;31mAttributeError\u001b[0m: 'str' object has no attribute 'items'"
          ]
        },
        {
          "output_type": "display_data",
          "data": {
            "image/png": "[encoded data removed]",
            "text/plain": [
              "<Figure size 864x864 with 1 Axes>"
            ]
          },
          "metadata": {
            "tags": []
          }
        }
      ]
    }
  ]
}
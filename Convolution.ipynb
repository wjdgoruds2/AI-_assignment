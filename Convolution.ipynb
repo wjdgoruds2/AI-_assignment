{
  "nbformat": 4,
  "nbformat_minor": 0,
  "metadata": {
    "colab": {
      "name": "Untitled18.ipynb",
      "provenance": [],
      "authorship_tag": "ABX9TyPk0C5K8es+OtzXR1t7f8DI",
      "include_colab_link": true
    },
    "kernelspec": {
      "name": "python3",
      "display_name": "Python 3"
    }
  },
  "cells": [
    {
      "cell_type": "markdown",
      "metadata": {
        "id": "view-in-github",
        "colab_type": "text"
      },
      "source": [
        "<a href=\"https://colab.research.google.com/github/wjdgoruds2/AI-_assignment/blob/master/Convolution.ipynb\" target=\"_parent\"><img src=\"https://colab.research.google.com/assets/colab-badge.svg\" alt=\"Open In Colab\"/></a>"
      ]
    },
    {
      "cell_type": "code",
      "metadata": {
        "colab": {
          "base_uri": "https://localhost:8080/"
        },
        "id": "crsFYq2qpOqI",
        "outputId": "03838b1a-5dc2-4128-950c-c56e75f21a25"
      },
      "source": [
        "import numpy as np\n",
        "def Conv2D(X,W,w0,p=(0,0),s=(1,1)):\n",
        "  n1=X.shape[0]+2*p[0]\n",
        "  n2=X.shape[1]+2*p[1]\n",
        "  X_p=np.zeros(shape=(n1,n2))\n",
        "  X_p[p[0]:p[0]+X.shape[0],p[1]:p[1]+X.shape[1]]=X\n",
        "  res=[]\n",
        "  for i in range(0,int(X_p.shape[0]-W.shape[0]/s[0])+1,s[0]):\n",
        "    res.append([])\n",
        "    for j in range(0,int(X_p.shape[1]-W.shape[1]/s[1])+1,s[1]):\n",
        "      X_s=X_p[i:i+W.shape[0],j:j+W.shape[1]]\n",
        "      res[-1].append(np.sum(X_s*W)+w0)\n",
        "  return (np.array(res))\n",
        "\n",
        "X=np.array([[1,1,1,0,0],[0,1,1,1,0],[0,0,1,1,1],[0,0,1,1,0],[0,1,1,0,0]])\n",
        "W=np.array([[1,0,1],[0,1,0],[1,0,1]])\n",
        "w0=1\n",
        "\n",
        "conv=Conv2D(X,W,w0,p=(0,0),s=(1,1))\n",
        "print('X=',X)\n",
        "print('\\nW=',W)\n",
        "print('\\n컨볼루션 결과 p=(0,0),s=(1,1)\\n',conv)\n",
        "conv=Conv2D(X,W,w0,p=(1,1),s=(1,1))\n",
        "print('\\n컨볼루션 결과 p=(1,1),s=(1,1)\\n',conv)\n",
        "conv=Conv2D(X,W,w0,p=(1,1),s=(2,2))\n",
        "print('\\n컨볼루션 결과 p=(1,1),s=(2,2)\\n',conv)\n"
      ],
      "execution_count": 4,
      "outputs": [
        {
          "output_type": "stream",
          "text": [
            "X= [[1 1 1 0 0]\n",
            " [0 1 1 1 0]\n",
            " [0 0 1 1 1]\n",
            " [0 0 1 1 0]\n",
            " [0 1 1 0 0]]\n",
            "\n",
            "W= [[1 0 1]\n",
            " [0 1 0]\n",
            " [1 0 1]]\n",
            "\n",
            "컨볼루션 결과 p=(0,0),s=(1,1)\n",
            " [[5. 4. 5.]\n",
            " [3. 5. 4.]\n",
            " [3. 4. 5.]]\n",
            "\n",
            "컨볼루션 결과 p=(1,1),s=(1,1)\n",
            " [[3. 3. 4. 2. 2.]\n",
            " [2. 5. 4. 5. 2.]\n",
            " [2. 3. 5. 4. 4.]\n",
            " [2. 3. 4. 5. 2.]\n",
            " [1. 3. 3. 2. 2.]]\n",
            "\n",
            "컨볼루션 결과 p=(1,1),s=(2,2)\n",
            " [[3. 4. 2.]\n",
            " [2. 5. 4.]\n",
            " [1. 3. 2.]]\n"
          ],
          "name": "stdout"
        }
      ]
    },
    {
      "cell_type": "code",
      "metadata": {
        "id": "Na_FP-_9pbiR"
      },
      "source": [
        ""
      ],
      "execution_count": null,
      "outputs": []
    }
  ]
}
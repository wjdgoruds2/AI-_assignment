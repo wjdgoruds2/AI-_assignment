{
  "nbformat": 4,
  "nbformat_minor": 0,
  "metadata": {
    "colab": {
      "name": "Durable_rules_1.ipynb",
      "provenance": [],
      "authorship_tag": "ABX9TyMpEARbsAVTSKr6jZ0+nezu",
      "include_colab_link": true
    },
    "kernelspec": {
      "name": "python3",
      "display_name": "Python 3"
    }
  },
  "cells": [
    {
      "cell_type": "markdown",
      "metadata": {
        "id": "view-in-github",
        "colab_type": "text"
      },
      "source": [
        "<a href=\"https://colab.research.google.com/github/wjdgoruds2/AI-_assignment/blob/master/Durable_rules_3.ipynb\" target=\"_parent\"><img src=\"https://colab.research.google.com/assets/colab-badge.svg\" alt=\"Open In Colab\"/></a>"
      ]
    },
    {
      "cell_type": "code",
      "metadata": {
        "id": "gsbRuMpIuqyr",
        "colab_type": "code",
        "colab": {
          "base_uri": "https://localhost:8080/",
          "height": 70
        },
        "outputId": "89406456-e140-4b69-c52f-1df28199f251"
      },
      "source": [
        "!pip install durable_rules\n",
        "\n",
        "from durable.lang import *\n",
        "\n",
        "if _main_host is not None:\n",
        "    _main_host._ruleset_directory.clear()\n",
        "\n",
        "with ruleset('risk'):\n",
        "  @when_all(c.first << m.t=='purchase',c.second <<m.location !=c.first.location)\n",
        "  def fraud(c):\n",
        "    print('이상거래 탐지 =>{0},{1}'.format(c.first.location,c.second.location))\n",
        "post('risk',{'t':'purchase','location':'US'})\n",
        "post('risk',{'t':'purchase','location':'CA'})"
      ],
      "execution_count": 23,
      "outputs": [
        {
          "output_type": "stream",
          "text": [
            "Requirement already satisfied: durable_rules in /usr/local/lib/python3.6/dist-packages (2.0.28)\n",
            "이상거래 탐지 =>CA,US\n"
          ],
          "name": "stdout"
        },
        {
          "output_type": "execute_result",
          "data": {
            "text/plain": [
              "{'$s': 1, 'id': 'sid-0', 'sid': '0'}"
            ]
          },
          "metadata": {
            "tags": []
          },
          "execution_count": 23
        }
      ]
    }
  ]
}
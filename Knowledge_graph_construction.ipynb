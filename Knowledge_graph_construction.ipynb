{
  "nbformat": 4,
  "nbformat_minor": 0,
  "metadata": {
    "colab": {
      "name": "Knowledge graph construction.ipynb",
      "provenance": [],
      "collapsed_sections": [],
      "authorship_tag": "ABX9TyNd2vvM1LToITkkNXi9RV5v",
      "include_colab_link": true
    },
    "kernelspec": {
      "name": "python3",
      "display_name": "Python 3"
    }
  },
  "cells": [
    {
      "cell_type": "markdown",
      "metadata": {
        "id": "view-in-github",
        "colab_type": "text"
      },
      "source": [
        "<a href=\"https://colab.research.google.com/github/wjdgoruds2/AI-_assignment/blob/master/Knowledge_graph_construction.ipynb\" target=\"_parent\"><img src=\"https://colab.research.google.com/assets/colab-badge.svg\" alt=\"Open In Colab\"/></a>"
      ]
    },
    {
      "cell_type": "code",
      "metadata": {
        "id": "B85YJooJ9Cpw",
        "colab_type": "code",
        "colab": {
          "resources": {
            "http://localhost:8080/nbextensions/google.colab/files.js": {
              "data": "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",
              "ok": true,
              "headers": [
                [
                  "content-type",
                  "application/javascript"
                ]
              ],
              "status": 200,
              "status_text": ""
            }
          },
          "base_uri": "https://localhost:8080/",
          "height": 1000
        },
        "outputId": "ed4551c8-ee91-4f54-b483-2176472c89d1"
      },
      "source": [
        "!pip install spacy\n",
        "import re\n",
        "import pandas as pd\n",
        "import bs4\n",
        "import requests\n",
        "import spacy\n",
        "from spacy import displacy\n",
        "nlp=spacy.load('en_core_web_sm')\n",
        "\n",
        "from spacy.matcher import Matcher\n",
        "from spacy.tokens import Span\n",
        "\n",
        "import networkx as nx\n",
        "\n",
        "import matplotlib.pyplot as plt\n",
        "from tqdm import tqdm\n",
        "from google.colab import files\n",
        "myfile = files.upload()\n",
        "\n",
        "import io\n",
        "import pandas as pd\n",
        "\n",
        "pd.set_option('display.max_colwidth',200)\n",
        "%matplotlib inline\n",
        "\n",
        "\n",
        "\n",
        "candidate_sentences=pd.read_csv(io.BytesIO(myfile['wiki_sentences_v2.csv']))\n",
        "candidate_sentences.shape\n",
        "def get_entities(sent):\n",
        "\n",
        "  ent1=\"\"\n",
        "  ent2=\"\"\n",
        "  prv_tok_dep=\"\"\n",
        "  prv_tok_text=\"\"\n",
        "  prefix=\"\"\n",
        "  modifier=\"\"\n",
        "  for tok in nlp(sent):\n",
        "    if tok.dep_ !=\"punct\":\n",
        "      if tok.dep_==\"compound\":\n",
        "        prefix=tok.text\n",
        "        if prv_tok_dep==\"compound\":\n",
        "          prefix=prv_tok_text +\" \"+tok.text\n",
        "      if tok.dep_.endswith(\"mod\")==True:\n",
        "        modifier=tok.text\n",
        "        if prv_tok_dep ==\"compound\":\n",
        "          modifier=prv_tok_text+\" \"+tok.text\n",
        "\n",
        "      if tok.dep_.find(\"subj\")==True:\n",
        "        ent1=modifier+\" \"+prefix+\" \"+tok.text\n",
        "        prefix=\"\"\n",
        "        modifier=\"\"\n",
        "        prv_tok_dep=\"\"\n",
        "        prv_tok_text=\"\"\n",
        "      if tok.dep_.find(\"obj\")==True:\n",
        "        ent2=modifier+\" \"+prefix+\" \"+tok.text\n",
        "\n",
        "      prv_tok_dep=tok.dep_\n",
        "      prv_tok_text=tok.text\n",
        "  return [ent1.strip(),ent2.strip()]\n",
        "\n",
        "\n",
        "entity_pairs=[]\n",
        "for i in tqdm(candidate_sentences[\"sentence\"]):\n",
        " entity_pairs.append(get_entities(i))\n",
        "entity_pairs[10:20]\n",
        "\n",
        "\n",
        "def get_relation(sent):\n",
        "  doc=nlp(sent)\n",
        "  matcher=Matcher(nlp.vocab)\n",
        "\n",
        "  pattern=[{'DEP':'ROOT'},{'DEP':'prep','OP':\"?\"},{'DEP':'agent','OP':\"?\"},{'POS':'ADJ','OP':\"?\"}]\n",
        "\n",
        "  matcher.add(\"matching_1\",None,pattern)\n",
        "\n",
        "  matches=matcher(doc)\n",
        "  print('matches:',matches)\n",
        "  k=len(matches)-1\n",
        "\n",
        "  span=doc[matches[k][1]:matches[k][2]]\n",
        "\n",
        "  return(span.text)\n",
        "\n",
        "get_relation(\"Joan completed the task\")\n",
        "relations=[get_relation(i) for i in tqdm(candidate_sentences['sentence'])]\n",
        "source =[i[0] for i in entity_pairs]\n",
        "target=[i[1]for i in entity_pairs]\n",
        "\n",
        "kg_df=pd.DataFrame({'source':source,'target':target,'edge':relations})\n",
        "\n",
        "#G=nx.from_pandas_edgelist(kg_df,\"source\",\"target\",edge_attr=True,create_using=nx.MultiDiGraph())\n",
        "\n",
        "#plt.figure(figsize=(12,12))\n",
        "#pos=nx.spring_layout(G)\n",
        "#nx.draw(G, with_labels=True,node_color='skyblue',edge_cmap=plt.cm.Blues,pos=pos)\n",
        "#plt.show()\n",
        "\n",
        "\n",
        "G=nx.from_pandas_edgelist(kg_df[kg_df['edge']==\"written by\"],\"source\",\"target\",edge_attr=True,create_using=nx.MultiDiGraph())\n",
        "\n",
        "plt.figure(figsize=(12,12))\n",
        "pos=nx.spring_layout(G,k=0.5)\n",
        "nx.draw(G,with_labels=True,node_color='skyblue',node_size=1500,edge_cmap=plt.cm.Blues,pos=pos)\n",
        "nx.draw_networkx_edge_labels(G,pos,edge_labels=\"written by\")\n",
        "plt.show()\n",
        "\n",
        "\n",
        "#G=nx.from_pandas_edgelist(kg_df[kg_df['edge']==\"composed by\"],\"source\",\"target\",edge_attr=True,create_using=nx.MultiDiGraph())\n",
        "#plt.figure(figsize=(12,12))\n",
        "#pos=nx.spring_layout(G,k=0.5)\n",
        "#nx.draw(G,with_labels=True,node_color='skyblue',node_size=1500,edge_cmap=plt.cm.Blues,pos=pos)\n",
        "#plt.show()\n"
      ],
      "execution_count": 7,
      "outputs": [
        {
          "output_type": "stream",
          "text": [
            "Requirement already satisfied: spacy in /usr/local/lib/python3.6/dist-packages (2.2.4)\n",
            "Requirement already satisfied: thinc==7.4.0 in /usr/local/lib/python3.6/dist-packages (from spacy) (7.4.0)\n",
            "Requirement already satisfied: murmurhash<1.1.0,>=0.28.0 in /usr/local/lib/python3.6/dist-packages (from spacy) (1.0.2)\n",
            "Requirement already satisfied: blis<0.5.0,>=0.4.0 in /usr/local/lib/python3.6/dist-packages (from spacy) (0.4.1)\n",
            "Requirement already satisfied: requests<3.0.0,>=2.13.0 in /usr/local/lib/python3.6/dist-packages (from spacy) (2.23.0)\n",
            "Requirement already satisfied: setuptools in /usr/local/lib/python3.6/dist-packages (from spacy) (50.3.0)\n",
            "Requirement already satisfied: cymem<2.1.0,>=2.0.2 in /usr/local/lib/python3.6/dist-packages (from spacy) (2.0.3)\n",
            "Requirement already satisfied: numpy>=1.15.0 in /usr/local/lib/python3.6/dist-packages (from spacy) (1.18.5)\n",
            "Requirement already satisfied: srsly<1.1.0,>=1.0.2 in /usr/local/lib/python3.6/dist-packages (from spacy) (1.0.2)\n",
            "Requirement already satisfied: plac<1.2.0,>=0.9.6 in /usr/local/lib/python3.6/dist-packages (from spacy) (1.1.3)\n",
            "Requirement already satisfied: tqdm<5.0.0,>=4.38.0 in /usr/local/lib/python3.6/dist-packages (from spacy) (4.41.1)\n",
            "Requirement already satisfied: wasabi<1.1.0,>=0.4.0 in /usr/local/lib/python3.6/dist-packages (from spacy) (0.8.0)\n",
            "Requirement already satisfied: catalogue<1.1.0,>=0.0.7 in /usr/local/lib/python3.6/dist-packages (from spacy) (1.0.0)\n",
            "Requirement already satisfied: preshed<3.1.0,>=3.0.2 in /usr/local/lib/python3.6/dist-packages (from spacy) (3.0.2)\n",
            "Requirement already satisfied: idna<3,>=2.5 in /usr/local/lib/python3.6/dist-packages (from requests<3.0.0,>=2.13.0->spacy) (2.10)\n",
            "Requirement already satisfied: chardet<4,>=3.0.2 in /usr/local/lib/python3.6/dist-packages (from requests<3.0.0,>=2.13.0->spacy) (3.0.4)\n",
            "Requirement already satisfied: urllib3!=1.25.0,!=1.25.1,<1.26,>=1.21.1 in /usr/local/lib/python3.6/dist-packages (from requests<3.0.0,>=2.13.0->spacy) (1.24.3)\n",
            "Requirement already satisfied: certifi>=2017.4.17 in /usr/local/lib/python3.6/dist-packages (from requests<3.0.0,>=2.13.0->spacy) (2020.6.20)\n",
            "Requirement already satisfied: importlib-metadata>=0.20; python_version < \"3.8\" in /usr/local/lib/python3.6/dist-packages (from catalogue<1.1.0,>=0.0.7->spacy) (1.7.0)\n",
            "Requirement already satisfied: zipp>=0.5 in /usr/local/lib/python3.6/dist-packages (from importlib-metadata>=0.20; python_version < \"3.8\"->catalogue<1.1.0,>=0.0.7->spacy) (3.1.0)\n"
          ],
          "name": "stdout"
        },
        {
          "output_type": "display_data",
          "data": {
            "text/html": [
              "\n",
              "     <input type=\"file\" id=\"files-100b870c-38c2-46c3-a3b0-d8b994b4f30e\" name=\"files[]\" multiple disabled\n",
              "        style=\"border:none\" />\n",
              "     <output id=\"result-100b870c-38c2-46c3-a3b0-d8b994b4f30e\">\n",
              "      Upload widget is only available when the cell has been executed in the\n",
              "      current browser session. Please rerun this cell to enable.\n",
              "      </output>\n",
              "      <script src=\"/nbextensions/google.colab/files.js\"></script> "
            ],
            "text/plain": [
              "<IPython.core.display.HTML object>"
            ]
          },
          "metadata": {
            "tags": []
          }
        },
        {
          "output_type": "stream",
          "text": [
            "Saving wiki_sentences_v2.csv to wiki_sentences_v2 (6).csv\n"
          ],
          "name": "stdout"
        },
        {
          "output_type": "stream",
          "text": [
            "100%|██████████| 4318/4318 [00:45<00:00, 95.45it/s]\n",
            "  0%|          | 10/4318 [00:00<00:46, 92.95it/s]"
          ],
          "name": "stderr"
        },
        {
          "output_type": "stream",
          "text": [
            "matches: [(11840699188806025751, 1, 2)]\n",
            "matches: [(11840699188806025751, 5, 6)]\n",
            "matches: [(11840699188806025751, 7, 8), (11840699188806025751, 7, 9)]\n",
            "matches: [(11840699188806025751, 3, 4), (11840699188806025751, 3, 5)]\n",
            "matches: [(11840699188806025751, 3, 4), (11840699188806025751, 3, 5)]\n",
            "matches: [(11840699188806025751, 4, 5), (11840699188806025751, 4, 6)]\n",
            "matches: [(11840699188806025751, 1, 2)]\n",
            "matches: [(11840699188806025751, 6, 7)]\n",
            "matches: [(11840699188806025751, 9, 10)]\n",
            "matches: [(11840699188806025751, 9, 10), (11840699188806025751, 9, 11)]\n",
            "matches: [(11840699188806025751, 2, 3)]\n",
            "matches: [(11840699188806025751, 1, 2), (11840699188806025751, 1, 3)]\n",
            "matches: [(11840699188806025751, 4, 5)]\n",
            "matches: [(11840699188806025751, 4, 5)]\n",
            "matches: [(11840699188806025751, 1, 2)]\n",
            "matches: [(11840699188806025751, 1, 2)]\n",
            "matches: [(11840699188806025751, 2, 3)]\n",
            "matches: [(11840699188806025751, 1, 2)]\n",
            "matches: [(11840699188806025751, 3, 4), (11840699188806025751, 3, 5)]\n"
          ],
          "name": "stdout"
        },
        {
          "output_type": "stream",
          "text": [
            "  1%|          | 29/4318 [00:00<00:47, 90.81it/s]"
          ],
          "name": "stderr"
        },
        {
          "output_type": "stream",
          "text": [
            "matches: [(11840699188806025751, 2, 3)]\n",
            "matches: [(11840699188806025751, 3, 4)]\n",
            "matches: [(11840699188806025751, 2, 3)]\n",
            "matches: [(11840699188806025751, 6, 7), (11840699188806025751, 6, 8)]\n",
            "matches: [(11840699188806025751, 2, 3), (11840699188806025751, 2, 4)]\n",
            "matches: [(11840699188806025751, 2, 3), (11840699188806025751, 2, 4)]\n",
            "matches: [(11840699188806025751, 3, 4)]\n",
            "matches: [(11840699188806025751, 3, 4)]\n",
            "matches: [(11840699188806025751, 3, 4), (11840699188806025751, 3, 5)]\n",
            "matches: [(11840699188806025751, 1, 2)]\n",
            "matches: [(11840699188806025751, 4, 5)]\n",
            "matches: [(11840699188806025751, 2, 3), (11840699188806025751, 2, 4), (11840699188806025751, 2, 5)]\n",
            "matches: [(11840699188806025751, 2, 3), (11840699188806025751, 2, 4)]\n",
            "matches: [(11840699188806025751, 1, 2)]\n",
            "matches: [(11840699188806025751, 3, 4)]\n",
            "matches: [(11840699188806025751, 2, 3), (11840699188806025751, 2, 4)]\n",
            "matches: [(11840699188806025751, 10, 11), (11840699188806025751, 10, 12)]\n",
            "matches: [(11840699188806025751, 12, 13)]\n",
            "matches: [(11840699188806025751, 2, 3), (11840699188806025751, 2, 4)]\n"
          ],
          "name": "stdout"
        },
        {
          "output_type": "stream",
          "text": [
            "  1%|          | 49/4318 [00:00<00:46, 91.09it/s]"
          ],
          "name": "stderr"
        },
        {
          "output_type": "stream",
          "text": [
            "matches: [(11840699188806025751, 4, 5)]\n",
            "matches: [(11840699188806025751, 2, 3), (11840699188806025751, 2, 4)]\n",
            "matches: [(11840699188806025751, 2, 3)]\n",
            "matches: [(11840699188806025751, 2, 3)]\n",
            "matches: [(11840699188806025751, 6, 7)]\n",
            "matches: [(11840699188806025751, 4, 5), (11840699188806025751, 4, 6), (11840699188806025751, 4, 7)]\n",
            "matches: [(11840699188806025751, 2, 3)]\n",
            "matches: [(11840699188806025751, 4, 5)]\n",
            "matches: [(11840699188806025751, 3, 4), (11840699188806025751, 3, 5)]\n",
            "matches: [(11840699188806025751, 3, 4), (11840699188806025751, 3, 5)]\n",
            "matches: [(11840699188806025751, 4, 5), (11840699188806025751, 4, 6)]\n",
            "matches: [(11840699188806025751, 16, 17)]\n",
            "matches: [(11840699188806025751, 9, 10)]\n",
            "matches: [(11840699188806025751, 4, 5)]\n",
            "matches: [(11840699188806025751, 4, 5), (11840699188806025751, 4, 6)]\n",
            "matches: [(11840699188806025751, 3, 4)]\n",
            "matches: [(11840699188806025751, 5, 6), (11840699188806025751, 5, 7)]\n",
            "matches: [(11840699188806025751, 2, 3), (11840699188806025751, 2, 4)]\n",
            "matches: [(11840699188806025751, 1, 2)]\n"
          ],
          "name": "stdout"
        },
        {
          "output_type": "stream",
          "text": [
            "  2%|▏         | 67/4318 [00:00<00:48, 88.16it/s]"
          ],
          "name": "stderr"
        },
        {
          "output_type": "stream",
          "text": [
            "matches: [(11840699188806025751, 11, 12)]\n",
            "matches: [(11840699188806025751, 1, 2)]\n",
            "matches: [(11840699188806025751, 4, 5), (11840699188806025751, 4, 6), (11840699188806025751, 4, 7)]\n",
            "matches: [(11840699188806025751, 1, 2), (11840699188806025751, 5, 6)]\n",
            "matches: [(11840699188806025751, 1, 2)]\n",
            "matches: [(11840699188806025751, 1, 2), (11840699188806025751, 1, 3)]\n",
            "matches: [(11840699188806025751, 3, 4)]\n",
            "matches: [(11840699188806025751, 5, 6)]\n",
            "matches: [(11840699188806025751, 5, 6)]\n",
            "matches: [(11840699188806025751, 4, 5), (11840699188806025751, 4, 6)]\n",
            "matches: [(11840699188806025751, 3, 4), (11840699188806025751, 3, 5)]\n",
            "matches: [(11840699188806025751, 4, 5)]\n",
            "matches: [(11840699188806025751, 1, 2), (11840699188806025751, 1, 3)]\n",
            "matches: [(11840699188806025751, 3, 4)]\n",
            "matches: [(11840699188806025751, 4, 5), (11840699188806025751, 4, 6), (11840699188806025751, 4, 7)]\n",
            "matches: [(11840699188806025751, 6, 7), (11840699188806025751, 6, 8)]\n",
            "matches: [(11840699188806025751, 8, 9), (11840699188806025751, 8, 10)]\n"
          ],
          "name": "stdout"
        },
        {
          "output_type": "stream",
          "text": [
            "  2%|▏         | 85/4318 [00:00<00:50, 83.59it/s]"
          ],
          "name": "stderr"
        },
        {
          "output_type": "stream",
          "text": [
            "matches: [(11840699188806025751, 1, 2), (11840699188806025751, 1, 3)]\n",
            "matches: [(11840699188806025751, 4, 5)]\n",
            "matches: [(11840699188806025751, 4, 5), (11840699188806025751, 4, 6)]\n",
            "matches: [(11840699188806025751, 5, 6), (11840699188806025751, 5, 7)]\n",
            "matches: [(11840699188806025751, 1, 2)]\n",
            "matches: [(11840699188806025751, 3, 4)]\n",
            "matches: [(11840699188806025751, 2, 3), (11840699188806025751, 2, 4)]\n",
            "matches: [(11840699188806025751, 5, 6), (11840699188806025751, 5, 7)]\n",
            "matches: [(11840699188806025751, 4, 5)]\n",
            "matches: [(11840699188806025751, 4, 5)]\n",
            "matches: [(11840699188806025751, 10, 11)]\n",
            "matches: [(11840699188806025751, 2, 3)]\n",
            "matches: [(11840699188806025751, 3, 4)]\n",
            "matches: [(11840699188806025751, 3, 4)]\n",
            "matches: [(11840699188806025751, 1, 2)]\n",
            "matches: [(11840699188806025751, 3, 4)]\n",
            "matches: [(11840699188806025751, 1, 2)]\n"
          ],
          "name": "stdout"
        },
        {
          "output_type": "stream",
          "text": [
            "  2%|▏         | 104/4318 [00:01<00:48, 87.45it/s]"
          ],
          "name": "stderr"
        },
        {
          "output_type": "stream",
          "text": [
            "matches: [(11840699188806025751, 1, 2)]\n",
            "matches: [(11840699188806025751, 4, 5), (11840699188806025751, 4, 6)]\n",
            "matches: [(11840699188806025751, 7, 8), (11840699188806025751, 7, 9)]\n",
            "matches: [(11840699188806025751, 2, 3)]\n",
            "matches: [(11840699188806025751, 1, 2)]\n",
            "matches: [(11840699188806025751, 3, 4)]\n",
            "matches: [(11840699188806025751, 5, 6)]\n",
            "matches: [(11840699188806025751, 2, 3), (11840699188806025751, 2, 4)]\n",
            "matches: [(11840699188806025751, 2, 3), (11840699188806025751, 2, 4)]\n",
            "matches: [(11840699188806025751, 2, 3)]\n",
            "matches: [(11840699188806025751, 1, 2)]\n",
            "matches: [(11840699188806025751, 1, 2)]\n",
            "matches: [(11840699188806025751, 4, 5)]\n",
            "matches: [(11840699188806025751, 6, 7)]\n",
            "matches: [(11840699188806025751, 1, 2)]\n",
            "matches: [(11840699188806025751, 2, 3)]\n",
            "matches: [(11840699188806025751, 8, 9)]\n",
            "matches: [(11840699188806025751, 5, 6)]\n",
            "matches: [(11840699188806025751, 4, 5)]\n"
          ],
          "name": "stdout"
        },
        {
          "output_type": "stream",
          "text": [
            "  3%|▎         | 123/4318 [00:01<00:47, 88.17it/s]"
          ],
          "name": "stderr"
        },
        {
          "output_type": "stream",
          "text": [
            "matches: [(11840699188806025751, 2, 3)]\n",
            "matches: [(11840699188806025751, 1, 2)]\n",
            "matches: [(11840699188806025751, 5, 6), (11840699188806025751, 5, 7), (11840699188806025751, 5, 8)]\n",
            "matches: [(11840699188806025751, 4, 5)]\n",
            "matches: [(11840699188806025751, 8, 9)]\n",
            "matches: [(11840699188806025751, 2, 3), (11840699188806025751, 2, 4)]\n",
            "matches: [(11840699188806025751, 1, 2)]\n",
            "matches: [(11840699188806025751, 3, 4)]\n",
            "matches: [(11840699188806025751, 5, 6), (11840699188806025751, 5, 7)]\n",
            "matches: [(11840699188806025751, 3, 4)]\n",
            "matches: [(11840699188806025751, 3, 4)]\n",
            "matches: [(11840699188806025751, 2, 3), (11840699188806025751, 2, 4)]\n",
            "matches: [(11840699188806025751, 4, 5), (11840699188806025751, 4, 6)]\n",
            "matches: [(11840699188806025751, 7, 8)]\n",
            "matches: [(11840699188806025751, 3, 4)]\n",
            "matches: [(11840699188806025751, 5, 6)]\n",
            "matches: [(11840699188806025751, 1, 2)]\n",
            "matches: [(11840699188806025751, 1, 2)]\n",
            "matches: [(11840699188806025751, 1, 2)]\n"
          ],
          "name": "stdout"
        },
        {
          "output_type": "stream",
          "text": [
            "  3%|▎         | 143/4318 [00:01<00:46, 90.19it/s]"
          ],
          "name": "stderr"
        },
        {
          "output_type": "stream",
          "text": [
            "matches: [(11840699188806025751, 4, 5), (11840699188806025751, 4, 6)]\n",
            "matches: [(11840699188806025751, 2, 3)]\n",
            "matches: [(11840699188806025751, 5, 6), (11840699188806025751, 5, 7)]\n",
            "matches: [(11840699188806025751, 7, 8)]\n",
            "matches: [(11840699188806025751, 2, 3), (11840699188806025751, 2, 4)]\n",
            "matches: [(11840699188806025751, 4, 5), (11840699188806025751, 4, 6)]\n",
            "matches: [(11840699188806025751, 0, 1), (11840699188806025751, 0, 2)]\n",
            "matches: [(11840699188806025751, 3, 4)]\n",
            "matches: [(11840699188806025751, 2, 3), (11840699188806025751, 2, 4)]\n",
            "matches: [(11840699188806025751, 3, 4), (11840699188806025751, 3, 5)]\n",
            "matches: [(11840699188806025751, 5, 6), (11840699188806025751, 5, 7)]\n",
            "matches: [(11840699188806025751, 8, 9), (11840699188806025751, 8, 10)]\n",
            "matches: [(11840699188806025751, 4, 5), (11840699188806025751, 4, 6), (11840699188806025751, 4, 7)]\n",
            "matches: [(11840699188806025751, 8, 9), (11840699188806025751, 8, 10)]\n",
            "matches: [(11840699188806025751, 3, 4)]\n",
            "matches: [(11840699188806025751, 4, 5)]\n",
            "matches: [(11840699188806025751, 4, 5), (11840699188806025751, 4, 6)]\n",
            "matches: [(11840699188806025751, 3, 4)]\n",
            "matches: [(11840699188806025751, 11, 12)]\n"
          ],
          "name": "stdout"
        },
        {
          "output_type": "stream",
          "text": [
            "  4%|▍         | 162/4318 [00:01<00:46, 88.88it/s]"
          ],
          "name": "stderr"
        },
        {
          "output_type": "stream",
          "text": [
            "matches: [(11840699188806025751, 1, 2)]\n",
            "matches: [(11840699188806025751, 4, 5)]\n",
            "matches: [(11840699188806025751, 3, 4)]\n",
            "matches: [(11840699188806025751, 0, 1)]\n",
            "matches: [(11840699188806025751, 4, 5)]\n",
            "matches: [(11840699188806025751, 3, 4)]\n",
            "matches: [(11840699188806025751, 2, 3)]\n",
            "matches: [(11840699188806025751, 7, 8)]\n",
            "matches: [(11840699188806025751, 2, 3), (11840699188806025751, 2, 4)]\n",
            "matches: [(11840699188806025751, 4, 5), (11840699188806025751, 4, 6)]\n",
            "matches: [(11840699188806025751, 0, 1), (11840699188806025751, 0, 2)]\n",
            "matches: [(11840699188806025751, 3, 4)]\n",
            "matches: [(11840699188806025751, 2, 3), (11840699188806025751, 2, 4)]\n",
            "matches: [(11840699188806025751, 3, 4), (11840699188806025751, 3, 5)]\n",
            "matches: [(11840699188806025751, 5, 6), (11840699188806025751, 5, 7)]\n",
            "matches: [(11840699188806025751, 8, 9), (11840699188806025751, 8, 10)]\n",
            "matches: [(11840699188806025751, 4, 5), (11840699188806025751, 4, 6), (11840699188806025751, 4, 7)]\n",
            "matches: [(11840699188806025751, 8, 9), (11840699188806025751, 8, 10)]\n"
          ],
          "name": "stdout"
        },
        {
          "output_type": "stream",
          "text": [
            "  4%|▍         | 181/4318 [00:02<00:47, 87.65it/s]"
          ],
          "name": "stderr"
        },
        {
          "output_type": "stream",
          "text": [
            "matches: [(11840699188806025751, 3, 4)]\n",
            "matches: [(11840699188806025751, 4, 5)]\n",
            "matches: [(11840699188806025751, 4, 5), (11840699188806025751, 4, 6)]\n",
            "matches: [(11840699188806025751, 3, 4)]\n",
            "matches: [(11840699188806025751, 11, 12)]\n",
            "matches: [(11840699188806025751, 1, 2)]\n",
            "matches: [(11840699188806025751, 4, 5)]\n",
            "matches: [(11840699188806025751, 3, 4)]\n",
            "matches: [(11840699188806025751, 0, 1)]\n",
            "matches: [(11840699188806025751, 4, 5)]\n",
            "matches: [(11840699188806025751, 3, 4)]\n",
            "matches: [(11840699188806025751, 2, 3)]\n",
            "matches: [(11840699188806025751, 1, 2)]\n",
            "matches: [(11840699188806025751, 1, 2)]\n",
            "matches: [(11840699188806025751, 1, 2), (11840699188806025751, 1, 3)]\n",
            "matches: [(11840699188806025751, 1, 2)]\n",
            "matches: [(11840699188806025751, 2, 3)]\n",
            "matches: [(11840699188806025751, 1, 2), (11840699188806025751, 1, 3)]\n",
            "matches: [(11840699188806025751, 1, 2)]\n"
          ],
          "name": "stdout"
        },
        {
          "output_type": "stream",
          "text": [
            "  5%|▍         | 200/4318 [00:02<00:46, 88.22it/s]"
          ],
          "name": "stderr"
        },
        {
          "output_type": "stream",
          "text": [
            "matches: [(11840699188806025751, 3, 4), (11840699188806025751, 3, 5)]\n",
            "matches: [(11840699188806025751, 5, 6)]\n",
            "matches: [(11840699188806025751, 5, 6), (11840699188806025751, 5, 7)]\n",
            "matches: [(11840699188806025751, 1, 2)]\n",
            "matches: [(11840699188806025751, 2, 3)]\n",
            "matches: [(11840699188806025751, 1, 2)]\n",
            "matches: [(11840699188806025751, 1, 2), (11840699188806025751, 1, 3)]\n",
            "matches: [(11840699188806025751, 3, 4), (11840699188806025751, 3, 5)]\n",
            "matches: [(11840699188806025751, 2, 3)]\n",
            "matches: [(11840699188806025751, 1, 2)]\n",
            "matches: [(11840699188806025751, 1, 2)]\n",
            "matches: [(11840699188806025751, 2, 3), (11840699188806025751, 2, 4)]\n",
            "matches: [(11840699188806025751, 2, 3), (11840699188806025751, 2, 4)]\n",
            "matches: [(11840699188806025751, 2, 3)]\n",
            "matches: [(11840699188806025751, 3, 4), (11840699188806025751, 3, 5)]\n",
            "matches: [(11840699188806025751, 1, 2)]\n",
            "matches: [(11840699188806025751, 4, 5)]\n",
            "matches: [(11840699188806025751, 1, 2)]\n",
            "matches: [(11840699188806025751, 2, 3)]\n"
          ],
          "name": "stdout"
        },
        {
          "output_type": "stream",
          "text": [
            "  5%|▌         | 218/4318 [00:02<00:46, 88.24it/s]"
          ],
          "name": "stderr"
        },
        {
          "output_type": "stream",
          "text": [
            "matches: [(11840699188806025751, 2, 3)]\n",
            "matches: [(11840699188806025751, 3, 4)]\n",
            "matches: [(11840699188806025751, 4, 5), (11840699188806025751, 4, 6)]\n",
            "matches: [(11840699188806025751, 8, 9)]\n",
            "matches: [(11840699188806025751, 1, 2)]\n",
            "matches: [(11840699188806025751, 2, 3)]\n",
            "matches: [(11840699188806025751, 4, 5)]\n",
            "matches: [(11840699188806025751, 3, 4)]\n",
            "matches: [(11840699188806025751, 1, 2)]\n",
            "matches: [(11840699188806025751, 3, 4), (11840699188806025751, 3, 5)]\n",
            "matches: [(11840699188806025751, 1, 2)]\n",
            "matches: [(11840699188806025751, 1, 2)]\n",
            "matches: [(11840699188806025751, 1, 2)]\n",
            "matches: [(11840699188806025751, 2, 3)]\n",
            "matches: [(11840699188806025751, 3, 4)]\n",
            "matches: [(11840699188806025751, 7, 8)]\n",
            "matches: [(11840699188806025751, 3, 4)]\n",
            "matches: [(11840699188806025751, 1, 2), (11840699188806025751, 1, 3)]\n"
          ],
          "name": "stdout"
        },
        {
          "output_type": "stream",
          "text": [
            "  5%|▌         | 236/4318 [00:02<00:48, 84.03it/s]"
          ],
          "name": "stderr"
        },
        {
          "output_type": "stream",
          "text": [
            "matches: [(11840699188806025751, 4, 5)]\n",
            "matches: [(11840699188806025751, 3, 4)]\n",
            "matches: [(11840699188806025751, 9, 10)]\n",
            "matches: [(11840699188806025751, 2, 3)]\n",
            "matches: [(11840699188806025751, 3, 4), (11840699188806025751, 3, 5)]\n",
            "matches: [(11840699188806025751, 2, 3)]\n",
            "matches: [(11840699188806025751, 10, 11)]\n",
            "matches: [(11840699188806025751, 7, 8)]\n",
            "matches: [(11840699188806025751, 2, 3)]\n",
            "matches: [(11840699188806025751, 2, 3)]\n",
            "matches: [(11840699188806025751, 3, 4)]\n",
            "matches: [(11840699188806025751, 6, 7)]\n",
            "matches: [(11840699188806025751, 2, 3)]\n",
            "matches: [(11840699188806025751, 16, 17)]\n",
            "matches: [(11840699188806025751, 3, 4)]\n",
            "matches: [(11840699188806025751, 2, 3)]\n",
            "matches: [(11840699188806025751, 2, 3)]\n"
          ],
          "name": "stdout"
        },
        {
          "output_type": "stream",
          "text": [
            "  6%|▌         | 254/4318 [00:02<00:48, 83.29it/s]"
          ],
          "name": "stderr"
        },
        {
          "output_type": "stream",
          "text": [
            "matches: [(11840699188806025751, 7, 8), (11840699188806025751, 7, 9)]\n",
            "matches: [(11840699188806025751, 4, 5)]\n",
            "matches: [(11840699188806025751, 13, 14)]\n",
            "matches: [(11840699188806025751, 7, 8), (11840699188806025751, 7, 9)]\n",
            "matches: [(11840699188806025751, 0, 1)]\n",
            "matches: [(11840699188806025751, 3, 4)]\n",
            "matches: [(11840699188806025751, 2, 3)]\n",
            "matches: [(11840699188806025751, 2, 3)]\n",
            "matches: [(11840699188806025751, 5, 6)]\n",
            "matches: [(11840699188806025751, 3, 4)]\n",
            "matches: [(11840699188806025751, 2, 3)]\n",
            "matches: [(11840699188806025751, 14, 15)]\n",
            "matches: [(11840699188806025751, 4, 5)]\n",
            "matches: [(11840699188806025751, 8, 9), (11840699188806025751, 8, 10)]\n",
            "matches: [(11840699188806025751, 3, 4)]\n",
            "matches: [(11840699188806025751, 2, 3)]\n",
            "matches: [(11840699188806025751, 3, 4)]\n"
          ],
          "name": "stdout"
        },
        {
          "output_type": "stream",
          "text": [
            "  6%|▋         | 272/4318 [00:03<00:48, 82.95it/s]"
          ],
          "name": "stderr"
        },
        {
          "output_type": "stream",
          "text": [
            "matches: [(11840699188806025751, 3, 4)]\n",
            "matches: [(11840699188806025751, 0, 1)]\n",
            "matches: [(11840699188806025751, 1, 2)]\n",
            "matches: [(11840699188806025751, 9, 10), (11840699188806025751, 9, 11)]\n",
            "matches: [(11840699188806025751, 4, 5), (11840699188806025751, 4, 6), (11840699188806025751, 4, 7)]\n",
            "matches: [(11840699188806025751, 3, 4)]\n",
            "matches: [(11840699188806025751, 2, 3)]\n",
            "matches: [(11840699188806025751, 2, 3), (11840699188806025751, 2, 4)]\n",
            "matches: [(11840699188806025751, 1, 2)]\n",
            "matches: [(11840699188806025751, 1, 2)]\n",
            "matches: [(11840699188806025751, 2, 3), (11840699188806025751, 2, 4)]\n",
            "matches: [(11840699188806025751, 1, 2)]\n",
            "matches: [(11840699188806025751, 4, 5), (11840699188806025751, 4, 6)]\n",
            "matches: [(11840699188806025751, 1, 2)]\n",
            "matches: [(11840699188806025751, 1, 2)]\n",
            "matches: [(11840699188806025751, 1, 2), (11840699188806025751, 1, 3)]\n",
            "matches: [(11840699188806025751, 7, 8), (11840699188806025751, 7, 9)]\n",
            "matches: [(11840699188806025751, 4, 5), (11840699188806025751, 4, 6)]\n"
          ],
          "name": "stdout"
        },
        {
          "output_type": "stream",
          "text": [
            "  7%|▋         | 290/4318 [00:03<00:47, 84.31it/s]"
          ],
          "name": "stderr"
        },
        {
          "output_type": "stream",
          "text": [
            "matches: [(11840699188806025751, 7, 8), (11840699188806025751, 7, 9)]\n",
            "matches: [(11840699188806025751, 9, 10)]\n",
            "matches: [(11840699188806025751, 1, 2)]\n",
            "matches: [(11840699188806025751, 4, 5), (11840699188806025751, 4, 6)]\n",
            "matches: [(11840699188806025751, 4, 5), (11840699188806025751, 4, 6)]\n",
            "matches: [(11840699188806025751, 2, 3)]\n",
            "matches: [(11840699188806025751, 3, 4)]\n",
            "matches: [(11840699188806025751, 2, 3)]\n",
            "matches: [(11840699188806025751, 4, 5), (11840699188806025751, 4, 6)]\n",
            "matches: [(11840699188806025751, 4, 5), (11840699188806025751, 4, 6)]\n",
            "matches: [(11840699188806025751, 3, 4)]\n",
            "matches: [(11840699188806025751, 5, 6), (11840699188806025751, 5, 7)]\n",
            "matches: [(11840699188806025751, 8, 9)]\n",
            "matches: [(11840699188806025751, 3, 4)]\n",
            "matches: [(11840699188806025751, 8, 9), (11840699188806025751, 8, 10)]\n",
            "matches: [(11840699188806025751, 5, 6), (11840699188806025751, 5, 7)]\n",
            "matches: [(11840699188806025751, 3, 4)]\n",
            "matches: [(11840699188806025751, 7, 8), (11840699188806025751, 7, 9)]\n"
          ],
          "name": "stdout"
        },
        {
          "output_type": "stream",
          "text": [
            "  7%|▋         | 308/4318 [00:03<00:47, 84.55it/s]"
          ],
          "name": "stderr"
        },
        {
          "output_type": "stream",
          "text": [
            "matches: [(11840699188806025751, 1, 2)]\n",
            "matches: [(11840699188806025751, 2, 3), (11840699188806025751, 2, 4)]\n",
            "matches: [(11840699188806025751, 4, 5)]\n",
            "matches: [(11840699188806025751, 12, 13)]\n",
            "matches: [(11840699188806025751, 5, 6)]\n",
            "matches: [(11840699188806025751, 1, 2)]\n",
            "matches: [(11840699188806025751, 11, 12)]\n",
            "matches: [(11840699188806025751, 2, 3)]\n",
            "matches: [(11840699188806025751, 4, 5)]\n",
            "matches: [(11840699188806025751, 10, 11)]\n",
            "matches: [(11840699188806025751, 8, 9)]\n",
            "matches: [(11840699188806025751, 2, 3)]\n",
            "matches: [(11840699188806025751, 3, 4)]\n",
            "matches: [(11840699188806025751, 6, 7)]\n",
            "matches: [(11840699188806025751, 1, 2)]\n",
            "matches: [(11840699188806025751, 1, 2)]\n",
            "matches: [(11840699188806025751, 1, 2)]\n",
            "matches: [(11840699188806025751, 3, 4), (11840699188806025751, 3, 5)]\n"
          ],
          "name": "stdout"
        },
        {
          "output_type": "stream",
          "text": [
            "  8%|▊         | 326/4318 [00:03<00:47, 84.53it/s]"
          ],
          "name": "stderr"
        },
        {
          "output_type": "stream",
          "text": [
            "matches: [(11840699188806025751, 2, 3), (11840699188806025751, 2, 4), (11840699188806025751, 2, 5)]\n",
            "matches: [(11840699188806025751, 1, 2)]\n",
            "matches: [(11840699188806025751, 2, 3)]\n",
            "matches: [(11840699188806025751, 2, 3)]\n",
            "matches: [(11840699188806025751, 3, 4)]\n",
            "matches: [(11840699188806025751, 6, 7), (11840699188806025751, 6, 8)]\n",
            "matches: [(11840699188806025751, 4, 5), (11840699188806025751, 4, 6), (11840699188806025751, 4, 7)]\n",
            "matches: [(11840699188806025751, 1, 2)]\n",
            "matches: [(11840699188806025751, 5, 6), (11840699188806025751, 5, 7)]\n",
            "matches: [(11840699188806025751, 1, 2)]\n",
            "matches: [(11840699188806025751, 2, 3)]\n",
            "matches: [(11840699188806025751, 4, 5)]\n",
            "matches: [(11840699188806025751, 2, 3)]\n",
            "matches: [(11840699188806025751, 2, 3)]\n",
            "matches: [(11840699188806025751, 5, 6), (11840699188806025751, 5, 7)]\n",
            "matches: [(11840699188806025751, 4, 5), (11840699188806025751, 4, 6), (11840699188806025751, 4, 7)]\n",
            "matches: [(11840699188806025751, 3, 4), (11840699188806025751, 3, 5)]\n",
            "matches: [(11840699188806025751, 1, 2)]\n"
          ],
          "name": "stdout"
        },
        {
          "output_type": "stream",
          "text": [
            "  8%|▊         | 344/4318 [00:03<00:46, 85.50it/s]"
          ],
          "name": "stderr"
        },
        {
          "output_type": "stream",
          "text": [
            "matches: [(11840699188806025751, 1, 2)]\n",
            "matches: [(11840699188806025751, 2, 3)]\n",
            "matches: [(11840699188806025751, 4, 5)]\n",
            "matches: [(11840699188806025751, 2, 3)]\n",
            "matches: [(11840699188806025751, 2, 3)]\n",
            "matches: [(11840699188806025751, 5, 6), (11840699188806025751, 5, 7)]\n",
            "matches: [(11840699188806025751, 4, 5), (11840699188806025751, 4, 6), (11840699188806025751, 4, 7)]\n",
            "matches: [(11840699188806025751, 3, 4), (11840699188806025751, 3, 5)]\n",
            "matches: [(11840699188806025751, 1, 2)]\n",
            "matches: [(11840699188806025751, 1, 2), (11840699188806025751, 1, 3)]\n",
            "matches: [(11840699188806025751, 5, 6), (11840699188806025751, 9, 10), (11840699188806025751, 9, 11)]\n",
            "matches: [(11840699188806025751, 2, 3)]\n",
            "matches: [(11840699188806025751, 3, 4)]\n",
            "matches: [(11840699188806025751, 2, 3)]\n",
            "matches: [(11840699188806025751, 3, 4), (11840699188806025751, 3, 5)]\n",
            "matches: [(11840699188806025751, 8, 9), (11840699188806025751, 8, 10)]\n",
            "matches: [(11840699188806025751, 3, 4)]\n",
            "matches: [(11840699188806025751, 4, 5), (11840699188806025751, 4, 6)]\n"
          ],
          "name": "stdout"
        },
        {
          "output_type": "stream",
          "text": [
            "  8%|▊         | 362/4318 [00:04<00:46, 84.50it/s]"
          ],
          "name": "stderr"
        },
        {
          "output_type": "stream",
          "text": [
            "matches: [(11840699188806025751, 10, 11), (11840699188806025751, 10, 12)]\n",
            "matches: [(11840699188806025751, 4, 5), (11840699188806025751, 4, 6)]\n",
            "matches: [(11840699188806025751, 1, 2)]\n",
            "matches: [(11840699188806025751, 5, 6), (11840699188806025751, 5, 7)]\n",
            "matches: [(11840699188806025751, 2, 3)]\n",
            "matches: [(11840699188806025751, 5, 6)]\n",
            "matches: [(11840699188806025751, 4, 5), (11840699188806025751, 4, 6)]\n",
            "matches: [(11840699188806025751, 6, 7), (11840699188806025751, 6, 8), (11840699188806025751, 6, 9)]\n",
            "matches: [(11840699188806025751, 4, 5), (11840699188806025751, 4, 6)]\n",
            "matches: [(11840699188806025751, 1, 2)]\n",
            "matches: [(11840699188806025751, 5, 6), (11840699188806025751, 5, 7)]\n",
            "matches: [(11840699188806025751, 1, 2)]\n",
            "matches: [(11840699188806025751, 2, 3), (11840699188806025751, 2, 4)]\n",
            "matches: [(11840699188806025751, 7, 8), (11840699188806025751, 7, 9)]\n",
            "matches: [(11840699188806025751, 2, 3)]\n",
            "matches: [(11840699188806025751, 4, 5), (11840699188806025751, 4, 6)]\n",
            "matches: [(11840699188806025751, 4, 5)]\n",
            "matches: [(11840699188806025751, 3, 4)]\n"
          ],
          "name": "stdout"
        },
        {
          "output_type": "stream",
          "text": [
            "  9%|▉         | 380/4318 [00:04<00:46, 84.59it/s]"
          ],
          "name": "stderr"
        },
        {
          "output_type": "stream",
          "text": [
            "matches: [(11840699188806025751, 4, 5)]\n",
            "matches: [(11840699188806025751, 5, 6), (11840699188806025751, 10, 11)]\n",
            "matches: [(11840699188806025751, 2, 3)]\n",
            "matches: [(11840699188806025751, 5, 6), (11840699188806025751, 5, 7)]\n",
            "matches: [(11840699188806025751, 2, 3), (11840699188806025751, 2, 4)]\n",
            "matches: [(11840699188806025751, 1, 2)]\n",
            "matches: [(11840699188806025751, 8, 9), (11840699188806025751, 8, 10)]\n",
            "matches: [(11840699188806025751, 4, 5), (11840699188806025751, 4, 6)]\n",
            "matches: [(11840699188806025751, 1, 2)]\n",
            "matches: [(11840699188806025751, 3, 4), (11840699188806025751, 3, 5)]\n",
            "matches: [(11840699188806025751, 2, 3)]\n",
            "matches: [(11840699188806025751, 2, 3)]\n",
            "matches: [(11840699188806025751, 1, 2)]\n",
            "matches: [(11840699188806025751, 1, 2)]\n",
            "matches: [(11840699188806025751, 1, 2)]\n",
            "matches: [(11840699188806025751, 7, 8), (11840699188806025751, 7, 9)]\n",
            "matches: [(11840699188806025751, 4, 5), (11840699188806025751, 4, 6)]\n",
            "matches: [(11840699188806025751, 3, 4)]\n"
          ],
          "name": "stdout"
        },
        {
          "output_type": "stream",
          "text": [
            "  9%|▉         | 399/4318 [00:04<00:45, 86.36it/s]"
          ],
          "name": "stderr"
        },
        {
          "output_type": "stream",
          "text": [
            "matches: [(11840699188806025751, 1, 2)]\n",
            "matches: [(11840699188806025751, 9, 10), (11840699188806025751, 9, 11)]\n",
            "matches: [(11840699188806025751, 1, 2)]\n",
            "matches: [(11840699188806025751, 2, 3), (11840699188806025751, 2, 4)]\n",
            "matches: [(11840699188806025751, 4, 5)]\n",
            "matches: [(11840699188806025751, 4, 5), (11840699188806025751, 4, 6)]\n",
            "matches: [(11840699188806025751, 5, 6)]\n",
            "matches: [(11840699188806025751, 4, 5), (11840699188806025751, 4, 6)]\n",
            "matches: [(11840699188806025751, 5, 6)]\n",
            "matches: [(11840699188806025751, 6, 7), (11840699188806025751, 6, 8)]\n",
            "matches: [(11840699188806025751, 1, 2)]\n",
            "matches: [(11840699188806025751, 1, 2)]\n",
            "matches: [(11840699188806025751, 1, 2)]\n",
            "matches: [(11840699188806025751, 2, 3), (11840699188806025751, 2, 4)]\n",
            "matches: [(11840699188806025751, 3, 4)]\n",
            "matches: [(11840699188806025751, 8, 9)]\n",
            "matches: [(11840699188806025751, 2, 3)]\n",
            "matches: [(11840699188806025751, 7, 8)]\n"
          ],
          "name": "stdout"
        },
        {
          "output_type": "stream",
          "text": [
            " 10%|▉         | 418/4318 [00:04<00:44, 88.03it/s]"
          ],
          "name": "stderr"
        },
        {
          "output_type": "stream",
          "text": [
            "matches: [(11840699188806025751, 2, 3)]\n",
            "matches: [(11840699188806025751, 1, 2), (11840699188806025751, 1, 3)]\n",
            "matches: [(11840699188806025751, 1, 2)]\n",
            "matches: [(11840699188806025751, 1, 2)]\n",
            "matches: [(11840699188806025751, 3, 4)]\n",
            "matches: [(11840699188806025751, 2, 3)]\n",
            "matches: [(11840699188806025751, 3, 4)]\n",
            "matches: [(11840699188806025751, 2, 3)]\n",
            "matches: [(11840699188806025751, 4, 5), (11840699188806025751, 4, 6)]\n",
            "matches: [(11840699188806025751, 8, 9)]\n",
            "matches: [(11840699188806025751, 2, 3)]\n",
            "matches: [(11840699188806025751, 1, 2)]\n",
            "matches: [(11840699188806025751, 4, 5)]\n",
            "matches: [(11840699188806025751, 3, 4)]\n",
            "matches: [(11840699188806025751, 3, 4), (11840699188806025751, 3, 5)]\n",
            "matches: [(11840699188806025751, 1, 2)]\n",
            "matches: [(11840699188806025751, 2, 3)]\n",
            "matches: [(11840699188806025751, 1, 2), (11840699188806025751, 3, 4)]\n",
            "matches: [(11840699188806025751, 3, 4), (11840699188806025751, 3, 5)]\n"
          ],
          "name": "stdout"
        },
        {
          "output_type": "stream",
          "text": [
            " 10%|█         | 437/4318 [00:05<00:43, 89.18it/s]"
          ],
          "name": "stderr"
        },
        {
          "output_type": "stream",
          "text": [
            "matches: [(11840699188806025751, 2, 3)]\n",
            "matches: [(11840699188806025751, 5, 6), (11840699188806025751, 5, 7)]\n",
            "matches: [(11840699188806025751, 2, 3)]\n",
            "matches: [(11840699188806025751, 5, 6)]\n",
            "matches: [(11840699188806025751, 6, 7)]\n",
            "matches: [(11840699188806025751, 2, 3)]\n",
            "matches: [(11840699188806025751, 1, 2)]\n",
            "matches: [(11840699188806025751, 6, 7), (11840699188806025751, 6, 8)]\n",
            "matches: [(11840699188806025751, 3, 4), (11840699188806025751, 3, 5)]\n",
            "matches: [(11840699188806025751, 2, 3), (11840699188806025751, 2, 4)]\n",
            "matches: [(11840699188806025751, 2, 3)]\n",
            "matches: [(11840699188806025751, 2, 3), (11840699188806025751, 2, 4)]\n",
            "matches: [(11840699188806025751, 5, 6)]\n",
            "matches: [(11840699188806025751, 2, 3), (11840699188806025751, 2, 4)]\n",
            "matches: [(11840699188806025751, 3, 4), (11840699188806025751, 3, 5)]\n",
            "matches: [(11840699188806025751, 3, 4)]\n",
            "matches: [(11840699188806025751, 3, 4)]\n",
            "matches: [(11840699188806025751, 1, 2)]\n",
            "matches: [(11840699188806025751, 6, 7), (11840699188806025751, 6, 8)]\n"
          ],
          "name": "stdout"
        },
        {
          "output_type": "stream",
          "text": [
            " 11%|█         | 455/4318 [00:05<00:44, 85.96it/s]"
          ],
          "name": "stderr"
        },
        {
          "output_type": "stream",
          "text": [
            "matches: [(11840699188806025751, 4, 5), (11840699188806025751, 4, 6)]\n",
            "matches: [(11840699188806025751, 6, 7), (11840699188806025751, 6, 8)]\n",
            "matches: [(11840699188806025751, 3, 4)]\n",
            "matches: [(11840699188806025751, 1, 2)]\n",
            "matches: [(11840699188806025751, 3, 4)]\n",
            "matches: [(11840699188806025751, 6, 7)]\n",
            "matches: [(11840699188806025751, 2, 3)]\n",
            "matches: [(11840699188806025751, 2, 3)]\n",
            "matches: [(11840699188806025751, 9, 10)]\n",
            "matches: [(11840699188806025751, 2, 3)]\n",
            "matches: [(11840699188806025751, 9, 10)]\n",
            "matches: [(11840699188806025751, 4, 5)]\n",
            "matches: [(11840699188806025751, 2, 3), (11840699188806025751, 2, 4)]\n",
            "matches: [(11840699188806025751, 10, 11)]\n",
            "matches: [(11840699188806025751, 4, 5)]\n",
            "matches: [(11840699188806025751, 8, 9)]\n",
            "matches: [(11840699188806025751, 10, 11)]\n",
            "matches: [(11840699188806025751, 32, 33)]\n"
          ],
          "name": "stdout"
        },
        {
          "output_type": "stream",
          "text": [
            " 11%|█         | 473/4318 [00:05<00:44, 85.80it/s]"
          ],
          "name": "stderr"
        },
        {
          "output_type": "stream",
          "text": [
            "matches: [(11840699188806025751, 4, 5), (11840699188806025751, 4, 6)]\n",
            "matches: [(11840699188806025751, 8, 9)]\n",
            "matches: [(11840699188806025751, 5, 6), (11840699188806025751, 5, 7)]\n",
            "matches: [(11840699188806025751, 3, 4)]\n",
            "matches: [(11840699188806025751, 2, 3)]\n",
            "matches: [(11840699188806025751, 4, 5)]\n",
            "matches: [(11840699188806025751, 10, 11)]\n",
            "matches: [(11840699188806025751, 4, 5), (11840699188806025751, 4, 6)]\n",
            "matches: [(11840699188806025751, 4, 5)]\n",
            "matches: [(11840699188806025751, 1, 2), (11840699188806025751, 1, 3)]\n",
            "matches: [(11840699188806025751, 2, 3), (11840699188806025751, 2, 4), (11840699188806025751, 2, 5)]\n",
            "matches: [(11840699188806025751, 4, 5)]\n",
            "matches: [(11840699188806025751, 2, 3)]\n",
            "matches: [(11840699188806025751, 3, 4)]\n",
            "matches: [(11840699188806025751, 3, 4), (11840699188806025751, 3, 5)]\n",
            "matches: [(11840699188806025751, 2, 3), (11840699188806025751, 2, 4), (11840699188806025751, 2, 5)]\n",
            "matches: [(11840699188806025751, 4, 5)]\n",
            "matches: [(11840699188806025751, 21, 22)]\n"
          ],
          "name": "stdout"
        },
        {
          "output_type": "stream",
          "text": [
            " 11%|█▏        | 492/4318 [00:05<00:43, 87.18it/s]"
          ],
          "name": "stderr"
        },
        {
          "output_type": "stream",
          "text": [
            "matches: [(11840699188806025751, 8, 9)]\n",
            "matches: [(11840699188806025751, 5, 6)]\n",
            "matches: [(11840699188806025751, 2, 3), (11840699188806025751, 2, 4)]\n",
            "matches: [(11840699188806025751, 15, 16)]\n",
            "matches: [(11840699188806025751, 4, 5), (11840699188806025751, 4, 6)]\n",
            "matches: [(11840699188806025751, 1, 2)]\n",
            "matches: [(11840699188806025751, 3, 4), (11840699188806025751, 3, 5), (11840699188806025751, 3, 6)]\n",
            "matches: [(11840699188806025751, 3, 4), (11840699188806025751, 3, 5)]\n",
            "matches: [(11840699188806025751, 2, 3), (11840699188806025751, 2, 4), (11840699188806025751, 2, 5)]\n",
            "matches: [(11840699188806025751, 4, 5)]\n",
            "matches: [(11840699188806025751, 21, 22)]\n",
            "matches: [(11840699188806025751, 8, 9)]\n",
            "matches: [(11840699188806025751, 5, 6)]\n",
            "matches: [(11840699188806025751, 2, 3), (11840699188806025751, 2, 4)]\n",
            "matches: [(11840699188806025751, 15, 16)]\n",
            "matches: [(11840699188806025751, 4, 5), (11840699188806025751, 4, 6)]\n",
            "matches: [(11840699188806025751, 1, 2)]\n",
            "matches: [(11840699188806025751, 3, 4), (11840699188806025751, 3, 5), (11840699188806025751, 3, 6)]\n",
            "matches: [(11840699188806025751, 5, 6), (11840699188806025751, 5, 7)]\n"
          ],
          "name": "stdout"
        },
        {
          "output_type": "stream",
          "text": [
            " 12%|█▏        | 511/4318 [00:05<00:42, 89.02it/s]"
          ],
          "name": "stderr"
        },
        {
          "output_type": "stream",
          "text": [
            "matches: [(11840699188806025751, 5, 6), (11840699188806025751, 5, 7)]\n",
            "matches: [(11840699188806025751, 10, 11), (11840699188806025751, 10, 12)]\n",
            "matches: [(11840699188806025751, 4, 5), (11840699188806025751, 4, 6)]\n",
            "matches: [(11840699188806025751, 1, 2)]\n",
            "matches: [(11840699188806025751, 4, 5)]\n",
            "matches: [(11840699188806025751, 1, 2)]\n",
            "matches: [(11840699188806025751, 5, 6), (11840699188806025751, 5, 7)]\n",
            "matches: [(11840699188806025751, 5, 6), (11840699188806025751, 5, 7)]\n",
            "matches: [(11840699188806025751, 10, 11), (11840699188806025751, 10, 12)]\n",
            "matches: [(11840699188806025751, 4, 5), (11840699188806025751, 4, 6)]\n",
            "matches: [(11840699188806025751, 1, 2)]\n",
            "matches: [(11840699188806025751, 4, 5)]\n",
            "matches: [(11840699188806025751, 1, 2)]\n",
            "matches: [(11840699188806025751, 3, 4)]\n",
            "matches: [(11840699188806025751, 2, 3)]\n",
            "matches: [(11840699188806025751, 3, 4)]\n",
            "matches: [(11840699188806025751, 3, 4), (11840699188806025751, 3, 5)]\n",
            "matches: [(11840699188806025751, 9, 10)]\n",
            "matches: [(11840699188806025751, 1, 2), (11840699188806025751, 1, 3)]\n"
          ],
          "name": "stdout"
        },
        {
          "output_type": "stream",
          "text": [
            " 12%|█▏        | 530/4318 [00:06<00:42, 89.90it/s]"
          ],
          "name": "stderr"
        },
        {
          "output_type": "stream",
          "text": [
            "matches: [(11840699188806025751, 3, 4), (11840699188806025751, 3, 5)]\n",
            "matches: [(11840699188806025751, 5, 6)]\n",
            "matches: [(11840699188806025751, 2, 3), (11840699188806025751, 2, 4)]\n",
            "matches: [(11840699188806025751, 1, 2), (11840699188806025751, 1, 3)]\n",
            "matches: [(11840699188806025751, 0, 1)]\n",
            "matches: [(11840699188806025751, 1, 2)]\n",
            "matches: [(11840699188806025751, 2, 3)]\n",
            "matches: [(11840699188806025751, 1, 2)]\n",
            "matches: [(11840699188806025751, 3, 4)]\n",
            "matches: [(11840699188806025751, 2, 3), (11840699188806025751, 2, 4)]\n",
            "matches: [(11840699188806025751, 3, 4), (11840699188806025751, 3, 5)]\n",
            "matches: [(11840699188806025751, 5, 6)]\n",
            "matches: [(11840699188806025751, 3, 4)]\n",
            "matches: [(11840699188806025751, 4, 5)]\n",
            "matches: [(11840699188806025751, 9, 10)]\n",
            "matches: [(11840699188806025751, 3, 4)]\n",
            "matches: [(11840699188806025751, 3, 4)]\n",
            "matches: [(11840699188806025751, 6, 7), (11840699188806025751, 6, 8)]\n",
            "matches: [(11840699188806025751, 10, 11)]\n"
          ],
          "name": "stdout"
        },
        {
          "output_type": "stream",
          "text": [
            "\r 13%|█▎        | 540/4318 [00:06<00:42, 89.10it/s]"
          ],
          "name": "stderr"
        },
        {
          "output_type": "stream",
          "text": [
            "matches: [(11840699188806025751, 5, 6)]\n",
            "matches: [(11840699188806025751, 5, 6)]\n",
            "matches: [(11840699188806025751, 8, 9)]\n",
            "matches: [(11840699188806025751, 1, 2), (11840699188806025751, 1, 3)]\n",
            "matches: [(11840699188806025751, 2, 3)]\n",
            "matches: [(11840699188806025751, 5, 6), (11840699188806025751, 5, 7)]\n",
            "matches: [(11840699188806025751, 1, 2)]\n",
            "matches: [(11840699188806025751, 3, 4), (11840699188806025751, 3, 5)]\n",
            "matches: [(11840699188806025751, 3, 4), (11840699188806025751, 3, 5)]\n",
            "matches: [(11840699188806025751, 4, 5)]\n",
            "matches: [(11840699188806025751, 4, 5), (11840699188806025751, 4, 6)]\n",
            "matches: [(11840699188806025751, 3, 4)]\n",
            "matches: [(11840699188806025751, 9, 10)]\n",
            "matches: [(11840699188806025751, 4, 5), (11840699188806025751, 4, 6)]\n",
            "matches: [(11840699188806025751, 2, 3), (11840699188806025751, 4, 5)]\n",
            "matches: [(11840699188806025751, 5, 6)]\n",
            "matches: [(11840699188806025751, 5, 6)]\n",
            "matches: [(11840699188806025751, 4, 5)]\n",
            "matches: [(11840699188806025751, 2, 3)]\n"
          ],
          "name": "stdout"
        },
        {
          "output_type": "stream",
          "text": [
            " 13%|█▎        | 559/4318 [00:06<00:42, 88.21it/s]"
          ],
          "name": "stderr"
        },
        {
          "output_type": "stream",
          "text": [
            "matches: [(11840699188806025751, 3, 4), (11840699188806025751, 3, 5)]\n",
            "matches: [(11840699188806025751, 2, 3), (11840699188806025751, 2, 4)]\n",
            "matches: [(11840699188806025751, 2, 3), (11840699188806025751, 2, 4)]\n",
            "matches: [(11840699188806025751, 1, 2)]\n",
            "matches: [(11840699188806025751, 2, 3)]\n",
            "matches: [(11840699188806025751, 5, 6)]\n",
            "matches: [(11840699188806025751, 1, 2)]\n",
            "matches: [(11840699188806025751, 2, 3)]\n",
            "matches: [(11840699188806025751, 3, 4)]\n",
            "matches: [(11840699188806025751, 1, 2)]\n",
            "matches: [(11840699188806025751, 1, 2)]\n",
            "matches: [(11840699188806025751, 2, 3)]\n",
            "matches: [(11840699188806025751, 7, 8)]\n",
            "matches: [(11840699188806025751, 1, 2)]\n",
            "matches: [(11840699188806025751, 4, 5), (11840699188806025751, 4, 6)]\n",
            "matches: [(11840699188806025751, 1, 2)]\n",
            "matches: [(11840699188806025751, 1, 2)]\n",
            "matches: [(11840699188806025751, 1, 2)]\n"
          ],
          "name": "stdout"
        },
        {
          "output_type": "stream",
          "text": [
            " 13%|█▎        | 577/4318 [00:06<00:42, 87.88it/s]"
          ],
          "name": "stderr"
        },
        {
          "output_type": "stream",
          "text": [
            "matches: [(11840699188806025751, 2, 3)]\n",
            "matches: [(11840699188806025751, 6, 7)]\n",
            "matches: [(11840699188806025751, 3, 4)]\n",
            "matches: [(11840699188806025751, 3, 4)]\n",
            "matches: [(11840699188806025751, 3, 4)]\n",
            "matches: [(11840699188806025751, 8, 9)]\n",
            "matches: [(11840699188806025751, 4, 5)]\n",
            "matches: [(11840699188806025751, 1, 2)]\n",
            "matches: [(11840699188806025751, 3, 4), (11840699188806025751, 3, 5)]\n",
            "matches: [(11840699188806025751, 3, 4)]\n",
            "matches: [(11840699188806025751, 5, 6)]\n",
            "matches: [(11840699188806025751, 3, 4), (11840699188806025751, 3, 5)]\n",
            "matches: [(11840699188806025751, 4, 5), (11840699188806025751, 4, 6)]\n",
            "matches: [(11840699188806025751, 3, 4)]\n",
            "matches: [(11840699188806025751, 3, 4), (11840699188806025751, 3, 5)]\n",
            "matches: [(11840699188806025751, 3, 4), (11840699188806025751, 3, 5)]\n",
            "matches: [(11840699188806025751, 3, 4), (11840699188806025751, 3, 5)]\n",
            "matches: [(11840699188806025751, 3, 4), (11840699188806025751, 3, 5)]\n",
            "matches: [(11840699188806025751, 3, 4), (11840699188806025751, 3, 5)]\n"
          ],
          "name": "stdout"
        },
        {
          "output_type": "stream",
          "text": [
            " 14%|█▍        | 596/4318 [00:06<00:41, 88.82it/s]"
          ],
          "name": "stderr"
        },
        {
          "output_type": "stream",
          "text": [
            "matches: [(11840699188806025751, 4, 5)]\n",
            "matches: [(11840699188806025751, 4, 5)]\n",
            "matches: [(11840699188806025751, 3, 4), (11840699188806025751, 3, 5)]\n",
            "matches: [(11840699188806025751, 3, 4), (11840699188806025751, 3, 5)]\n",
            "matches: [(11840699188806025751, 10, 11)]\n",
            "matches: [(11840699188806025751, 3, 4), (11840699188806025751, 3, 5)]\n",
            "matches: [(11840699188806025751, 3, 4), (11840699188806025751, 3, 5)]\n",
            "matches: [(11840699188806025751, 6, 7), (11840699188806025751, 6, 8)]\n",
            "matches: [(11840699188806025751, 2, 3), (11840699188806025751, 2, 4)]\n",
            "matches: [(11840699188806025751, 3, 4), (11840699188806025751, 3, 5)]\n",
            "matches: [(11840699188806025751, 10, 11)]\n",
            "matches: [(11840699188806025751, 1, 2)]\n",
            "matches: [(11840699188806025751, 6, 7), (11840699188806025751, 6, 8)]\n",
            "matches: [(11840699188806025751, 6, 7)]\n",
            "matches: [(11840699188806025751, 9, 10)]\n",
            "matches: [(11840699188806025751, 8, 9)]\n",
            "matches: [(11840699188806025751, 1, 2)]\n",
            "matches: [(11840699188806025751, 5, 6), (11840699188806025751, 5, 7)]\n",
            "matches: [(11840699188806025751, 1, 2)]\n"
          ],
          "name": "stdout"
        },
        {
          "output_type": "stream",
          "text": [
            " 14%|█▍        | 616/4318 [00:07<00:41, 89.92it/s]"
          ],
          "name": "stderr"
        },
        {
          "output_type": "stream",
          "text": [
            "matches: [(11840699188806025751, 8, 9)]\n",
            "matches: [(11840699188806025751, 1, 2)]\n",
            "matches: [(11840699188806025751, 11, 12), (11840699188806025751, 11, 13)]\n",
            "matches: [(11840699188806025751, 3, 4), (11840699188806025751, 3, 5)]\n",
            "matches: [(11840699188806025751, 3, 4)]\n",
            "matches: [(11840699188806025751, 7, 8), (11840699188806025751, 7, 9)]\n",
            "matches: [(11840699188806025751, 2, 3)]\n",
            "matches: [(11840699188806025751, 2, 3), (11840699188806025751, 2, 4)]\n",
            "matches: [(11840699188806025751, 3, 4), (11840699188806025751, 3, 5)]\n",
            "matches: [(11840699188806025751, 1, 2)]\n",
            "matches: [(11840699188806025751, 3, 4), (11840699188806025751, 3, 5)]\n",
            "matches: [(11840699188806025751, 2, 3), (11840699188806025751, 2, 4)]\n",
            "matches: [(11840699188806025751, 3, 4), (11840699188806025751, 3, 5)]\n",
            "matches: [(11840699188806025751, 4, 5)]\n",
            "matches: [(11840699188806025751, 3, 4), (11840699188806025751, 3, 5)]\n",
            "matches: [(11840699188806025751, 1, 2)]\n",
            "matches: [(11840699188806025751, 2, 3)]\n",
            "matches: [(11840699188806025751, 1, 2)]\n",
            "matches: [(11840699188806025751, 6, 7)]\n"
          ],
          "name": "stdout"
        },
        {
          "output_type": "stream",
          "text": [
            " 15%|█▍        | 634/4318 [00:07<00:41, 89.31it/s]"
          ],
          "name": "stderr"
        },
        {
          "output_type": "stream",
          "text": [
            "matches: [(11840699188806025751, 9, 10)]\n",
            "matches: [(11840699188806025751, 8, 9)]\n",
            "matches: [(11840699188806025751, 1, 2)]\n",
            "matches: [(11840699188806025751, 5, 6), (11840699188806025751, 5, 7)]\n",
            "matches: [(11840699188806025751, 1, 2)]\n",
            "matches: [(11840699188806025751, 8, 9)]\n",
            "matches: [(11840699188806025751, 1, 2)]\n",
            "matches: [(11840699188806025751, 11, 12), (11840699188806025751, 11, 13)]\n",
            "matches: [(11840699188806025751, 3, 4), (11840699188806025751, 3, 5)]\n",
            "matches: [(11840699188806025751, 3, 4)]\n",
            "matches: [(11840699188806025751, 7, 8), (11840699188806025751, 7, 9)]\n",
            "matches: [(11840699188806025751, 2, 3)]\n",
            "matches: [(11840699188806025751, 2, 3), (11840699188806025751, 2, 4)]\n",
            "matches: [(11840699188806025751, 3, 4), (11840699188806025751, 3, 5)]\n",
            "matches: [(11840699188806025751, 1, 2)]\n",
            "matches: [(11840699188806025751, 3, 4), (11840699188806025751, 3, 5)]\n",
            "matches: [(11840699188806025751, 2, 3), (11840699188806025751, 2, 4)]\n",
            "matches: [(11840699188806025751, 3, 4), (11840699188806025751, 3, 5)]\n",
            "matches: [(11840699188806025751, 4, 5)]\n"
          ],
          "name": "stdout"
        },
        {
          "output_type": "stream",
          "text": [
            " 15%|█▌        | 654/4318 [00:07<00:40, 91.24it/s]"
          ],
          "name": "stderr"
        },
        {
          "output_type": "stream",
          "text": [
            "matches: [(11840699188806025751, 3, 4), (11840699188806025751, 3, 5)]\n",
            "matches: [(11840699188806025751, 1, 2)]\n",
            "matches: [(11840699188806025751, 2, 3)]\n",
            "matches: [(11840699188806025751, 1, 2)]\n",
            "matches: [(11840699188806025751, 3, 4)]\n",
            "matches: [(11840699188806025751, 14, 15)]\n",
            "matches: [(11840699188806025751, 2, 3)]\n",
            "matches: [(11840699188806025751, 1, 2)]\n",
            "matches: [(11840699188806025751, 8, 9)]\n",
            "matches: [(11840699188806025751, 6, 7), (11840699188806025751, 6, 8)]\n",
            "matches: [(11840699188806025751, 8, 9), (11840699188806025751, 8, 10)]\n",
            "matches: [(11840699188806025751, 3, 4)]\n",
            "matches: [(11840699188806025751, 3, 4)]\n",
            "matches: [(11840699188806025751, 14, 15)]\n",
            "matches: [(11840699188806025751, 2, 3)]\n",
            "matches: [(11840699188806025751, 1, 2)]\n",
            "matches: [(11840699188806025751, 8, 9)]\n",
            "matches: [(11840699188806025751, 6, 7), (11840699188806025751, 6, 8)]\n",
            "matches: [(11840699188806025751, 8, 9), (11840699188806025751, 8, 10)]\n"
          ],
          "name": "stdout"
        },
        {
          "output_type": "stream",
          "text": [
            " 16%|█▌        | 674/4318 [00:07<00:39, 91.82it/s]"
          ],
          "name": "stderr"
        },
        {
          "output_type": "stream",
          "text": [
            "matches: [(11840699188806025751, 3, 4)]\n",
            "matches: [(11840699188806025751, 2, 3)]\n",
            "matches: [(11840699188806025751, 4, 5)]\n",
            "matches: [(11840699188806025751, 5, 6), (11840699188806025751, 5, 7)]\n",
            "matches: [(11840699188806025751, 1, 2), (11840699188806025751, 1, 3)]\n",
            "matches: [(11840699188806025751, 4, 5)]\n",
            "matches: [(11840699188806025751, 4, 5), (11840699188806025751, 4, 6), (11840699188806025751, 4, 7)]\n",
            "matches: [(11840699188806025751, 2, 3), (11840699188806025751, 2, 4)]\n",
            "matches: [(11840699188806025751, 3, 4)]\n",
            "matches: [(11840699188806025751, 4, 5), (11840699188806025751, 4, 6)]\n",
            "matches: [(11840699188806025751, 5, 6), (11840699188806025751, 5, 7), (11840699188806025751, 10, 11)]\n",
            "matches: [(11840699188806025751, 12, 13)]\n",
            "matches: [(11840699188806025751, 7, 8), (11840699188806025751, 7, 9)]\n",
            "matches: [(11840699188806025751, 2, 3)]\n",
            "matches: [(11840699188806025751, 4, 5), (11840699188806025751, 4, 6)]\n",
            "matches: [(11840699188806025751, 15, 16), (11840699188806025751, 15, 17)]\n",
            "matches: [(11840699188806025751, 2, 3)]\n",
            "matches: [(11840699188806025751, 4, 5), (11840699188806025751, 4, 6)]\n",
            "matches: [(11840699188806025751, 1, 2), (11840699188806025751, 1, 3)]\n"
          ],
          "name": "stdout"
        },
        {
          "output_type": "stream",
          "text": [
            " 16%|█▌        | 694/4318 [00:07<00:40, 90.29it/s]"
          ],
          "name": "stderr"
        },
        {
          "output_type": "stream",
          "text": [
            "matches: [(11840699188806025751, 5, 6)]\n",
            "matches: [(11840699188806025751, 6, 7)]\n",
            "matches: [(11840699188806025751, 9, 10)]\n",
            "matches: [(11840699188806025751, 1, 2)]\n",
            "matches: [(11840699188806025751, 6, 7)]\n",
            "matches: [(11840699188806025751, 7, 8)]\n",
            "matches: [(11840699188806025751, 1, 2)]\n",
            "matches: [(11840699188806025751, 2, 3)]\n",
            "matches: [(11840699188806025751, 3, 4), (11840699188806025751, 3, 5), (11840699188806025751, 3, 6)]\n",
            "matches: [(11840699188806025751, 5, 6), (11840699188806025751, 5, 7)]\n",
            "matches: [(11840699188806025751, 8, 9)]\n",
            "matches: [(11840699188806025751, 2, 3), (11840699188806025751, 2, 4), (11840699188806025751, 2, 5)]\n",
            "matches: [(11840699188806025751, 4, 5)]\n",
            "matches: [(11840699188806025751, 2, 3), (11840699188806025751, 2, 4)]\n",
            "matches: [(11840699188806025751, 5, 6)]\n",
            "matches: [(11840699188806025751, 5, 6)]\n",
            "matches: [(11840699188806025751, 5, 6)]\n",
            "matches: [(11840699188806025751, 2, 3), (11840699188806025751, 2, 4)]\n"
          ],
          "name": "stdout"
        },
        {
          "output_type": "stream",
          "text": [
            " 17%|█▋        | 714/4318 [00:08<00:40, 88.11it/s]"
          ],
          "name": "stderr"
        },
        {
          "output_type": "stream",
          "text": [
            "matches: [(11840699188806025751, 9, 10), (11840699188806025751, 9, 11)]\n",
            "matches: [(11840699188806025751, 1, 2)]\n",
            "matches: [(11840699188806025751, 6, 7)]\n",
            "matches: [(11840699188806025751, 5, 6), (11840699188806025751, 5, 7)]\n",
            "matches: [(11840699188806025751, 1, 2)]\n",
            "matches: [(11840699188806025751, 3, 4)]\n",
            "matches: [(11840699188806025751, 3, 4)]\n",
            "matches: [(11840699188806025751, 3, 4), (11840699188806025751, 3, 5)]\n",
            "matches: [(11840699188806025751, 2, 3)]\n",
            "matches: [(11840699188806025751, 1, 2)]\n",
            "matches: [(11840699188806025751, 7, 8)]\n",
            "matches: [(11840699188806025751, 2, 3)]\n",
            "matches: [(11840699188806025751, 2, 3)]\n",
            "matches: [(11840699188806025751, 4, 5), (11840699188806025751, 4, 6)]\n",
            "matches: [(11840699188806025751, 2, 3)]\n",
            "matches: [(11840699188806025751, 7, 8), (11840699188806025751, 7, 9)]\n",
            "matches: [(11840699188806025751, 4, 5), (11840699188806025751, 4, 6)]\n",
            "matches: [(11840699188806025751, 3, 4)]\n"
          ],
          "name": "stdout"
        },
        {
          "output_type": "stream",
          "text": [
            " 17%|█▋        | 733/4318 [00:08<00:41, 86.64it/s]"
          ],
          "name": "stderr"
        },
        {
          "output_type": "stream",
          "text": [
            "matches: [(11840699188806025751, 5, 6)]\n",
            "matches: [(11840699188806025751, 1, 2)]\n",
            "matches: [(11840699188806025751, 1, 2), (11840699188806025751, 1, 3)]\n",
            "matches: [(11840699188806025751, 1, 2)]\n",
            "matches: [(11840699188806025751, 7, 8)]\n",
            "matches: [(11840699188806025751, 3, 4), (11840699188806025751, 3, 5)]\n",
            "matches: [(11840699188806025751, 3, 4)]\n",
            "matches: [(11840699188806025751, 8, 9)]\n",
            "matches: [(11840699188806025751, 4, 5), (11840699188806025751, 4, 6)]\n",
            "matches: [(11840699188806025751, 5, 6)]\n",
            "matches: [(11840699188806025751, 4, 5)]\n",
            "matches: [(11840699188806025751, 1, 2)]\n",
            "matches: [(11840699188806025751, 2, 3), (11840699188806025751, 2, 4)]\n",
            "matches: [(11840699188806025751, 6, 7)]\n",
            "matches: [(11840699188806025751, 2, 3)]\n",
            "matches: [(11840699188806025751, 6, 7), (11840699188806025751, 6, 8)]\n",
            "matches: [(11840699188806025751, 2, 3), (11840699188806025751, 2, 4)]\n",
            "matches: [(11840699188806025751, 4, 5)]\n",
            "matches: [(11840699188806025751, 8, 9), (11840699188806025751, 8, 10)]\n"
          ],
          "name": "stdout"
        },
        {
          "output_type": "stream",
          "text": [
            " 17%|█▋        | 752/4318 [00:08<00:40, 88.52it/s]"
          ],
          "name": "stderr"
        },
        {
          "output_type": "stream",
          "text": [
            "matches: [(11840699188806025751, 4, 5), (11840699188806025751, 4, 6)]\n",
            "matches: [(11840699188806025751, 8, 9)]\n",
            "matches: [(11840699188806025751, 3, 4), (11840699188806025751, 3, 5)]\n",
            "matches: [(11840699188806025751, 3, 4)]\n",
            "matches: [(11840699188806025751, 2, 3)]\n",
            "matches: [(11840699188806025751, 1, 2)]\n",
            "matches: [(11840699188806025751, 1, 2)]\n",
            "matches: [(11840699188806025751, 2, 3)]\n",
            "matches: [(11840699188806025751, 3, 4)]\n",
            "matches: [(11840699188806025751, 4, 5)]\n",
            "matches: [(11840699188806025751, 5, 6)]\n",
            "matches: [(11840699188806025751, 4, 5)]\n",
            "matches: [(11840699188806025751, 3, 4)]\n",
            "matches: [(11840699188806025751, 8, 9)]\n",
            "matches: [(11840699188806025751, 5, 6)]\n",
            "matches: [(11840699188806025751, 3, 4)]\n",
            "matches: [(11840699188806025751, 4, 5)]\n",
            "matches: [(11840699188806025751, 4, 5)]\n",
            "matches: [(11840699188806025751, 7, 8)]\n"
          ],
          "name": "stdout"
        },
        {
          "output_type": "stream",
          "text": [
            " 18%|█▊        | 770/4318 [00:08<00:40, 87.46it/s]"
          ],
          "name": "stderr"
        },
        {
          "output_type": "stream",
          "text": [
            "matches: [(11840699188806025751, 4, 5)]\n",
            "matches: [(11840699188806025751, 4, 5), (11840699188806025751, 4, 6)]\n",
            "matches: [(11840699188806025751, 1, 2)]\n",
            "matches: [(11840699188806025751, 10, 11)]\n",
            "matches: [(11840699188806025751, 4, 5)]\n",
            "matches: [(11840699188806025751, 7, 8), (11840699188806025751, 7, 9)]\n",
            "matches: [(11840699188806025751, 5, 6)]\n",
            "matches: [(11840699188806025751, 4, 5), (11840699188806025751, 4, 6)]\n",
            "matches: [(11840699188806025751, 3, 4), (11840699188806025751, 3, 5)]\n",
            "matches: [(11840699188806025751, 3, 4), (11840699188806025751, 3, 5), (11840699188806025751, 8, 9), (11840699188806025751, 8, 10)]\n",
            "matches: [(11840699188806025751, 6, 7)]\n",
            "matches: [(11840699188806025751, 3, 4), (11840699188806025751, 3, 5), (11840699188806025751, 3, 6)]\n",
            "matches: [(11840699188806025751, 1, 2)]\n",
            "matches: [(11840699188806025751, 2, 3)]\n",
            "matches: [(11840699188806025751, 3, 4), (11840699188806025751, 3, 5), (11840699188806025751, 3, 6)]\n",
            "matches: [(11840699188806025751, 3, 4)]\n",
            "matches: [(11840699188806025751, 3, 4), (11840699188806025751, 3, 5)]\n",
            "matches: [(11840699188806025751, 8, 9), (11840699188806025751, 8, 10)]\n"
          ],
          "name": "stdout"
        },
        {
          "output_type": "stream",
          "text": [
            " 18%|█▊        | 789/4318 [00:09<00:40, 88.14it/s]"
          ],
          "name": "stderr"
        },
        {
          "output_type": "stream",
          "text": [
            "matches: [(11840699188806025751, 2, 3)]\n",
            "matches: [(11840699188806025751, 2, 3)]\n",
            "matches: [(11840699188806025751, 2, 3)]\n",
            "matches: [(11840699188806025751, 3, 4), (11840699188806025751, 3, 5)]\n",
            "matches: [(11840699188806025751, 3, 4)]\n",
            "matches: [(11840699188806025751, 8, 9), (11840699188806025751, 8, 10)]\n",
            "matches: [(11840699188806025751, 2, 3)]\n",
            "matches: [(11840699188806025751, 2, 3)]\n",
            "matches: [(11840699188806025751, 2, 3)]\n",
            "matches: [(11840699188806025751, 3, 4), (11840699188806025751, 3, 5)]\n",
            "matches: [(11840699188806025751, 3, 4)]\n",
            "matches: [(11840699188806025751, 1, 2)]\n",
            "matches: [(11840699188806025751, 35, 36), (11840699188806025751, 35, 37)]\n",
            "matches: [(11840699188806025751, 1, 2)]\n",
            "matches: [(11840699188806025751, 2, 3)]\n",
            "matches: [(11840699188806025751, 4, 5)]\n",
            "matches: [(11840699188806025751, 2, 3)]\n",
            "matches: [(11840699188806025751, 1, 2)]\n",
            "matches: [(11840699188806025751, 2, 3)]\n"
          ],
          "name": "stdout"
        },
        {
          "output_type": "stream",
          "text": [
            " 19%|█▊        | 809/4318 [00:09<00:39, 89.95it/s]"
          ],
          "name": "stderr"
        },
        {
          "output_type": "stream",
          "text": [
            "matches: [(11840699188806025751, 2, 3), (11840699188806025751, 2, 4)]\n",
            "matches: [(11840699188806025751, 5, 6)]\n",
            "matches: [(11840699188806025751, 3, 4)]\n",
            "matches: [(11840699188806025751, 1, 2)]\n",
            "matches: [(11840699188806025751, 2, 3)]\n",
            "matches: [(11840699188806025751, 1, 2)]\n",
            "matches: [(11840699188806025751, 9, 10)]\n",
            "matches: [(11840699188806025751, 5, 6), (11840699188806025751, 5, 7)]\n",
            "matches: [(11840699188806025751, 3, 4)]\n",
            "matches: [(11840699188806025751, 7, 8)]\n",
            "matches: [(11840699188806025751, 0, 1)]\n",
            "matches: [(11840699188806025751, 4, 5)]\n",
            "matches: [(11840699188806025751, 2, 3)]\n",
            "matches: [(11840699188806025751, 4, 5)]\n",
            "matches: [(11840699188806025751, 5, 6), (11840699188806025751, 5, 7)]\n",
            "matches: [(11840699188806025751, 3, 4), (11840699188806025751, 11, 12)]\n",
            "matches: [(11840699188806025751, 5, 6)]\n",
            "matches: [(11840699188806025751, 1, 2)]\n",
            "matches: [(11840699188806025751, 6, 7)]\n"
          ],
          "name": "stdout"
        },
        {
          "output_type": "stream",
          "text": [
            " 19%|█▉        | 828/4318 [00:09<00:39, 89.13it/s]"
          ],
          "name": "stderr"
        },
        {
          "output_type": "stream",
          "text": [
            "matches: [(11840699188806025751, 12, 13)]\n",
            "matches: [(11840699188806025751, 2, 3)]\n",
            "matches: [(11840699188806025751, 4, 5), (11840699188806025751, 4, 6)]\n",
            "matches: [(11840699188806025751, 4, 5), (11840699188806025751, 4, 6)]\n",
            "matches: [(11840699188806025751, 12, 13)]\n",
            "matches: [(11840699188806025751, 2, 3), (11840699188806025751, 2, 4), (11840699188806025751, 2, 5)]\n",
            "matches: [(11840699188806025751, 11, 12)]\n",
            "matches: [(11840699188806025751, 2, 3), (11840699188806025751, 2, 4)]\n",
            "matches: [(11840699188806025751, 11, 12), (11840699188806025751, 11, 13)]\n",
            "matches: [(11840699188806025751, 8, 9), (11840699188806025751, 8, 10)]\n",
            "matches: [(11840699188806025751, 3, 4), (11840699188806025751, 3, 5), (11840699188806025751, 3, 6)]\n",
            "matches: [(11840699188806025751, 3, 4)]\n",
            "matches: [(11840699188806025751, 7, 8)]\n",
            "matches: [(11840699188806025751, 3, 4), (11840699188806025751, 3, 5), (11840699188806025751, 3, 6)]\n",
            "matches: [(11840699188806025751, 9, 10)]\n",
            "matches: [(11840699188806025751, 3, 4), (11840699188806025751, 3, 5)]\n",
            "matches: [(11840699188806025751, 2, 3)]\n",
            "matches: [(11840699188806025751, 4, 5)]\n",
            "matches: [(11840699188806025751, 4, 5), (11840699188806025751, 4, 6), (11840699188806025751, 4, 7)]\n"
          ],
          "name": "stdout"
        },
        {
          "output_type": "stream",
          "text": [
            " 20%|█▉        | 847/4318 [00:09<00:38, 89.67it/s]"
          ],
          "name": "stderr"
        },
        {
          "output_type": "stream",
          "text": [
            "matches: [(11840699188806025751, 5, 6), (11840699188806025751, 5, 7)]\n",
            "matches: [(11840699188806025751, 2, 3), (11840699188806025751, 2, 4)]\n",
            "matches: [(11840699188806025751, 5, 6)]\n",
            "matches: [(11840699188806025751, 4, 5)]\n",
            "matches: [(11840699188806025751, 2, 3)]\n",
            "matches: [(11840699188806025751, 10, 11)]\n",
            "matches: [(11840699188806025751, 2, 3)]\n",
            "matches: [(11840699188806025751, 2, 3), (11840699188806025751, 2, 4), (11840699188806025751, 2, 5)]\n",
            "matches: [(11840699188806025751, 2, 3)]\n",
            "matches: [(11840699188806025751, 4, 5), (11840699188806025751, 4, 6)]\n",
            "matches: [(11840699188806025751, 3, 4)]\n",
            "matches: [(11840699188806025751, 4, 5)]\n",
            "matches: [(11840699188806025751, 8, 9)]\n",
            "matches: [(11840699188806025751, 5, 6)]\n",
            "matches: [(11840699188806025751, 2, 3)]\n",
            "matches: [(11840699188806025751, 5, 6)]\n",
            "matches: [(11840699188806025751, 2, 3)]\n",
            "matches: [(11840699188806025751, 3, 4)]\n",
            "matches: [(11840699188806025751, 2, 3)]\n"
          ],
          "name": "stdout"
        },
        {
          "output_type": "stream",
          "text": [
            " 20%|██        | 866/4318 [00:09<00:38, 89.47it/s]"
          ],
          "name": "stderr"
        },
        {
          "output_type": "stream",
          "text": [
            "matches: [(11840699188806025751, 7, 8)]\n",
            "matches: [(11840699188806025751, 0, 1)]\n",
            "matches: [(11840699188806025751, 2, 3)]\n",
            "matches: [(11840699188806025751, 5, 6)]\n",
            "matches: [(11840699188806025751, 1, 2)]\n",
            "matches: [(11840699188806025751, 5, 6), (11840699188806025751, 5, 7)]\n",
            "matches: [(11840699188806025751, 3, 4), (11840699188806025751, 3, 5)]\n",
            "matches: [(11840699188806025751, 2, 3), (11840699188806025751, 2, 4)]\n",
            "matches: [(11840699188806025751, 4, 5), (11840699188806025751, 4, 6)]\n",
            "matches: [(11840699188806025751, 3, 4)]\n",
            "matches: [(11840699188806025751, 3, 4)]\n",
            "matches: [(11840699188806025751, 2, 3)]\n",
            "matches: [(11840699188806025751, 4, 5), (11840699188806025751, 4, 6)]\n",
            "matches: [(11840699188806025751, 4, 5), (11840699188806025751, 4, 6)]\n",
            "matches: [(11840699188806025751, 8, 9)]\n",
            "matches: [(11840699188806025751, 0, 1)]\n",
            "matches: [(11840699188806025751, 2, 3)]\n",
            "matches: [(11840699188806025751, 5, 6)]\n",
            "matches: [(11840699188806025751, 1, 2)]\n"
          ],
          "name": "stdout"
        },
        {
          "output_type": "stream",
          "text": [
            " 20%|██        | 884/4318 [00:10<00:38, 89.17it/s]"
          ],
          "name": "stderr"
        },
        {
          "output_type": "stream",
          "text": [
            "matches: [(11840699188806025751, 5, 6), (11840699188806025751, 5, 7)]\n",
            "matches: [(11840699188806025751, 3, 4), (11840699188806025751, 3, 5)]\n",
            "matches: [(11840699188806025751, 2, 3), (11840699188806025751, 2, 4)]\n",
            "matches: [(11840699188806025751, 4, 5), (11840699188806025751, 4, 6)]\n",
            "matches: [(11840699188806025751, 3, 4)]\n",
            "matches: [(11840699188806025751, 3, 4)]\n",
            "matches: [(11840699188806025751, 2, 3)]\n",
            "matches: [(11840699188806025751, 4, 5), (11840699188806025751, 4, 6)]\n",
            "matches: [(11840699188806025751, 4, 5), (11840699188806025751, 4, 6)]\n",
            "matches: [(11840699188806025751, 8, 9)]\n",
            "matches: [(11840699188806025751, 2, 3)]\n",
            "matches: [(11840699188806025751, 5, 6)]\n",
            "matches: [(11840699188806025751, 5, 6)]\n",
            "matches: [(11840699188806025751, 8, 9)]\n",
            "matches: [(11840699188806025751, 2, 3), (11840699188806025751, 2, 4)]\n",
            "matches: [(11840699188806025751, 10, 11), (11840699188806025751, 10, 12)]\n",
            "matches: [(11840699188806025751, 4, 5), (11840699188806025751, 4, 6)]\n",
            "matches: [(11840699188806025751, 8, 9)]\n",
            "matches: [(11840699188806025751, 7, 8)]\n"
          ],
          "name": "stdout"
        },
        {
          "output_type": "stream",
          "text": [
            " 21%|██        | 902/4318 [00:10<00:38, 88.11it/s]"
          ],
          "name": "stderr"
        },
        {
          "output_type": "stream",
          "text": [
            "matches: [(11840699188806025751, 4, 5), (11840699188806025751, 4, 6)]\n",
            "matches: [(11840699188806025751, 3, 4)]\n",
            "matches: [(11840699188806025751, 2, 3)]\n",
            "matches: [(11840699188806025751, 4, 5), (11840699188806025751, 4, 6)]\n",
            "matches: [(11840699188806025751, 4, 5), (11840699188806025751, 4, 6)]\n",
            "matches: [(11840699188806025751, 1, 2)]\n",
            "matches: [(11840699188806025751, 1, 2)]\n",
            "matches: [(11840699188806025751, 2, 3)]\n",
            "matches: [(11840699188806025751, 1, 2)]\n",
            "matches: [(11840699188806025751, 11, 12)]\n",
            "matches: [(11840699188806025751, 2, 3)]\n",
            "matches: [(11840699188806025751, 2, 3)]\n",
            "matches: [(11840699188806025751, 4, 5)]\n",
            "matches: [(11840699188806025751, 2, 3)]\n",
            "matches: [(11840699188806025751, 6, 7), (11840699188806025751, 6, 8)]\n",
            "matches: [(11840699188806025751, 2, 3), (11840699188806025751, 2, 4)]\n",
            "matches: [(11840699188806025751, 3, 4)]\n",
            "matches: [(11840699188806025751, 3, 4)]\n",
            "matches: [(11840699188806025751, 4, 5), (11840699188806025751, 4, 6), (11840699188806025751, 4, 7)]\n"
          ],
          "name": "stdout"
        },
        {
          "output_type": "stream",
          "text": [
            " 21%|██▏       | 921/4318 [00:10<00:38, 89.08it/s]"
          ],
          "name": "stderr"
        },
        {
          "output_type": "stream",
          "text": [
            "matches: [(11840699188806025751, 7, 8)]\n",
            "matches: [(11840699188806025751, 2, 3)]\n",
            "matches: [(11840699188806025751, 5, 6), (11840699188806025751, 5, 7)]\n",
            "matches: [(11840699188806025751, 8, 9)]\n",
            "matches: [(11840699188806025751, 7, 8)]\n",
            "matches: [(11840699188806025751, 16, 17)]\n",
            "matches: [(11840699188806025751, 7, 8)]\n",
            "matches: [(11840699188806025751, 2, 3)]\n",
            "matches: [(11840699188806025751, 2, 3)]\n",
            "matches: [(11840699188806025751, 2, 3)]\n",
            "matches: [(11840699188806025751, 2, 3)]\n",
            "matches: [(11840699188806025751, 3, 4), (11840699188806025751, 3, 5), (11840699188806025751, 3, 6)]\n",
            "matches: [(11840699188806025751, 4, 5), (11840699188806025751, 4, 6)]\n",
            "matches: [(11840699188806025751, 3, 4), (11840699188806025751, 3, 5)]\n",
            "matches: [(11840699188806025751, 2, 3)]\n",
            "matches: [(11840699188806025751, 14, 15)]\n",
            "matches: [(11840699188806025751, 11, 12)]\n",
            "matches: [(11840699188806025751, 4, 5), (11840699188806025751, 4, 6), (11840699188806025751, 4, 7)]\n"
          ],
          "name": "stdout"
        },
        {
          "output_type": "stream",
          "text": [
            " 22%|██▏       | 939/4318 [00:10<00:39, 86.50it/s]"
          ],
          "name": "stderr"
        },
        {
          "output_type": "stream",
          "text": [
            "matches: [(11840699188806025751, 2, 3)]\n",
            "matches: [(11840699188806025751, 5, 6), (11840699188806025751, 5, 7)]\n",
            "matches: [(11840699188806025751, 3, 4), (11840699188806025751, 3, 5)]\n",
            "matches: [(11840699188806025751, 16, 17)]\n",
            "matches: [(11840699188806025751, 4, 5)]\n",
            "matches: [(11840699188806025751, 3, 4)]\n",
            "matches: [(11840699188806025751, 5, 6), (11840699188806025751, 5, 7), (11840699188806025751, 10, 11), (11840699188806025751, 12, 13), (11840699188806025751, 14, 15)]\n",
            "matches: [(11840699188806025751, 6, 7), (11840699188806025751, 6, 8)]\n",
            "matches: [(11840699188806025751, 2, 3), (11840699188806025751, 2, 4)]\n",
            "matches: [(11840699188806025751, 6, 7)]\n",
            "matches: [(11840699188806025751, 3, 4)]\n",
            "matches: [(11840699188806025751, 7, 8)]\n",
            "matches: [(11840699188806025751, 7, 8)]\n",
            "matches: [(11840699188806025751, 5, 6), (11840699188806025751, 5, 7)]\n",
            "matches: [(11840699188806025751, 4, 5)]\n",
            "matches: [(11840699188806025751, 3, 4)]\n",
            "matches: [(11840699188806025751, 5, 6), (11840699188806025751, 5, 7)]\n"
          ],
          "name": "stdout"
        },
        {
          "output_type": "stream",
          "text": [
            " 22%|██▏       | 958/4318 [00:10<00:39, 86.15it/s]"
          ],
          "name": "stderr"
        },
        {
          "output_type": "stream",
          "text": [
            "matches: [(11840699188806025751, 1, 2)]\n",
            "matches: [(11840699188806025751, 6, 7)]\n",
            "matches: [(11840699188806025751, 3, 4)]\n",
            "matches: [(11840699188806025751, 1, 2)]\n",
            "matches: [(11840699188806025751, 6, 7), (11840699188806025751, 6, 8)]\n",
            "matches: [(11840699188806025751, 10, 11), (11840699188806025751, 10, 12)]\n",
            "matches: [(11840699188806025751, 2, 3)]\n",
            "matches: [(11840699188806025751, 3, 4), (11840699188806025751, 3, 5)]\n",
            "matches: [(11840699188806025751, 13, 14)]\n",
            "matches: [(11840699188806025751, 4, 5)]\n",
            "matches: [(11840699188806025751, 5, 6), (11840699188806025751, 5, 7)]\n",
            "matches: [(11840699188806025751, 1, 2)]\n",
            "matches: [(11840699188806025751, 6, 7)]\n",
            "matches: [(11840699188806025751, 3, 4)]\n",
            "matches: [(11840699188806025751, 1, 2)]\n",
            "matches: [(11840699188806025751, 6, 7), (11840699188806025751, 6, 8)]\n",
            "matches: [(11840699188806025751, 10, 11), (11840699188806025751, 10, 12)]\n",
            "matches: [(11840699188806025751, 2, 3)]\n",
            "matches: [(11840699188806025751, 3, 4), (11840699188806025751, 3, 5)]\n"
          ],
          "name": "stdout"
        },
        {
          "output_type": "stream",
          "text": [
            " 23%|██▎       | 976/4318 [00:11<00:38, 86.69it/s]"
          ],
          "name": "stderr"
        },
        {
          "output_type": "stream",
          "text": [
            "matches: [(11840699188806025751, 13, 14)]\n",
            "matches: [(11840699188806025751, 4, 5)]\n",
            "matches: [(11840699188806025751, 2, 3), (11840699188806025751, 2, 4)]\n",
            "matches: [(11840699188806025751, 5, 6), (11840699188806025751, 5, 7), (11840699188806025751, 5, 8)]\n",
            "matches: [(11840699188806025751, 9, 10), (11840699188806025751, 9, 11)]\n",
            "matches: [(11840699188806025751, 1, 2)]\n",
            "matches: [(11840699188806025751, 5, 6), (11840699188806025751, 5, 7)]\n",
            "matches: [(11840699188806025751, 2, 3)]\n",
            "matches: [(11840699188806025751, 3, 4)]\n",
            "matches: [(11840699188806025751, 0, 1), (11840699188806025751, 5, 6)]\n",
            "matches: [(11840699188806025751, 2, 3), (11840699188806025751, 2, 4)]\n",
            "matches: [(11840699188806025751, 3, 4)]\n",
            "matches: [(11840699188806025751, 5, 6)]\n",
            "matches: [(11840699188806025751, 2, 3)]\n",
            "matches: [(11840699188806025751, 1, 2)]\n",
            "matches: [(11840699188806025751, 8, 9)]\n",
            "matches: [(11840699188806025751, 1, 2)]\n",
            "matches: [(11840699188806025751, 5, 6)]\n"
          ],
          "name": "stdout"
        },
        {
          "output_type": "stream",
          "text": [
            " 23%|██▎       | 995/4318 [00:11<00:37, 88.73it/s]"
          ],
          "name": "stderr"
        },
        {
          "output_type": "stream",
          "text": [
            "matches: [(11840699188806025751, 1, 2)]\n",
            "matches: [(11840699188806025751, 8, 9), (11840699188806025751, 8, 10)]\n",
            "matches: [(11840699188806025751, 3, 4), (11840699188806025751, 3, 5)]\n",
            "matches: [(11840699188806025751, 5, 6)]\n",
            "matches: [(11840699188806025751, 3, 4)]\n",
            "matches: [(11840699188806025751, 5, 6)]\n",
            "matches: [(11840699188806025751, 2, 3)]\n",
            "matches: [(11840699188806025751, 1, 2)]\n",
            "matches: [(11840699188806025751, 8, 9)]\n",
            "matches: [(11840699188806025751, 1, 2)]\n",
            "matches: [(11840699188806025751, 5, 6)]\n",
            "matches: [(11840699188806025751, 1, 2)]\n",
            "matches: [(11840699188806025751, 8, 9), (11840699188806025751, 8, 10)]\n",
            "matches: [(11840699188806025751, 3, 4), (11840699188806025751, 3, 5)]\n",
            "matches: [(11840699188806025751, 5, 6)]\n",
            "matches: [(11840699188806025751, 3, 4), (11840699188806025751, 3, 5)]\n",
            "matches: [(11840699188806025751, 3, 4), (11840699188806025751, 3, 5)]\n",
            "matches: [(11840699188806025751, 5, 6)]\n",
            "matches: [(11840699188806025751, 4, 5)]\n"
          ],
          "name": "stdout"
        },
        {
          "output_type": "stream",
          "text": [
            " 23%|██▎       | 1014/4318 [00:11<00:37, 88.63it/s]"
          ],
          "name": "stderr"
        },
        {
          "output_type": "stream",
          "text": [
            "matches: [(11840699188806025751, 3, 4)]\n",
            "matches: [(11840699188806025751, 8, 9), (11840699188806025751, 8, 10)]\n",
            "matches: [(11840699188806025751, 3, 4)]\n",
            "matches: [(11840699188806025751, 9, 10)]\n",
            "matches: [(11840699188806025751, 11, 12), (11840699188806025751, 11, 13)]\n",
            "matches: [(11840699188806025751, 1, 2), (11840699188806025751, 1, 3)]\n",
            "matches: [(11840699188806025751, 4, 5), (11840699188806025751, 4, 6)]\n",
            "matches: [(11840699188806025751, 13, 14)]\n",
            "matches: [(11840699188806025751, 0, 1)]\n",
            "matches: [(11840699188806025751, 1, 2)]\n",
            "matches: [(11840699188806025751, 3, 4)]\n",
            "matches: [(11840699188806025751, 1, 2)]\n",
            "matches: [(11840699188806025751, 5, 6)]\n",
            "matches: [(11840699188806025751, 3, 4)]\n",
            "matches: [(11840699188806025751, 2, 3), (11840699188806025751, 2, 4)]\n",
            "matches: [(11840699188806025751, 4, 5), (11840699188806025751, 4, 6)]\n",
            "matches: [(11840699188806025751, 3, 4)]\n",
            "matches: [(11840699188806025751, 0, 1)]\n",
            "matches: [(11840699188806025751, 2, 3), (11840699188806025751, 2, 4)]\n"
          ],
          "name": "stdout"
        },
        {
          "output_type": "stream",
          "text": [
            " 24%|██▍       | 1032/4318 [00:11<00:38, 85.75it/s]"
          ],
          "name": "stderr"
        },
        {
          "output_type": "stream",
          "text": [
            "matches: [(11840699188806025751, 2, 3)]\n",
            "matches: [(11840699188806025751, 2, 3)]\n",
            "matches: [(11840699188806025751, 5, 6), (11840699188806025751, 5, 7)]\n",
            "matches: [(11840699188806025751, 1, 2)]\n",
            "matches: [(11840699188806025751, 6, 7)]\n",
            "matches: [(11840699188806025751, 8, 9), (11840699188806025751, 8, 10)]\n",
            "matches: [(11840699188806025751, 2, 3)]\n",
            "matches: [(11840699188806025751, 3, 4)]\n",
            "matches: [(11840699188806025751, 3, 4)]\n",
            "matches: [(11840699188806025751, 2, 3)]\n",
            "matches: [(11840699188806025751, 6, 7), (11840699188806025751, 6, 8), (11840699188806025751, 6, 9)]\n",
            "matches: [(11840699188806025751, 1, 2)]\n",
            "matches: [(11840699188806025751, 2, 3)]\n",
            "matches: [(11840699188806025751, 2, 3)]\n",
            "matches: [(11840699188806025751, 1, 2)]\n",
            "matches: [(11840699188806025751, 1, 2)]\n",
            "matches: [(11840699188806025751, 1, 2)]\n"
          ],
          "name": "stdout"
        },
        {
          "output_type": "stream",
          "text": [
            " 24%|██▍       | 1050/4318 [00:12<00:38, 85.97it/s]"
          ],
          "name": "stderr"
        },
        {
          "output_type": "stream",
          "text": [
            "matches: [(11840699188806025751, 2, 3), (11840699188806025751, 2, 4)]\n",
            "matches: [(11840699188806025751, 3, 4)]\n",
            "matches: [(11840699188806025751, 6, 7)]\n",
            "matches: [(11840699188806025751, 9, 10)]\n",
            "matches: [(11840699188806025751, 3, 4)]\n",
            "matches: [(11840699188806025751, 2, 3)]\n",
            "matches: [(11840699188806025751, 2, 3)]\n",
            "matches: [(11840699188806025751, 4, 5), (11840699188806025751, 4, 6)]\n",
            "matches: [(11840699188806025751, 2, 3)]\n",
            "matches: [(11840699188806025751, 2, 3)]\n",
            "matches: [(11840699188806025751, 3, 4)]\n",
            "matches: [(11840699188806025751, 2, 3)]\n",
            "matches: [(11840699188806025751, 3, 4), (11840699188806025751, 3, 5)]\n",
            "matches: [(11840699188806025751, 5, 6)]\n",
            "matches: [(11840699188806025751, 12, 13), (11840699188806025751, 12, 14)]\n",
            "matches: [(11840699188806025751, 2, 3)]\n",
            "matches: [(11840699188806025751, 2, 3)]\n",
            "matches: [(11840699188806025751, 1, 2)]\n"
          ],
          "name": "stdout"
        },
        {
          "output_type": "stream",
          "text": [
            " 25%|██▍       | 1068/4318 [00:12<00:37, 85.95it/s]"
          ],
          "name": "stderr"
        },
        {
          "output_type": "stream",
          "text": [
            "matches: [(11840699188806025751, 1, 2)]\n",
            "matches: [(11840699188806025751, 1, 2)]\n",
            "matches: [(11840699188806025751, 2, 3), (11840699188806025751, 2, 4)]\n",
            "matches: [(11840699188806025751, 3, 4)]\n",
            "matches: [(11840699188806025751, 6, 7)]\n",
            "matches: [(11840699188806025751, 9, 10)]\n",
            "matches: [(11840699188806025751, 3, 4)]\n",
            "matches: [(11840699188806025751, 2, 3)]\n",
            "matches: [(11840699188806025751, 2, 3)]\n",
            "matches: [(11840699188806025751, 4, 5), (11840699188806025751, 4, 6)]\n",
            "matches: [(11840699188806025751, 2, 3)]\n",
            "matches: [(11840699188806025751, 2, 3)]\n",
            "matches: [(11840699188806025751, 3, 4)]\n",
            "matches: [(11840699188806025751, 2, 3)]\n",
            "matches: [(11840699188806025751, 3, 4), (11840699188806025751, 3, 5)]\n",
            "matches: [(11840699188806025751, 5, 6)]\n",
            "matches: [(11840699188806025751, 12, 13), (11840699188806025751, 12, 14)]\n",
            "matches: [(11840699188806025751, 9, 10)]\n"
          ],
          "name": "stdout"
        },
        {
          "output_type": "stream",
          "text": [
            " 25%|██▌       | 1087/4318 [00:12<00:36, 89.29it/s]"
          ],
          "name": "stderr"
        },
        {
          "output_type": "stream",
          "text": [
            "matches: [(11840699188806025751, 5, 6), (11840699188806025751, 5, 7)]\n",
            "matches: [(11840699188806025751, 14, 15)]\n",
            "matches: [(11840699188806025751, 5, 6)]\n",
            "matches: [(11840699188806025751, 8, 9), (11840699188806025751, 8, 10)]\n",
            "matches: [(11840699188806025751, 9, 10)]\n",
            "matches: [(11840699188806025751, 5, 6)]\n",
            "matches: [(11840699188806025751, 8, 9)]\n",
            "matches: [(11840699188806025751, 4, 5), (11840699188806025751, 4, 6)]\n",
            "matches: [(11840699188806025751, 2, 3)]\n",
            "matches: [(11840699188806025751, 5, 6)]\n",
            "matches: [(11840699188806025751, 2, 3), (11840699188806025751, 2, 4)]\n",
            "matches: [(11840699188806025751, 2, 3)]\n",
            "matches: [(11840699188806025751, 8, 9)]\n",
            "matches: [(11840699188806025751, 2, 3), (11840699188806025751, 2, 4)]\n",
            "matches: [(11840699188806025751, 2, 3), (11840699188806025751, 2, 4)]\n",
            "matches: [(11840699188806025751, 4, 5)]\n",
            "matches: [(11840699188806025751, 2, 3), (11840699188806025751, 2, 4)]\n",
            "matches: [(11840699188806025751, 3, 4), (11840699188806025751, 3, 5)]\n",
            "matches: [(11840699188806025751, 5, 6)]\n",
            "matches: [(11840699188806025751, 4, 5)]\n"
          ],
          "name": "stdout"
        },
        {
          "output_type": "stream",
          "text": [
            " 26%|██▌       | 1106/4318 [00:12<00:35, 90.53it/s]"
          ],
          "name": "stderr"
        },
        {
          "output_type": "stream",
          "text": [
            "matches: [(11840699188806025751, 4, 5)]\n",
            "matches: [(11840699188806025751, 5, 6), (11840699188806025751, 5, 7), (11840699188806025751, 5, 8)]\n",
            "matches: [(11840699188806025751, 8, 9)]\n",
            "matches: [(11840699188806025751, 8, 9)]\n",
            "matches: [(11840699188806025751, 14, 15)]\n",
            "matches: [(11840699188806025751, 1, 2)]\n",
            "matches: [(11840699188806025751, 1, 2)]\n",
            "matches: [(11840699188806025751, 2, 3), (11840699188806025751, 2, 4)]\n",
            "matches: [(11840699188806025751, 3, 4), (11840699188806025751, 3, 5)]\n",
            "matches: [(11840699188806025751, 3, 4)]\n",
            "matches: [(11840699188806025751, 3, 4)]\n",
            "matches: [(11840699188806025751, 2, 3), (11840699188806025751, 2, 4)]\n",
            "matches: [(11840699188806025751, 6, 7)]\n",
            "matches: [(11840699188806025751, 1, 2)]\n",
            "matches: [(11840699188806025751, 3, 4), (11840699188806025751, 3, 5)]\n",
            "matches: [(11840699188806025751, 6, 7), (11840699188806025751, 6, 8)]\n",
            "matches: [(11840699188806025751, 5, 6)]\n",
            "matches: [(11840699188806025751, 7, 8)]\n",
            "matches: [(11840699188806025751, 1, 2)]\n"
          ],
          "name": "stdout"
        },
        {
          "output_type": "stream",
          "text": [
            " 26%|██▌       | 1126/4318 [00:12<00:35, 89.93it/s]"
          ],
          "name": "stderr"
        },
        {
          "output_type": "stream",
          "text": [
            "matches: [(11840699188806025751, 3, 4)]\n",
            "matches: [(11840699188806025751, 4, 5), (11840699188806025751, 4, 6)]\n",
            "matches: [(11840699188806025751, 2, 3)]\n",
            "matches: [(11840699188806025751, 3, 4)]\n",
            "matches: [(11840699188806025751, 1, 2)]\n",
            "matches: [(11840699188806025751, 2, 3)]\n",
            "matches: [(11840699188806025751, 1, 2)]\n",
            "matches: [(11840699188806025751, 2, 3)]\n",
            "matches: [(11840699188806025751, 2, 3)]\n",
            "matches: [(11840699188806025751, 2, 3)]\n",
            "matches: [(11840699188806025751, 1, 2), (11840699188806025751, 1, 3)]\n",
            "matches: [(11840699188806025751, 1, 2)]\n",
            "matches: [(11840699188806025751, 5, 6)]\n",
            "matches: [(11840699188806025751, 2, 3)]\n",
            "matches: [(11840699188806025751, 2, 3)]\n",
            "matches: [(11840699188806025751, 14, 15)]\n",
            "matches: [(11840699188806025751, 1, 2)]\n",
            "matches: [(11840699188806025751, 1, 2)]\n",
            "matches: [(11840699188806025751, 2, 3), (11840699188806025751, 2, 4)]\n"
          ],
          "name": "stdout"
        },
        {
          "output_type": "stream",
          "text": [
            " 27%|██▋       | 1146/4318 [00:13<00:34, 92.26it/s]"
          ],
          "name": "stderr"
        },
        {
          "output_type": "stream",
          "text": [
            "matches: [(11840699188806025751, 3, 4), (11840699188806025751, 3, 5)]\n",
            "matches: [(11840699188806025751, 3, 4)]\n",
            "matches: [(11840699188806025751, 3, 4)]\n",
            "matches: [(11840699188806025751, 2, 3), (11840699188806025751, 2, 4)]\n",
            "matches: [(11840699188806025751, 6, 7)]\n",
            "matches: [(11840699188806025751, 1, 2)]\n",
            "matches: [(11840699188806025751, 3, 4), (11840699188806025751, 3, 5)]\n",
            "matches: [(11840699188806025751, 6, 7), (11840699188806025751, 6, 8)]\n",
            "matches: [(11840699188806025751, 5, 6)]\n",
            "matches: [(11840699188806025751, 7, 8)]\n",
            "matches: [(11840699188806025751, 1, 2)]\n",
            "matches: [(11840699188806025751, 3, 4)]\n",
            "matches: [(11840699188806025751, 4, 5), (11840699188806025751, 4, 6)]\n",
            "matches: [(11840699188806025751, 2, 3)]\n",
            "matches: [(11840699188806025751, 3, 4)]\n",
            "matches: [(11840699188806025751, 1, 2)]\n",
            "matches: [(11840699188806025751, 2, 3)]\n",
            "matches: [(11840699188806025751, 1, 2)]\n",
            "matches: [(11840699188806025751, 2, 3)]\n"
          ],
          "name": "stdout"
        },
        {
          "output_type": "stream",
          "text": [
            " 27%|██▋       | 1166/4318 [00:13<00:34, 91.07it/s]"
          ],
          "name": "stderr"
        },
        {
          "output_type": "stream",
          "text": [
            "matches: [(11840699188806025751, 2, 3)]\n",
            "matches: [(11840699188806025751, 2, 3)]\n",
            "matches: [(11840699188806025751, 1, 2), (11840699188806025751, 1, 3)]\n",
            "matches: [(11840699188806025751, 1, 2)]\n",
            "matches: [(11840699188806025751, 5, 6)]\n",
            "matches: [(11840699188806025751, 2, 3)]\n",
            "matches: [(11840699188806025751, 2, 3)]\n",
            "matches: [(11840699188806025751, 10, 11)]\n",
            "matches: [(11840699188806025751, 1, 2)]\n",
            "matches: [(11840699188806025751, 3, 4), (11840699188806025751, 3, 5)]\n",
            "matches: [(11840699188806025751, 2, 3), (11840699188806025751, 2, 4)]\n",
            "matches: [(11840699188806025751, 1, 2)]\n",
            "matches: [(11840699188806025751, 2, 3), (11840699188806025751, 2, 4), (11840699188806025751, 2, 5)]\n",
            "matches: [(11840699188806025751, 2, 3)]\n",
            "matches: [(11840699188806025751, 1, 2), (11840699188806025751, 1, 3)]\n",
            "matches: [(11840699188806025751, 1, 2)]\n",
            "matches: [(11840699188806025751, 2, 3), (11840699188806025751, 2, 4)]\n",
            "matches: [(11840699188806025751, 2, 3), (11840699188806025751, 2, 4)]\n",
            "matches: [(11840699188806025751, 3, 4)]\n",
            "matches: [(11840699188806025751, 5, 6), (11840699188806025751, 5, 7)]\n"
          ],
          "name": "stdout"
        },
        {
          "output_type": "stream",
          "text": [
            "\r 27%|██▋       | 1176/4318 [00:13<00:35, 88.22it/s]"
          ],
          "name": "stderr"
        },
        {
          "output_type": "stream",
          "text": [
            "matches: [(11840699188806025751, 1, 2)]\n",
            "matches: [(11840699188806025751, 3, 4), (11840699188806025751, 3, 5)]\n",
            "matches: [(11840699188806025751, 6, 7), (11840699188806025751, 6, 8)]\n",
            "matches: [(11840699188806025751, 5, 6), (11840699188806025751, 5, 7)]\n",
            "matches: [(11840699188806025751, 9, 10), (11840699188806025751, 9, 11)]\n",
            "matches: [(11840699188806025751, 8, 9), (11840699188806025751, 8, 10)]\n",
            "matches: [(11840699188806025751, 5, 6)]\n",
            "matches: [(11840699188806025751, 4, 5), (11840699188806025751, 4, 6)]\n",
            "matches: [(11840699188806025751, 13, 14)]\n",
            "matches: [(11840699188806025751, 6, 7), (11840699188806025751, 6, 8)]\n",
            "matches: [(11840699188806025751, 3, 4), (11840699188806025751, 3, 5)]\n",
            "matches: [(11840699188806025751, 7, 8)]\n",
            "matches: [(11840699188806025751, 2, 3), (11840699188806025751, 2, 4)]\n",
            "matches: [(11840699188806025751, 2, 3), (11840699188806025751, 2, 4)]\n",
            "matches: [(11840699188806025751, 1, 2)]\n",
            "matches: [(11840699188806025751, 1, 2), (11840699188806025751, 1, 3)]\n",
            "matches: [(11840699188806025751, 2, 3)]\n",
            "matches: [(11840699188806025751, 2, 3), (11840699188806025751, 2, 4)]\n"
          ],
          "name": "stdout"
        },
        {
          "output_type": "stream",
          "text": [
            " 28%|██▊       | 1194/4318 [00:13<00:35, 87.51it/s]"
          ],
          "name": "stderr"
        },
        {
          "output_type": "stream",
          "text": [
            "matches: [(11840699188806025751, 2, 3)]\n",
            "matches: [(11840699188806025751, 3, 4)]\n",
            "matches: [(11840699188806025751, 2, 3)]\n",
            "matches: [(11840699188806025751, 5, 6), (11840699188806025751, 5, 7)]\n",
            "matches: [(11840699188806025751, 3, 4), (11840699188806025751, 3, 5)]\n",
            "matches: [(11840699188806025751, 2, 3)]\n",
            "matches: [(11840699188806025751, 1, 2)]\n",
            "matches: [(11840699188806025751, 3, 4), (11840699188806025751, 3, 5)]\n",
            "matches: [(11840699188806025751, 2, 3), (11840699188806025751, 2, 4)]\n",
            "matches: [(11840699188806025751, 3, 4)]\n",
            "matches: [(11840699188806025751, 6, 7)]\n",
            "matches: [(11840699188806025751, 7, 8)]\n",
            "matches: [(11840699188806025751, 3, 4), (11840699188806025751, 3, 5)]\n",
            "matches: [(11840699188806025751, 3, 4), (11840699188806025751, 3, 5)]\n",
            "matches: [(11840699188806025751, 3, 4)]\n",
            "matches: [(11840699188806025751, 4, 5), (11840699188806025751, 4, 6)]\n",
            "matches: [(11840699188806025751, 1, 2)]\n",
            "matches: [(11840699188806025751, 4, 5), (11840699188806025751, 4, 6)]\n"
          ],
          "name": "stdout"
        },
        {
          "output_type": "stream",
          "text": [
            " 28%|██▊       | 1212/4318 [00:13<00:36, 84.11it/s]"
          ],
          "name": "stderr"
        },
        {
          "output_type": "stream",
          "text": [
            "matches: [(11840699188806025751, 4, 5)]\n",
            "matches: [(11840699188806025751, 2, 3), (11840699188806025751, 2, 4)]\n",
            "matches: [(11840699188806025751, 1, 2)]\n",
            "matches: [(11840699188806025751, 1, 2)]\n",
            "matches: [(11840699188806025751, 1, 2)]\n",
            "matches: [(11840699188806025751, 3, 4), (11840699188806025751, 3, 5)]\n",
            "matches: [(11840699188806025751, 8, 9), (11840699188806025751, 8, 10)]\n",
            "matches: [(11840699188806025751, 3, 4)]\n",
            "matches: [(11840699188806025751, 2, 3)]\n",
            "matches: [(11840699188806025751, 6, 7)]\n",
            "matches: [(11840699188806025751, 2, 3)]\n",
            "matches: [(11840699188806025751, 6, 7), (11840699188806025751, 6, 8)]\n",
            "matches: [(11840699188806025751, 3, 4)]\n",
            "matches: [(11840699188806025751, 8, 9)]\n",
            "matches: [(11840699188806025751, 1, 2)]\n",
            "matches: [(11840699188806025751, 0, 1)]\n",
            "matches: [(11840699188806025751, 6, 7), (11840699188806025751, 6, 8)]\n"
          ],
          "name": "stdout"
        },
        {
          "output_type": "stream",
          "text": [
            " 29%|██▊       | 1231/4318 [00:14<00:35, 87.16it/s]"
          ],
          "name": "stderr"
        },
        {
          "output_type": "stream",
          "text": [
            "matches: [(11840699188806025751, 7, 8), (11840699188806025751, 7, 9)]\n",
            "matches: [(11840699188806025751, 2, 3)]\n",
            "matches: [(11840699188806025751, 2, 3)]\n",
            "matches: [(11840699188806025751, 3, 4)]\n",
            "matches: [(11840699188806025751, 6, 7)]\n",
            "matches: [(11840699188806025751, 6, 7), (11840699188806025751, 6, 8)]\n",
            "matches: [(11840699188806025751, 2, 3)]\n",
            "matches: [(11840699188806025751, 1, 2)]\n",
            "matches: [(11840699188806025751, 2, 3)]\n",
            "matches: [(11840699188806025751, 4, 5)]\n",
            "matches: [(11840699188806025751, 3, 4), (11840699188806025751, 3, 5)]\n",
            "matches: [(11840699188806025751, 1, 2)]\n",
            "matches: [(11840699188806025751, 2, 3), (11840699188806025751, 2, 4)]\n",
            "matches: [(11840699188806025751, 3, 4), (11840699188806025751, 3, 5)]\n",
            "matches: [(11840699188806025751, 1, 2)]\n",
            "matches: [(11840699188806025751, 2, 3), (11840699188806025751, 2, 4)]\n",
            "matches: [(11840699188806025751, 4, 5)]\n",
            "matches: [(11840699188806025751, 1, 2)]\n",
            "matches: [(11840699188806025751, 4, 5)]\n"
          ],
          "name": "stdout"
        },
        {
          "output_type": "stream",
          "text": [
            " 29%|██▉       | 1250/4318 [00:14<00:34, 89.30it/s]"
          ],
          "name": "stderr"
        },
        {
          "output_type": "stream",
          "text": [
            "matches: [(11840699188806025751, 3, 4), (11840699188806025751, 3, 5)]\n",
            "matches: [(11840699188806025751, 2, 3)]\n",
            "matches: [(11840699188806025751, 5, 6)]\n",
            "matches: [(11840699188806025751, 3, 4)]\n",
            "matches: [(11840699188806025751, 5, 6)]\n",
            "matches: [(11840699188806025751, 10, 11)]\n",
            "matches: [(11840699188806025751, 2, 3), (11840699188806025751, 2, 4), (11840699188806025751, 2, 5)]\n",
            "matches: [(11840699188806025751, 4, 5), (11840699188806025751, 4, 6)]\n",
            "matches: [(11840699188806025751, 4, 5)]\n",
            "matches: [(11840699188806025751, 4, 5), (11840699188806025751, 4, 6)]\n",
            "matches: [(11840699188806025751, 7, 8), (11840699188806025751, 7, 9)]\n",
            "matches: [(11840699188806025751, 1, 2)]\n",
            "matches: [(11840699188806025751, 5, 6)]\n",
            "matches: [(11840699188806025751, 8, 9), (11840699188806025751, 8, 10)]\n",
            "matches: [(11840699188806025751, 5, 6), (11840699188806025751, 5, 7)]\n",
            "matches: [(11840699188806025751, 7, 8)]\n",
            "matches: [(11840699188806025751, 5, 6)]\n",
            "matches: [(11840699188806025751, 1, 2)]\n",
            "matches: [(11840699188806025751, 8, 9)]\n"
          ],
          "name": "stdout"
        },
        {
          "output_type": "stream",
          "text": [
            " 29%|██▉       | 1269/4318 [00:14<00:33, 90.11it/s]"
          ],
          "name": "stderr"
        },
        {
          "output_type": "stream",
          "text": [
            "matches: [(11840699188806025751, 2, 3)]\n",
            "matches: [(11840699188806025751, 2, 3)]\n",
            "matches: [(11840699188806025751, 1, 2)]\n",
            "matches: [(11840699188806025751, 0, 1)]\n",
            "matches: [(11840699188806025751, 1, 2), (11840699188806025751, 1, 3)]\n",
            "matches: [(11840699188806025751, 1, 2)]\n",
            "matches: [(11840699188806025751, 1, 2)]\n",
            "matches: [(11840699188806025751, 1, 2)]\n",
            "matches: [(11840699188806025751, 1, 2)]\n",
            "matches: [(11840699188806025751, 5, 6)]\n",
            "matches: [(11840699188806025751, 2, 3)]\n",
            "matches: [(11840699188806025751, 0, 1)]\n",
            "matches: [(11840699188806025751, 1, 2)]\n",
            "matches: [(11840699188806025751, 4, 5), (11840699188806025751, 4, 6)]\n",
            "matches: [(11840699188806025751, 4, 5), (11840699188806025751, 4, 6)]\n",
            "matches: [(11840699188806025751, 1, 2), (11840699188806025751, 1, 3)]\n",
            "matches: [(11840699188806025751, 1, 2)]\n",
            "matches: [(11840699188806025751, 1, 2)]\n",
            "matches: [(11840699188806025751, 1, 2)]\n",
            "matches: [(11840699188806025751, 3, 4)]\n"
          ],
          "name": "stdout"
        },
        {
          "output_type": "stream",
          "text": [
            " 30%|██▉       | 1289/4318 [00:14<00:32, 92.29it/s]"
          ],
          "name": "stderr"
        },
        {
          "output_type": "stream",
          "text": [
            "matches: [(11840699188806025751, 1, 2), (11840699188806025751, 1, 3), (11840699188806025751, 8, 9)]\n",
            "matches: [(11840699188806025751, 0, 1)]\n",
            "matches: [(11840699188806025751, 1, 2)]\n",
            "matches: [(11840699188806025751, 1, 2)]\n",
            "matches: [(11840699188806025751, 4, 5)]\n",
            "matches: [(11840699188806025751, 5, 6)]\n",
            "matches: [(11840699188806025751, 1, 2), (11840699188806025751, 1, 3)]\n",
            "matches: [(11840699188806025751, 6, 7)]\n",
            "matches: [(11840699188806025751, 3, 4)]\n",
            "matches: [(11840699188806025751, 11, 12), (11840699188806025751, 11, 13)]\n",
            "matches: [(11840699188806025751, 7, 8), (11840699188806025751, 7, 9)]\n",
            "matches: [(11840699188806025751, 2, 3), (11840699188806025751, 2, 4)]\n",
            "matches: [(11840699188806025751, 3, 4), (11840699188806025751, 3, 5)]\n",
            "matches: [(11840699188806025751, 4, 5), (11840699188806025751, 4, 6)]\n",
            "matches: [(11840699188806025751, 3, 4)]\n",
            "matches: [(11840699188806025751, 2, 3)]\n",
            "matches: [(11840699188806025751, 2, 3)]\n",
            "matches: [(11840699188806025751, 8, 9)]\n",
            "matches: [(11840699188806025751, 2, 3), (11840699188806025751, 2, 4)]\n"
          ],
          "name": "stdout"
        },
        {
          "output_type": "stream",
          "text": [
            " 30%|███       | 1309/4318 [00:14<00:33, 90.34it/s]"
          ],
          "name": "stderr"
        },
        {
          "output_type": "stream",
          "text": [
            "matches: [(11840699188806025751, 5, 6)]\n",
            "matches: [(11840699188806025751, 1, 2), (11840699188806025751, 4, 5)]\n",
            "matches: [(11840699188806025751, 2, 3)]\n",
            "matches: [(11840699188806025751, 2, 3), (11840699188806025751, 2, 4)]\n",
            "matches: [(11840699188806025751, 0, 1), (11840699188806025751, 0, 2)]\n",
            "matches: [(11840699188806025751, 2, 3)]\n",
            "matches: [(11840699188806025751, 4, 5), (11840699188806025751, 4, 6)]\n",
            "matches: [(11840699188806025751, 5, 6), (11840699188806025751, 5, 7), (11840699188806025751, 5, 8)]\n",
            "matches: [(11840699188806025751, 1, 2), (11840699188806025751, 1, 3)]\n",
            "matches: [(11840699188806025751, 10, 11)]\n",
            "matches: [(11840699188806025751, 3, 4)]\n",
            "matches: [(11840699188806025751, 3, 4), (11840699188806025751, 3, 5)]\n",
            "matches: [(11840699188806025751, 5, 6), (11840699188806025751, 5, 7)]\n",
            "matches: [(11840699188806025751, 3, 4), (11840699188806025751, 3, 5)]\n",
            "matches: [(11840699188806025751, 3, 4), (11840699188806025751, 3, 5)]\n",
            "matches: [(11840699188806025751, 2, 3)]\n",
            "matches: [(11840699188806025751, 5, 6), (11840699188806025751, 5, 7)]\n",
            "matches: [(11840699188806025751, 1, 2)]\n"
          ],
          "name": "stdout"
        },
        {
          "output_type": "stream",
          "text": [
            " 31%|███       | 1328/4318 [00:15<00:34, 85.89it/s]"
          ],
          "name": "stderr"
        },
        {
          "output_type": "stream",
          "text": [
            "matches: [(11840699188806025751, 1, 2)]\n",
            "matches: [(11840699188806025751, 2, 3)]\n",
            "matches: [(11840699188806025751, 4, 5), (11840699188806025751, 4, 6)]\n",
            "matches: [(11840699188806025751, 5, 6), (11840699188806025751, 5, 7), (11840699188806025751, 5, 8)]\n",
            "matches: [(11840699188806025751, 1, 2), (11840699188806025751, 1, 3)]\n",
            "matches: [(11840699188806025751, 10, 11)]\n",
            "matches: [(11840699188806025751, 3, 4)]\n",
            "matches: [(11840699188806025751, 3, 4), (11840699188806025751, 3, 5)]\n",
            "matches: [(11840699188806025751, 5, 6), (11840699188806025751, 5, 7)]\n",
            "matches: [(11840699188806025751, 3, 4), (11840699188806025751, 3, 5)]\n",
            "matches: [(11840699188806025751, 3, 4), (11840699188806025751, 3, 5)]\n",
            "matches: [(11840699188806025751, 2, 3)]\n",
            "matches: [(11840699188806025751, 5, 6), (11840699188806025751, 5, 7)]\n",
            "matches: [(11840699188806025751, 1, 2)]\n",
            "matches: [(11840699188806025751, 1, 2)]\n",
            "matches: [(11840699188806025751, 3, 4), (11840699188806025751, 3, 5)]\n",
            "matches: [(11840699188806025751, 2, 3), (11840699188806025751, 2, 4)]\n",
            "matches: [(11840699188806025751, 2, 3), (11840699188806025751, 2, 4)]\n"
          ],
          "name": "stdout"
        },
        {
          "output_type": "stream",
          "text": [
            " 31%|███       | 1346/4318 [00:15<00:34, 87.09it/s]"
          ],
          "name": "stderr"
        },
        {
          "output_type": "stream",
          "text": [
            "matches: [(11840699188806025751, 1, 2)]\n",
            "matches: [(11840699188806025751, 4, 5), (11840699188806025751, 4, 6)]\n",
            "matches: [(11840699188806025751, 3, 4)]\n",
            "matches: [(11840699188806025751, 3, 4)]\n",
            "matches: [(11840699188806025751, 1, 2), (11840699188806025751, 1, 3)]\n",
            "matches: [(11840699188806025751, 3, 4), (11840699188806025751, 3, 5)]\n",
            "matches: [(11840699188806025751, 2, 3), (11840699188806025751, 2, 4)]\n",
            "matches: [(11840699188806025751, 1, 2), (11840699188806025751, 1, 3)]\n",
            "matches: [(11840699188806025751, 1, 2)]\n",
            "matches: [(11840699188806025751, 3, 4)]\n",
            "matches: [(11840699188806025751, 2, 3)]\n",
            "matches: [(11840699188806025751, 6, 7), (11840699188806025751, 6, 8)]\n",
            "matches: [(11840699188806025751, 3, 4)]\n",
            "matches: [(11840699188806025751, 1, 2)]\n",
            "matches: [(11840699188806025751, 4, 5), (11840699188806025751, 4, 6)]\n",
            "matches: [(11840699188806025751, 3, 4)]\n",
            "matches: [(11840699188806025751, 1, 2)]\n",
            "matches: [(11840699188806025751, 2, 3)]\n"
          ],
          "name": "stdout"
        },
        {
          "output_type": "stream",
          "text": [
            " 32%|███▏      | 1364/4318 [00:15<00:33, 87.42it/s]"
          ],
          "name": "stderr"
        },
        {
          "output_type": "stream",
          "text": [
            "matches: [(11840699188806025751, 8, 9), (11840699188806025751, 8, 10)]\n",
            "matches: [(11840699188806025751, 4, 5), (11840699188806025751, 4, 6)]\n",
            "matches: [(11840699188806025751, 2, 3)]\n",
            "matches: [(11840699188806025751, 3, 4)]\n",
            "matches: [(11840699188806025751, 14, 15)]\n",
            "matches: [(11840699188806025751, 3, 4), (11840699188806025751, 3, 5)]\n",
            "matches: [(11840699188806025751, 1, 2)]\n",
            "matches: [(11840699188806025751, 1, 2), (11840699188806025751, 1, 3)]\n",
            "matches: [(11840699188806025751, 6, 7), (11840699188806025751, 6, 8)]\n",
            "matches: [(11840699188806025751, 3, 4)]\n",
            "matches: [(11840699188806025751, 2, 3), (11840699188806025751, 2, 4)]\n",
            "matches: [(11840699188806025751, 8, 9)]\n",
            "matches: [(11840699188806025751, 2, 3)]\n",
            "matches: [(11840699188806025751, 3, 4)]\n",
            "matches: [(11840699188806025751, 1, 2)]\n",
            "matches: [(11840699188806025751, 1, 2)]\n",
            "matches: [(11840699188806025751, 3, 4)]\n",
            "matches: [(11840699188806025751, 3, 4), (11840699188806025751, 3, 5)]\n"
          ],
          "name": "stdout"
        },
        {
          "output_type": "stream",
          "text": [
            " 32%|███▏      | 1383/4318 [00:15<00:33, 87.56it/s]"
          ],
          "name": "stderr"
        },
        {
          "output_type": "stream",
          "text": [
            "matches: [(11840699188806025751, 1, 2)]\n",
            "matches: [(11840699188806025751, 3, 4)]\n",
            "matches: [(11840699188806025751, 2, 3), (11840699188806025751, 2, 4)]\n",
            "matches: [(11840699188806025751, 3, 4)]\n",
            "matches: [(11840699188806025751, 8, 9)]\n",
            "matches: [(11840699188806025751, 9, 10)]\n",
            "matches: [(11840699188806025751, 9, 10)]\n",
            "matches: [(11840699188806025751, 2, 3), (11840699188806025751, 2, 4)]\n",
            "matches: [(11840699188806025751, 1, 2)]\n",
            "matches: [(11840699188806025751, 3, 4)]\n",
            "matches: [(11840699188806025751, 4, 5), (11840699188806025751, 4, 6)]\n",
            "matches: [(11840699188806025751, 1, 2)]\n",
            "matches: [(11840699188806025751, 1, 2)]\n",
            "matches: [(11840699188806025751, 1, 2)]\n",
            "matches: [(11840699188806025751, 3, 4)]\n",
            "matches: [(11840699188806025751, 2, 3), (11840699188806025751, 2, 4)]\n",
            "matches: [(11840699188806025751, 1, 2)]\n",
            "matches: [(11840699188806025751, 7, 8), (11840699188806025751, 7, 9)]\n"
          ],
          "name": "stdout"
        },
        {
          "output_type": "stream",
          "text": [
            " 32%|███▏      | 1402/4318 [00:15<00:32, 89.52it/s]"
          ],
          "name": "stderr"
        },
        {
          "output_type": "stream",
          "text": [
            "matches: [(11840699188806025751, 13, 14), (11840699188806025751, 13, 15), (11840699188806025751, 13, 16)]\n",
            "matches: [(11840699188806025751, 1, 2)]\n",
            "matches: [(11840699188806025751, 4, 5)]\n",
            "matches: [(11840699188806025751, 1, 2)]\n",
            "matches: [(11840699188806025751, 1, 2), (11840699188806025751, 1, 3)]\n",
            "matches: [(11840699188806025751, 3, 4)]\n",
            "matches: [(11840699188806025751, 2, 3)]\n",
            "matches: [(11840699188806025751, 2, 3)]\n",
            "matches: [(11840699188806025751, 2, 3), (11840699188806025751, 2, 4)]\n",
            "matches: [(11840699188806025751, 6, 7), (11840699188806025751, 6, 8), (11840699188806025751, 6, 9)]\n",
            "matches: [(11840699188806025751, 3, 4)]\n",
            "matches: [(11840699188806025751, 7, 8), (11840699188806025751, 7, 9)]\n",
            "matches: [(11840699188806025751, 5, 6)]\n",
            "matches: [(11840699188806025751, 0, 1)]\n",
            "matches: [(11840699188806025751, 2, 3), (11840699188806025751, 2, 4)]\n",
            "matches: [(11840699188806025751, 6, 7)]\n",
            "matches: [(11840699188806025751, 3, 4)]\n",
            "matches: [(11840699188806025751, 3, 4)]\n",
            "matches: [(11840699188806025751, 0, 1)]\n",
            "matches: [(11840699188806025751, 1, 2)]\n"
          ],
          "name": "stdout"
        },
        {
          "output_type": "stream",
          "text": [
            " 33%|███▎      | 1420/4318 [00:16<00:32, 88.26it/s]"
          ],
          "name": "stderr"
        },
        {
          "output_type": "stream",
          "text": [
            "matches: [(11840699188806025751, 3, 4), (11840699188806025751, 3, 5)]\n",
            "matches: [(11840699188806025751, 2, 3)]\n",
            "matches: [(11840699188806025751, 5, 6)]\n",
            "matches: [(11840699188806025751, 15, 16)]\n",
            "matches: [(11840699188806025751, 4, 5), (11840699188806025751, 4, 6)]\n",
            "matches: [(11840699188806025751, 6, 7)]\n",
            "matches: [(11840699188806025751, 2, 3)]\n",
            "matches: [(11840699188806025751, 3, 4), (11840699188806025751, 3, 5)]\n",
            "matches: [(11840699188806025751, 8, 9), (11840699188806025751, 8, 10)]\n",
            "matches: [(11840699188806025751, 3, 4)]\n",
            "matches: [(11840699188806025751, 1, 2)]\n",
            "matches: [(11840699188806025751, 0, 1)]\n",
            "matches: [(11840699188806025751, 1, 2)]\n",
            "matches: [(11840699188806025751, 3, 4), (11840699188806025751, 3, 5)]\n",
            "matches: [(11840699188806025751, 2, 3)]\n",
            "matches: [(11840699188806025751, 5, 6)]\n",
            "matches: [(11840699188806025751, 15, 16)]\n",
            "matches: [(11840699188806025751, 4, 5), (11840699188806025751, 4, 6)]\n"
          ],
          "name": "stdout"
        },
        {
          "output_type": "stream",
          "text": [
            " 33%|███▎      | 1439/4318 [00:16<00:32, 88.77it/s]"
          ],
          "name": "stderr"
        },
        {
          "output_type": "stream",
          "text": [
            "matches: [(11840699188806025751, 6, 7)]\n",
            "matches: [(11840699188806025751, 2, 3)]\n",
            "matches: [(11840699188806025751, 3, 4), (11840699188806025751, 3, 5)]\n",
            "matches: [(11840699188806025751, 8, 9), (11840699188806025751, 8, 10)]\n",
            "matches: [(11840699188806025751, 3, 4)]\n",
            "matches: [(11840699188806025751, 1, 2)]\n",
            "matches: [(11840699188806025751, 0, 1)]\n",
            "matches: [(11840699188806025751, 6, 7), (11840699188806025751, 6, 8)]\n",
            "matches: [(11840699188806025751, 1, 2)]\n",
            "matches: [(11840699188806025751, 3, 4)]\n",
            "matches: [(11840699188806025751, 4, 5), (11840699188806025751, 4, 6)]\n",
            "matches: [(11840699188806025751, 2, 3), (11840699188806025751, 2, 4)]\n",
            "matches: [(11840699188806025751, 2, 3)]\n",
            "matches: [(11840699188806025751, 3, 4), (11840699188806025751, 3, 5)]\n",
            "matches: [(11840699188806025751, 5, 6)]\n",
            "matches: [(11840699188806025751, 3, 4)]\n",
            "matches: [(11840699188806025751, 5, 6), (11840699188806025751, 5, 7)]\n",
            "matches: [(11840699188806025751, 1, 2)]\n",
            "matches: [(11840699188806025751, 7, 8)]\n"
          ],
          "name": "stdout"
        },
        {
          "output_type": "stream",
          "text": [
            " 34%|███▍      | 1458/4318 [00:16<00:32, 88.43it/s]"
          ],
          "name": "stderr"
        },
        {
          "output_type": "stream",
          "text": [
            "matches: [(11840699188806025751, 3, 4), (11840699188806025751, 3, 5)]\n",
            "matches: [(11840699188806025751, 2, 3), (11840699188806025751, 2, 4)]\n",
            "matches: [(11840699188806025751, 13, 14), (11840699188806025751, 13, 15)]\n",
            "matches: [(11840699188806025751, 26, 27)]\n",
            "matches: [(11840699188806025751, 11, 12)]\n",
            "matches: [(11840699188806025751, 3, 4), (11840699188806025751, 3, 5)]\n",
            "matches: [(11840699188806025751, 3, 4)]\n",
            "matches: [(11840699188806025751, 5, 6)]\n",
            "matches: [(11840699188806025751, 0, 1), (11840699188806025751, 0, 2)]\n",
            "matches: [(11840699188806025751, 3, 4), (11840699188806025751, 3, 5), (11840699188806025751, 3, 6)]\n",
            "matches: [(11840699188806025751, 10, 11), (11840699188806025751, 10, 12)]\n",
            "matches: [(11840699188806025751, 3, 4), (11840699188806025751, 3, 5)]\n",
            "matches: [(11840699188806025751, 3, 4), (11840699188806025751, 3, 5), (11840699188806025751, 3, 6)]\n",
            "matches: [(11840699188806025751, 4, 5)]\n",
            "matches: [(11840699188806025751, 3, 4)]\n",
            "matches: [(11840699188806025751, 2, 3), (11840699188806025751, 2, 4)]\n",
            "matches: [(11840699188806025751, 4, 5)]\n",
            "matches: [(11840699188806025751, 4, 5), (11840699188806025751, 4, 6)]\n",
            "matches: "
          ],
          "name": "stdout"
        },
        {
          "output_type": "stream",
          "text": [
            " 34%|███▍      | 1476/4318 [00:16<00:33, 85.88it/s]"
          ],
          "name": "stderr"
        },
        {
          "output_type": "stream",
          "text": [
            "[(11840699188806025751, 4, 5)]\n",
            "matches: [(11840699188806025751, 2, 3)]\n",
            "matches: [(11840699188806025751, 4, 5)]\n",
            "matches: [(11840699188806025751, 2, 3)]\n",
            "matches: [(11840699188806025751, 5, 6)]\n",
            "matches: [(11840699188806025751, 3, 4), (11840699188806025751, 3, 5)]\n",
            "matches: [(11840699188806025751, 8, 9)]\n",
            "matches: [(11840699188806025751, 11, 12)]\n",
            "matches: [(11840699188806025751, 3, 4), (11840699188806025751, 3, 5)]\n",
            "matches: [(11840699188806025751, 8, 9), (11840699188806025751, 8, 10)]\n",
            "matches: [(11840699188806025751, 3, 4)]\n",
            "matches: [(11840699188806025751, 3, 4)]\n",
            "matches: [(11840699188806025751, 2, 3)]\n",
            "matches: [(11840699188806025751, 1, 2)]\n",
            "matches: [(11840699188806025751, 1, 2)]\n",
            "matches: [(11840699188806025751, 2, 3)]\n",
            "matches: [(11840699188806025751, 6, 7)]\n",
            "matches: [(11840699188806025751, 6, 7)]\n"
          ],
          "name": "stdout"
        },
        {
          "output_type": "stream",
          "text": [
            " 35%|███▍      | 1494/4318 [00:17<00:32, 85.63it/s]"
          ],
          "name": "stderr"
        },
        {
          "output_type": "stream",
          "text": [
            "matches: [(11840699188806025751, 2, 3), (11840699188806025751, 2, 4), (11840699188806025751, 2, 5)]\n",
            "matches: [(11840699188806025751, 0, 1)]\n",
            "matches: [(11840699188806025751, 5, 6), (11840699188806025751, 5, 7)]\n",
            "matches: [(11840699188806025751, 10, 11), (11840699188806025751, 10, 12)]\n",
            "matches: [(11840699188806025751, 11, 12), (11840699188806025751, 11, 13)]\n",
            "matches: [(11840699188806025751, 1, 2)]\n",
            "matches: [(11840699188806025751, 1, 2)]\n",
            "matches: [(11840699188806025751, 3, 4), (11840699188806025751, 3, 5)]\n",
            "matches: [(11840699188806025751, 2, 3)]\n",
            "matches: [(11840699188806025751, 1, 2)]\n",
            "matches: [(11840699188806025751, 2, 3), (11840699188806025751, 2, 4)]\n",
            "matches: [(11840699188806025751, 6, 7)]\n",
            "matches: [(11840699188806025751, 0, 1)]\n",
            "matches: [(11840699188806025751, 5, 6), (11840699188806025751, 5, 7)]\n",
            "matches: [(11840699188806025751, 7, 8), (11840699188806025751, 7, 9)]\n",
            "matches: [(11840699188806025751, 1, 2)]\n",
            "matches: [(11840699188806025751, 2, 3)]\n",
            "matches: [(11840699188806025751, 9, 10), (11840699188806025751, 9, 11)]\n"
          ],
          "name": "stdout"
        },
        {
          "output_type": "stream",
          "text": [
            " 35%|███▌      | 1512/4318 [00:17<00:33, 84.20it/s]"
          ],
          "name": "stderr"
        },
        {
          "output_type": "stream",
          "text": [
            "matches: [(11840699188806025751, 2, 3)]\n",
            "matches: [(11840699188806025751, 2, 3), (11840699188806025751, 2, 4)]\n",
            "matches: [(11840699188806025751, 5, 6)]\n",
            "matches: [(11840699188806025751, 3, 4)]\n",
            "matches: [(11840699188806025751, 2, 3), (11840699188806025751, 2, 4)]\n",
            "matches: [(11840699188806025751, 2, 3)]\n",
            "matches: [(11840699188806025751, 5, 6)]\n",
            "matches: [(11840699188806025751, 6, 7)]\n",
            "matches: [(11840699188806025751, 3, 4)]\n",
            "matches: [(11840699188806025751, 7, 8)]\n",
            "matches: [(11840699188806025751, 5, 6)]\n",
            "matches: [(11840699188806025751, 3, 4), (11840699188806025751, 3, 5)]\n",
            "matches: [(11840699188806025751, 5, 6)]\n",
            "matches: [(11840699188806025751, 3, 4)]\n",
            "matches: [(11840699188806025751, 5, 6), (11840699188806025751, 5, 7)]\n",
            "matches: [(11840699188806025751, 1, 2)]\n",
            "matches: [(11840699188806025751, 7, 8)]\n"
          ],
          "name": "stdout"
        },
        {
          "output_type": "stream",
          "text": [
            " 35%|███▌      | 1531/4318 [00:17<00:32, 85.16it/s]"
          ],
          "name": "stderr"
        },
        {
          "output_type": "stream",
          "text": [
            "matches: [(11840699188806025751, 3, 4), (11840699188806025751, 3, 5)]\n",
            "matches: [(11840699188806025751, 2, 3), (11840699188806025751, 2, 4)]\n",
            "matches: [(11840699188806025751, 13, 14), (11840699188806025751, 13, 15)]\n",
            "matches: [(11840699188806025751, 26, 27)]\n",
            "matches: [(11840699188806025751, 11, 12)]\n",
            "matches: [(11840699188806025751, 3, 4), (11840699188806025751, 3, 5)]\n",
            "matches: [(11840699188806025751, 3, 4)]\n",
            "matches: [(11840699188806025751, 5, 6)]\n",
            "matches: [(11840699188806025751, 0, 1), (11840699188806025751, 0, 2)]\n",
            "matches: [(11840699188806025751, 3, 4), (11840699188806025751, 3, 5), (11840699188806025751, 3, 6)]\n",
            "matches: [(11840699188806025751, 10, 11), (11840699188806025751, 10, 12)]\n",
            "matches: [(11840699188806025751, 3, 4), (11840699188806025751, 3, 5)]\n",
            "matches: [(11840699188806025751, 3, 4), (11840699188806025751, 3, 5), (11840699188806025751, 3, 6)]\n",
            "matches: [(11840699188806025751, 4, 5)]\n",
            "matches: [(11840699188806025751, 3, 4)]\n",
            "matches: [(11840699188806025751, 2, 3), (11840699188806025751, 2, 4)]\n",
            "matches: [(11840699188806025751, 4, 5)]\n",
            "matches: [(11840699188806025751, 4, 5), (11840699188806025751, 4, 6)]\n"
          ],
          "name": "stdout"
        },
        {
          "output_type": "stream",
          "text": [
            " 36%|███▌      | 1549/4318 [00:17<00:32, 86.25it/s]"
          ],
          "name": "stderr"
        },
        {
          "output_type": "stream",
          "text": [
            "matches: [(11840699188806025751, 4, 5)]\n",
            "matches: [(11840699188806025751, 2, 3)]\n",
            "matches: [(11840699188806025751, 4, 5)]\n",
            "matches: [(11840699188806025751, 2, 3)]\n",
            "matches: [(11840699188806025751, 5, 6)]\n",
            "matches: [(11840699188806025751, 3, 4), (11840699188806025751, 3, 5)]\n",
            "matches: [(11840699188806025751, 8, 9)]\n",
            "matches: [(11840699188806025751, 11, 12)]\n",
            "matches: [(11840699188806025751, 3, 4), (11840699188806025751, 3, 5)]\n",
            "matches: [(11840699188806025751, 8, 9), (11840699188806025751, 8, 10)]\n",
            "matches: [(11840699188806025751, 3, 4)]\n",
            "matches: [(11840699188806025751, 3, 4)]\n",
            "matches: [(11840699188806025751, 2, 3)]\n",
            "matches: [(11840699188806025751, 1, 2)]\n",
            "matches: [(11840699188806025751, 1, 2)]\n",
            "matches: [(11840699188806025751, 2, 3)]\n",
            "matches: [(11840699188806025751, 6, 7)]\n",
            "matches: [(11840699188806025751, 6, 7)]\n",
            "matches: [(11840699188806025751, 2, 3), (11840699188806025751, 2, 4), (11840699188806025751, 2, 5)]\n"
          ],
          "name": "stdout"
        },
        {
          "output_type": "stream",
          "text": [
            " 36%|███▋      | 1568/4318 [00:17<00:31, 86.68it/s]"
          ],
          "name": "stderr"
        },
        {
          "output_type": "stream",
          "text": [
            "matches: [(11840699188806025751, 0, 1)]\n",
            "matches: [(11840699188806025751, 5, 6), (11840699188806025751, 5, 7)]\n",
            "matches: [(11840699188806025751, 10, 11), (11840699188806025751, 10, 12)]\n",
            "matches: [(11840699188806025751, 11, 12), (11840699188806025751, 11, 13)]\n",
            "matches: [(11840699188806025751, 1, 2)]\n",
            "matches: [(11840699188806025751, 1, 2)]\n",
            "matches: [(11840699188806025751, 3, 4), (11840699188806025751, 3, 5)]\n",
            "matches: [(11840699188806025751, 2, 3)]\n",
            "matches: [(11840699188806025751, 1, 2)]\n",
            "matches: [(11840699188806025751, 2, 3), (11840699188806025751, 2, 4)]\n",
            "matches: [(11840699188806025751, 6, 7)]\n",
            "matches: [(11840699188806025751, 0, 1)]\n",
            "matches: [(11840699188806025751, 5, 6), (11840699188806025751, 5, 7)]\n",
            "matches: [(11840699188806025751, 7, 8), (11840699188806025751, 7, 9)]\n",
            "matches: [(11840699188806025751, 1, 2)]\n",
            "matches: [(11840699188806025751, 2, 3)]\n",
            "matches: [(11840699188806025751, 9, 10), (11840699188806025751, 9, 11)]\n",
            "matches: [(11840699188806025751, 2, 3)]\n",
            "matches: [(11840699188806025751, 2, 3), (11840699188806025751, 2, 4)]\n"
          ],
          "name": "stdout"
        },
        {
          "output_type": "stream",
          "text": [
            " 37%|███▋      | 1587/4318 [00:18<00:30, 89.22it/s]"
          ],
          "name": "stderr"
        },
        {
          "output_type": "stream",
          "text": [
            "matches: [(11840699188806025751, 5, 6)]\n",
            "matches: [(11840699188806025751, 3, 4)]\n",
            "matches: [(11840699188806025751, 2, 3), (11840699188806025751, 2, 4)]\n",
            "matches: [(11840699188806025751, 2, 3)]\n",
            "matches: [(11840699188806025751, 5, 6)]\n",
            "matches: [(11840699188806025751, 6, 7)]\n",
            "matches: [(11840699188806025751, 3, 4)]\n",
            "matches: [(11840699188806025751, 7, 8)]\n",
            "matches: [(11840699188806025751, 5, 6)]\n",
            "matches: [(11840699188806025751, 4, 5)]\n",
            "matches: [(11840699188806025751, 4, 5)]\n",
            "matches: [(11840699188806025751, 3, 4), (11840699188806025751, 3, 5), (11840699188806025751, 3, 6)]\n",
            "matches: [(11840699188806025751, 2, 3)]\n",
            "matches: [(11840699188806025751, 3, 4)]\n",
            "matches: [(11840699188806025751, 2, 3)]\n",
            "matches: [(11840699188806025751, 5, 6), (11840699188806025751, 5, 7), (11840699188806025751, 5, 8)]\n",
            "matches: [(11840699188806025751, 4, 5), (11840699188806025751, 4, 6)]\n",
            "matches: [(11840699188806025751, 9, 10)]\n",
            "matches: [(11840699188806025751, 3, 4)]\n"
          ],
          "name": "stdout"
        },
        {
          "output_type": "stream",
          "text": [
            " 37%|███▋      | 1605/4318 [00:18<00:31, 86.08it/s]"
          ],
          "name": "stderr"
        },
        {
          "output_type": "stream",
          "text": [
            "matches: [(11840699188806025751, 2, 3)]\n",
            "matches: [(11840699188806025751, 2, 3)]\n",
            "matches: [(11840699188806025751, 4, 5)]\n",
            "matches: [(11840699188806025751, 3, 4)]\n",
            "matches: [(11840699188806025751, 13, 14)]\n",
            "matches: [(11840699188806025751, 11, 12), (11840699188806025751, 11, 13)]\n",
            "matches: [(11840699188806025751, 9, 10)]\n",
            "matches: [(11840699188806025751, 3, 4), (11840699188806025751, 3, 5)]\n",
            "matches: [(11840699188806025751, 1, 2)]\n",
            "matches: [(11840699188806025751, 3, 4), (11840699188806025751, 3, 5)]\n",
            "matches: [(11840699188806025751, 1, 2)]\n",
            "matches: [(11840699188806025751, 1, 2)]\n",
            "matches: [(11840699188806025751, 4, 5), (11840699188806025751, 4, 6)]\n",
            "matches: [(11840699188806025751, 1, 2)]\n",
            "matches: [(11840699188806025751, 8, 9)]\n",
            "matches: [(11840699188806025751, 5, 6)]\n",
            "matches: [(11840699188806025751, 6, 7)]\n",
            "matches: [(11840699188806025751, 1, 2)]\n"
          ],
          "name": "stdout"
        },
        {
          "output_type": "stream",
          "text": [
            " 38%|███▊      | 1624/4318 [00:18<00:30, 88.34it/s]"
          ],
          "name": "stderr"
        },
        {
          "output_type": "stream",
          "text": [
            "matches: [(11840699188806025751, 1, 2)]\n",
            "matches: [(11840699188806025751, 3, 4), (11840699188806025751, 3, 5)]\n",
            "matches: [(11840699188806025751, 12, 13)]\n",
            "matches: [(11840699188806025751, 1, 2), (11840699188806025751, 19, 20)]\n",
            "matches: [(11840699188806025751, 5, 6)]\n",
            "matches: [(11840699188806025751, 3, 4), (11840699188806025751, 3, 5)]\n",
            "matches: [(11840699188806025751, 1, 2)]\n",
            "matches: [(11840699188806025751, 1, 2)]\n",
            "matches: [(11840699188806025751, 8, 9)]\n",
            "matches: [(11840699188806025751, 1, 2), (11840699188806025751, 1, 3)]\n",
            "matches: [(11840699188806025751, 1, 2)]\n",
            "matches: [(11840699188806025751, 2, 3)]\n",
            "matches: [(11840699188806025751, 5, 6)]\n",
            "matches: [(11840699188806025751, 1, 2)]\n",
            "matches: [(11840699188806025751, 1, 2)]\n",
            "matches: [(11840699188806025751, 2, 3), (11840699188806025751, 2, 4)]\n",
            "matches: [(11840699188806025751, 5, 6), (11840699188806025751, 5, 7)]\n",
            "matches: [(11840699188806025751, 2, 3), (11840699188806025751, 2, 4)]\n",
            "matches: [(11840699188806025751, 4, 5), (11840699188806025751, 4, 6)]\n"
          ],
          "name": "stdout"
        },
        {
          "output_type": "stream",
          "text": [
            " 38%|███▊      | 1642/4318 [00:18<00:31, 85.66it/s]"
          ],
          "name": "stderr"
        },
        {
          "output_type": "stream",
          "text": [
            "matches: [(11840699188806025751, 3, 4), (11840699188806025751, 3, 5)]\n",
            "matches: [(11840699188806025751, 3, 4)]\n",
            "matches: [(11840699188806025751, 3, 4)]\n",
            "matches: [(11840699188806025751, 6, 7)]\n",
            "matches: [(11840699188806025751, 3, 4), (11840699188806025751, 3, 5)]\n",
            "matches: [(11840699188806025751, 1, 2)]\n",
            "matches: [(11840699188806025751, 1, 2)]\n",
            "matches: [(11840699188806025751, 8, 9)]\n",
            "matches: [(11840699188806025751, 1, 2), (11840699188806025751, 1, 3)]\n",
            "matches: [(11840699188806025751, 1, 2)]\n",
            "matches: [(11840699188806025751, 2, 3)]\n",
            "matches: [(11840699188806025751, 5, 6)]\n",
            "matches: [(11840699188806025751, 1, 2)]\n",
            "matches: [(11840699188806025751, 1, 2)]\n",
            "matches: [(11840699188806025751, 2, 3), (11840699188806025751, 2, 4)]\n",
            "matches: [(11840699188806025751, 5, 6), (11840699188806025751, 5, 7)]\n"
          ],
          "name": "stdout"
        },
        {
          "output_type": "stream",
          "text": [
            " 38%|███▊      | 1661/4318 [00:18<00:30, 86.85it/s]"
          ],
          "name": "stderr"
        },
        {
          "output_type": "stream",
          "text": [
            "matches: [(11840699188806025751, 2, 3), (11840699188806025751, 2, 4)]\n",
            "matches: [(11840699188806025751, 4, 5), (11840699188806025751, 4, 6)]\n",
            "matches: [(11840699188806025751, 3, 4), (11840699188806025751, 3, 5)]\n",
            "matches: [(11840699188806025751, 3, 4)]\n",
            "matches: [(11840699188806025751, 3, 4)]\n",
            "matches: [(11840699188806025751, 6, 7)]\n",
            "matches: [(11840699188806025751, 4, 5), (11840699188806025751, 4, 6)]\n",
            "matches: [(11840699188806025751, 3, 4)]\n",
            "matches: [(11840699188806025751, 2, 3)]\n",
            "matches: [(11840699188806025751, 2, 3)]\n",
            "matches: [(11840699188806025751, 2, 3), (11840699188806025751, 2, 4), (11840699188806025751, 2, 5)]\n",
            "matches: [(11840699188806025751, 0, 1), (11840699188806025751, 14, 15)]\n",
            "matches: [(11840699188806025751, 3, 4), (11840699188806025751, 3, 5)]\n",
            "matches: [(11840699188806025751, 14, 15)]\n",
            "matches: [(11840699188806025751, 4, 5), (11840699188806025751, 4, 6)]\n",
            "matches: [(11840699188806025751, 3, 4)]\n",
            "matches: [(11840699188806025751, 6, 7), (11840699188806025751, 6, 8)]\n",
            "matches: [(11840699188806025751, 2, 3)]\n",
            "matches: [(11840699188806025751, 6, 7), (11840699188806025751, 6, 8), (11840699188806025751, 6, 9)]\n"
          ],
          "name": "stdout"
        },
        {
          "output_type": "stream",
          "text": [
            " 39%|███▉      | 1680/4318 [00:19<00:30, 87.80it/s]"
          ],
          "name": "stderr"
        },
        {
          "output_type": "stream",
          "text": [
            "matches: [(11840699188806025751, 3, 4)]\n",
            "matches: [(11840699188806025751, 2, 3), (11840699188806025751, 2, 4)]\n",
            "matches: [(11840699188806025751, 8, 9)]\n",
            "matches: [(11840699188806025751, 4, 5), (11840699188806025751, 4, 6), (11840699188806025751, 4, 7)]\n",
            "matches: [(11840699188806025751, 3, 4)]\n",
            "matches: [(11840699188806025751, 1, 2)]\n",
            "matches: [(11840699188806025751, 2, 3), (11840699188806025751, 2, 4)]\n",
            "matches: [(11840699188806025751, 2, 3)]\n",
            "matches: [(11840699188806025751, 3, 4), (11840699188806025751, 3, 5)]\n",
            "matches: [(11840699188806025751, 1, 2)]\n",
            "matches: [(11840699188806025751, 2, 3), (11840699188806025751, 2, 4)]\n",
            "matches: [(11840699188806025751, 1, 2)]\n",
            "matches: [(11840699188806025751, 3, 4), (11840699188806025751, 3, 5)]\n",
            "matches: [(11840699188806025751, 2, 3)]\n",
            "matches: [(11840699188806025751, 12, 13)]\n",
            "matches: [(11840699188806025751, 5, 6)]\n",
            "matches: [(11840699188806025751, 9, 10), (11840699188806025751, 9, 11)]\n",
            "matches: [(11840699188806025751, 2, 3)]\n",
            "matches: [(11840699188806025751, 2, 3)]\n"
          ],
          "name": "stdout"
        },
        {
          "output_type": "stream",
          "text": [
            " 39%|███▉      | 1698/4318 [00:19<00:30, 85.22it/s]"
          ],
          "name": "stderr"
        },
        {
          "output_type": "stream",
          "text": [
            "matches: [(11840699188806025751, 6, 7)]\n",
            "matches: [(11840699188806025751, 2, 3)]\n",
            "matches: [(11840699188806025751, 5, 6), (11840699188806025751, 5, 7)]\n",
            "matches: [(11840699188806025751, 14, 15), (11840699188806025751, 14, 16)]\n",
            "matches: [(11840699188806025751, 9, 10)]\n",
            "matches: [(11840699188806025751, 6, 7)]\n",
            "matches: [(11840699188806025751, 2, 3)]\n",
            "matches: [(11840699188806025751, 1, 2)]\n",
            "matches: [(11840699188806025751, 5, 6), (11840699188806025751, 5, 7), (11840699188806025751, 5, 8)]\n",
            "matches: [(11840699188806025751, 3, 4)]\n",
            "matches: [(11840699188806025751, 2, 3)]\n",
            "matches: [(11840699188806025751, 3, 4), (11840699188806025751, 3, 5)]\n",
            "matches: [(11840699188806025751, 3, 4)]\n",
            "matches: [(11840699188806025751, 2, 3)]\n",
            "matches: [(11840699188806025751, 3, 4), (11840699188806025751, 3, 5)]\n",
            "matches: [(11840699188806025751, 4, 5)]\n",
            "matches: [(11840699188806025751, 3, 4)]\n",
            "matches: [(11840699188806025751, 5, 6), (11840699188806025751, 5, 7)]\n"
          ],
          "name": "stdout"
        },
        {
          "output_type": "stream",
          "text": [
            " 40%|███▉      | 1716/4318 [00:19<00:30, 84.07it/s]"
          ],
          "name": "stderr"
        },
        {
          "output_type": "stream",
          "text": [
            "matches: [(11840699188806025751, 6, 7), (11840699188806025751, 6, 8)]\n",
            "matches: [(11840699188806025751, 2, 3)]\n",
            "matches: [(11840699188806025751, 2, 3), (11840699188806025751, 2, 4)]\n",
            "matches: [(11840699188806025751, 2, 3)]\n",
            "matches: [(11840699188806025751, 2, 3)]\n",
            "matches: [(11840699188806025751, 6, 7), (11840699188806025751, 6, 8)]\n",
            "matches: [(11840699188806025751, 2, 3)]\n",
            "matches: [(11840699188806025751, 2, 3), (11840699188806025751, 2, 4)]\n",
            "matches: [(11840699188806025751, 4, 5), (11840699188806025751, 4, 6)]\n",
            "matches: [(11840699188806025751, 2, 3)]\n",
            "matches: [(11840699188806025751, 6, 7), (11840699188806025751, 6, 8)]\n",
            "matches: [(11840699188806025751, 6, 7), (11840699188806025751, 6, 8)]\n",
            "matches: [(11840699188806025751, 7, 8)]\n",
            "matches: [(11840699188806025751, 4, 5)]\n",
            "matches: [(11840699188806025751, 3, 4)]\n",
            "matches: [(11840699188806025751, 3, 4), (11840699188806025751, 3, 5)]\n",
            "matches: [(11840699188806025751, 16, 17)]\n",
            "matches: [(11840699188806025751, 1, 2), (11840699188806025751, 1, 3)]\n"
          ],
          "name": "stdout"
        },
        {
          "output_type": "stream",
          "text": [
            " 40%|████      | 1734/4318 [00:19<00:30, 83.78it/s]"
          ],
          "name": "stderr"
        },
        {
          "output_type": "stream",
          "text": [
            "matches: [(11840699188806025751, 3, 4)]\n",
            "matches: [(11840699188806025751, 1, 2)]\n",
            "matches: [(11840699188806025751, 4, 5)]\n",
            "matches: [(11840699188806025751, 3, 4), (11840699188806025751, 3, 5)]\n",
            "matches: [(11840699188806025751, 2, 3)]\n",
            "matches: [(11840699188806025751, 12, 13)]\n",
            "matches: [(11840699188806025751, 5, 6)]\n",
            "matches: [(11840699188806025751, 9, 10), (11840699188806025751, 9, 11)]\n",
            "matches: [(11840699188806025751, 2, 3)]\n",
            "matches: [(11840699188806025751, 2, 3)]\n",
            "matches: [(11840699188806025751, 6, 7)]\n",
            "matches: [(11840699188806025751, 2, 3)]\n",
            "matches: [(11840699188806025751, 5, 6), (11840699188806025751, 5, 7)]\n",
            "matches: [(11840699188806025751, 14, 15), (11840699188806025751, 14, 16)]\n",
            "matches: [(11840699188806025751, 9, 10)]\n",
            "matches: [(11840699188806025751, 6, 7)]\n",
            "matches: [(11840699188806025751, 2, 3)]\n",
            "matches: [(11840699188806025751, 1, 2)]\n"
          ],
          "name": "stdout"
        },
        {
          "output_type": "stream",
          "text": [
            " 41%|████      | 1753/4318 [00:20<00:29, 85.98it/s]"
          ],
          "name": "stderr"
        },
        {
          "output_type": "stream",
          "text": [
            "matches: [(11840699188806025751, 5, 6), (11840699188806025751, 5, 7), (11840699188806025751, 5, 8)]\n",
            "matches: [(11840699188806025751, 3, 4)]\n",
            "matches: [(11840699188806025751, 2, 3)]\n",
            "matches: [(11840699188806025751, 3, 4), (11840699188806025751, 3, 5)]\n",
            "matches: [(11840699188806025751, 3, 4)]\n",
            "matches: [(11840699188806025751, 2, 3)]\n",
            "matches: [(11840699188806025751, 3, 4), (11840699188806025751, 3, 5)]\n",
            "matches: [(11840699188806025751, 4, 5)]\n",
            "matches: [(11840699188806025751, 3, 4)]\n",
            "matches: [(11840699188806025751, 5, 6), (11840699188806025751, 5, 7)]\n",
            "matches: [(11840699188806025751, 6, 7), (11840699188806025751, 6, 8)]\n",
            "matches: [(11840699188806025751, 2, 3)]\n",
            "matches: [(11840699188806025751, 2, 3), (11840699188806025751, 2, 4)]\n",
            "matches: [(11840699188806025751, 2, 3)]\n",
            "matches: [(11840699188806025751, 2, 3)]\n",
            "matches: [(11840699188806025751, 6, 7), (11840699188806025751, 6, 8)]\n",
            "matches: [(11840699188806025751, 2, 3)]\n",
            "matches: [(11840699188806025751, 2, 3), (11840699188806025751, 2, 4)]\n",
            "matches: [(11840699188806025751, 4, 5), (11840699188806025751, 4, 6)]\n"
          ],
          "name": "stdout"
        },
        {
          "output_type": "stream",
          "text": [
            " 41%|████      | 1772/4318 [00:20<00:29, 86.77it/s]"
          ],
          "name": "stderr"
        },
        {
          "output_type": "stream",
          "text": [
            "matches: [(11840699188806025751, 2, 3)]\n",
            "matches: [(11840699188806025751, 6, 7), (11840699188806025751, 6, 8)]\n",
            "matches: [(11840699188806025751, 6, 7), (11840699188806025751, 6, 8)]\n",
            "matches: [(11840699188806025751, 7, 8)]\n",
            "matches: [(11840699188806025751, 4, 5)]\n",
            "matches: [(11840699188806025751, 3, 4)]\n",
            "matches: [(11840699188806025751, 3, 4), (11840699188806025751, 3, 5)]\n",
            "matches: [(11840699188806025751, 16, 17)]\n",
            "matches: [(11840699188806025751, 1, 2), (11840699188806025751, 1, 3)]\n",
            "matches: [(11840699188806025751, 3, 4)]\n",
            "matches: [(11840699188806025751, 1, 2)]\n",
            "matches: [(11840699188806025751, 4, 5)]\n",
            "matches: [(11840699188806025751, 3, 4), (11840699188806025751, 3, 5)]\n",
            "matches: [(11840699188806025751, 2, 3)]\n",
            "matches: [(11840699188806025751, 3, 4), (11840699188806025751, 3, 5)]\n",
            "matches: [(11840699188806025751, 2, 3), (11840699188806025751, 2, 4)]\n",
            "matches: [(11840699188806025751, 5, 6), (11840699188806025751, 5, 7)]\n",
            "matches: [(11840699188806025751, 5, 6), (11840699188806025751, 5, 7)]\n",
            "matches: [(11840699188806025751, 6, 7), (11840699188806025751, 6, 8)]\n"
          ],
          "name": "stdout"
        },
        {
          "output_type": "stream",
          "text": [
            " 41%|████▏     | 1791/4318 [00:20<00:28, 88.38it/s]"
          ],
          "name": "stderr"
        },
        {
          "output_type": "stream",
          "text": [
            "matches: [(11840699188806025751, 2, 3)]\n",
            "matches: [(11840699188806025751, 3, 4)]\n",
            "matches: [(11840699188806025751, 5, 6)]\n",
            "matches: [(11840699188806025751, 2, 3)]\n",
            "matches: [(11840699188806025751, 6, 7)]\n",
            "matches: [(11840699188806025751, 4, 5), (11840699188806025751, 4, 6)]\n",
            "matches: [(11840699188806025751, 9, 10), (11840699188806025751, 9, 11)]\n",
            "matches: [(11840699188806025751, 1, 2)]\n",
            "matches: [(11840699188806025751, 2, 3)]\n",
            "matches: [(11840699188806025751, 4, 5), (11840699188806025751, 4, 6)]\n",
            "matches: [(11840699188806025751, 3, 4), (11840699188806025751, 3, 5)]\n",
            "matches: [(11840699188806025751, 4, 5)]\n",
            "matches: [(11840699188806025751, 4, 5)]\n",
            "matches: [(11840699188806025751, 1, 2)]\n",
            "matches: [(11840699188806025751, 2, 3), (11840699188806025751, 2, 4)]\n",
            "matches: [(11840699188806025751, 3, 4)]\n",
            "matches: [(11840699188806025751, 2, 3)]\n",
            "matches: [(11840699188806025751, 8, 9)]\n",
            "matches: [(11840699188806025751, 1, 2)]\n"
          ],
          "name": "stdout"
        },
        {
          "output_type": "stream",
          "text": [
            " 42%|████▏     | 1809/4318 [00:20<00:28, 88.98it/s]"
          ],
          "name": "stderr"
        },
        {
          "output_type": "stream",
          "text": [
            "matches: [(11840699188806025751, 7, 8)]\n",
            "matches: [(11840699188806025751, 3, 4), (11840699188806025751, 3, 5)]\n",
            "matches: [(11840699188806025751, 11, 12)]\n",
            "matches: [(11840699188806025751, 8, 9)]\n",
            "matches: [(11840699188806025751, 9, 10)]\n",
            "matches: [(11840699188806025751, 1, 2), (11840699188806025751, 1, 3)]\n",
            "matches: [(11840699188806025751, 3, 4), (11840699188806025751, 3, 5)]\n",
            "matches: [(11840699188806025751, 4, 5)]\n",
            "matches: [(11840699188806025751, 4, 5)]\n",
            "matches: [(11840699188806025751, 1, 2)]\n",
            "matches: [(11840699188806025751, 2, 3), (11840699188806025751, 2, 4)]\n",
            "matches: [(11840699188806025751, 3, 4)]\n",
            "matches: [(11840699188806025751, 2, 3)]\n",
            "matches: [(11840699188806025751, 8, 9)]\n",
            "matches: [(11840699188806025751, 1, 2)]\n",
            "matches: [(11840699188806025751, 7, 8)]\n",
            "matches: [(11840699188806025751, 3, 4), (11840699188806025751, 3, 5)]\n",
            "matches: [(11840699188806025751, 11, 12)]\n",
            "matches: [(11840699188806025751, 8, 9)]\n"
          ],
          "name": "stdout"
        },
        {
          "output_type": "stream",
          "text": [
            " 42%|████▏     | 1828/4318 [00:20<00:27, 89.39it/s]"
          ],
          "name": "stderr"
        },
        {
          "output_type": "stream",
          "text": [
            "matches: [(11840699188806025751, 9, 10)]\n",
            "matches: [(11840699188806025751, 1, 2), (11840699188806025751, 1, 3)]\n",
            "matches: [(11840699188806025751, 2, 3)]\n",
            "matches: [(11840699188806025751, 2, 3), (11840699188806025751, 2, 4)]\n",
            "matches: [(11840699188806025751, 3, 4)]\n",
            "matches: [(11840699188806025751, 1, 2), (11840699188806025751, 1, 3)]\n",
            "matches: [(11840699188806025751, 3, 4)]\n",
            "matches: [(11840699188806025751, 4, 5)]\n",
            "matches: [(11840699188806025751, 5, 6)]\n",
            "matches: [(11840699188806025751, 5, 6)]\n",
            "matches: [(11840699188806025751, 5, 6)]\n",
            "matches: [(11840699188806025751, 4, 5)]\n",
            "matches: [(11840699188806025751, 0, 1), (11840699188806025751, 3, 4), (11840699188806025751, 10, 11), (11840699188806025751, 15, 16), (11840699188806025751, 17, 18)]\n",
            "matches: [(11840699188806025751, 3, 4)]\n",
            "matches: [(11840699188806025751, 4, 5), (11840699188806025751, 4, 6)]\n",
            "matches: [(11840699188806025751, 3, 4)]\n",
            "matches: [(11840699188806025751, 2, 3)]\n",
            "matches: [(11840699188806025751, 3, 4), (11840699188806025751, 3, 5)]\n",
            "matches: [(11840699188806025751, 9, 10), (11840699188806025751, 9, 11), (11840699188806025751, 9, 12)]\n"
          ],
          "name": "stdout"
        },
        {
          "output_type": "stream",
          "text": [
            " 43%|████▎     | 1847/4318 [00:21<00:27, 89.77it/s]"
          ],
          "name": "stderr"
        },
        {
          "output_type": "stream",
          "text": [
            "matches: [(11840699188806025751, 9, 10), (11840699188806025751, 9, 11)]\n",
            "matches: [(11840699188806025751, 2, 3)]\n",
            "matches: [(11840699188806025751, 3, 4), (11840699188806025751, 3, 5)]\n",
            "matches: [(11840699188806025751, 9, 10), (11840699188806025751, 9, 11), (11840699188806025751, 9, 12)]\n",
            "matches: [(11840699188806025751, 9, 10), (11840699188806025751, 9, 11)]\n",
            "matches: [(11840699188806025751, 1, 2)]\n",
            "matches: [(11840699188806025751, 2, 3)]\n",
            "matches: [(11840699188806025751, 2, 3), (11840699188806025751, 2, 4)]\n",
            "matches: [(11840699188806025751, 2, 3)]\n",
            "matches: [(11840699188806025751, 1, 2)]\n",
            "matches: [(11840699188806025751, 2, 3)]\n",
            "matches: [(11840699188806025751, 2, 3), (11840699188806025751, 2, 4)]\n",
            "matches: [(11840699188806025751, 2, 3)]\n",
            "matches: [(11840699188806025751, 10, 11)]\n",
            "matches: [(11840699188806025751, 3, 4)]\n",
            "matches: [(11840699188806025751, 7, 8), (11840699188806025751, 7, 9)]\n",
            "matches: [(11840699188806025751, 1, 2)]\n",
            "matches: [(11840699188806025751, 11, 12)]\n",
            "matches: [(11840699188806025751, 7, 8)]\n"
          ],
          "name": "stdout"
        },
        {
          "output_type": "stream",
          "text": [
            " 43%|████▎     | 1866/4318 [00:21<00:27, 89.12it/s]"
          ],
          "name": "stderr"
        },
        {
          "output_type": "stream",
          "text": [
            "matches: [(11840699188806025751, 5, 6), (11840699188806025751, 5, 7)]\n",
            "matches: [(11840699188806025751, 1, 2)]\n",
            "matches: [(11840699188806025751, 2, 3)]\n",
            "matches: [(11840699188806025751, 2, 3), (11840699188806025751, 2, 4)]\n",
            "matches: [(11840699188806025751, 8, 9), (11840699188806025751, 8, 10)]\n",
            "matches: [(11840699188806025751, 11, 12)]\n",
            "matches: [(11840699188806025751, 5, 6)]\n",
            "matches: [(11840699188806025751, 1, 2)]\n",
            "matches: [(11840699188806025751, 5, 6), (11840699188806025751, 5, 7)]\n",
            "matches: [(11840699188806025751, 3, 4)]\n",
            "matches: [(11840699188806025751, 5, 6), (11840699188806025751, 5, 7)]\n",
            "matches: [(11840699188806025751, 3, 4)]\n",
            "matches: [(11840699188806025751, 4, 5), (11840699188806025751, 4, 6)]\n",
            "matches: [(11840699188806025751, 1, 2)]\n",
            "matches: [(11840699188806025751, 3, 4), (11840699188806025751, 3, 5)]\n",
            "matches: [(11840699188806025751, 3, 4), (11840699188806025751, 3, 5)]\n",
            "matches: [(11840699188806025751, 1, 2)]\n",
            "matches: [(11840699188806025751, 4, 5)]\n",
            "matches: [(11840699188806025751, 2, 3)]\n"
          ],
          "name": "stdout"
        },
        {
          "output_type": "stream",
          "text": [
            " 44%|████▎     | 1886/4318 [00:21<00:26, 91.54it/s]"
          ],
          "name": "stderr"
        },
        {
          "output_type": "stream",
          "text": [
            "matches: [(11840699188806025751, 8, 9)]\n",
            "matches: [(11840699188806025751, 1, 2)]\n",
            "matches: [(11840699188806025751, 1, 2)]\n",
            "matches: [(11840699188806025751, 0, 1), (11840699188806025751, 0, 2)]\n",
            "matches: [(11840699188806025751, 9, 10)]\n",
            "matches: [(11840699188806025751, 3, 4)]\n",
            "matches: [(11840699188806025751, 2, 3)]\n",
            "matches: [(11840699188806025751, 1, 2)]\n",
            "matches: [(11840699188806025751, 3, 4)]\n",
            "matches: [(11840699188806025751, 5, 6)]\n",
            "matches: [(11840699188806025751, 4, 5)]\n",
            "matches: [(11840699188806025751, 7, 8)]\n",
            "matches: [(11840699188806025751, 15, 16), (11840699188806025751, 15, 17)]\n",
            "matches: [(11840699188806025751, 6, 7), (11840699188806025751, 6, 8)]\n",
            "matches: [(11840699188806025751, 1, 2), (11840699188806025751, 1, 3)]\n",
            "matches: [(11840699188806025751, 7, 8)]\n",
            "matches: [(11840699188806025751, 2, 3)]\n",
            "matches: [(11840699188806025751, 4, 5)]\n",
            "matches: [(11840699188806025751, 1, 2)]\n",
            "matches: [(11840699188806025751, 11, 12), (11840699188806025751, 11, 13)]\n"
          ],
          "name": "stdout"
        },
        {
          "output_type": "stream",
          "text": [
            " 44%|████▍     | 1905/4318 [00:21<00:27, 88.68it/s]"
          ],
          "name": "stderr"
        },
        {
          "output_type": "stream",
          "text": [
            "matches: [(11840699188806025751, 10, 11)]\n",
            "matches: [(11840699188806025751, 6, 7), (11840699188806025751, 6, 8), (11840699188806025751, 6, 9)]\n",
            "matches: [(11840699188806025751, 3, 4), (11840699188806025751, 3, 5)]\n",
            "matches: [(11840699188806025751, 2, 3), (11840699188806025751, 2, 4)]\n",
            "matches: [(11840699188806025751, 2, 3), (11840699188806025751, 2, 4)]\n",
            "matches: [(11840699188806025751, 3, 4)]\n",
            "matches: [(11840699188806025751, 10, 11)]\n",
            "matches: [(11840699188806025751, 2, 3), (11840699188806025751, 2, 4)]\n",
            "matches: [(11840699188806025751, 2, 3)]\n",
            "matches: [(11840699188806025751, 5, 6)]\n",
            "matches: [(11840699188806025751, 11, 12), (11840699188806025751, 11, 13)]\n",
            "matches: [(11840699188806025751, 10, 11)]\n",
            "matches: [(11840699188806025751, 6, 7), (11840699188806025751, 6, 8), (11840699188806025751, 6, 9)]\n",
            "matches: [(11840699188806025751, 3, 4), (11840699188806025751, 3, 5)]\n",
            "matches: [(11840699188806025751, 2, 3), (11840699188806025751, 2, 4)]\n",
            "matches: [(11840699188806025751, 2, 3), (11840699188806025751, 2, 4)]\n",
            "matches: [(11840699188806025751, 3, 4)]\n",
            "matches: [(11840699188806025751, 10, 11)]\n"
          ],
          "name": "stdout"
        },
        {
          "output_type": "stream",
          "text": [
            " 45%|████▍     | 1924/4318 [00:21<00:26, 89.84it/s]"
          ],
          "name": "stderr"
        },
        {
          "output_type": "stream",
          "text": [
            "matches: [(11840699188806025751, 2, 3), (11840699188806025751, 2, 4)]\n",
            "matches: [(11840699188806025751, 2, 3)]\n",
            "matches: [(11840699188806025751, 5, 6)]\n",
            "matches: [(11840699188806025751, 2, 3)]\n",
            "matches: [(11840699188806025751, 8, 9)]\n",
            "matches: [(11840699188806025751, 1, 2)]\n",
            "matches: [(11840699188806025751, 9, 10)]\n",
            "matches: [(11840699188806025751, 5, 6)]\n",
            "matches: [(11840699188806025751, 2, 3)]\n",
            "matches: [(11840699188806025751, 5, 6)]\n",
            "matches: [(11840699188806025751, 2, 3)]\n",
            "matches: [(11840699188806025751, 1, 2)]\n",
            "matches: [(11840699188806025751, 1, 2)]\n",
            "matches: [(11840699188806025751, 1, 2)]\n",
            "matches: [(11840699188806025751, 9, 10)]\n",
            "matches: [(11840699188806025751, 5, 6)]\n",
            "matches: [(11840699188806025751, 2, 3)]\n",
            "matches: [(11840699188806025751, 5, 6)]\n",
            "matches: [(11840699188806025751, 2, 3)]\n",
            "matches: [(11840699188806025751, 1, 2)]\n"
          ],
          "name": "stdout"
        },
        {
          "output_type": "stream",
          "text": [
            " 45%|████▌     | 1944/4318 [00:22<00:26, 90.67it/s]"
          ],
          "name": "stderr"
        },
        {
          "output_type": "stream",
          "text": [
            "matches: [(11840699188806025751, 1, 2)]\n",
            "matches: [(11840699188806025751, 1, 2)]\n",
            "matches: [(11840699188806025751, 2, 3)]\n",
            "matches: [(11840699188806025751, 2, 3)]\n",
            "matches: [(11840699188806025751, 3, 4)]\n",
            "matches: [(11840699188806025751, 2, 3), (11840699188806025751, 2, 4)]\n",
            "matches: [(11840699188806025751, 5, 6)]\n",
            "matches: [(11840699188806025751, 7, 8)]\n",
            "matches: [(11840699188806025751, 1, 2)]\n",
            "matches: [(11840699188806025751, 8, 9), (11840699188806025751, 8, 10)]\n",
            "matches: [(11840699188806025751, 7, 8)]\n",
            "matches: [(11840699188806025751, 2, 3)]\n",
            "matches: [(11840699188806025751, 0, 1)]\n",
            "matches: [(11840699188806025751, 3, 4)]\n",
            "matches: [(11840699188806025751, 4, 5), (11840699188806025751, 4, 6), (11840699188806025751, 4, 7)]\n",
            "matches: [(11840699188806025751, 4, 5)]\n",
            "matches: [(11840699188806025751, 2, 3)]\n",
            "matches: [(11840699188806025751, 22, 23), (11840699188806025751, 22, 24)]\n",
            "matches: [(11840699188806025751, 2, 3)]\n"
          ],
          "name": "stdout"
        },
        {
          "output_type": "stream",
          "text": [
            "\r 45%|████▌     | 1954/4318 [00:22<00:26, 89.51it/s]"
          ],
          "name": "stderr"
        },
        {
          "output_type": "stream",
          "text": [
            "matches: [(11840699188806025751, 1, 2)]\n",
            "matches: [(11840699188806025751, 2, 3), (11840699188806025751, 2, 4)]\n",
            "matches: [(11840699188806025751, 6, 7), (11840699188806025751, 6, 8)]\n",
            "matches: [(11840699188806025751, 8, 9), (11840699188806025751, 8, 10)]\n",
            "matches: [(11840699188806025751, 2, 3), (11840699188806025751, 2, 4)]\n",
            "matches: [(11840699188806025751, 2, 3), (11840699188806025751, 2, 4)]\n",
            "matches: [(11840699188806025751, 1, 2)]\n",
            "matches: [(11840699188806025751, 1, 2)]\n",
            "matches: [(11840699188806025751, 2, 3), (11840699188806025751, 2, 4)]\n",
            "matches: [(11840699188806025751, 5, 6)]\n",
            "matches: [(11840699188806025751, 9, 10), (11840699188806025751, 9, 11)]\n",
            "matches: [(11840699188806025751, 2, 3), (11840699188806025751, 2, 4)]\n",
            "matches: [(11840699188806025751, 1, 2)]\n",
            "matches: [(11840699188806025751, 1, 2)]\n",
            "matches: [(11840699188806025751, 2, 3)]\n",
            "matches: [(11840699188806025751, 3, 4), (11840699188806025751, 3, 5)]\n",
            "matches: [(11840699188806025751, 1, 2)]\n",
            "matches: [(11840699188806025751, 3, 4), (11840699188806025751, 3, 5)]\n",
            "matches: [(11840699188806025751, 2, 3)]\n"
          ],
          "name": "stdout"
        },
        {
          "output_type": "stream",
          "text": [
            " 46%|████▌     | 1974/4318 [00:22<00:25, 90.88it/s]"
          ],
          "name": "stderr"
        },
        {
          "output_type": "stream",
          "text": [
            "matches: [(11840699188806025751, 8, 9)]\n",
            "matches: [(11840699188806025751, 2, 3)]\n",
            "matches: [(11840699188806025751, 13, 14)]\n",
            "matches: [(11840699188806025751, 1, 2)]\n",
            "matches: [(11840699188806025751, 4, 5)]\n",
            "matches: [(11840699188806025751, 11, 12)]\n",
            "matches: [(11840699188806025751, 1, 2)]\n",
            "matches: [(11840699188806025751, 10, 11)]\n",
            "matches: [(11840699188806025751, 3, 4)]\n",
            "matches: [(11840699188806025751, 7, 8), (11840699188806025751, 7, 9)]\n",
            "matches: [(11840699188806025751, 2, 3)]\n",
            "matches: [(11840699188806025751, 3, 4), (11840699188806025751, 3, 5)]\n",
            "matches: [(11840699188806025751, 3, 4)]\n",
            "matches: [(11840699188806025751, 5, 6), (11840699188806025751, 5, 7)]\n",
            "matches: [(11840699188806025751, 5, 6), (11840699188806025751, 5, 7)]\n",
            "matches: [(11840699188806025751, 5, 6)]\n",
            "matches: [(11840699188806025751, 10, 11), (11840699188806025751, 10, 12)]\n",
            "matches: [(11840699188806025751, 2, 3)]\n",
            "matches: [(11840699188806025751, 2, 3), (11840699188806025751, 2, 4)]\n"
          ],
          "name": "stdout"
        },
        {
          "output_type": "stream",
          "text": [
            " 46%|████▌     | 1994/4318 [00:22<00:25, 90.47it/s]"
          ],
          "name": "stderr"
        },
        {
          "output_type": "stream",
          "text": [
            "matches: [(11840699188806025751, 2, 3)]\n",
            "matches: [(11840699188806025751, 10, 11)]\n",
            "matches: [(11840699188806025751, 3, 4)]\n",
            "matches: [(11840699188806025751, 3, 4)]\n",
            "matches: [(11840699188806025751, 1, 2)]\n",
            "matches: [(11840699188806025751, 4, 5)]\n",
            "matches: [(11840699188806025751, 1, 2)]\n",
            "matches: [(11840699188806025751, 5, 6)]\n",
            "matches: [(11840699188806025751, 2, 3)]\n",
            "matches: [(11840699188806025751, 1, 2)]\n",
            "matches: [(11840699188806025751, 2, 3)]\n",
            "matches: [(11840699188806025751, 9, 10)]\n",
            "matches: [(11840699188806025751, 3, 4)]\n",
            "matches: [(11840699188806025751, 3, 4), (11840699188806025751, 3, 5)]\n",
            "matches: [(11840699188806025751, 5, 6)]\n",
            "matches: [(11840699188806025751, 4, 5)]\n",
            "matches: [(11840699188806025751, 1, 2)]\n",
            "matches: [(11840699188806025751, 3, 4)]\n",
            "matches: [(11840699188806025751, 1, 2), (11840699188806025751, 1, 3)]\n"
          ],
          "name": "stdout"
        },
        {
          "output_type": "stream",
          "text": [
            " 47%|████▋     | 2014/4318 [00:22<00:25, 88.85it/s]"
          ],
          "name": "stderr"
        },
        {
          "output_type": "stream",
          "text": [
            "matches: [(11840699188806025751, 1, 2)]\n",
            "matches: [(11840699188806025751, 5, 6)]\n",
            "matches: [(11840699188806025751, 1, 2)]\n",
            "matches: [(11840699188806025751, 3, 4)]\n",
            "matches: [(11840699188806025751, 2, 3)]\n",
            "matches: [(11840699188806025751, 1, 2)]\n",
            "matches: [(11840699188806025751, 3, 4)]\n",
            "matches: [(11840699188806025751, 6, 7)]\n",
            "matches: [(11840699188806025751, 4, 5)]\n",
            "matches: [(11840699188806025751, 2, 3)]\n",
            "matches: [(11840699188806025751, 4, 5), (11840699188806025751, 4, 6)]\n",
            "matches: [(11840699188806025751, 3, 4), (11840699188806025751, 3, 5)]\n",
            "matches: [(11840699188806025751, 1, 2), (11840699188806025751, 1, 3)]\n",
            "matches: [(11840699188806025751, 3, 4), (11840699188806025751, 3, 5)]\n",
            "matches: [(11840699188806025751, 3, 4)]\n",
            "matches: [(11840699188806025751, 2, 3), (11840699188806025751, 2, 4)]\n",
            "matches: [(11840699188806025751, 1, 2)]\n",
            "matches: [(11840699188806025751, 6, 7)]\n",
            "matches: [(11840699188806025751, 3, 4), (11840699188806025751, 3, 5)]\n"
          ],
          "name": "stdout"
        },
        {
          "output_type": "stream",
          "text": [
            " 47%|████▋     | 2034/4318 [00:23<00:25, 89.71it/s]"
          ],
          "name": "stderr"
        },
        {
          "output_type": "stream",
          "text": [
            "matches: [(11840699188806025751, 3, 4), (11840699188806025751, 3, 5)]\n",
            "matches: [(11840699188806025751, 7, 8)]\n",
            "matches: [(11840699188806025751, 11, 12)]\n",
            "matches: [(11840699188806025751, 5, 6)]\n",
            "matches: [(11840699188806025751, 6, 7), (11840699188806025751, 6, 8)]\n",
            "matches: [(11840699188806025751, 2, 3), (11840699188806025751, 2, 4)]\n",
            "matches: [(11840699188806025751, 1, 2), (11840699188806025751, 1, 3)]\n",
            "matches: [(11840699188806025751, 2, 3)]\n",
            "matches: [(11840699188806025751, 4, 5), (11840699188806025751, 4, 6)]\n",
            "matches: [(11840699188806025751, 3, 4), (11840699188806025751, 3, 5)]\n",
            "matches: [(11840699188806025751, 0, 1)]\n",
            "matches: [(11840699188806025751, 1, 2)]\n",
            "matches: [(11840699188806025751, 6, 7), (11840699188806025751, 6, 8), (11840699188806025751, 6, 9)]\n",
            "matches: [(11840699188806025751, 1, 2)]\n",
            "matches: [(11840699188806025751, 2, 3)]\n",
            "matches: [(11840699188806025751, 0, 1), (11840699188806025751, 0, 2)]\n",
            "matches: [(11840699188806025751, 11, 12)]\n",
            "matches: [(11840699188806025751, 2, 3)]\n"
          ],
          "name": "stdout"
        },
        {
          "output_type": "stream",
          "text": [
            " 48%|████▊     | 2053/4318 [00:23<00:25, 87.91it/s]"
          ],
          "name": "stderr"
        },
        {
          "output_type": "stream",
          "text": [
            "matches: [(11840699188806025751, 1, 2)]\n",
            "matches: [(11840699188806025751, 1, 2)]\n",
            "matches: [(11840699188806025751, 2, 3)]\n",
            "matches: [(11840699188806025751, 11, 12)]\n",
            "matches: [(11840699188806025751, 6, 7)]\n",
            "matches: [(11840699188806025751, 3, 4)]\n",
            "matches: [(11840699188806025751, 4, 5), (11840699188806025751, 4, 6)]\n",
            "matches: [(11840699188806025751, 4, 5), (11840699188806025751, 4, 6)]\n",
            "matches: [(11840699188806025751, 4, 5)]\n",
            "matches: [(11840699188806025751, 3, 4)]\n",
            "matches: [(11840699188806025751, 3, 4)]\n",
            "matches: [(11840699188806025751, 7, 8), (11840699188806025751, 7, 9)]\n",
            "matches: [(11840699188806025751, 3, 4)]\n",
            "matches: [(11840699188806025751, 11, 12)]\n",
            "matches: [(11840699188806025751, 2, 3)]\n",
            "matches: [(11840699188806025751, 1, 2)]\n",
            "matches: [(11840699188806025751, 1, 2)]\n",
            "matches: [(11840699188806025751, 2, 3)]\n",
            "matches: [(11840699188806025751, 11, 12)]\n"
          ],
          "name": "stdout"
        },
        {
          "output_type": "stream",
          "text": [
            " 48%|████▊     | 2071/4318 [00:23<00:25, 87.97it/s]"
          ],
          "name": "stderr"
        },
        {
          "output_type": "stream",
          "text": [
            "matches: [(11840699188806025751, 6, 7)]\n",
            "matches: [(11840699188806025751, 3, 4)]\n",
            "matches: [(11840699188806025751, 4, 5), (11840699188806025751, 4, 6)]\n",
            "matches: [(11840699188806025751, 4, 5), (11840699188806025751, 4, 6)]\n",
            "matches: [(11840699188806025751, 4, 5)]\n",
            "matches: [(11840699188806025751, 3, 4)]\n",
            "matches: [(11840699188806025751, 3, 4)]\n",
            "matches: [(11840699188806025751, 7, 8), (11840699188806025751, 7, 9)]\n",
            "matches: [(11840699188806025751, 3, 4)]\n",
            "matches: [(11840699188806025751, 2, 3)]\n",
            "matches: [(11840699188806025751, 2, 3), (11840699188806025751, 2, 4), (11840699188806025751, 2, 5)]\n",
            "matches: [(11840699188806025751, 6, 7)]\n",
            "matches: [(11840699188806025751, 3, 4), (11840699188806025751, 3, 5)]\n",
            "matches: [(11840699188806025751, 3, 4)]\n",
            "matches: [(11840699188806025751, 1, 2), (11840699188806025751, 1, 3)]\n",
            "matches: [(11840699188806025751, 2, 3), (11840699188806025751, 2, 4)]\n",
            "matches: [(11840699188806025751, 1, 2)]\n",
            "matches: [(11840699188806025751, 1, 2)]\n",
            "matches: [(11840699188806025751, 2, 3), (11840699188806025751, 2, 4), (11840699188806025751, 2, 5)]\n"
          ],
          "name": "stdout"
        },
        {
          "output_type": "stream",
          "text": [
            " 48%|████▊     | 2089/4318 [00:23<00:26, 84.94it/s]"
          ],
          "name": "stderr"
        },
        {
          "output_type": "stream",
          "text": [
            "matches: [(11840699188806025751, 6, 7)]\n",
            "matches: [(11840699188806025751, 3, 4), (11840699188806025751, 3, 5)]\n",
            "matches: [(11840699188806025751, 3, 4)]\n",
            "matches: [(11840699188806025751, 1, 2), (11840699188806025751, 1, 3)]\n",
            "matches: [(11840699188806025751, 2, 3), (11840699188806025751, 2, 4)]\n",
            "matches: [(11840699188806025751, 1, 2)]\n",
            "matches: [(11840699188806025751, 1, 2)]\n",
            "matches: [(11840699188806025751, 12, 13), (11840699188806025751, 12, 14)]\n",
            "matches: [(11840699188806025751, 11, 12)]\n",
            "matches: [(11840699188806025751, 3, 4), (11840699188806025751, 3, 5)]\n",
            "matches: [(11840699188806025751, 3, 4)]\n",
            "matches: [(11840699188806025751, 3, 4), (11840699188806025751, 3, 5)]\n",
            "matches: [(11840699188806025751, 7, 8), (11840699188806025751, 7, 9), (11840699188806025751, 7, 10)]\n",
            "matches: [(11840699188806025751, 2, 3)]\n",
            "matches: [(11840699188806025751, 8, 9), (11840699188806025751, 8, 10)]\n",
            "matches: [(11840699188806025751, 7, 8)]\n",
            "matches: [(11840699188806025751, 2, 3)]\n"
          ],
          "name": "stdout"
        },
        {
          "output_type": "stream",
          "text": [
            " 49%|████▉     | 2107/4318 [00:24<00:25, 85.46it/s]"
          ],
          "name": "stderr"
        },
        {
          "output_type": "stream",
          "text": [
            "matches: [(11840699188806025751, 3, 4)]\n",
            "matches: [(11840699188806025751, 14, 15), (11840699188806025751, 14, 16)]\n",
            "matches: [(11840699188806025751, 5, 6)]\n",
            "matches: [(11840699188806025751, 2, 3)]\n",
            "matches: [(11840699188806025751, 2, 3)]\n",
            "matches: [(11840699188806025751, 7, 8)]\n",
            "matches: [(11840699188806025751, 5, 6)]\n",
            "matches: [(11840699188806025751, 1, 2)]\n",
            "matches: [(11840699188806025751, 3, 4), (11840699188806025751, 3, 5)]\n",
            "matches: [(11840699188806025751, 1, 2)]\n",
            "matches: [(11840699188806025751, 0, 1), (11840699188806025751, 14, 15)]\n",
            "matches: [(11840699188806025751, 7, 8)]\n",
            "matches: [(11840699188806025751, 17, 18), (11840699188806025751, 17, 19)]\n",
            "matches: [(11840699188806025751, 3, 4)]\n",
            "matches: [(11840699188806025751, 4, 5)]\n",
            "matches: [(11840699188806025751, 4, 5)]\n",
            "matches: [(11840699188806025751, 5, 6)]\n",
            "matches: [(11840699188806025751, 1, 2)]\n"
          ],
          "name": "stdout"
        },
        {
          "output_type": "stream",
          "text": [
            " 49%|████▉     | 2127/4318 [00:24<00:24, 88.46it/s]"
          ],
          "name": "stderr"
        },
        {
          "output_type": "stream",
          "text": [
            "matches: [(11840699188806025751, 11, 12)]\n",
            "matches: [(11840699188806025751, 1, 2)]\n",
            "matches: [(11840699188806025751, 2, 3), (11840699188806025751, 2, 4)]\n",
            "matches: [(11840699188806025751, 3, 4)]\n",
            "matches: [(11840699188806025751, 3, 4)]\n",
            "matches: [(11840699188806025751, 6, 7)]\n",
            "matches: [(11840699188806025751, 6, 7), (11840699188806025751, 6, 8)]\n",
            "matches: [(11840699188806025751, 2, 3)]\n",
            "matches: [(11840699188806025751, 13, 14)]\n",
            "matches: [(11840699188806025751, 3, 4)]\n",
            "matches: [(11840699188806025751, 3, 4), (11840699188806025751, 3, 5)]\n",
            "matches: [(11840699188806025751, 5, 6)]\n",
            "matches: [(11840699188806025751, 2, 3), (11840699188806025751, 2, 4)]\n",
            "matches: [(11840699188806025751, 3, 4), (11840699188806025751, 3, 5)]\n",
            "matches: [(11840699188806025751, 1, 2)]\n",
            "matches: [(11840699188806025751, 2, 3), (11840699188806025751, 2, 4)]\n",
            "matches: [(11840699188806025751, 2, 3)]\n",
            "matches: [(11840699188806025751, 5, 6)]\n",
            "matches: [(11840699188806025751, 2, 3)]\n"
          ],
          "name": "stdout"
        },
        {
          "output_type": "stream",
          "text": [
            " 50%|████▉     | 2145/4318 [00:24<00:25, 84.05it/s]"
          ],
          "name": "stderr"
        },
        {
          "output_type": "stream",
          "text": [
            "matches: [(11840699188806025751, 3, 4)]\n",
            "matches: [(11840699188806025751, 2, 3), (11840699188806025751, 2, 4)]\n",
            "matches: [(11840699188806025751, 1, 2), (11840699188806025751, 1, 3), (11840699188806025751, 1, 4)]\n",
            "matches: [(11840699188806025751, 3, 4)]\n",
            "matches: [(11840699188806025751, 2, 3), (11840699188806025751, 2, 4)]\n",
            "matches: [(11840699188806025751, 1, 2)]\n",
            "matches: [(11840699188806025751, 5, 6)]\n",
            "matches: [(11840699188806025751, 3, 4), (11840699188806025751, 3, 5)]\n",
            "matches: [(11840699188806025751, 8, 9)]\n",
            "matches: [(11840699188806025751, 1, 2)]\n",
            "matches: [(11840699188806025751, 1, 2), (11840699188806025751, 1, 3), (11840699188806025751, 1, 4)]\n",
            "matches: [(11840699188806025751, 3, 4)]\n",
            "matches: [(11840699188806025751, 2, 3), (11840699188806025751, 2, 4)]\n",
            "matches: [(11840699188806025751, 1, 2)]\n",
            "matches: [(11840699188806025751, 5, 6)]\n",
            "matches: [(11840699188806025751, 3, 4), (11840699188806025751, 3, 5)]\n",
            "matches: [(11840699188806025751, 8, 9)]\n"
          ],
          "name": "stdout"
        },
        {
          "output_type": "stream",
          "text": [
            " 50%|█████     | 2163/4318 [00:24<00:25, 84.46it/s]"
          ],
          "name": "stderr"
        },
        {
          "output_type": "stream",
          "text": [
            "matches: [(11840699188806025751, 1, 2)]\n",
            "matches: [(11840699188806025751, 1, 2)]\n",
            "matches: [(11840699188806025751, 3, 4), (11840699188806025751, 3, 5)]\n",
            "matches: [(11840699188806025751, 4, 5), (11840699188806025751, 4, 6)]\n",
            "matches: [(11840699188806025751, 7, 8), (11840699188806025751, 7, 9), (11840699188806025751, 7, 10)]\n",
            "matches: [(11840699188806025751, 7, 8)]\n",
            "matches: [(11840699188806025751, 2, 3)]\n",
            "matches: [(11840699188806025751, 2, 3)]\n",
            "matches: [(11840699188806025751, 2, 3)]\n",
            "matches: [(11840699188806025751, 8, 9)]\n",
            "matches: [(11840699188806025751, 1, 2)]\n",
            "matches: [(11840699188806025751, 2, 3), (11840699188806025751, 2, 4)]\n",
            "matches: [(11840699188806025751, 3, 4), (11840699188806025751, 3, 5)]\n",
            "matches: [(11840699188806025751, 5, 6), (11840699188806025751, 5, 7)]\n",
            "matches: [(11840699188806025751, 3, 4), (11840699188806025751, 3, 5)]\n",
            "matches: [(11840699188806025751, 1, 2)]\n",
            "matches: [(11840699188806025751, 3, 4)]\n",
            "matches: [(11840699188806025751, 5, 6), (11840699188806025751, 5, 7), (11840699188806025751, 5, 8)]\n"
          ],
          "name": "stdout"
        },
        {
          "output_type": "stream",
          "text": [
            " 51%|█████     | 2181/4318 [00:24<00:25, 84.83it/s]"
          ],
          "name": "stderr"
        },
        {
          "output_type": "stream",
          "text": [
            "matches: [(11840699188806025751, 8, 9), (11840699188806025751, 8, 10)]\n",
            "matches: [(11840699188806025751, 3, 4), (11840699188806025751, 3, 5)]\n",
            "matches: [(11840699188806025751, 0, 1)]\n",
            "matches: [(11840699188806025751, 2, 3)]\n",
            "matches: [(11840699188806025751, 3, 4)]\n",
            "matches: [(11840699188806025751, 3, 4), (11840699188806025751, 3, 5)]\n",
            "matches: [(11840699188806025751, 6, 7), (11840699188806025751, 6, 8)]\n",
            "matches: [(11840699188806025751, 4, 5), (11840699188806025751, 13, 14)]\n",
            "matches: [(11840699188806025751, 1, 2)]\n",
            "matches: [(11840699188806025751, 1, 2)]\n",
            "matches: [(11840699188806025751, 1, 2)]\n",
            "matches: [(11840699188806025751, 2, 3)]\n",
            "matches: [(11840699188806025751, 5, 6), (11840699188806025751, 5, 7)]\n",
            "matches: [(11840699188806025751, 3, 4), (11840699188806025751, 3, 5), (11840699188806025751, 3, 6)]\n",
            "matches: [(11840699188806025751, 0, 1)]\n",
            "matches: [(11840699188806025751, 3, 4)]\n",
            "matches: [(11840699188806025751, 0, 1)]\n",
            "matches: [(11840699188806025751, 2, 3)]\n"
          ],
          "name": "stdout"
        },
        {
          "output_type": "stream",
          "text": [
            " 51%|█████     | 2201/4318 [00:25<00:23, 88.62it/s]"
          ],
          "name": "stderr"
        },
        {
          "output_type": "stream",
          "text": [
            "matches: [(11840699188806025751, 6, 7), (11840699188806025751, 6, 8)]\n",
            "matches: [(11840699188806025751, 4, 5)]\n",
            "matches: [(11840699188806025751, 2, 3)]\n",
            "matches: [(11840699188806025751, 2, 3), (11840699188806025751, 2, 4)]\n",
            "matches: [(11840699188806025751, 5, 6)]\n",
            "matches: [(11840699188806025751, 3, 4), (11840699188806025751, 3, 5)]\n",
            "matches: [(11840699188806025751, 10, 11)]\n",
            "matches: [(11840699188806025751, 1, 2)]\n",
            "matches: [(11840699188806025751, 3, 4)]\n",
            "matches: [(11840699188806025751, 6, 7), (11840699188806025751, 6, 8)]\n",
            "matches: [(11840699188806025751, 3, 4), (11840699188806025751, 3, 5)]\n",
            "matches: [(11840699188806025751, 3, 4)]\n",
            "matches: [(11840699188806025751, 2, 3)]\n",
            "matches: [(11840699188806025751, 1, 2)]\n",
            "matches: [(11840699188806025751, 3, 4)]\n",
            "matches: [(11840699188806025751, 0, 1)]\n",
            "matches: [(11840699188806025751, 1, 2)]\n",
            "matches: [(11840699188806025751, 8, 9), (11840699188806025751, 8, 10)]\n",
            "matches: [(11840699188806025751, 1, 2)]\n"
          ],
          "name": "stdout"
        },
        {
          "output_type": "stream",
          "text": [
            " 51%|█████▏    | 2219/4318 [00:25<00:24, 87.13it/s]"
          ],
          "name": "stderr"
        },
        {
          "output_type": "stream",
          "text": [
            "matches: [(11840699188806025751, 1, 2)]\n",
            "matches: [(11840699188806025751, 2, 3)]\n",
            "matches: [(11840699188806025751, 4, 5)]\n",
            "matches: [(11840699188806025751, 3, 4)]\n",
            "matches: [(11840699188806025751, 5, 6)]\n",
            "matches: [(11840699188806025751, 2, 3)]\n",
            "matches: [(11840699188806025751, 5, 6)]\n",
            "matches: [(11840699188806025751, 7, 8)]\n",
            "matches: [(11840699188806025751, 8, 9), (11840699188806025751, 8, 10)]\n",
            "matches: [(11840699188806025751, 7, 8), (11840699188806025751, 7, 9)]\n",
            "matches: [(11840699188806025751, 4, 5), (11840699188806025751, 4, 6), (11840699188806025751, 4, 7)]\n",
            "matches: [(11840699188806025751, 0, 1)]\n",
            "matches: [(11840699188806025751, 3, 4), (11840699188806025751, 3, 5)]\n",
            "matches: [(11840699188806025751, 8, 9), (11840699188806025751, 8, 10)]\n",
            "matches: [(11840699188806025751, 6, 7)]\n",
            "matches: [(11840699188806025751, 2, 3), (11840699188806025751, 2, 4)]\n",
            "matches: [(11840699188806025751, 3, 4)]\n",
            "matches: [(11840699188806025751, 3, 4), (11840699188806025751, 3, 5)]\n"
          ],
          "name": "stdout"
        },
        {
          "output_type": "stream",
          "text": [
            " 52%|█████▏    | 2239/4318 [00:25<00:23, 90.03it/s]"
          ],
          "name": "stderr"
        },
        {
          "output_type": "stream",
          "text": [
            "matches: [(11840699188806025751, 3, 4), (11840699188806025751, 3, 5)]\n",
            "matches: [(11840699188806025751, 2, 3), (11840699188806025751, 2, 4)]\n",
            "matches: [(11840699188806025751, 6, 7), (11840699188806025751, 6, 8)]\n",
            "matches: [(11840699188806025751, 8, 9)]\n",
            "matches: [(11840699188806025751, 1, 2)]\n",
            "matches: [(11840699188806025751, 2, 3)]\n",
            "matches: [(11840699188806025751, 3, 4)]\n",
            "matches: [(11840699188806025751, 3, 4), (11840699188806025751, 3, 5)]\n",
            "matches: [(11840699188806025751, 2, 3), (11840699188806025751, 2, 4)]\n",
            "matches: [(11840699188806025751, 3, 4)]\n",
            "matches: [(11840699188806025751, 2, 3), (11840699188806025751, 2, 4)]\n",
            "matches: [(11840699188806025751, 3, 4), (11840699188806025751, 3, 5)]\n",
            "matches: [(11840699188806025751, 2, 3)]\n",
            "matches: [(11840699188806025751, 2, 3)]\n",
            "matches: [(11840699188806025751, 4, 5)]\n",
            "matches: [(11840699188806025751, 3, 4), (11840699188806025751, 3, 5)]\n",
            "matches: [(11840699188806025751, 5, 6), (11840699188806025751, 5, 7)]\n",
            "matches: [(11840699188806025751, 4, 5), (11840699188806025751, 4, 6)]\n",
            "matches: [(11840699188806025751, 3, 4), (11840699188806025751, 3, 5)]\n"
          ],
          "name": "stdout"
        },
        {
          "output_type": "stream",
          "text": [
            "\r 52%|█████▏    | 2249/4318 [00:25<00:23, 89.72it/s]"
          ],
          "name": "stderr"
        },
        {
          "output_type": "stream",
          "text": [
            "matches: [(11840699188806025751, 2, 3), (11840699188806025751, 2, 4)]\n",
            "matches: [(11840699188806025751, 4, 5), (11840699188806025751, 4, 6)]\n",
            "matches: [(11840699188806025751, 5, 6), (11840699188806025751, 5, 7)]\n",
            "matches: [(11840699188806025751, 1, 2)]\n",
            "matches: [(11840699188806025751, 1, 2)]\n",
            "matches: [(11840699188806025751, 3, 4)]\n",
            "matches: [(11840699188806025751, 8, 9)]\n",
            "matches: [(11840699188806025751, 4, 5)]\n",
            "matches: [(11840699188806025751, 2, 3), (11840699188806025751, 2, 4)]\n",
            "matches: [(11840699188806025751, 9, 10)]\n",
            "matches: [(11840699188806025751, 1, 2)]\n",
            "matches: [(11840699188806025751, 2, 3)]\n",
            "matches: [(11840699188806025751, 1, 2)]\n",
            "matches: [(11840699188806025751, 3, 4)]\n",
            "matches: [(11840699188806025751, 9, 10)]\n",
            "matches: [(11840699188806025751, 2, 3)]\n",
            "matches: [(11840699188806025751, 5, 6)]\n",
            "matches: [(11840699188806025751, 1, 2), (11840699188806025751, 1, 3)]\n",
            "matches: [(11840699188806025751, 4, 5)]\n"
          ],
          "name": "stdout"
        },
        {
          "output_type": "stream",
          "text": [
            " 53%|█████▎    | 2269/4318 [00:25<00:23, 87.81it/s]"
          ],
          "name": "stderr"
        },
        {
          "output_type": "stream",
          "text": [
            "matches: [(11840699188806025751, 5, 6)]\n",
            "matches: [(11840699188806025751, 1, 2)]\n",
            "matches: [(11840699188806025751, 2, 3)]\n",
            "matches: [(11840699188806025751, 2, 3)]\n",
            "matches: [(11840699188806025751, 3, 4)]\n",
            "matches: [(11840699188806025751, 3, 4), (11840699188806025751, 3, 5)]\n",
            "matches: [(11840699188806025751, 4, 5), (11840699188806025751, 4, 6)]\n",
            "matches: [(11840699188806025751, 4, 5), (11840699188806025751, 4, 6)]\n",
            "matches: [(11840699188806025751, 1, 2)]\n",
            "matches: [(11840699188806025751, 3, 4)]\n",
            "matches: [(11840699188806025751, 0, 1)]\n",
            "matches: [(11840699188806025751, 2, 3)]\n",
            "matches: [(11840699188806025751, 2, 3)]\n",
            "matches: [(11840699188806025751, 4, 5), (11840699188806025751, 4, 6)]\n",
            "matches: [(11840699188806025751, 1, 2)]\n",
            "matches: [(11840699188806025751, 3, 4)]\n",
            "matches: [(11840699188806025751, 0, 1)]\n",
            "matches: [(11840699188806025751, 2, 3)]\n"
          ],
          "name": "stdout"
        },
        {
          "output_type": "stream",
          "text": [
            " 53%|█████▎    | 2289/4318 [00:26<00:22, 91.28it/s]"
          ],
          "name": "stderr"
        },
        {
          "output_type": "stream",
          "text": [
            "matches: [(11840699188806025751, 2, 3)]\n",
            "matches: [(11840699188806025751, 2, 3)]\n",
            "matches: [(11840699188806025751, 1, 2)]\n",
            "matches: [(11840699188806025751, 6, 7)]\n",
            "matches: [(11840699188806025751, 3, 4)]\n",
            "matches: [(11840699188806025751, 3, 4), (11840699188806025751, 3, 5)]\n",
            "matches: [(11840699188806025751, 3, 4), (11840699188806025751, 3, 5)]\n",
            "matches: [(11840699188806025751, 3, 4)]\n",
            "matches: [(11840699188806025751, 2, 3)]\n",
            "matches: [(11840699188806025751, 4, 5)]\n",
            "matches: [(11840699188806025751, 8, 9), (11840699188806025751, 8, 10)]\n",
            "matches: [(11840699188806025751, 4, 5)]\n",
            "matches: [(11840699188806025751, 2, 3), (11840699188806025751, 2, 4)]\n",
            "matches: [(11840699188806025751, 2, 3)]\n",
            "matches: [(11840699188806025751, 2, 3)]\n",
            "matches: [(11840699188806025751, 3, 4)]\n",
            "matches: [(11840699188806025751, 6, 7), (11840699188806025751, 6, 8)]\n",
            "matches: [(11840699188806025751, 1, 2)]\n",
            "matches: [(11840699188806025751, 2, 3), (11840699188806025751, 2, 4)]\n",
            "matches: [(11840699188806025751, 3, 4), (11840699188806025751, 3, 5)]\n"
          ],
          "name": "stdout"
        },
        {
          "output_type": "stream",
          "text": [
            " 53%|█████▎    | 2309/4318 [00:26<00:22, 90.98it/s]"
          ],
          "name": "stderr"
        },
        {
          "output_type": "stream",
          "text": [
            "matches: [(11840699188806025751, 2, 3)]\n",
            "matches: [(11840699188806025751, 3, 4), (11840699188806025751, 3, 5)]\n",
            "matches: [(11840699188806025751, 5, 6), (11840699188806025751, 5, 7)]\n",
            "matches: [(11840699188806025751, 2, 3)]\n",
            "matches: [(11840699188806025751, 6, 7), (11840699188806025751, 6, 8)]\n",
            "matches: [(11840699188806025751, 3, 4), (11840699188806025751, 3, 5)]\n",
            "matches: [(11840699188806025751, 4, 5), (11840699188806025751, 4, 6)]\n",
            "matches: [(11840699188806025751, 6, 7), (11840699188806025751, 6, 8)]\n",
            "matches: [(11840699188806025751, 7, 8)]\n",
            "matches: [(11840699188806025751, 7, 8)]\n",
            "matches: [(11840699188806025751, 1, 2), (11840699188806025751, 1, 3)]\n",
            "matches: [(11840699188806025751, 2, 3)]\n",
            "matches: [(11840699188806025751, 1, 2)]\n",
            "matches: [(11840699188806025751, 7, 8)]\n",
            "matches: [(11840699188806025751, 10, 11)]\n",
            "matches: [(11840699188806025751, 7, 8)]\n",
            "matches: [(11840699188806025751, 3, 4), (11840699188806025751, 3, 5)]\n",
            "matches: [(11840699188806025751, 4, 5), (11840699188806025751, 4, 6)]\n",
            "matches: [(11840699188806025751, 6, 7)]\n"
          ],
          "name": "stdout"
        },
        {
          "output_type": "stream",
          "text": [
            " 54%|█████▍    | 2329/4318 [00:26<00:21, 90.58it/s]"
          ],
          "name": "stderr"
        },
        {
          "output_type": "stream",
          "text": [
            "matches: [(11840699188806025751, 1, 2)]\n",
            "matches: [(11840699188806025751, 2, 3), (11840699188806025751, 7, 8)]\n",
            "matches: [(11840699188806025751, 5, 6)]\n",
            "matches: [(11840699188806025751, 2, 3), (11840699188806025751, 2, 4), (11840699188806025751, 2, 5)]\n",
            "matches: [(11840699188806025751, 4, 5)]\n",
            "matches: [(11840699188806025751, 4, 5), (11840699188806025751, 4, 6)]\n",
            "matches: [(11840699188806025751, 2, 3), (11840699188806025751, 17, 18)]\n",
            "matches: [(11840699188806025751, 5, 6)]\n",
            "matches: [(11840699188806025751, 3, 4)]\n",
            "matches: [(11840699188806025751, 3, 4)]\n",
            "matches: [(11840699188806025751, 7, 8), (11840699188806025751, 7, 9)]\n",
            "matches: [(11840699188806025751, 3, 4)]\n",
            "matches: [(11840699188806025751, 3, 4), (11840699188806025751, 3, 5)]\n",
            "matches: [(11840699188806025751, 12, 13), (11840699188806025751, 12, 14)]\n",
            "matches: [(11840699188806025751, 10, 11)]\n",
            "matches: [(11840699188806025751, 2, 3)]\n",
            "matches: [(11840699188806025751, 1, 2)]\n",
            "matches: [(11840699188806025751, 11, 12)]\n",
            "matches: [(11840699188806025751, 1, 2)]\n"
          ],
          "name": "stdout"
        },
        {
          "output_type": "stream",
          "text": [
            " 54%|█████▍    | 2348/4318 [00:26<00:22, 86.42it/s]"
          ],
          "name": "stderr"
        },
        {
          "output_type": "stream",
          "text": [
            "matches: [(11840699188806025751, 2, 3), (11840699188806025751, 2, 4)]\n",
            "matches: [(11840699188806025751, 3, 4), (11840699188806025751, 3, 5)]\n",
            "matches: [(11840699188806025751, 2, 3)]\n",
            "matches: [(11840699188806025751, 2, 3)]\n",
            "matches: [(11840699188806025751, 2, 3), (11840699188806025751, 2, 4)]\n",
            "matches: [(11840699188806025751, 3, 4)]\n",
            "matches: [(11840699188806025751, 6, 7), (11840699188806025751, 6, 8), (11840699188806025751, 6, 9)]\n",
            "matches: [(11840699188806025751, 1, 2)]\n",
            "matches: [(11840699188806025751, 1, 2)]\n",
            "matches: [(11840699188806025751, 1, 2)]\n",
            "matches: [(11840699188806025751, 7, 8), (11840699188806025751, 7, 9)]\n",
            "matches: [(11840699188806025751, 2, 3)]\n",
            "matches: [(11840699188806025751, 2, 3)]\n",
            "matches: [(11840699188806025751, 1, 2), (11840699188806025751, 1, 3)]\n",
            "matches: [(11840699188806025751, 3, 4)]\n",
            "matches: [(11840699188806025751, 4, 5), (11840699188806025751, 4, 6)]\n",
            "matches: [(11840699188806025751, 2, 3), (11840699188806025751, 2, 4)]\n",
            "matches: [(11840699188806025751, 1, 2)]\n"
          ],
          "name": "stdout"
        },
        {
          "output_type": "stream",
          "text": [
            " 55%|█████▍    | 2367/4318 [00:26<00:22, 87.27it/s]"
          ],
          "name": "stderr"
        },
        {
          "output_type": "stream",
          "text": [
            "matches: [(11840699188806025751, 3, 4)]\n",
            "matches: [(11840699188806025751, 2, 3), (11840699188806025751, 2, 4)]\n",
            "matches: [(11840699188806025751, 3, 4), (11840699188806025751, 3, 5)]\n",
            "matches: [(11840699188806025751, 6, 7), (11840699188806025751, 6, 8)]\n",
            "matches: [(11840699188806025751, 1, 2), (11840699188806025751, 1, 3)]\n",
            "matches: [(11840699188806025751, 1, 2)]\n",
            "matches: [(11840699188806025751, 3, 4), (11840699188806025751, 3, 5)]\n",
            "matches: [(11840699188806025751, 5, 6)]\n",
            "matches: [(11840699188806025751, 2, 3)]\n",
            "matches: [(11840699188806025751, 6, 7), (11840699188806025751, 6, 8)]\n",
            "matches: [(11840699188806025751, 1, 2)]\n",
            "matches: [(11840699188806025751, 3, 4)]\n",
            "matches: [(11840699188806025751, 5, 6), (11840699188806025751, 5, 7)]\n",
            "matches: [(11840699188806025751, 7, 8), (11840699188806025751, 7, 9)]\n",
            "matches: [(11840699188806025751, 6, 7)]\n",
            "matches: [(11840699188806025751, 5, 6), (11840699188806025751, 5, 7)]\n",
            "matches: [(11840699188806025751, 13, 14)]\n",
            "matches: [(11840699188806025751, 4, 5)]\n"
          ],
          "name": "stdout"
        },
        {
          "output_type": "stream",
          "text": [
            " 55%|█████▌    | 2386/4318 [00:27<00:21, 89.05it/s]"
          ],
          "name": "stderr"
        },
        {
          "output_type": "stream",
          "text": [
            "matches: [(11840699188806025751, 2, 3)]\n",
            "matches: [(11840699188806025751, 1, 2), (11840699188806025751, 1, 3)]\n",
            "matches: [(11840699188806025751, 3, 4)]\n",
            "matches: [(11840699188806025751, 2, 3), (11840699188806025751, 2, 4)]\n",
            "matches: [(11840699188806025751, 2, 3), (11840699188806025751, 2, 4)]\n",
            "matches: [(11840699188806025751, 2, 3)]\n",
            "matches: [(11840699188806025751, 1, 2)]\n",
            "matches: [(11840699188806025751, 2, 3), (11840699188806025751, 2, 4)]\n",
            "matches: [(11840699188806025751, 3, 4), (11840699188806025751, 3, 5), (11840699188806025751, 3, 6)]\n",
            "matches: [(11840699188806025751, 2, 3)]\n",
            "matches: [(11840699188806025751, 2, 3)]\n",
            "matches: [(11840699188806025751, 2, 3)]\n",
            "matches: [(11840699188806025751, 2, 3)]\n",
            "matches: [(11840699188806025751, 3, 4), (11840699188806025751, 3, 5)]\n",
            "matches: [(11840699188806025751, 6, 7)]\n",
            "matches: [(11840699188806025751, 2, 3), (11840699188806025751, 2, 4)]\n",
            "matches: [(11840699188806025751, 8, 9)]\n",
            "matches: [(11840699188806025751, 15, 16)]\n",
            "matches: [(11840699188806025751, 10, 11)]\n"
          ],
          "name": "stdout"
        },
        {
          "output_type": "stream",
          "text": [
            " 56%|█████▌    | 2405/4318 [00:27<00:21, 88.77it/s]"
          ],
          "name": "stderr"
        },
        {
          "output_type": "stream",
          "text": [
            "matches: [(11840699188806025751, 3, 4), (11840699188806025751, 3, 5)]\n",
            "matches: [(11840699188806025751, 4, 5)]\n",
            "matches: [(11840699188806025751, 3, 4)]\n",
            "matches: [(11840699188806025751, 5, 6), (11840699188806025751, 5, 7)]\n",
            "matches: [(11840699188806025751, 7, 8), (11840699188806025751, 7, 9)]\n",
            "matches: [(11840699188806025751, 6, 7)]\n",
            "matches: [(11840699188806025751, 5, 6), (11840699188806025751, 5, 7)]\n",
            "matches: [(11840699188806025751, 13, 14)]\n",
            "matches: [(11840699188806025751, 4, 5)]\n",
            "matches: [(11840699188806025751, 2, 3)]\n",
            "matches: [(11840699188806025751, 1, 2), (11840699188806025751, 1, 3)]\n",
            "matches: [(11840699188806025751, 3, 4)]\n",
            "matches: [(11840699188806025751, 2, 3), (11840699188806025751, 2, 4)]\n",
            "matches: [(11840699188806025751, 2, 3), (11840699188806025751, 2, 4)]\n",
            "matches: [(11840699188806025751, 2, 3)]\n",
            "matches: [(11840699188806025751, 1, 2)]\n",
            "matches: [(11840699188806025751, 2, 3), (11840699188806025751, 2, 4)]\n",
            "matches: [(11840699188806025751, 3, 4), (11840699188806025751, 3, 5), (11840699188806025751, 3, 6)]\n",
            "matches: [(11840699188806025751, 2, 3)]\n"
          ],
          "name": "stdout"
        },
        {
          "output_type": "stream",
          "text": [
            " 56%|█████▌    | 2424/4318 [00:27<00:21, 89.72it/s]"
          ],
          "name": "stderr"
        },
        {
          "output_type": "stream",
          "text": [
            "matches: [(11840699188806025751, 2, 3)]\n",
            "matches: [(11840699188806025751, 2, 3)]\n",
            "matches: [(11840699188806025751, 2, 3)]\n",
            "matches: [(11840699188806025751, 3, 4), (11840699188806025751, 3, 5)]\n",
            "matches: [(11840699188806025751, 6, 7)]\n",
            "matches: [(11840699188806025751, 2, 3), (11840699188806025751, 2, 4)]\n",
            "matches: [(11840699188806025751, 8, 9)]\n",
            "matches: [(11840699188806025751, 15, 16)]\n",
            "matches: [(11840699188806025751, 10, 11)]\n",
            "matches: [(11840699188806025751, 3, 4), (11840699188806025751, 3, 5)]\n",
            "matches: [(11840699188806025751, 4, 5)]\n",
            "matches: [(11840699188806025751, 2, 3)]\n",
            "matches: [(11840699188806025751, 0, 1)]\n",
            "matches: [(11840699188806025751, 3, 4)]\n",
            "matches: [(11840699188806025751, 5, 6), (11840699188806025751, 5, 7)]\n",
            "matches: [(11840699188806025751, 4, 5), (11840699188806025751, 4, 6)]\n",
            "matches: [(11840699188806025751, 3, 4)]\n",
            "matches: [(11840699188806025751, 3, 4)]\n",
            "matches: [(11840699188806025751, 6, 7)]\n"
          ],
          "name": "stdout"
        },
        {
          "output_type": "stream",
          "text": [
            " 57%|█████▋    | 2444/4318 [00:27<00:21, 86.98it/s]"
          ],
          "name": "stderr"
        },
        {
          "output_type": "stream",
          "text": [
            "matches: [(11840699188806025751, 3, 4)]\n",
            "matches: [(11840699188806025751, 12, 13)]\n",
            "matches: [(11840699188806025751, 2, 3), (11840699188806025751, 2, 4)]\n",
            "matches: [(11840699188806025751, 1, 2)]\n",
            "matches: [(11840699188806025751, 6, 7), (11840699188806025751, 6, 8), (11840699188806025751, 6, 9)]\n",
            "matches: [(11840699188806025751, 5, 6), (11840699188806025751, 5, 7)]\n",
            "matches: [(11840699188806025751, 2, 3)]\n",
            "matches: [(11840699188806025751, 1, 2)]\n",
            "matches: [(11840699188806025751, 3, 4)]\n",
            "matches: [(11840699188806025751, 6, 7), (11840699188806025751, 6, 8)]\n",
            "matches: [(11840699188806025751, 2, 3)]\n",
            "matches: [(11840699188806025751, 2, 3)]\n",
            "matches: [(11840699188806025751, 0, 1)]\n",
            "matches: [(11840699188806025751, 3, 4)]\n",
            "matches: [(11840699188806025751, 5, 6), (11840699188806025751, 5, 7)]\n",
            "matches: [(11840699188806025751, 4, 5), (11840699188806025751, 4, 6)]\n",
            "matches: [(11840699188806025751, 3, 4)]\n",
            "matches: [(11840699188806025751, 3, 4)]\n"
          ],
          "name": "stdout"
        },
        {
          "output_type": "stream",
          "text": [
            " 57%|█████▋    | 2463/4318 [00:28<00:20, 88.51it/s]"
          ],
          "name": "stderr"
        },
        {
          "output_type": "stream",
          "text": [
            "matches: [(11840699188806025751, 6, 7)]\n",
            "matches: [(11840699188806025751, 3, 4)]\n",
            "matches: [(11840699188806025751, 12, 13)]\n",
            "matches: [(11840699188806025751, 2, 3), (11840699188806025751, 2, 4)]\n",
            "matches: [(11840699188806025751, 1, 2)]\n",
            "matches: [(11840699188806025751, 6, 7), (11840699188806025751, 6, 8), (11840699188806025751, 6, 9)]\n",
            "matches: [(11840699188806025751, 5, 6), (11840699188806025751, 5, 7)]\n",
            "matches: [(11840699188806025751, 2, 3)]\n",
            "matches: [(11840699188806025751, 1, 2)]\n",
            "matches: [(11840699188806025751, 3, 4)]\n",
            "matches: [(11840699188806025751, 6, 7), (11840699188806025751, 6, 8)]\n",
            "matches: [(11840699188806025751, 2, 3)]\n",
            "matches: [(11840699188806025751, 4, 5)]\n",
            "matches: [(11840699188806025751, 2, 3)]\n",
            "matches: [(11840699188806025751, 8, 9)]\n",
            "matches: [(11840699188806025751, 6, 7)]\n",
            "matches: [(11840699188806025751, 3, 4)]\n",
            "matches: [(11840699188806025751, 10, 11)]\n",
            "matches: [(11840699188806025751, 1, 2), (11840699188806025751, 3, 4)]\n"
          ],
          "name": "stdout"
        },
        {
          "output_type": "stream",
          "text": [
            " 57%|█████▋    | 2481/4318 [00:28<00:20, 88.05it/s]"
          ],
          "name": "stderr"
        },
        {
          "output_type": "stream",
          "text": [
            "matches: [(11840699188806025751, 2, 3)]\n",
            "matches: [(11840699188806025751, 0, 1)]\n",
            "matches: [(11840699188806025751, 2, 3), (11840699188806025751, 2, 4)]\n",
            "matches: [(11840699188806025751, 2, 3), (11840699188806025751, 2, 4)]\n",
            "matches: [(11840699188806025751, 4, 5)]\n",
            "matches: [(11840699188806025751, 5, 6), (11840699188806025751, 5, 7), (11840699188806025751, 5, 8)]\n",
            "matches: [(11840699188806025751, 4, 5)]\n",
            "matches: [(11840699188806025751, 3, 4)]\n",
            "matches: [(11840699188806025751, 3, 4)]\n",
            "matches: [(11840699188806025751, 8, 9)]\n",
            "matches: [(11840699188806025751, 3, 4)]\n",
            "matches: [(11840699188806025751, 8, 9)]\n",
            "matches: [(11840699188806025751, 9, 10)]\n",
            "matches: [(11840699188806025751, 3, 4)]\n",
            "matches: [(11840699188806025751, 23, 24)]\n",
            "matches: [(11840699188806025751, 8, 9)]\n",
            "matches: [(11840699188806025751, 6, 7), (11840699188806025751, 6, 8)]\n",
            "matches: [(11840699188806025751, 10, 11)]\n"
          ],
          "name": "stdout"
        },
        {
          "output_type": "stream",
          "text": [
            " 58%|█████▊    | 2499/4318 [00:28<00:21, 83.73it/s]"
          ],
          "name": "stderr"
        },
        {
          "output_type": "stream",
          "text": [
            "matches: [(11840699188806025751, 5, 6)]\n",
            "matches: [(11840699188806025751, 1, 2), (11840699188806025751, 1, 3)]\n",
            "matches: [(11840699188806025751, 4, 5), (11840699188806025751, 4, 6)]\n",
            "matches: [(11840699188806025751, 2, 3)]\n",
            "matches: [(11840699188806025751, 4, 5)]\n",
            "matches: [(11840699188806025751, 1, 2), (11840699188806025751, 5, 6)]\n",
            "matches: [(11840699188806025751, 4, 5), (11840699188806025751, 8, 9)]\n",
            "matches: [(11840699188806025751, 4, 5)]\n",
            "matches: [(11840699188806025751, 2, 3)]\n",
            "matches: [(11840699188806025751, 12, 13), (11840699188806025751, 12, 14)]\n",
            "matches: [(11840699188806025751, 1, 2)]\n",
            "matches: [(11840699188806025751, 7, 8)]\n",
            "matches: [(11840699188806025751, 1, 2)]\n",
            "matches: [(11840699188806025751, 9, 10)]\n",
            "matches: [(11840699188806025751, 2, 3)]\n",
            "matches: [(11840699188806025751, 3, 4)]\n",
            "matches: [(11840699188806025751, 9, 10)]\n"
          ],
          "name": "stdout"
        },
        {
          "output_type": "stream",
          "text": [
            " 58%|█████▊    | 2517/4318 [00:28<00:21, 83.92it/s]"
          ],
          "name": "stderr"
        },
        {
          "output_type": "stream",
          "text": [
            "matches: [(11840699188806025751, 3, 4)]\n",
            "matches: [(11840699188806025751, 23, 24)]\n",
            "matches: [(11840699188806025751, 8, 9)]\n",
            "matches: [(11840699188806025751, 6, 7), (11840699188806025751, 6, 8)]\n",
            "matches: [(11840699188806025751, 10, 11)]\n",
            "matches: [(11840699188806025751, 5, 6)]\n",
            "matches: [(11840699188806025751, 1, 2), (11840699188806025751, 1, 3)]\n",
            "matches: [(11840699188806025751, 4, 5), (11840699188806025751, 4, 6)]\n",
            "matches: [(11840699188806025751, 2, 3)]\n",
            "matches: [(11840699188806025751, 4, 5)]\n",
            "matches: [(11840699188806025751, 1, 2), (11840699188806025751, 5, 6)]\n",
            "matches: [(11840699188806025751, 4, 5), (11840699188806025751, 8, 9)]\n",
            "matches: [(11840699188806025751, 4, 5)]\n",
            "matches: [(11840699188806025751, 2, 3)]\n",
            "matches: [(11840699188806025751, 12, 13), (11840699188806025751, 12, 14)]\n",
            "matches: [(11840699188806025751, 1, 2)]\n",
            "matches: [(11840699188806025751, 7, 8)]\n",
            "matches: [(11840699188806025751, 1, 2)]\n"
          ],
          "name": "stdout"
        },
        {
          "output_type": "stream",
          "text": [
            " 59%|█████▊    | 2535/4318 [00:28<00:21, 83.08it/s]"
          ],
          "name": "stderr"
        },
        {
          "output_type": "stream",
          "text": [
            "matches: [(11840699188806025751, 9, 10)]\n",
            "matches: [(11840699188806025751, 2, 3)]\n",
            "matches: [(11840699188806025751, 3, 4)]\n",
            "matches: [(11840699188806025751, 6, 7), (11840699188806025751, 6, 8), (11840699188806025751, 6, 9)]\n",
            "matches: [(11840699188806025751, 1, 2)]\n",
            "matches: [(11840699188806025751, 1, 2)]\n",
            "matches: [(11840699188806025751, 4, 5)]\n",
            "matches: [(11840699188806025751, 1, 2)]\n",
            "matches: [(11840699188806025751, 2, 3)]\n",
            "matches: [(11840699188806025751, 2, 3)]\n",
            "matches: [(11840699188806025751, 3, 4)]\n",
            "matches: [(11840699188806025751, 6, 7)]\n",
            "matches: [(11840699188806025751, 2, 3)]\n",
            "matches: [(11840699188806025751, 6, 7)]\n",
            "matches: [(11840699188806025751, 5, 6)]\n",
            "matches: [(11840699188806025751, 2, 3)]\n",
            "matches: [(11840699188806025751, 5, 6), (11840699188806025751, 5, 7)]\n",
            "matches: [(11840699188806025751, 2, 3)]\n"
          ],
          "name": "stdout"
        },
        {
          "output_type": "stream",
          "text": [
            "\r 59%|█████▉    | 2544/4318 [00:29<00:21, 81.39it/s]"
          ],
          "name": "stderr"
        },
        {
          "output_type": "stream",
          "text": [
            "matches: [(11840699188806025751, 2, 3)]\n",
            "matches: [(11840699188806025751, 1, 2)]\n",
            "matches: [(11840699188806025751, 5, 6), (11840699188806025751, 12, 13)]\n",
            "matches: [(11840699188806025751, 4, 5)]\n",
            "matches: [(11840699188806025751, 4, 5)]\n",
            "matches: [(11840699188806025751, 8, 9)]\n",
            "matches: [(11840699188806025751, 6, 7), (11840699188806025751, 6, 8)]\n",
            "matches: [(11840699188806025751, 6, 7)]\n",
            "matches: [(11840699188806025751, 4, 5)]\n",
            "matches: [(11840699188806025751, 1, 2)]\n",
            "matches: [(11840699188806025751, 6, 7)]\n",
            "matches: [(11840699188806025751, 4, 5), (11840699188806025751, 4, 6)]\n",
            "matches: [(11840699188806025751, 1, 2), (11840699188806025751, 1, 3)]\n",
            "matches: [(11840699188806025751, 10, 11)]\n",
            "matches: [(11840699188806025751, 1, 2)]\n",
            "matches: [(11840699188806025751, 1, 2)]\n",
            "matches: [(11840699188806025751, 13, 14)]\n"
          ],
          "name": "stdout"
        },
        {
          "output_type": "stream",
          "text": [
            " 59%|█████▉    | 2562/4318 [00:29<00:21, 83.16it/s]"
          ],
          "name": "stderr"
        },
        {
          "output_type": "stream",
          "text": [
            "matches: [(11840699188806025751, 2, 3)]\n",
            "matches: [(11840699188806025751, 1, 2)]\n",
            "matches: [(11840699188806025751, 6, 7)]\n",
            "matches: [(11840699188806025751, 3, 4)]\n",
            "matches: [(11840699188806025751, 5, 6), (11840699188806025751, 5, 7)]\n",
            "matches: [(11840699188806025751, 3, 4)]\n",
            "matches: [(11840699188806025751, 3, 4)]\n",
            "matches: [(11840699188806025751, 2, 3)]\n",
            "matches: [(11840699188806025751, 1, 2), (11840699188806025751, 1, 3)]\n",
            "matches: [(11840699188806025751, 2, 3), (11840699188806025751, 2, 4)]\n",
            "matches: [(11840699188806025751, 2, 3)]\n",
            "matches: [(11840699188806025751, 6, 7), (11840699188806025751, 6, 8)]\n",
            "matches: [(11840699188806025751, 2, 3)]\n",
            "matches: [(11840699188806025751, 1, 2)]\n",
            "matches: [(11840699188806025751, 6, 7), (11840699188806025751, 6, 8)]\n",
            "matches: [(11840699188806025751, 3, 4)]\n",
            "matches: [(11840699188806025751, 2, 3), (11840699188806025751, 2, 4)]\n",
            "matches: [(11840699188806025751, 7, 8), (11840699188806025751, 7, 9)]\n"
          ],
          "name": "stdout"
        },
        {
          "output_type": "stream",
          "text": [
            " 60%|█████▉    | 2580/4318 [00:29<00:21, 80.56it/s]"
          ],
          "name": "stderr"
        },
        {
          "output_type": "stream",
          "text": [
            "matches: [(11840699188806025751, 11, 12), (11840699188806025751, 11, 13)]\n",
            "matches: [(11840699188806025751, 2, 3)]\n",
            "matches: [(11840699188806025751, 3, 4)]\n",
            "matches: [(11840699188806025751, 3, 4), (11840699188806025751, 3, 5)]\n",
            "matches: [(11840699188806025751, 1, 2)]\n",
            "matches: [(11840699188806025751, 7, 8)]\n",
            "matches: [(11840699188806025751, 2, 3), (11840699188806025751, 6, 7), (11840699188806025751, 6, 8)]\n",
            "matches: [(11840699188806025751, 5, 6), (11840699188806025751, 5, 7)]\n",
            "matches: [(11840699188806025751, 4, 5)]\n",
            "matches: [(11840699188806025751, 6, 7)]\n",
            "matches: [(11840699188806025751, 9, 10)]\n",
            "matches: [(11840699188806025751, 3, 4)]\n",
            "matches: [(11840699188806025751, 3, 4)]\n",
            "matches: [(11840699188806025751, 1, 2), (11840699188806025751, 8, 9), (11840699188806025751, 8, 10)]\n",
            "matches: [(11840699188806025751, 8, 9)]\n",
            "matches: [(11840699188806025751, 3, 4)]\n",
            "matches: [(11840699188806025751, 2, 3), (11840699188806025751, 2, 4)]\n"
          ],
          "name": "stdout"
        },
        {
          "output_type": "stream",
          "text": [
            " 60%|██████    | 2600/4318 [00:29<00:19, 87.70it/s]"
          ],
          "name": "stderr"
        },
        {
          "output_type": "stream",
          "text": [
            "matches: [(11840699188806025751, 1, 2), (11840699188806025751, 1, 3)]\n",
            "matches: [(11840699188806025751, 2, 3)]\n",
            "matches: [(11840699188806025751, 4, 5)]\n",
            "matches: [(11840699188806025751, 6, 7)]\n",
            "matches: [(11840699188806025751, 1, 2), (11840699188806025751, 1, 3)]\n",
            "matches: [(11840699188806025751, 9, 10), (11840699188806025751, 9, 11)]\n",
            "matches: [(11840699188806025751, 1, 2)]\n",
            "matches: [(11840699188806025751, 2, 3), (11840699188806025751, 2, 4)]\n",
            "matches: [(11840699188806025751, 2, 3), (11840699188806025751, 2, 4)]\n",
            "matches: [(11840699188806025751, 2, 3)]\n",
            "matches: [(11840699188806025751, 1, 2)]\n",
            "matches: [(11840699188806025751, 2, 3)]\n",
            "matches: [(11840699188806025751, 8, 9)]\n",
            "matches: [(11840699188806025751, 2, 3)]\n",
            "matches: [(11840699188806025751, 6, 7), (11840699188806025751, 6, 8)]\n",
            "matches: [(11840699188806025751, 5, 6), (11840699188806025751, 5, 7)]\n",
            "matches: [(11840699188806025751, 1, 2), (11840699188806025751, 10, 11), (11840699188806025751, 12, 13)]\n",
            "matches: [(11840699188806025751, 4, 5)]\n",
            "matches: [(11840699188806025751, 4, 5)]\n"
          ],
          "name": "stdout"
        },
        {
          "output_type": "stream",
          "text": [
            " 61%|██████    | 2619/4318 [00:29<00:19, 88.79it/s]"
          ],
          "name": "stderr"
        },
        {
          "output_type": "stream",
          "text": [
            "matches: [(11840699188806025751, 4, 5)]\n",
            "matches: [(11840699188806025751, 6, 7), (11840699188806025751, 6, 8)]\n",
            "matches: [(11840699188806025751, 8, 9), (11840699188806025751, 8, 10), (11840699188806025751, 8, 11)]\n",
            "matches: [(11840699188806025751, 15, 16)]\n",
            "matches: [(11840699188806025751, 2, 3), (11840699188806025751, 2, 4), (11840699188806025751, 2, 5)]\n",
            "matches: [(11840699188806025751, 1, 2)]\n",
            "matches: [(11840699188806025751, 5, 6)]\n",
            "matches: [(11840699188806025751, 1, 2)]\n",
            "matches: [(11840699188806025751, 2, 3)]\n",
            "matches: [(11840699188806025751, 2, 3), (11840699188806025751, 2, 4)]\n",
            "matches: [(11840699188806025751, 2, 3)]\n",
            "matches: [(11840699188806025751, 1, 2)]\n",
            "matches: [(11840699188806025751, 3, 4)]\n",
            "matches: [(11840699188806025751, 4, 5)]\n",
            "matches: [(11840699188806025751, 15, 16)]\n",
            "matches: [(11840699188806025751, 2, 3), (11840699188806025751, 2, 4), (11840699188806025751, 2, 5)]\n",
            "matches: [(11840699188806025751, 1, 2)]\n",
            "matches: [(11840699188806025751, 5, 6)]\n",
            "matches: [(11840699188806025751, 1, 2)]\n"
          ],
          "name": "stdout"
        },
        {
          "output_type": "stream",
          "text": [
            " 61%|██████    | 2638/4318 [00:30<00:18, 89.75it/s]"
          ],
          "name": "stderr"
        },
        {
          "output_type": "stream",
          "text": [
            "matches: [(11840699188806025751, 2, 3)]\n",
            "matches: [(11840699188806025751, 2, 3), (11840699188806025751, 2, 4)]\n",
            "matches: [(11840699188806025751, 2, 3)]\n",
            "matches: [(11840699188806025751, 1, 2)]\n",
            "matches: [(11840699188806025751, 3, 4)]\n",
            "matches: [(11840699188806025751, 4, 5)]\n",
            "matches: [(11840699188806025751, 24, 25)]\n",
            "matches: [(11840699188806025751, 2, 3)]\n",
            "matches: [(11840699188806025751, 2, 3)]\n",
            "matches: [(11840699188806025751, 15, 16)]\n",
            "matches: [(11840699188806025751, 3, 4)]\n",
            "matches: [(11840699188806025751, 7, 8), (11840699188806025751, 7, 9)]\n",
            "matches: [(11840699188806025751, 6, 7)]\n",
            "matches: [(11840699188806025751, 3, 4)]\n",
            "matches: [(11840699188806025751, 5, 6), (11840699188806025751, 5, 7)]\n",
            "matches: [(11840699188806025751, 5, 6), (11840699188806025751, 5, 7)]\n",
            "matches: [(11840699188806025751, 4, 5)]\n",
            "matches: [(11840699188806025751, 3, 4), (11840699188806025751, 3, 5), (11840699188806025751, 3, 6)]\n",
            "matches: [(11840699188806025751, 2, 3)]\n",
            "matches: [(11840699188806025751, 2, 3), (11840699188806025751, 2, 4), (11840699188806025751, 2, 5)]\n"
          ],
          "name": "stdout"
        },
        {
          "output_type": "stream",
          "text": [
            " 62%|██████▏   | 2658/4318 [00:30<00:18, 90.29it/s]"
          ],
          "name": "stderr"
        },
        {
          "output_type": "stream",
          "text": [
            "matches: [(11840699188806025751, 1, 2), (11840699188806025751, 1, 3)]\n",
            "matches: [(11840699188806025751, 6, 7)]\n",
            "matches: [(11840699188806025751, 0, 1)]\n",
            "matches: [(11840699188806025751, 2, 3)]\n",
            "matches: [(11840699188806025751, 2, 3)]\n",
            "matches: [(11840699188806025751, 2, 3)]\n",
            "matches: [(11840699188806025751, 4, 5), (11840699188806025751, 4, 6)]\n",
            "matches: [(11840699188806025751, 2, 3)]\n",
            "matches: [(11840699188806025751, 2, 3)]\n",
            "matches: [(11840699188806025751, 2, 3)]\n",
            "matches: [(11840699188806025751, 1, 2)]\n",
            "matches: [(11840699188806025751, 4, 5)]\n",
            "matches: [(11840699188806025751, 3, 4)]\n",
            "matches: [(11840699188806025751, 2, 3)]\n",
            "matches: [(11840699188806025751, 1, 2)]\n",
            "matches: [(11840699188806025751, 2, 3), (11840699188806025751, 5, 6)]\n",
            "matches: [(11840699188806025751, 2, 3), (11840699188806025751, 4, 5)]\n",
            "matches: [(11840699188806025751, 1, 2)]\n"
          ],
          "name": "stdout"
        },
        {
          "output_type": "stream",
          "text": [
            " 62%|██████▏   | 2678/4318 [00:30<00:18, 90.13it/s]"
          ],
          "name": "stderr"
        },
        {
          "output_type": "stream",
          "text": [
            "matches: [(11840699188806025751, 3, 4), (11840699188806025751, 3, 5)]\n",
            "matches: [(11840699188806025751, 14, 15), (11840699188806025751, 14, 16)]\n",
            "matches: [(11840699188806025751, 1, 2)]\n",
            "matches: [(11840699188806025751, 1, 2)]\n",
            "matches: [(11840699188806025751, 2, 3), (11840699188806025751, 2, 4)]\n",
            "matches: [(11840699188806025751, 4, 5)]\n",
            "matches: [(11840699188806025751, 10, 11)]\n",
            "matches: [(11840699188806025751, 2, 3)]\n",
            "matches: [(11840699188806025751, 4, 5)]\n",
            "matches: [(11840699188806025751, 1, 2)]\n",
            "matches: [(11840699188806025751, 2, 3), (11840699188806025751, 2, 4)]\n",
            "matches: [(11840699188806025751, 3, 4)]\n",
            "matches: [(11840699188806025751, 2, 3)]\n",
            "matches: [(11840699188806025751, 2, 3)]\n",
            "matches: [(11840699188806025751, 4, 5), (11840699188806025751, 4, 6)]\n",
            "matches: [(11840699188806025751, 1, 2)]\n",
            "matches: [(11840699188806025751, 3, 4)]\n",
            "matches: [(11840699188806025751, 10, 11), (11840699188806025751, 10, 12)]\n",
            "matches: [(11840699188806025751, 2, 3)]\n"
          ],
          "name": "stdout"
        },
        {
          "output_type": "stream",
          "text": [
            " 62%|██████▏   | 2698/4318 [00:30<00:17, 90.83it/s]"
          ],
          "name": "stderr"
        },
        {
          "output_type": "stream",
          "text": [
            "matches: [(11840699188806025751, 2, 3)]\n",
            "matches: [(11840699188806025751, 6, 7), (11840699188806025751, 6, 8)]\n",
            "matches: [(11840699188806025751, 4, 5), (11840699188806025751, 4, 6)]\n",
            "matches: [(11840699188806025751, 5, 6), (11840699188806025751, 5, 7)]\n",
            "matches: [(11840699188806025751, 1, 2)]\n",
            "matches: [(11840699188806025751, 2, 3)]\n",
            "matches: [(11840699188806025751, 3, 4), (11840699188806025751, 3, 5)]\n",
            "matches: [(11840699188806025751, 2, 3), (11840699188806025751, 2, 4)]\n",
            "matches: [(11840699188806025751, 4, 5)]\n",
            "matches: [(11840699188806025751, 2, 3)]\n",
            "matches: [(11840699188806025751, 9, 10), (11840699188806025751, 9, 11)]\n",
            "matches: [(11840699188806025751, 1, 2), (11840699188806025751, 1, 3)]\n",
            "matches: [(11840699188806025751, 9, 10), (11840699188806025751, 9, 11)]\n",
            "matches: [(11840699188806025751, 1, 2), (11840699188806025751, 1, 3)]\n",
            "matches: [(11840699188806025751, 1, 2)]\n",
            "matches: [(11840699188806025751, 2, 3)]\n",
            "matches: [(11840699188806025751, 2, 3)]\n",
            "matches: [(11840699188806025751, 3, 4)]\n",
            "matches: [(11840699188806025751, 3, 4)]\n"
          ],
          "name": "stdout"
        },
        {
          "output_type": "stream",
          "text": [
            " 63%|██████▎   | 2718/4318 [00:31<00:17, 91.33it/s]"
          ],
          "name": "stderr"
        },
        {
          "output_type": "stream",
          "text": [
            "matches: [(11840699188806025751, 5, 6), (11840699188806025751, 5, 7)]\n",
            "matches: [(11840699188806025751, 2, 3)]\n",
            "matches: [(11840699188806025751, 1, 2)]\n",
            "matches: [(11840699188806025751, 1, 2)]\n",
            "matches: [(11840699188806025751, 4, 5), (11840699188806025751, 4, 6), (11840699188806025751, 4, 7)]\n",
            "matches: [(11840699188806025751, 6, 7)]\n",
            "matches: [(11840699188806025751, 0, 1)]\n",
            "matches: [(11840699188806025751, 4, 5)]\n",
            "matches: [(11840699188806025751, 2, 3)]\n",
            "matches: [(11840699188806025751, 2, 3)]\n",
            "matches: [(11840699188806025751, 5, 6)]\n",
            "matches: [(11840699188806025751, 5, 6), (11840699188806025751, 5, 7)]\n",
            "matches: [(11840699188806025751, 3, 4), (11840699188806025751, 3, 5), (11840699188806025751, 3, 6)]\n",
            "matches: [(11840699188806025751, 3, 4), (11840699188806025751, 3, 5)]\n",
            "matches: [(11840699188806025751, 2, 3), (11840699188806025751, 2, 4)]\n",
            "matches: [(11840699188806025751, 2, 3), (11840699188806025751, 2, 4)]\n",
            "matches: [(11840699188806025751, 3, 4), (11840699188806025751, 3, 5)]\n",
            "matches: [(11840699188806025751, 3, 4), (11840699188806025751, 3, 5)]\n",
            "matches: [(11840699188806025751, 3, 4), (11840699188806025751, 3, 5)]\n",
            "matches: [(11840699188806025751, 2, 3)]\n"
          ],
          "name": "stdout"
        },
        {
          "output_type": "stream",
          "text": [
            " 63%|██████▎   | 2738/4318 [00:31<00:17, 91.54it/s]"
          ],
          "name": "stderr"
        },
        {
          "output_type": "stream",
          "text": [
            "matches: [(11840699188806025751, 2, 3)]\n",
            "matches: [(11840699188806025751, 1, 2)]\n",
            "matches: [(11840699188806025751, 2, 3)]\n",
            "matches: [(11840699188806025751, 1, 2)]\n",
            "matches: [(11840699188806025751, 2, 3)]\n",
            "matches: [(11840699188806025751, 2, 3)]\n",
            "matches: [(11840699188806025751, 1, 2), (11840699188806025751, 1, 3)]\n",
            "matches: [(11840699188806025751, 8, 9)]\n",
            "matches: [(11840699188806025751, 2, 3)]\n",
            "matches: [(11840699188806025751, 2, 3)]\n",
            "matches: [(11840699188806025751, 1, 2)]\n",
            "matches: [(11840699188806025751, 2, 3)]\n",
            "matches: [(11840699188806025751, 1, 2)]\n",
            "matches: [(11840699188806025751, 2, 3)]\n",
            "matches: [(11840699188806025751, 2, 3)]\n",
            "matches: [(11840699188806025751, 1, 2), (11840699188806025751, 1, 3)]\n",
            "matches: [(11840699188806025751, 8, 9)]\n",
            "matches: [(11840699188806025751, 6, 7)]\n",
            "matches: [(11840699188806025751, 2, 3), (11840699188806025751, 2, 4)]\n"
          ],
          "name": "stdout"
        },
        {
          "output_type": "stream",
          "text": [
            " 64%|██████▍   | 2757/4318 [00:31<00:18, 86.02it/s]"
          ],
          "name": "stderr"
        },
        {
          "output_type": "stream",
          "text": [
            "matches: [(11840699188806025751, 6, 7), (11840699188806025751, 6, 8)]\n",
            "matches: [(11840699188806025751, 4, 5), (11840699188806025751, 4, 6)]\n",
            "matches: [(11840699188806025751, 6, 7)]\n",
            "matches: [(11840699188806025751, 6, 7)]\n",
            "matches: [(11840699188806025751, 5, 6)]\n",
            "matches: [(11840699188806025751, 10, 11)]\n",
            "matches: [(11840699188806025751, 5, 6), (11840699188806025751, 5, 7)]\n",
            "matches: [(11840699188806025751, 12, 13)]\n",
            "matches: [(11840699188806025751, 3, 4)]\n",
            "matches: [(11840699188806025751, 4, 5)]\n",
            "matches: [(11840699188806025751, 4, 5), (11840699188806025751, 4, 6)]\n",
            "matches: [(11840699188806025751, 5, 6), (11840699188806025751, 5, 7)]\n",
            "matches: [(11840699188806025751, 4, 5)]\n",
            "matches: [(11840699188806025751, 1, 2)]\n",
            "matches: [(11840699188806025751, 4, 5)]\n",
            "matches: [(11840699188806025751, 2, 3), (11840699188806025751, 2, 4)]\n",
            "matches: [(11840699188806025751, 2, 3)]\n"
          ],
          "name": "stdout"
        },
        {
          "output_type": "stream",
          "text": [
            " 64%|██████▍   | 2776/4318 [00:31<00:17, 88.12it/s]"
          ],
          "name": "stderr"
        },
        {
          "output_type": "stream",
          "text": [
            "matches: [(11840699188806025751, 14, 15)]\n",
            "matches: [(11840699188806025751, 3, 4)]\n",
            "matches: [(11840699188806025751, 3, 4), (11840699188806025751, 3, 5)]\n",
            "matches: [(11840699188806025751, 4, 5)]\n",
            "matches: [(11840699188806025751, 1, 2), (11840699188806025751, 1, 3)]\n",
            "matches: [(11840699188806025751, 2, 3)]\n",
            "matches: [(11840699188806025751, 5, 6)]\n",
            "matches: [(11840699188806025751, 4, 5), (11840699188806025751, 4, 6)]\n",
            "matches: [(11840699188806025751, 7, 8)]\n",
            "matches: [(11840699188806025751, 13, 14), (11840699188806025751, 13, 15)]\n",
            "matches: [(11840699188806025751, 3, 4), (11840699188806025751, 3, 5)]\n",
            "matches: [(11840699188806025751, 5, 6)]\n",
            "matches: [(11840699188806025751, 12, 13)]\n",
            "matches: [(11840699188806025751, 1, 2)]\n",
            "matches: [(11840699188806025751, 9, 10)]\n",
            "matches: [(11840699188806025751, 1, 2)]\n",
            "matches: [(11840699188806025751, 6, 7)]\n",
            "matches: [(11840699188806025751, 2, 3)]\n",
            "matches: [(11840699188806025751, 14, 15)]\n"
          ],
          "name": "stdout"
        },
        {
          "output_type": "stream",
          "text": [
            " 65%|██████▍   | 2795/4318 [00:31<00:17, 88.07it/s]"
          ],
          "name": "stderr"
        },
        {
          "output_type": "stream",
          "text": [
            "matches: [(11840699188806025751, 7, 8)]\n",
            "matches: [(11840699188806025751, 6, 7)]\n",
            "matches: [(11840699188806025751, 0, 1)]\n",
            "matches: [(11840699188806025751, 1, 2)]\n",
            "matches: [(11840699188806025751, 3, 4)]\n",
            "matches: [(11840699188806025751, 4, 5)]\n",
            "matches: [(11840699188806025751, 3, 4)]\n",
            "matches: [(11840699188806025751, 5, 6), (11840699188806025751, 5, 7)]\n",
            "matches: [(11840699188806025751, 1, 2), (11840699188806025751, 1, 3)]\n",
            "matches: [(11840699188806025751, 2, 3), (11840699188806025751, 2, 4)]\n",
            "matches: [(11840699188806025751, 5, 6), (11840699188806025751, 5, 7)]\n",
            "matches: [(11840699188806025751, 2, 3)]\n",
            "matches: [(11840699188806025751, 4, 5), (11840699188806025751, 4, 6)]\n",
            "matches: [(11840699188806025751, 2, 3), (11840699188806025751, 2, 4)]\n",
            "matches: [(11840699188806025751, 1, 2)]\n",
            "matches: [(11840699188806025751, 3, 4), (11840699188806025751, 3, 5)]\n",
            "matches: [(11840699188806025751, 1, 2)]\n",
            "matches: [(11840699188806025751, 1, 2)]\n",
            "matches: [(11840699188806025751, 13, 14)]\n"
          ],
          "name": "stdout"
        },
        {
          "output_type": "stream",
          "text": [
            " 65%|██████▌   | 2814/4318 [00:32<00:16, 89.51it/s]"
          ],
          "name": "stderr"
        },
        {
          "output_type": "stream",
          "text": [
            "matches: [(11840699188806025751, 4, 5), (11840699188806025751, 4, 6)]\n",
            "matches: [(11840699188806025751, 1, 2), (11840699188806025751, 1, 3)]\n",
            "matches: [(11840699188806025751, 4, 5), (11840699188806025751, 4, 6)]\n",
            "matches: [(11840699188806025751, 2, 3), (11840699188806025751, 2, 4)]\n",
            "matches: [(11840699188806025751, 1, 2)]\n",
            "matches: [(11840699188806025751, 2, 3)]\n",
            "matches: [(11840699188806025751, 4, 5), (11840699188806025751, 4, 6)]\n",
            "matches: [(11840699188806025751, 2, 3)]\n",
            "matches: [(11840699188806025751, 4, 5)]\n",
            "matches: [(11840699188806025751, 2, 3), (11840699188806025751, 2, 4)]\n",
            "matches: [(11840699188806025751, 6, 7)]\n",
            "matches: [(11840699188806025751, 2, 3), (11840699188806025751, 2, 4)]\n",
            "matches: [(11840699188806025751, 1, 2), (11840699188806025751, 1, 3)]\n",
            "matches: [(11840699188806025751, 5, 6), (11840699188806025751, 5, 7)]\n",
            "matches: [(11840699188806025751, 6, 7)]\n",
            "matches: [(11840699188806025751, 3, 4)]\n",
            "matches: [(11840699188806025751, 2, 3)]\n",
            "matches: [(11840699188806025751, 3, 4), (11840699188806025751, 3, 5)]\n",
            "matches: [(11840699188806025751, 5, 6)]\n"
          ],
          "name": "stdout"
        },
        {
          "output_type": "stream",
          "text": [
            "\r 65%|██████▌   | 2824/4318 [00:32<00:16, 89.70it/s]"
          ],
          "name": "stderr"
        },
        {
          "output_type": "stream",
          "text": [
            "matches: [(11840699188806025751, 2, 3)]\n",
            "matches: [(11840699188806025751, 1, 2)]\n",
            "matches: [(11840699188806025751, 1, 2)]\n",
            "matches: [(11840699188806025751, 4, 5)]\n",
            "matches: [(11840699188806025751, 1, 2)]\n",
            "matches: [(11840699188806025751, 3, 4)]\n",
            "matches: [(11840699188806025751, 1, 2)]\n",
            "matches: [(11840699188806025751, 2, 3), (11840699188806025751, 2, 4)]\n",
            "matches: [(11840699188806025751, 3, 4), (11840699188806025751, 3, 5)]\n",
            "matches: [(11840699188806025751, 2, 3)]\n",
            "matches: [(11840699188806025751, 6, 7), (11840699188806025751, 6, 8)]\n",
            "matches: [(11840699188806025751, 2, 3)]\n",
            "matches: [(11840699188806025751, 2, 3)]\n",
            "matches: [(11840699188806025751, 2, 3)]\n",
            "matches: [(11840699188806025751, 0, 1)]\n",
            "matches: [(11840699188806025751, 6, 7)]\n",
            "matches: [(11840699188806025751, 3, 4)]\n",
            "matches: [(11840699188806025751, 2, 3)]\n",
            "matches: [(11840699188806025751, 2, 3), (11840699188806025751, 2, 4), (11840699188806025751, 2, 5)]\n"
          ],
          "name": "stdout"
        },
        {
          "output_type": "stream",
          "text": [
            " 66%|██████▌   | 2843/4318 [00:32<00:16, 89.34it/s]"
          ],
          "name": "stderr"
        },
        {
          "output_type": "stream",
          "text": [
            "matches: [(11840699188806025751, 2, 3)]\n",
            "matches: [(11840699188806025751, 6, 7), (11840699188806025751, 6, 8)]\n",
            "matches: [(11840699188806025751, 2, 3)]\n",
            "matches: [(11840699188806025751, 2, 3)]\n",
            "matches: [(11840699188806025751, 2, 3)]\n",
            "matches: [(11840699188806025751, 0, 1)]\n",
            "matches: [(11840699188806025751, 6, 7)]\n",
            "matches: [(11840699188806025751, 3, 4)]\n",
            "matches: [(11840699188806025751, 2, 3)]\n",
            "matches: [(11840699188806025751, 2, 3), (11840699188806025751, 2, 4), (11840699188806025751, 2, 5)]\n",
            "matches: [(11840699188806025751, 5, 6)]\n",
            "matches: [(11840699188806025751, 1, 2)]\n",
            "matches: [(11840699188806025751, 11, 12), (11840699188806025751, 11, 13)]\n",
            "matches: [(11840699188806025751, 8, 9)]\n",
            "matches: [(11840699188806025751, 7, 8)]\n",
            "matches: [(11840699188806025751, 1, 2)]\n",
            "matches: [(11840699188806025751, 3, 4)]\n",
            "matches: [(11840699188806025751, 2, 3), (11840699188806025751, 2, 4), (11840699188806025751, 2, 5)]\n",
            "matches: [(11840699188806025751, 9, 10)]\n"
          ],
          "name": "stdout"
        },
        {
          "output_type": "stream",
          "text": [
            " 66%|██████▋   | 2863/4318 [00:32<00:16, 89.93it/s]"
          ],
          "name": "stderr"
        },
        {
          "output_type": "stream",
          "text": [
            "matches: [(11840699188806025751, 4, 5), (11840699188806025751, 4, 6)]\n",
            "matches: [(11840699188806025751, 2, 3)]\n",
            "matches: [(11840699188806025751, 3, 4)]\n",
            "matches: [(11840699188806025751, 3, 4)]\n",
            "matches: [(11840699188806025751, 7, 8)]\n",
            "matches: [(11840699188806025751, 1, 2)]\n",
            "matches: [(11840699188806025751, 5, 6)]\n",
            "matches: [(11840699188806025751, 0, 1)]\n",
            "matches: [(11840699188806025751, 3, 4), (11840699188806025751, 3, 5)]\n",
            "matches: [(11840699188806025751, 1, 2)]\n",
            "matches: [(11840699188806025751, 2, 3), (11840699188806025751, 11, 12), (11840699188806025751, 11, 13)]\n",
            "matches: [(11840699188806025751, 1, 2)]\n",
            "matches: [(11840699188806025751, 5, 6)]\n",
            "matches: [(11840699188806025751, 1, 2), (11840699188806025751, 1, 3)]\n",
            "matches: [(11840699188806025751, 3, 4)]\n",
            "matches: [(11840699188806025751, 3, 4), (11840699188806025751, 3, 5)]\n",
            "matches: [(11840699188806025751, 1, 2), (11840699188806025751, 1, 3)]\n",
            "matches: [(11840699188806025751, 2, 3), (11840699188806025751, 2, 4)]\n",
            "matches: [(11840699188806025751, 2, 3), (11840699188806025751, 2, 4)]\n"
          ],
          "name": "stdout"
        },
        {
          "output_type": "stream",
          "text": [
            " 67%|██████▋   | 2882/4318 [00:32<00:16, 88.80it/s]"
          ],
          "name": "stderr"
        },
        {
          "output_type": "stream",
          "text": [
            "matches: [(11840699188806025751, 3, 4)]\n",
            "matches: [(11840699188806025751, 0, 1)]\n",
            "matches: [(11840699188806025751, 1, 2)]\n",
            "matches: [(11840699188806025751, 5, 6), (11840699188806025751, 5, 7)]\n",
            "matches: [(11840699188806025751, 3, 4), (11840699188806025751, 3, 5)]\n",
            "matches: [(11840699188806025751, 3, 4)]\n",
            "matches: [(11840699188806025751, 0, 1)]\n",
            "matches: [(11840699188806025751, 4, 5), (11840699188806025751, 4, 6)]\n",
            "matches: [(11840699188806025751, 4, 5), (11840699188806025751, 4, 6)]\n",
            "matches: [(11840699188806025751, 0, 1)]\n",
            "matches: [(11840699188806025751, 10, 11)]\n",
            "matches: [(11840699188806025751, 6, 7), (11840699188806025751, 6, 8), (11840699188806025751, 6, 9)]\n",
            "matches: [(11840699188806025751, 5, 6)]\n",
            "matches: [(11840699188806025751, 0, 1)]\n",
            "matches: [(11840699188806025751, 4, 5), (11840699188806025751, 4, 6)]\n",
            "matches: [(11840699188806025751, 3, 4)]\n",
            "matches: [(11840699188806025751, 1, 2)]\n",
            "matches: [(11840699188806025751, 1, 2)]\n"
          ],
          "name": "stdout"
        },
        {
          "output_type": "stream",
          "text": [
            " 67%|██████▋   | 2901/4318 [00:33<00:15, 88.69it/s]"
          ],
          "name": "stderr"
        },
        {
          "output_type": "stream",
          "text": [
            "matches: [(11840699188806025751, 3, 4), (11840699188806025751, 3, 5), (11840699188806025751, 3, 6)]\n",
            "matches: [(11840699188806025751, 1, 2)]\n",
            "matches: [(11840699188806025751, 8, 9), (11840699188806025751, 8, 10)]\n",
            "matches: [(11840699188806025751, 1, 2)]\n",
            "matches: [(11840699188806025751, 4, 5), (11840699188806025751, 4, 6)]\n",
            "matches: [(11840699188806025751, 5, 6), (11840699188806025751, 5, 7)]\n",
            "matches: [(11840699188806025751, 6, 7), (11840699188806025751, 6, 8)]\n",
            "matches: [(11840699188806025751, 6, 7)]\n",
            "matches: [(11840699188806025751, 4, 5)]\n",
            "matches: [(11840699188806025751, 3, 4), (11840699188806025751, 3, 5)]\n",
            "matches: [(11840699188806025751, 1, 2), (11840699188806025751, 1, 3)]\n",
            "matches: [(11840699188806025751, 2, 3)]\n",
            "matches: [(11840699188806025751, 2, 3), (11840699188806025751, 2, 4)]\n",
            "matches: [(11840699188806025751, 0, 1)]\n",
            "matches: [(11840699188806025751, 9, 10), (11840699188806025751, 9, 11)]\n",
            "matches: [(11840699188806025751, 10, 11), (11840699188806025751, 10, 12)]\n",
            "matches: [(11840699188806025751, 1, 2), (11840699188806025751, 1, 3)]\n",
            "matches: [(11840699188806025751, 2, 3)]\n",
            "matches: [(11840699188806025751, 2, 3)]\n"
          ],
          "name": "stdout"
        },
        {
          "output_type": "stream",
          "text": [
            " 68%|██████▊   | 2919/4318 [00:33<00:16, 86.93it/s]"
          ],
          "name": "stderr"
        },
        {
          "output_type": "stream",
          "text": [
            "matches: [(11840699188806025751, 2, 3)]\n",
            "matches: [(11840699188806025751, 1, 2)]\n",
            "matches: [(11840699188806025751, 2, 3)]\n",
            "matches: [(11840699188806025751, 2, 3), (11840699188806025751, 2, 4)]\n",
            "matches: [(11840699188806025751, 2, 3)]\n",
            "matches: [(11840699188806025751, 8, 9), (11840699188806025751, 8, 10)]\n",
            "matches: [(11840699188806025751, 4, 5)]\n",
            "matches: [(11840699188806025751, 2, 3)]\n",
            "matches: [(11840699188806025751, 1, 2)]\n",
            "matches: [(11840699188806025751, 9, 10), (11840699188806025751, 9, 11)]\n",
            "matches: [(11840699188806025751, 1, 2)]\n",
            "matches: [(11840699188806025751, 7, 8)]\n",
            "matches: [(11840699188806025751, 1, 2)]\n",
            "matches: [(11840699188806025751, 3, 4)]\n",
            "matches: [(11840699188806025751, 4, 5)]\n",
            "matches: [(11840699188806025751, 8, 9), (11840699188806025751, 8, 10)]\n",
            "matches: [(11840699188806025751, 2, 3), (11840699188806025751, 2, 4)]\n",
            "matches: [(11840699188806025751, 3, 4), (11840699188806025751, 3, 5)]\n"
          ],
          "name": "stdout"
        },
        {
          "output_type": "stream",
          "text": [
            " 68%|██████▊   | 2937/4318 [00:33<00:16, 84.34it/s]"
          ],
          "name": "stderr"
        },
        {
          "output_type": "stream",
          "text": [
            "matches: [(11840699188806025751, 3, 4), (11840699188806025751, 3, 5)]\n",
            "matches: [(11840699188806025751, 2, 3), (11840699188806025751, 2, 4)]\n",
            "matches: [(11840699188806025751, 3, 4)]\n",
            "matches: [(11840699188806025751, 4, 5), (11840699188806025751, 4, 6)]\n",
            "matches: [(11840699188806025751, 3, 4), (11840699188806025751, 3, 5), (11840699188806025751, 3, 6)]\n",
            "matches: [(11840699188806025751, 3, 4)]\n",
            "matches: [(11840699188806025751, 3, 4)]\n",
            "matches: [(11840699188806025751, 6, 7), (11840699188806025751, 6, 8)]\n",
            "matches: [(11840699188806025751, 3, 4)]\n",
            "matches: [(11840699188806025751, 1, 2)]\n",
            "matches: [(11840699188806025751, 3, 4)]\n",
            "matches: [(11840699188806025751, 1, 2)]\n",
            "matches: [(11840699188806025751, 6, 7), (11840699188806025751, 6, 8)]\n",
            "matches: [(11840699188806025751, 1, 2)]\n",
            "matches: [(11840699188806025751, 1, 2)]\n",
            "matches: [(11840699188806025751, 7, 8)]\n",
            "matches: [(11840699188806025751, 3, 4), (11840699188806025751, 3, 5)]\n",
            "matches: [(11840699188806025751, 1, 2)]\n"
          ],
          "name": "stdout"
        },
        {
          "output_type": "stream",
          "text": [
            " 68%|██████▊   | 2956/4318 [00:33<00:15, 87.02it/s]"
          ],
          "name": "stderr"
        },
        {
          "output_type": "stream",
          "text": [
            "matches: [(11840699188806025751, 2, 3)]\n",
            "matches: [(11840699188806025751, 7, 8)]\n",
            "matches: [(11840699188806025751, 1, 2), (11840699188806025751, 1, 3)]\n",
            "matches: [(11840699188806025751, 1, 2)]\n",
            "matches: [(11840699188806025751, 5, 6)]\n",
            "matches: [(11840699188806025751, 3, 4), (11840699188806025751, 3, 5)]\n",
            "matches: [(11840699188806025751, 1, 2), (11840699188806025751, 1, 3)]\n",
            "matches: [(11840699188806025751, 2, 3), (11840699188806025751, 2, 4)]\n",
            "matches: [(11840699188806025751, 2, 3)]\n",
            "matches: [(11840699188806025751, 6, 7)]\n",
            "matches: [(11840699188806025751, 1, 2)]\n",
            "matches: [(11840699188806025751, 9, 10), (11840699188806025751, 9, 11)]\n",
            "matches: [(11840699188806025751, 6, 7)]\n",
            "matches: [(11840699188806025751, 1, 2), (11840699188806025751, 1, 3)]\n",
            "matches: [(11840699188806025751, 1, 2)]\n",
            "matches: [(11840699188806025751, 1, 2)]\n",
            "matches: [(11840699188806025751, 2, 3)]\n",
            "matches: [(11840699188806025751, 1, 2)]\n"
          ],
          "name": "stdout"
        },
        {
          "output_type": "stream",
          "text": [
            " 69%|██████▉   | 2975/4318 [00:33<00:15, 86.77it/s]"
          ],
          "name": "stderr"
        },
        {
          "output_type": "stream",
          "text": [
            "matches: [(11840699188806025751, 5, 6)]\n",
            "matches: [(11840699188806025751, 2, 3), (11840699188806025751, 2, 4)]\n",
            "matches: [(11840699188806025751, 1, 2)]\n",
            "matches: [(11840699188806025751, 1, 2)]\n",
            "matches: [(11840699188806025751, 3, 4), (11840699188806025751, 3, 5)]\n",
            "matches: [(11840699188806025751, 1, 2)]\n",
            "matches: [(11840699188806025751, 12, 13)]\n",
            "matches: [(11840699188806025751, 9, 10)]\n",
            "matches: [(11840699188806025751, 6, 7)]\n",
            "matches: [(11840699188806025751, 5, 6)]\n",
            "matches: [(11840699188806025751, 1, 2)]\n",
            "matches: [(11840699188806025751, 8, 9)]\n",
            "matches: [(11840699188806025751, 2, 3)]\n",
            "matches: [(11840699188806025751, 3, 4)]\n",
            "matches: [(11840699188806025751, 7, 8)]\n",
            "matches: [(11840699188806025751, 3, 4)]\n",
            "matches: [(11840699188806025751, 4, 5)]\n",
            "matches: [(11840699188806025751, 1, 2)]\n",
            "matches: [(11840699188806025751, 2, 3)]\n"
          ],
          "name": "stdout"
        },
        {
          "output_type": "stream",
          "text": [
            " 69%|██████▉   | 2994/4318 [00:34<00:14, 88.96it/s]"
          ],
          "name": "stderr"
        },
        {
          "output_type": "stream",
          "text": [
            "matches: [(11840699188806025751, 4, 5)]\n",
            "matches: [(11840699188806025751, 1, 2)]\n",
            "matches: [(11840699188806025751, 1, 2)]\n",
            "matches: [(11840699188806025751, 2, 3)]\n",
            "matches: [(11840699188806025751, 1, 2)]\n",
            "matches: [(11840699188806025751, 8, 9), (11840699188806025751, 8, 10)]\n",
            "matches: [(11840699188806025751, 4, 5)]\n",
            "matches: [(11840699188806025751, 8, 9)]\n",
            "matches: [(11840699188806025751, 6, 7)]\n",
            "matches: [(11840699188806025751, 4, 5), (11840699188806025751, 4, 6)]\n",
            "matches: [(11840699188806025751, 3, 4)]\n",
            "matches: [(11840699188806025751, 4, 5)]\n",
            "matches: [(11840699188806025751, 4, 5), (11840699188806025751, 4, 6), (11840699188806025751, 4, 7)]\n",
            "matches: [(11840699188806025751, 3, 4)]\n",
            "matches: [(11840699188806025751, 6, 7)]\n",
            "matches: [(11840699188806025751, 5, 6), (11840699188806025751, 5, 7)]\n",
            "matches: [(11840699188806025751, 5, 6)]\n",
            "matches: [(11840699188806025751, 2, 3), (11840699188806025751, 2, 4)]\n",
            "matches: [(11840699188806025751, 7, 8), (11840699188806025751, 7, 9)]\n"
          ],
          "name": "stdout"
        },
        {
          "output_type": "stream",
          "text": [
            " 70%|██████▉   | 3014/4318 [00:34<00:14, 91.07it/s]"
          ],
          "name": "stderr"
        },
        {
          "output_type": "stream",
          "text": [
            "matches: [(11840699188806025751, 4, 5)]\n",
            "matches: [(11840699188806025751, 3, 4)]\n",
            "matches: [(11840699188806025751, 1, 2)]\n",
            "matches: [(11840699188806025751, 8, 9)]\n",
            "matches: [(11840699188806025751, 5, 6)]\n",
            "matches: [(11840699188806025751, 4, 5), (11840699188806025751, 4, 6)]\n",
            "matches: [(11840699188806025751, 2, 3)]\n",
            "matches: [(11840699188806025751, 3, 4), (11840699188806025751, 3, 5)]\n",
            "matches: [(11840699188806025751, 1, 2)]\n",
            "matches: [(11840699188806025751, 1, 2)]\n",
            "matches: [(11840699188806025751, 4, 5)]\n",
            "matches: [(11840699188806025751, 1, 2)]\n",
            "matches: [(11840699188806025751, 2, 3)]\n",
            "matches: [(11840699188806025751, 3, 4)]\n",
            "matches: [(11840699188806025751, 3, 4)]\n",
            "matches: [(11840699188806025751, 3, 4)]\n",
            "matches: [(11840699188806025751, 5, 6), (11840699188806025751, 5, 7)]\n",
            "matches: [(11840699188806025751, 5, 6)]\n",
            "matches: [(11840699188806025751, 7, 8)]\n"
          ],
          "name": "stdout"
        },
        {
          "output_type": "stream",
          "text": [
            " 70%|███████   | 3034/4318 [00:34<00:13, 92.08it/s]"
          ],
          "name": "stderr"
        },
        {
          "output_type": "stream",
          "text": [
            "matches: [(11840699188806025751, 2, 3)]\n",
            "matches: [(11840699188806025751, 1, 2)]\n",
            "matches: [(11840699188806025751, 2, 3)]\n",
            "matches: [(11840699188806025751, 4, 5), (11840699188806025751, 4, 6)]\n",
            "matches: [(11840699188806025751, 1, 2), (11840699188806025751, 1, 3)]\n",
            "matches: [(11840699188806025751, 12, 13)]\n",
            "matches: [(11840699188806025751, 2, 3)]\n",
            "matches: [(11840699188806025751, 8, 9)]\n",
            "matches: [(11840699188806025751, 6, 7)]\n",
            "matches: [(11840699188806025751, 3, 4)]\n",
            "matches: [(11840699188806025751, 3, 4), (11840699188806025751, 3, 5)]\n",
            "matches: [(11840699188806025751, 9, 10)]\n",
            "matches: [(11840699188806025751, 7, 8)]\n",
            "matches: [(11840699188806025751, 3, 4)]\n",
            "matches: [(11840699188806025751, 5, 6), (11840699188806025751, 5, 7)]\n",
            "matches: [(11840699188806025751, 3, 4), (11840699188806025751, 3, 5)]\n",
            "matches: [(11840699188806025751, 2, 3)]\n",
            "matches: [(11840699188806025751, 3, 4), (11840699188806025751, 3, 5)]\n",
            "matches: [(11840699188806025751, 6, 7)]\n",
            "matches: [(11840699188806025751, 5, 6)]\n"
          ],
          "name": "stdout"
        },
        {
          "output_type": "stream",
          "text": [
            " 71%|███████   | 3054/4318 [00:34<00:14, 88.08it/s]"
          ],
          "name": "stderr"
        },
        {
          "output_type": "stream",
          "text": [
            "matches: [(11840699188806025751, 6, 7)]\n",
            "matches: [(11840699188806025751, 3, 4), (11840699188806025751, 3, 5)]\n",
            "matches: [(11840699188806025751, 10, 11)]\n",
            "matches: [(11840699188806025751, 3, 4), (11840699188806025751, 3, 5)]\n",
            "matches: [(11840699188806025751, 2, 3)]\n",
            "matches: [(11840699188806025751, 7, 8)]\n",
            "matches: [(11840699188806025751, 3, 4)]\n",
            "matches: [(11840699188806025751, 1, 2)]\n",
            "matches: [(11840699188806025751, 8, 9)]\n",
            "matches: [(11840699188806025751, 7, 8)]\n",
            "matches: [(11840699188806025751, 1, 2)]\n",
            "matches: [(11840699188806025751, 1, 2)]\n",
            "matches: [(11840699188806025751, 5, 6), (11840699188806025751, 5, 7)]\n",
            "matches: [(11840699188806025751, 9, 10)]\n",
            "matches: [(11840699188806025751, 14, 15)]\n",
            "matches: [(11840699188806025751, 5, 6)]\n",
            "matches: [(11840699188806025751, 1, 2)]\n",
            "matches: [(11840699188806025751, 1, 2)]\n"
          ],
          "name": "stdout"
        },
        {
          "output_type": "stream",
          "text": [
            " 71%|███████   | 3074/4318 [00:35<00:13, 91.31it/s]"
          ],
          "name": "stderr"
        },
        {
          "output_type": "stream",
          "text": [
            "matches: [(11840699188806025751, 2, 3)]\n",
            "matches: [(11840699188806025751, 7, 8)]\n",
            "matches: [(11840699188806025751, 4, 5)]\n",
            "matches: [(11840699188806025751, 2, 3)]\n",
            "matches: [(11840699188806025751, 1, 2)]\n",
            "matches: [(11840699188806025751, 2, 3)]\n",
            "matches: [(11840699188806025751, 1, 2)]\n",
            "matches: [(11840699188806025751, 2, 3)]\n",
            "matches: [(11840699188806025751, 2, 3)]\n",
            "matches: [(11840699188806025751, 4, 5), (11840699188806025751, 4, 6), (11840699188806025751, 4, 7)]\n",
            "matches: [(11840699188806025751, 0, 1)]\n",
            "matches: [(11840699188806025751, 2, 3), (11840699188806025751, 2, 4)]\n",
            "matches: [(11840699188806025751, 10, 11)]\n",
            "matches: [(11840699188806025751, 1, 2)]\n",
            "matches: [(11840699188806025751, 1, 2)]\n",
            "matches: [(11840699188806025751, 5, 6)]\n",
            "matches: [(11840699188806025751, 2, 3)]\n",
            "matches: [(11840699188806025751, 5, 6)]\n",
            "matches: [(11840699188806025751, 2, 3)]\n",
            "matches: [(11840699188806025751, 11, 12)]\n"
          ],
          "name": "stdout"
        },
        {
          "output_type": "stream",
          "text": [
            " 72%|███████▏  | 3094/4318 [00:35<00:13, 90.57it/s]"
          ],
          "name": "stderr"
        },
        {
          "output_type": "stream",
          "text": [
            "matches: [(11840699188806025751, 3, 4)]\n",
            "matches: [(11840699188806025751, 5, 6)]\n",
            "matches: [(11840699188806025751, 1, 2)]\n",
            "matches: [(11840699188806025751, 4, 5)]\n",
            "matches: [(11840699188806025751, 2, 3)]\n",
            "matches: [(11840699188806025751, 4, 5), (11840699188806025751, 4, 6), (11840699188806025751, 4, 7)]\n",
            "matches: [(11840699188806025751, 7, 8), (11840699188806025751, 7, 9)]\n",
            "matches: [(11840699188806025751, 7, 8)]\n",
            "matches: [(11840699188806025751, 3, 4)]\n",
            "matches: [(11840699188806025751, 5, 6)]\n",
            "matches: [(11840699188806025751, 4, 5), (11840699188806025751, 4, 6), (11840699188806025751, 4, 7)]\n",
            "matches: [(11840699188806025751, 3, 4)]\n",
            "matches: [(11840699188806025751, 13, 14)]\n",
            "matches: [(11840699188806025751, 3, 4)]\n",
            "matches: [(11840699188806025751, 2, 3)]\n",
            "matches: [(11840699188806025751, 3, 4)]\n",
            "matches: [(11840699188806025751, 4, 5)]\n",
            "matches: [(11840699188806025751, 2, 3)]\n",
            "matches: [(11840699188806025751, 4, 5), (11840699188806025751, 4, 6)]\n"
          ],
          "name": "stdout"
        },
        {
          "output_type": "stream",
          "text": [
            " 72%|███████▏  | 3114/4318 [00:35<00:13, 89.17it/s]"
          ],
          "name": "stderr"
        },
        {
          "output_type": "stream",
          "text": [
            "matches: [(11840699188806025751, 2, 3)]\n",
            "matches: [(11840699188806025751, 2, 3)]\n",
            "matches: [(11840699188806025751, 2, 3), (11840699188806025751, 2, 4)]\n",
            "matches: [(11840699188806025751, 3, 4)]\n",
            "matches: [(11840699188806025751, 3, 4), (11840699188806025751, 3, 5)]\n",
            "matches: [(11840699188806025751, 2, 3)]\n",
            "matches: [(11840699188806025751, 2, 3)]\n",
            "matches: [(11840699188806025751, 8, 9)]\n",
            "matches: [(11840699188806025751, 2, 3)]\n",
            "matches: [(11840699188806025751, 3, 4)]\n",
            "matches: [(11840699188806025751, 4, 5), (11840699188806025751, 4, 6)]\n",
            "matches: [(11840699188806025751, 3, 4), (11840699188806025751, 3, 5)]\n",
            "matches: [(11840699188806025751, 3, 4), (11840699188806025751, 3, 5)]\n",
            "matches: [(11840699188806025751, 1, 2), (11840699188806025751, 7, 8), (11840699188806025751, 7, 9)]\n",
            "matches: [(11840699188806025751, 2, 3)]\n",
            "matches: [(11840699188806025751, 2, 3)]\n",
            "matches: [(11840699188806025751, 3, 4)]\n",
            "matches: [(11840699188806025751, 6, 7)]\n"
          ],
          "name": "stdout"
        },
        {
          "output_type": "stream",
          "text": [
            " 73%|███████▎  | 3134/4318 [00:35<00:12, 91.53it/s]"
          ],
          "name": "stderr"
        },
        {
          "output_type": "stream",
          "text": [
            "matches: [(11840699188806025751, 1, 2)]\n",
            "matches: [(11840699188806025751, 1, 2), (11840699188806025751, 1, 3)]\n",
            "matches: [(11840699188806025751, 2, 3), (11840699188806025751, 2, 4)]\n",
            "matches: [(11840699188806025751, 4, 5), (11840699188806025751, 4, 6)]\n",
            "matches: [(11840699188806025751, 2, 3)]\n",
            "matches: [(11840699188806025751, 1, 2)]\n",
            "matches: [(11840699188806025751, 7, 8)]\n",
            "matches: [(11840699188806025751, 1, 2)]\n",
            "matches: [(11840699188806025751, 3, 4)]\n",
            "matches: [(11840699188806025751, 1, 2), (11840699188806025751, 1, 3)]\n",
            "matches: [(11840699188806025751, 1, 2)]\n",
            "matches: [(11840699188806025751, 2, 3)]\n",
            "matches: [(11840699188806025751, 1, 2), (11840699188806025751, 1, 3)]\n",
            "matches: [(11840699188806025751, 1, 2)]\n",
            "matches: [(11840699188806025751, 4, 5)]\n",
            "matches: [(11840699188806025751, 2, 3), (11840699188806025751, 2, 4)]\n",
            "matches: [(11840699188806025751, 6, 7)]\n",
            "matches: [(11840699188806025751, 2, 3)]\n",
            "matches: [(11840699188806025751, 5, 6)]\n",
            "matches: [(11840699188806025751, 3, 4)]\n"
          ],
          "name": "stdout"
        },
        {
          "output_type": "stream",
          "text": [
            "\r 73%|███████▎  | 3144/4318 [00:35<00:12, 90.82it/s]"
          ],
          "name": "stderr"
        },
        {
          "output_type": "stream",
          "text": [
            "matches: [(11840699188806025751, 1, 2)]\n",
            "matches: [(11840699188806025751, 1, 2), (11840699188806025751, 1, 3)]\n",
            "matches: [(11840699188806025751, 6, 7)]\n",
            "matches: [(11840699188806025751, 1, 2)]\n",
            "matches: [(11840699188806025751, 2, 3), (11840699188806025751, 2, 4)]\n",
            "matches: [(11840699188806025751, 2, 3), (11840699188806025751, 2, 4)]\n",
            "matches: [(11840699188806025751, 0, 1)]\n",
            "matches: [(11840699188806025751, 1, 2), (11840699188806025751, 7, 8), (11840699188806025751, 7, 9)]\n",
            "matches: [(11840699188806025751, 2, 3)]\n",
            "matches: [(11840699188806025751, 2, 3)]\n",
            "matches: [(11840699188806025751, 3, 4)]\n",
            "matches: [(11840699188806025751, 6, 7)]\n",
            "matches: [(11840699188806025751, 1, 2)]\n",
            "matches: [(11840699188806025751, 1, 2), (11840699188806025751, 1, 3)]\n",
            "matches: [(11840699188806025751, 2, 3), (11840699188806025751, 2, 4)]\n",
            "matches: [(11840699188806025751, 4, 5), (11840699188806025751, 4, 6)]\n",
            "matches: [(11840699188806025751, 2, 3)]\n",
            "matches: [(11840699188806025751, 1, 2)]\n",
            "matches: [(11840699188806025751, 7, 8)]\n"
          ],
          "name": "stdout"
        },
        {
          "output_type": "stream",
          "text": [
            " 73%|███████▎  | 3164/4318 [00:36<00:12, 91.76it/s]"
          ],
          "name": "stderr"
        },
        {
          "output_type": "stream",
          "text": [
            "matches: [(11840699188806025751, 1, 2)]\n",
            "matches: [(11840699188806025751, 3, 4)]\n",
            "matches: [(11840699188806025751, 1, 2), (11840699188806025751, 1, 3)]\n",
            "matches: [(11840699188806025751, 1, 2)]\n",
            "matches: [(11840699188806025751, 2, 3)]\n",
            "matches: [(11840699188806025751, 1, 2), (11840699188806025751, 1, 3)]\n",
            "matches: [(11840699188806025751, 1, 2)]\n",
            "matches: [(11840699188806025751, 4, 5)]\n",
            "matches: [(11840699188806025751, 2, 3), (11840699188806025751, 2, 4)]\n",
            "matches: [(11840699188806025751, 6, 7)]\n",
            "matches: [(11840699188806025751, 2, 3)]\n",
            "matches: [(11840699188806025751, 5, 6)]\n",
            "matches: [(11840699188806025751, 3, 4)]\n",
            "matches: [(11840699188806025751, 1, 2)]\n",
            "matches: [(11840699188806025751, 1, 2), (11840699188806025751, 1, 3)]\n",
            "matches: [(11840699188806025751, 6, 7)]\n",
            "matches: [(11840699188806025751, 1, 2)]\n",
            "matches: [(11840699188806025751, 2, 3), (11840699188806025751, 2, 4)]\n",
            "matches: [(11840699188806025751, 2, 3), (11840699188806025751, 2, 4)]\n"
          ],
          "name": "stdout"
        },
        {
          "output_type": "stream",
          "text": [
            " 74%|███████▎  | 3184/4318 [00:36<00:12, 91.27it/s]"
          ],
          "name": "stderr"
        },
        {
          "output_type": "stream",
          "text": [
            "matches: [(11840699188806025751, 0, 1)]\n",
            "matches: [(11840699188806025751, 1, 2)]\n",
            "matches: [(11840699188806025751, 1, 2)]\n",
            "matches: [(11840699188806025751, 8, 9), (11840699188806025751, 8, 10)]\n",
            "matches: [(11840699188806025751, 3, 4)]\n",
            "matches: [(11840699188806025751, 2, 3)]\n",
            "matches: [(11840699188806025751, 5, 6)]\n",
            "matches: [(11840699188806025751, 1, 2)]\n",
            "matches: [(11840699188806025751, 8, 9)]\n",
            "matches: [(11840699188806025751, 4, 5)]\n",
            "matches: [(11840699188806025751, 2, 3)]\n",
            "matches: [(11840699188806025751, 2, 3)]\n",
            "matches: [(11840699188806025751, 10, 11)]\n",
            "matches: [(11840699188806025751, 4, 5)]\n",
            "matches: [(11840699188806025751, 3, 4)]\n",
            "matches: [(11840699188806025751, 8, 9)]\n",
            "matches: [(11840699188806025751, 2, 3)]\n",
            "matches: [(11840699188806025751, 9, 10)]\n",
            "matches: [(11840699188806025751, 2, 3), (11840699188806025751, 2, 4)]\n"
          ],
          "name": "stdout"
        },
        {
          "output_type": "stream",
          "text": [
            " 74%|███████▍  | 3204/4318 [00:36<00:12, 89.48it/s]"
          ],
          "name": "stderr"
        },
        {
          "output_type": "stream",
          "text": [
            "matches: [(11840699188806025751, 1, 2), (11840699188806025751, 1, 3)]\n",
            "matches: [(11840699188806025751, 2, 3)]\n",
            "matches: [(11840699188806025751, 1, 2)]\n",
            "matches: [(11840699188806025751, 5, 6)]\n",
            "matches: [(11840699188806025751, 4, 5)]\n",
            "matches: [(11840699188806025751, 1, 2)]\n",
            "matches: [(11840699188806025751, 3, 4)]\n",
            "matches: [(11840699188806025751, 4, 5)]\n",
            "matches: [(11840699188806025751, 10, 11)]\n",
            "matches: [(11840699188806025751, 6, 7)]\n",
            "matches: [(11840699188806025751, 6, 7)]\n",
            "matches: [(11840699188806025751, 3, 4)]\n",
            "matches: [(11840699188806025751, 3, 4)]\n",
            "matches: [(11840699188806025751, 4, 5), (11840699188806025751, 4, 6), (11840699188806025751, 4, 7)]\n",
            "matches: [(11840699188806025751, 9, 10), (11840699188806025751, 9, 11)]\n",
            "matches: [(11840699188806025751, 3, 4)]\n",
            "matches: [(11840699188806025751, 3, 4)]\n",
            "matches: [(11840699188806025751, 3, 4)]\n"
          ],
          "name": "stdout"
        },
        {
          "output_type": "stream",
          "text": [
            " 75%|███████▍  | 3222/4318 [00:36<00:12, 86.44it/s]"
          ],
          "name": "stderr"
        },
        {
          "output_type": "stream",
          "text": [
            "matches: [(11840699188806025751, 2, 3), (11840699188806025751, 2, 4)]\n",
            "matches: [(11840699188806025751, 4, 5), (11840699188806025751, 4, 6)]\n",
            "matches: [(11840699188806025751, 7, 8)]\n",
            "matches: [(11840699188806025751, 4, 5), (11840699188806025751, 4, 6)]\n",
            "matches: [(11840699188806025751, 2, 3), (11840699188806025751, 2, 4)]\n",
            "matches: [(11840699188806025751, 5, 6)]\n",
            "matches: [(11840699188806025751, 1, 2), (11840699188806025751, 1, 3), (11840699188806025751, 16, 17)]\n",
            "matches: [(11840699188806025751, 2, 3), (11840699188806025751, 2, 4)]\n",
            "matches: [(11840699188806025751, 4, 5), (11840699188806025751, 4, 6)]\n",
            "matches: [(11840699188806025751, 2, 3)]\n",
            "matches: [(11840699188806025751, 2, 3)]\n",
            "matches: [(11840699188806025751, 2, 3)]\n",
            "matches: [(11840699188806025751, 1, 2)]\n",
            "matches: [(11840699188806025751, 4, 5), (11840699188806025751, 4, 6)]\n",
            "matches: [(11840699188806025751, 2, 3)]\n",
            "matches: [(11840699188806025751, 2, 3)]\n",
            "matches: [(11840699188806025751, 2, 3)]\n",
            "matches: [(11840699188806025751, 3, 4)]\n"
          ],
          "name": "stdout"
        },
        {
          "output_type": "stream",
          "text": [
            " 75%|███████▌  | 3241/4318 [00:36<00:12, 87.28it/s]"
          ],
          "name": "stderr"
        },
        {
          "output_type": "stream",
          "text": [
            "matches: [(11840699188806025751, 5, 6), (11840699188806025751, 5, 7)]\n",
            "matches: [(11840699188806025751, 5, 6), (11840699188806025751, 5, 7)]\n",
            "matches: [(11840699188806025751, 5, 6), (11840699188806025751, 5, 7)]\n",
            "matches: [(11840699188806025751, 3, 4), (11840699188806025751, 3, 5)]\n",
            "matches: [(11840699188806025751, 3, 4)]\n",
            "matches: [(11840699188806025751, 8, 9)]\n",
            "matches: [(11840699188806025751, 2, 3)]\n",
            "matches: [(11840699188806025751, 11, 12), (11840699188806025751, 11, 13), (11840699188806025751, 11, 14)]\n",
            "matches: [(11840699188806025751, 3, 4)]\n",
            "matches: [(11840699188806025751, 3, 4), (11840699188806025751, 3, 5)]\n",
            "matches: [(11840699188806025751, 2, 3)]\n",
            "matches: [(11840699188806025751, 7, 8), (11840699188806025751, 7, 9)]\n",
            "matches: [(11840699188806025751, 3, 4), (11840699188806025751, 3, 5)]\n",
            "matches: [(11840699188806025751, 6, 7)]\n",
            "matches: [(11840699188806025751, 5, 6)]\n",
            "matches: [(11840699188806025751, 2, 3), (11840699188806025751, 2, 4)]\n",
            "matches: [(11840699188806025751, 1, 2)]\n",
            "matches: [(11840699188806025751, 2, 3)]\n",
            "matches: [(11840699188806025751, 2, 3), (11840699188806025751, 2, 4)]\n"
          ],
          "name": "stdout"
        },
        {
          "output_type": "stream",
          "text": [
            " 75%|███████▌  | 3260/4318 [00:37<00:11, 90.21it/s]"
          ],
          "name": "stderr"
        },
        {
          "output_type": "stream",
          "text": [
            "matches: [(11840699188806025751, 2, 3)]\n",
            "matches: [(11840699188806025751, 3, 4), (11840699188806025751, 3, 5)]\n",
            "matches: [(11840699188806025751, 6, 7)]\n",
            "matches: [(11840699188806025751, 7, 8)]\n",
            "matches: [(11840699188806025751, 4, 5)]\n",
            "matches: [(11840699188806025751, 4, 5), (11840699188806025751, 4, 6)]\n",
            "matches: [(11840699188806025751, 2, 3), (11840699188806025751, 2, 4)]\n",
            "matches: [(11840699188806025751, 4, 5)]\n",
            "matches: [(11840699188806025751, 2, 3), (11840699188806025751, 2, 4), (11840699188806025751, 2, 5)]\n",
            "matches: [(11840699188806025751, 4, 5), (11840699188806025751, 4, 6)]\n",
            "matches: [(11840699188806025751, 7, 8)]\n",
            "matches: [(11840699188806025751, 1, 2), (11840699188806025751, 1, 3)]\n",
            "matches: [(11840699188806025751, 1, 2)]\n",
            "matches: [(11840699188806025751, 1, 2)]\n",
            "matches: [(11840699188806025751, 8, 9), (11840699188806025751, 8, 10)]\n",
            "matches: [(11840699188806025751, 1, 2)]\n",
            "matches: [(11840699188806025751, 2, 3)]\n",
            "matches: [(11840699188806025751, 2, 3), (11840699188806025751, 2, 4)]\n",
            "matches: [(11840699188806025751, 3, 4)]\n",
            "matches: [(11840699188806025751, 2, 3)]\n"
          ],
          "name": "stdout"
        },
        {
          "output_type": "stream",
          "text": [
            " 76%|███████▌  | 3280/4318 [00:37<00:11, 90.39it/s]"
          ],
          "name": "stderr"
        },
        {
          "output_type": "stream",
          "text": [
            "matches: [(11840699188806025751, 8, 9)]\n",
            "matches: [(11840699188806025751, 1, 2)]\n",
            "matches: [(11840699188806025751, 3, 4), (11840699188806025751, 3, 5)]\n",
            "matches: [(11840699188806025751, 7, 8), (11840699188806025751, 7, 9)]\n",
            "matches: [(11840699188806025751, 6, 7)]\n",
            "matches: [(11840699188806025751, 3, 4), (11840699188806025751, 3, 5), (11840699188806025751, 3, 6)]\n",
            "matches: [(11840699188806025751, 15, 16)]\n",
            "matches: [(11840699188806025751, 4, 5), (11840699188806025751, 4, 6)]\n",
            "matches: [(11840699188806025751, 15, 16), (11840699188806025751, 15, 17)]\n",
            "matches: [(11840699188806025751, 3, 4), (11840699188806025751, 3, 5)]\n",
            "matches: [(11840699188806025751, 5, 6)]\n",
            "matches: [(11840699188806025751, 11, 12), (11840699188806025751, 11, 13)]\n",
            "matches: [(11840699188806025751, 18, 19), (11840699188806025751, 18, 20)]\n",
            "matches: [(11840699188806025751, 1, 2)]\n",
            "matches: [(11840699188806025751, 0, 1)]\n",
            "matches: [(11840699188806025751, 1, 2)]\n",
            "matches: [(11840699188806025751, 3, 4), (11840699188806025751, 3, 5)]\n",
            "matches: [(11840699188806025751, 0, 1), (11840699188806025751, 5, 6), (11840699188806025751, 5, 7)]\n",
            "matches: [(11840699188806025751, 2, 3), (11840699188806025751, 2, 4), (11840699188806025751, 2, 5)]\n"
          ],
          "name": "stdout"
        },
        {
          "output_type": "stream",
          "text": [
            " 76%|███████▋  | 3300/4318 [00:37<00:11, 91.84it/s]"
          ],
          "name": "stderr"
        },
        {
          "output_type": "stream",
          "text": [
            "matches: [(11840699188806025751, 1, 2)]\n",
            "matches: [(11840699188806025751, 2, 3)]\n",
            "matches: [(11840699188806025751, 3, 4)]\n",
            "matches: [(11840699188806025751, 3, 4), (11840699188806025751, 3, 5)]\n",
            "matches: [(11840699188806025751, 3, 4)]\n",
            "matches: [(11840699188806025751, 1, 2)]\n",
            "matches: [(11840699188806025751, 2, 3)]\n",
            "matches: [(11840699188806025751, 3, 4), (11840699188806025751, 3, 5)]\n",
            "matches: [(11840699188806025751, 11, 12), (11840699188806025751, 11, 13)]\n",
            "matches: [(11840699188806025751, 3, 4)]\n",
            "matches: [(11840699188806025751, 3, 4), (11840699188806025751, 3, 5)]\n",
            "matches: [(11840699188806025751, 7, 8)]\n",
            "matches: [(11840699188806025751, 3, 4), (11840699188806025751, 3, 5)]\n",
            "matches: [(11840699188806025751, 3, 4), (11840699188806025751, 3, 5)]\n",
            "matches: [(11840699188806025751, 2, 3)]\n",
            "matches: [(11840699188806025751, 3, 4), (11840699188806025751, 3, 5)]\n",
            "matches: [(11840699188806025751, 2, 3), (11840699188806025751, 2, 4)]\n",
            "matches: [(11840699188806025751, 4, 5), (11840699188806025751, 4, 6)]\n",
            "matches: [(11840699188806025751, 1, 2)]\n",
            "matches: [(11840699188806025751, 4, 5)]\n"
          ],
          "name": "stdout"
        },
        {
          "output_type": "stream",
          "text": [
            " 77%|███████▋  | 3320/4318 [00:37<00:10, 92.70it/s]"
          ],
          "name": "stderr"
        },
        {
          "output_type": "stream",
          "text": [
            "matches: [(11840699188806025751, 2, 3)]\n",
            "matches: [(11840699188806025751, 3, 4), (11840699188806025751, 3, 5)]\n",
            "matches: [(11840699188806025751, 9, 10)]\n",
            "matches: [(11840699188806025751, 1, 2)]\n",
            "matches: [(11840699188806025751, 7, 8)]\n",
            "matches: [(11840699188806025751, 1, 2), (11840699188806025751, 1, 3)]\n",
            "matches: [(11840699188806025751, 2, 3)]\n",
            "matches: [(11840699188806025751, 3, 4), (11840699188806025751, 3, 5)]\n",
            "matches: [(11840699188806025751, 4, 5), (11840699188806025751, 4, 6)]\n",
            "matches: [(11840699188806025751, 1, 2)]\n",
            "matches: [(11840699188806025751, 3, 4)]\n",
            "matches: [(11840699188806025751, 2, 3)]\n",
            "matches: [(11840699188806025751, 2, 3), (11840699188806025751, 2, 4)]\n",
            "matches: [(11840699188806025751, 3, 4), (11840699188806025751, 3, 5)]\n",
            "matches: [(11840699188806025751, 2, 3), (11840699188806025751, 2, 4), (11840699188806025751, 2, 5)]\n",
            "matches: [(11840699188806025751, 2, 3), (11840699188806025751, 2, 4)]\n",
            "matches: [(11840699188806025751, 6, 7)]\n",
            "matches: [(11840699188806025751, 7, 8)]\n",
            "matches: [(11840699188806025751, 4, 5)]\n"
          ],
          "name": "stdout"
        },
        {
          "output_type": "stream",
          "text": [
            " 77%|███████▋  | 3340/4318 [00:37<00:10, 90.44it/s]"
          ],
          "name": "stderr"
        },
        {
          "output_type": "stream",
          "text": [
            "matches: [(11840699188806025751, 4, 5)]\n",
            "matches: [(11840699188806025751, 3, 4)]\n",
            "matches: [(11840699188806025751, 4, 5)]\n",
            "matches: [(11840699188806025751, 4, 5)]\n",
            "matches: [(11840699188806025751, 3, 4)]\n",
            "matches: [(11840699188806025751, 2, 3), (11840699188806025751, 2, 4)]\n",
            "matches: [(11840699188806025751, 3, 4), (11840699188806025751, 3, 5)]\n",
            "matches: [(11840699188806025751, 7, 8)]\n",
            "matches: [(11840699188806025751, 5, 6)]\n",
            "matches: [(11840699188806025751, 4, 5)]\n",
            "matches: [(11840699188806025751, 2, 3), (11840699188806025751, 2, 4)]\n",
            "matches: [(11840699188806025751, 3, 4), (11840699188806025751, 3, 5)]\n",
            "matches: [(11840699188806025751, 5, 6)]\n",
            "matches: [(11840699188806025751, 2, 3), (11840699188806025751, 2, 4)]\n",
            "matches: [(11840699188806025751, 17, 18), (11840699188806025751, 17, 19)]\n",
            "matches: [(11840699188806025751, 8, 9)]\n",
            "matches: [(11840699188806025751, 10, 11), (11840699188806025751, 10, 12)]\n",
            "matches: [(11840699188806025751, 4, 5)]\n",
            "matches: [(11840699188806025751, 3, 4), (11840699188806025751, 3, 5)]\n"
          ],
          "name": "stdout"
        },
        {
          "output_type": "stream",
          "text": [
            " 78%|███████▊  | 3360/4318 [00:38<00:10, 91.58it/s]"
          ],
          "name": "stderr"
        },
        {
          "output_type": "stream",
          "text": [
            "matches: [(11840699188806025751, 4, 5)]\n",
            "matches: [(11840699188806025751, 7, 8)]\n",
            "matches: [(11840699188806025751, 9, 10), (11840699188806025751, 9, 11)]\n",
            "matches: [(11840699188806025751, 8, 9)]\n",
            "matches: [(11840699188806025751, 9, 10)]\n",
            "matches: [(11840699188806025751, 5, 6)]\n",
            "matches: [(11840699188806025751, 4, 5), (11840699188806025751, 4, 6)]\n",
            "matches: [(11840699188806025751, 9, 10)]\n",
            "matches: [(11840699188806025751, 5, 6)]\n",
            "matches: [(11840699188806025751, 6, 7)]\n",
            "matches: [(11840699188806025751, 7, 8), (11840699188806025751, 7, 9), (11840699188806025751, 7, 10)]\n",
            "matches: [(11840699188806025751, 4, 5), (11840699188806025751, 4, 6)]\n",
            "matches: [(11840699188806025751, 5, 6), (11840699188806025751, 5, 7)]\n",
            "matches: [(11840699188806025751, 4, 5), (11840699188806025751, 4, 6)]\n",
            "matches: [(11840699188806025751, 7, 8), (11840699188806025751, 7, 9)]\n",
            "matches: [(11840699188806025751, 2, 3)]\n",
            "matches: [(11840699188806025751, 3, 4)]\n",
            "matches: [(11840699188806025751, 6, 7), (11840699188806025751, 6, 8)]\n",
            "matches: [(11840699188806025751, 2, 3)]\n"
          ],
          "name": "stdout"
        },
        {
          "output_type": "stream",
          "text": [
            " 78%|███████▊  | 3380/4318 [00:38<00:10, 91.18it/s]"
          ],
          "name": "stderr"
        },
        {
          "output_type": "stream",
          "text": [
            "matches: [(11840699188806025751, 2, 3), (11840699188806025751, 2, 4)]\n",
            "matches: [(11840699188806025751, 8, 9)]\n",
            "matches: [(11840699188806025751, 3, 4)]\n",
            "matches: [(11840699188806025751, 5, 6), (11840699188806025751, 9, 10)]\n",
            "matches: [(11840699188806025751, 5, 6), (11840699188806025751, 5, 7)]\n",
            "matches: [(11840699188806025751, 9, 10)]\n",
            "matches: [(11840699188806025751, 7, 8)]\n",
            "matches: [(11840699188806025751, 1, 2)]\n",
            "matches: [(11840699188806025751, 1, 2)]\n",
            "matches: [(11840699188806025751, 1, 2)]\n",
            "matches: [(11840699188806025751, 4, 5)]\n",
            "matches: [(11840699188806025751, 3, 4), (11840699188806025751, 3, 5)]\n",
            "matches: [(11840699188806025751, 4, 5)]\n",
            "matches: [(11840699188806025751, 7, 8)]\n",
            "matches: [(11840699188806025751, 9, 10), (11840699188806025751, 9, 11)]\n",
            "matches: [(11840699188806025751, 8, 9)]\n",
            "matches: [(11840699188806025751, 9, 10)]\n",
            "matches: [(11840699188806025751, 5, 6)]\n",
            "matches: [(11840699188806025751, 4, 5), (11840699188806025751, 4, 6)]\n",
            "matches: [(11840699188806025751, 9, 10)]\n"
          ],
          "name": "stdout"
        },
        {
          "output_type": "stream",
          "text": [
            " 79%|███████▊  | 3400/4318 [00:38<00:09, 91.94it/s]"
          ],
          "name": "stderr"
        },
        {
          "output_type": "stream",
          "text": [
            "matches: [(11840699188806025751, 5, 6)]\n",
            "matches: [(11840699188806025751, 6, 7)]\n",
            "matches: [(11840699188806025751, 7, 8), (11840699188806025751, 7, 9), (11840699188806025751, 7, 10)]\n",
            "matches: [(11840699188806025751, 4, 5), (11840699188806025751, 4, 6)]\n",
            "matches: [(11840699188806025751, 5, 6), (11840699188806025751, 5, 7)]\n",
            "matches: [(11840699188806025751, 4, 5), (11840699188806025751, 4, 6)]\n",
            "matches: [(11840699188806025751, 7, 8), (11840699188806025751, 7, 9)]\n",
            "matches: [(11840699188806025751, 2, 3)]\n",
            "matches: [(11840699188806025751, 3, 4)]\n",
            "matches: [(11840699188806025751, 6, 7), (11840699188806025751, 6, 8)]\n",
            "matches: [(11840699188806025751, 2, 3)]\n",
            "matches: [(11840699188806025751, 2, 3), (11840699188806025751, 2, 4)]\n",
            "matches: [(11840699188806025751, 8, 9)]\n",
            "matches: [(11840699188806025751, 3, 4)]\n",
            "matches: [(11840699188806025751, 5, 6), (11840699188806025751, 9, 10)]\n",
            "matches: [(11840699188806025751, 5, 6), (11840699188806025751, 5, 7)]\n",
            "matches: [(11840699188806025751, 9, 10)]\n",
            "matches: [(11840699188806025751, 7, 8)]\n",
            "matches: [(11840699188806025751, 1, 2)]\n"
          ],
          "name": "stdout"
        },
        {
          "output_type": "stream",
          "text": [
            "\r 79%|███████▉  | 3410/4318 [00:38<00:09, 92.10it/s]"
          ],
          "name": "stderr"
        },
        {
          "output_type": "stream",
          "text": [
            "matches: [(11840699188806025751, 1, 2)]\n",
            "matches: [(11840699188806025751, 1, 2)]\n",
            "matches: [(11840699188806025751, 2, 3)]\n",
            "matches: [(11840699188806025751, 2, 3)]\n",
            "matches: [(11840699188806025751, 2, 3)]\n",
            "matches: [(11840699188806025751, 2, 3), (11840699188806025751, 2, 4)]\n",
            "matches: [(11840699188806025751, 2, 3)]\n",
            "matches: [(11840699188806025751, 1, 2)]\n",
            "matches: [(11840699188806025751, 5, 6)]\n",
            "matches: [(11840699188806025751, 12, 13)]\n",
            "matches: [(11840699188806025751, 4, 5), (11840699188806025751, 4, 6)]\n",
            "matches: [(11840699188806025751, 7, 8)]\n",
            "matches: [(11840699188806025751, 2, 3)]\n",
            "matches: [(11840699188806025751, 5, 6)]\n",
            "matches: [(11840699188806025751, 5, 6)]\n",
            "matches: [(11840699188806025751, 2, 3), (11840699188806025751, 2, 4)]\n",
            "matches: [(11840699188806025751, 1, 2)]\n",
            "matches: [(11840699188806025751, 1, 2)]\n"
          ],
          "name": "stdout"
        },
        {
          "output_type": "stream",
          "text": [
            " 79%|███████▉  | 3430/4318 [00:38<00:09, 89.14it/s]"
          ],
          "name": "stderr"
        },
        {
          "output_type": "stream",
          "text": [
            "matches: [(11840699188806025751, 2, 3)]\n",
            "matches: [(11840699188806025751, 2, 3)]\n",
            "matches: [(11840699188806025751, 4, 5), (11840699188806025751, 4, 6)]\n",
            "matches: [(11840699188806025751, 1, 2)]\n",
            "matches: [(11840699188806025751, 5, 6), (11840699188806025751, 5, 7)]\n",
            "matches: [(11840699188806025751, 2, 3)]\n",
            "matches: [(11840699188806025751, 5, 6), (11840699188806025751, 5, 7)]\n",
            "matches: [(11840699188806025751, 1, 2), (11840699188806025751, 4, 5)]\n",
            "matches: [(11840699188806025751, 6, 7), (11840699188806025751, 6, 8)]\n",
            "matches: [(11840699188806025751, 2, 3), (11840699188806025751, 2, 4)]\n",
            "matches: [(11840699188806025751, 1, 2)]\n",
            "matches: [(11840699188806025751, 2, 3)]\n",
            "matches: [(11840699188806025751, 3, 4)]\n",
            "matches: [(11840699188806025751, 1, 2)]\n",
            "matches: [(11840699188806025751, 2, 3), (11840699188806025751, 2, 4)]\n",
            "matches: [(11840699188806025751, 5, 6)]\n",
            "matches: [(11840699188806025751, 1, 2)]\n",
            "matches: [(11840699188806025751, 1, 2), (11840699188806025751, 4, 5)]\n",
            "matches: [(11840699188806025751, 6, 7), (11840699188806025751, 6, 8)]\n"
          ],
          "name": "stdout"
        },
        {
          "output_type": "stream",
          "text": [
            " 80%|███████▉  | 3449/4318 [00:39<00:09, 91.46it/s]"
          ],
          "name": "stderr"
        },
        {
          "output_type": "stream",
          "text": [
            "matches: [(11840699188806025751, 2, 3), (11840699188806025751, 2, 4)]\n",
            "matches: [(11840699188806025751, 1, 2)]\n",
            "matches: [(11840699188806025751, 2, 3)]\n",
            "matches: [(11840699188806025751, 3, 4)]\n",
            "matches: [(11840699188806025751, 1, 2)]\n",
            "matches: [(11840699188806025751, 2, 3), (11840699188806025751, 2, 4)]\n",
            "matches: [(11840699188806025751, 5, 6)]\n",
            "matches: [(11840699188806025751, 1, 2)]\n",
            "matches: [(11840699188806025751, 1, 2)]\n",
            "matches: [(11840699188806025751, 1, 2)]\n",
            "matches: [(11840699188806025751, 5, 6)]\n",
            "matches: [(11840699188806025751, 1, 2), (11840699188806025751, 1, 3)]\n",
            "matches: [(11840699188806025751, 6, 7)]\n",
            "matches: [(11840699188806025751, 5, 6), (11840699188806025751, 5, 7)]\n",
            "matches: [(11840699188806025751, 2, 3)]\n",
            "matches: [(11840699188806025751, 4, 5), (11840699188806025751, 4, 6)]\n",
            "matches: [(11840699188806025751, 7, 8)]\n",
            "matches: [(11840699188806025751, 7, 8), (11840699188806025751, 7, 9)]\n"
          ],
          "name": "stdout"
        },
        {
          "output_type": "stream",
          "text": [
            " 80%|████████  | 3469/4318 [00:39<00:09, 88.79it/s]"
          ],
          "name": "stderr"
        },
        {
          "output_type": "stream",
          "text": [
            "matches: [(11840699188806025751, 8, 9)]\n",
            "matches: [(11840699188806025751, 3, 4)]\n",
            "matches: [(11840699188806025751, 1, 2)]\n",
            "matches: [(11840699188806025751, 2, 3), (11840699188806025751, 2, 4)]\n",
            "matches: [(11840699188806025751, 1, 2)]\n",
            "matches: [(11840699188806025751, 4, 5)]\n",
            "matches: [(11840699188806025751, 5, 6), (11840699188806025751, 5, 7)]\n",
            "matches: [(11840699188806025751, 1, 2)]\n",
            "matches: [(11840699188806025751, 6, 7), (11840699188806025751, 6, 8)]\n",
            "matches: [(11840699188806025751, 2, 3)]\n",
            "matches: [(11840699188806025751, 1, 2)]\n",
            "matches: [(11840699188806025751, 2, 3)]\n",
            "matches: [(11840699188806025751, 1, 2), (11840699188806025751, 1, 3), (11840699188806025751, 6, 7)]\n",
            "matches: [(11840699188806025751, 2, 3)]\n",
            "matches: [(11840699188806025751, 1, 2), (11840699188806025751, 1, 3)]\n",
            "matches: [(11840699188806025751, 1, 2), (11840699188806025751, 1, 3)]\n",
            "matches: [(11840699188806025751, 3, 4), (11840699188806025751, 3, 5)]\n",
            "matches: [(11840699188806025751, 1, 2)]\n",
            "matches: [(11840699188806025751, 3, 4), (11840699188806025751, 3, 5)]\n"
          ],
          "name": "stdout"
        },
        {
          "output_type": "stream",
          "text": [
            " 81%|████████  | 3489/4318 [00:39<00:09, 91.42it/s]"
          ],
          "name": "stderr"
        },
        {
          "output_type": "stream",
          "text": [
            "matches: [(11840699188806025751, 2, 3), (11840699188806025751, 2, 4)]\n",
            "matches: [(11840699188806025751, 1, 2)]\n",
            "matches: [(11840699188806025751, 4, 5)]\n",
            "matches: [(11840699188806025751, 5, 6), (11840699188806025751, 5, 7)]\n",
            "matches: [(11840699188806025751, 1, 2)]\n",
            "matches: [(11840699188806025751, 6, 7), (11840699188806025751, 6, 8)]\n",
            "matches: [(11840699188806025751, 2, 3)]\n",
            "matches: [(11840699188806025751, 1, 2)]\n",
            "matches: [(11840699188806025751, 2, 3)]\n",
            "matches: [(11840699188806025751, 1, 2), (11840699188806025751, 1, 3), (11840699188806025751, 6, 7)]\n",
            "matches: [(11840699188806025751, 2, 3)]\n",
            "matches: [(11840699188806025751, 1, 2), (11840699188806025751, 1, 3)]\n",
            "matches: [(11840699188806025751, 1, 2), (11840699188806025751, 1, 3)]\n",
            "matches: [(11840699188806025751, 3, 4), (11840699188806025751, 3, 5)]\n",
            "matches: [(11840699188806025751, 1, 2)]\n",
            "matches: [(11840699188806025751, 3, 4), (11840699188806025751, 3, 5)]\n",
            "matches: [(11840699188806025751, 3, 4)]\n",
            "matches: [(11840699188806025751, 4, 5), (11840699188806025751, 4, 6)]\n",
            "matches: [(11840699188806025751, 2, 3)]\n",
            "matches: [(11840699188806025751, 4, 5), (11840699188806025751, 4, 6)]\n"
          ],
          "name": "stdout"
        },
        {
          "output_type": "stream",
          "text": [
            " 81%|████████▏ | 3509/4318 [00:39<00:08, 90.56it/s]"
          ],
          "name": "stderr"
        },
        {
          "output_type": "stream",
          "text": [
            "matches: [(11840699188806025751, 3, 4)]\n",
            "matches: [(11840699188806025751, 2, 3)]\n",
            "matches: [(11840699188806025751, 1, 2)]\n",
            "matches: [(11840699188806025751, 4, 5), (11840699188806025751, 4, 6)]\n",
            "matches: [(11840699188806025751, 3, 4)]\n",
            "matches: [(11840699188806025751, 3, 4)]\n",
            "matches: [(11840699188806025751, 6, 7), (11840699188806025751, 6, 8)]\n",
            "matches: [(11840699188806025751, 6, 7)]\n",
            "matches: [(11840699188806025751, 5, 6)]\n",
            "matches: [(11840699188806025751, 6, 7), (11840699188806025751, 6, 8)]\n",
            "matches: [(11840699188806025751, 3, 4), (11840699188806025751, 3, 5), (11840699188806025751, 3, 6)]\n",
            "matches: [(11840699188806025751, 4, 5), (11840699188806025751, 4, 6)]\n",
            "matches: [(11840699188806025751, 3, 4)]\n",
            "matches: [(11840699188806025751, 2, 3)]\n",
            "matches: [(11840699188806025751, 1, 2)]\n",
            "matches: [(11840699188806025751, 4, 5), (11840699188806025751, 4, 6)]\n",
            "matches: [(11840699188806025751, 3, 4)]\n",
            "matches: [(11840699188806025751, 3, 4)]\n",
            "matches: [(11840699188806025751, 6, 7), (11840699188806025751, 6, 8)]\n"
          ],
          "name": "stdout"
        },
        {
          "output_type": "stream",
          "text": [
            " 82%|████████▏ | 3529/4318 [00:40<00:08, 89.99it/s]"
          ],
          "name": "stderr"
        },
        {
          "output_type": "stream",
          "text": [
            "matches: [(11840699188806025751, 6, 7)]\n",
            "matches: [(11840699188806025751, 5, 6)]\n",
            "matches: [(11840699188806025751, 6, 7), (11840699188806025751, 6, 8)]\n",
            "matches: [(11840699188806025751, 3, 4), (11840699188806025751, 3, 5), (11840699188806025751, 3, 6)]\n",
            "matches: [(11840699188806025751, 23, 24), (11840699188806025751, 23, 25), (11840699188806025751, 23, 26)]\n",
            "matches: [(11840699188806025751, 2, 3)]\n",
            "matches: [(11840699188806025751, 6, 7), (11840699188806025751, 6, 8)]\n",
            "matches: [(11840699188806025751, 22, 23)]\n",
            "matches: [(11840699188806025751, 2, 3)]\n",
            "matches: [(11840699188806025751, 6, 7), (11840699188806025751, 6, 8)]\n",
            "matches: [(11840699188806025751, 1, 2)]\n",
            "matches: [(11840699188806025751, 5, 6), (11840699188806025751, 5, 7)]\n",
            "matches: [(11840699188806025751, 3, 4), (11840699188806025751, 3, 5)]\n",
            "matches: [(11840699188806025751, 2, 3)]\n",
            "matches: [(11840699188806025751, 1, 2)]\n",
            "matches: [(11840699188806025751, 4, 5)]\n",
            "matches: [(11840699188806025751, 2, 3), (11840699188806025751, 5, 6)]\n",
            "matches: [(11840699188806025751, 3, 4)]\n"
          ],
          "name": "stdout"
        },
        {
          "output_type": "stream",
          "text": [
            " 82%|████████▏ | 3549/4318 [00:40<00:08, 89.54it/s]"
          ],
          "name": "stderr"
        },
        {
          "output_type": "stream",
          "text": [
            "matches: [(11840699188806025751, 1, 2)]\n",
            "matches: [(11840699188806025751, 2, 3), (11840699188806025751, 2, 4)]\n",
            "matches: [(11840699188806025751, 1, 2)]\n",
            "matches: [(11840699188806025751, 2, 3)]\n",
            "matches: [(11840699188806025751, 1, 2)]\n",
            "matches: [(11840699188806025751, 4, 5), (11840699188806025751, 4, 6)]\n",
            "matches: [(11840699188806025751, 3, 4), (11840699188806025751, 3, 5)]\n",
            "matches: [(11840699188806025751, 3, 4)]\n",
            "matches: [(11840699188806025751, 8, 9), (11840699188806025751, 8, 10)]\n",
            "matches: [(11840699188806025751, 2, 3)]\n",
            "matches: [(11840699188806025751, 3, 4)]\n",
            "matches: [(11840699188806025751, 1, 2)]\n",
            "matches: [(11840699188806025751, 2, 3), (11840699188806025751, 2, 4)]\n",
            "matches: [(11840699188806025751, 1, 2)]\n",
            "matches: [(11840699188806025751, 2, 3)]\n",
            "matches: [(11840699188806025751, 1, 2)]\n",
            "matches: [(11840699188806025751, 4, 5), (11840699188806025751, 4, 6)]\n",
            "matches: [(11840699188806025751, 3, 4), (11840699188806025751, 3, 5)]\n",
            "matches: [(11840699188806025751, 3, 4)]\n"
          ],
          "name": "stdout"
        },
        {
          "output_type": "stream",
          "text": [
            " 83%|████████▎ | 3569/4318 [00:40<00:08, 90.72it/s]"
          ],
          "name": "stderr"
        },
        {
          "output_type": "stream",
          "text": [
            "matches: [(11840699188806025751, 8, 9), (11840699188806025751, 8, 10)]\n",
            "matches: [(11840699188806025751, 2, 3)]\n",
            "matches: [(11840699188806025751, 3, 4)]\n",
            "matches: [(11840699188806025751, 1, 2)]\n",
            "matches: [(11840699188806025751, 2, 3)]\n",
            "matches: [(11840699188806025751, 2, 3)]\n",
            "matches: [(11840699188806025751, 3, 4)]\n",
            "matches: [(11840699188806025751, 1, 2), (11840699188806025751, 1, 3)]\n",
            "matches: [(11840699188806025751, 4, 5), (11840699188806025751, 4, 6), (11840699188806025751, 4, 7)]\n",
            "matches: [(11840699188806025751, 5, 6), (11840699188806025751, 5, 7)]\n",
            "matches: [(11840699188806025751, 4, 5)]\n",
            "matches: [(11840699188806025751, 5, 6)]\n",
            "matches: [(11840699188806025751, 4, 5)]\n",
            "matches: [(11840699188806025751, 3, 4), (11840699188806025751, 3, 5)]\n",
            "matches: [(11840699188806025751, 5, 6), (11840699188806025751, 5, 7)]\n",
            "matches: [(11840699188806025751, 3, 4), (11840699188806025751, 3, 5)]\n",
            "matches: [(11840699188806025751, 3, 4)]\n",
            "matches: [(11840699188806025751, 10, 11), (11840699188806025751, 10, 12)]\n",
            "matches: [(11840699188806025751, 2, 3)]\n"
          ],
          "name": "stdout"
        },
        {
          "output_type": "stream",
          "text": [
            " 83%|████████▎ | 3588/4318 [00:40<00:08, 89.23it/s]"
          ],
          "name": "stderr"
        },
        {
          "output_type": "stream",
          "text": [
            "matches: [(11840699188806025751, 3, 4), (11840699188806025751, 3, 5)]\n",
            "matches: [(11840699188806025751, 2, 3), (11840699188806025751, 2, 4), (11840699188806025751, 2, 5)]\n",
            "matches: [(11840699188806025751, 2, 3)]\n",
            "matches: [(11840699188806025751, 9, 10)]\n",
            "matches: [(11840699188806025751, 0, 1)]\n",
            "matches: [(11840699188806025751, 8, 9)]\n",
            "matches: [(11840699188806025751, 3, 4), (11840699188806025751, 3, 5)]\n",
            "matches: [(11840699188806025751, 4, 5)]\n",
            "matches: [(11840699188806025751, 1, 2)]\n",
            "matches: [(11840699188806025751, 1, 2), (11840699188806025751, 1, 3)]\n",
            "matches: [(11840699188806025751, 3, 4)]\n",
            "matches: [(11840699188806025751, 3, 4)]\n",
            "matches: [(11840699188806025751, 3, 4)]\n",
            "matches: [(11840699188806025751, 2, 3)]\n",
            "matches: [(11840699188806025751, 1, 2)]\n",
            "matches: [(11840699188806025751, 5, 6)]\n",
            "matches: [(11840699188806025751, 2, 3)]\n",
            "matches: [(11840699188806025751, 1, 2)]\n",
            "matches: [(11840699188806025751, 5, 6), (11840699188806025751, 5, 7)]\n"
          ],
          "name": "stdout"
        },
        {
          "output_type": "stream",
          "text": [
            " 84%|████████▎ | 3606/4318 [00:40<00:08, 86.81it/s]"
          ],
          "name": "stderr"
        },
        {
          "output_type": "stream",
          "text": [
            "matches: [(11840699188806025751, 4, 5), (11840699188806025751, 4, 6)]\n",
            "matches: [(11840699188806025751, 5, 6)]\n",
            "matches: [(11840699188806025751, 4, 5), (11840699188806025751, 4, 6)]\n",
            "matches: [(11840699188806025751, 1, 2), (11840699188806025751, 3, 4)]\n",
            "matches: [(11840699188806025751, 1, 2)]\n",
            "matches: [(11840699188806025751, 3, 4), (11840699188806025751, 3, 5)]\n",
            "matches: [(11840699188806025751, 5, 6)]\n",
            "matches: [(11840699188806025751, 3, 4)]\n",
            "matches: [(11840699188806025751, 2, 3), (11840699188806025751, 2, 4)]\n",
            "matches: [(11840699188806025751, 1, 2), (11840699188806025751, 1, 3)]\n",
            "matches: [(11840699188806025751, 6, 7)]\n",
            "matches: [(11840699188806025751, 2, 3)]\n",
            "matches: [(11840699188806025751, 16, 17)]\n",
            "matches: [(11840699188806025751, 10, 11)]\n",
            "matches: [(11840699188806025751, 4, 5)]\n",
            "matches: [(11840699188806025751, 3, 4), (11840699188806025751, 3, 5)]\n",
            "matches: [(11840699188806025751, 7, 8), (11840699188806025751, 7, 9)]\n",
            "matches: [(11840699188806025751, 3, 4), (11840699188806025751, 3, 5)]\n"
          ],
          "name": "stdout"
        },
        {
          "output_type": "stream",
          "text": [
            " 84%|████████▍ | 3626/4318 [00:41<00:07, 90.47it/s]"
          ],
          "name": "stderr"
        },
        {
          "output_type": "stream",
          "text": [
            "matches: [(11840699188806025751, 3, 4), (11840699188806025751, 3, 5)]\n",
            "matches: [(11840699188806025751, 3, 4)]\n",
            "matches: [(11840699188806025751, 10, 11)]\n",
            "matches: [(11840699188806025751, 2, 3)]\n",
            "matches: [(11840699188806025751, 3, 4)]\n",
            "matches: [(11840699188806025751, 3, 4), (11840699188806025751, 3, 5), (11840699188806025751, 3, 6)]\n",
            "matches: [(11840699188806025751, 4, 5), (11840699188806025751, 4, 6), (11840699188806025751, 4, 7)]\n",
            "matches: [(11840699188806025751, 1, 2)]\n",
            "matches: [(11840699188806025751, 1, 2)]\n",
            "matches: [(11840699188806025751, 3, 4), (11840699188806025751, 3, 5)]\n",
            "matches: [(11840699188806025751, 3, 4)]\n",
            "matches: [(11840699188806025751, 4, 5), (11840699188806025751, 4, 6), (11840699188806025751, 4, 7)]\n",
            "matches: [(11840699188806025751, 7, 8), (11840699188806025751, 7, 9)]\n",
            "matches: [(11840699188806025751, 4, 5), (11840699188806025751, 4, 6)]\n",
            "matches: [(11840699188806025751, 2, 3), (11840699188806025751, 2, 4)]\n",
            "matches: [(11840699188806025751, 6, 7)]\n",
            "matches: [(11840699188806025751, 5, 6)]\n",
            "matches: [(11840699188806025751, 6, 7)]\n",
            "matches: [(11840699188806025751, 9, 10), (11840699188806025751, 9, 11)]\n",
            "matches: [(11840699188806025751, 6, 7), (11840699188806025751, 6, 8)]\n"
          ],
          "name": "stdout"
        },
        {
          "output_type": "stream",
          "text": [
            " 84%|████████▍ | 3646/4318 [00:41<00:07, 92.03it/s]"
          ],
          "name": "stderr"
        },
        {
          "output_type": "stream",
          "text": [
            "matches: [(11840699188806025751, 1, 2)]\n",
            "matches: [(11840699188806025751, 0, 1)]\n",
            "matches: [(11840699188806025751, 7, 8)]\n",
            "matches: [(11840699188806025751, 10, 11)]\n",
            "matches: [(11840699188806025751, 1, 2)]\n",
            "matches: [(11840699188806025751, 4, 5)]\n",
            "matches: [(11840699188806025751, 7, 8)]\n",
            "matches: [(11840699188806025751, 3, 4), (11840699188806025751, 3, 5)]\n",
            "matches: [(11840699188806025751, 6, 7)]\n",
            "matches: [(11840699188806025751, 2, 3), (11840699188806025751, 2, 4)]\n",
            "matches: [(11840699188806025751, 3, 4), (11840699188806025751, 3, 5)]\n",
            "matches: [(11840699188806025751, 2, 3)]\n",
            "matches: [(11840699188806025751, 1, 2)]\n",
            "matches: [(11840699188806025751, 2, 3)]\n",
            "matches: [(11840699188806025751, 6, 7), (11840699188806025751, 6, 8), (11840699188806025751, 6, 9)]\n",
            "matches: [(11840699188806025751, 3, 4), (11840699188806025751, 3, 5)]\n",
            "matches: [(11840699188806025751, 2, 3)]\n",
            "matches: [(11840699188806025751, 5, 6), (11840699188806025751, 5, 7)]\n",
            "matches: [(11840699188806025751, 2, 3)]\n"
          ],
          "name": "stdout"
        },
        {
          "output_type": "stream",
          "text": [
            "\r 85%|████████▍ | 3656/4318 [00:41<00:07, 90.74it/s]"
          ],
          "name": "stderr"
        },
        {
          "output_type": "stream",
          "text": [
            "matches: [(11840699188806025751, 1, 2)]\n",
            "matches: [(11840699188806025751, 2, 3)]\n",
            "matches: [(11840699188806025751, 5, 6), (11840699188806025751, 5, 7)]\n",
            "matches: [(11840699188806025751, 7, 8)]\n",
            "matches: [(11840699188806025751, 1, 2)]\n",
            "matches: [(11840699188806025751, 2, 3)]\n",
            "matches: [(11840699188806025751, 4, 5), (11840699188806025751, 4, 6)]\n",
            "matches: [(11840699188806025751, 14, 15), (11840699188806025751, 14, 16)]\n",
            "matches: [(11840699188806025751, 1, 2)]\n",
            "matches: [(11840699188806025751, 0, 1)]\n",
            "matches: [(11840699188806025751, 1, 2), (11840699188806025751, 1, 3)]\n",
            "matches: [(11840699188806025751, 3, 4), (11840699188806025751, 3, 5)]\n",
            "matches: [(11840699188806025751, 2, 3), (11840699188806025751, 2, 4)]\n",
            "matches: [(11840699188806025751, 8, 9)]\n",
            "matches: [(11840699188806025751, 2, 3)]\n",
            "matches: [(11840699188806025751, 3, 4), (11840699188806025751, 3, 5)]\n",
            "matches: [(11840699188806025751, 3, 4), (11840699188806025751, 3, 5)]\n",
            "matches: [(11840699188806025751, 1, 2)]\n",
            "matches: [(11840699188806025751, 3, 4), (11840699188806025751, 3, 5)]\n"
          ],
          "name": "stdout"
        },
        {
          "output_type": "stream",
          "text": [
            " 85%|████████▌ | 3676/4318 [00:41<00:07, 90.49it/s]"
          ],
          "name": "stderr"
        },
        {
          "output_type": "stream",
          "text": [
            "matches: [(11840699188806025751, 4, 5)]\n",
            "matches: [(11840699188806025751, 4, 5), (11840699188806025751, 4, 6)]\n",
            "matches: [(11840699188806025751, 5, 6)]\n",
            "matches: [(11840699188806025751, 1, 2)]\n",
            "matches: [(11840699188806025751, 0, 1)]\n",
            "matches: [(11840699188806025751, 4, 5), (11840699188806025751, 4, 6)]\n",
            "matches: [(11840699188806025751, 8, 9)]\n",
            "matches: [(11840699188806025751, 3, 4)]\n",
            "matches: [(11840699188806025751, 4, 5)]\n",
            "matches: [(11840699188806025751, 2, 3), (11840699188806025751, 2, 4)]\n",
            "matches: [(11840699188806025751, 2, 3)]\n",
            "matches: [(11840699188806025751, 2, 3)]\n",
            "matches: [(11840699188806025751, 1, 2)]\n",
            "matches: [(11840699188806025751, 4, 5)]\n",
            "matches: [(11840699188806025751, 2, 3), (11840699188806025751, 2, 4), (11840699188806025751, 2, 5)]\n",
            "matches: [(11840699188806025751, 0, 1)]\n",
            "matches: [(11840699188806025751, 1, 2)]\n",
            "matches: [(11840699188806025751, 15, 16)]\n"
          ],
          "name": "stdout"
        },
        {
          "output_type": "stream",
          "text": [
            " 86%|████████▌ | 3696/4318 [00:41<00:06, 89.92it/s]"
          ],
          "name": "stderr"
        },
        {
          "output_type": "stream",
          "text": [
            "matches: [(11840699188806025751, 1, 2)]\n",
            "matches: [(11840699188806025751, 4, 5)]\n",
            "matches: [(11840699188806025751, 6, 7), (11840699188806025751, 6, 8)]\n",
            "matches: [(11840699188806025751, 5, 6), (11840699188806025751, 5, 7)]\n",
            "matches: [(11840699188806025751, 5, 6)]\n",
            "matches: [(11840699188806025751, 8, 9)]\n",
            "matches: [(11840699188806025751, 2, 3)]\n",
            "matches: [(11840699188806025751, 2, 3)]\n",
            "matches: [(11840699188806025751, 5, 6), (11840699188806025751, 5, 7)]\n",
            "matches: [(11840699188806025751, 20, 21), (11840699188806025751, 20, 22)]\n",
            "matches: [(11840699188806025751, 4, 5), (11840699188806025751, 4, 6)]\n",
            "matches: [(11840699188806025751, 5, 6)]\n",
            "matches: [(11840699188806025751, 4, 5)]\n",
            "matches: [(11840699188806025751, 1, 2)]\n",
            "matches: [(11840699188806025751, 2, 3), (11840699188806025751, 2, 4)]\n",
            "matches: [(11840699188806025751, 5, 6)]\n",
            "matches: [(11840699188806025751, 9, 10)]\n",
            "matches: [(11840699188806025751, 3, 4)]\n",
            "matches: [(11840699188806025751, 15, 16)]\n"
          ],
          "name": "stdout"
        },
        {
          "output_type": "stream",
          "text": [
            " 86%|████████▌ | 3716/4318 [00:42<00:06, 89.52it/s]"
          ],
          "name": "stderr"
        },
        {
          "output_type": "stream",
          "text": [
            "matches: [(11840699188806025751, 1, 2)]\n",
            "matches: [(11840699188806025751, 4, 5)]\n",
            "matches: [(11840699188806025751, 6, 7), (11840699188806025751, 6, 8)]\n",
            "matches: [(11840699188806025751, 5, 6), (11840699188806025751, 5, 7)]\n",
            "matches: [(11840699188806025751, 5, 6)]\n",
            "matches: [(11840699188806025751, 8, 9)]\n",
            "matches: [(11840699188806025751, 2, 3)]\n",
            "matches: [(11840699188806025751, 2, 3)]\n",
            "matches: [(11840699188806025751, 5, 6), (11840699188806025751, 5, 7)]\n",
            "matches: [(11840699188806025751, 20, 21), (11840699188806025751, 20, 22)]\n",
            "matches: [(11840699188806025751, 4, 5), (11840699188806025751, 4, 6)]\n",
            "matches: [(11840699188806025751, 5, 6)]\n",
            "matches: [(11840699188806025751, 4, 5)]\n",
            "matches: [(11840699188806025751, 1, 2)]\n",
            "matches: [(11840699188806025751, 2, 3), (11840699188806025751, 2, 4)]\n",
            "matches: [(11840699188806025751, 5, 6)]\n",
            "matches: [(11840699188806025751, 9, 10)]\n",
            "matches: [(11840699188806025751, 3, 4)]\n"
          ],
          "name": "stdout"
        },
        {
          "output_type": "stream",
          "text": [
            " 86%|████████▋ | 3735/4318 [00:42<00:06, 90.96it/s]"
          ],
          "name": "stderr"
        },
        {
          "output_type": "stream",
          "text": [
            "matches: [(11840699188806025751, 1, 2)]\n",
            "matches: [(11840699188806025751, 0, 1)]\n",
            "matches: [(11840699188806025751, 2, 3)]\n",
            "matches: [(11840699188806025751, 1, 2)]\n",
            "matches: [(11840699188806025751, 3, 4), (11840699188806025751, 3, 5)]\n",
            "matches: [(11840699188806025751, 4, 5)]\n",
            "matches: [(11840699188806025751, 5, 6), (11840699188806025751, 5, 7)]\n",
            "matches: [(11840699188806025751, 1, 2)]\n",
            "matches: [(11840699188806025751, 3, 4)]\n",
            "matches: [(11840699188806025751, 1, 2)]\n",
            "matches: [(11840699188806025751, 2, 3), (11840699188806025751, 2, 4)]\n",
            "matches: [(11840699188806025751, 4, 5), (11840699188806025751, 4, 6)]\n",
            "matches: [(11840699188806025751, 3, 4), (11840699188806025751, 3, 5)]\n",
            "matches: [(11840699188806025751, 2, 3)]\n",
            "matches: [(11840699188806025751, 3, 4), (11840699188806025751, 3, 5)]\n",
            "matches: [(11840699188806025751, 2, 3)]\n",
            "matches: [(11840699188806025751, 2, 3), (11840699188806025751, 2, 4)]\n",
            "matches: [(11840699188806025751, 1, 2)]\n",
            "matches: [(11840699188806025751, 5, 6), (11840699188806025751, 5, 7)]\n",
            "matches: [(11840699188806025751, 1, 2)]\n"
          ],
          "name": "stdout"
        },
        {
          "output_type": "stream",
          "text": [
            " 87%|████████▋ | 3754/4318 [00:42<00:06, 87.02it/s]"
          ],
          "name": "stderr"
        },
        {
          "output_type": "stream",
          "text": [
            "matches: [(11840699188806025751, 2, 3), (11840699188806025751, 2, 4)]\n",
            "matches: [(11840699188806025751, 2, 3)]\n",
            "matches: [(11840699188806025751, 2, 3)]\n",
            "matches: [(11840699188806025751, 1, 2)]\n",
            "matches: [(11840699188806025751, 1, 2)]\n",
            "matches: [(11840699188806025751, 3, 4), (11840699188806025751, 3, 5)]\n",
            "matches: [(11840699188806025751, 3, 4), (11840699188806025751, 3, 5)]\n",
            "matches: [(11840699188806025751, 4, 5), (11840699188806025751, 4, 6)]\n",
            "matches: [(11840699188806025751, 1, 2)]\n",
            "matches: [(11840699188806025751, 2, 3)]\n",
            "matches: [(11840699188806025751, 4, 5)]\n",
            "matches: [(11840699188806025751, 3, 4), (11840699188806025751, 3, 5)]\n",
            "matches: [(11840699188806025751, 8, 9)]\n",
            "matches: [(11840699188806025751, 5, 6), (11840699188806025751, 5, 7)]\n",
            "matches: [(11840699188806025751, 5, 6), (11840699188806025751, 5, 7)]\n",
            "matches: [(11840699188806025751, 6, 7), (11840699188806025751, 6, 8)]\n",
            "matches: [(11840699188806025751, 6, 7)]\n"
          ],
          "name": "stdout"
        },
        {
          "output_type": "stream",
          "text": [
            " 87%|████████▋ | 3773/4318 [00:42<00:06, 87.87it/s]"
          ],
          "name": "stderr"
        },
        {
          "output_type": "stream",
          "text": [
            "matches: [(11840699188806025751, 7, 8)]\n",
            "matches: [(11840699188806025751, 5, 6)]\n",
            "matches: [(11840699188806025751, 2, 3), (11840699188806025751, 2, 4)]\n",
            "matches: [(11840699188806025751, 2, 3), (11840699188806025751, 2, 4)]\n",
            "matches: [(11840699188806025751, 3, 4), (11840699188806025751, 3, 5)]\n",
            "matches: [(11840699188806025751, 3, 4), (11840699188806025751, 3, 5), (11840699188806025751, 3, 6)]\n",
            "matches: [(11840699188806025751, 4, 5), (11840699188806025751, 4, 6)]\n",
            "matches: [(11840699188806025751, 2, 3), (11840699188806025751, 2, 4)]\n",
            "matches: [(11840699188806025751, 1, 2)]\n",
            "matches: [(11840699188806025751, 2, 3)]\n",
            "matches: [(11840699188806025751, 1, 2)]\n",
            "matches: [(11840699188806025751, 1, 2)]\n",
            "matches: [(11840699188806025751, 6, 7)]\n",
            "matches: [(11840699188806025751, 4, 5), (11840699188806025751, 4, 6)]\n",
            "matches: [(11840699188806025751, 1, 2)]\n",
            "matches: [(11840699188806025751, 3, 4), (11840699188806025751, 3, 5)]\n",
            "matches: [(11840699188806025751, 8, 9)]\n",
            "matches: [(11840699188806025751, 5, 6), (11840699188806025751, 5, 7)]\n",
            "matches: [(11840699188806025751, 5, 6), (11840699188806025751, 5, 7)]\n"
          ],
          "name": "stdout"
        },
        {
          "output_type": "stream",
          "text": [
            " 88%|████████▊ | 3793/4318 [00:43<00:05, 91.51it/s]"
          ],
          "name": "stderr"
        },
        {
          "output_type": "stream",
          "text": [
            "matches: [(11840699188806025751, 6, 7), (11840699188806025751, 6, 8)]\n",
            "matches: [(11840699188806025751, 6, 7)]\n",
            "matches: [(11840699188806025751, 7, 8)]\n",
            "matches: [(11840699188806025751, 5, 6)]\n",
            "matches: [(11840699188806025751, 2, 3), (11840699188806025751, 2, 4)]\n",
            "matches: [(11840699188806025751, 2, 3), (11840699188806025751, 2, 4)]\n",
            "matches: [(11840699188806025751, 3, 4), (11840699188806025751, 3, 5)]\n",
            "matches: [(11840699188806025751, 3, 4), (11840699188806025751, 3, 5), (11840699188806025751, 3, 6)]\n",
            "matches: [(11840699188806025751, 4, 5), (11840699188806025751, 4, 6)]\n",
            "matches: [(11840699188806025751, 2, 3), (11840699188806025751, 2, 4)]\n",
            "matches: [(11840699188806025751, 1, 2)]\n",
            "matches: [(11840699188806025751, 2, 3)]\n",
            "matches: [(11840699188806025751, 1, 2)]\n",
            "matches: [(11840699188806025751, 1, 2)]\n",
            "matches: [(11840699188806025751, 6, 7)]\n",
            "matches: [(11840699188806025751, 4, 5), (11840699188806025751, 4, 6)]\n",
            "matches: [(11840699188806025751, 1, 2)]\n",
            "matches: [(11840699188806025751, 3, 4)]\n",
            "matches: [(11840699188806025751, 10, 11), (11840699188806025751, 10, 12)]\n",
            "matches: [(11840699188806025751, 4, 5)]\n"
          ],
          "name": "stdout"
        },
        {
          "output_type": "stream",
          "text": [
            " 88%|████████▊ | 3813/4318 [00:43<00:05, 90.27it/s]"
          ],
          "name": "stderr"
        },
        {
          "output_type": "stream",
          "text": [
            "matches: [(11840699188806025751, 6, 7), (11840699188806025751, 6, 8)]\n",
            "matches: [(11840699188806025751, 1, 2)]\n",
            "matches: [(11840699188806025751, 5, 6), (11840699188806025751, 5, 7)]\n",
            "matches: [(11840699188806025751, 2, 3), (11840699188806025751, 2, 4)]\n",
            "matches: [(11840699188806025751, 7, 8), (11840699188806025751, 7, 9), (11840699188806025751, 7, 10)]\n",
            "matches: [(11840699188806025751, 4, 5)]\n",
            "matches: [(11840699188806025751, 2, 3)]\n",
            "matches: [(11840699188806025751, 3, 4), (11840699188806025751, 3, 5)]\n",
            "matches: [(11840699188806025751, 2, 3), (11840699188806025751, 2, 4)]\n",
            "matches: [(11840699188806025751, 7, 8), (11840699188806025751, 7, 9), (11840699188806025751, 7, 10)]\n",
            "matches: [(11840699188806025751, 4, 5)]\n",
            "matches: [(11840699188806025751, 2, 3)]\n",
            "matches: [(11840699188806025751, 3, 4), (11840699188806025751, 3, 5)]\n",
            "matches: [(11840699188806025751, 1, 2)]\n",
            "matches: [(11840699188806025751, 1, 2)]\n",
            "matches: [(11840699188806025751, 4, 5)]\n",
            "matches: [(11840699188806025751, 5, 6)]\n",
            "matches: [(11840699188806025751, 8, 9)]\n",
            "matches: [(11840699188806025751, 3, 4)]\n"
          ],
          "name": "stdout"
        },
        {
          "output_type": "stream",
          "text": [
            " 89%|████████▊ | 3832/4318 [00:43<00:05, 88.55it/s]"
          ],
          "name": "stderr"
        },
        {
          "output_type": "stream",
          "text": [
            "matches: [(11840699188806025751, 13, 14)]\n",
            "matches: [(11840699188806025751, 2, 3)]\n",
            "matches: [(11840699188806025751, 2, 3)]\n",
            "matches: [(11840699188806025751, 3, 4), (11840699188806025751, 3, 5)]\n",
            "matches: [(11840699188806025751, 3, 4)]\n",
            "matches: [(11840699188806025751, 3, 4)]\n",
            "matches: [(11840699188806025751, 3, 4), (11840699188806025751, 3, 5)]\n",
            "matches: [(11840699188806025751, 4, 5)]\n",
            "matches: [(11840699188806025751, 2, 3)]\n",
            "matches: [(11840699188806025751, 3, 4), (11840699188806025751, 3, 5)]\n",
            "matches: [(11840699188806025751, 1, 2), (11840699188806025751, 1, 3)]\n",
            "matches: [(11840699188806025751, 1, 2)]\n",
            "matches: [(11840699188806025751, 4, 5), (11840699188806025751, 4, 6)]\n",
            "matches: [(11840699188806025751, 6, 7), (11840699188806025751, 6, 8)]\n",
            "matches: [(11840699188806025751, 2, 3)]\n",
            "matches: [(11840699188806025751, 1, 2), (11840699188806025751, 1, 3), (11840699188806025751, 1, 4)]\n",
            "matches: [(11840699188806025751, 4, 5), (11840699188806025751, 4, 6)]\n",
            "matches: [(11840699188806025751, 2, 3), (11840699188806025751, 2, 4)]\n"
          ],
          "name": "stdout"
        },
        {
          "output_type": "stream",
          "text": [
            " 89%|████████▉ | 3850/4318 [00:43<00:05, 85.72it/s]"
          ],
          "name": "stderr"
        },
        {
          "output_type": "stream",
          "text": [
            "matches: [(11840699188806025751, 5, 6), (11840699188806025751, 5, 7), (11840699188806025751, 5, 8)]\n",
            "matches: [(11840699188806025751, 5, 6), (11840699188806025751, 5, 7), (11840699188806025751, 5, 8)]\n",
            "matches: [(11840699188806025751, 1, 2)]\n",
            "matches: [(11840699188806025751, 3, 4)]\n",
            "matches: [(11840699188806025751, 6, 7)]\n",
            "matches: [(11840699188806025751, 8, 9), (11840699188806025751, 8, 10)]\n",
            "matches: [(11840699188806025751, 6, 7), (11840699188806025751, 6, 8)]\n",
            "matches: [(11840699188806025751, 5, 6), (11840699188806025751, 5, 7)]\n",
            "matches: [(11840699188806025751, 5, 6)]\n",
            "matches: [(11840699188806025751, 4, 5)]\n",
            "matches: [(11840699188806025751, 1, 2), (11840699188806025751, 1, 3), (11840699188806025751, 1, 4)]\n",
            "matches: [(11840699188806025751, 4, 5), (11840699188806025751, 4, 6)]\n",
            "matches: [(11840699188806025751, 2, 3), (11840699188806025751, 2, 4)]\n",
            "matches: [(11840699188806025751, 5, 6), (11840699188806025751, 5, 7), (11840699188806025751, 5, 8)]\n",
            "matches: [(11840699188806025751, 5, 6), (11840699188806025751, 5, 7), (11840699188806025751, 5, 8)]\n",
            "matches: [(11840699188806025751, 1, 2)]\n",
            "matches: [(11840699188806025751, 3, 4)]\n"
          ],
          "name": "stdout"
        },
        {
          "output_type": "stream",
          "text": [
            " 90%|████████▉ | 3869/4318 [00:43<00:05, 87.26it/s]"
          ],
          "name": "stderr"
        },
        {
          "output_type": "stream",
          "text": [
            "matches: [(11840699188806025751, 6, 7)]\n",
            "matches: [(11840699188806025751, 8, 9), (11840699188806025751, 8, 10)]\n",
            "matches: [(11840699188806025751, 6, 7), (11840699188806025751, 6, 8)]\n",
            "matches: [(11840699188806025751, 5, 6), (11840699188806025751, 5, 7)]\n",
            "matches: [(11840699188806025751, 5, 6)]\n",
            "matches: [(11840699188806025751, 4, 5)]\n",
            "matches: [(11840699188806025751, 0, 1), (11840699188806025751, 2, 3)]\n",
            "matches: [(11840699188806025751, 2, 3), (11840699188806025751, 2, 4)]\n",
            "matches: [(11840699188806025751, 2, 3), (11840699188806025751, 2, 4)]\n",
            "matches: [(11840699188806025751, 3, 4)]\n",
            "matches: [(11840699188806025751, 3, 4)]\n",
            "matches: [(11840699188806025751, 3, 4)]\n",
            "matches: [(11840699188806025751, 5, 6), (11840699188806025751, 5, 7)]\n",
            "matches: [(11840699188806025751, 2, 3)]\n",
            "matches: [(11840699188806025751, 4, 5)]\n",
            "matches: [(11840699188806025751, 1, 2), (11840699188806025751, 1, 3)]\n",
            "matches: [(11840699188806025751, 1, 2)]\n",
            "matches: [(11840699188806025751, 1, 2)]\n",
            "matches: [(11840699188806025751, 3, 4)]\n"
          ],
          "name": "stdout"
        },
        {
          "output_type": "stream",
          "text": [
            " 90%|█████████ | 3889/4318 [00:44<00:04, 90.85it/s]"
          ],
          "name": "stderr"
        },
        {
          "output_type": "stream",
          "text": [
            "matches: [(11840699188806025751, 3, 4), (11840699188806025751, 3, 5)]\n",
            "matches: [(11840699188806025751, 2, 3)]\n",
            "matches: [(11840699188806025751, 4, 5)]\n",
            "matches: [(11840699188806025751, 1, 2), (11840699188806025751, 1, 3)]\n",
            "matches: [(11840699188806025751, 1, 2)]\n",
            "matches: [(11840699188806025751, 1, 2)]\n",
            "matches: [(11840699188806025751, 3, 4)]\n",
            "matches: [(11840699188806025751, 3, 4), (11840699188806025751, 3, 5)]\n",
            "matches: [(11840699188806025751, 1, 2)]\n",
            "matches: [(11840699188806025751, 1, 2)]\n",
            "matches: [(11840699188806025751, 4, 5), (11840699188806025751, 4, 6)]\n",
            "matches: [(11840699188806025751, 4, 5), (11840699188806025751, 4, 6)]\n",
            "matches: [(11840699188806025751, 2, 3)]\n",
            "matches: [(11840699188806025751, 4, 5)]\n",
            "matches: [(11840699188806025751, 3, 4), (11840699188806025751, 3, 5)]\n",
            "matches: [(11840699188806025751, 3, 4)]\n",
            "matches: [(11840699188806025751, 6, 7), (11840699188806025751, 6, 8)]\n",
            "matches: [(11840699188806025751, 1, 2)]\n",
            "matches: [(11840699188806025751, 1, 2), (11840699188806025751, 1, 3)]\n",
            "matches: [(11840699188806025751, 3, 4), (11840699188806025751, 3, 5), (11840699188806025751, 11, 12)]\n"
          ],
          "name": "stdout"
        },
        {
          "output_type": "stream",
          "text": [
            " 91%|█████████ | 3909/4318 [00:44<00:04, 91.90it/s]"
          ],
          "name": "stderr"
        },
        {
          "output_type": "stream",
          "text": [
            "matches: [(11840699188806025751, 2, 3)]\n",
            "matches: [(11840699188806025751, 4, 5)]\n",
            "matches: [(11840699188806025751, 0, 1), (11840699188806025751, 5, 6)]\n",
            "matches: [(11840699188806025751, 7, 8), (11840699188806025751, 7, 9)]\n",
            "matches: [(11840699188806025751, 4, 5), (11840699188806025751, 4, 6)]\n",
            "matches: [(11840699188806025751, 1, 2)]\n",
            "matches: [(11840699188806025751, 3, 4), (11840699188806025751, 3, 5)]\n",
            "matches: [(11840699188806025751, 2, 3), (11840699188806025751, 2, 4), (11840699188806025751, 2, 5)]\n",
            "matches: [(11840699188806025751, 5, 6)]\n",
            "matches: [(11840699188806025751, 4, 5), (11840699188806025751, 4, 6)]\n",
            "matches: [(11840699188806025751, 3, 4)]\n",
            "matches: [(11840699188806025751, 2, 3)]\n",
            "matches: [(11840699188806025751, 2, 3)]\n",
            "matches: [(11840699188806025751, 1, 2)]\n",
            "matches: [(11840699188806025751, 4, 5), (11840699188806025751, 4, 6)]\n",
            "matches: [(11840699188806025751, 3, 4), (11840699188806025751, 3, 5)]\n",
            "matches: [(11840699188806025751, 3, 4), (11840699188806025751, 3, 5)]\n",
            "matches: [(11840699188806025751, 0, 1), (11840699188806025751, 5, 6), (11840699188806025751, 5, 7)]\n",
            "matches: [(11840699188806025751, 5, 6), (11840699188806025751, 5, 7), (11840699188806025751, 5, 8)]\n",
            "matches: [(11840699188806025751, 2, 3)]\n"
          ],
          "name": "stdout"
        },
        {
          "output_type": "stream",
          "text": [
            "\r 91%|█████████ | 3919/4318 [00:44<00:04, 91.17it/s]"
          ],
          "name": "stderr"
        },
        {
          "output_type": "stream",
          "text": [
            "matches: [(11840699188806025751, 8, 9)]\n",
            "matches: [(11840699188806025751, 0, 1), (11840699188806025751, 5, 6)]\n",
            "matches: [(11840699188806025751, 1, 2)]\n",
            "matches: [(11840699188806025751, 1, 2), (11840699188806025751, 1, 3)]\n",
            "matches: [(11840699188806025751, 3, 4), (11840699188806025751, 3, 5)]\n",
            "matches: [(11840699188806025751, 6, 7)]\n",
            "matches: [(11840699188806025751, 4, 5), (11840699188806025751, 4, 6)]\n",
            "matches: [(11840699188806025751, 1, 2)]\n",
            "matches: [(11840699188806025751, 4, 5)]\n",
            "matches: [(11840699188806025751, 1, 2), (11840699188806025751, 1, 3)]\n",
            "matches: [(11840699188806025751, 3, 4)]\n",
            "matches: [(11840699188806025751, 0, 1), (11840699188806025751, 5, 6)]\n",
            "matches: [(11840699188806025751, 7, 8), (11840699188806025751, 7, 9)]\n",
            "matches: [(11840699188806025751, 4, 5), (11840699188806025751, 4, 6)]\n",
            "matches: [(11840699188806025751, 1, 2)]\n",
            "matches: [(11840699188806025751, 3, 4), (11840699188806025751, 3, 5)]\n",
            "matches: [(11840699188806025751, 2, 3), (11840699188806025751, 2, 4), (11840699188806025751, 2, 5)]\n",
            "matches: [(11840699188806025751, 5, 6)]\n",
            "matches: [(11840699188806025751, 4, 5), (11840699188806025751, 4, 6)]\n"
          ],
          "name": "stdout"
        },
        {
          "output_type": "stream",
          "text": [
            " 91%|█████████ | 3939/4318 [00:44<00:04, 89.95it/s]"
          ],
          "name": "stderr"
        },
        {
          "output_type": "stream",
          "text": [
            "matches: [(11840699188806025751, 3, 4)]\n",
            "matches: [(11840699188806025751, 2, 3)]\n",
            "matches: [(11840699188806025751, 2, 3)]\n",
            "matches: [(11840699188806025751, 1, 2)]\n",
            "matches: [(11840699188806025751, 4, 5), (11840699188806025751, 4, 6)]\n",
            "matches: [(11840699188806025751, 3, 4), (11840699188806025751, 3, 5)]\n",
            "matches: [(11840699188806025751, 3, 4), (11840699188806025751, 3, 5)]\n",
            "matches: [(11840699188806025751, 0, 1), (11840699188806025751, 5, 6), (11840699188806025751, 5, 7)]\n",
            "matches: [(11840699188806025751, 5, 6), (11840699188806025751, 5, 7), (11840699188806025751, 5, 8)]\n",
            "matches: [(11840699188806025751, 2, 3)]\n",
            "matches: [(11840699188806025751, 8, 9)]\n",
            "matches: [(11840699188806025751, 0, 1), (11840699188806025751, 5, 6)]\n",
            "matches: [(11840699188806025751, 1, 2)]\n",
            "matches: [(11840699188806025751, 1, 2), (11840699188806025751, 1, 3)]\n",
            "matches: [(11840699188806025751, 3, 4), (11840699188806025751, 3, 5)]\n",
            "matches: [(11840699188806025751, 6, 7)]\n",
            "matches: [(11840699188806025751, 4, 5), (11840699188806025751, 4, 6)]\n",
            "matches: [(11840699188806025751, 1, 2)]\n"
          ],
          "name": "stdout"
        },
        {
          "output_type": "stream",
          "text": [
            " 92%|█████████▏| 3959/4318 [00:44<00:04, 88.68it/s]"
          ],
          "name": "stderr"
        },
        {
          "output_type": "stream",
          "text": [
            "matches: [(11840699188806025751, 4, 5)]\n",
            "matches: [(11840699188806025751, 1, 2), (11840699188806025751, 1, 3)]\n",
            "matches: [(11840699188806025751, 3, 4)]\n",
            "matches: [(11840699188806025751, 2, 3)]\n",
            "matches: [(11840699188806025751, 2, 3)]\n",
            "matches: [(11840699188806025751, 2, 3)]\n",
            "matches: [(11840699188806025751, 7, 8), (11840699188806025751, 7, 9)]\n",
            "matches: [(11840699188806025751, 3, 4)]\n",
            "matches: [(11840699188806025751, 4, 5), (11840699188806025751, 4, 6), (11840699188806025751, 4, 7)]\n",
            "matches: [(11840699188806025751, 3, 4), (11840699188806025751, 3, 5)]\n",
            "matches: [(11840699188806025751, 1, 2)]\n",
            "matches: [(11840699188806025751, 4, 5)]\n",
            "matches: [(11840699188806025751, 9, 10)]\n",
            "matches: [(11840699188806025751, 4, 5), (11840699188806025751, 4, 6)]\n",
            "matches: [(11840699188806025751, 2, 3)]\n",
            "matches: [(11840699188806025751, 1, 2)]\n",
            "matches: [(11840699188806025751, 5, 6)]\n",
            "matches: [(11840699188806025751, 9, 10)]\n",
            "matches: [(11840699188806025751, 2, 3), (11840699188806025751, 2, 4)]\n"
          ],
          "name": "stdout"
        },
        {
          "output_type": "stream",
          "text": [
            " 92%|█████████▏| 3977/4318 [00:45<00:03, 87.61it/s]"
          ],
          "name": "stderr"
        },
        {
          "output_type": "stream",
          "text": [
            "matches: [(11840699188806025751, 12, 13)]\n",
            "matches: [(11840699188806025751, 1, 2), (11840699188806025751, 1, 3)]\n",
            "matches: [(11840699188806025751, 13, 14)]\n",
            "matches: [(11840699188806025751, 3, 4)]\n",
            "matches: [(11840699188806025751, 2, 3)]\n",
            "matches: [(11840699188806025751, 1, 2)]\n",
            "matches: [(11840699188806025751, 0, 1)]\n",
            "matches: [(11840699188806025751, 2, 3)]\n",
            "matches: [(11840699188806025751, 1, 2)]\n",
            "matches: [(11840699188806025751, 4, 5), (11840699188806025751, 4, 6)]\n",
            "matches: [(11840699188806025751, 6, 7)]\n",
            "matches: [(11840699188806025751, 3, 4), (11840699188806025751, 3, 5)]\n",
            "matches: [(11840699188806025751, 1, 2)]\n",
            "matches: [(11840699188806025751, 4, 5), (11840699188806025751, 13, 14), (11840699188806025751, 13, 15)]\n",
            "matches: [(11840699188806025751, 3, 4), (11840699188806025751, 3, 5)]\n",
            "matches: [(11840699188806025751, 11, 12), (11840699188806025751, 11, 13)]\n",
            "matches: [(11840699188806025751, 2, 3)]\n",
            "matches: [(11840699188806025751, 5, 6)]\n"
          ],
          "name": "stdout"
        },
        {
          "output_type": "stream",
          "text": [
            " 93%|█████████▎| 3996/4318 [00:45<00:03, 89.38it/s]"
          ],
          "name": "stderr"
        },
        {
          "output_type": "stream",
          "text": [
            "matches: [(11840699188806025751, 1, 2)]\n",
            "matches: [(11840699188806025751, 2, 3)]\n",
            "matches: [(11840699188806025751, 3, 4), (11840699188806025751, 3, 5)]\n",
            "matches: [(11840699188806025751, 5, 6)]\n",
            "matches: [(11840699188806025751, 2, 3)]\n",
            "matches: [(11840699188806025751, 2, 3)]\n",
            "matches: [(11840699188806025751, 1, 2)]\n",
            "matches: [(11840699188806025751, 3, 4)]\n",
            "matches: [(11840699188806025751, 3, 4)]\n",
            "matches: [(11840699188806025751, 3, 4), (11840699188806025751, 3, 5)]\n",
            "matches: [(11840699188806025751, 1, 2)]\n",
            "matches: [(11840699188806025751, 1, 2), (11840699188806025751, 1, 3)]\n",
            "matches: [(11840699188806025751, 2, 3)]\n",
            "matches: [(11840699188806025751, 1, 2)]\n",
            "matches: [(11840699188806025751, 3, 4)]\n",
            "matches: [(11840699188806025751, 2, 3), (11840699188806025751, 2, 4)]\n",
            "matches: [(11840699188806025751, 2, 3)]\n",
            "matches: [(11840699188806025751, 2, 3)]\n",
            "matches: [(11840699188806025751, 1, 2), (11840699188806025751, 1, 3)]\n"
          ],
          "name": "stdout"
        },
        {
          "output_type": "stream",
          "text": [
            " 93%|█████████▎| 4015/4318 [00:45<00:03, 90.89it/s]"
          ],
          "name": "stderr"
        },
        {
          "output_type": "stream",
          "text": [
            "matches: [(11840699188806025751, 3, 4)]\n",
            "matches: [(11840699188806025751, 4, 5)]\n",
            "matches: [(11840699188806025751, 2, 3)]\n",
            "matches: [(11840699188806025751, 6, 7)]\n",
            "matches: [(11840699188806025751, 1, 2)]\n",
            "matches: [(11840699188806025751, 4, 5), (11840699188806025751, 4, 6)]\n",
            "matches: [(11840699188806025751, 2, 3)]\n",
            "matches: [(11840699188806025751, 0, 1)]\n",
            "matches: [(11840699188806025751, 1, 2)]\n",
            "matches: [(11840699188806025751, 9, 10)]\n",
            "matches: [(11840699188806025751, 5, 6)]\n",
            "matches: [(11840699188806025751, 3, 4), (11840699188806025751, 3, 5)]\n",
            "matches: [(11840699188806025751, 2, 3)]\n",
            "matches: [(11840699188806025751, 4, 5), (11840699188806025751, 4, 6)]\n",
            "matches: [(11840699188806025751, 5, 6), (11840699188806025751, 5, 7)]\n",
            "matches: [(11840699188806025751, 4, 5), (11840699188806025751, 4, 6)]\n",
            "matches: [(11840699188806025751, 1, 2)]\n",
            "matches: [(11840699188806025751, 1, 2)]\n",
            "matches: [(11840699188806025751, 3, 4)]\n",
            "matches: [(11840699188806025751, 12, 13)]\n"
          ],
          "name": "stdout"
        },
        {
          "output_type": "stream",
          "text": [
            " 93%|█████████▎| 4034/4318 [00:45<00:03, 89.14it/s]"
          ],
          "name": "stderr"
        },
        {
          "output_type": "stream",
          "text": [
            "matches: [(11840699188806025751, 1, 2)]\n",
            "matches: [(11840699188806025751, 5, 6), (11840699188806025751, 5, 7)]\n",
            "matches: [(11840699188806025751, 10, 11)]\n",
            "matches: [(11840699188806025751, 2, 3), (11840699188806025751, 2, 4)]\n",
            "matches: [(11840699188806025751, 3, 4)]\n",
            "matches: [(11840699188806025751, 4, 5), (11840699188806025751, 4, 6)]\n",
            "matches: [(11840699188806025751, 3, 4)]\n",
            "matches: [(11840699188806025751, 1, 2)]\n",
            "matches: [(11840699188806025751, 6, 7)]\n",
            "matches: [(11840699188806025751, 6, 7)]\n",
            "matches: [(11840699188806025751, 3, 4), (11840699188806025751, 3, 5)]\n",
            "matches: [(11840699188806025751, 3, 4), (11840699188806025751, 3, 5)]\n",
            "matches: [(11840699188806025751, 7, 8), (11840699188806025751, 7, 9)]\n",
            "matches: [(11840699188806025751, 1, 2)]\n",
            "matches: [(11840699188806025751, 5, 6)]\n",
            "matches: [(11840699188806025751, 6, 7), (11840699188806025751, 6, 8)]\n",
            "matches: [(11840699188806025751, 0, 1), (11840699188806025751, 0, 2)]\n",
            "matches: [(11840699188806025751, 2, 3)]\n"
          ],
          "name": "stdout"
        },
        {
          "output_type": "stream",
          "text": [
            " 94%|█████████▍| 4053/4318 [00:45<00:02, 88.38it/s]"
          ],
          "name": "stderr"
        },
        {
          "output_type": "stream",
          "text": [
            "matches: [(11840699188806025751, 6, 7)]\n",
            "matches: [(11840699188806025751, 3, 4), (11840699188806025751, 3, 5)]\n",
            "matches: [(11840699188806025751, 3, 4), (11840699188806025751, 3, 5)]\n",
            "matches: [(11840699188806025751, 7, 8), (11840699188806025751, 7, 9)]\n",
            "matches: [(11840699188806025751, 1, 2)]\n",
            "matches: [(11840699188806025751, 5, 6)]\n",
            "matches: [(11840699188806025751, 6, 7), (11840699188806025751, 6, 8)]\n",
            "matches: [(11840699188806025751, 0, 1), (11840699188806025751, 0, 2)]\n",
            "matches: [(11840699188806025751, 2, 3)]\n",
            "matches: [(11840699188806025751, 2, 3), (11840699188806025751, 2, 4)]\n",
            "matches: [(11840699188806025751, 3, 4)]\n",
            "matches: [(11840699188806025751, 1, 2)]\n",
            "matches: [(11840699188806025751, 6, 7), (11840699188806025751, 6, 8), (11840699188806025751, 6, 9)]\n",
            "matches: [(11840699188806025751, 1, 2)]\n",
            "matches: [(11840699188806025751, 0, 1), (11840699188806025751, 4, 5), (11840699188806025751, 4, 6)]\n",
            "matches: [(11840699188806025751, 3, 4), (11840699188806025751, 3, 5)]\n",
            "matches: [(11840699188806025751, 7, 8)]\n",
            "matches: [(11840699188806025751, 3, 4), (11840699188806025751, 3, 5)]\n",
            "matches: [(11840699188806025751, 4, 5)]\n"
          ],
          "name": "stdout"
        },
        {
          "output_type": "stream",
          "text": [
            " 94%|█████████▍| 4072/4318 [00:46<00:02, 90.07it/s]"
          ],
          "name": "stderr"
        },
        {
          "output_type": "stream",
          "text": [
            "matches: [(11840699188806025751, 1, 2)]\n",
            "matches: [(11840699188806025751, 1, 2), (11840699188806025751, 1, 3)]\n",
            "matches: [(11840699188806025751, 2, 3), (11840699188806025751, 2, 4)]\n",
            "matches: [(11840699188806025751, 2, 3)]\n",
            "matches: [(11840699188806025751, 4, 5), (11840699188806025751, 4, 6)]\n",
            "matches: [(11840699188806025751, 2, 3)]\n",
            "matches: [(11840699188806025751, 3, 4)]\n",
            "matches: [(11840699188806025751, 2, 3)]\n",
            "matches: [(11840699188806025751, 4, 5), (11840699188806025751, 4, 6)]\n",
            "matches: [(11840699188806025751, 4, 5), (11840699188806025751, 4, 6)]\n",
            "matches: [(11840699188806025751, 0, 1), (11840699188806025751, 4, 5), (11840699188806025751, 4, 6)]\n",
            "matches: [(11840699188806025751, 3, 4), (11840699188806025751, 3, 5)]\n",
            "matches: [(11840699188806025751, 7, 8)]\n",
            "matches: [(11840699188806025751, 3, 4), (11840699188806025751, 3, 5)]\n",
            "matches: [(11840699188806025751, 4, 5)]\n",
            "matches: [(11840699188806025751, 1, 2)]\n",
            "matches: [(11840699188806025751, 1, 2), (11840699188806025751, 1, 3)]\n",
            "matches: [(11840699188806025751, 2, 3), (11840699188806025751, 2, 4)]\n",
            "matches: [(11840699188806025751, 2, 3)]\n"
          ],
          "name": "stdout"
        },
        {
          "output_type": "stream",
          "text": [
            " 95%|█████████▍| 4091/4318 [00:46<00:02, 85.13it/s]"
          ],
          "name": "stderr"
        },
        {
          "output_type": "stream",
          "text": [
            "matches: [(11840699188806025751, 4, 5), (11840699188806025751, 4, 6)]\n",
            "matches: [(11840699188806025751, 2, 3)]\n",
            "matches: [(11840699188806025751, 3, 4)]\n",
            "matches: [(11840699188806025751, 2, 3)]\n",
            "matches: [(11840699188806025751, 4, 5), (11840699188806025751, 4, 6)]\n",
            "matches: [(11840699188806025751, 4, 5), (11840699188806025751, 4, 6)]\n",
            "matches: [(11840699188806025751, 1, 2)]\n",
            "matches: [(11840699188806025751, 1, 2), (11840699188806025751, 1, 3)]\n",
            "matches: [(11840699188806025751, 7, 8)]\n",
            "matches: [(11840699188806025751, 5, 6)]\n",
            "matches: [(11840699188806025751, 3, 4), (11840699188806025751, 3, 5)]\n",
            "matches: [(11840699188806025751, 1, 2), (11840699188806025751, 1, 3)]\n",
            "matches: [(11840699188806025751, 6, 7), (11840699188806025751, 6, 8)]\n",
            "matches: [(11840699188806025751, 1, 2)]\n",
            "matches: [(11840699188806025751, 3, 4), (11840699188806025751, 3, 5), (11840699188806025751, 3, 6)]\n",
            "matches: [(11840699188806025751, 1, 2)]\n",
            "matches: [(11840699188806025751, 5, 6), (11840699188806025751, 10, 11)]\n"
          ],
          "name": "stdout"
        },
        {
          "output_type": "stream",
          "text": [
            " 95%|█████████▌| 4110/4318 [00:46<00:02, 87.03it/s]"
          ],
          "name": "stderr"
        },
        {
          "output_type": "stream",
          "text": [
            "matches: [(11840699188806025751, 2, 3)]\n",
            "matches: [(11840699188806025751, 5, 6)]\n",
            "matches: [(11840699188806025751, 4, 5), (11840699188806025751, 4, 6)]\n",
            "matches: [(11840699188806025751, 1, 2)]\n",
            "matches: [(11840699188806025751, 2, 3), (11840699188806025751, 2, 4)]\n",
            "matches: [(11840699188806025751, 2, 3)]\n",
            "matches: [(11840699188806025751, 1, 2), (11840699188806025751, 1, 3)]\n",
            "matches: [(11840699188806025751, 2, 3)]\n",
            "matches: [(11840699188806025751, 8, 9)]\n",
            "matches: [(11840699188806025751, 7, 8)]\n",
            "matches: [(11840699188806025751, 3, 4), (11840699188806025751, 3, 5)]\n",
            "matches: [(11840699188806025751, 1, 2)]\n",
            "matches: [(11840699188806025751, 7, 8)]\n",
            "matches: [(11840699188806025751, 3, 4)]\n",
            "matches: [(11840699188806025751, 2, 3), (11840699188806025751, 2, 4), (11840699188806025751, 2, 5)]\n",
            "matches: [(11840699188806025751, 2, 3), (11840699188806025751, 2, 4)]\n",
            "matches: [(11840699188806025751, 5, 6), (11840699188806025751, 5, 7)]\n",
            "matches: [(11840699188806025751, 3, 4), (11840699188806025751, 3, 5)]\n"
          ],
          "name": "stdout"
        },
        {
          "output_type": "stream",
          "text": [
            " 96%|█████████▌| 4128/4318 [00:46<00:02, 84.94it/s]"
          ],
          "name": "stderr"
        },
        {
          "output_type": "stream",
          "text": [
            "matches: [(11840699188806025751, 1, 2)]\n",
            "matches: [(11840699188806025751, 2, 3)]\n",
            "matches: [(11840699188806025751, 7, 8), (11840699188806025751, 7, 9)]\n",
            "matches: [(11840699188806025751, 2, 3), (11840699188806025751, 2, 4)]\n",
            "matches: [(11840699188806025751, 2, 3), (11840699188806025751, 2, 4), (11840699188806025751, 2, 5)]\n",
            "matches: [(11840699188806025751, 1, 2), (11840699188806025751, 1, 3)]\n",
            "matches: [(11840699188806025751, 4, 5), (11840699188806025751, 4, 6)]\n",
            "matches: [(11840699188806025751, 2, 3)]\n",
            "matches: [(11840699188806025751, 9, 10), (11840699188806025751, 9, 11)]\n",
            "matches: [(11840699188806025751, 4, 5), (11840699188806025751, 4, 6)]\n",
            "matches: [(11840699188806025751, 2, 3)]\n",
            "matches: [(11840699188806025751, 3, 4), (11840699188806025751, 3, 5)]\n",
            "matches: [(11840699188806025751, 2, 3)]\n",
            "matches: [(11840699188806025751, 5, 6), (11840699188806025751, 5, 7)]\n",
            "matches: [(11840699188806025751, 5, 6)]\n",
            "matches: [(11840699188806025751, 4, 5)]\n",
            "matches: [(11840699188806025751, 4, 5), (11840699188806025751, 4, 6)]\n",
            "matches: [(11840699188806025751, 2, 3)]\n"
          ],
          "name": "stdout"
        },
        {
          "output_type": "stream",
          "text": [
            " 96%|█████████▌| 4146/4318 [00:47<00:01, 87.21it/s]"
          ],
          "name": "stderr"
        },
        {
          "output_type": "stream",
          "text": [
            "matches: [(11840699188806025751, 5, 6), (11840699188806025751, 5, 7)]\n",
            "matches: [(11840699188806025751, 5, 6)]\n",
            "matches: [(11840699188806025751, 4, 5)]\n",
            "matches: [(11840699188806025751, 4, 5), (11840699188806025751, 4, 6)]\n",
            "matches: [(11840699188806025751, 2, 3)]\n",
            "matches: [(11840699188806025751, 1, 2)]\n",
            "matches: [(11840699188806025751, 3, 4), (11840699188806025751, 3, 5)]\n",
            "matches: [(11840699188806025751, 10, 11), (11840699188806025751, 10, 12)]\n",
            "matches: [(11840699188806025751, 2, 3)]\n",
            "matches: [(11840699188806025751, 1, 2)]\n",
            "matches: [(11840699188806025751, 5, 6), (11840699188806025751, 5, 7)]\n",
            "matches: [(11840699188806025751, 8, 9), (11840699188806025751, 8, 10)]\n",
            "matches: [(11840699188806025751, 4, 5), (11840699188806025751, 4, 6)]\n",
            "matches: [(11840699188806025751, 2, 3)]\n",
            "matches: [(11840699188806025751, 3, 4)]\n",
            "matches: [(11840699188806025751, 3, 4), (11840699188806025751, 3, 5)]\n",
            "matches: [(11840699188806025751, 8, 9), (11840699188806025751, 8, 10)]\n",
            "matches: [(11840699188806025751, 1, 2), (11840699188806025751, 1, 3)]\n",
            "matches: [(11840699188806025751, 2, 3)]"
          ],
          "name": "stdout"
        },
        {
          "output_type": "stream",
          "text": [
            " 96%|█████████▋| 4165/4318 [00:47<00:01, 90.08it/s]"
          ],
          "name": "stderr"
        },
        {
          "output_type": "stream",
          "text": [
            "\n",
            "matches: [(11840699188806025751, 3, 4)]\n",
            "matches: [(11840699188806025751, 2, 3), (11840699188806025751, 2, 4), (11840699188806025751, 2, 5)]\n",
            "matches: [(11840699188806025751, 16, 17), (11840699188806025751, 16, 18)]\n",
            "matches: [(11840699188806025751, 3, 4), (11840699188806025751, 3, 5)]\n",
            "matches: [(11840699188806025751, 5, 6), (11840699188806025751, 5, 7)]\n",
            "matches: [(11840699188806025751, 1, 2)]\n",
            "matches: [(11840699188806025751, 1, 2)]\n",
            "matches: [(11840699188806025751, 1, 2), (11840699188806025751, 1, 3)]\n",
            "matches: [(11840699188806025751, 3, 4), (11840699188806025751, 3, 5)]\n",
            "matches: [(11840699188806025751, 2, 3)]\n",
            "matches: [(11840699188806025751, 2, 3)]\n",
            "matches: [(11840699188806025751, 2, 3)]\n",
            "matches: [(11840699188806025751, 1, 2)]\n",
            "matches: [(11840699188806025751, 2, 3)]\n",
            "matches: [(11840699188806025751, 1, 2)]\n",
            "matches: [(11840699188806025751, 5, 6)]\n",
            "matches: [(11840699188806025751, 3, 4)]\n",
            "matches: [(11840699188806025751, 2, 3)]\n",
            "matches: [(11840699188806025751, 3, 4), (11840699188806025751, 3, 5)]\n"
          ],
          "name": "stdout"
        },
        {
          "output_type": "stream",
          "text": [
            " 97%|█████████▋| 4185/4318 [00:47<00:01, 90.81it/s]"
          ],
          "name": "stderr"
        },
        {
          "output_type": "stream",
          "text": [
            "matches: [(11840699188806025751, 3, 4)]\n",
            "matches: [(11840699188806025751, 7, 8)]\n",
            "matches: [(11840699188806025751, 1, 2)]\n",
            "matches: [(11840699188806025751, 5, 6), (11840699188806025751, 5, 7)]\n",
            "matches: [(11840699188806025751, 3, 4)]\n",
            "matches: [(11840699188806025751, 3, 4)]\n",
            "matches: [(11840699188806025751, 1, 2), (11840699188806025751, 7, 8), (11840699188806025751, 7, 9)]\n",
            "matches: [(11840699188806025751, 3, 4), (11840699188806025751, 3, 5)]\n",
            "matches: [(11840699188806025751, 8, 9), (11840699188806025751, 8, 10)]\n",
            "matches: [(11840699188806025751, 1, 2), (11840699188806025751, 1, 3)]\n",
            "matches: [(11840699188806025751, 2, 3)]\n",
            "matches: [(11840699188806025751, 3, 4)]\n",
            "matches: [(11840699188806025751, 2, 3), (11840699188806025751, 2, 4), (11840699188806025751, 2, 5)]\n",
            "matches: [(11840699188806025751, 16, 17), (11840699188806025751, 16, 18)]\n",
            "matches: [(11840699188806025751, 3, 4), (11840699188806025751, 3, 5)]\n",
            "matches: [(11840699188806025751, 5, 6), (11840699188806025751, 5, 7)]\n",
            "matches: [(11840699188806025751, 1, 2)]\n",
            "matches: [(11840699188806025751, 1, 2)]\n",
            "matches: [(11840699188806025751, 1, 2), (11840699188806025751, 1, 3)]\n"
          ],
          "name": "stdout"
        },
        {
          "output_type": "stream",
          "text": [
            " 97%|█████████▋| 4205/4318 [00:47<00:01, 91.09it/s]"
          ],
          "name": "stderr"
        },
        {
          "output_type": "stream",
          "text": [
            "matches: [(11840699188806025751, 3, 4), (11840699188806025751, 3, 5)]\n",
            "matches: [(11840699188806025751, 2, 3)]\n",
            "matches: [(11840699188806025751, 2, 3)]\n",
            "matches: [(11840699188806025751, 2, 3)]\n",
            "matches: [(11840699188806025751, 1, 2)]\n",
            "matches: [(11840699188806025751, 2, 3)]\n",
            "matches: [(11840699188806025751, 1, 2)]\n",
            "matches: [(11840699188806025751, 5, 6)]\n",
            "matches: [(11840699188806025751, 3, 4)]\n",
            "matches: [(11840699188806025751, 2, 3)]\n",
            "matches: [(11840699188806025751, 3, 4), (11840699188806025751, 3, 5)]\n",
            "matches: [(11840699188806025751, 3, 4)]\n",
            "matches: [(11840699188806025751, 7, 8)]\n",
            "matches: [(11840699188806025751, 1, 2)]\n",
            "matches: [(11840699188806025751, 5, 6), (11840699188806025751, 5, 7)]\n",
            "matches: [(11840699188806025751, 3, 4)]\n",
            "matches: [(11840699188806025751, 3, 4)]\n",
            "matches: [(11840699188806025751, 1, 2), (11840699188806025751, 7, 8), (11840699188806025751, 7, 9)]\n",
            "matches: [(11840699188806025751, 2, 3)]\n"
          ],
          "name": "stdout"
        },
        {
          "output_type": "stream",
          "text": [
            " 98%|█████████▊| 4225/4318 [00:47<00:01, 89.90it/s]"
          ],
          "name": "stderr"
        },
        {
          "output_type": "stream",
          "text": [
            "matches: [(11840699188806025751, 1, 2)]\n",
            "matches: [(11840699188806025751, 5, 6), (11840699188806025751, 5, 7)]\n",
            "matches: [(11840699188806025751, 2, 3)]\n",
            "matches: [(11840699188806025751, 5, 6), (11840699188806025751, 5, 7)]\n",
            "matches: [(11840699188806025751, 2, 3), (11840699188806025751, 2, 4)]\n",
            "matches: [(11840699188806025751, 4, 5), (11840699188806025751, 4, 6)]\n",
            "matches: [(11840699188806025751, 3, 4), (11840699188806025751, 3, 5)]\n",
            "matches: [(11840699188806025751, 3, 4)]\n",
            "matches: [(11840699188806025751, 2, 3)]\n",
            "matches: [(11840699188806025751, 2, 3), (11840699188806025751, 2, 4)]\n",
            "matches: [(11840699188806025751, 4, 5), (11840699188806025751, 4, 6)]\n",
            "matches: [(11840699188806025751, 5, 6), (11840699188806025751, 5, 7)]\n",
            "matches: [(11840699188806025751, 1, 2)]\n",
            "matches: [(11840699188806025751, 1, 2)]\n",
            "matches: [(11840699188806025751, 10, 11)]\n",
            "matches: [(11840699188806025751, 1, 2)]\n",
            "matches: [(11840699188806025751, 1, 2)]\n",
            "matches: [(11840699188806025751, 4, 5), (11840699188806025751, 4, 6), (11840699188806025751, 4, 7)]\n"
          ],
          "name": "stdout"
        },
        {
          "output_type": "stream",
          "text": [
            "\r 98%|█████████▊| 4235/4318 [00:48<00:00, 88.91it/s]"
          ],
          "name": "stderr"
        },
        {
          "output_type": "stream",
          "text": [
            "matches: [(11840699188806025751, 3, 4)]\n",
            "matches: [(11840699188806025751, 5, 6)]\n",
            "matches: [(11840699188806025751, 1, 2)]\n",
            "matches: [(11840699188806025751, 1, 2)]\n",
            "matches: [(11840699188806025751, 6, 7)]\n",
            "matches: [(11840699188806025751, 2, 3)]\n",
            "matches: [(11840699188806025751, 1, 2)]\n",
            "matches: [(11840699188806025751, 3, 4)]\n",
            "matches: [(11840699188806025751, 3, 4), (11840699188806025751, 3, 5)]\n",
            "matches: [(11840699188806025751, 9, 10)]\n",
            "matches: [(11840699188806025751, 1, 2), (11840699188806025751, 4, 5), (11840699188806025751, 4, 6)]\n",
            "matches: [(11840699188806025751, 3, 4), (11840699188806025751, 3, 5)]\n",
            "matches: [(11840699188806025751, 4, 5)]\n",
            "matches: [(11840699188806025751, 5, 6), (11840699188806025751, 5, 7)]\n",
            "matches: [(11840699188806025751, 2, 3), (11840699188806025751, 2, 4)]\n",
            "matches: [(11840699188806025751, 4, 5), (11840699188806025751, 4, 6)]\n",
            "matches: [(11840699188806025751, 11, 12), (11840699188806025751, 11, 13)]\n",
            "matches: [(11840699188806025751, 3, 4), (11840699188806025751, 3, 5)]\n",
            "matches: [(11840699188806025751, 2, 3)]\n"
          ],
          "name": "stdout"
        },
        {
          "output_type": "stream",
          "text": [
            " 99%|█████████▊| 4255/4318 [00:48<00:00, 89.53it/s]"
          ],
          "name": "stderr"
        },
        {
          "output_type": "stream",
          "text": [
            "matches: [(11840699188806025751, 14, 15)]\n",
            "matches: [(11840699188806025751, 2, 3)]\n",
            "matches: [(11840699188806025751, 2, 3), (11840699188806025751, 2, 4)]\n",
            "matches: [(11840699188806025751, 6, 7)]\n",
            "matches: [(11840699188806025751, 2, 3)]\n",
            "matches: [(11840699188806025751, 11, 12)]\n",
            "matches: [(11840699188806025751, 11, 12)]\n",
            "matches: [(11840699188806025751, 6, 7)]\n",
            "matches: [(11840699188806025751, 1, 2)]\n",
            "matches: [(11840699188806025751, 7, 8)]\n",
            "matches: [(11840699188806025751, 2, 3)]\n",
            "matches: [(11840699188806025751, 5, 6), (11840699188806025751, 5, 7), (11840699188806025751, 5, 8)]\n",
            "matches: [(11840699188806025751, 2, 3), (11840699188806025751, 2, 4)]\n",
            "matches: [(11840699188806025751, 1, 2)]\n",
            "matches: [(11840699188806025751, 15, 16)]\n",
            "matches: [(11840699188806025751, 3, 4)]\n",
            "matches: [(11840699188806025751, 3, 4)]\n",
            "matches: [(11840699188806025751, 1, 2)]\n"
          ],
          "name": "stdout"
        },
        {
          "output_type": "stream",
          "text": [
            " 99%|█████████▉| 4273/4318 [00:48<00:00, 85.42it/s]"
          ],
          "name": "stderr"
        },
        {
          "output_type": "stream",
          "text": [
            "matches: [(11840699188806025751, 3, 4)]\n",
            "matches: [(11840699188806025751, 2, 3)]\n",
            "matches: [(11840699188806025751, 6, 7), (11840699188806025751, 6, 8), (11840699188806025751, 6, 9)]\n",
            "matches: [(11840699188806025751, 5, 6)]\n",
            "matches: [(11840699188806025751, 12, 13), (11840699188806025751, 12, 14), (11840699188806025751, 12, 15)]\n",
            "matches: [(11840699188806025751, 2, 3)]\n",
            "matches: [(11840699188806025751, 3, 4)]\n",
            "matches: [(11840699188806025751, 3, 4)]\n",
            "matches: [(11840699188806025751, 2, 3)]\n",
            "matches: [(11840699188806025751, 3, 4), (11840699188806025751, 3, 5)]\n",
            "matches: [(11840699188806025751, 7, 8)]\n",
            "matches: [(11840699188806025751, 6, 7), (11840699188806025751, 6, 8)]\n",
            "matches: [(11840699188806025751, 1, 2)]\n",
            "matches: [(11840699188806025751, 2, 3)]\n",
            "matches: [(11840699188806025751, 1, 2)]\n",
            "matches: [(11840699188806025751, 4, 5)]\n",
            "matches: [(11840699188806025751, 3, 4)]\n",
            "matches: [(11840699188806025751, 9, 10)]\n"
          ],
          "name": "stdout"
        },
        {
          "output_type": "stream",
          "text": [
            " 99%|█████████▉| 4292/4318 [00:48<00:00, 87.69it/s]"
          ],
          "name": "stderr"
        },
        {
          "output_type": "stream",
          "text": [
            "matches: [(11840699188806025751, 2, 3)]\n",
            "matches: [(11840699188806025751, 1, 2)]\n",
            "matches: [(11840699188806025751, 1, 2)]\n",
            "matches: [(11840699188806025751, 8, 9), (11840699188806025751, 8, 10)]\n",
            "matches: [(11840699188806025751, 7, 8)]\n",
            "matches: [(11840699188806025751, 6, 7), (11840699188806025751, 6, 8)]\n",
            "matches: [(11840699188806025751, 1, 2)]\n",
            "matches: [(11840699188806025751, 1, 2)]\n",
            "matches: [(11840699188806025751, 3, 4)]\n",
            "matches: [(11840699188806025751, 2, 3), (11840699188806025751, 2, 4)]\n",
            "matches: [(11840699188806025751, 3, 4), (11840699188806025751, 3, 5), (11840699188806025751, 3, 6)]\n",
            "matches: [(11840699188806025751, 6, 7)]\n",
            "matches: [(11840699188806025751, 3, 4), (11840699188806025751, 3, 5)]\n",
            "matches: [(11840699188806025751, 2, 3), (11840699188806025751, 2, 4)]\n",
            "matches: [(11840699188806025751, 4, 5)]\n",
            "matches: [(11840699188806025751, 3, 4), (11840699188806025751, 3, 5)]\n",
            "matches: [(11840699188806025751, 2, 3)]\n",
            "matches: [(11840699188806025751, 3, 4)]\n"
          ],
          "name": "stdout"
        },
        {
          "output_type": "stream",
          "text": [
            "100%|█████████▉| 4311/4318 [00:48<00:00, 87.37it/s]"
          ],
          "name": "stderr"
        },
        {
          "output_type": "stream",
          "text": [
            "matches: [(11840699188806025751, 6, 7)]\n",
            "matches: [(11840699188806025751, 3, 4)]\n",
            "matches: [(11840699188806025751, 6, 7)]\n",
            "matches: [(11840699188806025751, 3, 4), (11840699188806025751, 3, 5)]\n",
            "matches: [(11840699188806025751, 3, 4)]\n",
            "matches: [(11840699188806025751, 4, 5)]\n",
            "matches: [(11840699188806025751, 1, 2)]\n",
            "matches: [(11840699188806025751, 10, 11)]\n",
            "matches: [(11840699188806025751, 3, 4), (11840699188806025751, 3, 5)]\n",
            "matches: [(11840699188806025751, 2, 3)]\n",
            "matches: [(11840699188806025751, 2, 3), (11840699188806025751, 2, 4)]\n",
            "matches: [(11840699188806025751, 5, 6), (11840699188806025751, 5, 7)]\n",
            "matches: [(11840699188806025751, 1, 2)]\n",
            "matches: [(11840699188806025751, 2, 3)]\n",
            "matches: [(11840699188806025751, 2, 3), (11840699188806025751, 2, 4)]\n",
            "matches: [(11840699188806025751, 2, 3)]\n",
            "matches: [(11840699188806025751, 3, 4)]\n",
            "matches: [(11840699188806025751, 3, 4)]\n",
            "matches: [(11840699188806025751, 2, 3)]\n"
          ],
          "name": "stdout"
        },
        {
          "output_type": "stream",
          "text": [
            "\r100%|██████████| 4318/4318 [00:48<00:00, 88.14it/s]\n"
          ],
          "name": "stderr"
        },
        {
          "output_type": "stream",
          "text": [
            "matches: [(11840699188806025751, 3, 4), (11840699188806025751, 3, 5)]\n"
          ],
          "name": "stdout"
        },
        {
          "output_type": "error",
          "ename": "AttributeError",
          "evalue": "ignored",
          "traceback": [
            "\u001b[0;31m---------------------------------------------------------------------------\u001b[0m",
            "\u001b[0;31mAttributeError\u001b[0m                            Traceback (most recent call last)",
            "\u001b[0;32m<ipython-input-7-449c8c3c8d92>\u001b[0m in \u001b[0;36m<module>\u001b[0;34m()\u001b[0m\n\u001b[1;32m    103\u001b[0m \u001b[0mpos\u001b[0m\u001b[0;34m=\u001b[0m\u001b[0mnx\u001b[0m\u001b[0;34m.\u001b[0m\u001b[0mspring_layout\u001b[0m\u001b[0;34m(\u001b[0m\u001b[0mG\u001b[0m\u001b[0;34m,\u001b[0m\u001b[0mk\u001b[0m\u001b[0;34m=\u001b[0m\u001b[0;36m0.5\u001b[0m\u001b[0;34m)\u001b[0m\u001b[0;34m\u001b[0m\u001b[0;34m\u001b[0m\u001b[0m\n\u001b[1;32m    104\u001b[0m \u001b[0mnx\u001b[0m\u001b[0;34m.\u001b[0m\u001b[0mdraw\u001b[0m\u001b[0;34m(\u001b[0m\u001b[0mG\u001b[0m\u001b[0;34m,\u001b[0m\u001b[0mwith_labels\u001b[0m\u001b[0;34m=\u001b[0m\u001b[0;32mTrue\u001b[0m\u001b[0;34m,\u001b[0m\u001b[0mnode_color\u001b[0m\u001b[0;34m=\u001b[0m\u001b[0;34m'skyblue'\u001b[0m\u001b[0;34m,\u001b[0m\u001b[0mnode_size\u001b[0m\u001b[0;34m=\u001b[0m\u001b[0;36m1500\u001b[0m\u001b[0;34m,\u001b[0m\u001b[0medge_cmap\u001b[0m\u001b[0;34m=\u001b[0m\u001b[0mplt\u001b[0m\u001b[0;34m.\u001b[0m\u001b[0mcm\u001b[0m\u001b[0;34m.\u001b[0m\u001b[0mBlues\u001b[0m\u001b[0;34m,\u001b[0m\u001b[0mpos\u001b[0m\u001b[0;34m=\u001b[0m\u001b[0mpos\u001b[0m\u001b[0;34m)\u001b[0m\u001b[0;34m\u001b[0m\u001b[0;34m\u001b[0m\u001b[0m\n\u001b[0;32m--> 105\u001b[0;31m \u001b[0mnx\u001b[0m\u001b[0;34m.\u001b[0m\u001b[0mdraw_networkx_edge_labels\u001b[0m\u001b[0;34m(\u001b[0m\u001b[0mG\u001b[0m\u001b[0;34m,\u001b[0m\u001b[0mpos\u001b[0m\u001b[0;34m,\u001b[0m\u001b[0medge_labels\u001b[0m\u001b[0;34m=\u001b[0m\u001b[0;34m\"written by\"\u001b[0m\u001b[0;34m)\u001b[0m\u001b[0;34m\u001b[0m\u001b[0;34m\u001b[0m\u001b[0m\n\u001b[0m\u001b[1;32m    106\u001b[0m \u001b[0mplt\u001b[0m\u001b[0;34m.\u001b[0m\u001b[0mshow\u001b[0m\u001b[0;34m(\u001b[0m\u001b[0;34m)\u001b[0m\u001b[0;34m\u001b[0m\u001b[0;34m\u001b[0m\u001b[0m\n\u001b[1;32m    107\u001b[0m \u001b[0;34m\u001b[0m\u001b[0m\n",
            "\u001b[0;32m/usr/local/lib/python3.6/dist-packages/networkx/drawing/nx_pylab.py\u001b[0m in \u001b[0;36mdraw_networkx_edge_labels\u001b[0;34m(G, pos, edge_labels, label_pos, font_size, font_color, font_family, font_weight, alpha, bbox, horizontalalignment, verticalalignment, ax, rotate)\u001b[0m\n\u001b[1;32m   1022\u001b[0m         \u001b[0mlabels\u001b[0m \u001b[0;34m=\u001b[0m \u001b[0medge_labels\u001b[0m\u001b[0;34m\u001b[0m\u001b[0;34m\u001b[0m\u001b[0m\n\u001b[1;32m   1023\u001b[0m     \u001b[0mtext_items\u001b[0m \u001b[0;34m=\u001b[0m \u001b[0;34m{\u001b[0m\u001b[0;34m}\u001b[0m\u001b[0;34m\u001b[0m\u001b[0;34m\u001b[0m\u001b[0m\n\u001b[0;32m-> 1024\u001b[0;31m     \u001b[0;32mfor\u001b[0m \u001b[0;34m(\u001b[0m\u001b[0mn1\u001b[0m\u001b[0;34m,\u001b[0m \u001b[0mn2\u001b[0m\u001b[0;34m)\u001b[0m\u001b[0;34m,\u001b[0m \u001b[0mlabel\u001b[0m \u001b[0;32min\u001b[0m \u001b[0mlabels\u001b[0m\u001b[0;34m.\u001b[0m\u001b[0mitems\u001b[0m\u001b[0;34m(\u001b[0m\u001b[0;34m)\u001b[0m\u001b[0;34m:\u001b[0m\u001b[0;34m\u001b[0m\u001b[0;34m\u001b[0m\u001b[0m\n\u001b[0m\u001b[1;32m   1025\u001b[0m         \u001b[0;34m(\u001b[0m\u001b[0mx1\u001b[0m\u001b[0;34m,\u001b[0m \u001b[0my1\u001b[0m\u001b[0;34m)\u001b[0m \u001b[0;34m=\u001b[0m \u001b[0mpos\u001b[0m\u001b[0;34m[\u001b[0m\u001b[0mn1\u001b[0m\u001b[0;34m]\u001b[0m\u001b[0;34m\u001b[0m\u001b[0;34m\u001b[0m\u001b[0m\n\u001b[1;32m   1026\u001b[0m         \u001b[0;34m(\u001b[0m\u001b[0mx2\u001b[0m\u001b[0;34m,\u001b[0m \u001b[0my2\u001b[0m\u001b[0;34m)\u001b[0m \u001b[0;34m=\u001b[0m \u001b[0mpos\u001b[0m\u001b[0;34m[\u001b[0m\u001b[0mn2\u001b[0m\u001b[0;34m]\u001b[0m\u001b[0;34m\u001b[0m\u001b[0;34m\u001b[0m\u001b[0m\n",
            "\u001b[0;31mAttributeError\u001b[0m: 'str' object has no attribute 'items'"
          ]
        },
        {
          "output_type": "display_data",
          "data": {
            "image/png": "[encoded data removed]",
            "text/plain": [
              "<Figure size 864x864 with 1 Axes>"
            ]
          },
          "metadata": {
            "tags": []
          }
        }
      ]
    }
  ]
}
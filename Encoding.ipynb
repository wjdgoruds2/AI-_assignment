{
  "nbformat": 4,
  "nbformat_minor": 0,
  "metadata": {
    "colab": {
      "name": "Untitled13.ipynb",
      "provenance": [],
      "authorship_tag": "ABX9TyOFvKrK3JxjIUgOfNdchoH3",
      "include_colab_link": true
    },
    "kernelspec": {
      "name": "python3",
      "display_name": "Python 3"
    }
  },
  "cells": [
    {
      "cell_type": "markdown",
      "metadata": {
        "id": "view-in-github",
        "colab_type": "text"
      },
      "source": [
        "<a href=\"https://colab.research.google.com/github/wjdgoruds2/AI-_assignment/blob/master/Encoding.ipynb\" target=\"_parent\"><img src=\"https://colab.research.google.com/assets/colab-badge.svg\" alt=\"Open In Colab\"/></a>"
      ]
    },
    {
      "cell_type": "code",
      "metadata": {
        "id": "491Qwv3kJnZu",
        "outputId": "b295c4d3-4a1d-4155-ff55-cb168ce8c510",
        "colab": {
          "base_uri": "https://localhost:8080/"
        }
      },
      "source": [
        "from numpy import array\n",
        "from numpy import argmax\n",
        "from sklearn.preprocessing import LabelEncoder\n",
        "from sklearn.preprocessing import OneHotEncoder\n",
        "\n",
        "data=['cold','cold','warm','cold','hot','hot','warn','cold','warm','hot']\n",
        "values=array(data)\n",
        "\n",
        "label_encoder=LabelEncoder()\n",
        "integer_encoded=label_encoder.fit_transform(values)\n",
        "print('\\n정수 인코딩 \\n',integer_encoded)\n",
        "\n",
        "onehot_encoder=OneHotEncoder(sparse=False)\n",
        "integer_encoded=integer_encoded.reshape(len(integer_encoded),1)\n",
        "onehot_encoded=onehot_encoder.fit_transform(integer_encoded)\n",
        "print('\\none-hot 인코딩\\n',onehot_encoded)\n",
        "\n",
        "inverted=label_encoder.inverse_transform([argmax(onehot_encoded[0,:])])\n",
        "print('\\n',onehot_encoded[0],'=>',inverted)\n"
      ],
      "execution_count": 16,
      "outputs": [
        {
          "output_type": "stream",
          "text": [
            "\n",
            "정수 인코딩 \n",
            " [0 0 2 0 1 1 3 0 2 1]\n",
            "\n",
            "one-hot 인코딩\n",
            " [[1. 0. 0. 0.]\n",
            " [1. 0. 0. 0.]\n",
            " [0. 0. 1. 0.]\n",
            " [1. 0. 0. 0.]\n",
            " [0. 1. 0. 0.]\n",
            " [0. 1. 0. 0.]\n",
            " [0. 0. 0. 1.]\n",
            " [1. 0. 0. 0.]\n",
            " [0. 0. 1. 0.]\n",
            " [0. 1. 0. 0.]]\n",
            "\n",
            " [1. 0. 0. 0.] => ['cold']\n"
          ],
          "name": "stdout"
        }
      ]
    },
    {
      "cell_type": "code",
      "metadata": {
        "id": "z14YXy0BM_7u"
      },
      "source": [
        "sle"
      ],
      "execution_count": null,
      "outputs": []
    }
  ]
}
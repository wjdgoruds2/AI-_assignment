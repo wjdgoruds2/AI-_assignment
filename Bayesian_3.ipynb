{
  "nbformat": 4,
  "nbformat_minor": 0,
  "metadata": {
    "colab": {
      "name": "Untitled6.ipynb",
      "provenance": [],
      "authorship_tag": "ABX9TyNJkVnlcZ67XCv5iCpk4NfI",
      "include_colab_link": true
    },
    "kernelspec": {
      "name": "python3",
      "display_name": "Python 3"
    }
  },
  "cells": [
    {
      "cell_type": "markdown",
      "metadata": {
        "id": "view-in-github",
        "colab_type": "text"
      },
      "source": [
        "<a href=\"https://colab.research.google.com/github/wjdgoruds2/AI-_assignment/blob/master/Bayesian_3.ipynb\" target=\"_parent\"><img src=\"https://colab.research.google.com/assets/colab-badge.svg\" alt=\"Open In Colab\"/></a>"
      ]
    },
    {
      "cell_type": "code",
      "metadata": {
        "id": "9RQpqiig4KZ_",
        "outputId": "a3f1d360-3e82-4402-d85b-f29290f035d9",
        "colab": {
          "base_uri": "https://localhost:8080/",
          "height": 34
        }
      },
      "source": [
        "from pgmpy.models import BayesianModel\n",
        "\n",
        "model=BayesianModel([('E','A'),('B','A'),('A','N')])\n",
        "model.add_cpds(P_E,P_B,P_A_I_EB,P_N_I_A)\n",
        "model.check_model()\n"
      ],
      "execution_count": 4,
      "outputs": [
        {
          "output_type": "execute_result",
          "data": {
            "text/plain": [
              "True"
            ]
          },
          "metadata": {
            "tags": []
          },
          "execution_count": 4
        }
      ]
    },
    {
      "cell_type": "code",
      "metadata": {
        "id": "Yl-v0vHDB3YP",
        "outputId": "33212b88-ca59-4d89-859d-dfe5a5855def",
        "colab": {
          "base_uri": "https://localhost:8080/",
          "height": 414
        }
      },
      "source": [
        "!pip install pgmpy"
      ],
      "execution_count": 2,
      "outputs": [
        {
          "output_type": "stream",
          "text": [
            "Collecting pgmpy\n",
            "\u001b[?25l  Downloading https://files.pythonhosted.org/packages/22/16/e2edff21fca7a2cacaedd293caaaae5eaea832af0dd347c1159b4455be6b/pgmpy-0.1.12-py3-none-any.whl (322kB)\n",
            "\r\u001b[K     |█                               | 10kB 18.2MB/s eta 0:00:01\r\u001b[K     |██                              | 20kB 5.0MB/s eta 0:00:01\r\u001b[K     |███                             | 30kB 5.3MB/s eta 0:00:01\r\u001b[K     |████                            | 40kB 6.3MB/s eta 0:00:01\r\u001b[K     |█████                           | 51kB 5.2MB/s eta 0:00:01\r\u001b[K     |██████                          | 61kB 6.1MB/s eta 0:00:01\r\u001b[K     |███████                         | 71kB 6.3MB/s eta 0:00:01\r\u001b[K     |████████▏                       | 81kB 6.8MB/s eta 0:00:01\r\u001b[K     |█████████▏                      | 92kB 6.7MB/s eta 0:00:01\r\u001b[K     |██████████▏                     | 102kB 6.8MB/s eta 0:00:01\r\u001b[K     |███████████▏                    | 112kB 6.8MB/s eta 0:00:01\r\u001b[K     |████████████▏                   | 122kB 6.8MB/s eta 0:00:01\r\u001b[K     |█████████████▏                  | 133kB 6.8MB/s eta 0:00:01\r\u001b[K     |██████████████▏                 | 143kB 6.8MB/s eta 0:00:01\r\u001b[K     |███████████████▏                | 153kB 6.8MB/s eta 0:00:01\r\u001b[K     |████████████████▎               | 163kB 6.8MB/s eta 0:00:01\r\u001b[K     |█████████████████▎              | 174kB 6.8MB/s eta 0:00:01\r\u001b[K     |██████████████████▎             | 184kB 6.8MB/s eta 0:00:01\r\u001b[K     |███████████████████▎            | 194kB 6.8MB/s eta 0:00:01\r\u001b[K     |████████████████████▎           | 204kB 6.8MB/s eta 0:00:01\r\u001b[K     |█████████████████████▎          | 215kB 6.8MB/s eta 0:00:01\r\u001b[K     |██████████████████████▎         | 225kB 6.8MB/s eta 0:00:01\r\u001b[K     |███████████████████████▍        | 235kB 6.8MB/s eta 0:00:01\r\u001b[K     |████████████████████████▍       | 245kB 6.8MB/s eta 0:00:01\r\u001b[K     |█████████████████████████▍      | 256kB 6.8MB/s eta 0:00:01\r\u001b[K     |██████████████████████████▍     | 266kB 6.8MB/s eta 0:00:01\r\u001b[K     |███████████████████████████▍    | 276kB 6.8MB/s eta 0:00:01\r\u001b[K     |████████████████████████████▍   | 286kB 6.8MB/s eta 0:00:01\r\u001b[K     |█████████████████████████████▍  | 296kB 6.8MB/s eta 0:00:01\r\u001b[K     |██████████████████████████████▍ | 307kB 6.8MB/s eta 0:00:01\r\u001b[K     |███████████████████████████████▌| 317kB 6.8MB/s eta 0:00:01\r\u001b[K     |████████████████████████████████| 327kB 6.8MB/s \n",
            "\u001b[?25hRequirement already satisfied: scikit-learn in /usr/local/lib/python3.6/dist-packages (from pgmpy) (0.22.2.post1)\n",
            "Requirement already satisfied: tqdm in /usr/local/lib/python3.6/dist-packages (from pgmpy) (4.41.1)\n",
            "Requirement already satisfied: pandas in /usr/local/lib/python3.6/dist-packages (from pgmpy) (1.1.2)\n",
            "Requirement already satisfied: joblib in /usr/local/lib/python3.6/dist-packages (from pgmpy) (0.16.0)\n",
            "Requirement already satisfied: scipy in /usr/local/lib/python3.6/dist-packages (from pgmpy) (1.4.1)\n",
            "Requirement already satisfied: pyparsing in /usr/local/lib/python3.6/dist-packages (from pgmpy) (2.4.7)\n",
            "Requirement already satisfied: statsmodels in /usr/local/lib/python3.6/dist-packages (from pgmpy) (0.10.2)\n",
            "Requirement already satisfied: networkx in /usr/local/lib/python3.6/dist-packages (from pgmpy) (2.5)\n",
            "Requirement already satisfied: numpy in /usr/local/lib/python3.6/dist-packages (from pgmpy) (1.18.5)\n",
            "Requirement already satisfied: torch in /usr/local/lib/python3.6/dist-packages (from pgmpy) (1.6.0+cu101)\n",
            "Requirement already satisfied: python-dateutil>=2.7.3 in /usr/local/lib/python3.6/dist-packages (from pandas->pgmpy) (2.8.1)\n",
            "Requirement already satisfied: pytz>=2017.2 in /usr/local/lib/python3.6/dist-packages (from pandas->pgmpy) (2018.9)\n",
            "Requirement already satisfied: patsy>=0.4.0 in /usr/local/lib/python3.6/dist-packages (from statsmodels->pgmpy) (0.5.1)\n",
            "Requirement already satisfied: decorator>=4.3.0 in /usr/local/lib/python3.6/dist-packages (from networkx->pgmpy) (4.4.2)\n",
            "Requirement already satisfied: future in /usr/local/lib/python3.6/dist-packages (from torch->pgmpy) (0.16.0)\n",
            "Requirement already satisfied: six>=1.5 in /usr/local/lib/python3.6/dist-packages (from python-dateutil>=2.7.3->pandas->pgmpy) (1.15.0)\n",
            "Installing collected packages: pgmpy\n",
            "Successfully installed pgmpy-0.1.12\n"
          ],
          "name": "stdout"
        }
      ]
    }
  ]
}
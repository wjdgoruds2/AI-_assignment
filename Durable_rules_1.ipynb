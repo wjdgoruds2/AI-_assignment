{
  "nbformat": 4,
  "nbformat_minor": 0,
  "metadata": {
    "colab": {
      "name": "Durable_rules_1.ipynb",
      "provenance": [],
      "authorship_tag": "ABX9TyNRDo9hyRx+YcbKKPdhaHlS",
      "include_colab_link": true
    },
    "kernelspec": {
      "name": "python3",
      "display_name": "Python 3"
    }
  },
  "cells": [
    {
      "cell_type": "markdown",
      "metadata": {
        "id": "view-in-github",
        "colab_type": "text"
      },
      "source": [
        "<a href=\"https://colab.research.google.com/github/wjdgoruds2/AI-_assignment/blob/master/Durable_rules_1.ipynb\" target=\"_parent\"><img src=\"https://colab.research.google.com/assets/colab-badge.svg\" alt=\"Open In Colab\"/></a>"
      ]
    },
    {
      "cell_type": "code",
      "metadata": {
        "id": "gsbRuMpIuqyr",
        "colab_type": "code",
        "colab": {
          "base_uri": "https://localhost:8080/",
          "height": 70
        },
        "outputId": "19db62b3-77c1-4472-86bd-0316da22e0f2"
      },
      "source": [
        "!pip install durable_rules\n",
        "\n",
        "from durable.lang import*\n",
        "\n",
        "with ruleset('testRS'):\n",
        "  @when_all(m.subject=='World')\n",
        "  def say_hello(c):\n",
        "    print('Hello {0}'.format(c.m.subject))\n",
        "post('testRS',{'subject':'World'})\n"
      ],
      "execution_count": 19,
      "outputs": [
        {
          "output_type": "stream",
          "text": [
            "Requirement already satisfied: durable_rules in /usr/local/lib/python3.6/dist-packages (2.0.28)\n",
            "Hello World\n"
          ],
          "name": "stdout"
        },
        {
          "output_type": "execute_result",
          "data": {
            "text/plain": [
              "{'$s': 1, 'id': 'sid-0', 'sid': '0'}"
            ]
          },
          "metadata": {
            "tags": []
          },
          "execution_count": 19
        }
      ]
    }
  ]
}
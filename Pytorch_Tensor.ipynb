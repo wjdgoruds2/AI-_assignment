{
  "nbformat": 4,
  "nbformat_minor": 0,
  "metadata": {
    "colab": {
      "name": "Untitled19.ipynb",
      "provenance": [],
      "authorship_tag": "ABX9TyOE3Id6iZhPXujAlVVuV/WF",
      "include_colab_link": true
    },
    "kernelspec": {
      "name": "python3",
      "display_name": "Python 3"
    }
  },
  "cells": [
    {
      "cell_type": "markdown",
      "metadata": {
        "id": "view-in-github",
        "colab_type": "text"
      },
      "source": [
        "<a href=\"https://colab.research.google.com/github/wjdgoruds2/AI-_assignment/blob/master/Pytorch_Tensor.ipynb\" target=\"_parent\"><img src=\"https://colab.research.google.com/assets/colab-badge.svg\" alt=\"Open In Colab\"/></a>"
      ]
    },
    {
      "cell_type": "code",
      "metadata": {
        "colab": {
          "base_uri": "https://localhost:8080/"
        },
        "id": "_rq4obvdZ2id",
        "outputId": "40ed9b04-61df-4c14-d152-de373b803feb"
      },
      "source": [
        "import numpy as np\n",
        "import torch\n",
        "\n",
        "A=torch.tensor([[1.,-1.],[1.,-1.]])\n",
        "print('A=',A)\n",
        "B=torch.tensor(np.array([[1,2,3],[4,5,6]]))\n",
        "print('B=',B)\n",
        "\n",
        "C=torch.rand(3,3)\n",
        "print('C=',C)\n",
        "\n",
        "D=C.numpy()\n",
        "print('D=',D)\n",
        "\n",
        "E=B.view(1,1,2,3)\n",
        "print('E=',E)\n",
        "\n",
        "print('sum of A=',A.sum())\n",
        "print('mean of A=',A.mean())"
      ],
      "execution_count": 1,
      "outputs": [
        {
          "output_type": "stream",
          "text": [
            "A= tensor([[ 1., -1.],\n",
            "        [ 1., -1.]])\n",
            "B= tensor([[1, 2, 3],\n",
            "        [4, 5, 6]])\n",
            "C= tensor([[0.3538, 0.8384, 0.5148],\n",
            "        [0.3796, 0.1305, 0.8148],\n",
            "        [0.3465, 0.8233, 0.2939]])\n",
            "D= [[0.35382283 0.8383731  0.51475036]\n",
            " [0.37956434 0.13053805 0.814758  ]\n",
            " [0.34645665 0.8233319  0.29385948]]\n",
            "E= tensor([[[[1, 2, 3],\n",
            "          [4, 5, 6]]]])\n",
            "sum of A= tensor(0.)\n",
            "mean of A= tensor(0.)\n"
          ],
          "name": "stdout"
        }
      ]
    }
  ]
}
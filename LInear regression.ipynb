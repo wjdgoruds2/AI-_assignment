{
  "nbformat": 4,
  "nbformat_minor": 0,
  "metadata": {
    "colab": {
      "name": "Untitled11.ipynb",
      "provenance": [],
      "collapsed_sections": [],
      "authorship_tag": "ABX9TyOTv+Dofr4wXrsq+ugcxESK",
      "include_colab_link": true
    },
    "kernelspec": {
      "name": "python3",
      "display_name": "Python 3"
    }
  },
  "cells": [
    {
      "cell_type": "markdown",
      "metadata": {
        "id": "view-in-github",
        "colab_type": "text"
      },
      "source": [
        "<a href=\"https://colab.research.google.com/github/wjdgoruds2/AI-_assignment/blob/master/LInear%20regression.ipynb\" target=\"_parent\"><img src=\"https://colab.research.google.com/assets/colab-badge.svg\" alt=\"Open In Colab\"/></a>"
      ]
    },
    {
      "cell_type": "code",
      "metadata": {
        "id": "5YfMoUghM3da",
        "outputId": "26491ce7-b753-4253-9796-2e037aa08c67",
        "colab": {
          "base_uri": "https://localhost:8080/",
          "height": 295
        }
      },
      "source": [
        "import numpy as np\n",
        "from sklearn.linear_model import LinearRegression\n",
        "from matplotlib import pyplot as plt\n",
        "\n",
        "data=np.array([[30,12],[150,25],[300,35],[400,48],[130,21],[240,33],[350,46],[200,41],[100,20],[110,23],[190,32],[120,24],[130,19],[270,37],[255,24]])\n",
        "plt.scatter(data[:,0],data[:,1])\n",
        "plt.title(\"Linear Regression\")\n",
        "plt.xlabel(\"Delivery Distance\")\n",
        "plt.ylabel(\"Delivery Time\")\n",
        "plt.axis([0,420,0,50])\n",
        "\n",
        "x=data[:,0].reshape(-1,1)\n",
        "y=data[:,1].reshape(-1,1)\n",
        "\n",
        "model=LinearRegression()\n",
        "model.fit(x,y)\n",
        "\n",
        "y_pred=model.predict(x)\n",
        "plt.plot(x,y_pred,color='r')\n",
        "plt.show()"
      ],
      "execution_count": 4,
      "outputs": [
        {
          "output_type": "display_data",
          "data": {
            "image/png": "[encoded data removed]",
            "text/plain": [
              "<Figure size 432x288 with 1 Axes>"
            ]
          },
          "metadata": {
            "tags": [],
            "needs_background": "light"
          }
        }
      ]
    }
  ]
}
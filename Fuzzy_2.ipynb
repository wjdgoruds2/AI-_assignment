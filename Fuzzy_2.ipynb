{
  "nbformat": 4,
  "nbformat_minor": 0,
  "metadata": {
    "colab": {
      "name": "Untitled5.ipynb",
      "provenance": [],
      "authorship_tag": "ABX9TyMzGpMikv5lFb37wIHb6bz7",
      "include_colab_link": true
    },
    "kernelspec": {
      "name": "python3",
      "display_name": "Python 3"
    }
  },
  "cells": [
    {
      "cell_type": "markdown",
      "metadata": {
        "id": "view-in-github",
        "colab_type": "text"
      },
      "source": [
        "<a href=\"https://colab.research.google.com/github/wjdgoruds2/AI-_assignment/blob/master/Fuzzy_2.ipynb\" target=\"_parent\"><img src=\"https://colab.research.google.com/assets/colab-badge.svg\" alt=\"Open In Colab\"/></a>"
      ]
    },
    {
      "cell_type": "code",
      "metadata": {
        "id": "AEYI8xFyfMk6",
        "outputId": "24d5cce5-08e8-4014-913f-5330a5079247",
        "colab": {
          "base_uri": "https://localhost:8080/"
        }
      },
      "source": [
        "\n",
        "def membership(domain,mf,val):\n",
        "  return fuzz.interp_membership(domain,mf,val)\n",
        "\n",
        "def compute_tip_amount(qual_val,serv_val):\n",
        "  qual_level_poor=fuzz.interp_membership(x_qual,qual_poor,qual_val)\n",
        "  qual_level_amazing=fuzz.interp_membership(x_qual,qual_amazing,qual_val)\n",
        "\n",
        "  serv_level_poor=fuzz.interp_membership(x_serv,serv_poor,serv_val)\n",
        "  serv_level_acceptable=fuzz.interp_membership(x_serv,serv_acceptable,serv_val)\n",
        "  serv_level_amazing=fuzz.interp_membership(x_serv,serv_amazing,serv_val)\n",
        "\n",
        "  satisfaction_rule1=np.fmax(qual_level_poor,serv_level_poor)\n",
        "  tip_activation_low=np.fmin(satisfaction_rule1,tip_low)\n",
        "\n",
        "  tip_activation_medium=np.fmin(serv_level_acceptable,tip_medium)\n",
        "\n",
        "  satisfaction_rule3=np.fmax(qual_level_amazing,serv_level_amazing)\n",
        "  tip_activation_high=np.fmin(satisfaction_rule3,tip_high)\n",
        "  tip0=np.zeros_like(x_tip)\n",
        "\n",
        "  aggregated=np.fmax(tip_activation_low,np.fmax(tip_activation_medium,tip_activation_high))\n",
        "\n",
        "  tip=fuzz.defuzz(x_tip,aggregated,'centroid')\n",
        "  return tip\n",
        "\n",
        "print('food quality score=6.6,service score=9일 때 팀: ',compute_tip_amount(6.6,9))"
      ],
      "execution_count": 34,
      "outputs": [
        {
          "output_type": "stream",
          "text": [
            "food quality score=6.6,service score=9일 때 팀:  24.992850007852898\n"
          ],
          "name": "stdout"
        }
      ]
    },
    {
      "cell_type": "code",
      "metadata": {
        "id": "x2pH3VTZl4Za",
        "outputId": "e9d3365c-9d09-4379-e275-f8aae4d7d610",
        "colab": {
          "base_uri": "https://localhost:8080/"
        }
      },
      "source": [
        ""
      ],
      "execution_count": 10,
      "outputs": [
        {
          "output_type": "stream",
          "text": [
            "Collecting scikit-fuzzy\n",
            "\u001b[?25l  Downloading https://files.pythonhosted.org/packages/6c/f0/5eb5dbe0fd8dfe7d4651a8f4e591a196623a22b9e5339101e559695b4f6c/scikit-fuzzy-0.4.2.tar.gz (993kB)\n",
            "\r\u001b[K     |▎                               | 10kB 14.9MB/s eta 0:00:01\r\u001b[K     |▋                               | 20kB 2.7MB/s eta 0:00:01\r\u001b[K     |█                               | 30kB 3.5MB/s eta 0:00:01\r\u001b[K     |█▎                              | 40kB 3.8MB/s eta 0:00:01\r\u001b[K     |█▋                              | 51kB 3.2MB/s eta 0:00:01\r\u001b[K     |██                              | 61kB 3.5MB/s eta 0:00:01\r\u001b[K     |██▎                             | 71kB 3.7MB/s eta 0:00:01\r\u001b[K     |██▋                             | 81kB 4.1MB/s eta 0:00:01\r\u001b[K     |███                             | 92kB 4.3MB/s eta 0:00:01\r\u001b[K     |███▎                            | 102kB 4.3MB/s eta 0:00:01\r\u001b[K     |███▋                            | 112kB 4.3MB/s eta 0:00:01\r\u001b[K     |████                            | 122kB 4.3MB/s eta 0:00:01\r\u001b[K     |████▎                           | 133kB 4.3MB/s eta 0:00:01\r\u001b[K     |████▋                           | 143kB 4.3MB/s eta 0:00:01\r\u001b[K     |█████                           | 153kB 4.3MB/s eta 0:00:01\r\u001b[K     |█████▎                          | 163kB 4.3MB/s eta 0:00:01\r\u001b[K     |█████▋                          | 174kB 4.3MB/s eta 0:00:01\r\u001b[K     |██████                          | 184kB 4.3MB/s eta 0:00:01\r\u001b[K     |██████▎                         | 194kB 4.3MB/s eta 0:00:01\r\u001b[K     |██████▋                         | 204kB 4.3MB/s eta 0:00:01\r\u001b[K     |███████                         | 215kB 4.3MB/s eta 0:00:01\r\u001b[K     |███████▎                        | 225kB 4.3MB/s eta 0:00:01\r\u001b[K     |███████▋                        | 235kB 4.3MB/s eta 0:00:01\r\u001b[K     |████████                        | 245kB 4.3MB/s eta 0:00:01\r\u001b[K     |████████▎                       | 256kB 4.3MB/s eta 0:00:01\r\u001b[K     |████████▋                       | 266kB 4.3MB/s eta 0:00:01\r\u001b[K     |█████████                       | 276kB 4.3MB/s eta 0:00:01\r\u001b[K     |█████████▎                      | 286kB 4.3MB/s eta 0:00:01\r\u001b[K     |█████████▋                      | 296kB 4.3MB/s eta 0:00:01\r\u001b[K     |██████████                      | 307kB 4.3MB/s eta 0:00:01\r\u001b[K     |██████████▏                     | 317kB 4.3MB/s eta 0:00:01\r\u001b[K     |██████████▌                     | 327kB 4.3MB/s eta 0:00:01\r\u001b[K     |██████████▉                     | 337kB 4.3MB/s eta 0:00:01\r\u001b[K     |███████████▏                    | 348kB 4.3MB/s eta 0:00:01\r\u001b[K     |███████████▌                    | 358kB 4.3MB/s eta 0:00:01\r\u001b[K     |███████████▉                    | 368kB 4.3MB/s eta 0:00:01\r\u001b[K     |████████████▏                   | 378kB 4.3MB/s eta 0:00:01\r\u001b[K     |████████████▌                   | 389kB 4.3MB/s eta 0:00:01\r\u001b[K     |████████████▉                   | 399kB 4.3MB/s eta 0:00:01\r\u001b[K     |█████████████▏                  | 409kB 4.3MB/s eta 0:00:01\r\u001b[K     |█████████████▌                  | 419kB 4.3MB/s eta 0:00:01\r\u001b[K     |█████████████▉                  | 430kB 4.3MB/s eta 0:00:01\r\u001b[K     |██████████████▏                 | 440kB 4.3MB/s eta 0:00:01\r\u001b[K     |██████████████▌                 | 450kB 4.3MB/s eta 0:00:01\r\u001b[K     |██████████████▉                 | 460kB 4.3MB/s eta 0:00:01\r\u001b[K     |███████████████▏                | 471kB 4.3MB/s eta 0:00:01\r\u001b[K     |███████████████▌                | 481kB 4.3MB/s eta 0:00:01\r\u001b[K     |███████████████▉                | 491kB 4.3MB/s eta 0:00:01\r\u001b[K     |████████████████▏               | 501kB 4.3MB/s eta 0:00:01\r\u001b[K     |████████████████▌               | 512kB 4.3MB/s eta 0:00:01\r\u001b[K     |████████████████▉               | 522kB 4.3MB/s eta 0:00:01\r\u001b[K     |█████████████████▏              | 532kB 4.3MB/s eta 0:00:01\r\u001b[K     |█████████████████▌              | 542kB 4.3MB/s eta 0:00:01\r\u001b[K     |█████████████████▉              | 552kB 4.3MB/s eta 0:00:01\r\u001b[K     |██████████████████▏             | 563kB 4.3MB/s eta 0:00:01\r\u001b[K     |██████████████████▌             | 573kB 4.3MB/s eta 0:00:01\r\u001b[K     |██████████████████▉             | 583kB 4.3MB/s eta 0:00:01\r\u001b[K     |███████████████████▏            | 593kB 4.3MB/s eta 0:00:01\r\u001b[K     |███████████████████▌            | 604kB 4.3MB/s eta 0:00:01\r\u001b[K     |███████████████████▉            | 614kB 4.3MB/s eta 0:00:01\r\u001b[K     |████████████████████            | 624kB 4.3MB/s eta 0:00:01\r\u001b[K     |████████████████████▍           | 634kB 4.3MB/s eta 0:00:01\r\u001b[K     |████████████████████▊           | 645kB 4.3MB/s eta 0:00:01\r\u001b[K     |█████████████████████           | 655kB 4.3MB/s eta 0:00:01\r\u001b[K     |█████████████████████▍          | 665kB 4.3MB/s eta 0:00:01\r\u001b[K     |█████████████████████▊          | 675kB 4.3MB/s eta 0:00:01\r\u001b[K     |██████████████████████          | 686kB 4.3MB/s eta 0:00:01\r\u001b[K     |██████████████████████▍         | 696kB 4.3MB/s eta 0:00:01\r\u001b[K     |██████████████████████▊         | 706kB 4.3MB/s eta 0:00:01\r\u001b[K     |███████████████████████         | 716kB 4.3MB/s eta 0:00:01\r\u001b[K     |███████████████████████▍        | 727kB 4.3MB/s eta 0:00:01\r\u001b[K     |███████████████████████▊        | 737kB 4.3MB/s eta 0:00:01\r\u001b[K     |████████████████████████        | 747kB 4.3MB/s eta 0:00:01\r\u001b[K     |████████████████████████▍       | 757kB 4.3MB/s eta 0:00:01\r\u001b[K     |████████████████████████▊       | 768kB 4.3MB/s eta 0:00:01\r\u001b[K     |█████████████████████████       | 778kB 4.3MB/s eta 0:00:01\r\u001b[K     |█████████████████████████▍      | 788kB 4.3MB/s eta 0:00:01\r\u001b[K     |█████████████████████████▊      | 798kB 4.3MB/s eta 0:00:01\r\u001b[K     |██████████████████████████      | 808kB 4.3MB/s eta 0:00:01\r\u001b[K     |██████████████████████████▍     | 819kB 4.3MB/s eta 0:00:01\r\u001b[K     |██████████████████████████▊     | 829kB 4.3MB/s eta 0:00:01\r\u001b[K     |███████████████████████████     | 839kB 4.3MB/s eta 0:00:01\r\u001b[K     |███████████████████████████▍    | 849kB 4.3MB/s eta 0:00:01\r\u001b[K     |███████████████████████████▊    | 860kB 4.3MB/s eta 0:00:01\r\u001b[K     |████████████████████████████    | 870kB 4.3MB/s eta 0:00:01\r\u001b[K     |████████████████████████████▍   | 880kB 4.3MB/s eta 0:00:01\r\u001b[K     |████████████████████████████▊   | 890kB 4.3MB/s eta 0:00:01\r\u001b[K     |█████████████████████████████   | 901kB 4.3MB/s eta 0:00:01\r\u001b[K     |█████████████████████████████▍  | 911kB 4.3MB/s eta 0:00:01\r\u001b[K     |█████████████████████████████▊  | 921kB 4.3MB/s eta 0:00:01\r\u001b[K     |██████████████████████████████  | 931kB 4.3MB/s eta 0:00:01\r\u001b[K     |██████████████████████████████▎ | 942kB 4.3MB/s eta 0:00:01\r\u001b[K     |██████████████████████████████▋ | 952kB 4.3MB/s eta 0:00:01\r\u001b[K     |███████████████████████████████ | 962kB 4.3MB/s eta 0:00:01\r\u001b[K     |███████████████████████████████▎| 972kB 4.3MB/s eta 0:00:01\r\u001b[K     |███████████████████████████████▋| 983kB 4.3MB/s eta 0:00:01\r\u001b[K     |████████████████████████████████| 993kB 4.3MB/s eta 0:00:01\r\u001b[K     |████████████████████████████████| 1.0MB 4.3MB/s \n",
            "\u001b[?25hRequirement already satisfied: numpy>=1.6.0 in /usr/local/lib/python3.6/dist-packages (from scikit-fuzzy) (1.18.5)\n",
            "Requirement already satisfied: scipy>=0.9.0 in /usr/local/lib/python3.6/dist-packages (from scikit-fuzzy) (1.4.1)\n",
            "Requirement already satisfied: networkx>=1.9.0 in /usr/local/lib/python3.6/dist-packages (from scikit-fuzzy) (2.5)\n",
            "Requirement already satisfied: decorator>=4.3.0 in /usr/local/lib/python3.6/dist-packages (from networkx>=1.9.0->scikit-fuzzy) (4.4.2)\n",
            "Building wheels for collected packages: scikit-fuzzy\n",
            "  Building wheel for scikit-fuzzy (setup.py) ... \u001b[?25l\u001b[?25hdone\n",
            "  Created wheel for scikit-fuzzy: filename=scikit_fuzzy-0.4.2-cp36-none-any.whl size=894070 sha256=cf49e3c9a9e250ea8899c92750138f1a5252b4b362565a9475a47cae78f15db3\n",
            "  Stored in directory: /root/.cache/pip/wheels/b9/4e/77/da79b16f64ef1738d95486e2731eea09d73e90a72465096600\n",
            "Successfully built scikit-fuzzy\n",
            "Installing collected packages: scikit-fuzzy\n",
            "Successfully installed scikit-fuzzy-0.4.2\n"
          ],
          "name": "stdout"
        }
      ]
    }
  ]
}
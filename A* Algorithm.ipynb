{
  "nbformat": 4,
  "nbformat_minor": 0,
  "metadata": {
    "colab": {
      "name": "Colaboratory에 오신 것을 환영합니다",
      "provenance": [],
      "collapsed_sections": [],
      "include_colab_link": true
    },
    "kernelspec": {
      "display_name": "Python 3",
      "name": "python3"
    }
  },
  "cells": [
    {
      "cell_type": "markdown",
      "metadata": {
        "id": "view-in-github",
        "colab_type": "text"
      },
      "source": [
        "<a href=\"https://colab.research.google.com/github/wjdgoruds2/AI-_assignment/blob/master/A*%20Algorithm.ipynb\" target=\"_parent\"><img src=\"https://colab.research.google.com/assets/colab-badge.svg\" alt=\"Open In Colab\"/></a>"
      ]
    },
    {
      "cell_type": "code",
      "metadata": {
        "id": "E4AM8Vz6wpkf",
        "colab_type": "code",
        "colab": {
          "base_uri": "https://localhost:8080/",
          "height": 535
        },
        "outputId": "266efb03-5bff-4332-d89d-5129ef2441c8"
      },
      "source": [
        "import numpy as np\n",
        "import heapq\n",
        "import matplotlib.pyplot as plt\n",
        "from matplotlib.pyplot import figure\n",
        "\n",
        "grid=np.array([\n",
        "               [0,1,0,0,0,0,1,1,0,0,0,0,0,0,0,0,0,0,0,0],\n",
        "               [0,1,0,0,0,0,0,1,1,0,0,0,0,0,0,0,0,0,0,0],\n",
        "               [0,0,0,0,0,0,1,0,1,0,0,0,0,0,0,0,0,0,0,0],\n",
        "               [0,0,1,0,0,0,0,0,1,0,0,0,0,0,0,0,0,0,0,0],\n",
        "               [0,0,0,0,0,0,0,0,1,0,0,0,0,0,0,0,0,0,0,0],\n",
        "               [1,0,0,1,1,1,0,0,1,0,0,0,0,0,0,0,0,0,0,0],\n",
        "               [1,0,0,0,0,0,0,0,1,0,0,0,0,1,1,1,1,1,0,1],\n",
        "               [1,0,0,0,0,0,0,0,1,0,0,0,0,1,1,1,0,0,0,0],\n",
        "               [1,0,0,0,0,0,0,0,1,0,0,0,0,1,1,1,0,0,0,0],\n",
        "               [0,0,0,0,0,0,0,0,1,1,1,1,1,1,0,0,0,0,0,0],\n",
        "               [0,0,0,0,0,0,0,0,1,0,0,0,0,0,0,0,0,0,0,0],\n",
        "               [1,1,1,1,1,0,0,0,1,0,0,0,0,0,0,0,1,1,1,1],\n",
        "               [0,0,0,0,0,0,0,0,1,0,0,1,1,1,1,0,1,1,1,0],\n",
        "               [0,0,0,0,0,0,0,0,1,0,0,0,0,0,0,0,0,0,0,0],\n",
        "               [0,0,0,0,0,0,0,0,1,1,1,1,1,1,0,1,1,1,0,0],\n",
        "               [0,0,1,1,1,1,1,1,1,0,0,0,0,1,0,0,0,0,0,0],\n",
        "               [0,0,1,0,0,0,0,0,0,0,0,0,0,1,0,0,0,0,0,0],\n",
        "               [0,0,1,0,0,0,0,0,0,0,0,0,0,0,0,0,0,0,0,0],\n",
        "               [0,0,0,0,0,0,0,0,0,0,0,0,0,1,0,0,0,0,0,0],\n",
        "               [0,0,1,1,1,0,1,1,0,0,0,0,0,0,0,0,0,0,0,0],\n",
        "\n",
        "])\n",
        "start=(0,0)\n",
        "goal=(0,19)\n",
        "\n",
        "def heuristic(a,b):\n",
        "    return np.sqrt((b[0]-a[0])**2+(b[1]-a[1])**2)\n",
        "\n",
        "def Astar(array,start,goal):\n",
        "  neighbors=[(0,1),(0,-1),(1,0),(-1,0),(1,1),(1,-1),(-1,1),(-1,-1)]\n",
        "  close_set=set()\n",
        "  came_from={}\n",
        "  gscore={start:0}\n",
        "  fscore={start:heuristic(start,goal)}\n",
        "  oheap=[]\n",
        "  heapq.heappush(oheap,(fscore[start],start))\n",
        "\n",
        "  while oheap:\n",
        "    current=heapq.heappop(oheap)[1]\n",
        "    if current==goal:\n",
        "      data=[]\n",
        "      while current in came_from:\n",
        "        data.append(current)\n",
        "        current=came_from[current]\n",
        "      return data\n",
        "    close_set.add(current)\n",
        "\n",
        "    \n",
        "\n",
        "    for i,j in neighbors:\n",
        "      neighbor=current[0]+i,current[1]+j\n",
        "      if 0<=neighbor[0]<array.shape[0]:\n",
        "        if 0<=neighbor[1]<array.shape[1]:\n",
        "          if array[neighbor[0]][neighbor[1]]==1:\n",
        "            continue\n",
        "        else:\n",
        "            continue\n",
        "      else:\n",
        "          continue\n",
        "\n",
        "      temp_g_score=gscore[current]+heuristic(current,neighbor)\n",
        "      if neighbor in close_set and temp_g_score>=gscore.get(neighbor,0):\n",
        "        continue\n",
        "        \n",
        "      if temp_g_score<gscore.get(neighbor,0) or neighbor not in [i[1] for i in oheap]:\n",
        "        came_from[neighbor]=current\n",
        "        gscore[neighbor]=temp_g_score\n",
        "        fscore[neighbor]=temp_g_score+heuristic(neighbor,goal)\n",
        "        heapq.heappush(oheap,(fscore[neighbor],neighbor))\n",
        "  return False\n",
        "\n",
        "route=Astar(grid,start,goal)\n",
        "route=route + [start]\n",
        "route=route[::-1]\n",
        "print('경로: ')\n",
        "start_pos=0\n",
        "end_pos=len(route)\n",
        "div=10\n",
        "for idx in range(start_pos,end_pos+div,div):\n",
        "  out=route[start_pos:start_pos+10]\n",
        "  if out !=[]:\n",
        "    print(out)\n",
        "  start_pos=start_pos+div\n",
        "\n",
        "\n",
        "x_coords=[]\n",
        "y_coords=[]\n",
        "for i in (range(0,len(route))):\n",
        "  x = route[i][0]\n",
        "  y = route[i][1]\n",
        "  x_coords.append(x)\n",
        "  y_coords.append(y)\n",
        "\n",
        "fix,ax=plt.subplots(figsize=(7,7))\n",
        "ax.imshow(grid,cmap=plt.cm.Pastel1)\n",
        "ax.scatter(start[1],start[0],marker=  \"*\",  color=  \"red\",  s=200)\n",
        "ax.scatter(goal[1],goal[0],marker=  \"*\",  color=  \"green\",  s=200)\n",
        "ax.plot(y_coords,x_coords,color=  \"blue\")\n",
        "plt.show()\n"
      ],
      "execution_count": 19,
      "outputs": [
        {
          "output_type": "stream",
          "text": [
            "경로: \n",
            "[(0, 0), (1, 0), (2, 1), (3, 1), (4, 2), (5, 2), (6, 3), (7, 4), (8, 5), (9, 5)]\n",
            "[(10, 5), (11, 5), (12, 4), (13, 3), (14, 2), (15, 1), (16, 1), (17, 1), (18, 2), (18, 3)]\n",
            "[(18, 4), (18, 5), (18, 6), (18, 7), (18, 8), (18, 9), (18, 10), (18, 11), (18, 12), (17, 13)]\n",
            "[(16, 14), (15, 14), (14, 14), (13, 14), (12, 15), (11, 15), (10, 15), (9, 15), (8, 16), (7, 17)]\n",
            "[(6, 18), (5, 18), (4, 18), (3, 18), (2, 18), (1, 18), (0, 19)]\n"
          ],
          "name": "stdout"
        },
        {
          "output_type": "display_data",
          "data": {
            "image/png": "[encoded data removed]",
            "text/plain": [
              "<Figure size 504x504 with 1 Axes>"
            ]
          },
          "metadata": {
            "tags": [],
            "needs_background": "light"
          }
        }
      ]
    }
  ]
}
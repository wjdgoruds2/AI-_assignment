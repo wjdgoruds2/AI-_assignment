{
  "nbformat": 4,
  "nbformat_minor": 0,
  "metadata": {
    "colab": {
      "name": "Untitled12.ipynb",
      "provenance": [],
      "collapsed_sections": [],
      "authorship_tag": "ABX9TyMU3VyL5UtBoaJPeqY/F88u",
      "include_colab_link": true
    },
    "kernelspec": {
      "name": "python3",
      "display_name": "Python 3"
    }
  },
  "cells": [
    {
      "cell_type": "markdown",
      "metadata": {
        "id": "view-in-github",
        "colab_type": "text"
      },
      "source": [
        "<a href=\"https://colab.research.google.com/github/wjdgoruds2/AI-_assignment/blob/master/Decision%20tree.ipynb\" target=\"_parent\"><img src=\"https://colab.research.google.com/assets/colab-badge.svg\" alt=\"Open In Colab\"/></a>"
      ]
    },
    {
      "cell_type": "code",
      "metadata": {
        "id": "cu5GDiAQzRLs",
        "outputId": "5553096e-1a71-4f4d-c6e8-c0ccad6269f5",
        "colab": {
          "base_uri": "https://localhost:8080/",
          "height": 286
        }
      },
      "source": [
        "from sklearn import datasets\n",
        "import numpy as np\n",
        "\n",
        "def test_split(index,value,dataset):\n",
        "  left,right=list(),list()\n",
        "  for row in dataset:\n",
        "    if row[index]<value:\n",
        "      left.append(row)\n",
        "    else:\n",
        "      right.append(row)\n",
        "  return left,right\n",
        "\n",
        "def gini_index(groups,classes):\n",
        "  n_instances=float(sum([len(group)for group in groups]))\n",
        "  gini=0.0\n",
        "  for group in groups:\n",
        "    size=float(len(group))\n",
        "    if size==0:\n",
        "      continue\n",
        "    score=0.0\n",
        "    for class_val in classes:\n",
        "      p=[row[-1]for row in group].count(class_val)/size\n",
        "      score += p*p\n",
        "    gini += (1.0-score)*(size/n_instances)\n",
        "  return gini\n",
        "\n",
        "def get_split(dataset):\n",
        "  class_values=list(set(row[-1] for row in dataset))\n",
        "  b_index,b_value,b_score,b_groups=999,999,999,None\n",
        "  for index in range(len(dataset[0])-1):\n",
        "    for row in dataset:\n",
        "      groups=test_split(index,row[index],dataset)\n",
        "      gini=gini_index(groups,class_values)\n",
        "      if gini<b_score:\n",
        "        b_index,b_value,b_score,b_groups=index,row[index],gini,groups\n",
        "  return {'index': b_index,'value':b_value,'groups':b_groups}\n",
        "\n",
        "def split(node,max_depth,min_size,depth):\n",
        "  left,right=node['groups']\n",
        "  del(node['groups'])\n",
        "  if not left or not right:\n",
        "    node['left']=node['right']=to_terminal(left+right)\n",
        "    return\n",
        "  if depth>=max_depth:\n",
        "    node['left'],node['right']=to_terminal(left),to_terminal(right)\n",
        "    return\n",
        "  if len(left) <=min_size:\n",
        "    node['left']=to_terminal(left)\n",
        "  else:\n",
        "    node['left']=get_split(left)\n",
        "    split(node['left'],max_depth,min_size,depth+1)\n",
        "  if len(right)<=min_size:\n",
        "    node['right']=to_terminal(right)\n",
        "  else:\n",
        "    node['right']=get_split(right)\n",
        "    split(node['right'],max_depth,min_size,depth+1)\n",
        "\n",
        "def to_terminal(group):\n",
        "  outcomes=[row[-1]for row in group]\n",
        "  return max(set(outcomes),key=outcomes.count)\n",
        "\n",
        "def bulid_tree(train,max_depth,min_size):\n",
        "  root=get_split(train)\n",
        "  split(root,max_depth,min_size,1)\n",
        "  return root\n",
        "\n",
        "def print_tree(node,depth=0):\n",
        "  if isinstance(node,dict):\n",
        "    print('%s[X%d < %.3f]'%((depth*'',(node['index']+1),node['value'])))\n",
        "    print_tree(node['left'],depth+1)\n",
        "    print_tree(node['right'],depth+1)\n",
        "  else:\n",
        "    print('%s[%s]'%((depth*'',node)))\n",
        "\n",
        "iris=datasets.load_iris()\n",
        "dataset=np.c_[iris.data,iris.target]\n",
        "\n",
        "tree=bulid_tree(dataset,3,1)\n",
        "print_tree(tree)\n"
      ],
      "execution_count": 30,
      "outputs": [
        {
          "output_type": "stream",
          "text": [
            "[X3 < 3.000]\n",
            "[X1 < 5.100]\n",
            "[X1 < 4.900]\n",
            "[0.0]\n",
            "[0.0]\n",
            "[X1 < 5.100]\n",
            "[0.0]\n",
            "[0.0]\n",
            "[X4 < 1.800]\n",
            "[X3 < 5.000]\n",
            "[1.0]\n",
            "[2.0]\n",
            "[X3 < 4.900]\n",
            "[2.0]\n",
            "[2.0]\n"
          ],
          "name": "stdout"
        }
      ]
    },
    {
      "cell_type": "code",
      "metadata": {
        "id": "1RCgfZzM-hyJ"
      },
      "source": [
        ""
      ],
      "execution_count": null,
      "outputs": []
    }
  ]
}
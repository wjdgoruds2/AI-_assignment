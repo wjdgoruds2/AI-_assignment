{
  "nbformat": 4,
  "nbformat_minor": 0,
  "metadata": {
    "colab": {
      "name": "sklean_MLP.ipynb",
      "provenance": [],
      "authorship_tag": "ABX9TyNUJ9f+8ay/wHWRbFXgtOE8",
      "include_colab_link": true
    },
    "kernelspec": {
      "name": "python3",
      "display_name": "Python 3"
    }
  },
  "cells": [
    {
      "cell_type": "markdown",
      "metadata": {
        "id": "view-in-github",
        "colab_type": "text"
      },
      "source": [
        "<a href=\"https://colab.research.google.com/github/wjdgoruds2/AI-_assignment/blob/master/sklearn_MLP.ipynb\" target=\"_parent\"><img src=\"https://colab.research.google.com/assets/colab-badge.svg\" alt=\"Open In Colab\"/></a>"
      ]
    },
    {
      "cell_type": "code",
      "metadata": {
        "id": "jiZXncUoarZN",
        "outputId": "811717f6-ac4e-4727-b9dc-e711375cc62d",
        "colab": {
          "base_uri": "https://localhost:8080/"
        }
      },
      "source": [
        "import pandas as pd\n",
        "from sklearn.datasets import load_wine\n",
        "from sklearn.model_selection import train_test_split\n",
        "from sklearn.preprocessing import StandardScaler\n",
        "from sklearn.neural_network import MLPClassifier\n",
        "from sklearn.metrics import classification_report,confusion_matrix\n",
        "\n",
        "wine=load_wine()\n",
        "data=pd.DataFrame(data=wine['data'],columns=wine['feature_names'])\n",
        "print(data.head())\n",
        "\n",
        "X=wine.data\n",
        "y=wine.target\n",
        "X_train,X_test,y_train,y_test=train_test_split(X,y)\n",
        "\n",
        "scaler=StandardScaler()\n",
        "scaler.fit(X_train)\n",
        "StandardScaler(copy=True,with_mean=True,with_std=True)\n",
        "\n",
        "X_train=scaler.transform(X_train)\n",
        "X_test=scaler.transform(X_test)\n",
        "\n",
        "mlp=MLPClassifier(hidden_layer_sizes=(13,13,13),max_iter=500)\n",
        "mlp.fit(X_train,y_train)\n",
        "predictions=mlp.predict(X_test)\n",
        "print(confusion_matrix(y_test,predictions))\n",
        "print(classification_report(y_test,predictions))"
      ],
      "execution_count": 76,
      "outputs": [
        {
          "output_type": "stream",
          "text": [
            "   alcohol  malic_acid   ash  ...   hue  od280/od315_of_diluted_wines  proline\n",
            "0    14.23        1.71  2.43  ...  1.04                          3.92   1065.0\n",
            "1    13.20        1.78  2.14  ...  1.05                          3.40   1050.0\n",
            "2    13.16        2.36  2.67  ...  1.03                          3.17   1185.0\n",
            "3    14.37        1.95  2.50  ...  0.86                          3.45   1480.0\n",
            "4    13.24        2.59  2.87  ...  1.04                          2.93    735.0\n",
            "\n",
            "[5 rows x 13 columns]\n",
            "[[14  0  0]\n",
            " [ 2 12  0]\n",
            " [ 0  1 16]]\n",
            "              precision    recall  f1-score   support\n",
            "\n",
            "           0       0.88      1.00      0.93        14\n",
            "           1       0.92      0.86      0.89        14\n",
            "           2       1.00      0.94      0.97        17\n",
            "\n",
            "    accuracy                           0.93        45\n",
            "   macro avg       0.93      0.93      0.93        45\n",
            "weighted avg       0.94      0.93      0.93        45\n",
            "\n"
          ],
          "name": "stdout"
        }
      ]
    }
  ]
}
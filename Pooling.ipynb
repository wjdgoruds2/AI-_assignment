{
  "nbformat": 4,
  "nbformat_minor": 0,
  "metadata": {
    "colab": {
      "name": "Untitled18.ipynb",
      "provenance": [],
      "authorship_tag": "ABX9TyNbKTi29d2u6LSyIx/N2S3q",
      "include_colab_link": true
    },
    "kernelspec": {
      "name": "python3",
      "display_name": "Python 3"
    }
  },
  "cells": [
    {
      "cell_type": "markdown",
      "metadata": {
        "id": "view-in-github",
        "colab_type": "text"
      },
      "source": [
        "<a href=\"https://colab.research.google.com/github/wjdgoruds2/AI-_assignment/blob/master/Pooling.ipynb\" target=\"_parent\"><img src=\"https://colab.research.google.com/assets/colab-badge.svg\" alt=\"Open In Colab\"/></a>"
      ]
    },
    {
      "cell_type": "code",
      "metadata": {
        "colab": {
          "base_uri": "https://localhost:8080/"
        },
        "id": "crsFYq2qpOqI",
        "outputId": "6a4e3c23-3b2a-4be1-9cfd-9d296cefb7de"
      },
      "source": [
        "import numpy as np\n",
        "def maxPooling(mat,K,L):\n",
        "  M,N=mat.shape\n",
        "  MK=M//K\n",
        "  NL=N//L\n",
        "  pmat=mat[:MK*K,:NL*L].reshape(MK,K,NL,L).max(axis=(1,3))\n",
        "  return pmat\n",
        "\n",
        "mat=np.array([[20,200,-5,23],\n",
        "              [-13,134,119,100],\n",
        "              [120,32,49,25],\n",
        "              [-120,12,9,23]])\n",
        "print(maxPooling(mat,2,2))"
      ],
      "execution_count": 3,
      "outputs": [
        {
          "output_type": "stream",
          "text": [
            "[[200 119]\n",
            " [120  49]]\n"
          ],
          "name": "stdout"
        }
      ]
    },
    {
      "cell_type": "code",
      "metadata": {
        "id": "Na_FP-_9pbiR"
      },
      "source": [
        ""
      ],
      "execution_count": null,
      "outputs": []
    }
  ]
}
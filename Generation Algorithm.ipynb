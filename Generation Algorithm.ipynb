{
  "nbformat": 4,
  "nbformat_minor": 0,
  "metadata": {
    "colab": {
      "name": "Untitled1.ipynb",
      "provenance": [],
      "authorship_tag": "ABX9TyMS+pfvSr+lT8M63fVhRQwo",
      "include_colab_link": true
    },
    "kernelspec": {
      "name": "python3",
      "display_name": "Python 3"
    }
  },
  "cells": [
    {
      "cell_type": "markdown",
      "metadata": {
        "id": "view-in-github",
        "colab_type": "text"
      },
      "source": [
        "<a href=\"https://colab.research.google.com/github/wjdgoruds2/AI-_assignment/blob/master/generation%20algorithm.ipynb\" target=\"_parent\"><img src=\"https://colab.research.google.com/assets/colab-badge.svg\" alt=\"Open In Colab\"/></a>"
      ]
    },
    {
      "cell_type": "code",
      "metadata": {
        "id": "JYv3FZ7En9qs",
        "colab_type": "code",
        "colab": {
          "base_uri": "https://localhost:8080/",
          "height": 390
        },
        "outputId": "d96b8c46-202b-4c69-f60e-0b8938a61ad1"
      },
      "source": [
        "import numpy\n",
        "\n",
        "def cal_pop_fitness(equation_inputs,pop):\n",
        "  fitness=numpy.sum(pop*equation_inputs,axis=1)\n",
        "  return fitness\n",
        "\n",
        "def select_mating_pool(pop,fitness,num_parents):\n",
        "  parents=numpy.empty((num_parents,pop.shape[1]))\n",
        "  for parent_num in range(num_parents):\n",
        "    max_fitness_idx=numpy.where(fitness==numpy.max(fitness))\n",
        "    max_fitness_idx=max_fitness_idx[0][0]\n",
        "    parents[parent_num, :]=pop[max_fitness_idx, :]\n",
        "    fitness[max_fitness_idx]=-99999999\n",
        "  return parents\n",
        "\n",
        "def crossover(parents,offspring_size):\n",
        "  offspring=numpy.empty(offspring_size)\n",
        "  crossover_point=numpy.uint8(numpy.random.randint(1,offspring_size[1]-1))\n",
        "\n",
        "  for k in range(offspring_size[0]):\n",
        "    parent1_idx=k%parents.shape[0]\n",
        "    parent2_idx=(k+1)%parents.shape[0]\n",
        "    offspring[k,0:crossover_point]=parents[parent1_idx,0:crossover_point]\n",
        "    offspring[k,crossover_point:]=parents[parent2_idx,crossover_point:]\n",
        "  return offspring\n",
        "\n",
        "def mutation(offspring_crossover):\n",
        "  m_ptr=numpy.uint8(numpy.random.randint(0,offspring_crossover.shape[1]-1))\n",
        "  for idx in range(offspring_crossover.shape[0]):\n",
        "    random_value=numpy.random.uniform(-1.0, 1.0, 1)\n",
        "    offspring_crossover[idx,m_ptr]=offspring_crossover[idx,m_ptr]+random_value\n",
        "  return offspring_crossover\n",
        "\n",
        "equation_inputs=[4, -1, 3.1, 4, -6, -4.5]\n",
        "num_weights=6\n",
        "\n",
        "sol_per_pop=8\n",
        "num_parents_mating=4\n",
        "\n",
        "pop_size=(sol_per_pop,num_weights)\n",
        "new_population=numpy.random.uniform(low=-4.0,high=4.0,size=pop_size)\n",
        "print(new_population)\n",
        "\n",
        "num_generations=10\n",
        "for generation in range(num_generations):\n",
        "  fitness=cal_pop_fitness(equation_inputs,new_population)\n",
        "  parents=select_mating_pool(new_population,fitness,num_parents_mating)\n",
        "  offspring_crossover=crossover(parents,offspring_size=(pop_size[0]-parents.shape[0],num_weights))\n",
        "  offspring_mutation=mutation(offspring_crossover)\n",
        "\n",
        "  new_population[0:parents.shape[0],:]=parents\n",
        "  new_population[parents.shape[0]:,:]=offspring_mutation\n",
        "\n",
        "  print(\"세대:\",generation,\"=>  best 해:\",numpy.max(numpy.sum(new_population*equation_inputs,axis=1)))\n",
        "\n",
        "fitness=cal_pop_fitness(equation_inputs,new_population)\n",
        "best_match_idx=numpy.where(fitness==numpy.max(fitness))\n",
        "\n",
        "print(\"최적해:\",new_population[best_match_idx,:])\n",
        "print(\"최적해의 적합도:\",fitness[best_match_idx])"
      ],
      "execution_count": 26,
      "outputs": [
        {
          "output_type": "stream",
          "text": [
            "[[-3.0224764   3.54809465  0.3632315  -2.74293201  2.29089799  3.89184803]\n",
            " [ 0.28405549 -2.24751879  3.32802578  1.48124576 -1.44053687 -3.64231341]\n",
            " [ 2.45751947 -3.63102908 -1.87335686  0.86383675 -3.16727763  0.82929911]\n",
            " [ 0.2831034  -0.25705704 -1.14818171  3.43931839  0.20170011  1.94875352]\n",
            " [ 0.32059846  1.40992514 -0.18672042 -1.0573136  -0.24125196  3.21436497]\n",
            " [-3.86713742  1.24225873 -0.45043841  3.35764227 -1.09512818  0.35870593]\n",
            " [-2.41117813 -0.67702051 -1.87196618 -3.06557797  1.93202224  1.55730078]\n",
            " [ 0.66871538 -3.25074246 -3.80942322 -0.90189254  2.14893366 -3.59726606]]\n",
            "세대: 0 =>  best 해: 44.659235277104294\n",
            "세대: 1 =>  best 해: 47.137702061072076\n",
            "세대: 2 =>  best 해: 49.00583975916919\n",
            "세대: 3 =>  best 해: 49.00583975916919\n",
            "세대: 4 =>  best 해: 49.00583975916919\n",
            "세대: 5 =>  best 해: 51.10685485895219\n",
            "세대: 6 =>  best 해: 55.517070257768914\n",
            "세대: 7 =>  best 해: 55.85127680987631\n",
            "세대: 8 =>  best 해: 57.201010573924705\n",
            "세대: 9 =>  best 해: 59.57259018402292\n",
            "최적해: [[[ 0.28405549 -2.65542259  4.07810926  3.52466287 -2.10829085\n",
            "   -3.64231341]]]\n",
            "최적해의 적합도: [59.57259018]\n"
          ],
          "name": "stdout"
        }
      ]
    },
    {
      "cell_type": "code",
      "metadata": {
        "id": "fL_LYyXkoX61",
        "colab_type": "code",
        "colab": {}
      },
      "source": [
        ""
      ],
      "execution_count": null,
      "outputs": []
    }
  ]
}

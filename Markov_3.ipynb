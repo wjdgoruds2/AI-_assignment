{
  "nbformat": 4,
  "nbformat_minor": 0,
  "metadata": {
    "colab": {
      "name": "Untitled9.ipynb",
      "provenance": [],
      "authorship_tag": "ABX9TyMCHixSSNQcm+uD2f3Ju0a/",
      "include_colab_link": true
    },
    "kernelspec": {
      "name": "python3",
      "display_name": "Python 3"
    }
  },
  "cells": [
    {
      "cell_type": "markdown",
      "metadata": {
        "id": "view-in-github",
        "colab_type": "text"
      },
      "source": [
        "<a href=\"https://colab.research.google.com/github/wjdgoruds2/AI-_assignment/blob/master/Markov_3.ipynb\" target=\"_parent\"><img src=\"https://colab.research.google.com/assets/colab-badge.svg\" alt=\"Open In Colab\"/></a>"
      ]
    },
    {
      "cell_type": "code",
      "metadata": {
        "id": "4OwYJHeZDq7z",
        "outputId": "9313afe4-3976-40c3-f86c-8a11716b9566",
        "colab": {
          "base_uri": "https://localhost:8080/",
          "height": 1000
        }
      },
      "source": [
        "import numpy as np\n",
        "pf_value=model.get_partition_function()\n",
        "print('\\n 분할 함수의 값: ',pf_value)\n",
        "\n",
        "infer=VariableElimination(model)\n",
        "\n",
        "phi_ABCD=infer.query(['A','B','C','D'])\n",
        "print('phi(A,B,C,D)')\n",
        "print(phi_ABCD)\n",
        "P_ABCD=phi_ABCD.values/pf_value\n",
        "PABCD=np.reshape(P_ABCD,-1)\n",
        "for val in PABCD:\n",
        "  print(val,'\\n')\n",
        "\n",
        "A_dist=infer.query(['A'])\n",
        "print('phi(A)')\n",
        "print(A_dist)\n",
        "P_A=A_dist.values/np.sum(A_dist.values)\n",
        "for val in P_A:\n",
        "  print(val,'\\n')\n",
        "\n",
        "AIB0C1_dist=infer.query(['A'],evidence={'B':0,'C':1})\n",
        "print('phi(A|B=0,C=1')\n",
        "print(AIB0C1_dist)\n",
        "P_AIB0C1=AIB0C1_dist.values/np.sum(AIB0C1_dist.values)\n",
        "for val in P_AIB0C1:\n",
        "  print(val,'\\n')\n",
        "\n"
      ],
      "execution_count": 15,
      "outputs": [
        {
          "output_type": "stream",
          "text": [
            "0it [00:00, ?it/s]\n",
            "Eliminating: C: 100%|██████████| 3/3 [00:00<00:00, 140.28it/s]\n",
            "Eliminating: D: 100%|██████████| 1/1 [00:00<00:00, 166.85it/s]"
          ],
          "name": "stderr"
        },
        {
          "output_type": "stream",
          "text": [
            "\n",
            " 분할 함수의 값:  7201840.0\n",
            "phi(A,B,C,D)\n",
            "+------+------+------+------+----------------+\n",
            "| A    | B    | C    | D    |   phi(A,B,C,D) |\n",
            "+======+======+======+======+================+\n",
            "| A(0) | B(0) | C(0) | D(0) |    300000.0000 |\n",
            "+------+------+------+------+----------------+\n",
            "| A(0) | B(0) | C(0) | D(1) |    300000.0000 |\n",
            "+------+------+------+------+----------------+\n",
            "| A(0) | B(0) | C(1) | D(0) |    300000.0000 |\n",
            "+------+------+------+------+----------------+\n",
            "| A(0) | B(0) | C(1) | D(1) |        30.0000 |\n",
            "+------+------+------+------+----------------+\n",
            "| A(0) | B(1) | C(0) | D(0) |       500.0000 |\n",
            "+------+------+------+------+----------------+\n",
            "| A(0) | B(1) | C(0) | D(1) |       500.0000 |\n",
            "+------+------+------+------+----------------+\n",
            "| A(0) | B(1) | C(1) | D(0) |   5000000.0000 |\n",
            "+------+------+------+------+----------------+\n",
            "| A(0) | B(1) | C(1) | D(1) |       500.0000 |\n",
            "+------+------+------+------+----------------+\n",
            "| A(1) | B(0) | C(0) | D(0) |       100.0000 |\n",
            "+------+------+------+------+----------------+\n",
            "| A(1) | B(0) | C(0) | D(1) |   1000000.0000 |\n",
            "+------+------+------+------+----------------+\n",
            "| A(1) | B(0) | C(1) | D(0) |       100.0000 |\n",
            "+------+------+------+------+----------------+\n",
            "| A(1) | B(0) | C(1) | D(1) |       100.0000 |\n",
            "+------+------+------+------+----------------+\n",
            "| A(1) | B(1) | C(0) | D(0) |        10.0000 |\n",
            "+------+------+------+------+----------------+\n",
            "| A(1) | B(1) | C(0) | D(1) |    100000.0000 |\n",
            "+------+------+------+------+----------------+\n",
            "| A(1) | B(1) | C(1) | D(0) |    100000.0000 |\n",
            "+------+------+------+------+----------------+\n",
            "| A(1) | B(1) | C(1) | D(1) |    100000.0000 |\n",
            "+------+------+------+------+----------------+\n",
            "0.0416560212390167 \n",
            "\n",
            "0.0416560212390167 \n",
            "\n",
            "0.0416560212390167 \n",
            "\n",
            "4.16560212390167e-06 \n",
            "\n",
            "6.942670206502783e-05 \n",
            "\n",
            "6.942670206502783e-05 \n",
            "\n",
            "0.6942670206502782 \n",
            "\n",
            "6.942670206502783e-05 \n",
            "\n",
            "1.3885340413005566e-05 \n",
            "\n",
            "0.13885340413005565 \n",
            "\n",
            "1.3885340413005566e-05 \n",
            "\n",
            "1.3885340413005566e-05 \n",
            "\n",
            "1.3885340413005566e-06 \n",
            "\n",
            "0.013885340413005565 \n",
            "\n",
            "0.013885340413005565 \n",
            "\n",
            "0.013885340413005565 \n",
            "\n",
            "phi(A)\n",
            "+------+--------------+\n",
            "| A    |       phi(A) |\n",
            "+======+==============+\n",
            "| A(0) | 5901530.0000 |\n",
            "+------+--------------+\n",
            "| A(1) | 1300310.0000 |\n",
            "+------+--------------+\n",
            "0.8194475300756473 \n",
            "\n",
            "0.18055246992435267 \n",
            "\n",
            "phi(A|B=0,C=1\n",
            "+------+-------------+\n",
            "| A    |      phi(A) |\n",
            "+======+=============+\n",
            "| A(0) | 300030.0000 |\n",
            "+------+-------------+\n",
            "| A(1) |    200.0000 |\n",
            "+------+-------------+\n",
            "0.9993338440528928 \n",
            "\n",
            "0.0006661559471072178 \n",
            "\n"
          ],
          "name": "stdout"
        },
        {
          "output_type": "stream",
          "text": [
            "\n"
          ],
          "name": "stderr"
        }
      ]
    },
    {
      "cell_type": "code",
      "metadata": {
        "id": "2FQRc056Dvvl",
        "outputId": "ad7defb3-383d-49e0-8993-95a2d77c1488",
        "colab": {
          "base_uri": "https://localhost:8080/",
          "height": 322
        }
      },
      "source": [
        "!pip install pgmpy"
      ],
      "execution_count": 5,
      "outputs": [
        {
          "output_type": "stream",
          "text": [
            "Requirement already satisfied: pgmpy in /usr/local/lib/python3.6/dist-packages (0.1.12)\n",
            "Requirement already satisfied: pandas in /usr/local/lib/python3.6/dist-packages (from pgmpy) (1.1.2)\n",
            "Requirement already satisfied: numpy in /usr/local/lib/python3.6/dist-packages (from pgmpy) (1.18.5)\n",
            "Requirement already satisfied: tqdm in /usr/local/lib/python3.6/dist-packages (from pgmpy) (4.41.1)\n",
            "Requirement already satisfied: statsmodels in /usr/local/lib/python3.6/dist-packages (from pgmpy) (0.10.2)\n",
            "Requirement already satisfied: networkx in /usr/local/lib/python3.6/dist-packages (from pgmpy) (2.5)\n",
            "Requirement already satisfied: pyparsing in /usr/local/lib/python3.6/dist-packages (from pgmpy) (2.4.7)\n",
            "Requirement already satisfied: scipy in /usr/local/lib/python3.6/dist-packages (from pgmpy) (1.4.1)\n",
            "Requirement already satisfied: torch in /usr/local/lib/python3.6/dist-packages (from pgmpy) (1.6.0+cu101)\n",
            "Requirement already satisfied: scikit-learn in /usr/local/lib/python3.6/dist-packages (from pgmpy) (0.22.2.post1)\n",
            "Requirement already satisfied: joblib in /usr/local/lib/python3.6/dist-packages (from pgmpy) (0.16.0)\n",
            "Requirement already satisfied: pytz>=2017.2 in /usr/local/lib/python3.6/dist-packages (from pandas->pgmpy) (2018.9)\n",
            "Requirement already satisfied: python-dateutil>=2.7.3 in /usr/local/lib/python3.6/dist-packages (from pandas->pgmpy) (2.8.1)\n",
            "Requirement already satisfied: patsy>=0.4.0 in /usr/local/lib/python3.6/dist-packages (from statsmodels->pgmpy) (0.5.1)\n",
            "Requirement already satisfied: decorator>=4.3.0 in /usr/local/lib/python3.6/dist-packages (from networkx->pgmpy) (4.4.2)\n",
            "Requirement already satisfied: future in /usr/local/lib/python3.6/dist-packages (from torch->pgmpy) (0.16.0)\n",
            "Requirement already satisfied: six>=1.5 in /usr/local/lib/python3.6/dist-packages (from python-dateutil>=2.7.3->pandas->pgmpy) (1.15.0)\n"
          ],
          "name": "stdout"
        }
      ]
    }
  ]
}
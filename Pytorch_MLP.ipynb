{
  "nbformat": 4,
  "nbformat_minor": 0,
  "metadata": {
    "colab": {
      "name": "Untitled19.ipynb",
      "provenance": [],
      "authorship_tag": "ABX9TyNlFIYqZhvy1d3rxuISHfUo",
      "include_colab_link": true
    },
    "kernelspec": {
      "name": "python3",
      "display_name": "Python 3"
    }
  },
  "cells": [
    {
      "cell_type": "markdown",
      "metadata": {
        "id": "view-in-github",
        "colab_type": "text"
      },
      "source": [
        "<a href=\"https://colab.research.google.com/github/wjdgoruds2/AI-_assignment/blob/master/Pytorch_MLP.ipynb\" target=\"_parent\"><img src=\"https://colab.research.google.com/assets/colab-badge.svg\" alt=\"Open In Colab\"/></a>"
      ]
    },
    {
      "cell_type": "code",
      "metadata": {
        "colab": {
          "base_uri": "https://localhost:8080/",
          "height": 283
        },
        "id": "_rq4obvdZ2id",
        "outputId": "5420d87b-42a7-43a2-ea90-3d4fc17bd6e5"
      },
      "source": [
        "from sklearn.datasets import fetch_openml\n",
        "mnist=fetch_openml('mnist_784',version=1,cache=True)\n",
        "\n",
        "X=mnist.data/255\n",
        "y=mnist.target\n",
        "\n",
        "import matplotlib.pyplot as plt\n",
        "plt.imshow(X[0].reshape(28,28),cmap='gray')\n",
        "plt.show()\n",
        "print(\"이미지 레이블:{}\".format(y[0]))\n",
        "\n",
        "import torch \n",
        "from torch.utils.data import TensorDataset,DataLoader\n",
        "from sklearn.model_selection import train_test_split\n",
        "\n",
        "X_train,X_test,y_train,y_test=train_test_split(X,y,test_size=1/7,random_state=0)\n",
        "X_train=torch.Tensor(X_train)\n",
        "X_test=torch.Tensor(X_test)\n",
        "y_train=torch.LongTensor(list(map(int,y_train)))\n",
        "y_test=torch.LongTensor(list(map(int,y_test)))\n",
        "\n",
        "ds_train=TensorDataset(X_train,y_train)\n",
        "ds_test=TensorDataset(X_test,y_test)\n",
        "\n",
        "loader_train=DataLoader(ds_train,batch_size=64,shuffle=True)\n",
        "loader_test=DataLoader(ds_test,batch_size=64,shuffle=False)\n",
        "\n",
        "from torch import nn\n",
        "model=nn.Sequential()\n",
        "model.add_module('fc1',nn.Linear(28*28*1,100))\n",
        "model.add_module('relu1',nn.ReLU())\n",
        "model.add_module('fc2',nn.Linear(100,100))\n",
        "model.add_module('relu2',nn.ReLU())\n",
        "model.add_module('fc23',nn.Linear(100,100))\n",
        "\n",
        "from torch import optim\n",
        "loss_fn=nn.CrossEntropyLoss()\n",
        "optimizer=optim.Adam(model.parameters(),lr=0.01)\n",
        "\n",
        "def train(epoch):\n",
        "  model.train()\n",
        "  for data,targets in loader_train:\n",
        "    optimizer.zero_grad()\n",
        "    outputs=model(data)\n",
        "    loss=loss_fn(outputs,targets)\n",
        "    loss.backward()\n",
        "    optimizer.step()\n",
        "  print('에포크{}:완료'.format(epoch))\n",
        "\n",
        "  def test(head):\n",
        "    model.eval()\n",
        "    correct=0\n",
        "    with torch.no_grad():\n",
        "      for data,targets in loader_test:\n",
        "        outputs=model(data)\n",
        "        predicted=torch.max(outputs.data,1)\n",
        "        correct+=predicted.eq(targets.data.view_as(predicted)).sum()\n",
        "    data_num=len(loader_test.dataset)\n",
        "    print('{}정확도:{}/{}({:.0f}%)'.format(head,correct,data_num,100.*correct/data_num))\n",
        "  test('시작')\n",
        "  for epoch in range(3):\n",
        "    train(epoch)\n",
        "    test('학습중')\n",
        "  test('학습 후')\n",
        "\n",
        "  index=10\n",
        "  model.eval()\n",
        "  data=X_test[index]\n",
        "  output=model(data)\n",
        "  print('{}번째 학습데이터의 테스트 결과:{}'.format(index,output))\n",
        "  predicted=torch.max(output.data,0)\n",
        "  print('{}번째 데이터의 예측:{}'.format(index,predicted))\n",
        "  X_test_show=(X_test[index]).numpy()\n",
        "  plt.imshow(X_test_show.reshape(28,28),cmap='gray')\n",
        "  print('실제 레이블:{}'.format(y_test[index]))"
      ],
      "execution_count": 7,
      "outputs": [
        {
          "output_type": "display_data",
          "data": {
            "image/png": "[encoded data removed]",
            "text/plain": [
              "<Figure size 432x288 with 1 Axes>"
            ]
          },
          "metadata": {
            "tags": [],
            "needs_background": "light"
          }
        },
        {
          "output_type": "stream",
          "text": [
            "이미지 레이블:5\n"
          ],
          "name": "stdout"
        }
      ]
    }
  ]
}
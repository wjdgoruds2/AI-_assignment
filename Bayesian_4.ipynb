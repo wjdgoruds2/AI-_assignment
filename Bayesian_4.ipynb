{
  "nbformat": 4,
  "nbformat_minor": 0,
  "metadata": {
    "colab": {
      "name": "Untitled9.ipynb",
      "provenance": [],
      "authorship_tag": "ABX9TyNC/I7lpa92WMGAwgPXA63j",
      "include_colab_link": true
    },
    "kernelspec": {
      "name": "python3",
      "display_name": "Python 3"
    }
  },
  "cells": [
    {
      "cell_type": "markdown",
      "metadata": {
        "id": "view-in-github",
        "colab_type": "text"
      },
      "source": [
        "<a href=\"https://colab.research.google.com/github/wjdgoruds2/AI-_assignment/blob/master/Bayesian_4.ipynb\" target=\"_parent\"><img src=\"https://colab.research.google.com/assets/colab-badge.svg\" alt=\"Open In Colab\"/></a>"
      ]
    },
    {
      "cell_type": "code",
      "metadata": {
        "id": "4OwYJHeZDq7z",
        "outputId": "ffc5ef05-c2e7-497d-f09f-19771b190543",
        "colab": {
          "base_uri": "https://localhost:8080/",
          "height": 556
        }
      },
      "source": [
        "from pgmpy.inference import VariableElimination\n",
        "infer=VariableElimination(model)\n",
        "A_dist=infer.query(['A'])\n",
        "print('P(A)')\n",
        "print(A_dist)\n",
        "\n",
        "N_I_EF_BT=infer.query(['N'],evidence={'E':'F','B':'T'})\n",
        "print('P(N | E=F,B=T)')\n",
        "print(N_I_EF_BT)\n",
        "\n",
        "N_I_AF_BT=infer.query(['N'],evidence={'A':'F','B':'T'})\n",
        "print('P(N | A=F,B=T)')\n",
        "print(N_I_AF_BT)\n"
      ],
      "execution_count": 12,
      "outputs": [
        {
          "output_type": "stream",
          "text": [
            "Finding Elimination Order: : 100%|██████████| 3/3 [00:00<00:00, 401.04it/s]\n",
            "Eliminating: E: 100%|██████████| 3/3 [00:00<00:00, 331.89it/s]\n",
            "Finding Elimination Order: : 100%|██████████| 1/1 [00:00<00:00, 145.11it/s]\n",
            "Eliminating: A: 100%|██████████| 1/1 [00:00<00:00, 123.76it/s]\n",
            "Finding Elimination Order: : 100%|██████████| 1/1 [00:00<00:00, 487.88it/s]\n",
            "Eliminating: E: 100%|██████████| 1/1 [00:00<00:00, 705.16it/s]"
          ],
          "name": "stderr"
        },
        {
          "output_type": "stream",
          "text": [
            "P(A)\n",
            "+------+----------+\n",
            "| A    |   phi(A) |\n",
            "+======+==========+\n",
            "| A(F) |   0.6720 |\n",
            "+------+----------+\n",
            "| A(T) |   0.3280 |\n",
            "+------+----------+\n",
            "P(N | E=F,B=T)\n",
            "+------+----------+\n",
            "| N    |   phi(N) |\n",
            "+======+==========+\n",
            "| N(F) |   0.2700 |\n",
            "+------+----------+\n",
            "| N(T) |   0.7300 |\n",
            "+------+----------+\n",
            "P(N | A=F,B=T)\n",
            "+------+----------+\n",
            "| N    |   phi(N) |\n",
            "+======+==========+\n",
            "| N(F) |   0.9000 |\n",
            "+------+----------+\n",
            "| N(T) |   0.1000 |\n",
            "+------+----------+\n"
          ],
          "name": "stdout"
        },
        {
          "output_type": "stream",
          "text": [
            "\n"
          ],
          "name": "stderr"
        }
      ]
    },
    {
      "cell_type": "code",
      "metadata": {
        "id": "2FQRc056Dvvl",
        "outputId": "ad7defb3-383d-49e0-8993-95a2d77c1488",
        "colab": {
          "base_uri": "https://localhost:8080/",
          "height": 322
        }
      },
      "source": [
        "!pip install pgmpy"
      ],
      "execution_count": 5,
      "outputs": [
        {
          "output_type": "stream",
          "text": [
            "Requirement already satisfied: pgmpy in /usr/local/lib/python3.6/dist-packages (0.1.12)\n",
            "Requirement already satisfied: pandas in /usr/local/lib/python3.6/dist-packages (from pgmpy) (1.1.2)\n",
            "Requirement already satisfied: numpy in /usr/local/lib/python3.6/dist-packages (from pgmpy) (1.18.5)\n",
            "Requirement already satisfied: tqdm in /usr/local/lib/python3.6/dist-packages (from pgmpy) (4.41.1)\n",
            "Requirement already satisfied: statsmodels in /usr/local/lib/python3.6/dist-packages (from pgmpy) (0.10.2)\n",
            "Requirement already satisfied: networkx in /usr/local/lib/python3.6/dist-packages (from pgmpy) (2.5)\n",
            "Requirement already satisfied: pyparsing in /usr/local/lib/python3.6/dist-packages (from pgmpy) (2.4.7)\n",
            "Requirement already satisfied: scipy in /usr/local/lib/python3.6/dist-packages (from pgmpy) (1.4.1)\n",
            "Requirement already satisfied: torch in /usr/local/lib/python3.6/dist-packages (from pgmpy) (1.6.0+cu101)\n",
            "Requirement already satisfied: scikit-learn in /usr/local/lib/python3.6/dist-packages (from pgmpy) (0.22.2.post1)\n",
            "Requirement already satisfied: joblib in /usr/local/lib/python3.6/dist-packages (from pgmpy) (0.16.0)\n",
            "Requirement already satisfied: pytz>=2017.2 in /usr/local/lib/python3.6/dist-packages (from pandas->pgmpy) (2018.9)\n",
            "Requirement already satisfied: python-dateutil>=2.7.3 in /usr/local/lib/python3.6/dist-packages (from pandas->pgmpy) (2.8.1)\n",
            "Requirement already satisfied: patsy>=0.4.0 in /usr/local/lib/python3.6/dist-packages (from statsmodels->pgmpy) (0.5.1)\n",
            "Requirement already satisfied: decorator>=4.3.0 in /usr/local/lib/python3.6/dist-packages (from networkx->pgmpy) (4.4.2)\n",
            "Requirement already satisfied: future in /usr/local/lib/python3.6/dist-packages (from torch->pgmpy) (0.16.0)\n",
            "Requirement already satisfied: six>=1.5 in /usr/local/lib/python3.6/dist-packages (from python-dateutil>=2.7.3->pandas->pgmpy) (1.15.0)\n"
          ],
          "name": "stdout"
        }
      ]
    }
  ]
}
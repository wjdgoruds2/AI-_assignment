{
  "nbformat": 4,
  "nbformat_minor": 0,
  "metadata": {
    "colab": {
      "name": "Knowledge graph construction.ipynb",
      "provenance": [],
      "collapsed_sections": [],
      "authorship_tag": "ABX9TyO6o1B3GH1ZTY9ISBdgmYpS",
      "include_colab_link": true
    },
    "kernelspec": {
      "name": "python3",
      "display_name": "Python 3"
    }
  },
  "cells": [
    {
      "cell_type": "markdown",
      "metadata": {
        "id": "view-in-github",
        "colab_type": "text"
      },
      "source": [
        "<a href=\"https://colab.research.google.com/github/wjdgoruds2/AI-_assignment/blob/master/Knowledge_graph_construction_3.ipynb\" target=\"_parent\"><img src=\"https://colab.research.google.com/assets/colab-badge.svg\" alt=\"Open In Colab\"/></a>"
      ]
    },
    {
      "cell_type": "code",
      "metadata": {
        "id": "B85YJooJ9Cpw",
        "colab_type": "code",
        "colab": {
          "resources": {
            "http://localhost:8080/nbextensions/google.colab/files.js": {
              "data": "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",
              "ok": true,
              "headers": [
                [
                  "content-type",
                  "application/javascript"
                ]
              ],
              "status": 200,
              "status_text": ""
            }
          },
          "base_uri": "https://localhost:8080/",
          "height": 1000
        },
        "outputId": "20cd6854-597a-4667-cc22-9914182ce90e"
      },
      "source": [
        "!pip install spacy\n",
        "import re\n",
        "import pandas as pd\n",
        "import bs4\n",
        "import requests\n",
        "import spacy\n",
        "from spacy import displacy\n",
        "nlp=spacy.load('en_core_web_sm')\n",
        "\n",
        "from spacy.matcher import Matcher\n",
        "from spacy.tokens import Span\n",
        "\n",
        "import networkx as nx\n",
        "\n",
        "import matplotlib.pyplot as plt\n",
        "from tqdm import tqdm\n",
        "from google.colab import files\n",
        "myfile = files.upload()\n",
        "\n",
        "import io\n",
        "import pandas as pd\n",
        "\n",
        "pd.set_option('display.max_colwidth',200)\n",
        "%matplotlib inline\n",
        "\n",
        "\n",
        "\n",
        "candidate_sentences=pd.read_csv(io.BytesIO(myfile['wiki_sentences_v2.csv']))\n",
        "candidate_sentences.shape\n",
        "def get_entities(sent):\n",
        "\n",
        "  ent1=\"\"\n",
        "  ent2=\"\"\n",
        "  prv_tok_dep=\"\"\n",
        "  prv_tok_text=\"\"\n",
        "  prefix=\"\"\n",
        "  modifier=\"\"\n",
        "  for tok in nlp(sent):\n",
        "    if tok.dep_ !=\"punct\":\n",
        "      if tok.dep_==\"compound\":\n",
        "        prefix=tok.text\n",
        "        if prv_tok_dep==\"compound\":\n",
        "          prefix=prv_tok_text +\" \"+tok.text\n",
        "      if tok.dep_.endswith(\"mod\")==True:\n",
        "        modifier=tok.text\n",
        "        if prv_tok_dep ==\"compound\":\n",
        "          modifier=prv_tok_text+\" \"+tok.text\n",
        "\n",
        "      if tok.dep_.find(\"subj\")==True:\n",
        "        ent1=modifier+\" \"+prefix+\" \"+tok.text\n",
        "        prefix=\"\"\n",
        "        modifier=\"\"\n",
        "        prv_tok_dep=\"\"\n",
        "        prv_tok_text=\"\"\n",
        "      if tok.dep_.find(\"obj\")==True:\n",
        "        ent2=modifier+\" \"+prefix+\" \"+tok.text\n",
        "\n",
        "      prv_tok_dep=tok.dep_\n",
        "      prv_tok_text=tok.text\n",
        "  return [ent1.strip(),ent2.strip()]\n",
        "\n",
        "\n",
        "entity_pairs=[]\n",
        "for i in tqdm(candidate_sentences[\"sentence\"]):\n",
        " entity_pairs.append(get_entities(i))\n",
        "entity_pairs[10:20]\n",
        "\n",
        "\n",
        "def get_relation(sent):\n",
        "  doc=nlp(sent)\n",
        "  matcher=Matcher(nlp.vocab)\n",
        "\n",
        "  pattern=[{'DEP':'ROOT'},{'DEP':'prep','OP':\"?\"},{'DEP':'agent','OP':\"?\"},{'POS':'ADJ','OP':\"?\"}]\n",
        "\n",
        "  matcher.add(\"matching_1\",None,pattern)\n",
        "\n",
        "  matches=matcher(doc)\n",
        "  print('matches:',matches)\n",
        "  k=len(matches)-1\n",
        "\n",
        "  span=doc[matches[k][1]:matches[k][2]]\n",
        "\n",
        "  return(span.text)\n",
        "\n",
        "get_relation(\"Joan completed the task\")\n",
        "relations=[get_relation(i) for i in tqdm(candidate_sentences['sentence'])]\n",
        "source =[i[0] for i in entity_pairs]\n",
        "target=[i[1]for i in entity_pairs]\n",
        "\n",
        "kg_df=pd.DataFrame({'source':source,'target':target,'edge':relations})\n",
        "\n",
        "#G=nx.from_pandas_edgelist(kg_df,\"source\",\"target\",edge_attr=True,create_using=nx.MultiDiGraph())\n",
        "\n",
        "#plt.figure(figsize=(12,12))\n",
        "#pos=nx.spring_layout(G)\n",
        "#nx.draw(G, with_labels=True,node_color='skyblue',edge_cmap=plt.cm.Blues,pos=pos)\n",
        "#plt.show()\n",
        "\n",
        "\n",
        "#G=nx.from_pandas_edgelist(kg_df[kg_df['edge']==\"written by\"],\"source\",\"target\",edge_attr=True,create_using=nx.MultiDiGraph())\n",
        "\n",
        "#plt.figure(figsize=(12,12))\n",
        "#pos=nx.spring_layout(G,k=0.5)\n",
        "#nx.draw(G,with_labels=True,node_color='skyblue',node_size=1500,edge_cmap=plt.cm.Blues,pos=pos)\n",
        "#nx.draw_networkx_edge_labels(G,pos,edge_labels=\"written by\")\n",
        "#plt.show()\n",
        "\n",
        "\n",
        "G=nx.from_pandas_edgelist(kg_df[kg_df['edge']==\"composed by\"],\"source\",\"target\",edge_attr=True,create_using=nx.MultiDiGraph())\n",
        "plt.figure(figsize=(12,12))\n",
        "pos=nx.spring_layout(G,k=0.5)\n",
        "nx.draw(G,with_labels=True,node_color='skyblue',node_size=1500,edge_cmap=plt.cm.Blues,pos=pos)\n",
        "plt.show()\n"
      ],
      "execution_count": 8,
      "outputs": [
        {
          "output_type": "stream",
          "text": [
            "Requirement already satisfied: spacy in /usr/local/lib/python3.6/dist-packages (2.2.4)\n",
            "Requirement already satisfied: wasabi<1.1.0,>=0.4.0 in /usr/local/lib/python3.6/dist-packages (from spacy) (0.8.0)\n",
            "Requirement already satisfied: catalogue<1.1.0,>=0.0.7 in /usr/local/lib/python3.6/dist-packages (from spacy) (1.0.0)\n",
            "Requirement already satisfied: preshed<3.1.0,>=3.0.2 in /usr/local/lib/python3.6/dist-packages (from spacy) (3.0.2)\n",
            "Requirement already satisfied: tqdm<5.0.0,>=4.38.0 in /usr/local/lib/python3.6/dist-packages (from spacy) (4.41.1)\n",
            "Requirement already satisfied: numpy>=1.15.0 in /usr/local/lib/python3.6/dist-packages (from spacy) (1.18.5)\n",
            "Requirement already satisfied: setuptools in /usr/local/lib/python3.6/dist-packages (from spacy) (50.3.0)\n",
            "Requirement already satisfied: cymem<2.1.0,>=2.0.2 in /usr/local/lib/python3.6/dist-packages (from spacy) (2.0.3)\n",
            "Requirement already satisfied: thinc==7.4.0 in /usr/local/lib/python3.6/dist-packages (from spacy) (7.4.0)\n",
            "Requirement already satisfied: requests<3.0.0,>=2.13.0 in /usr/local/lib/python3.6/dist-packages (from spacy) (2.23.0)\n",
            "Requirement already satisfied: srsly<1.1.0,>=1.0.2 in /usr/local/lib/python3.6/dist-packages (from spacy) (1.0.2)\n",
            "Requirement already satisfied: plac<1.2.0,>=0.9.6 in /usr/local/lib/python3.6/dist-packages (from spacy) (1.1.3)\n",
            "Requirement already satisfied: blis<0.5.0,>=0.4.0 in /usr/local/lib/python3.6/dist-packages (from spacy) (0.4.1)\n",
            "Requirement already satisfied: murmurhash<1.1.0,>=0.28.0 in /usr/local/lib/python3.6/dist-packages (from spacy) (1.0.2)\n",
            "Requirement already satisfied: importlib-metadata>=0.20; python_version < \"3.8\" in /usr/local/lib/python3.6/dist-packages (from catalogue<1.1.0,>=0.0.7->spacy) (1.7.0)\n",
            "Requirement already satisfied: certifi>=2017.4.17 in /usr/local/lib/python3.6/dist-packages (from requests<3.0.0,>=2.13.0->spacy) (2020.6.20)\n",
            "Requirement already satisfied: idna<3,>=2.5 in /usr/local/lib/python3.6/dist-packages (from requests<3.0.0,>=2.13.0->spacy) (2.10)\n",
            "Requirement already satisfied: chardet<4,>=3.0.2 in /usr/local/lib/python3.6/dist-packages (from requests<3.0.0,>=2.13.0->spacy) (3.0.4)\n",
            "Requirement already satisfied: urllib3!=1.25.0,!=1.25.1,<1.26,>=1.21.1 in /usr/local/lib/python3.6/dist-packages (from requests<3.0.0,>=2.13.0->spacy) (1.24.3)\n",
            "Requirement already satisfied: zipp>=0.5 in /usr/local/lib/python3.6/dist-packages (from importlib-metadata>=0.20; python_version < \"3.8\"->catalogue<1.1.0,>=0.0.7->spacy) (3.1.0)\n"
          ],
          "name": "stdout"
        },
        {
          "output_type": "display_data",
          "data": {
            "text/html": [
              "\n",
              "     <input type=\"file\" id=\"files-021192cd-989b-4884-ae39-6f134c641ce4\" name=\"files[]\" multiple disabled\n",
              "        style=\"border:none\" />\n",
              "     <output id=\"result-021192cd-989b-4884-ae39-6f134c641ce4\">\n",
              "      Upload widget is only available when the cell has been executed in the\n",
              "      current browser session. Please rerun this cell to enable.\n",
              "      </output>\n",
              "      <script src=\"/nbextensions/google.colab/files.js\"></script> "
            ],
            "text/plain": [
              "<IPython.core.display.HTML object>"
            ]
          },
          "metadata": {
            "tags": []
          }
        },
        {
          "output_type": "stream",
          "text": [
            "Saving wiki_sentences_v2.csv to wiki_sentences_v2 (7).csv\n"
          ],
          "name": "stdout"
        },
        {
          "output_type": "stream",
          "text": [
            "100%|██████████| 4318/4318 [00:45<00:00, 95.65it/s]\n",
            "  0%|          | 8/4318 [00:00<00:54, 78.54it/s]"
          ],
          "name": "stderr"
        },
        {
          "output_type": "stream",
          "text": [
            "matches: [(11840699188806025751, 1, 2)]\n",
            "matches: [(11840699188806025751, 5, 6)]\n",
            "matches: [(11840699188806025751, 7, 8), (11840699188806025751, 7, 9)]\n",
            "matches: [(11840699188806025751, 3, 4), (11840699188806025751, 3, 5)]\n",
            "matches: [(11840699188806025751, 3, 4), (11840699188806025751, 3, 5)]\n",
            "matches: [(11840699188806025751, 4, 5), (11840699188806025751, 4, 6)]\n",
            "matches: [(11840699188806025751, 1, 2)]\n",
            "matches: [(11840699188806025751, 6, 7)]\n",
            "matches: [(11840699188806025751, 9, 10)]\n",
            "matches: [(11840699188806025751, 9, 10), (11840699188806025751, 9, 11)]\n",
            "matches: [(11840699188806025751, 2, 3)]\n",
            "matches: [(11840699188806025751, 1, 2), (11840699188806025751, 1, 3)]\n",
            "matches: [(11840699188806025751, 4, 5)]\n",
            "matches: [(11840699188806025751, 4, 5)]\n",
            "matches: [(11840699188806025751, 1, 2)]\n",
            "matches: [(11840699188806025751, 1, 2)]\n",
            "matches: [(11840699188806025751, 2, 3)]\n"
          ],
          "name": "stdout"
        },
        {
          "output_type": "stream",
          "text": [
            "  1%|          | 27/4318 [00:00<00:51, 83.66it/s]"
          ],
          "name": "stderr"
        },
        {
          "output_type": "stream",
          "text": [
            "matches: [(11840699188806025751, 1, 2)]\n",
            "matches: [(11840699188806025751, 3, 4), (11840699188806025751, 3, 5)]\n",
            "matches: [(11840699188806025751, 2, 3)]\n",
            "matches: [(11840699188806025751, 3, 4)]\n",
            "matches: [(11840699188806025751, 2, 3)]\n",
            "matches: [(11840699188806025751, 6, 7), (11840699188806025751, 6, 8)]\n",
            "matches: [(11840699188806025751, 2, 3), (11840699188806025751, 2, 4)]\n",
            "matches: [(11840699188806025751, 2, 3), (11840699188806025751, 2, 4)]\n",
            "matches: [(11840699188806025751, 3, 4)]\n",
            "matches: [(11840699188806025751, 3, 4)]\n",
            "matches: [(11840699188806025751, 3, 4), (11840699188806025751, 3, 5)]\n",
            "matches: [(11840699188806025751, 1, 2)]\n",
            "matches: [(11840699188806025751, 4, 5)]\n",
            "matches: [(11840699188806025751, 2, 3), (11840699188806025751, 2, 4), (11840699188806025751, 2, 5)]\n",
            "matches: [(11840699188806025751, 2, 3), (11840699188806025751, 2, 4)]\n",
            "matches: [(11840699188806025751, 1, 2)]\n",
            "matches: [(11840699188806025751, 3, 4)]\n",
            "matches: [(11840699188806025751, 2, 3), (11840699188806025751, 2, 4)]\n",
            "matches: [(11840699188806025751, 10, 11), (11840699188806025751, 10, 12)]\n"
          ],
          "name": "stdout"
        },
        {
          "output_type": "stream",
          "text": [
            "  1%|          | 45/4318 [00:00<00:50, 84.38it/s]"
          ],
          "name": "stderr"
        },
        {
          "output_type": "stream",
          "text": [
            "matches: [(11840699188806025751, 12, 13)]\n",
            "matches: [(11840699188806025751, 2, 3), (11840699188806025751, 2, 4)]\n",
            "matches: [(11840699188806025751, 4, 5)]\n",
            "matches: [(11840699188806025751, 2, 3), (11840699188806025751, 2, 4)]\n",
            "matches: [(11840699188806025751, 2, 3)]\n",
            "matches: [(11840699188806025751, 2, 3)]\n",
            "matches: [(11840699188806025751, 6, 7)]\n",
            "matches: [(11840699188806025751, 4, 5), (11840699188806025751, 4, 6), (11840699188806025751, 4, 7)]\n",
            "matches: [(11840699188806025751, 2, 3)]\n",
            "matches: [(11840699188806025751, 4, 5)]\n",
            "matches: [(11840699188806025751, 3, 4), (11840699188806025751, 3, 5)]\n",
            "matches: [(11840699188806025751, 3, 4), (11840699188806025751, 3, 5)]\n",
            "matches: [(11840699188806025751, 4, 5), (11840699188806025751, 4, 6)]\n",
            "matches: [(11840699188806025751, 16, 17)]\n",
            "matches: [(11840699188806025751, 9, 10)]\n",
            "matches: [(11840699188806025751, 4, 5)]\n",
            "matches: [(11840699188806025751, 4, 5), (11840699188806025751, 4, 6)]\n"
          ],
          "name": "stdout"
        },
        {
          "output_type": "stream",
          "text": [
            "  1%|▏         | 63/4318 [00:00<00:51, 83.01it/s]"
          ],
          "name": "stderr"
        },
        {
          "output_type": "stream",
          "text": [
            "matches: [(11840699188806025751, 3, 4)]\n",
            "matches: [(11840699188806025751, 5, 6), (11840699188806025751, 5, 7)]\n",
            "matches: [(11840699188806025751, 2, 3), (11840699188806025751, 2, 4)]\n",
            "matches: [(11840699188806025751, 1, 2)]\n",
            "matches: [(11840699188806025751, 11, 12)]\n",
            "matches: [(11840699188806025751, 1, 2)]\n",
            "matches: [(11840699188806025751, 4, 5), (11840699188806025751, 4, 6), (11840699188806025751, 4, 7)]\n",
            "matches: [(11840699188806025751, 1, 2), (11840699188806025751, 5, 6)]\n",
            "matches: [(11840699188806025751, 1, 2)]\n",
            "matches: [(11840699188806025751, 1, 2), (11840699188806025751, 1, 3)]\n",
            "matches: [(11840699188806025751, 3, 4)]\n",
            "matches: [(11840699188806025751, 5, 6)]\n",
            "matches: [(11840699188806025751, 5, 6)]\n",
            "matches: [(11840699188806025751, 4, 5), (11840699188806025751, 4, 6)]\n",
            "matches: [(11840699188806025751, 3, 4), (11840699188806025751, 3, 5)]\n",
            "matches: [(11840699188806025751, 4, 5)]\n",
            "matches: [(11840699188806025751, 1, 2), (11840699188806025751, 1, 3)]\n",
            "matches: [(11840699188806025751, 3, 4)]\n"
          ],
          "name": "stdout"
        },
        {
          "output_type": "stream",
          "text": [
            "  2%|▏         | 82/4318 [00:00<00:49, 85.72it/s]"
          ],
          "name": "stderr"
        },
        {
          "output_type": "stream",
          "text": [
            "matches: [(11840699188806025751, 4, 5), (11840699188806025751, 4, 6), (11840699188806025751, 4, 7)]\n",
            "matches: [(11840699188806025751, 6, 7), (11840699188806025751, 6, 8)]\n",
            "matches: [(11840699188806025751, 8, 9), (11840699188806025751, 8, 10)]\n",
            "matches: [(11840699188806025751, 1, 2), (11840699188806025751, 1, 3)]\n",
            "matches: [(11840699188806025751, 4, 5)]\n",
            "matches: [(11840699188806025751, 4, 5), (11840699188806025751, 4, 6)]\n",
            "matches: [(11840699188806025751, 5, 6), (11840699188806025751, 5, 7)]\n",
            "matches: [(11840699188806025751, 1, 2)]\n",
            "matches: [(11840699188806025751, 3, 4)]\n",
            "matches: [(11840699188806025751, 2, 3), (11840699188806025751, 2, 4)]\n",
            "matches: [(11840699188806025751, 5, 6), (11840699188806025751, 5, 7)]\n",
            "matches: [(11840699188806025751, 4, 5)]\n",
            "matches: [(11840699188806025751, 4, 5)]\n",
            "matches: [(11840699188806025751, 10, 11)]\n",
            "matches: [(11840699188806025751, 2, 3)]\n",
            "matches: [(11840699188806025751, 3, 4)]\n",
            "matches: [(11840699188806025751, 3, 4)]\n",
            "matches: [(11840699188806025751, 1, 2)]\n"
          ],
          "name": "stdout"
        },
        {
          "output_type": "stream",
          "text": [
            "  2%|▏         | 101/4318 [00:01<00:48, 87.22it/s]"
          ],
          "name": "stderr"
        },
        {
          "output_type": "stream",
          "text": [
            "matches: [(11840699188806025751, 3, 4)]\n",
            "matches: [(11840699188806025751, 1, 2)]\n",
            "matches: [(11840699188806025751, 1, 2)]\n",
            "matches: [(11840699188806025751, 4, 5), (11840699188806025751, 4, 6)]\n",
            "matches: [(11840699188806025751, 7, 8), (11840699188806025751, 7, 9)]\n",
            "matches: [(11840699188806025751, 2, 3)]\n",
            "matches: [(11840699188806025751, 1, 2)]\n",
            "matches: [(11840699188806025751, 3, 4)]\n",
            "matches: [(11840699188806025751, 5, 6)]\n",
            "matches: [(11840699188806025751, 2, 3), (11840699188806025751, 2, 4)]\n",
            "matches: [(11840699188806025751, 2, 3), (11840699188806025751, 2, 4)]\n",
            "matches: [(11840699188806025751, 2, 3)]\n",
            "matches: [(11840699188806025751, 1, 2)]\n",
            "matches: [(11840699188806025751, 1, 2)]\n",
            "matches: [(11840699188806025751, 4, 5)]\n",
            "matches: [(11840699188806025751, 6, 7)]\n",
            "matches: [(11840699188806025751, 1, 2)]\n",
            "matches: [(11840699188806025751, 2, 3)]\n",
            "matches: [(11840699188806025751, 8, 9)]\n",
            "matches: [(11840699188806025751, 5, 6)]\n"
          ],
          "name": "stdout"
        },
        {
          "output_type": "stream",
          "text": [
            "  3%|▎         | 119/4318 [00:01<00:48, 86.45it/s]"
          ],
          "name": "stderr"
        },
        {
          "output_type": "stream",
          "text": [
            "matches: [(11840699188806025751, 4, 5)]\n",
            "matches: [(11840699188806025751, 2, 3)]\n",
            "matches: [(11840699188806025751, 1, 2)]\n",
            "matches: [(11840699188806025751, 5, 6), (11840699188806025751, 5, 7), (11840699188806025751, 5, 8)]\n",
            "matches: [(11840699188806025751, 4, 5)]\n",
            "matches: [(11840699188806025751, 8, 9)]\n",
            "matches: [(11840699188806025751, 2, 3), (11840699188806025751, 2, 4)]\n",
            "matches: [(11840699188806025751, 1, 2)]\n",
            "matches: [(11840699188806025751, 3, 4)]\n",
            "matches: [(11840699188806025751, 5, 6), (11840699188806025751, 5, 7)]\n",
            "matches: [(11840699188806025751, 3, 4)]\n",
            "matches: [(11840699188806025751, 3, 4)]\n",
            "matches: [(11840699188806025751, 2, 3), (11840699188806025751, 2, 4)]\n",
            "matches: [(11840699188806025751, 4, 5), (11840699188806025751, 4, 6)]\n",
            "matches: [(11840699188806025751, 7, 8)]\n",
            "matches: [(11840699188806025751, 3, 4)]\n",
            "matches: [(11840699188806025751, 5, 6)]\n",
            "matches: [(11840699188806025751, 1, 2)]\n"
          ],
          "name": "stdout"
        },
        {
          "output_type": "stream",
          "text": [
            "  3%|▎         | 138/4318 [00:01<00:46, 89.04it/s]"
          ],
          "name": "stderr"
        },
        {
          "output_type": "stream",
          "text": [
            "matches: [(11840699188806025751, 1, 2)]\n",
            "matches: [(11840699188806025751, 1, 2)]\n",
            "matches: [(11840699188806025751, 4, 5), (11840699188806025751, 4, 6)]\n",
            "matches: [(11840699188806025751, 2, 3)]\n",
            "matches: [(11840699188806025751, 5, 6), (11840699188806025751, 5, 7)]\n",
            "matches: [(11840699188806025751, 7, 8)]\n",
            "matches: [(11840699188806025751, 2, 3), (11840699188806025751, 2, 4)]\n",
            "matches: [(11840699188806025751, 4, 5), (11840699188806025751, 4, 6)]\n",
            "matches: [(11840699188806025751, 0, 1), (11840699188806025751, 0, 2)]\n",
            "matches: [(11840699188806025751, 3, 4)]\n",
            "matches: [(11840699188806025751, 2, 3), (11840699188806025751, 2, 4)]\n",
            "matches: [(11840699188806025751, 3, 4), (11840699188806025751, 3, 5)]\n",
            "matches: [(11840699188806025751, 5, 6), (11840699188806025751, 5, 7)]\n",
            "matches: [(11840699188806025751, 8, 9), (11840699188806025751, 8, 10)]\n",
            "matches: [(11840699188806025751, 4, 5), (11840699188806025751, 4, 6), (11840699188806025751, 4, 7)]\n",
            "matches: [(11840699188806025751, 8, 9), (11840699188806025751, 8, 10)]\n",
            "matches: [(11840699188806025751, 3, 4)]\n",
            "matches: [(11840699188806025751, 4, 5)]\n",
            "matches: [(11840699188806025751, 4, 5), (11840699188806025751, 4, 6)]\n"
          ],
          "name": "stdout"
        },
        {
          "output_type": "stream",
          "text": [
            "  4%|▎         | 157/4318 [00:01<00:46, 89.56it/s]"
          ],
          "name": "stderr"
        },
        {
          "output_type": "stream",
          "text": [
            "matches: [(11840699188806025751, 3, 4)]\n",
            "matches: [(11840699188806025751, 11, 12)]\n",
            "matches: [(11840699188806025751, 1, 2)]\n",
            "matches: [(11840699188806025751, 4, 5)]\n",
            "matches: [(11840699188806025751, 3, 4)]\n",
            "matches: [(11840699188806025751, 0, 1)]\n",
            "matches: [(11840699188806025751, 4, 5)]\n",
            "matches: [(11840699188806025751, 3, 4)]\n",
            "matches: [(11840699188806025751, 2, 3)]\n",
            "matches: [(11840699188806025751, 7, 8)]\n",
            "matches: [(11840699188806025751, 2, 3), (11840699188806025751, 2, 4)]\n",
            "matches: [(11840699188806025751, 4, 5), (11840699188806025751, 4, 6)]\n",
            "matches: [(11840699188806025751, 0, 1), (11840699188806025751, 0, 2)]\n",
            "matches: [(11840699188806025751, 3, 4)]\n",
            "matches: [(11840699188806025751, 2, 3), (11840699188806025751, 2, 4)]\n",
            "matches: [(11840699188806025751, 3, 4), (11840699188806025751, 3, 5)]\n",
            "matches: [(11840699188806025751, 5, 6), (11840699188806025751, 5, 7)]\n",
            "matches: [(11840699188806025751, 8, 9), (11840699188806025751, 8, 10)]\n",
            "matches: [(11840699188806025751, 4, 5), (11840699188806025751, 4, 6), (11840699188806025751, 4, 7)]\n"
          ],
          "name": "stdout"
        },
        {
          "output_type": "stream",
          "text": [
            "  4%|▍         | 177/4318 [00:02<00:47, 87.45it/s]"
          ],
          "name": "stderr"
        },
        {
          "output_type": "stream",
          "text": [
            "matches: [(11840699188806025751, 8, 9), (11840699188806025751, 8, 10)]\n",
            "matches: [(11840699188806025751, 3, 4)]\n",
            "matches: [(11840699188806025751, 4, 5)]\n",
            "matches: [(11840699188806025751, 4, 5), (11840699188806025751, 4, 6)]\n",
            "matches: [(11840699188806025751, 3, 4)]\n",
            "matches: [(11840699188806025751, 11, 12)]\n",
            "matches: [(11840699188806025751, 1, 2)]\n",
            "matches: [(11840699188806025751, 4, 5)]\n",
            "matches: [(11840699188806025751, 3, 4)]\n",
            "matches: [(11840699188806025751, 0, 1)]\n",
            "matches: [(11840699188806025751, 4, 5)]\n",
            "matches: [(11840699188806025751, 3, 4)]\n",
            "matches: [(11840699188806025751, 2, 3)]\n",
            "matches: [(11840699188806025751, 1, 2)]\n",
            "matches: [(11840699188806025751, 1, 2)]\n",
            "matches: [(11840699188806025751, 1, 2), (11840699188806025751, 1, 3)]\n",
            "matches: [(11840699188806025751, 1, 2)]\n"
          ],
          "name": "stdout"
        },
        {
          "output_type": "stream",
          "text": [
            "  5%|▍         | 195/4318 [00:02<00:48, 85.69it/s]"
          ],
          "name": "stderr"
        },
        {
          "output_type": "stream",
          "text": [
            "matches: [(11840699188806025751, 2, 3)]\n",
            "matches: [(11840699188806025751, 1, 2), (11840699188806025751, 1, 3)]\n",
            "matches: [(11840699188806025751, 1, 2)]\n",
            "matches: [(11840699188806025751, 3, 4), (11840699188806025751, 3, 5)]\n",
            "matches: [(11840699188806025751, 5, 6)]\n",
            "matches: [(11840699188806025751, 5, 6), (11840699188806025751, 5, 7)]\n",
            "matches: [(11840699188806025751, 1, 2)]\n",
            "matches: [(11840699188806025751, 2, 3)]\n",
            "matches: [(11840699188806025751, 1, 2)]\n",
            "matches: [(11840699188806025751, 1, 2), (11840699188806025751, 1, 3)]\n",
            "matches: [(11840699188806025751, 3, 4), (11840699188806025751, 3, 5)]\n",
            "matches: [(11840699188806025751, 2, 3)]\n",
            "matches: [(11840699188806025751, 1, 2)]\n",
            "matches: [(11840699188806025751, 1, 2)]\n",
            "matches: [(11840699188806025751, 2, 3), (11840699188806025751, 2, 4)]\n",
            "matches: [(11840699188806025751, 2, 3), (11840699188806025751, 2, 4)]\n",
            "matches: [(11840699188806025751, 2, 3)]\n",
            "matches: [(11840699188806025751, 3, 4), (11840699188806025751, 3, 5)]\n"
          ],
          "name": "stdout"
        },
        {
          "output_type": "stream",
          "text": [
            "  5%|▍         | 214/4318 [00:02<00:47, 86.80it/s]"
          ],
          "name": "stderr"
        },
        {
          "output_type": "stream",
          "text": [
            "matches: [(11840699188806025751, 1, 2)]\n",
            "matches: [(11840699188806025751, 4, 5)]\n",
            "matches: [(11840699188806025751, 1, 2)]\n",
            "matches: [(11840699188806025751, 2, 3)]\n",
            "matches: [(11840699188806025751, 2, 3)]\n",
            "matches: [(11840699188806025751, 3, 4)]\n",
            "matches: [(11840699188806025751, 4, 5), (11840699188806025751, 4, 6)]\n",
            "matches: [(11840699188806025751, 8, 9)]\n",
            "matches: [(11840699188806025751, 1, 2)]\n",
            "matches: [(11840699188806025751, 2, 3)]\n",
            "matches: [(11840699188806025751, 4, 5)]\n",
            "matches: [(11840699188806025751, 3, 4)]\n",
            "matches: [(11840699188806025751, 1, 2)]\n",
            "matches: [(11840699188806025751, 3, 4), (11840699188806025751, 3, 5)]\n",
            "matches: [(11840699188806025751, 1, 2)]\n",
            "matches: [(11840699188806025751, 1, 2)]\n",
            "matches: [(11840699188806025751, 1, 2)]\n",
            "matches: [(11840699188806025751, 2, 3)]\n",
            "matches: [(11840699188806025751, 3, 4)]\n"
          ],
          "name": "stdout"
        },
        {
          "output_type": "stream",
          "text": [
            "  5%|▌         | 232/4318 [00:02<00:48, 83.64it/s]"
          ],
          "name": "stderr"
        },
        {
          "output_type": "stream",
          "text": [
            "matches: [(11840699188806025751, 7, 8)]\n",
            "matches: [(11840699188806025751, 3, 4)]\n",
            "matches: [(11840699188806025751, 1, 2), (11840699188806025751, 1, 3)]\n",
            "matches: [(11840699188806025751, 4, 5)]\n",
            "matches: [(11840699188806025751, 3, 4)]\n",
            "matches: [(11840699188806025751, 9, 10)]\n",
            "matches: [(11840699188806025751, 2, 3)]\n",
            "matches: [(11840699188806025751, 3, 4), (11840699188806025751, 3, 5)]\n",
            "matches: [(11840699188806025751, 2, 3)]\n",
            "matches: [(11840699188806025751, 10, 11)]\n",
            "matches: [(11840699188806025751, 7, 8)]\n",
            "matches: [(11840699188806025751, 2, 3)]\n",
            "matches: [(11840699188806025751, 2, 3)]\n",
            "matches: [(11840699188806025751, 3, 4)]\n",
            "matches: [(11840699188806025751, 6, 7)]\n",
            "matches: [(11840699188806025751, 2, 3)]\n",
            "matches: [(11840699188806025751, 16, 17)]\n"
          ],
          "name": "stdout"
        },
        {
          "output_type": "stream",
          "text": [
            "  6%|▌         | 250/4318 [00:02<00:49, 82.50it/s]"
          ],
          "name": "stderr"
        },
        {
          "output_type": "stream",
          "text": [
            "matches: [(11840699188806025751, 3, 4)]\n",
            "matches: [(11840699188806025751, 2, 3)]\n",
            "matches: [(11840699188806025751, 2, 3)]\n",
            "matches: [(11840699188806025751, 7, 8), (11840699188806025751, 7, 9)]\n",
            "matches: [(11840699188806025751, 4, 5)]\n",
            "matches: [(11840699188806025751, 13, 14)]\n",
            "matches: [(11840699188806025751, 7, 8), (11840699188806025751, 7, 9)]\n",
            "matches: [(11840699188806025751, 0, 1)]\n",
            "matches: [(11840699188806025751, 3, 4)]\n",
            "matches: [(11840699188806025751, 2, 3)]\n",
            "matches: [(11840699188806025751, 2, 3)]\n",
            "matches: [(11840699188806025751, 5, 6)]\n",
            "matches: [(11840699188806025751, 3, 4)]\n",
            "matches: [(11840699188806025751, 2, 3)]\n",
            "matches: [(11840699188806025751, 14, 15)]\n",
            "matches: [(11840699188806025751, 4, 5)]\n",
            "matches: [(11840699188806025751, 8, 9), (11840699188806025751, 8, 10)]\n"
          ],
          "name": "stdout"
        },
        {
          "output_type": "stream",
          "text": [
            "  6%|▌         | 268/4318 [00:03<00:50, 80.17it/s]"
          ],
          "name": "stderr"
        },
        {
          "output_type": "stream",
          "text": [
            "matches: [(11840699188806025751, 3, 4)]\n",
            "matches: [(11840699188806025751, 2, 3)]\n",
            "matches: [(11840699188806025751, 3, 4)]\n",
            "matches: [(11840699188806025751, 3, 4)]\n",
            "matches: [(11840699188806025751, 0, 1)]\n",
            "matches: [(11840699188806025751, 1, 2)]\n",
            "matches: [(11840699188806025751, 9, 10), (11840699188806025751, 9, 11)]\n",
            "matches: [(11840699188806025751, 4, 5), (11840699188806025751, 4, 6), (11840699188806025751, 4, 7)]\n",
            "matches: [(11840699188806025751, 3, 4)]\n",
            "matches: [(11840699188806025751, 2, 3)]\n",
            "matches: [(11840699188806025751, 2, 3), (11840699188806025751, 2, 4)]\n",
            "matches: [(11840699188806025751, 1, 2)]\n",
            "matches: [(11840699188806025751, 1, 2)]\n",
            "matches: [(11840699188806025751, 2, 3), (11840699188806025751, 2, 4)]\n",
            "matches: [(11840699188806025751, 1, 2)]\n",
            "matches: [(11840699188806025751, 4, 5), (11840699188806025751, 4, 6)]\n"
          ],
          "name": "stdout"
        },
        {
          "output_type": "stream",
          "text": [
            "  7%|▋         | 287/4318 [00:03<00:48, 83.54it/s]"
          ],
          "name": "stderr"
        },
        {
          "output_type": "stream",
          "text": [
            "matches: [(11840699188806025751, 1, 2)]\n",
            "matches: [(11840699188806025751, 1, 2)]\n",
            "matches: [(11840699188806025751, 1, 2), (11840699188806025751, 1, 3)]\n",
            "matches: [(11840699188806025751, 7, 8), (11840699188806025751, 7, 9)]\n",
            "matches: [(11840699188806025751, 4, 5), (11840699188806025751, 4, 6)]\n",
            "matches: [(11840699188806025751, 7, 8), (11840699188806025751, 7, 9)]\n",
            "matches: [(11840699188806025751, 9, 10)]\n",
            "matches: [(11840699188806025751, 1, 2)]\n",
            "matches: [(11840699188806025751, 4, 5), (11840699188806025751, 4, 6)]\n",
            "matches: [(11840699188806025751, 4, 5), (11840699188806025751, 4, 6)]\n",
            "matches: [(11840699188806025751, 2, 3)]\n",
            "matches: [(11840699188806025751, 3, 4)]\n",
            "matches: [(11840699188806025751, 2, 3)]\n",
            "matches: [(11840699188806025751, 4, 5), (11840699188806025751, 4, 6)]\n",
            "matches: [(11840699188806025751, 4, 5), (11840699188806025751, 4, 6)]\n",
            "matches: [(11840699188806025751, 3, 4)]\n",
            "matches: [(11840699188806025751, 5, 6), (11840699188806025751, 5, 7)]\n",
            "matches: [(11840699188806025751, 8, 9)]\n",
            "matches: [(11840699188806025751, 3, 4)]\n"
          ],
          "name": "stdout"
        },
        {
          "output_type": "stream",
          "text": [
            "  7%|▋         | 306/4318 [00:03<00:46, 86.17it/s]"
          ],
          "name": "stderr"
        },
        {
          "output_type": "stream",
          "text": [
            "matches: [(11840699188806025751, 8, 9), (11840699188806025751, 8, 10)]\n",
            "matches: [(11840699188806025751, 5, 6), (11840699188806025751, 5, 7)]\n",
            "matches: [(11840699188806025751, 3, 4)]\n",
            "matches: [(11840699188806025751, 7, 8), (11840699188806025751, 7, 9)]\n",
            "matches: [(11840699188806025751, 1, 2)]\n",
            "matches: [(11840699188806025751, 2, 3), (11840699188806025751, 2, 4)]\n",
            "matches: [(11840699188806025751, 4, 5)]\n",
            "matches: [(11840699188806025751, 12, 13)]\n",
            "matches: [(11840699188806025751, 5, 6)]\n",
            "matches: [(11840699188806025751, 1, 2)]\n",
            "matches: [(11840699188806025751, 11, 12)]\n",
            "matches: [(11840699188806025751, 2, 3)]\n",
            "matches: [(11840699188806025751, 4, 5)]\n",
            "matches: [(11840699188806025751, 10, 11)]\n",
            "matches: [(11840699188806025751, 8, 9)]\n",
            "matches: [(11840699188806025751, 2, 3)]\n",
            "matches: [(11840699188806025751, 3, 4)]\n",
            "matches: [(11840699188806025751, 6, 7)]\n",
            "matches: [(11840699188806025751, 1, 2)]\n"
          ],
          "name": "stdout"
        },
        {
          "output_type": "stream",
          "text": [
            "  8%|▊         | 325/4318 [00:03<00:45, 87.09it/s]"
          ],
          "name": "stderr"
        },
        {
          "output_type": "stream",
          "text": [
            "matches: [(11840699188806025751, 1, 2)]\n",
            "matches: [(11840699188806025751, 1, 2)]\n",
            "matches: [(11840699188806025751, 3, 4), (11840699188806025751, 3, 5)]\n",
            "matches: [(11840699188806025751, 2, 3), (11840699188806025751, 2, 4), (11840699188806025751, 2, 5)]\n",
            "matches: [(11840699188806025751, 1, 2)]\n",
            "matches: [(11840699188806025751, 2, 3)]\n",
            "matches: [(11840699188806025751, 2, 3)]\n",
            "matches: [(11840699188806025751, 3, 4)]\n",
            "matches: [(11840699188806025751, 6, 7), (11840699188806025751, 6, 8)]\n",
            "matches: [(11840699188806025751, 4, 5), (11840699188806025751, 4, 6), (11840699188806025751, 4, 7)]\n",
            "matches: [(11840699188806025751, 1, 2)]\n",
            "matches: [(11840699188806025751, 5, 6), (11840699188806025751, 5, 7)]\n",
            "matches: [(11840699188806025751, 1, 2)]\n",
            "matches: [(11840699188806025751, 2, 3)]\n",
            "matches: [(11840699188806025751, 4, 5)]\n",
            "matches: [(11840699188806025751, 2, 3)]\n",
            "matches: [(11840699188806025751, 2, 3)]\n",
            "matches: [(11840699188806025751, 5, 6), (11840699188806025751, 5, 7)]\n",
            "matches: [(11840699188806025751, 4, 5), (11840699188806025751, 4, 6), (11840699188806025751, 4, 7)]\n"
          ],
          "name": "stdout"
        },
        {
          "output_type": "stream",
          "text": [
            "  8%|▊         | 343/4318 [00:03<00:45, 87.23it/s]"
          ],
          "name": "stderr"
        },
        {
          "output_type": "stream",
          "text": [
            "matches: [(11840699188806025751, 3, 4), (11840699188806025751, 3, 5)]\n",
            "matches: [(11840699188806025751, 1, 2)]\n",
            "matches: [(11840699188806025751, 1, 2)]\n",
            "matches: [(11840699188806025751, 2, 3)]\n",
            "matches: [(11840699188806025751, 4, 5)]\n",
            "matches: [(11840699188806025751, 2, 3)]\n",
            "matches: [(11840699188806025751, 2, 3)]\n",
            "matches: [(11840699188806025751, 5, 6), (11840699188806025751, 5, 7)]\n",
            "matches: [(11840699188806025751, 4, 5), (11840699188806025751, 4, 6), (11840699188806025751, 4, 7)]\n",
            "matches: [(11840699188806025751, 3, 4), (11840699188806025751, 3, 5)]\n",
            "matches: [(11840699188806025751, 1, 2)]\n",
            "matches: [(11840699188806025751, 1, 2), (11840699188806025751, 1, 3)]\n",
            "matches: [(11840699188806025751, 5, 6), (11840699188806025751, 9, 10), (11840699188806025751, 9, 11)]\n",
            "matches: [(11840699188806025751, 2, 3)]\n",
            "matches: [(11840699188806025751, 3, 4)]\n",
            "matches: [(11840699188806025751, 2, 3)]\n",
            "matches: [(11840699188806025751, 3, 4), (11840699188806025751, 3, 5)]\n",
            "matches: [(11840699188806025751, 8, 9), (11840699188806025751, 8, 10)]\n"
          ],
          "name": "stdout"
        },
        {
          "output_type": "stream",
          "text": [
            "  8%|▊         | 362/4318 [00:04<00:45, 87.56it/s]"
          ],
          "name": "stderr"
        },
        {
          "output_type": "stream",
          "text": [
            "matches: [(11840699188806025751, 3, 4)]\n",
            "matches: [(11840699188806025751, 4, 5), (11840699188806025751, 4, 6)]\n",
            "matches: [(11840699188806025751, 10, 11), (11840699188806025751, 10, 12)]\n",
            "matches: [(11840699188806025751, 4, 5), (11840699188806025751, 4, 6)]\n",
            "matches: [(11840699188806025751, 1, 2)]\n",
            "matches: [(11840699188806025751, 5, 6), (11840699188806025751, 5, 7)]\n",
            "matches: [(11840699188806025751, 2, 3)]\n",
            "matches: [(11840699188806025751, 5, 6)]\n",
            "matches: [(11840699188806025751, 4, 5), (11840699188806025751, 4, 6)]\n",
            "matches: [(11840699188806025751, 6, 7), (11840699188806025751, 6, 8), (11840699188806025751, 6, 9)]\n",
            "matches: [(11840699188806025751, 4, 5), (11840699188806025751, 4, 6)]\n",
            "matches: [(11840699188806025751, 1, 2)]\n",
            "matches: [(11840699188806025751, 5, 6), (11840699188806025751, 5, 7)]\n",
            "matches: [(11840699188806025751, 1, 2)]\n",
            "matches: [(11840699188806025751, 2, 3), (11840699188806025751, 2, 4)]\n",
            "matches: [(11840699188806025751, 7, 8), (11840699188806025751, 7, 9)]\n",
            "matches: [(11840699188806025751, 2, 3)]\n",
            "matches: [(11840699188806025751, 4, 5), (11840699188806025751, 4, 6)]\n",
            "matches: [(11840699188806025751, 4, 5)]\n"
          ],
          "name": "stdout"
        },
        {
          "output_type": "stream",
          "text": [
            "  9%|▉         | 380/4318 [00:04<00:46, 85.30it/s]"
          ],
          "name": "stderr"
        },
        {
          "output_type": "stream",
          "text": [
            "matches: [(11840699188806025751, 3, 4)]\n",
            "matches: [(11840699188806025751, 4, 5)]\n",
            "matches: [(11840699188806025751, 5, 6), (11840699188806025751, 10, 11)]\n",
            "matches: [(11840699188806025751, 2, 3)]\n",
            "matches: [(11840699188806025751, 5, 6), (11840699188806025751, 5, 7)]\n",
            "matches: [(11840699188806025751, 2, 3), (11840699188806025751, 2, 4)]\n",
            "matches: [(11840699188806025751, 1, 2)]\n",
            "matches: [(11840699188806025751, 8, 9), (11840699188806025751, 8, 10)]\n",
            "matches: [(11840699188806025751, 4, 5), (11840699188806025751, 4, 6)]\n",
            "matches: [(11840699188806025751, 1, 2)]\n",
            "matches: [(11840699188806025751, 3, 4), (11840699188806025751, 3, 5)]\n",
            "matches: [(11840699188806025751, 2, 3)]\n",
            "matches: [(11840699188806025751, 2, 3)]\n",
            "matches: [(11840699188806025751, 1, 2)]\n",
            "matches: [(11840699188806025751, 1, 2)]\n",
            "matches: [(11840699188806025751, 1, 2)]\n",
            "matches: [(11840699188806025751, 7, 8), (11840699188806025751, 7, 9)]\n",
            "matches: [(11840699188806025751, 4, 5), (11840699188806025751, 4, 6)]\n"
          ],
          "name": "stdout"
        },
        {
          "output_type": "stream",
          "text": [
            "\r  9%|▉         | 390/4318 [00:04<00:45, 86.95it/s]"
          ],
          "name": "stderr"
        },
        {
          "output_type": "stream",
          "text": [
            "matches: [(11840699188806025751, 3, 4)]\n",
            "matches: [(11840699188806025751, 1, 2)]\n",
            "matches: [(11840699188806025751, 9, 10), (11840699188806025751, 9, 11)]\n",
            "matches: [(11840699188806025751, 1, 2)]\n",
            "matches: [(11840699188806025751, 2, 3), (11840699188806025751, 2, 4)]\n",
            "matches: [(11840699188806025751, 4, 5)]\n",
            "matches: [(11840699188806025751, 4, 5), (11840699188806025751, 4, 6)]\n",
            "matches: [(11840699188806025751, 5, 6)]\n",
            "matches: [(11840699188806025751, 4, 5), (11840699188806025751, 4, 6)]\n",
            "matches: [(11840699188806025751, 5, 6)]\n",
            "matches: [(11840699188806025751, 6, 7), (11840699188806025751, 6, 8)]\n",
            "matches: [(11840699188806025751, 1, 2)]\n",
            "matches: [(11840699188806025751, 1, 2)]\n",
            "matches: [(11840699188806025751, 1, 2)]\n",
            "matches: [(11840699188806025751, 2, 3), (11840699188806025751, 2, 4)]\n",
            "matches: [(11840699188806025751, 3, 4)]\n",
            "matches: [(11840699188806025751, 8, 9)]\n",
            "matches: [(11840699188806025751, 2, 3)]\n",
            "matches: [(11840699188806025751, 7, 8)]\n"
          ],
          "name": "stdout"
        },
        {
          "output_type": "stream",
          "text": [
            "  9%|▉         | 410/4318 [00:04<00:43, 89.30it/s]"
          ],
          "name": "stderr"
        },
        {
          "output_type": "stream",
          "text": [
            "matches: [(11840699188806025751, 2, 3)]\n",
            "matches: [(11840699188806025751, 1, 2), (11840699188806025751, 1, 3)]\n",
            "matches: [(11840699188806025751, 1, 2)]\n",
            "matches: [(11840699188806025751, 1, 2)]\n",
            "matches: [(11840699188806025751, 3, 4)]\n",
            "matches: [(11840699188806025751, 2, 3)]\n",
            "matches: [(11840699188806025751, 3, 4)]\n",
            "matches: [(11840699188806025751, 2, 3)]\n",
            "matches: [(11840699188806025751, 4, 5), (11840699188806025751, 4, 6)]\n",
            "matches: [(11840699188806025751, 8, 9)]\n",
            "matches: [(11840699188806025751, 2, 3)]\n",
            "matches: [(11840699188806025751, 1, 2)]\n",
            "matches: [(11840699188806025751, 4, 5)]\n",
            "matches: [(11840699188806025751, 3, 4)]\n",
            "matches: [(11840699188806025751, 3, 4), (11840699188806025751, 3, 5)]\n",
            "matches: [(11840699188806025751, 1, 2)]\n",
            "matches: [(11840699188806025751, 2, 3)]\n",
            "matches: [(11840699188806025751, 1, 2), (11840699188806025751, 3, 4)]\n",
            "matches: [(11840699188806025751, 3, 4), (11840699188806025751, 3, 5)]\n",
            "matches: [(11840699188806025751, 2, 3)]\n"
          ],
          "name": "stdout"
        },
        {
          "output_type": "stream",
          "text": [
            " 10%|▉         | 430/4318 [00:04<00:42, 91.10it/s]"
          ],
          "name": "stderr"
        },
        {
          "output_type": "stream",
          "text": [
            "matches: [(11840699188806025751, 5, 6), (11840699188806025751, 5, 7)]\n",
            "matches: [(11840699188806025751, 2, 3)]\n",
            "matches: [(11840699188806025751, 5, 6)]\n",
            "matches: [(11840699188806025751, 6, 7)]\n",
            "matches: [(11840699188806025751, 2, 3)]\n",
            "matches: [(11840699188806025751, 1, 2)]\n",
            "matches: [(11840699188806025751, 6, 7), (11840699188806025751, 6, 8)]\n",
            "matches: [(11840699188806025751, 3, 4), (11840699188806025751, 3, 5)]\n",
            "matches: [(11840699188806025751, 2, 3), (11840699188806025751, 2, 4)]\n",
            "matches: [(11840699188806025751, 2, 3)]\n",
            "matches: [(11840699188806025751, 2, 3), (11840699188806025751, 2, 4)]\n",
            "matches: [(11840699188806025751, 5, 6)]\n",
            "matches: [(11840699188806025751, 2, 3), (11840699188806025751, 2, 4)]\n",
            "matches: [(11840699188806025751, 3, 4), (11840699188806025751, 3, 5)]\n",
            "matches: [(11840699188806025751, 3, 4)]\n",
            "matches: [(11840699188806025751, 3, 4)]\n",
            "matches: [(11840699188806025751, 1, 2)]\n",
            "matches: [(11840699188806025751, 6, 7), (11840699188806025751, 6, 8)]\n",
            "matches: [(11840699188806025751, 4, 5), (11840699188806025751, 4, 6)]\n"
          ],
          "name": "stdout"
        },
        {
          "output_type": "stream",
          "text": [
            " 10%|█         | 450/4318 [00:05<00:44, 87.43it/s]"
          ],
          "name": "stderr"
        },
        {
          "output_type": "stream",
          "text": [
            "matches: [(11840699188806025751, 6, 7), (11840699188806025751, 6, 8)]\n",
            "matches: [(11840699188806025751, 3, 4)]\n",
            "matches: [(11840699188806025751, 1, 2)]\n",
            "matches: [(11840699188806025751, 3, 4)]\n",
            "matches: [(11840699188806025751, 6, 7)]\n",
            "matches: [(11840699188806025751, 2, 3)]\n",
            "matches: [(11840699188806025751, 2, 3)]\n",
            "matches: [(11840699188806025751, 9, 10)]\n",
            "matches: [(11840699188806025751, 2, 3)]\n",
            "matches: [(11840699188806025751, 9, 10)]\n",
            "matches: [(11840699188806025751, 4, 5)]\n",
            "matches: [(11840699188806025751, 2, 3), (11840699188806025751, 2, 4)]\n",
            "matches: [(11840699188806025751, 10, 11)]\n",
            "matches: [(11840699188806025751, 4, 5)]\n",
            "matches: [(11840699188806025751, 8, 9)]\n",
            "matches: [(11840699188806025751, 10, 11)]\n",
            "matches: [(11840699188806025751, 32, 33)]\n"
          ],
          "name": "stdout"
        },
        {
          "output_type": "stream",
          "text": [
            " 11%|█         | 469/4318 [00:05<00:44, 87.01it/s]"
          ],
          "name": "stderr"
        },
        {
          "output_type": "stream",
          "text": [
            "matches: [(11840699188806025751, 4, 5), (11840699188806025751, 4, 6)]\n",
            "matches: [(11840699188806025751, 8, 9)]\n",
            "matches: [(11840699188806025751, 5, 6), (11840699188806025751, 5, 7)]\n",
            "matches: [(11840699188806025751, 3, 4)]\n",
            "matches: [(11840699188806025751, 2, 3)]\n",
            "matches: [(11840699188806025751, 4, 5)]\n",
            "matches: [(11840699188806025751, 10, 11)]\n",
            "matches: [(11840699188806025751, 4, 5), (11840699188806025751, 4, 6)]\n",
            "matches: [(11840699188806025751, 4, 5)]\n",
            "matches: [(11840699188806025751, 1, 2), (11840699188806025751, 1, 3)]\n",
            "matches: [(11840699188806025751, 2, 3), (11840699188806025751, 2, 4), (11840699188806025751, 2, 5)]\n",
            "matches: [(11840699188806025751, 4, 5)]\n",
            "matches: [(11840699188806025751, 2, 3)]\n",
            "matches: [(11840699188806025751, 3, 4)]\n",
            "matches: [(11840699188806025751, 3, 4), (11840699188806025751, 3, 5)]\n",
            "matches: [(11840699188806025751, 2, 3), (11840699188806025751, 2, 4), (11840699188806025751, 2, 5)]\n",
            "matches: [(11840699188806025751, 4, 5)]\n",
            "matches: [(11840699188806025751, 21, 22)]\n"
          ],
          "name": "stdout"
        },
        {
          "output_type": "stream",
          "text": [
            " 11%|█▏        | 487/4318 [00:05<00:44, 85.83it/s]"
          ],
          "name": "stderr"
        },
        {
          "output_type": "stream",
          "text": [
            "matches: [(11840699188806025751, 8, 9)]\n",
            "matches: [(11840699188806025751, 5, 6)]\n",
            "matches: [(11840699188806025751, 2, 3), (11840699188806025751, 2, 4)]\n",
            "matches: [(11840699188806025751, 15, 16)]\n",
            "matches: [(11840699188806025751, 4, 5), (11840699188806025751, 4, 6)]\n",
            "matches: [(11840699188806025751, 1, 2)]\n",
            "matches: [(11840699188806025751, 3, 4), (11840699188806025751, 3, 5), (11840699188806025751, 3, 6)]\n",
            "matches: [(11840699188806025751, 3, 4), (11840699188806025751, 3, 5)]\n",
            "matches: [(11840699188806025751, 2, 3), (11840699188806025751, 2, 4), (11840699188806025751, 2, 5)]\n",
            "matches: [(11840699188806025751, 4, 5)]\n",
            "matches: [(11840699188806025751, 21, 22)]\n",
            "matches: [(11840699188806025751, 8, 9)]\n",
            "matches: [(11840699188806025751, 5, 6)]\n",
            "matches: [(11840699188806025751, 2, 3), (11840699188806025751, 2, 4)]\n",
            "matches: [(11840699188806025751, 15, 16)]\n",
            "matches: [(11840699188806025751, 4, 5), (11840699188806025751, 4, 6)]\n",
            "matches: [(11840699188806025751, 1, 2)]\n",
            "matches: [(11840699188806025751, 3, 4), (11840699188806025751, 3, 5), (11840699188806025751, 3, 6)]\n",
            "matches: [(11840699188806025751, 5, 6), (11840699188806025751, 5, 7)]\n"
          ],
          "name": "stdout"
        },
        {
          "output_type": "stream",
          "text": [
            " 12%|█▏        | 506/4318 [00:05<00:43, 87.07it/s]"
          ],
          "name": "stderr"
        },
        {
          "output_type": "stream",
          "text": [
            "matches: [(11840699188806025751, 5, 6), (11840699188806025751, 5, 7)]\n",
            "matches: [(11840699188806025751, 10, 11), (11840699188806025751, 10, 12)]\n",
            "matches: [(11840699188806025751, 4, 5), (11840699188806025751, 4, 6)]\n",
            "matches: [(11840699188806025751, 1, 2)]\n",
            "matches: [(11840699188806025751, 4, 5)]\n",
            "matches: [(11840699188806025751, 1, 2)]\n",
            "matches: [(11840699188806025751, 5, 6), (11840699188806025751, 5, 7)]\n",
            "matches: [(11840699188806025751, 5, 6), (11840699188806025751, 5, 7)]\n",
            "matches: [(11840699188806025751, 10, 11), (11840699188806025751, 10, 12)]\n",
            "matches: [(11840699188806025751, 4, 5), (11840699188806025751, 4, 6)]\n",
            "matches: [(11840699188806025751, 1, 2)]\n",
            "matches: [(11840699188806025751, 4, 5)]\n",
            "matches: [(11840699188806025751, 1, 2)]\n",
            "matches: [(11840699188806025751, 3, 4)]\n",
            "matches: [(11840699188806025751, 2, 3)]\n",
            "matches: [(11840699188806025751, 3, 4)]\n",
            "matches: [(11840699188806025751, 3, 4), (11840699188806025751, 3, 5)]\n",
            "matches: [(11840699188806025751, 9, 10)]\n"
          ],
          "name": "stdout"
        },
        {
          "output_type": "stream",
          "text": [
            " 12%|█▏        | 524/4318 [00:06<00:44, 85.85it/s]"
          ],
          "name": "stderr"
        },
        {
          "output_type": "stream",
          "text": [
            "matches: [(11840699188806025751, 1, 2), (11840699188806025751, 1, 3)]\n",
            "matches: [(11840699188806025751, 3, 4), (11840699188806025751, 3, 5)]\n",
            "matches: [(11840699188806025751, 5, 6)]\n",
            "matches: [(11840699188806025751, 2, 3), (11840699188806025751, 2, 4)]\n",
            "matches: [(11840699188806025751, 1, 2), (11840699188806025751, 1, 3)]\n",
            "matches: [(11840699188806025751, 0, 1)]\n",
            "matches: [(11840699188806025751, 1, 2)]\n",
            "matches: [(11840699188806025751, 2, 3)]\n",
            "matches: [(11840699188806025751, 1, 2)]\n",
            "matches: [(11840699188806025751, 3, 4)]\n",
            "matches: [(11840699188806025751, 2, 3), (11840699188806025751, 2, 4)]\n",
            "matches: [(11840699188806025751, 3, 4), (11840699188806025751, 3, 5)]\n",
            "matches: [(11840699188806025751, 5, 6)]\n",
            "matches: [(11840699188806025751, 3, 4)]\n",
            "matches: [(11840699188806025751, 4, 5)]\n",
            "matches: [(11840699188806025751, 9, 10)]\n",
            "matches: [(11840699188806025751, 3, 4)]\n"
          ],
          "name": "stdout"
        },
        {
          "output_type": "stream",
          "text": [
            " 13%|█▎        | 543/4318 [00:06<00:43, 86.35it/s]"
          ],
          "name": "stderr"
        },
        {
          "output_type": "stream",
          "text": [
            "matches: [(11840699188806025751, 3, 4)]\n",
            "matches: [(11840699188806025751, 6, 7), (11840699188806025751, 6, 8)]\n",
            "matches: [(11840699188806025751, 10, 11)]\n",
            "matches: [(11840699188806025751, 5, 6)]\n",
            "matches: [(11840699188806025751, 5, 6)]\n",
            "matches: [(11840699188806025751, 8, 9)]\n",
            "matches: [(11840699188806025751, 1, 2), (11840699188806025751, 1, 3)]\n",
            "matches: [(11840699188806025751, 2, 3)]\n",
            "matches: [(11840699188806025751, 5, 6), (11840699188806025751, 5, 7)]\n",
            "matches: [(11840699188806025751, 1, 2)]\n",
            "matches: [(11840699188806025751, 3, 4), (11840699188806025751, 3, 5)]\n",
            "matches: [(11840699188806025751, 3, 4), (11840699188806025751, 3, 5)]\n",
            "matches: [(11840699188806025751, 4, 5)]\n",
            "matches: [(11840699188806025751, 4, 5), (11840699188806025751, 4, 6)]\n",
            "matches: [(11840699188806025751, 3, 4)]\n",
            "matches: [(11840699188806025751, 9, 10)]\n",
            "matches: [(11840699188806025751, 4, 5), (11840699188806025751, 4, 6)]\n",
            "matches: [(11840699188806025751, 2, 3), (11840699188806025751, 4, 5)]\n",
            "matches: [(11840699188806025751, 5, 6)]\n"
          ],
          "name": "stdout"
        },
        {
          "output_type": "stream",
          "text": [
            " 13%|█▎        | 561/4318 [00:06<00:43, 86.65it/s]"
          ],
          "name": "stderr"
        },
        {
          "output_type": "stream",
          "text": [
            "matches: [(11840699188806025751, 5, 6)]\n",
            "matches: [(11840699188806025751, 4, 5)]\n",
            "matches: [(11840699188806025751, 2, 3)]\n",
            "matches: [(11840699188806025751, 3, 4), (11840699188806025751, 3, 5)]\n",
            "matches: [(11840699188806025751, 2, 3), (11840699188806025751, 2, 4)]\n",
            "matches: [(11840699188806025751, 2, 3), (11840699188806025751, 2, 4)]\n",
            "matches: [(11840699188806025751, 1, 2)]\n",
            "matches: [(11840699188806025751, 2, 3)]\n",
            "matches: [(11840699188806025751, 5, 6)]\n",
            "matches: [(11840699188806025751, 1, 2)]\n",
            "matches: [(11840699188806025751, 2, 3)]\n",
            "matches: [(11840699188806025751, 3, 4)]\n",
            "matches: [(11840699188806025751, 1, 2)]\n",
            "matches: [(11840699188806025751, 1, 2)]\n",
            "matches: [(11840699188806025751, 2, 3)]\n",
            "matches: [(11840699188806025751, 7, 8)]\n",
            "matches: [(11840699188806025751, 1, 2)]\n",
            "matches: [(11840699188806025751, 4, 5), (11840699188806025751, 4, 6)]\n"
          ],
          "name": "stdout"
        },
        {
          "output_type": "stream",
          "text": [
            " 13%|█▎        | 580/4318 [00:06<00:42, 87.48it/s]"
          ],
          "name": "stderr"
        },
        {
          "output_type": "stream",
          "text": [
            "matches: [(11840699188806025751, 1, 2)]\n",
            "matches: [(11840699188806025751, 1, 2)]\n",
            "matches: [(11840699188806025751, 1, 2)]\n",
            "matches: [(11840699188806025751, 2, 3)]\n",
            "matches: [(11840699188806025751, 6, 7)]\n",
            "matches: [(11840699188806025751, 3, 4)]\n",
            "matches: [(11840699188806025751, 3, 4)]\n",
            "matches: [(11840699188806025751, 3, 4)]\n",
            "matches: [(11840699188806025751, 8, 9)]\n",
            "matches: [(11840699188806025751, 4, 5)]\n",
            "matches: [(11840699188806025751, 1, 2)]\n",
            "matches: [(11840699188806025751, 3, 4), (11840699188806025751, 3, 5)]\n",
            "matches: [(11840699188806025751, 3, 4)]\n",
            "matches: [(11840699188806025751, 5, 6)]\n",
            "matches: [(11840699188806025751, 3, 4), (11840699188806025751, 3, 5)]\n",
            "matches: [(11840699188806025751, 4, 5), (11840699188806025751, 4, 6)]\n",
            "matches: [(11840699188806025751, 3, 4)]\n",
            "matches: [(11840699188806025751, 3, 4), (11840699188806025751, 3, 5)]\n",
            "matches: [(11840699188806025751, 3, 4), (11840699188806025751, 3, 5)]\n"
          ],
          "name": "stdout"
        },
        {
          "output_type": "stream",
          "text": [
            " 14%|█▍        | 600/4318 [00:06<00:41, 90.46it/s]"
          ],
          "name": "stderr"
        },
        {
          "output_type": "stream",
          "text": [
            "matches: [(11840699188806025751, 3, 4), (11840699188806025751, 3, 5)]\n",
            "matches: [(11840699188806025751, 3, 4), (11840699188806025751, 3, 5)]\n",
            "matches: [(11840699188806025751, 3, 4), (11840699188806025751, 3, 5)]\n",
            "matches: [(11840699188806025751, 4, 5)]\n",
            "matches: [(11840699188806025751, 4, 5)]\n",
            "matches: [(11840699188806025751, 3, 4), (11840699188806025751, 3, 5)]\n",
            "matches: [(11840699188806025751, 3, 4), (11840699188806025751, 3, 5)]\n",
            "matches: [(11840699188806025751, 10, 11)]\n",
            "matches: [(11840699188806025751, 3, 4), (11840699188806025751, 3, 5)]\n",
            "matches: [(11840699188806025751, 3, 4), (11840699188806025751, 3, 5)]\n",
            "matches: [(11840699188806025751, 6, 7), (11840699188806025751, 6, 8)]\n",
            "matches: [(11840699188806025751, 2, 3), (11840699188806025751, 2, 4)]\n",
            "matches: [(11840699188806025751, 3, 4), (11840699188806025751, 3, 5)]\n",
            "matches: [(11840699188806025751, 10, 11)]\n",
            "matches: [(11840699188806025751, 1, 2)]\n",
            "matches: [(11840699188806025751, 6, 7), (11840699188806025751, 6, 8)]\n",
            "matches: [(11840699188806025751, 6, 7)]\n",
            "matches: [(11840699188806025751, 9, 10)]\n",
            "matches: [(11840699188806025751, 8, 9)]\n"
          ],
          "name": "stdout"
        },
        {
          "output_type": "stream",
          "text": [
            " 14%|█▍        | 619/4318 [00:07<00:42, 86.69it/s]"
          ],
          "name": "stderr"
        },
        {
          "output_type": "stream",
          "text": [
            "matches: [(11840699188806025751, 1, 2)]\n",
            "matches: [(11840699188806025751, 5, 6), (11840699188806025751, 5, 7)]\n",
            "matches: [(11840699188806025751, 1, 2)]\n",
            "matches: [(11840699188806025751, 8, 9)]\n",
            "matches: [(11840699188806025751, 1, 2)]\n",
            "matches: [(11840699188806025751, 11, 12), (11840699188806025751, 11, 13)]\n",
            "matches: [(11840699188806025751, 3, 4), (11840699188806025751, 3, 5)]\n",
            "matches: [(11840699188806025751, 3, 4)]\n",
            "matches: [(11840699188806025751, 7, 8), (11840699188806025751, 7, 9)]\n",
            "matches: [(11840699188806025751, 2, 3)]\n",
            "matches: [(11840699188806025751, 2, 3), (11840699188806025751, 2, 4)]\n",
            "matches: [(11840699188806025751, 3, 4), (11840699188806025751, 3, 5)]\n",
            "matches: [(11840699188806025751, 1, 2)]\n",
            "matches: [(11840699188806025751, 3, 4), (11840699188806025751, 3, 5)]\n",
            "matches: [(11840699188806025751, 2, 3), (11840699188806025751, 2, 4)]\n",
            "matches: [(11840699188806025751, 3, 4), (11840699188806025751, 3, 5)]\n",
            "matches: [(11840699188806025751, 4, 5)]\n",
            "matches: [(11840699188806025751, 3, 4), (11840699188806025751, 3, 5)]\n"
          ],
          "name": "stdout"
        },
        {
          "output_type": "stream",
          "text": [
            " 15%|█▍        | 637/4318 [00:07<00:42, 86.52it/s]"
          ],
          "name": "stderr"
        },
        {
          "output_type": "stream",
          "text": [
            "matches: [(11840699188806025751, 1, 2)]\n",
            "matches: [(11840699188806025751, 2, 3)]\n",
            "matches: [(11840699188806025751, 1, 2)]\n",
            "matches: [(11840699188806025751, 6, 7)]\n",
            "matches: [(11840699188806025751, 9, 10)]\n",
            "matches: [(11840699188806025751, 8, 9)]\n",
            "matches: [(11840699188806025751, 1, 2)]\n",
            "matches: [(11840699188806025751, 5, 6), (11840699188806025751, 5, 7)]\n",
            "matches: [(11840699188806025751, 1, 2)]\n",
            "matches: [(11840699188806025751, 8, 9)]\n",
            "matches: [(11840699188806025751, 1, 2)]\n",
            "matches: [(11840699188806025751, 11, 12), (11840699188806025751, 11, 13)]\n",
            "matches: [(11840699188806025751, 3, 4), (11840699188806025751, 3, 5)]\n",
            "matches: [(11840699188806025751, 3, 4)]\n",
            "matches: [(11840699188806025751, 7, 8), (11840699188806025751, 7, 9)]\n",
            "matches: [(11840699188806025751, 2, 3)]\n",
            "matches: [(11840699188806025751, 2, 3), (11840699188806025751, 2, 4)]\n",
            "matches: [(11840699188806025751, 3, 4), (11840699188806025751, 3, 5)]\n"
          ],
          "name": "stdout"
        },
        {
          "output_type": "stream",
          "text": [
            " 15%|█▌        | 655/4318 [00:07<00:42, 86.95it/s]"
          ],
          "name": "stderr"
        },
        {
          "output_type": "stream",
          "text": [
            "matches: [(11840699188806025751, 1, 2)]\n",
            "matches: [(11840699188806025751, 3, 4), (11840699188806025751, 3, 5)]\n",
            "matches: [(11840699188806025751, 2, 3), (11840699188806025751, 2, 4)]\n",
            "matches: [(11840699188806025751, 3, 4), (11840699188806025751, 3, 5)]\n",
            "matches: [(11840699188806025751, 4, 5)]\n",
            "matches: [(11840699188806025751, 3, 4), (11840699188806025751, 3, 5)]\n",
            "matches: [(11840699188806025751, 1, 2)]\n",
            "matches: [(11840699188806025751, 2, 3)]\n",
            "matches: [(11840699188806025751, 1, 2)]\n",
            "matches: [(11840699188806025751, 3, 4)]\n",
            "matches: [(11840699188806025751, 14, 15)]\n",
            "matches: [(11840699188806025751, 2, 3)]\n",
            "matches: [(11840699188806025751, 1, 2)]\n",
            "matches: [(11840699188806025751, 8, 9)]\n",
            "matches: [(11840699188806025751, 6, 7), (11840699188806025751, 6, 8)]\n",
            "matches: [(11840699188806025751, 8, 9), (11840699188806025751, 8, 10)]\n",
            "matches: [(11840699188806025751, 3, 4)]\n",
            "matches: [(11840699188806025751, 3, 4)]\n"
          ],
          "name": "stdout"
        },
        {
          "output_type": "stream",
          "text": [
            " 16%|█▌        | 674/4318 [00:07<00:41, 87.80it/s]"
          ],
          "name": "stderr"
        },
        {
          "output_type": "stream",
          "text": [
            "matches: [(11840699188806025751, 14, 15)]\n",
            "matches: [(11840699188806025751, 2, 3)]\n",
            "matches: [(11840699188806025751, 1, 2)]\n",
            "matches: [(11840699188806025751, 8, 9)]\n",
            "matches: [(11840699188806025751, 6, 7), (11840699188806025751, 6, 8)]\n",
            "matches: [(11840699188806025751, 8, 9), (11840699188806025751, 8, 10)]\n",
            "matches: [(11840699188806025751, 3, 4)]\n",
            "matches: [(11840699188806025751, 2, 3)]\n",
            "matches: [(11840699188806025751, 4, 5)]\n",
            "matches: [(11840699188806025751, 5, 6), (11840699188806025751, 5, 7)]\n",
            "matches: [(11840699188806025751, 1, 2), (11840699188806025751, 1, 3)]\n",
            "matches: [(11840699188806025751, 4, 5)]\n",
            "matches: [(11840699188806025751, 4, 5), (11840699188806025751, 4, 6), (11840699188806025751, 4, 7)]\n",
            "matches: [(11840699188806025751, 2, 3), (11840699188806025751, 2, 4)]\n",
            "matches: [(11840699188806025751, 3, 4)]\n",
            "matches: [(11840699188806025751, 4, 5), (11840699188806025751, 4, 6)]\n",
            "matches: [(11840699188806025751, 5, 6), (11840699188806025751, 5, 7), (11840699188806025751, 10, 11)]\n",
            "matches: [(11840699188806025751, 12, 13)]\n",
            "matches: [(11840699188806025751, 7, 8), (11840699188806025751, 7, 9)]\n"
          ],
          "name": "stdout"
        },
        {
          "output_type": "stream",
          "text": [
            " 16%|█▌        | 693/4318 [00:08<00:40, 88.49it/s]"
          ],
          "name": "stderr"
        },
        {
          "output_type": "stream",
          "text": [
            "matches: [(11840699188806025751, 2, 3)]\n",
            "matches: [(11840699188806025751, 4, 5), (11840699188806025751, 4, 6)]\n",
            "matches: [(11840699188806025751, 15, 16), (11840699188806025751, 15, 17)]\n",
            "matches: [(11840699188806025751, 2, 3)]\n",
            "matches: [(11840699188806025751, 4, 5), (11840699188806025751, 4, 6)]\n",
            "matches: [(11840699188806025751, 1, 2), (11840699188806025751, 1, 3)]\n",
            "matches: [(11840699188806025751, 5, 6)]\n",
            "matches: [(11840699188806025751, 6, 7)]\n",
            "matches: [(11840699188806025751, 9, 10)]\n",
            "matches: [(11840699188806025751, 1, 2)]\n",
            "matches: [(11840699188806025751, 6, 7)]\n",
            "matches: [(11840699188806025751, 7, 8)]\n",
            "matches: [(11840699188806025751, 1, 2)]\n",
            "matches: [(11840699188806025751, 2, 3)]\n",
            "matches: [(11840699188806025751, 3, 4), (11840699188806025751, 3, 5), (11840699188806025751, 3, 6)]\n",
            "matches: [(11840699188806025751, 5, 6), (11840699188806025751, 5, 7)]\n",
            "matches: [(11840699188806025751, 8, 9)]\n",
            "matches: [(11840699188806025751, 2, 3), (11840699188806025751, 2, 4), (11840699188806025751, 2, 5)]\n"
          ],
          "name": "stdout"
        },
        {
          "output_type": "stream",
          "text": [
            " 16%|█▋        | 711/4318 [00:08<00:41, 86.56it/s]"
          ],
          "name": "stderr"
        },
        {
          "output_type": "stream",
          "text": [
            "matches: [(11840699188806025751, 4, 5)]\n",
            "matches: [(11840699188806025751, 2, 3), (11840699188806025751, 2, 4)]\n",
            "matches: [(11840699188806025751, 5, 6)]\n",
            "matches: [(11840699188806025751, 5, 6)]\n",
            "matches: [(11840699188806025751, 5, 6)]\n",
            "matches: [(11840699188806025751, 2, 3), (11840699188806025751, 2, 4)]\n",
            "matches: [(11840699188806025751, 9, 10), (11840699188806025751, 9, 11)]\n",
            "matches: [(11840699188806025751, 1, 2)]\n",
            "matches: [(11840699188806025751, 6, 7)]\n",
            "matches: [(11840699188806025751, 5, 6), (11840699188806025751, 5, 7)]\n",
            "matches: [(11840699188806025751, 1, 2)]\n",
            "matches: [(11840699188806025751, 3, 4)]\n",
            "matches: [(11840699188806025751, 3, 4)]\n",
            "matches: [(11840699188806025751, 3, 4), (11840699188806025751, 3, 5)]\n",
            "matches: [(11840699188806025751, 2, 3)]\n",
            "matches: [(11840699188806025751, 1, 2)]\n",
            "matches: [(11840699188806025751, 7, 8)]\n",
            "matches: [(11840699188806025751, 2, 3)]\n"
          ],
          "name": "stdout"
        },
        {
          "output_type": "stream",
          "text": [
            " 17%|█▋        | 730/4318 [00:08<00:40, 87.62it/s]"
          ],
          "name": "stderr"
        },
        {
          "output_type": "stream",
          "text": [
            "matches: [(11840699188806025751, 2, 3)]\n",
            "matches: [(11840699188806025751, 4, 5), (11840699188806025751, 4, 6)]\n",
            "matches: [(11840699188806025751, 2, 3)]\n",
            "matches: [(11840699188806025751, 7, 8), (11840699188806025751, 7, 9)]\n",
            "matches: [(11840699188806025751, 4, 5), (11840699188806025751, 4, 6)]\n",
            "matches: [(11840699188806025751, 3, 4)]\n",
            "matches: [(11840699188806025751, 5, 6)]\n",
            "matches: [(11840699188806025751, 1, 2)]\n",
            "matches: [(11840699188806025751, 1, 2), (11840699188806025751, 1, 3)]\n",
            "matches: [(11840699188806025751, 1, 2)]\n",
            "matches: [(11840699188806025751, 7, 8)]\n",
            "matches: [(11840699188806025751, 3, 4), (11840699188806025751, 3, 5)]\n",
            "matches: [(11840699188806025751, 3, 4)]\n",
            "matches: [(11840699188806025751, 8, 9)]\n",
            "matches: [(11840699188806025751, 4, 5), (11840699188806025751, 4, 6)]\n",
            "matches: [(11840699188806025751, 5, 6)]\n",
            "matches: [(11840699188806025751, 4, 5)]\n",
            "matches: [(11840699188806025751, 1, 2)]\n",
            "matches: [(11840699188806025751, 2, 3), (11840699188806025751, 2, 4)]\n"
          ],
          "name": "stdout"
        },
        {
          "output_type": "stream",
          "text": [
            " 17%|█▋        | 749/4318 [00:08<00:40, 88.46it/s]"
          ],
          "name": "stderr"
        },
        {
          "output_type": "stream",
          "text": [
            "matches: [(11840699188806025751, 6, 7)]\n",
            "matches: [(11840699188806025751, 2, 3)]\n",
            "matches: [(11840699188806025751, 6, 7), (11840699188806025751, 6, 8)]\n",
            "matches: [(11840699188806025751, 2, 3), (11840699188806025751, 2, 4)]\n",
            "matches: [(11840699188806025751, 4, 5)]\n",
            "matches: [(11840699188806025751, 8, 9), (11840699188806025751, 8, 10)]\n",
            "matches: [(11840699188806025751, 4, 5), (11840699188806025751, 4, 6)]\n",
            "matches: [(11840699188806025751, 8, 9)]\n",
            "matches: [(11840699188806025751, 3, 4), (11840699188806025751, 3, 5)]\n",
            "matches: [(11840699188806025751, 3, 4)]\n",
            "matches: [(11840699188806025751, 2, 3)]\n",
            "matches: [(11840699188806025751, 1, 2)]\n",
            "matches: [(11840699188806025751, 1, 2)]\n",
            "matches: [(11840699188806025751, 2, 3)]\n",
            "matches: [(11840699188806025751, 3, 4)]\n",
            "matches: [(11840699188806025751, 4, 5)]\n",
            "matches: [(11840699188806025751, 5, 6)]\n",
            "matches: [(11840699188806025751, 4, 5)]\n",
            "matches: [(11840699188806025751, 3, 4)]\n"
          ],
          "name": "stdout"
        },
        {
          "output_type": "stream",
          "text": [
            " 18%|█▊        | 767/4318 [00:08<00:40, 87.59it/s]"
          ],
          "name": "stderr"
        },
        {
          "output_type": "stream",
          "text": [
            "matches: [(11840699188806025751, 8, 9)]\n",
            "matches: [(11840699188806025751, 5, 6)]\n",
            "matches: [(11840699188806025751, 3, 4)]\n",
            "matches: [(11840699188806025751, 4, 5)]\n",
            "matches: [(11840699188806025751, 4, 5)]\n",
            "matches: [(11840699188806025751, 7, 8)]\n",
            "matches: [(11840699188806025751, 4, 5)]\n",
            "matches: [(11840699188806025751, 4, 5), (11840699188806025751, 4, 6)]\n",
            "matches: [(11840699188806025751, 1, 2)]\n",
            "matches: [(11840699188806025751, 10, 11)]\n",
            "matches: [(11840699188806025751, 4, 5)]\n",
            "matches: [(11840699188806025751, 7, 8), (11840699188806025751, 7, 9)]\n",
            "matches: [(11840699188806025751, 5, 6)]\n",
            "matches: [(11840699188806025751, 4, 5), (11840699188806025751, 4, 6)]\n",
            "matches: [(11840699188806025751, 3, 4), (11840699188806025751, 3, 5)]\n",
            "matches: [(11840699188806025751, 3, 4), (11840699188806025751, 3, 5), (11840699188806025751, 8, 9), (11840699188806025751, 8, 10)]\n",
            "matches: [(11840699188806025751, 6, 7)]\n",
            "matches: [(11840699188806025751, 3, 4), (11840699188806025751, 3, 5), (11840699188806025751, 3, 6)]\n"
          ],
          "name": "stdout"
        },
        {
          "output_type": "stream",
          "text": [
            " 18%|█▊        | 785/4318 [00:09<00:40, 86.44it/s]"
          ],
          "name": "stderr"
        },
        {
          "output_type": "stream",
          "text": [
            "matches: [(11840699188806025751, 1, 2)]\n",
            "matches: [(11840699188806025751, 2, 3)]\n",
            "matches: [(11840699188806025751, 3, 4), (11840699188806025751, 3, 5), (11840699188806025751, 3, 6)]\n",
            "matches: [(11840699188806025751, 3, 4)]\n",
            "matches: [(11840699188806025751, 3, 4), (11840699188806025751, 3, 5)]\n",
            "matches: [(11840699188806025751, 8, 9), (11840699188806025751, 8, 10)]\n",
            "matches: [(11840699188806025751, 2, 3)]\n",
            "matches: [(11840699188806025751, 2, 3)]\n",
            "matches: [(11840699188806025751, 2, 3)]\n",
            "matches: [(11840699188806025751, 3, 4), (11840699188806025751, 3, 5)]\n",
            "matches: [(11840699188806025751, 3, 4)]\n",
            "matches: [(11840699188806025751, 8, 9), (11840699188806025751, 8, 10)]\n",
            "matches: [(11840699188806025751, 2, 3)]\n",
            "matches: [(11840699188806025751, 2, 3)]\n",
            "matches: [(11840699188806025751, 2, 3)]\n",
            "matches: [(11840699188806025751, 3, 4), (11840699188806025751, 3, 5)]\n",
            "matches: [(11840699188806025751, 3, 4)]\n",
            "matches: [(11840699188806025751, 1, 2)]\n"
          ],
          "name": "stdout"
        },
        {
          "output_type": "stream",
          "text": [
            " 19%|█▊        | 803/4318 [00:09<00:41, 85.00it/s]"
          ],
          "name": "stderr"
        },
        {
          "output_type": "stream",
          "text": [
            "matches: [(11840699188806025751, 35, 36), (11840699188806025751, 35, 37)]\n",
            "matches: [(11840699188806025751, 1, 2)]\n",
            "matches: [(11840699188806025751, 2, 3)]\n",
            "matches: [(11840699188806025751, 4, 5)]\n",
            "matches: [(11840699188806025751, 2, 3)]\n",
            "matches: [(11840699188806025751, 1, 2)]\n",
            "matches: [(11840699188806025751, 2, 3)]\n",
            "matches: [(11840699188806025751, 2, 3), (11840699188806025751, 2, 4)]\n",
            "matches: [(11840699188806025751, 5, 6)]\n",
            "matches: [(11840699188806025751, 3, 4)]\n",
            "matches: [(11840699188806025751, 1, 2)]\n",
            "matches: [(11840699188806025751, 2, 3)]\n",
            "matches: [(11840699188806025751, 1, 2)]\n",
            "matches: [(11840699188806025751, 9, 10)]\n",
            "matches: [(11840699188806025751, 5, 6), (11840699188806025751, 5, 7)]\n",
            "matches: [(11840699188806025751, 3, 4)]\n",
            "matches: [(11840699188806025751, 7, 8)]\n",
            "matches: [(11840699188806025751, 0, 1)]\n"
          ],
          "name": "stdout"
        },
        {
          "output_type": "stream",
          "text": [
            " 19%|█▉        | 821/4318 [00:09<00:40, 86.34it/s]"
          ],
          "name": "stderr"
        },
        {
          "output_type": "stream",
          "text": [
            "matches: [(11840699188806025751, 4, 5)]\n",
            "matches: [(11840699188806025751, 2, 3)]\n",
            "matches: [(11840699188806025751, 4, 5)]\n",
            "matches: [(11840699188806025751, 5, 6), (11840699188806025751, 5, 7)]\n",
            "matches: [(11840699188806025751, 3, 4), (11840699188806025751, 11, 12)]\n",
            "matches: [(11840699188806025751, 5, 6)]\n",
            "matches: [(11840699188806025751, 1, 2)]\n",
            "matches: [(11840699188806025751, 6, 7)]\n",
            "matches: [(11840699188806025751, 12, 13)]\n",
            "matches: [(11840699188806025751, 2, 3)]\n",
            "matches: [(11840699188806025751, 4, 5), (11840699188806025751, 4, 6)]\n",
            "matches: [(11840699188806025751, 4, 5), (11840699188806025751, 4, 6)]\n",
            "matches: [(11840699188806025751, 12, 13)]\n",
            "matches: [(11840699188806025751, 2, 3), (11840699188806025751, 2, 4), (11840699188806025751, 2, 5)]\n",
            "matches: [(11840699188806025751, 11, 12)]\n",
            "matches: [(11840699188806025751, 2, 3), (11840699188806025751, 2, 4)]\n",
            "matches: [(11840699188806025751, 11, 12), (11840699188806025751, 11, 13)]\n",
            "matches: [(11840699188806025751, 8, 9), (11840699188806025751, 8, 10)]\n"
          ],
          "name": "stdout"
        },
        {
          "output_type": "stream",
          "text": [
            " 19%|█▉        | 839/4318 [00:09<00:40, 86.32it/s]"
          ],
          "name": "stderr"
        },
        {
          "output_type": "stream",
          "text": [
            "matches: [(11840699188806025751, 3, 4), (11840699188806025751, 3, 5), (11840699188806025751, 3, 6)]\n",
            "matches: [(11840699188806025751, 3, 4)]\n",
            "matches: [(11840699188806025751, 7, 8)]\n",
            "matches: [(11840699188806025751, 3, 4), (11840699188806025751, 3, 5), (11840699188806025751, 3, 6)]\n",
            "matches: [(11840699188806025751, 9, 10)]\n",
            "matches: [(11840699188806025751, 3, 4), (11840699188806025751, 3, 5)]\n",
            "matches: [(11840699188806025751, 2, 3)]\n",
            "matches: [(11840699188806025751, 4, 5)]\n",
            "matches: [(11840699188806025751, 4, 5), (11840699188806025751, 4, 6), (11840699188806025751, 4, 7)]\n",
            "matches: [(11840699188806025751, 5, 6), (11840699188806025751, 5, 7)]\n",
            "matches: [(11840699188806025751, 2, 3), (11840699188806025751, 2, 4)]\n",
            "matches: [(11840699188806025751, 5, 6)]\n",
            "matches: [(11840699188806025751, 4, 5)]\n",
            "matches: [(11840699188806025751, 2, 3)]\n",
            "matches: [(11840699188806025751, 10, 11)]\n",
            "matches: [(11840699188806025751, 2, 3)]\n",
            "matches: [(11840699188806025751, 2, 3), (11840699188806025751, 2, 4), (11840699188806025751, 2, 5)]\n",
            "matches: [(11840699188806025751, 2, 3)]\n"
          ],
          "name": "stdout"
        },
        {
          "output_type": "stream",
          "text": [
            " 20%|█▉        | 858/4318 [00:09<00:39, 88.04it/s]"
          ],
          "name": "stderr"
        },
        {
          "output_type": "stream",
          "text": [
            "matches: [(11840699188806025751, 4, 5), (11840699188806025751, 4, 6)]\n",
            "matches: [(11840699188806025751, 3, 4)]\n",
            "matches: [(11840699188806025751, 4, 5)]\n",
            "matches: [(11840699188806025751, 8, 9)]\n",
            "matches: [(11840699188806025751, 5, 6)]\n",
            "matches: [(11840699188806025751, 2, 3)]\n",
            "matches: [(11840699188806025751, 5, 6)]\n",
            "matches: [(11840699188806025751, 2, 3)]\n",
            "matches: [(11840699188806025751, 3, 4)]\n",
            "matches: [(11840699188806025751, 2, 3)]\n",
            "matches: [(11840699188806025751, 7, 8)]\n",
            "matches: [(11840699188806025751, 0, 1)]\n",
            "matches: [(11840699188806025751, 2, 3)]\n",
            "matches: [(11840699188806025751, 5, 6)]\n",
            "matches: [(11840699188806025751, 1, 2)]\n",
            "matches: [(11840699188806025751, 5, 6), (11840699188806025751, 5, 7)]\n",
            "matches: [(11840699188806025751, 3, 4), (11840699188806025751, 3, 5)]\n",
            "matches: [(11840699188806025751, 2, 3), (11840699188806025751, 2, 4)]\n",
            "matches: [(11840699188806025751, 4, 5), (11840699188806025751, 4, 6)]\n"
          ],
          "name": "stdout"
        },
        {
          "output_type": "stream",
          "text": [
            " 20%|██        | 876/4318 [00:10<00:39, 86.31it/s]"
          ],
          "name": "stderr"
        },
        {
          "output_type": "stream",
          "text": [
            "matches: [(11840699188806025751, 3, 4)]\n",
            "matches: [(11840699188806025751, 3, 4)]\n",
            "matches: [(11840699188806025751, 2, 3)]\n",
            "matches: [(11840699188806025751, 4, 5), (11840699188806025751, 4, 6)]\n",
            "matches: [(11840699188806025751, 4, 5), (11840699188806025751, 4, 6)]\n",
            "matches: [(11840699188806025751, 8, 9)]\n",
            "matches: [(11840699188806025751, 0, 1)]\n",
            "matches: [(11840699188806025751, 2, 3)]\n",
            "matches: [(11840699188806025751, 5, 6)]\n",
            "matches: [(11840699188806025751, 1, 2)]\n",
            "matches: [(11840699188806025751, 5, 6), (11840699188806025751, 5, 7)]\n",
            "matches: [(11840699188806025751, 3, 4), (11840699188806025751, 3, 5)]\n",
            "matches: [(11840699188806025751, 2, 3), (11840699188806025751, 2, 4)]\n",
            "matches: [(11840699188806025751, 4, 5), (11840699188806025751, 4, 6)]\n",
            "matches: [(11840699188806025751, 3, 4)]\n",
            "matches: [(11840699188806025751, 3, 4)]\n",
            "matches: [(11840699188806025751, 2, 3)]\n",
            "matches: [(11840699188806025751, 4, 5), (11840699188806025751, 4, 6)]\n"
          ],
          "name": "stdout"
        },
        {
          "output_type": "stream",
          "text": [
            "\r 20%|██        | 885/4318 [00:10<00:40, 84.46it/s]"
          ],
          "name": "stderr"
        },
        {
          "output_type": "stream",
          "text": [
            "matches: [(11840699188806025751, 4, 5), (11840699188806025751, 4, 6)]\n",
            "matches: [(11840699188806025751, 8, 9)]\n",
            "matches: [(11840699188806025751, 2, 3)]\n",
            "matches: [(11840699188806025751, 5, 6)]\n",
            "matches: [(11840699188806025751, 5, 6)]\n",
            "matches: [(11840699188806025751, 8, 9)]\n",
            "matches: [(11840699188806025751, 2, 3), (11840699188806025751, 2, 4)]\n",
            "matches: [(11840699188806025751, 10, 11), (11840699188806025751, 10, 12)]\n",
            "matches: [(11840699188806025751, 4, 5), (11840699188806025751, 4, 6)]\n",
            "matches: [(11840699188806025751, 8, 9)]\n",
            "matches: [(11840699188806025751, 7, 8)]\n",
            "matches: [(11840699188806025751, 4, 5), (11840699188806025751, 4, 6)]\n",
            "matches: [(11840699188806025751, 3, 4)]\n",
            "matches: [(11840699188806025751, 2, 3)]\n",
            "matches: [(11840699188806025751, 4, 5), (11840699188806025751, 4, 6)]\n",
            "matches: [(11840699188806025751, 4, 5), (11840699188806025751, 4, 6)]\n",
            "matches: [(11840699188806025751, 1, 2)]\n",
            "matches: [(11840699188806025751, 1, 2)]\n"
          ],
          "name": "stdout"
        },
        {
          "output_type": "stream",
          "text": [
            " 21%|██        | 905/4318 [00:10<00:38, 88.28it/s]"
          ],
          "name": "stderr"
        },
        {
          "output_type": "stream",
          "text": [
            "matches: [(11840699188806025751, 2, 3)]\n",
            "matches: [(11840699188806025751, 1, 2)]\n",
            "matches: [(11840699188806025751, 11, 12)]\n",
            "matches: [(11840699188806025751, 2, 3)]\n",
            "matches: [(11840699188806025751, 2, 3)]\n",
            "matches: [(11840699188806025751, 4, 5)]\n",
            "matches: [(11840699188806025751, 2, 3)]\n",
            "matches: [(11840699188806025751, 6, 7), (11840699188806025751, 6, 8)]\n",
            "matches: [(11840699188806025751, 2, 3), (11840699188806025751, 2, 4)]\n",
            "matches: [(11840699188806025751, 3, 4)]\n",
            "matches: [(11840699188806025751, 3, 4)]\n",
            "matches: [(11840699188806025751, 4, 5), (11840699188806025751, 4, 6), (11840699188806025751, 4, 7)]\n",
            "matches: [(11840699188806025751, 7, 8)]\n",
            "matches: [(11840699188806025751, 2, 3)]\n",
            "matches: [(11840699188806025751, 5, 6), (11840699188806025751, 5, 7)]\n",
            "matches: [(11840699188806025751, 8, 9)]\n",
            "matches: [(11840699188806025751, 7, 8)]\n",
            "matches: [(11840699188806025751, 16, 17)]\n"
          ],
          "name": "stdout"
        },
        {
          "output_type": "stream",
          "text": [
            " 21%|██▏       | 923/4318 [00:10<00:39, 86.29it/s]"
          ],
          "name": "stderr"
        },
        {
          "output_type": "stream",
          "text": [
            "matches: [(11840699188806025751, 7, 8)]\n",
            "matches: [(11840699188806025751, 2, 3)]\n",
            "matches: [(11840699188806025751, 2, 3)]\n",
            "matches: [(11840699188806025751, 2, 3)]\n",
            "matches: [(11840699188806025751, 2, 3)]\n",
            "matches: [(11840699188806025751, 3, 4), (11840699188806025751, 3, 5), (11840699188806025751, 3, 6)]\n",
            "matches: [(11840699188806025751, 4, 5), (11840699188806025751, 4, 6)]\n",
            "matches: [(11840699188806025751, 3, 4), (11840699188806025751, 3, 5)]\n",
            "matches: [(11840699188806025751, 2, 3)]\n",
            "matches: [(11840699188806025751, 14, 15)]\n",
            "matches: [(11840699188806025751, 11, 12)]\n",
            "matches: [(11840699188806025751, 4, 5), (11840699188806025751, 4, 6), (11840699188806025751, 4, 7)]\n",
            "matches: [(11840699188806025751, 2, 3)]\n",
            "matches: [(11840699188806025751, 5, 6), (11840699188806025751, 5, 7)]\n",
            "matches: [(11840699188806025751, 3, 4), (11840699188806025751, 3, 5)]\n",
            "matches: [(11840699188806025751, 16, 17)]\n",
            "matches: [(11840699188806025751, 4, 5)]\n",
            "matches: [(11840699188806025751, 3, 4)]\n"
          ],
          "name": "stdout"
        },
        {
          "output_type": "stream",
          "text": [
            " 22%|██▏       | 941/4318 [00:10<00:39, 85.54it/s]"
          ],
          "name": "stderr"
        },
        {
          "output_type": "stream",
          "text": [
            "matches: [(11840699188806025751, 5, 6), (11840699188806025751, 5, 7), (11840699188806025751, 10, 11), (11840699188806025751, 12, 13), (11840699188806025751, 14, 15)]\n",
            "matches: [(11840699188806025751, 6, 7), (11840699188806025751, 6, 8)]\n",
            "matches: [(11840699188806025751, 2, 3), (11840699188806025751, 2, 4)]\n",
            "matches: [(11840699188806025751, 6, 7)]\n",
            "matches: [(11840699188806025751, 3, 4)]\n",
            "matches: [(11840699188806025751, 7, 8)]\n",
            "matches: [(11840699188806025751, 7, 8)]\n",
            "matches: [(11840699188806025751, 5, 6), (11840699188806025751, 5, 7)]\n",
            "matches: [(11840699188806025751, 4, 5)]\n",
            "matches: [(11840699188806025751, 3, 4)]\n",
            "matches: [(11840699188806025751, 5, 6), (11840699188806025751, 5, 7)]\n",
            "matches: [(11840699188806025751, 1, 2)]\n",
            "matches: [(11840699188806025751, 6, 7)]\n",
            "matches: [(11840699188806025751, 3, 4)]\n",
            "matches: [(11840699188806025751, 1, 2)]\n",
            "matches: [(11840699188806025751, 6, 7), (11840699188806025751, 6, 8)]\n",
            "matches: [(11840699188806025751, 10, 11), (11840699188806025751, 10, 12)]\n",
            "matches: [(11840699188806025751, 2, 3)]\n"
          ],
          "name": "stdout"
        },
        {
          "output_type": "stream",
          "text": [
            " 22%|██▏       | 959/4318 [00:11<00:39, 85.13it/s]"
          ],
          "name": "stderr"
        },
        {
          "output_type": "stream",
          "text": [
            "matches: [(11840699188806025751, 3, 4), (11840699188806025751, 3, 5)]\n",
            "matches: [(11840699188806025751, 13, 14)]\n",
            "matches: [(11840699188806025751, 4, 5)]\n",
            "matches: [(11840699188806025751, 5, 6), (11840699188806025751, 5, 7)]\n",
            "matches: [(11840699188806025751, 1, 2)]\n",
            "matches: [(11840699188806025751, 6, 7)]\n",
            "matches: [(11840699188806025751, 3, 4)]\n",
            "matches: [(11840699188806025751, 1, 2)]\n",
            "matches: [(11840699188806025751, 6, 7), (11840699188806025751, 6, 8)]\n",
            "matches: [(11840699188806025751, 10, 11), (11840699188806025751, 10, 12)]\n",
            "matches: [(11840699188806025751, 2, 3)]\n",
            "matches: [(11840699188806025751, 3, 4), (11840699188806025751, 3, 5)]\n",
            "matches: [(11840699188806025751, 13, 14)]\n",
            "matches: [(11840699188806025751, 4, 5)]\n",
            "matches: [(11840699188806025751, 2, 3), (11840699188806025751, 2, 4)]\n",
            "matches: [(11840699188806025751, 5, 6), (11840699188806025751, 5, 7), (11840699188806025751, 5, 8)]\n",
            "matches: [(11840699188806025751, 9, 10), (11840699188806025751, 9, 11)]\n",
            "matches: [(11840699188806025751, 1, 2)]\n"
          ],
          "name": "stdout"
        },
        {
          "output_type": "stream",
          "text": [
            " 23%|██▎       | 977/4318 [00:11<00:39, 84.74it/s]"
          ],
          "name": "stderr"
        },
        {
          "output_type": "stream",
          "text": [
            "matches: [(11840699188806025751, 5, 6), (11840699188806025751, 5, 7)]\n",
            "matches: [(11840699188806025751, 2, 3)]\n",
            "matches: [(11840699188806025751, 3, 4)]\n",
            "matches: [(11840699188806025751, 0, 1), (11840699188806025751, 5, 6)]\n",
            "matches: [(11840699188806025751, 2, 3), (11840699188806025751, 2, 4)]\n",
            "matches: [(11840699188806025751, 3, 4)]\n",
            "matches: [(11840699188806025751, 5, 6)]\n",
            "matches: [(11840699188806025751, 2, 3)]\n",
            "matches: [(11840699188806025751, 1, 2)]\n",
            "matches: [(11840699188806025751, 8, 9)]\n",
            "matches: [(11840699188806025751, 1, 2)]\n",
            "matches: [(11840699188806025751, 5, 6)]\n",
            "matches: [(11840699188806025751, 1, 2)]\n",
            "matches: [(11840699188806025751, 8, 9), (11840699188806025751, 8, 10)]\n",
            "matches: [(11840699188806025751, 3, 4), (11840699188806025751, 3, 5)]\n",
            "matches: [(11840699188806025751, 5, 6)]\n",
            "matches: [(11840699188806025751, 3, 4)]\n",
            "matches: [(11840699188806025751, 5, 6)]\n"
          ],
          "name": "stdout"
        },
        {
          "output_type": "stream",
          "text": [
            " 23%|██▎       | 995/4318 [00:11<00:39, 83.48it/s]"
          ],
          "name": "stderr"
        },
        {
          "output_type": "stream",
          "text": [
            "matches: [(11840699188806025751, 2, 3)]\n",
            "matches: [(11840699188806025751, 1, 2)]\n",
            "matches: [(11840699188806025751, 8, 9)]\n",
            "matches: [(11840699188806025751, 1, 2)]\n",
            "matches: [(11840699188806025751, 5, 6)]\n",
            "matches: [(11840699188806025751, 1, 2)]\n",
            "matches: [(11840699188806025751, 8, 9), (11840699188806025751, 8, 10)]\n",
            "matches: [(11840699188806025751, 3, 4), (11840699188806025751, 3, 5)]\n",
            "matches: [(11840699188806025751, 5, 6)]\n",
            "matches: [(11840699188806025751, 3, 4), (11840699188806025751, 3, 5)]\n",
            "matches: [(11840699188806025751, 3, 4), (11840699188806025751, 3, 5)]\n",
            "matches: [(11840699188806025751, 5, 6)]\n",
            "matches: [(11840699188806025751, 4, 5)]\n",
            "matches: [(11840699188806025751, 3, 4)]\n",
            "matches: [(11840699188806025751, 8, 9), (11840699188806025751, 8, 10)]\n",
            "matches: [(11840699188806025751, 3, 4)]\n",
            "matches: [(11840699188806025751, 9, 10)]\n",
            "matches: [(11840699188806025751, 11, 12), (11840699188806025751, 11, 13)]\n"
          ],
          "name": "stdout"
        },
        {
          "output_type": "stream",
          "text": [
            " 23%|██▎       | 1013/4318 [00:11<00:39, 84.29it/s]"
          ],
          "name": "stderr"
        },
        {
          "output_type": "stream",
          "text": [
            "matches: [(11840699188806025751, 1, 2), (11840699188806025751, 1, 3)]\n",
            "matches: [(11840699188806025751, 4, 5), (11840699188806025751, 4, 6)]\n",
            "matches: [(11840699188806025751, 13, 14)]\n",
            "matches: [(11840699188806025751, 0, 1)]\n",
            "matches: [(11840699188806025751, 1, 2)]\n",
            "matches: [(11840699188806025751, 3, 4)]\n",
            "matches: [(11840699188806025751, 1, 2)]\n",
            "matches: [(11840699188806025751, 5, 6)]\n",
            "matches: [(11840699188806025751, 3, 4)]\n",
            "matches: [(11840699188806025751, 2, 3), (11840699188806025751, 2, 4)]\n",
            "matches: [(11840699188806025751, 4, 5), (11840699188806025751, 4, 6)]\n",
            "matches: [(11840699188806025751, 3, 4)]\n",
            "matches: [(11840699188806025751, 0, 1)]\n",
            "matches: [(11840699188806025751, 2, 3), (11840699188806025751, 2, 4)]\n",
            "matches: [(11840699188806025751, 2, 3)]\n",
            "matches: [(11840699188806025751, 2, 3)]\n",
            "matches: [(11840699188806025751, 5, 6), (11840699188806025751, 5, 7)]\n",
            "matches: [(11840699188806025751, 1, 2)]\n"
          ],
          "name": "stdout"
        },
        {
          "output_type": "stream",
          "text": [
            " 24%|██▍       | 1033/4318 [00:11<00:37, 88.70it/s]"
          ],
          "name": "stderr"
        },
        {
          "output_type": "stream",
          "text": [
            "matches: [(11840699188806025751, 6, 7)]\n",
            "matches: [(11840699188806025751, 8, 9), (11840699188806025751, 8, 10)]\n",
            "matches: [(11840699188806025751, 2, 3)]\n",
            "matches: [(11840699188806025751, 3, 4)]\n",
            "matches: [(11840699188806025751, 3, 4)]\n",
            "matches: [(11840699188806025751, 2, 3)]\n",
            "matches: [(11840699188806025751, 6, 7), (11840699188806025751, 6, 8), (11840699188806025751, 6, 9)]\n",
            "matches: [(11840699188806025751, 1, 2)]\n",
            "matches: [(11840699188806025751, 2, 3)]\n",
            "matches: [(11840699188806025751, 2, 3)]\n",
            "matches: [(11840699188806025751, 1, 2)]\n",
            "matches: [(11840699188806025751, 1, 2)]\n",
            "matches: [(11840699188806025751, 1, 2)]\n",
            "matches: [(11840699188806025751, 2, 3), (11840699188806025751, 2, 4)]\n",
            "matches: [(11840699188806025751, 3, 4)]\n",
            "matches: [(11840699188806025751, 6, 7)]\n",
            "matches: [(11840699188806025751, 9, 10)]\n",
            "matches: [(11840699188806025751, 3, 4)]\n",
            "matches: [(11840699188806025751, 2, 3)]\n"
          ],
          "name": "stdout"
        },
        {
          "output_type": "stream",
          "text": [
            " 24%|██▍       | 1052/4318 [00:12<00:36, 89.37it/s]"
          ],
          "name": "stderr"
        },
        {
          "output_type": "stream",
          "text": [
            "matches: [(11840699188806025751, 2, 3)]\n",
            "matches: [(11840699188806025751, 4, 5), (11840699188806025751, 4, 6)]\n",
            "matches: [(11840699188806025751, 2, 3)]\n",
            "matches: [(11840699188806025751, 2, 3)]\n",
            "matches: [(11840699188806025751, 3, 4)]\n",
            "matches: [(11840699188806025751, 2, 3)]\n",
            "matches: [(11840699188806025751, 3, 4), (11840699188806025751, 3, 5)]\n",
            "matches: [(11840699188806025751, 5, 6)]\n",
            "matches: [(11840699188806025751, 12, 13), (11840699188806025751, 12, 14)]\n",
            "matches: [(11840699188806025751, 2, 3)]\n",
            "matches: [(11840699188806025751, 2, 3)]\n",
            "matches: [(11840699188806025751, 1, 2)]\n",
            "matches: [(11840699188806025751, 1, 2)]\n",
            "matches: [(11840699188806025751, 1, 2)]\n",
            "matches: [(11840699188806025751, 2, 3), (11840699188806025751, 2, 4)]\n",
            "matches: [(11840699188806025751, 3, 4)]\n",
            "matches: [(11840699188806025751, 6, 7)]\n",
            "matches: [(11840699188806025751, 9, 10)]\n",
            "matches: [(11840699188806025751, 3, 4)]\n",
            "matches: [(11840699188806025751, 2, 3)]\n"
          ],
          "name": "stdout"
        },
        {
          "output_type": "stream",
          "text": [
            " 25%|██▍       | 1071/4318 [00:12<00:36, 88.41it/s]"
          ],
          "name": "stderr"
        },
        {
          "output_type": "stream",
          "text": [
            "matches: [(11840699188806025751, 2, 3)]\n",
            "matches: [(11840699188806025751, 4, 5), (11840699188806025751, 4, 6)]\n",
            "matches: [(11840699188806025751, 2, 3)]\n",
            "matches: [(11840699188806025751, 2, 3)]\n",
            "matches: [(11840699188806025751, 3, 4)]\n",
            "matches: [(11840699188806025751, 2, 3)]\n",
            "matches: [(11840699188806025751, 3, 4), (11840699188806025751, 3, 5)]\n",
            "matches: [(11840699188806025751, 5, 6)]\n",
            "matches: [(11840699188806025751, 12, 13), (11840699188806025751, 12, 14)]\n",
            "matches: [(11840699188806025751, 9, 10)]\n",
            "matches: [(11840699188806025751, 5, 6), (11840699188806025751, 5, 7)]\n",
            "matches: [(11840699188806025751, 14, 15)]\n",
            "matches: [(11840699188806025751, 5, 6)]\n",
            "matches: [(11840699188806025751, 8, 9), (11840699188806025751, 8, 10)]\n",
            "matches: [(11840699188806025751, 9, 10)]\n",
            "matches: [(11840699188806025751, 5, 6)]\n",
            "matches: [(11840699188806025751, 8, 9)]\n",
            "matches: [(11840699188806025751, 4, 5), (11840699188806025751, 4, 6)]\n",
            "matches: [(11840699188806025751, 2, 3)]\n"
          ],
          "name": "stdout"
        },
        {
          "output_type": "stream",
          "text": [
            " 25%|██▌       | 1090/4318 [00:12<00:35, 90.30it/s]"
          ],
          "name": "stderr"
        },
        {
          "output_type": "stream",
          "text": [
            "matches: [(11840699188806025751, 5, 6)]\n",
            "matches: [(11840699188806025751, 2, 3), (11840699188806025751, 2, 4)]\n",
            "matches: [(11840699188806025751, 2, 3)]\n",
            "matches: [(11840699188806025751, 8, 9)]\n",
            "matches: [(11840699188806025751, 2, 3), (11840699188806025751, 2, 4)]\n",
            "matches: [(11840699188806025751, 2, 3), (11840699188806025751, 2, 4)]\n",
            "matches: [(11840699188806025751, 4, 5)]\n",
            "matches: [(11840699188806025751, 2, 3), (11840699188806025751, 2, 4)]\n",
            "matches: [(11840699188806025751, 3, 4), (11840699188806025751, 3, 5)]\n",
            "matches: [(11840699188806025751, 5, 6)]\n",
            "matches: [(11840699188806025751, 4, 5)]\n",
            "matches: [(11840699188806025751, 4, 5)]\n",
            "matches: [(11840699188806025751, 5, 6), (11840699188806025751, 5, 7), (11840699188806025751, 5, 8)]\n",
            "matches: [(11840699188806025751, 8, 9)]\n",
            "matches: [(11840699188806025751, 8, 9)]\n",
            "matches: [(11840699188806025751, 14, 15)]\n",
            "matches: [(11840699188806025751, 1, 2)]\n",
            "matches: [(11840699188806025751, 1, 2)]\n",
            "matches: [(11840699188806025751, 2, 3), (11840699188806025751, 2, 4)]\n",
            "matches: [(11840699188806025751, 3, 4), (11840699188806025751, 3, 5)]\n"
          ],
          "name": "stdout"
        },
        {
          "output_type": "stream",
          "text": [
            " 26%|██▌       | 1110/4318 [00:12<00:35, 91.54it/s]"
          ],
          "name": "stderr"
        },
        {
          "output_type": "stream",
          "text": [
            "matches: [(11840699188806025751, 3, 4)]\n",
            "matches: [(11840699188806025751, 3, 4)]\n",
            "matches: [(11840699188806025751, 2, 3), (11840699188806025751, 2, 4)]\n",
            "matches: [(11840699188806025751, 6, 7)]\n",
            "matches: [(11840699188806025751, 1, 2)]\n",
            "matches: [(11840699188806025751, 3, 4), (11840699188806025751, 3, 5)]\n",
            "matches: [(11840699188806025751, 6, 7), (11840699188806025751, 6, 8)]\n",
            "matches: [(11840699188806025751, 5, 6)]\n",
            "matches: [(11840699188806025751, 7, 8)]\n",
            "matches: [(11840699188806025751, 1, 2)]\n",
            "matches: [(11840699188806025751, 3, 4)]\n",
            "matches: [(11840699188806025751, 4, 5), (11840699188806025751, 4, 6)]\n",
            "matches: [(11840699188806025751, 2, 3)]\n",
            "matches: [(11840699188806025751, 3, 4)]\n",
            "matches: [(11840699188806025751, 1, 2)]\n",
            "matches: [(11840699188806025751, 2, 3)]\n",
            "matches: [(11840699188806025751, 1, 2)]\n",
            "matches: [(11840699188806025751, 2, 3)]\n",
            "matches: [(11840699188806025751, 2, 3)]\n",
            "matches: [(11840699188806025751, 2, 3)]\n"
          ],
          "name": "stdout"
        },
        {
          "output_type": "stream",
          "text": [
            " 26%|██▌       | 1130/4318 [00:13<00:35, 88.62it/s]"
          ],
          "name": "stderr"
        },
        {
          "output_type": "stream",
          "text": [
            "matches: [(11840699188806025751, 1, 2), (11840699188806025751, 1, 3)]\n",
            "matches: [(11840699188806025751, 1, 2)]\n",
            "matches: [(11840699188806025751, 5, 6)]\n",
            "matches: [(11840699188806025751, 2, 3)]\n",
            "matches: [(11840699188806025751, 2, 3)]\n",
            "matches: [(11840699188806025751, 14, 15)]\n",
            "matches: [(11840699188806025751, 1, 2)]\n",
            "matches: [(11840699188806025751, 1, 2)]\n",
            "matches: [(11840699188806025751, 2, 3), (11840699188806025751, 2, 4)]\n",
            "matches: [(11840699188806025751, 3, 4), (11840699188806025751, 3, 5)]\n",
            "matches: [(11840699188806025751, 3, 4)]\n",
            "matches: [(11840699188806025751, 3, 4)]\n",
            "matches: [(11840699188806025751, 2, 3), (11840699188806025751, 2, 4)]\n",
            "matches: [(11840699188806025751, 6, 7)]\n",
            "matches: [(11840699188806025751, 1, 2)]\n",
            "matches: [(11840699188806025751, 3, 4), (11840699188806025751, 3, 5)]\n",
            "matches: [(11840699188806025751, 6, 7), (11840699188806025751, 6, 8)]\n"
          ],
          "name": "stdout"
        },
        {
          "output_type": "stream",
          "text": [
            " 27%|██▋       | 1149/4318 [00:13<00:35, 88.92it/s]"
          ],
          "name": "stderr"
        },
        {
          "output_type": "stream",
          "text": [
            "matches: [(11840699188806025751, 5, 6)]\n",
            "matches: [(11840699188806025751, 7, 8)]\n",
            "matches: [(11840699188806025751, 1, 2)]\n",
            "matches: [(11840699188806025751, 3, 4)]\n",
            "matches: [(11840699188806025751, 4, 5), (11840699188806025751, 4, 6)]\n",
            "matches: [(11840699188806025751, 2, 3)]\n",
            "matches: [(11840699188806025751, 3, 4)]\n",
            "matches: [(11840699188806025751, 1, 2)]\n",
            "matches: [(11840699188806025751, 2, 3)]\n",
            "matches: [(11840699188806025751, 1, 2)]\n",
            "matches: [(11840699188806025751, 2, 3)]\n",
            "matches: [(11840699188806025751, 2, 3)]\n",
            "matches: [(11840699188806025751, 2, 3)]\n",
            "matches: [(11840699188806025751, 1, 2), (11840699188806025751, 1, 3)]\n",
            "matches: [(11840699188806025751, 1, 2)]\n",
            "matches: [(11840699188806025751, 5, 6)]\n",
            "matches: [(11840699188806025751, 2, 3)]\n",
            "matches: [(11840699188806025751, 2, 3)]\n",
            "matches: [(11840699188806025751, 10, 11)]\n"
          ],
          "name": "stdout"
        },
        {
          "output_type": "stream",
          "text": [
            " 27%|██▋       | 1168/4318 [00:13<00:35, 89.73it/s]"
          ],
          "name": "stderr"
        },
        {
          "output_type": "stream",
          "text": [
            "matches: [(11840699188806025751, 1, 2)]\n",
            "matches: [(11840699188806025751, 3, 4), (11840699188806025751, 3, 5)]\n",
            "matches: [(11840699188806025751, 2, 3), (11840699188806025751, 2, 4)]\n",
            "matches: [(11840699188806025751, 1, 2)]\n",
            "matches: [(11840699188806025751, 2, 3), (11840699188806025751, 2, 4), (11840699188806025751, 2, 5)]\n",
            "matches: [(11840699188806025751, 2, 3)]\n",
            "matches: [(11840699188806025751, 1, 2), (11840699188806025751, 1, 3)]\n",
            "matches: [(11840699188806025751, 1, 2)]\n",
            "matches: [(11840699188806025751, 2, 3), (11840699188806025751, 2, 4)]\n",
            "matches: [(11840699188806025751, 2, 3), (11840699188806025751, 2, 4)]\n",
            "matches: [(11840699188806025751, 3, 4)]\n",
            "matches: [(11840699188806025751, 5, 6), (11840699188806025751, 5, 7)]\n",
            "matches: [(11840699188806025751, 1, 2)]\n",
            "matches: [(11840699188806025751, 3, 4), (11840699188806025751, 3, 5)]\n",
            "matches: [(11840699188806025751, 6, 7), (11840699188806025751, 6, 8)]\n",
            "matches: [(11840699188806025751, 5, 6), (11840699188806025751, 5, 7)]\n",
            "matches: [(11840699188806025751, 9, 10), (11840699188806025751, 9, 11)]\n",
            "matches: [(11840699188806025751, 8, 9), (11840699188806025751, 8, 10)]\n",
            "matches: [(11840699188806025751, 5, 6)]\n"
          ],
          "name": "stdout"
        },
        {
          "output_type": "stream",
          "text": [
            " 28%|██▊       | 1188/4318 [00:13<00:34, 90.18it/s]"
          ],
          "name": "stderr"
        },
        {
          "output_type": "stream",
          "text": [
            "matches: [(11840699188806025751, 4, 5), (11840699188806025751, 4, 6)]\n",
            "matches: [(11840699188806025751, 13, 14)]\n",
            "matches: [(11840699188806025751, 6, 7), (11840699188806025751, 6, 8)]\n",
            "matches: [(11840699188806025751, 3, 4), (11840699188806025751, 3, 5)]\n",
            "matches: [(11840699188806025751, 7, 8)]\n",
            "matches: [(11840699188806025751, 2, 3), (11840699188806025751, 2, 4)]\n",
            "matches: [(11840699188806025751, 2, 3), (11840699188806025751, 2, 4)]\n",
            "matches: [(11840699188806025751, 1, 2)]\n",
            "matches: [(11840699188806025751, 1, 2), (11840699188806025751, 1, 3)]\n",
            "matches: [(11840699188806025751, 2, 3)]\n",
            "matches: [(11840699188806025751, 2, 3), (11840699188806025751, 2, 4)]\n",
            "matches: [(11840699188806025751, 2, 3)]\n",
            "matches: [(11840699188806025751, 3, 4)]\n",
            "matches: [(11840699188806025751, 2, 3)]\n",
            "matches: [(11840699188806025751, 5, 6), (11840699188806025751, 5, 7)]\n",
            "matches: [(11840699188806025751, 3, 4), (11840699188806025751, 3, 5)]\n",
            "matches: [(11840699188806025751, 2, 3)]\n",
            "matches: [(11840699188806025751, 1, 2)]\n",
            "matches: [(11840699188806025751, 3, 4), (11840699188806025751, 3, 5)]\n"
          ],
          "name": "stdout"
        },
        {
          "output_type": "stream",
          "text": [
            " 28%|██▊       | 1208/4318 [00:13<00:34, 90.48it/s]"
          ],
          "name": "stderr"
        },
        {
          "output_type": "stream",
          "text": [
            "matches: [(11840699188806025751, 2, 3), (11840699188806025751, 2, 4)]\n",
            "matches: [(11840699188806025751, 3, 4)]\n",
            "matches: [(11840699188806025751, 6, 7)]\n",
            "matches: [(11840699188806025751, 7, 8)]\n",
            "matches: [(11840699188806025751, 3, 4), (11840699188806025751, 3, 5)]\n",
            "matches: [(11840699188806025751, 3, 4), (11840699188806025751, 3, 5)]\n",
            "matches: [(11840699188806025751, 3, 4)]\n",
            "matches: [(11840699188806025751, 4, 5), (11840699188806025751, 4, 6)]\n",
            "matches: [(11840699188806025751, 1, 2)]\n",
            "matches: [(11840699188806025751, 4, 5), (11840699188806025751, 4, 6)]\n",
            "matches: [(11840699188806025751, 4, 5)]\n",
            "matches: [(11840699188806025751, 2, 3), (11840699188806025751, 2, 4)]\n",
            "matches: [(11840699188806025751, 1, 2)]\n",
            "matches: [(11840699188806025751, 1, 2)]\n",
            "matches: [(11840699188806025751, 1, 2)]\n",
            "matches: [(11840699188806025751, 3, 4), (11840699188806025751, 3, 5)]\n",
            "matches: [(11840699188806025751, 8, 9), (11840699188806025751, 8, 10)]\n",
            "matches: [(11840699188806025751, 3, 4)]\n",
            "matches: [(11840699188806025751, 2, 3)]\n"
          ],
          "name": "stdout"
        },
        {
          "output_type": "stream",
          "text": [
            " 28%|██▊       | 1227/4318 [00:14<00:36, 84.32it/s]"
          ],
          "name": "stderr"
        },
        {
          "output_type": "stream",
          "text": [
            "matches: [(11840699188806025751, 6, 7)]\n",
            "matches: [(11840699188806025751, 2, 3)]\n",
            "matches: [(11840699188806025751, 6, 7), (11840699188806025751, 6, 8)]\n",
            "matches: [(11840699188806025751, 3, 4)]\n",
            "matches: [(11840699188806025751, 8, 9)]\n",
            "matches: [(11840699188806025751, 1, 2)]\n",
            "matches: [(11840699188806025751, 0, 1)]\n",
            "matches: [(11840699188806025751, 6, 7), (11840699188806025751, 6, 8)]\n",
            "matches: [(11840699188806025751, 7, 8), (11840699188806025751, 7, 9)]\n",
            "matches: [(11840699188806025751, 2, 3)]\n",
            "matches: [(11840699188806025751, 2, 3)]\n",
            "matches: [(11840699188806025751, 3, 4)]\n",
            "matches: [(11840699188806025751, 6, 7)]\n",
            "matches: [(11840699188806025751, 6, 7), (11840699188806025751, 6, 8)]\n",
            "matches: [(11840699188806025751, 2, 3)]\n",
            "matches: [(11840699188806025751, 1, 2)]\n"
          ],
          "name": "stdout"
        },
        {
          "output_type": "stream",
          "text": [
            "\r 29%|██▊       | 1236/4318 [00:14<00:37, 81.46it/s]"
          ],
          "name": "stderr"
        },
        {
          "output_type": "stream",
          "text": [
            "matches: [(11840699188806025751, 2, 3)]\n",
            "matches: [(11840699188806025751, 4, 5)]\n",
            "matches: [(11840699188806025751, 3, 4), (11840699188806025751, 3, 5)]\n",
            "matches: [(11840699188806025751, 1, 2)]\n",
            "matches: [(11840699188806025751, 2, 3), (11840699188806025751, 2, 4)]\n",
            "matches: [(11840699188806025751, 3, 4), (11840699188806025751, 3, 5)]\n",
            "matches: [(11840699188806025751, 1, 2)]\n",
            "matches: [(11840699188806025751, 2, 3), (11840699188806025751, 2, 4)]\n",
            "matches: [(11840699188806025751, 4, 5)]\n",
            "matches: [(11840699188806025751, 1, 2)]\n",
            "matches: [(11840699188806025751, 4, 5)]\n",
            "matches: [(11840699188806025751, 3, 4), (11840699188806025751, 3, 5)]\n",
            "matches: [(11840699188806025751, 2, 3)]\n",
            "matches: [(11840699188806025751, 5, 6)]\n",
            "matches: [(11840699188806025751, 3, 4)]\n",
            "matches: [(11840699188806025751, 5, 6)]\n"
          ],
          "name": "stdout"
        },
        {
          "output_type": "stream",
          "text": [
            " 29%|██▉       | 1255/4318 [00:14<00:36, 83.73it/s]"
          ],
          "name": "stderr"
        },
        {
          "output_type": "stream",
          "text": [
            "matches: [(11840699188806025751, 10, 11)]\n",
            "matches: [(11840699188806025751, 2, 3), (11840699188806025751, 2, 4), (11840699188806025751, 2, 5)]\n",
            "matches: [(11840699188806025751, 4, 5), (11840699188806025751, 4, 6)]\n",
            "matches: [(11840699188806025751, 4, 5)]\n",
            "matches: [(11840699188806025751, 4, 5), (11840699188806025751, 4, 6)]\n",
            "matches: [(11840699188806025751, 7, 8), (11840699188806025751, 7, 9)]\n",
            "matches: [(11840699188806025751, 1, 2)]\n",
            "matches: [(11840699188806025751, 5, 6)]\n",
            "matches: [(11840699188806025751, 8, 9), (11840699188806025751, 8, 10)]\n",
            "matches: [(11840699188806025751, 5, 6), (11840699188806025751, 5, 7)]\n",
            "matches: [(11840699188806025751, 7, 8)]\n",
            "matches: [(11840699188806025751, 5, 6)]\n",
            "matches: [(11840699188806025751, 1, 2)]\n",
            "matches: [(11840699188806025751, 8, 9)]\n",
            "matches: [(11840699188806025751, 2, 3)]\n",
            "matches: [(11840699188806025751, 2, 3)]\n",
            "matches: [(11840699188806025751, 1, 2)]\n",
            "matches: [(11840699188806025751, 0, 1)]\n",
            "matches: [(11840699188806025751, 1, 2), (11840699188806025751, 1, 3)]\n",
            "matches: [(11840699188806025751, 1, 2)]\n"
          ],
          "name": "stdout"
        },
        {
          "output_type": "stream",
          "text": [
            " 30%|██▉       | 1275/4318 [00:14<00:34, 88.59it/s]"
          ],
          "name": "stderr"
        },
        {
          "output_type": "stream",
          "text": [
            "matches: [(11840699188806025751, 1, 2)]\n",
            "matches: [(11840699188806025751, 1, 2)]\n",
            "matches: [(11840699188806025751, 1, 2)]\n",
            "matches: [(11840699188806025751, 5, 6)]\n",
            "matches: [(11840699188806025751, 2, 3)]\n",
            "matches: [(11840699188806025751, 0, 1)]\n",
            "matches: [(11840699188806025751, 1, 2)]\n",
            "matches: [(11840699188806025751, 4, 5), (11840699188806025751, 4, 6)]\n",
            "matches: [(11840699188806025751, 4, 5), (11840699188806025751, 4, 6)]\n",
            "matches: [(11840699188806025751, 1, 2), (11840699188806025751, 1, 3)]\n",
            "matches: [(11840699188806025751, 1, 2)]\n",
            "matches: [(11840699188806025751, 1, 2)]\n",
            "matches: [(11840699188806025751, 1, 2)]\n",
            "matches: [(11840699188806025751, 3, 4)]\n",
            "matches: [(11840699188806025751, 1, 2), (11840699188806025751, 1, 3), (11840699188806025751, 8, 9)]\n",
            "matches: [(11840699188806025751, 0, 1)]\n",
            "matches: [(11840699188806025751, 1, 2)]\n",
            "matches: [(11840699188806025751, 1, 2)]\n",
            "matches: [(11840699188806025751, 4, 5)]\n"
          ],
          "name": "stdout"
        },
        {
          "output_type": "stream",
          "text": [
            " 30%|██▉       | 1295/4318 [00:14<00:33, 90.82it/s]"
          ],
          "name": "stderr"
        },
        {
          "output_type": "stream",
          "text": [
            "matches: [(11840699188806025751, 5, 6)]\n",
            "matches: [(11840699188806025751, 1, 2), (11840699188806025751, 1, 3)]\n",
            "matches: [(11840699188806025751, 6, 7)]\n",
            "matches: [(11840699188806025751, 3, 4)]\n",
            "matches: [(11840699188806025751, 11, 12), (11840699188806025751, 11, 13)]\n",
            "matches: [(11840699188806025751, 7, 8), (11840699188806025751, 7, 9)]\n",
            "matches: [(11840699188806025751, 2, 3), (11840699188806025751, 2, 4)]\n",
            "matches: [(11840699188806025751, 3, 4), (11840699188806025751, 3, 5)]\n",
            "matches: [(11840699188806025751, 4, 5), (11840699188806025751, 4, 6)]\n",
            "matches: [(11840699188806025751, 3, 4)]\n",
            "matches: [(11840699188806025751, 2, 3)]\n",
            "matches: [(11840699188806025751, 2, 3)]\n",
            "matches: [(11840699188806025751, 8, 9)]\n",
            "matches: [(11840699188806025751, 2, 3), (11840699188806025751, 2, 4)]\n",
            "matches: [(11840699188806025751, 5, 6)]\n",
            "matches: [(11840699188806025751, 1, 2), (11840699188806025751, 4, 5)]\n",
            "matches: [(11840699188806025751, 2, 3)]\n",
            "matches: [(11840699188806025751, 2, 3), (11840699188806025751, 2, 4)]\n",
            "matches: [(11840699188806025751, 0, 1), (11840699188806025751, 0, 2)]\n",
            "matches: [(11840699188806025751, 2, 3)]\n"
          ],
          "name": "stdout"
        },
        {
          "output_type": "stream",
          "text": [
            " 30%|███       | 1315/4318 [00:15<00:32, 91.32it/s]"
          ],
          "name": "stderr"
        },
        {
          "output_type": "stream",
          "text": [
            "matches: [(11840699188806025751, 4, 5), (11840699188806025751, 4, 6)]\n",
            "matches: [(11840699188806025751, 5, 6), (11840699188806025751, 5, 7), (11840699188806025751, 5, 8)]\n",
            "matches: [(11840699188806025751, 1, 2), (11840699188806025751, 1, 3)]\n",
            "matches: [(11840699188806025751, 10, 11)]\n",
            "matches: [(11840699188806025751, 3, 4)]\n",
            "matches: [(11840699188806025751, 3, 4), (11840699188806025751, 3, 5)]\n",
            "matches: [(11840699188806025751, 5, 6), (11840699188806025751, 5, 7)]\n",
            "matches: [(11840699188806025751, 3, 4), (11840699188806025751, 3, 5)]\n",
            "matches: [(11840699188806025751, 3, 4), (11840699188806025751, 3, 5)]\n",
            "matches: [(11840699188806025751, 2, 3)]\n",
            "matches: [(11840699188806025751, 5, 6), (11840699188806025751, 5, 7)]\n",
            "matches: [(11840699188806025751, 1, 2)]\n",
            "matches: [(11840699188806025751, 1, 2)]\n",
            "matches: [(11840699188806025751, 2, 3)]\n",
            "matches: [(11840699188806025751, 4, 5), (11840699188806025751, 4, 6)]\n",
            "matches: [(11840699188806025751, 5, 6), (11840699188806025751, 5, 7), (11840699188806025751, 5, 8)]\n",
            "matches: [(11840699188806025751, 1, 2), (11840699188806025751, 1, 3)]\n",
            "matches: [(11840699188806025751, 10, 11)]\n",
            "matches: [(11840699188806025751, 3, 4)]\n"
          ],
          "name": "stdout"
        },
        {
          "output_type": "stream",
          "text": [
            " 31%|███       | 1335/4318 [00:15<00:33, 90.08it/s]"
          ],
          "name": "stderr"
        },
        {
          "output_type": "stream",
          "text": [
            "matches: [(11840699188806025751, 3, 4), (11840699188806025751, 3, 5)]\n",
            "matches: [(11840699188806025751, 5, 6), (11840699188806025751, 5, 7)]\n",
            "matches: [(11840699188806025751, 3, 4), (11840699188806025751, 3, 5)]\n",
            "matches: [(11840699188806025751, 3, 4), (11840699188806025751, 3, 5)]\n",
            "matches: [(11840699188806025751, 2, 3)]\n",
            "matches: [(11840699188806025751, 5, 6), (11840699188806025751, 5, 7)]\n",
            "matches: [(11840699188806025751, 1, 2)]\n",
            "matches: [(11840699188806025751, 1, 2)]\n",
            "matches: [(11840699188806025751, 3, 4), (11840699188806025751, 3, 5)]\n",
            "matches: [(11840699188806025751, 2, 3), (11840699188806025751, 2, 4)]\n",
            "matches: [(11840699188806025751, 2, 3), (11840699188806025751, 2, 4)]\n",
            "matches: [(11840699188806025751, 1, 2)]\n",
            "matches: [(11840699188806025751, 4, 5), (11840699188806025751, 4, 6)]\n",
            "matches: [(11840699188806025751, 3, 4)]\n",
            "matches: [(11840699188806025751, 3, 4)]\n",
            "matches: [(11840699188806025751, 1, 2), (11840699188806025751, 1, 3)]\n",
            "matches: [(11840699188806025751, 3, 4), (11840699188806025751, 3, 5)]\n",
            "matches: [(11840699188806025751, 2, 3), (11840699188806025751, 2, 4)]\n",
            "matches: [(11840699188806025751, 1, 2), (11840699188806025751, 1, 3)]\n"
          ],
          "name": "stdout"
        },
        {
          "output_type": "stream",
          "text": [
            " 31%|███▏      | 1355/4318 [00:15<00:32, 90.02it/s]"
          ],
          "name": "stderr"
        },
        {
          "output_type": "stream",
          "text": [
            "matches: [(11840699188806025751, 1, 2)]\n",
            "matches: [(11840699188806025751, 3, 4)]\n",
            "matches: [(11840699188806025751, 2, 3)]\n",
            "matches: [(11840699188806025751, 6, 7), (11840699188806025751, 6, 8)]\n",
            "matches: [(11840699188806025751, 3, 4)]\n",
            "matches: [(11840699188806025751, 1, 2)]\n",
            "matches: [(11840699188806025751, 4, 5), (11840699188806025751, 4, 6)]\n",
            "matches: [(11840699188806025751, 3, 4)]\n",
            "matches: [(11840699188806025751, 1, 2)]\n",
            "matches: [(11840699188806025751, 2, 3)]\n",
            "matches: [(11840699188806025751, 8, 9), (11840699188806025751, 8, 10)]\n",
            "matches: [(11840699188806025751, 4, 5), (11840699188806025751, 4, 6)]\n",
            "matches: [(11840699188806025751, 2, 3)]\n",
            "matches: [(11840699188806025751, 3, 4)]\n",
            "matches: [(11840699188806025751, 14, 15)]\n",
            "matches: [(11840699188806025751, 3, 4), (11840699188806025751, 3, 5)]\n",
            "matches: [(11840699188806025751, 1, 2)]\n",
            "matches: [(11840699188806025751, 1, 2), (11840699188806025751, 1, 3)]\n",
            "matches: [(11840699188806025751, 6, 7), (11840699188806025751, 6, 8)]\n"
          ],
          "name": "stdout"
        },
        {
          "output_type": "stream",
          "text": [
            " 32%|███▏      | 1375/4318 [00:15<00:32, 90.83it/s]"
          ],
          "name": "stderr"
        },
        {
          "output_type": "stream",
          "text": [
            "matches: [(11840699188806025751, 3, 4)]\n",
            "matches: [(11840699188806025751, 2, 3), (11840699188806025751, 2, 4)]\n",
            "matches: [(11840699188806025751, 8, 9)]\n",
            "matches: [(11840699188806025751, 2, 3)]\n",
            "matches: [(11840699188806025751, 3, 4)]\n",
            "matches: [(11840699188806025751, 1, 2)]\n",
            "matches: [(11840699188806025751, 1, 2)]\n",
            "matches: [(11840699188806025751, 3, 4)]\n",
            "matches: [(11840699188806025751, 3, 4), (11840699188806025751, 3, 5)]\n",
            "matches: [(11840699188806025751, 1, 2)]\n",
            "matches: [(11840699188806025751, 3, 4)]\n",
            "matches: [(11840699188806025751, 2, 3), (11840699188806025751, 2, 4)]\n",
            "matches: [(11840699188806025751, 3, 4)]\n",
            "matches: [(11840699188806025751, 8, 9)]\n",
            "matches: [(11840699188806025751, 9, 10)]\n",
            "matches: [(11840699188806025751, 9, 10)]\n",
            "matches: [(11840699188806025751, 2, 3), (11840699188806025751, 2, 4)]\n",
            "matches: [(11840699188806025751, 1, 2)]\n",
            "matches: [(11840699188806025751, 3, 4)]\n"
          ],
          "name": "stdout"
        },
        {
          "output_type": "stream",
          "text": [
            " 32%|███▏      | 1394/4318 [00:16<00:33, 88.25it/s]"
          ],
          "name": "stderr"
        },
        {
          "output_type": "stream",
          "text": [
            "matches: [(11840699188806025751, 4, 5), (11840699188806025751, 4, 6)]\n",
            "matches: [(11840699188806025751, 1, 2)]\n",
            "matches: [(11840699188806025751, 1, 2)]\n",
            "matches: [(11840699188806025751, 1, 2)]\n",
            "matches: [(11840699188806025751, 3, 4)]\n",
            "matches: [(11840699188806025751, 2, 3), (11840699188806025751, 2, 4)]\n",
            "matches: [(11840699188806025751, 1, 2)]\n",
            "matches: [(11840699188806025751, 7, 8), (11840699188806025751, 7, 9)]\n",
            "matches: [(11840699188806025751, 13, 14), (11840699188806025751, 13, 15), (11840699188806025751, 13, 16)]\n",
            "matches: [(11840699188806025751, 1, 2)]\n",
            "matches: [(11840699188806025751, 4, 5)]\n",
            "matches: [(11840699188806025751, 1, 2)]\n",
            "matches: [(11840699188806025751, 1, 2), (11840699188806025751, 1, 3)]\n",
            "matches: [(11840699188806025751, 3, 4)]\n",
            "matches: [(11840699188806025751, 2, 3)]\n",
            "matches: [(11840699188806025751, 2, 3)]\n",
            "matches: [(11840699188806025751, 2, 3), (11840699188806025751, 2, 4)]\n",
            "matches: [(11840699188806025751, 6, 7), (11840699188806025751, 6, 8), (11840699188806025751, 6, 9)]\n"
          ],
          "name": "stdout"
        },
        {
          "output_type": "stream",
          "text": [
            " 33%|███▎      | 1412/4318 [00:16<00:33, 87.09it/s]"
          ],
          "name": "stderr"
        },
        {
          "output_type": "stream",
          "text": [
            "matches: [(11840699188806025751, 3, 4)]\n",
            "matches: [(11840699188806025751, 7, 8), (11840699188806025751, 7, 9)]\n",
            "matches: [(11840699188806025751, 5, 6)]\n",
            "matches: [(11840699188806025751, 0, 1)]\n",
            "matches: [(11840699188806025751, 2, 3), (11840699188806025751, 2, 4)]\n",
            "matches: [(11840699188806025751, 6, 7)]\n",
            "matches: [(11840699188806025751, 3, 4)]\n",
            "matches: [(11840699188806025751, 3, 4)]\n",
            "matches: [(11840699188806025751, 0, 1)]\n",
            "matches: [(11840699188806025751, 1, 2)]\n",
            "matches: [(11840699188806025751, 3, 4), (11840699188806025751, 3, 5)]\n",
            "matches: [(11840699188806025751, 2, 3)]\n",
            "matches: [(11840699188806025751, 5, 6)]\n",
            "matches: [(11840699188806025751, 15, 16)]\n",
            "matches: [(11840699188806025751, 4, 5), (11840699188806025751, 4, 6)]\n",
            "matches: [(11840699188806025751, 6, 7)]\n",
            "matches: [(11840699188806025751, 2, 3)]\n",
            "matches: [(11840699188806025751, 3, 4), (11840699188806025751, 3, 5)]\n"
          ],
          "name": "stdout"
        },
        {
          "output_type": "stream",
          "text": [
            " 33%|███▎      | 1430/4318 [00:16<00:32, 87.82it/s]"
          ],
          "name": "stderr"
        },
        {
          "output_type": "stream",
          "text": [
            "matches: [(11840699188806025751, 8, 9), (11840699188806025751, 8, 10)]\n",
            "matches: [(11840699188806025751, 3, 4)]\n",
            "matches: [(11840699188806025751, 1, 2)]\n",
            "matches: [(11840699188806025751, 0, 1)]\n",
            "matches: [(11840699188806025751, 1, 2)]\n",
            "matches: [(11840699188806025751, 3, 4), (11840699188806025751, 3, 5)]\n",
            "matches: [(11840699188806025751, 2, 3)]\n",
            "matches: [(11840699188806025751, 5, 6)]\n",
            "matches: [(11840699188806025751, 15, 16)]\n",
            "matches: [(11840699188806025751, 4, 5), (11840699188806025751, 4, 6)]\n",
            "matches: [(11840699188806025751, 6, 7)]\n",
            "matches: [(11840699188806025751, 2, 3)]\n",
            "matches: [(11840699188806025751, 3, 4), (11840699188806025751, 3, 5)]\n",
            "matches: [(11840699188806025751, 8, 9), (11840699188806025751, 8, 10)]\n",
            "matches: [(11840699188806025751, 3, 4)]\n",
            "matches: [(11840699188806025751, 1, 2)]\n",
            "matches: [(11840699188806025751, 0, 1)]\n",
            "matches: [(11840699188806025751, 6, 7), (11840699188806025751, 6, 8)]\n"
          ],
          "name": "stdout"
        },
        {
          "output_type": "stream",
          "text": [
            " 34%|███▎      | 1448/4318 [00:16<00:32, 87.87it/s]"
          ],
          "name": "stderr"
        },
        {
          "output_type": "stream",
          "text": [
            "matches: [(11840699188806025751, 1, 2)]\n",
            "matches: [(11840699188806025751, 3, 4)]\n",
            "matches: [(11840699188806025751, 4, 5), (11840699188806025751, 4, 6)]\n",
            "matches: [(11840699188806025751, 2, 3), (11840699188806025751, 2, 4)]\n",
            "matches: [(11840699188806025751, 2, 3)]\n",
            "matches: [(11840699188806025751, 3, 4), (11840699188806025751, 3, 5)]\n",
            "matches: [(11840699188806025751, 5, 6)]\n",
            "matches: [(11840699188806025751, 3, 4)]\n",
            "matches: [(11840699188806025751, 5, 6), (11840699188806025751, 5, 7)]\n",
            "matches: [(11840699188806025751, 1, 2)]\n",
            "matches: [(11840699188806025751, 7, 8)]\n",
            "matches: [(11840699188806025751, 3, 4), (11840699188806025751, 3, 5)]\n",
            "matches: [(11840699188806025751, 2, 3), (11840699188806025751, 2, 4)]\n",
            "matches: [(11840699188806025751, 13, 14), (11840699188806025751, 13, 15)]\n",
            "matches: [(11840699188806025751, 26, 27)]\n",
            "matches: [(11840699188806025751, 11, 12)]\n",
            "matches: [(11840699188806025751, 3, 4), (11840699188806025751, 3, 5)]\n",
            "matches: [(11840699188806025751, 3, 4)]\n",
            "matches: [(11840699188806025751, 5, 6)]\n"
          ],
          "name": "stdout"
        },
        {
          "output_type": "stream",
          "text": [
            " 34%|███▍      | 1467/4318 [00:16<00:31, 90.27it/s]"
          ],
          "name": "stderr"
        },
        {
          "output_type": "stream",
          "text": [
            "matches: [(11840699188806025751, 0, 1), (11840699188806025751, 0, 2)]\n",
            "matches: [(11840699188806025751, 3, 4), (11840699188806025751, 3, 5), (11840699188806025751, 3, 6)]\n",
            "matches: [(11840699188806025751, 10, 11), (11840699188806025751, 10, 12)]\n",
            "matches: [(11840699188806025751, 3, 4), (11840699188806025751, 3, 5)]\n",
            "matches: [(11840699188806025751, 3, 4), (11840699188806025751, 3, 5), (11840699188806025751, 3, 6)]\n",
            "matches: [(11840699188806025751, 4, 5)]\n",
            "matches: [(11840699188806025751, 3, 4)]\n",
            "matches: [(11840699188806025751, 2, 3), (11840699188806025751, 2, 4)]\n",
            "matches: [(11840699188806025751, 4, 5)]\n",
            "matches: [(11840699188806025751, 4, 5), (11840699188806025751, 4, 6)]\n",
            "matches: [(11840699188806025751, 4, 5)]\n",
            "matches: [(11840699188806025751, 2, 3)]\n",
            "matches: [(11840699188806025751, 4, 5)]\n",
            "matches: [(11840699188806025751, 2, 3)]\n",
            "matches: [(11840699188806025751, 5, 6)]\n",
            "matches: [(11840699188806025751, 3, 4), (11840699188806025751, 3, 5)]\n",
            "matches: [(11840699188806025751, 8, 9)]\n",
            "matches: [(11840699188806025751, 11, 12)]\n",
            "matches: [(11840699188806025751, 3, 4), (11840699188806025751, 3, 5)]\n",
            "matches: [(11840699188806025751, 8, 9), (11840699188806025751, 8, 10)]"
          ],
          "name": "stdout"
        },
        {
          "output_type": "stream",
          "text": [
            " 34%|███▍      | 1486/4318 [00:17<00:32, 86.59it/s]"
          ],
          "name": "stderr"
        },
        {
          "output_type": "stream",
          "text": [
            "\n",
            "matches: [(11840699188806025751, 3, 4)]\n",
            "matches: [(11840699188806025751, 3, 4)]\n",
            "matches: [(11840699188806025751, 2, 3)]\n",
            "matches: [(11840699188806025751, 1, 2)]\n",
            "matches: [(11840699188806025751, 1, 2)]\n",
            "matches: [(11840699188806025751, 2, 3)]\n",
            "matches: [(11840699188806025751, 6, 7)]\n",
            "matches: [(11840699188806025751, 6, 7)]\n",
            "matches: [(11840699188806025751, 2, 3), (11840699188806025751, 2, 4), (11840699188806025751, 2, 5)]\n",
            "matches: [(11840699188806025751, 0, 1)]\n",
            "matches: [(11840699188806025751, 5, 6), (11840699188806025751, 5, 7)]\n",
            "matches: [(11840699188806025751, 10, 11), (11840699188806025751, 10, 12)]\n",
            "matches: [(11840699188806025751, 11, 12), (11840699188806025751, 11, 13)]\n",
            "matches: [(11840699188806025751, 1, 2)]\n",
            "matches: [(11840699188806025751, 1, 2)]\n",
            "matches: [(11840699188806025751, 3, 4), (11840699188806025751, 3, 5)]\n"
          ],
          "name": "stdout"
        },
        {
          "output_type": "stream",
          "text": [
            " 35%|███▍      | 1506/4318 [00:17<00:31, 90.08it/s]"
          ],
          "name": "stderr"
        },
        {
          "output_type": "stream",
          "text": [
            "matches: [(11840699188806025751, 2, 3)]\n",
            "matches: [(11840699188806025751, 1, 2)]\n",
            "matches: [(11840699188806025751, 2, 3), (11840699188806025751, 2, 4)]\n",
            "matches: [(11840699188806025751, 6, 7)]\n",
            "matches: [(11840699188806025751, 0, 1)]\n",
            "matches: [(11840699188806025751, 5, 6), (11840699188806025751, 5, 7)]\n",
            "matches: [(11840699188806025751, 7, 8), (11840699188806025751, 7, 9)]\n",
            "matches: [(11840699188806025751, 1, 2)]\n",
            "matches: [(11840699188806025751, 2, 3)]\n",
            "matches: [(11840699188806025751, 9, 10), (11840699188806025751, 9, 11)]\n",
            "matches: [(11840699188806025751, 2, 3)]\n",
            "matches: [(11840699188806025751, 2, 3), (11840699188806025751, 2, 4)]\n",
            "matches: [(11840699188806025751, 5, 6)]\n",
            "matches: [(11840699188806025751, 3, 4)]\n",
            "matches: [(11840699188806025751, 2, 3), (11840699188806025751, 2, 4)]\n",
            "matches: [(11840699188806025751, 2, 3)]\n",
            "matches: [(11840699188806025751, 5, 6)]\n",
            "matches: [(11840699188806025751, 6, 7)]\n",
            "matches: [(11840699188806025751, 3, 4)]\n",
            "matches: [(11840699188806025751, 7, 8)]\n"
          ],
          "name": "stdout"
        },
        {
          "output_type": "stream",
          "text": [
            "\r 35%|███▌      | 1516/4318 [00:17<00:32, 86.34it/s]"
          ],
          "name": "stderr"
        },
        {
          "output_type": "stream",
          "text": [
            "matches: [(11840699188806025751, 5, 6)]\n",
            "matches: [(11840699188806025751, 3, 4), (11840699188806025751, 3, 5)]\n",
            "matches: [(11840699188806025751, 5, 6)]\n",
            "matches: [(11840699188806025751, 3, 4)]\n",
            "matches: [(11840699188806025751, 5, 6), (11840699188806025751, 5, 7)]\n",
            "matches: [(11840699188806025751, 1, 2)]\n",
            "matches: [(11840699188806025751, 7, 8)]\n",
            "matches: [(11840699188806025751, 3, 4), (11840699188806025751, 3, 5)]\n",
            "matches: [(11840699188806025751, 2, 3), (11840699188806025751, 2, 4)]\n",
            "matches: [(11840699188806025751, 13, 14), (11840699188806025751, 13, 15)]\n",
            "matches: [(11840699188806025751, 26, 27)]\n",
            "matches: [(11840699188806025751, 11, 12)]\n",
            "matches: [(11840699188806025751, 3, 4), (11840699188806025751, 3, 5)]\n",
            "matches: [(11840699188806025751, 3, 4)]\n",
            "matches: [(11840699188806025751, 5, 6)]\n",
            "matches: [(11840699188806025751, 0, 1), (11840699188806025751, 0, 2)]\n",
            "matches: [(11840699188806025751, 3, 4), (11840699188806025751, 3, 5), (11840699188806025751, 3, 6)]\n"
          ],
          "name": "stdout"
        },
        {
          "output_type": "stream",
          "text": [
            " 36%|███▌      | 1535/4318 [00:17<00:31, 87.87it/s]"
          ],
          "name": "stderr"
        },
        {
          "output_type": "stream",
          "text": [
            "matches: [(11840699188806025751, 10, 11), (11840699188806025751, 10, 12)]\n",
            "matches: [(11840699188806025751, 3, 4), (11840699188806025751, 3, 5)]\n",
            "matches: [(11840699188806025751, 3, 4), (11840699188806025751, 3, 5), (11840699188806025751, 3, 6)]\n",
            "matches: [(11840699188806025751, 4, 5)]\n",
            "matches: [(11840699188806025751, 3, 4)]\n",
            "matches: [(11840699188806025751, 2, 3), (11840699188806025751, 2, 4)]\n",
            "matches: [(11840699188806025751, 4, 5)]\n",
            "matches: [(11840699188806025751, 4, 5), (11840699188806025751, 4, 6)]\n",
            "matches: [(11840699188806025751, 4, 5)]\n",
            "matches: [(11840699188806025751, 2, 3)]\n",
            "matches: [(11840699188806025751, 4, 5)]\n",
            "matches: [(11840699188806025751, 2, 3)]\n",
            "matches: [(11840699188806025751, 5, 6)]\n",
            "matches: [(11840699188806025751, 3, 4), (11840699188806025751, 3, 5)]\n",
            "matches: [(11840699188806025751, 8, 9)]\n",
            "matches: [(11840699188806025751, 11, 12)]\n",
            "matches: [(11840699188806025751, 3, 4), (11840699188806025751, 3, 5)]\n",
            "matches: [(11840699188806025751, 8, 9), (11840699188806025751, 8, 10)]\n",
            "matches: [(11840699188806025751, 3, 4)]\n"
          ],
          "name": "stdout"
        },
        {
          "output_type": "stream",
          "text": [
            " 36%|███▌      | 1553/4318 [00:17<00:32, 85.83it/s]"
          ],
          "name": "stderr"
        },
        {
          "output_type": "stream",
          "text": [
            "matches: [(11840699188806025751, 3, 4)]\n",
            "matches: [(11840699188806025751, 2, 3)]\n",
            "matches: [(11840699188806025751, 1, 2)]\n",
            "matches: [(11840699188806025751, 1, 2)]\n",
            "matches: [(11840699188806025751, 2, 3)]\n",
            "matches: [(11840699188806025751, 6, 7)]\n",
            "matches: [(11840699188806025751, 6, 7)]\n",
            "matches: [(11840699188806025751, 2, 3), (11840699188806025751, 2, 4), (11840699188806025751, 2, 5)]\n",
            "matches: [(11840699188806025751, 0, 1)]\n",
            "matches: [(11840699188806025751, 5, 6), (11840699188806025751, 5, 7)]\n",
            "matches: [(11840699188806025751, 10, 11), (11840699188806025751, 10, 12)]\n",
            "matches: [(11840699188806025751, 11, 12), (11840699188806025751, 11, 13)]\n",
            "matches: [(11840699188806025751, 1, 2)]\n",
            "matches: [(11840699188806025751, 1, 2)]\n",
            "matches: [(11840699188806025751, 3, 4), (11840699188806025751, 3, 5)]\n",
            "matches: [(11840699188806025751, 2, 3)]\n",
            "matches: [(11840699188806025751, 1, 2)]\n",
            "matches: [(11840699188806025751, 2, 3), (11840699188806025751, 2, 4)]\n"
          ],
          "name": "stdout"
        },
        {
          "output_type": "stream",
          "text": [
            " 36%|███▋      | 1572/4318 [00:18<00:32, 85.27it/s]"
          ],
          "name": "stderr"
        },
        {
          "output_type": "stream",
          "text": [
            "matches: [(11840699188806025751, 6, 7)]\n",
            "matches: [(11840699188806025751, 0, 1)]\n",
            "matches: [(11840699188806025751, 5, 6), (11840699188806025751, 5, 7)]\n",
            "matches: [(11840699188806025751, 7, 8), (11840699188806025751, 7, 9)]\n",
            "matches: [(11840699188806025751, 1, 2)]\n",
            "matches: [(11840699188806025751, 2, 3)]\n",
            "matches: [(11840699188806025751, 9, 10), (11840699188806025751, 9, 11)]\n",
            "matches: [(11840699188806025751, 2, 3)]\n",
            "matches: [(11840699188806025751, 2, 3), (11840699188806025751, 2, 4)]\n",
            "matches: [(11840699188806025751, 5, 6)]\n",
            "matches: [(11840699188806025751, 3, 4)]\n",
            "matches: [(11840699188806025751, 2, 3), (11840699188806025751, 2, 4)]\n",
            "matches: [(11840699188806025751, 2, 3)]\n",
            "matches: [(11840699188806025751, 5, 6)]\n",
            "matches: [(11840699188806025751, 6, 7)]\n",
            "matches: [(11840699188806025751, 3, 4)]\n",
            "matches: [(11840699188806025751, 7, 8)]\n",
            "matches: [(11840699188806025751, 5, 6)]\n"
          ],
          "name": "stdout"
        },
        {
          "output_type": "stream",
          "text": [
            " 37%|███▋      | 1591/4318 [00:18<00:31, 87.17it/s]"
          ],
          "name": "stderr"
        },
        {
          "output_type": "stream",
          "text": [
            "matches: [(11840699188806025751, 4, 5)]\n",
            "matches: [(11840699188806025751, 4, 5)]\n",
            "matches: [(11840699188806025751, 3, 4), (11840699188806025751, 3, 5), (11840699188806025751, 3, 6)]\n",
            "matches: [(11840699188806025751, 2, 3)]\n",
            "matches: [(11840699188806025751, 3, 4)]\n",
            "matches: [(11840699188806025751, 2, 3)]\n",
            "matches: [(11840699188806025751, 5, 6), (11840699188806025751, 5, 7), (11840699188806025751, 5, 8)]\n",
            "matches: [(11840699188806025751, 4, 5), (11840699188806025751, 4, 6)]\n",
            "matches: [(11840699188806025751, 9, 10)]\n",
            "matches: [(11840699188806025751, 3, 4)]\n",
            "matches: [(11840699188806025751, 2, 3)]\n",
            "matches: [(11840699188806025751, 2, 3)]\n",
            "matches: [(11840699188806025751, 4, 5)]\n",
            "matches: [(11840699188806025751, 3, 4)]\n",
            "matches: [(11840699188806025751, 13, 14)]\n",
            "matches: [(11840699188806025751, 11, 12), (11840699188806025751, 11, 13)]\n",
            "matches: [(11840699188806025751, 9, 10)]\n"
          ],
          "name": "stdout"
        },
        {
          "output_type": "stream",
          "text": [
            " 37%|███▋      | 1609/4318 [00:18<00:31, 85.83it/s]"
          ],
          "name": "stderr"
        },
        {
          "output_type": "stream",
          "text": [
            "matches: [(11840699188806025751, 3, 4), (11840699188806025751, 3, 5)]\n",
            "matches: [(11840699188806025751, 1, 2)]\n",
            "matches: [(11840699188806025751, 3, 4), (11840699188806025751, 3, 5)]\n",
            "matches: [(11840699188806025751, 1, 2)]\n",
            "matches: [(11840699188806025751, 1, 2)]\n",
            "matches: [(11840699188806025751, 4, 5), (11840699188806025751, 4, 6)]\n",
            "matches: [(11840699188806025751, 1, 2)]\n",
            "matches: [(11840699188806025751, 8, 9)]\n",
            "matches: [(11840699188806025751, 5, 6)]\n",
            "matches: [(11840699188806025751, 6, 7)]\n",
            "matches: [(11840699188806025751, 1, 2)]\n",
            "matches: [(11840699188806025751, 1, 2)]\n",
            "matches: [(11840699188806025751, 3, 4), (11840699188806025751, 3, 5)]\n",
            "matches: [(11840699188806025751, 12, 13)]\n",
            "matches: [(11840699188806025751, 1, 2), (11840699188806025751, 19, 20)]\n",
            "matches: [(11840699188806025751, 5, 6)]\n",
            "matches: [(11840699188806025751, 3, 4), (11840699188806025751, 3, 5)]\n",
            "matches: [(11840699188806025751, 1, 2)]\n",
            "matches: [(11840699188806025751, 1, 2)]\n"
          ],
          "name": "stdout"
        },
        {
          "output_type": "stream",
          "text": [
            " 38%|███▊      | 1628/4318 [00:18<00:31, 86.47it/s]"
          ],
          "name": "stderr"
        },
        {
          "output_type": "stream",
          "text": [
            "matches: [(11840699188806025751, 8, 9)]\n",
            "matches: [(11840699188806025751, 1, 2), (11840699188806025751, 1, 3)]\n",
            "matches: [(11840699188806025751, 1, 2)]\n",
            "matches: [(11840699188806025751, 2, 3)]\n",
            "matches: [(11840699188806025751, 5, 6)]\n",
            "matches: [(11840699188806025751, 1, 2)]\n",
            "matches: [(11840699188806025751, 1, 2)]\n",
            "matches: [(11840699188806025751, 2, 3), (11840699188806025751, 2, 4)]\n",
            "matches: [(11840699188806025751, 5, 6), (11840699188806025751, 5, 7)]\n",
            "matches: [(11840699188806025751, 2, 3), (11840699188806025751, 2, 4)]\n",
            "matches: [(11840699188806025751, 4, 5), (11840699188806025751, 4, 6)]\n",
            "matches: [(11840699188806025751, 3, 4), (11840699188806025751, 3, 5)]\n",
            "matches: [(11840699188806025751, 3, 4)]\n",
            "matches: [(11840699188806025751, 3, 4)]\n",
            "matches: [(11840699188806025751, 6, 7)]\n",
            "matches: [(11840699188806025751, 3, 4), (11840699188806025751, 3, 5)]\n",
            "matches: [(11840699188806025751, 1, 2)]\n",
            "matches: [(11840699188806025751, 1, 2)]\n",
            "matches: [(11840699188806025751, 8, 9)]\n"
          ],
          "name": "stdout"
        },
        {
          "output_type": "stream",
          "text": [
            " 38%|███▊      | 1646/4318 [00:18<00:31, 85.99it/s]"
          ],
          "name": "stderr"
        },
        {
          "output_type": "stream",
          "text": [
            "matches: [(11840699188806025751, 1, 2), (11840699188806025751, 1, 3)]\n",
            "matches: [(11840699188806025751, 1, 2)]\n",
            "matches: [(11840699188806025751, 2, 3)]\n",
            "matches: [(11840699188806025751, 5, 6)]\n",
            "matches: [(11840699188806025751, 1, 2)]\n",
            "matches: [(11840699188806025751, 1, 2)]\n",
            "matches: [(11840699188806025751, 2, 3), (11840699188806025751, 2, 4)]\n",
            "matches: [(11840699188806025751, 5, 6), (11840699188806025751, 5, 7)]\n",
            "matches: [(11840699188806025751, 2, 3), (11840699188806025751, 2, 4)]\n",
            "matches: [(11840699188806025751, 4, 5), (11840699188806025751, 4, 6)]\n",
            "matches: [(11840699188806025751, 3, 4), (11840699188806025751, 3, 5)]\n",
            "matches: [(11840699188806025751, 3, 4)]\n",
            "matches: [(11840699188806025751, 3, 4)]\n",
            "matches: [(11840699188806025751, 6, 7)]\n",
            "matches: [(11840699188806025751, 4, 5), (11840699188806025751, 4, 6)]\n",
            "matches: [(11840699188806025751, 3, 4)]\n",
            "matches: [(11840699188806025751, 2, 3)]\n"
          ],
          "name": "stdout"
        },
        {
          "output_type": "stream",
          "text": [
            " 39%|███▊      | 1664/4318 [00:19<00:33, 80.23it/s]"
          ],
          "name": "stderr"
        },
        {
          "output_type": "stream",
          "text": [
            "matches: [(11840699188806025751, 2, 3)]\n",
            "matches: [(11840699188806025751, 2, 3), (11840699188806025751, 2, 4), (11840699188806025751, 2, 5)]\n",
            "matches: [(11840699188806025751, 0, 1), (11840699188806025751, 14, 15)]\n",
            "matches: [(11840699188806025751, 3, 4), (11840699188806025751, 3, 5)]\n",
            "matches: [(11840699188806025751, 14, 15)]\n",
            "matches: [(11840699188806025751, 4, 5), (11840699188806025751, 4, 6)]\n",
            "matches: [(11840699188806025751, 3, 4)]\n",
            "matches: [(11840699188806025751, 6, 7), (11840699188806025751, 6, 8)]\n",
            "matches: [(11840699188806025751, 2, 3)]\n",
            "matches: [(11840699188806025751, 6, 7), (11840699188806025751, 6, 8), (11840699188806025751, 6, 9)]\n",
            "matches: [(11840699188806025751, 3, 4)]\n",
            "matches: [(11840699188806025751, 2, 3), (11840699188806025751, 2, 4)]\n",
            "matches: [(11840699188806025751, 8, 9)]\n",
            "matches: [(11840699188806025751, 4, 5), (11840699188806025751, 4, 6), (11840699188806025751, 4, 7)]\n",
            "matches: [(11840699188806025751, 3, 4)]\n",
            "matches: [(11840699188806025751, 1, 2)]\n"
          ],
          "name": "stdout"
        },
        {
          "output_type": "stream",
          "text": [
            " 39%|███▉      | 1682/4318 [00:19<00:32, 80.29it/s]"
          ],
          "name": "stderr"
        },
        {
          "output_type": "stream",
          "text": [
            "matches: [(11840699188806025751, 2, 3), (11840699188806025751, 2, 4)]\n",
            "matches: [(11840699188806025751, 2, 3)]\n",
            "matches: [(11840699188806025751, 3, 4), (11840699188806025751, 3, 5)]\n",
            "matches: [(11840699188806025751, 1, 2)]\n",
            "matches: [(11840699188806025751, 2, 3), (11840699188806025751, 2, 4)]\n",
            "matches: [(11840699188806025751, 1, 2)]\n",
            "matches: [(11840699188806025751, 3, 4), (11840699188806025751, 3, 5)]\n",
            "matches: [(11840699188806025751, 2, 3)]\n",
            "matches: [(11840699188806025751, 12, 13)]\n",
            "matches: [(11840699188806025751, 5, 6)]\n",
            "matches: [(11840699188806025751, 9, 10), (11840699188806025751, 9, 11)]\n",
            "matches: [(11840699188806025751, 2, 3)]\n",
            "matches: [(11840699188806025751, 2, 3)]\n",
            "matches: [(11840699188806025751, 6, 7)]\n",
            "matches: [(11840699188806025751, 2, 3)]\n",
            "matches: [(11840699188806025751, 5, 6), (11840699188806025751, 5, 7)]\n",
            "matches: [(11840699188806025751, 14, 15), (11840699188806025751, 14, 16)]\n"
          ],
          "name": "stdout"
        },
        {
          "output_type": "stream",
          "text": [
            " 39%|███▉      | 1700/4318 [00:19<00:32, 80.77it/s]"
          ],
          "name": "stderr"
        },
        {
          "output_type": "stream",
          "text": [
            "matches: [(11840699188806025751, 9, 10)]\n",
            "matches: [(11840699188806025751, 6, 7)]\n",
            "matches: [(11840699188806025751, 2, 3)]\n",
            "matches: [(11840699188806025751, 1, 2)]\n",
            "matches: [(11840699188806025751, 5, 6), (11840699188806025751, 5, 7), (11840699188806025751, 5, 8)]\n",
            "matches: [(11840699188806025751, 3, 4)]\n",
            "matches: [(11840699188806025751, 2, 3)]\n",
            "matches: [(11840699188806025751, 3, 4), (11840699188806025751, 3, 5)]\n",
            "matches: [(11840699188806025751, 3, 4)]\n",
            "matches: [(11840699188806025751, 2, 3)]\n",
            "matches: [(11840699188806025751, 3, 4), (11840699188806025751, 3, 5)]\n",
            "matches: [(11840699188806025751, 4, 5)]\n",
            "matches: [(11840699188806025751, 3, 4)]\n",
            "matches: [(11840699188806025751, 5, 6), (11840699188806025751, 5, 7)]\n",
            "matches: [(11840699188806025751, 6, 7), (11840699188806025751, 6, 8)]\n",
            "matches: [(11840699188806025751, 2, 3)]\n",
            "matches: [(11840699188806025751, 2, 3), (11840699188806025751, 2, 4)]\n"
          ],
          "name": "stdout"
        },
        {
          "output_type": "stream",
          "text": [
            " 40%|███▉      | 1718/4318 [00:19<00:32, 80.06it/s]"
          ],
          "name": "stderr"
        },
        {
          "output_type": "stream",
          "text": [
            "matches: [(11840699188806025751, 2, 3)]\n",
            "matches: [(11840699188806025751, 2, 3)]\n",
            "matches: [(11840699188806025751, 6, 7), (11840699188806025751, 6, 8)]\n",
            "matches: [(11840699188806025751, 2, 3)]\n",
            "matches: [(11840699188806025751, 2, 3), (11840699188806025751, 2, 4)]\n",
            "matches: [(11840699188806025751, 4, 5), (11840699188806025751, 4, 6)]\n",
            "matches: [(11840699188806025751, 2, 3)]\n",
            "matches: [(11840699188806025751, 6, 7), (11840699188806025751, 6, 8)]\n",
            "matches: [(11840699188806025751, 6, 7), (11840699188806025751, 6, 8)]\n",
            "matches: [(11840699188806025751, 7, 8)]\n",
            "matches: [(11840699188806025751, 4, 5)]\n",
            "matches: [(11840699188806025751, 3, 4)]\n",
            "matches: [(11840699188806025751, 3, 4), (11840699188806025751, 3, 5)]\n",
            "matches: [(11840699188806025751, 16, 17)]\n",
            "matches: [(11840699188806025751, 1, 2), (11840699188806025751, 1, 3)]\n",
            "matches: [(11840699188806025751, 3, 4)]\n",
            "matches: [(11840699188806025751, 1, 2)]\n"
          ],
          "name": "stdout"
        },
        {
          "output_type": "stream",
          "text": [
            "\r 40%|███▉      | 1727/4318 [00:19<00:33, 78.19it/s]"
          ],
          "name": "stderr"
        },
        {
          "output_type": "stream",
          "text": [
            "matches: [(11840699188806025751, 4, 5)]\n",
            "matches: [(11840699188806025751, 3, 4), (11840699188806025751, 3, 5)]\n",
            "matches: [(11840699188806025751, 2, 3)]\n",
            "matches: [(11840699188806025751, 12, 13)]\n",
            "matches: [(11840699188806025751, 5, 6)]\n",
            "matches: [(11840699188806025751, 9, 10), (11840699188806025751, 9, 11)]\n",
            "matches: [(11840699188806025751, 2, 3)]\n",
            "matches: [(11840699188806025751, 2, 3)]\n",
            "matches: [(11840699188806025751, 6, 7)]\n",
            "matches: [(11840699188806025751, 2, 3)]\n",
            "matches: [(11840699188806025751, 5, 6), (11840699188806025751, 5, 7)]\n",
            "matches: [(11840699188806025751, 14, 15), (11840699188806025751, 14, 16)]\n",
            "matches: [(11840699188806025751, 9, 10)]\n",
            "matches: [(11840699188806025751, 6, 7)]\n",
            "matches: [(11840699188806025751, 2, 3)]\n"
          ],
          "name": "stdout"
        },
        {
          "output_type": "stream",
          "text": [
            " 40%|████      | 1743/4318 [00:20<00:35, 72.68it/s]"
          ],
          "name": "stderr"
        },
        {
          "output_type": "stream",
          "text": [
            "matches: [(11840699188806025751, 1, 2)]\n",
            "matches: [(11840699188806025751, 5, 6), (11840699188806025751, 5, 7), (11840699188806025751, 5, 8)]\n",
            "matches: [(11840699188806025751, 3, 4)]\n",
            "matches: [(11840699188806025751, 2, 3)]\n",
            "matches: [(11840699188806025751, 3, 4), (11840699188806025751, 3, 5)]\n",
            "matches: [(11840699188806025751, 3, 4)]\n",
            "matches: [(11840699188806025751, 2, 3)]\n",
            "matches: [(11840699188806025751, 3, 4), (11840699188806025751, 3, 5)]\n",
            "matches: [(11840699188806025751, 4, 5)]\n",
            "matches: [(11840699188806025751, 3, 4)]\n",
            "matches: [(11840699188806025751, 5, 6), (11840699188806025751, 5, 7)]\n",
            "matches: [(11840699188806025751, 6, 7), (11840699188806025751, 6, 8)]\n",
            "matches: [(11840699188806025751, 2, 3)]\n",
            "matches: [(11840699188806025751, 2, 3), (11840699188806025751, 2, 4)]\n",
            "matches: [(11840699188806025751, 2, 3)]\n"
          ],
          "name": "stdout"
        },
        {
          "output_type": "stream",
          "text": [
            " 41%|████      | 1760/4318 [00:20<00:33, 75.66it/s]"
          ],
          "name": "stderr"
        },
        {
          "output_type": "stream",
          "text": [
            "matches: [(11840699188806025751, 2, 3)]\n",
            "matches: [(11840699188806025751, 6, 7), (11840699188806025751, 6, 8)]\n",
            "matches: [(11840699188806025751, 2, 3)]\n",
            "matches: [(11840699188806025751, 2, 3), (11840699188806025751, 2, 4)]\n",
            "matches: [(11840699188806025751, 4, 5), (11840699188806025751, 4, 6)]\n",
            "matches: [(11840699188806025751, 2, 3)]\n",
            "matches: [(11840699188806025751, 6, 7), (11840699188806025751, 6, 8)]\n",
            "matches: [(11840699188806025751, 6, 7), (11840699188806025751, 6, 8)]\n",
            "matches: [(11840699188806025751, 7, 8)]\n",
            "matches: [(11840699188806025751, 4, 5)]\n",
            "matches: [(11840699188806025751, 3, 4)]\n",
            "matches: [(11840699188806025751, 3, 4), (11840699188806025751, 3, 5)]\n",
            "matches: [(11840699188806025751, 16, 17)]\n",
            "matches: [(11840699188806025751, 1, 2), (11840699188806025751, 1, 3)]\n",
            "matches: [(11840699188806025751, 3, 4)]\n",
            "matches: [(11840699188806025751, 1, 2)]\n",
            "matches: [(11840699188806025751, 4, 5)]\n"
          ],
          "name": "stdout"
        },
        {
          "output_type": "stream",
          "text": [
            " 41%|████      | 1776/4318 [00:20<00:32, 77.20it/s]"
          ],
          "name": "stderr"
        },
        {
          "output_type": "stream",
          "text": [
            "matches: [(11840699188806025751, 3, 4), (11840699188806025751, 3, 5)]\n",
            "matches: [(11840699188806025751, 2, 3)]\n",
            "matches: [(11840699188806025751, 3, 4), (11840699188806025751, 3, 5)]\n",
            "matches: [(11840699188806025751, 2, 3), (11840699188806025751, 2, 4)]\n",
            "matches: [(11840699188806025751, 5, 6), (11840699188806025751, 5, 7)]\n",
            "matches: [(11840699188806025751, 5, 6), (11840699188806025751, 5, 7)]\n",
            "matches: [(11840699188806025751, 6, 7), (11840699188806025751, 6, 8)]\n",
            "matches: [(11840699188806025751, 2, 3)]\n",
            "matches: [(11840699188806025751, 3, 4)]\n",
            "matches: [(11840699188806025751, 5, 6)]\n",
            "matches: [(11840699188806025751, 2, 3)]\n",
            "matches: [(11840699188806025751, 6, 7)]\n",
            "matches: [(11840699188806025751, 4, 5), (11840699188806025751, 4, 6)]\n",
            "matches: [(11840699188806025751, 9, 10), (11840699188806025751, 9, 11)]\n",
            "matches: [(11840699188806025751, 1, 2)]\n",
            "matches: [(11840699188806025751, 2, 3)]\n",
            "matches: [(11840699188806025751, 4, 5), (11840699188806025751, 4, 6)]\n"
          ],
          "name": "stdout"
        },
        {
          "output_type": "stream",
          "text": [
            " 42%|████▏     | 1793/4318 [00:20<00:31, 79.14it/s]"
          ],
          "name": "stderr"
        },
        {
          "output_type": "stream",
          "text": [
            "matches: [(11840699188806025751, 3, 4), (11840699188806025751, 3, 5)]\n",
            "matches: [(11840699188806025751, 4, 5)]\n",
            "matches: [(11840699188806025751, 4, 5)]\n",
            "matches: [(11840699188806025751, 1, 2)]\n",
            "matches: [(11840699188806025751, 2, 3), (11840699188806025751, 2, 4)]\n",
            "matches: [(11840699188806025751, 3, 4)]\n",
            "matches: [(11840699188806025751, 2, 3)]\n",
            "matches: [(11840699188806025751, 8, 9)]\n",
            "matches: [(11840699188806025751, 1, 2)]\n",
            "matches: [(11840699188806025751, 7, 8)]\n",
            "matches: [(11840699188806025751, 3, 4), (11840699188806025751, 3, 5)]\n",
            "matches: [(11840699188806025751, 11, 12)]\n",
            "matches: [(11840699188806025751, 8, 9)]\n",
            "matches: [(11840699188806025751, 9, 10)]\n",
            "matches: [(11840699188806025751, 1, 2), (11840699188806025751, 1, 3)]\n",
            "matches: [(11840699188806025751, 3, 4), (11840699188806025751, 3, 5)]\n",
            "matches: [(11840699188806025751, 4, 5)]\n",
            "matches: [(11840699188806025751, 4, 5)]\n"
          ],
          "name": "stdout"
        },
        {
          "output_type": "stream",
          "text": [
            " 42%|████▏     | 1810/4318 [00:21<00:32, 77.62it/s]"
          ],
          "name": "stderr"
        },
        {
          "output_type": "stream",
          "text": [
            "matches: [(11840699188806025751, 1, 2)]\n",
            "matches: [(11840699188806025751, 2, 3), (11840699188806025751, 2, 4)]\n",
            "matches: [(11840699188806025751, 3, 4)]\n",
            "matches: [(11840699188806025751, 2, 3)]\n",
            "matches: [(11840699188806025751, 8, 9)]\n",
            "matches: [(11840699188806025751, 1, 2)]\n",
            "matches: [(11840699188806025751, 7, 8)]\n",
            "matches: [(11840699188806025751, 3, 4), (11840699188806025751, 3, 5)]\n",
            "matches: [(11840699188806025751, 11, 12)]\n",
            "matches: [(11840699188806025751, 8, 9)]\n",
            "matches: [(11840699188806025751, 9, 10)]\n",
            "matches: [(11840699188806025751, 1, 2), (11840699188806025751, 1, 3)]\n",
            "matches: [(11840699188806025751, 2, 3)]\n",
            "matches: [(11840699188806025751, 2, 3), (11840699188806025751, 2, 4)]\n",
            "matches: [(11840699188806025751, 3, 4)]\n",
            "matches: [(11840699188806025751, 1, 2), (11840699188806025751, 1, 3)]\n"
          ],
          "name": "stdout"
        },
        {
          "output_type": "stream",
          "text": [
            " 42%|████▏     | 1827/4318 [00:21<00:31, 80.13it/s]"
          ],
          "name": "stderr"
        },
        {
          "output_type": "stream",
          "text": [
            "matches: [(11840699188806025751, 3, 4)]\n",
            "matches: [(11840699188806025751, 4, 5)]\n",
            "matches: [(11840699188806025751, 5, 6)]\n",
            "matches: [(11840699188806025751, 5, 6)]\n",
            "matches: [(11840699188806025751, 5, 6)]\n",
            "matches: [(11840699188806025751, 4, 5)]\n",
            "matches: [(11840699188806025751, 0, 1), (11840699188806025751, 3, 4), (11840699188806025751, 10, 11), (11840699188806025751, 15, 16), (11840699188806025751, 17, 18)]\n",
            "matches: [(11840699188806025751, 3, 4)]\n",
            "matches: [(11840699188806025751, 4, 5), (11840699188806025751, 4, 6)]\n",
            "matches: [(11840699188806025751, 3, 4)]\n",
            "matches: [(11840699188806025751, 2, 3)]\n",
            "matches: [(11840699188806025751, 3, 4), (11840699188806025751, 3, 5)]\n",
            "matches: [(11840699188806025751, 9, 10), (11840699188806025751, 9, 11), (11840699188806025751, 9, 12)]\n",
            "matches: [(11840699188806025751, 9, 10), (11840699188806025751, 9, 11)]\n",
            "matches: [(11840699188806025751, 2, 3)]\n",
            "matches: [(11840699188806025751, 3, 4), (11840699188806025751, 3, 5)]\n",
            "matches: [(11840699188806025751, 9, 10), (11840699188806025751, 9, 11), (11840699188806025751, 9, 12)]\n",
            "matches: [(11840699188806025751, 9, 10), (11840699188806025751, 9, 11)]\n"
          ],
          "name": "stdout"
        },
        {
          "output_type": "stream",
          "text": [
            " 43%|████▎     | 1845/4318 [00:21<00:30, 81.72it/s]"
          ],
          "name": "stderr"
        },
        {
          "output_type": "stream",
          "text": [
            "matches: [(11840699188806025751, 1, 2)]\n",
            "matches: [(11840699188806025751, 2, 3)]\n",
            "matches: [(11840699188806025751, 2, 3), (11840699188806025751, 2, 4)]\n",
            "matches: [(11840699188806025751, 2, 3)]\n",
            "matches: [(11840699188806025751, 1, 2)]\n",
            "matches: [(11840699188806025751, 2, 3)]\n",
            "matches: [(11840699188806025751, 2, 3), (11840699188806025751, 2, 4)]\n",
            "matches: [(11840699188806025751, 2, 3)]\n",
            "matches: [(11840699188806025751, 10, 11)]\n",
            "matches: [(11840699188806025751, 3, 4)]\n",
            "matches: [(11840699188806025751, 7, 8), (11840699188806025751, 7, 9)]\n",
            "matches: [(11840699188806025751, 1, 2)]\n",
            "matches: [(11840699188806025751, 11, 12)]\n",
            "matches: [(11840699188806025751, 7, 8)]\n",
            "matches: [(11840699188806025751, 5, 6), (11840699188806025751, 5, 7)]\n",
            "matches: [(11840699188806025751, 1, 2)]\n",
            "matches: [(11840699188806025751, 2, 3)]\n"
          ],
          "name": "stdout"
        },
        {
          "output_type": "stream",
          "text": [
            " 43%|████▎     | 1863/4318 [00:21<00:30, 80.37it/s]"
          ],
          "name": "stderr"
        },
        {
          "output_type": "stream",
          "text": [
            "matches: [(11840699188806025751, 2, 3), (11840699188806025751, 2, 4)]\n",
            "matches: [(11840699188806025751, 8, 9), (11840699188806025751, 8, 10)]\n",
            "matches: [(11840699188806025751, 11, 12)]\n",
            "matches: [(11840699188806025751, 5, 6)]\n",
            "matches: [(11840699188806025751, 1, 2)]\n",
            "matches: [(11840699188806025751, 5, 6), (11840699188806025751, 5, 7)]\n",
            "matches: [(11840699188806025751, 3, 4)]\n",
            "matches: [(11840699188806025751, 5, 6), (11840699188806025751, 5, 7)]\n",
            "matches: [(11840699188806025751, 3, 4)]\n",
            "matches: [(11840699188806025751, 4, 5), (11840699188806025751, 4, 6)]\n",
            "matches: [(11840699188806025751, 1, 2)]\n",
            "matches: [(11840699188806025751, 3, 4), (11840699188806025751, 3, 5)]\n",
            "matches: [(11840699188806025751, 3, 4), (11840699188806025751, 3, 5)]\n",
            "matches: [(11840699188806025751, 1, 2)]\n",
            "matches: [(11840699188806025751, 4, 5)]\n",
            "matches: [(11840699188806025751, 2, 3)]\n",
            "matches: [(11840699188806025751, 8, 9)]\n"
          ],
          "name": "stdout"
        },
        {
          "output_type": "stream",
          "text": [
            " 44%|████▎     | 1881/4318 [00:21<00:30, 81.16it/s]"
          ],
          "name": "stderr"
        },
        {
          "output_type": "stream",
          "text": [
            "matches: [(11840699188806025751, 1, 2)]\n",
            "matches: [(11840699188806025751, 1, 2)]\n",
            "matches: [(11840699188806025751, 0, 1), (11840699188806025751, 0, 2)]\n",
            "matches: [(11840699188806025751, 9, 10)]\n",
            "matches: [(11840699188806025751, 3, 4)]\n",
            "matches: [(11840699188806025751, 2, 3)]\n",
            "matches: [(11840699188806025751, 1, 2)]\n",
            "matches: [(11840699188806025751, 3, 4)]\n",
            "matches: [(11840699188806025751, 5, 6)]\n",
            "matches: [(11840699188806025751, 4, 5)]\n",
            "matches: [(11840699188806025751, 7, 8)]\n",
            "matches: [(11840699188806025751, 15, 16), (11840699188806025751, 15, 17)]\n",
            "matches: [(11840699188806025751, 6, 7), (11840699188806025751, 6, 8)]\n",
            "matches: [(11840699188806025751, 1, 2), (11840699188806025751, 1, 3)]\n",
            "matches: [(11840699188806025751, 7, 8)]\n",
            "matches: [(11840699188806025751, 2, 3)]\n",
            "matches: [(11840699188806025751, 4, 5)]\n",
            "matches: [(11840699188806025751, 1, 2)]\n"
          ],
          "name": "stdout"
        },
        {
          "output_type": "stream",
          "text": [
            " 44%|████▍     | 1898/4318 [00:22<00:32, 75.06it/s]"
          ],
          "name": "stderr"
        },
        {
          "output_type": "stream",
          "text": [
            "matches: [(11840699188806025751, 11, 12), (11840699188806025751, 11, 13)]\n",
            "matches: [(11840699188806025751, 10, 11)]\n",
            "matches: [(11840699188806025751, 6, 7), (11840699188806025751, 6, 8), (11840699188806025751, 6, 9)]\n",
            "matches: [(11840699188806025751, 3, 4), (11840699188806025751, 3, 5)]\n",
            "matches: [(11840699188806025751, 2, 3), (11840699188806025751, 2, 4)]\n",
            "matches: [(11840699188806025751, 2, 3), (11840699188806025751, 2, 4)]\n",
            "matches: [(11840699188806025751, 3, 4)]\n",
            "matches: [(11840699188806025751, 10, 11)]\n",
            "matches: [(11840699188806025751, 2, 3), (11840699188806025751, 2, 4)]\n",
            "matches: [(11840699188806025751, 2, 3)]\n",
            "matches: [(11840699188806025751, 5, 6)]\n",
            "matches: [(11840699188806025751, 11, 12), (11840699188806025751, 11, 13)]\n",
            "matches: [(11840699188806025751, 10, 11)]\n",
            "matches: [(11840699188806025751, 6, 7), (11840699188806025751, 6, 8), (11840699188806025751, 6, 9)]\n",
            "matches: [(11840699188806025751, 3, 4), (11840699188806025751, 3, 5)]\n"
          ],
          "name": "stdout"
        },
        {
          "output_type": "stream",
          "text": [
            " 44%|████▍     | 1915/4318 [00:22<00:30, 79.22it/s]"
          ],
          "name": "stderr"
        },
        {
          "output_type": "stream",
          "text": [
            "matches: [(11840699188806025751, 2, 3), (11840699188806025751, 2, 4)]\n",
            "matches: [(11840699188806025751, 2, 3), (11840699188806025751, 2, 4)]\n",
            "matches: [(11840699188806025751, 3, 4)]\n",
            "matches: [(11840699188806025751, 10, 11)]\n",
            "matches: [(11840699188806025751, 2, 3), (11840699188806025751, 2, 4)]\n",
            "matches: [(11840699188806025751, 2, 3)]\n",
            "matches: [(11840699188806025751, 5, 6)]\n",
            "matches: [(11840699188806025751, 2, 3)]\n",
            "matches: [(11840699188806025751, 8, 9)]\n",
            "matches: [(11840699188806025751, 1, 2)]\n",
            "matches: [(11840699188806025751, 9, 10)]\n",
            "matches: [(11840699188806025751, 5, 6)]\n",
            "matches: [(11840699188806025751, 2, 3)]\n",
            "matches: [(11840699188806025751, 5, 6)]\n",
            "matches: [(11840699188806025751, 2, 3)]\n",
            "matches: [(11840699188806025751, 1, 2)]\n",
            "matches: [(11840699188806025751, 1, 2)]\n",
            "matches: [(11840699188806025751, 1, 2)]\n"
          ],
          "name": "stdout"
        },
        {
          "output_type": "stream",
          "text": [
            " 45%|████▍     | 1933/4318 [00:22<00:29, 81.74it/s]"
          ],
          "name": "stderr"
        },
        {
          "output_type": "stream",
          "text": [
            "matches: [(11840699188806025751, 9, 10)]\n",
            "matches: [(11840699188806025751, 5, 6)]\n",
            "matches: [(11840699188806025751, 2, 3)]\n",
            "matches: [(11840699188806025751, 5, 6)]\n",
            "matches: [(11840699188806025751, 2, 3)]\n",
            "matches: [(11840699188806025751, 1, 2)]\n",
            "matches: [(11840699188806025751, 1, 2)]\n",
            "matches: [(11840699188806025751, 1, 2)]\n",
            "matches: [(11840699188806025751, 2, 3)]\n",
            "matches: [(11840699188806025751, 2, 3)]\n",
            "matches: [(11840699188806025751, 3, 4)]\n",
            "matches: [(11840699188806025751, 2, 3), (11840699188806025751, 2, 4)]\n",
            "matches: [(11840699188806025751, 5, 6)]\n",
            "matches: [(11840699188806025751, 7, 8)]\n",
            "matches: [(11840699188806025751, 1, 2)]\n",
            "matches: [(11840699188806025751, 8, 9), (11840699188806025751, 8, 10)]\n",
            "matches: [(11840699188806025751, 7, 8)]\n",
            "matches: [(11840699188806025751, 2, 3)]\n"
          ],
          "name": "stdout"
        },
        {
          "output_type": "stream",
          "text": [
            " 45%|████▌     | 1951/4318 [00:22<00:28, 83.05it/s]"
          ],
          "name": "stderr"
        },
        {
          "output_type": "stream",
          "text": [
            "matches: [(11840699188806025751, 0, 1)]\n",
            "matches: [(11840699188806025751, 3, 4)]\n",
            "matches: [(11840699188806025751, 4, 5), (11840699188806025751, 4, 6), (11840699188806025751, 4, 7)]\n",
            "matches: [(11840699188806025751, 4, 5)]\n",
            "matches: [(11840699188806025751, 2, 3)]\n",
            "matches: [(11840699188806025751, 22, 23), (11840699188806025751, 22, 24)]\n",
            "matches: [(11840699188806025751, 2, 3)]\n",
            "matches: [(11840699188806025751, 1, 2)]\n",
            "matches: [(11840699188806025751, 2, 3), (11840699188806025751, 2, 4)]\n",
            "matches: [(11840699188806025751, 6, 7), (11840699188806025751, 6, 8)]\n",
            "matches: [(11840699188806025751, 8, 9), (11840699188806025751, 8, 10)]\n",
            "matches: [(11840699188806025751, 2, 3), (11840699188806025751, 2, 4)]\n",
            "matches: [(11840699188806025751, 2, 3), (11840699188806025751, 2, 4)]\n",
            "matches: [(11840699188806025751, 1, 2)]\n",
            "matches: [(11840699188806025751, 1, 2)]\n",
            "matches: [(11840699188806025751, 2, 3), (11840699188806025751, 2, 4)]\n",
            "matches: [(11840699188806025751, 5, 6)]\n"
          ],
          "name": "stdout"
        },
        {
          "output_type": "stream",
          "text": [
            " 46%|████▌     | 1969/4318 [00:23<00:29, 79.64it/s]"
          ],
          "name": "stderr"
        },
        {
          "output_type": "stream",
          "text": [
            "matches: [(11840699188806025751, 9, 10), (11840699188806025751, 9, 11)]\n",
            "matches: [(11840699188806025751, 2, 3), (11840699188806025751, 2, 4)]\n",
            "matches: [(11840699188806025751, 1, 2)]\n",
            "matches: [(11840699188806025751, 1, 2)]\n",
            "matches: [(11840699188806025751, 2, 3)]\n",
            "matches: [(11840699188806025751, 3, 4), (11840699188806025751, 3, 5)]\n",
            "matches: [(11840699188806025751, 1, 2)]\n",
            "matches: [(11840699188806025751, 3, 4), (11840699188806025751, 3, 5)]\n",
            "matches: [(11840699188806025751, 2, 3)]\n",
            "matches: [(11840699188806025751, 8, 9)]\n",
            "matches: [(11840699188806025751, 2, 3)]\n",
            "matches: [(11840699188806025751, 13, 14)]\n",
            "matches: [(11840699188806025751, 1, 2)]\n",
            "matches: [(11840699188806025751, 4, 5)]\n",
            "matches: [(11840699188806025751, 11, 12)]\n",
            "matches: [(11840699188806025751, 1, 2)]\n"
          ],
          "name": "stdout"
        },
        {
          "output_type": "stream",
          "text": [
            " 46%|████▌     | 1987/4318 [00:23<00:29, 79.88it/s]"
          ],
          "name": "stderr"
        },
        {
          "output_type": "stream",
          "text": [
            "matches: [(11840699188806025751, 10, 11)]\n",
            "matches: [(11840699188806025751, 3, 4)]\n",
            "matches: [(11840699188806025751, 7, 8), (11840699188806025751, 7, 9)]\n",
            "matches: [(11840699188806025751, 2, 3)]\n",
            "matches: [(11840699188806025751, 3, 4), (11840699188806025751, 3, 5)]\n",
            "matches: [(11840699188806025751, 3, 4)]\n",
            "matches: [(11840699188806025751, 5, 6), (11840699188806025751, 5, 7)]\n",
            "matches: [(11840699188806025751, 5, 6), (11840699188806025751, 5, 7)]\n",
            "matches: [(11840699188806025751, 5, 6)]\n",
            "matches: [(11840699188806025751, 10, 11), (11840699188806025751, 10, 12)]\n",
            "matches: [(11840699188806025751, 2, 3)]\n",
            "matches: [(11840699188806025751, 2, 3), (11840699188806025751, 2, 4)]\n",
            "matches: [(11840699188806025751, 2, 3)]\n",
            "matches: [(11840699188806025751, 10, 11)]\n",
            "matches: [(11840699188806025751, 3, 4)]\n",
            "matches: [(11840699188806025751, 3, 4)]\n",
            "matches: [(11840699188806025751, 1, 2)]\n",
            "matches: [(11840699188806025751, 4, 5)]\n"
          ],
          "name": "stdout"
        },
        {
          "output_type": "stream",
          "text": [
            "\r 46%|████▌     | 1996/4318 [00:23<00:28, 81.30it/s]"
          ],
          "name": "stderr"
        },
        {
          "output_type": "stream",
          "text": [
            "matches: [(11840699188806025751, 1, 2)]\n",
            "matches: [(11840699188806025751, 5, 6)]\n",
            "matches: [(11840699188806025751, 2, 3)]\n",
            "matches: [(11840699188806025751, 1, 2)]\n",
            "matches: [(11840699188806025751, 2, 3)]\n",
            "matches: [(11840699188806025751, 9, 10)]\n",
            "matches: [(11840699188806025751, 3, 4)]\n",
            "matches: [(11840699188806025751, 3, 4), (11840699188806025751, 3, 5)]\n",
            "matches: [(11840699188806025751, 5, 6)]\n",
            "matches: [(11840699188806025751, 4, 5)]\n",
            "matches: [(11840699188806025751, 1, 2)]\n",
            "matches: [(11840699188806025751, 3, 4)]\n",
            "matches: [(11840699188806025751, 1, 2), (11840699188806025751, 1, 3)]\n",
            "matches: [(11840699188806025751, 1, 2)]\n",
            "matches: [(11840699188806025751, 5, 6)]\n"
          ],
          "name": "stdout"
        },
        {
          "output_type": "stream",
          "text": [
            " 47%|████▋     | 2013/4318 [00:23<00:31, 73.96it/s]"
          ],
          "name": "stderr"
        },
        {
          "output_type": "stream",
          "text": [
            "matches: [(11840699188806025751, 1, 2)]\n",
            "matches: [(11840699188806025751, 3, 4)]\n",
            "matches: [(11840699188806025751, 2, 3)]\n",
            "matches: [(11840699188806025751, 1, 2)]\n",
            "matches: [(11840699188806025751, 3, 4)]\n",
            "matches: [(11840699188806025751, 6, 7)]\n",
            "matches: [(11840699188806025751, 4, 5)]\n",
            "matches: [(11840699188806025751, 2, 3)]\n",
            "matches: [(11840699188806025751, 4, 5), (11840699188806025751, 4, 6)]\n",
            "matches: [(11840699188806025751, 3, 4), (11840699188806025751, 3, 5)]\n",
            "matches: [(11840699188806025751, 1, 2), (11840699188806025751, 1, 3)]\n",
            "matches: [(11840699188806025751, 3, 4), (11840699188806025751, 3, 5)]\n",
            "matches: [(11840699188806025751, 3, 4)]\n",
            "matches: [(11840699188806025751, 2, 3), (11840699188806025751, 2, 4)]\n",
            "matches: [(11840699188806025751, 1, 2)]\n",
            "matches: [(11840699188806025751, 6, 7)]\n"
          ],
          "name": "stdout"
        },
        {
          "output_type": "stream",
          "text": [
            " 47%|████▋     | 2029/4318 [00:23<00:30, 75.89it/s]"
          ],
          "name": "stderr"
        },
        {
          "output_type": "stream",
          "text": [
            "matches: [(11840699188806025751, 3, 4), (11840699188806025751, 3, 5)]\n",
            "matches: [(11840699188806025751, 3, 4), (11840699188806025751, 3, 5)]\n",
            "matches: [(11840699188806025751, 7, 8)]\n",
            "matches: [(11840699188806025751, 11, 12)]\n",
            "matches: [(11840699188806025751, 5, 6)]\n",
            "matches: [(11840699188806025751, 6, 7), (11840699188806025751, 6, 8)]\n",
            "matches: [(11840699188806025751, 2, 3), (11840699188806025751, 2, 4)]\n",
            "matches: [(11840699188806025751, 1, 2), (11840699188806025751, 1, 3)]\n",
            "matches: [(11840699188806025751, 2, 3)]\n",
            "matches: [(11840699188806025751, 4, 5), (11840699188806025751, 4, 6)]\n",
            "matches: [(11840699188806025751, 3, 4), (11840699188806025751, 3, 5)]\n",
            "matches: [(11840699188806025751, 0, 1)]\n",
            "matches: [(11840699188806025751, 1, 2)]\n",
            "matches: [(11840699188806025751, 6, 7), (11840699188806025751, 6, 8), (11840699188806025751, 6, 9)]\n",
            "matches: [(11840699188806025751, 1, 2)]\n",
            "matches: [(11840699188806025751, 2, 3)]\n"
          ],
          "name": "stdout"
        },
        {
          "output_type": "stream",
          "text": [
            " 47%|████▋     | 2046/4318 [00:24<00:28, 78.60it/s]"
          ],
          "name": "stderr"
        },
        {
          "output_type": "stream",
          "text": [
            "matches: [(11840699188806025751, 0, 1), (11840699188806025751, 0, 2)]\n",
            "matches: [(11840699188806025751, 11, 12)]\n",
            "matches: [(11840699188806025751, 2, 3)]\n",
            "matches: [(11840699188806025751, 1, 2)]\n",
            "matches: [(11840699188806025751, 1, 2)]\n",
            "matches: [(11840699188806025751, 2, 3)]\n",
            "matches: [(11840699188806025751, 11, 12)]\n",
            "matches: [(11840699188806025751, 6, 7)]\n",
            "matches: [(11840699188806025751, 3, 4)]\n",
            "matches: [(11840699188806025751, 4, 5), (11840699188806025751, 4, 6)]\n",
            "matches: [(11840699188806025751, 4, 5), (11840699188806025751, 4, 6)]\n",
            "matches: [(11840699188806025751, 4, 5)]\n",
            "matches: [(11840699188806025751, 3, 4)]\n",
            "matches: [(11840699188806025751, 3, 4)]\n",
            "matches: [(11840699188806025751, 7, 8), (11840699188806025751, 7, 9)]\n",
            "matches: [(11840699188806025751, 3, 4)]\n"
          ],
          "name": "stdout"
        },
        {
          "output_type": "stream",
          "text": [
            " 48%|████▊     | 2063/4318 [00:24<00:28, 78.82it/s]"
          ],
          "name": "stderr"
        },
        {
          "output_type": "stream",
          "text": [
            "matches: [(11840699188806025751, 11, 12)]\n",
            "matches: [(11840699188806025751, 2, 3)]\n",
            "matches: [(11840699188806025751, 1, 2)]\n",
            "matches: [(11840699188806025751, 1, 2)]\n",
            "matches: [(11840699188806025751, 2, 3)]\n",
            "matches: [(11840699188806025751, 11, 12)]\n",
            "matches: [(11840699188806025751, 6, 7)]\n",
            "matches: [(11840699188806025751, 3, 4)]\n",
            "matches: [(11840699188806025751, 4, 5), (11840699188806025751, 4, 6)]\n",
            "matches: [(11840699188806025751, 4, 5), (11840699188806025751, 4, 6)]\n",
            "matches: [(11840699188806025751, 4, 5)]\n",
            "matches: [(11840699188806025751, 3, 4)]\n",
            "matches: [(11840699188806025751, 3, 4)]\n",
            "matches: [(11840699188806025751, 7, 8), (11840699188806025751, 7, 9)]\n",
            "matches: [(11840699188806025751, 3, 4)]\n",
            "matches: [(11840699188806025751, 2, 3)]\n",
            "matches: [(11840699188806025751, 2, 3), (11840699188806025751, 2, 4), (11840699188806025751, 2, 5)]\n",
            "matches: [(11840699188806025751, 6, 7)]\n"
          ],
          "name": "stdout"
        },
        {
          "output_type": "stream",
          "text": [
            " 48%|████▊     | 2081/4318 [00:24<00:26, 83.00it/s]"
          ],
          "name": "stderr"
        },
        {
          "output_type": "stream",
          "text": [
            "matches: [(11840699188806025751, 3, 4), (11840699188806025751, 3, 5)]\n",
            "matches: [(11840699188806025751, 3, 4)]\n",
            "matches: [(11840699188806025751, 1, 2), (11840699188806025751, 1, 3)]\n",
            "matches: [(11840699188806025751, 2, 3), (11840699188806025751, 2, 4)]\n",
            "matches: [(11840699188806025751, 1, 2)]\n",
            "matches: [(11840699188806025751, 1, 2)]\n",
            "matches: [(11840699188806025751, 2, 3), (11840699188806025751, 2, 4), (11840699188806025751, 2, 5)]\n",
            "matches: [(11840699188806025751, 6, 7)]\n",
            "matches: [(11840699188806025751, 3, 4), (11840699188806025751, 3, 5)]\n",
            "matches: [(11840699188806025751, 3, 4)]\n",
            "matches: [(11840699188806025751, 1, 2), (11840699188806025751, 1, 3)]\n",
            "matches: [(11840699188806025751, 2, 3), (11840699188806025751, 2, 4)]\n",
            "matches: [(11840699188806025751, 1, 2)]\n",
            "matches: [(11840699188806025751, 1, 2)]\n",
            "matches: [(11840699188806025751, 12, 13), (11840699188806025751, 12, 14)]\n",
            "matches: [(11840699188806025751, 11, 12)]\n",
            "matches: [(11840699188806025751, 3, 4), (11840699188806025751, 3, 5)]\n"
          ],
          "name": "stdout"
        },
        {
          "output_type": "stream",
          "text": [
            " 49%|████▊     | 2098/4318 [00:24<00:29, 76.54it/s]"
          ],
          "name": "stderr"
        },
        {
          "output_type": "stream",
          "text": [
            "matches: [(11840699188806025751, 3, 4)]\n",
            "matches: [(11840699188806025751, 3, 4), (11840699188806025751, 3, 5)]\n",
            "matches: [(11840699188806025751, 7, 8), (11840699188806025751, 7, 9), (11840699188806025751, 7, 10)]\n",
            "matches: [(11840699188806025751, 2, 3)]\n",
            "matches: [(11840699188806025751, 8, 9), (11840699188806025751, 8, 10)]\n",
            "matches: [(11840699188806025751, 7, 8)]\n",
            "matches: [(11840699188806025751, 2, 3)]\n",
            "matches: [(11840699188806025751, 3, 4)]\n",
            "matches: [(11840699188806025751, 14, 15), (11840699188806025751, 14, 16)]\n",
            "matches: [(11840699188806025751, 5, 6)]\n",
            "matches: [(11840699188806025751, 2, 3)]\n",
            "matches: [(11840699188806025751, 2, 3)]\n",
            "matches: [(11840699188806025751, 7, 8)]\n",
            "matches: [(11840699188806025751, 5, 6)]\n",
            "matches: [(11840699188806025751, 1, 2)]\n",
            "matches: [(11840699188806025751, 3, 4), (11840699188806025751, 3, 5)]\n"
          ],
          "name": "stdout"
        },
        {
          "output_type": "stream",
          "text": [
            " 49%|████▉     | 2114/4318 [00:24<00:28, 77.22it/s]"
          ],
          "name": "stderr"
        },
        {
          "output_type": "stream",
          "text": [
            "matches: [(11840699188806025751, 1, 2)]\n",
            "matches: [(11840699188806025751, 0, 1), (11840699188806025751, 14, 15)]\n",
            "matches: [(11840699188806025751, 7, 8)]\n",
            "matches: [(11840699188806025751, 17, 18), (11840699188806025751, 17, 19)]\n",
            "matches: [(11840699188806025751, 3, 4)]\n",
            "matches: [(11840699188806025751, 4, 5)]\n",
            "matches: [(11840699188806025751, 4, 5)]\n",
            "matches: [(11840699188806025751, 5, 6)]\n",
            "matches: [(11840699188806025751, 1, 2)]\n",
            "matches: [(11840699188806025751, 11, 12)]\n",
            "matches: [(11840699188806025751, 1, 2)]\n",
            "matches: [(11840699188806025751, 2, 3), (11840699188806025751, 2, 4)]\n",
            "matches: [(11840699188806025751, 3, 4)]\n",
            "matches: [(11840699188806025751, 3, 4)]\n",
            "matches: [(11840699188806025751, 6, 7)]\n",
            "matches: [(11840699188806025751, 6, 7), (11840699188806025751, 6, 8)]\n"
          ],
          "name": "stdout"
        },
        {
          "output_type": "stream",
          "text": [
            " 49%|████▉     | 2130/4318 [00:25<00:29, 73.43it/s]"
          ],
          "name": "stderr"
        },
        {
          "output_type": "stream",
          "text": [
            "matches: [(11840699188806025751, 2, 3)]\n",
            "matches: [(11840699188806025751, 13, 14)]\n",
            "matches: [(11840699188806025751, 3, 4)]\n",
            "matches: [(11840699188806025751, 3, 4), (11840699188806025751, 3, 5)]\n",
            "matches: [(11840699188806025751, 5, 6)]\n",
            "matches: [(11840699188806025751, 2, 3), (11840699188806025751, 2, 4)]\n",
            "matches: [(11840699188806025751, 3, 4), (11840699188806025751, 3, 5)]\n",
            "matches: [(11840699188806025751, 1, 2)]\n",
            "matches: [(11840699188806025751, 2, 3), (11840699188806025751, 2, 4)]\n",
            "matches: [(11840699188806025751, 2, 3)]\n",
            "matches: [(11840699188806025751, 5, 6)]\n",
            "matches: [(11840699188806025751, 2, 3)]\n",
            "matches: [(11840699188806025751, 3, 4)]\n",
            "matches: [(11840699188806025751, 2, 3), (11840699188806025751, 2, 4)]\n",
            "matches: [(11840699188806025751, 1, 2), (11840699188806025751, 1, 3), (11840699188806025751, 1, 4)]\n"
          ],
          "name": "stdout"
        },
        {
          "output_type": "stream",
          "text": [
            " 50%|████▉     | 2147/4318 [00:25<00:27, 77.77it/s]"
          ],
          "name": "stderr"
        },
        {
          "output_type": "stream",
          "text": [
            "matches: [(11840699188806025751, 3, 4)]\n",
            "matches: [(11840699188806025751, 2, 3), (11840699188806025751, 2, 4)]\n",
            "matches: [(11840699188806025751, 1, 2)]\n",
            "matches: [(11840699188806025751, 5, 6)]\n",
            "matches: [(11840699188806025751, 3, 4), (11840699188806025751, 3, 5)]\n",
            "matches: [(11840699188806025751, 8, 9)]\n",
            "matches: [(11840699188806025751, 1, 2)]\n",
            "matches: [(11840699188806025751, 1, 2), (11840699188806025751, 1, 3), (11840699188806025751, 1, 4)]\n",
            "matches: [(11840699188806025751, 3, 4)]\n",
            "matches: [(11840699188806025751, 2, 3), (11840699188806025751, 2, 4)]\n",
            "matches: [(11840699188806025751, 1, 2)]\n",
            "matches: [(11840699188806025751, 5, 6)]\n",
            "matches: [(11840699188806025751, 3, 4), (11840699188806025751, 3, 5)]\n",
            "matches: [(11840699188806025751, 8, 9)]\n",
            "matches: [(11840699188806025751, 1, 2)]\n",
            "matches: [(11840699188806025751, 1, 2)]\n",
            "matches: [(11840699188806025751, 3, 4), (11840699188806025751, 3, 5)]\n",
            "matches: [(11840699188806025751, 4, 5), (11840699188806025751, 4, 6)]\n",
            "matches: [(11840699188806025751, 7, 8), (11840699188806025751, 7, 9), (11840699188806025751, 7, 10)]\n"
          ],
          "name": "stdout"
        },
        {
          "output_type": "stream",
          "text": [
            " 50%|█████     | 2163/4318 [00:25<00:28, 76.46it/s]"
          ],
          "name": "stderr"
        },
        {
          "output_type": "stream",
          "text": [
            "matches: [(11840699188806025751, 7, 8)]\n",
            "matches: [(11840699188806025751, 2, 3)]\n",
            "matches: [(11840699188806025751, 2, 3)]\n",
            "matches: [(11840699188806025751, 2, 3)]\n",
            "matches: [(11840699188806025751, 8, 9)]\n",
            "matches: [(11840699188806025751, 1, 2)]\n",
            "matches: [(11840699188806025751, 2, 3), (11840699188806025751, 2, 4)]\n",
            "matches: [(11840699188806025751, 3, 4), (11840699188806025751, 3, 5)]\n",
            "matches: [(11840699188806025751, 5, 6), (11840699188806025751, 5, 7)]\n",
            "matches: [(11840699188806025751, 3, 4), (11840699188806025751, 3, 5)]\n",
            "matches: [(11840699188806025751, 1, 2)]\n",
            "matches: [(11840699188806025751, 3, 4)]\n",
            "matches: [(11840699188806025751, 5, 6), (11840699188806025751, 5, 7), (11840699188806025751, 5, 8)]\n",
            "matches: [(11840699188806025751, 8, 9), (11840699188806025751, 8, 10)]\n",
            "matches: [(11840699188806025751, 3, 4), (11840699188806025751, 3, 5)]\n",
            "matches: [(11840699188806025751, 0, 1)]\n"
          ],
          "name": "stdout"
        },
        {
          "output_type": "stream",
          "text": [
            " 51%|█████     | 2181/4318 [00:25<00:26, 79.94it/s]"
          ],
          "name": "stderr"
        },
        {
          "output_type": "stream",
          "text": [
            "matches: [(11840699188806025751, 2, 3)]\n",
            "matches: [(11840699188806025751, 3, 4)]\n",
            "matches: [(11840699188806025751, 3, 4), (11840699188806025751, 3, 5)]\n",
            "matches: [(11840699188806025751, 6, 7), (11840699188806025751, 6, 8)]\n",
            "matches: [(11840699188806025751, 4, 5), (11840699188806025751, 13, 14)]\n",
            "matches: [(11840699188806025751, 1, 2)]\n",
            "matches: [(11840699188806025751, 1, 2)]\n",
            "matches: [(11840699188806025751, 1, 2)]\n",
            "matches: [(11840699188806025751, 2, 3)]\n",
            "matches: [(11840699188806025751, 5, 6), (11840699188806025751, 5, 7)]\n",
            "matches: [(11840699188806025751, 3, 4), (11840699188806025751, 3, 5), (11840699188806025751, 3, 6)]\n",
            "matches: [(11840699188806025751, 0, 1)]\n",
            "matches: [(11840699188806025751, 3, 4)]\n",
            "matches: [(11840699188806025751, 0, 1)]\n",
            "matches: [(11840699188806025751, 2, 3)]\n",
            "matches: [(11840699188806025751, 6, 7), (11840699188806025751, 6, 8)]\n",
            "matches: [(11840699188806025751, 4, 5)]\n",
            "matches: [(11840699188806025751, 2, 3)]\n"
          ],
          "name": "stdout"
        },
        {
          "output_type": "stream",
          "text": [
            " 51%|█████     | 2200/4318 [00:25<00:24, 85.18it/s]"
          ],
          "name": "stderr"
        },
        {
          "output_type": "stream",
          "text": [
            "matches: [(11840699188806025751, 2, 3), (11840699188806025751, 2, 4)]\n",
            "matches: [(11840699188806025751, 5, 6)]\n",
            "matches: [(11840699188806025751, 3, 4), (11840699188806025751, 3, 5)]\n",
            "matches: [(11840699188806025751, 10, 11)]\n",
            "matches: [(11840699188806025751, 1, 2)]\n",
            "matches: [(11840699188806025751, 3, 4)]\n",
            "matches: [(11840699188806025751, 6, 7), (11840699188806025751, 6, 8)]\n",
            "matches: [(11840699188806025751, 3, 4), (11840699188806025751, 3, 5)]\n",
            "matches: [(11840699188806025751, 3, 4)]\n",
            "matches: [(11840699188806025751, 2, 3)]\n",
            "matches: [(11840699188806025751, 1, 2)]\n",
            "matches: [(11840699188806025751, 3, 4)]\n",
            "matches: [(11840699188806025751, 0, 1)]\n",
            "matches: [(11840699188806025751, 1, 2)]\n",
            "matches: [(11840699188806025751, 8, 9), (11840699188806025751, 8, 10)]\n",
            "matches: [(11840699188806025751, 1, 2)]\n",
            "matches: [(11840699188806025751, 1, 2)]\n",
            "matches: [(11840699188806025751, 2, 3)]\n"
          ],
          "name": "stdout"
        },
        {
          "output_type": "stream",
          "text": [
            " 51%|█████▏    | 2219/4318 [00:26<00:24, 86.52it/s]"
          ],
          "name": "stderr"
        },
        {
          "output_type": "stream",
          "text": [
            "matches: [(11840699188806025751, 4, 5)]\n",
            "matches: [(11840699188806025751, 3, 4)]\n",
            "matches: [(11840699188806025751, 5, 6)]\n",
            "matches: [(11840699188806025751, 2, 3)]\n",
            "matches: [(11840699188806025751, 5, 6)]\n",
            "matches: [(11840699188806025751, 7, 8)]\n",
            "matches: [(11840699188806025751, 8, 9), (11840699188806025751, 8, 10)]\n",
            "matches: [(11840699188806025751, 7, 8), (11840699188806025751, 7, 9)]\n",
            "matches: [(11840699188806025751, 4, 5), (11840699188806025751, 4, 6), (11840699188806025751, 4, 7)]\n",
            "matches: [(11840699188806025751, 0, 1)]\n",
            "matches: [(11840699188806025751, 3, 4), (11840699188806025751, 3, 5)]\n",
            "matches: [(11840699188806025751, 8, 9), (11840699188806025751, 8, 10)]\n",
            "matches: [(11840699188806025751, 6, 7)]\n",
            "matches: [(11840699188806025751, 2, 3), (11840699188806025751, 2, 4)]\n",
            "matches: [(11840699188806025751, 3, 4)]\n",
            "matches: [(11840699188806025751, 3, 4), (11840699188806025751, 3, 5)]\n",
            "matches: [(11840699188806025751, 3, 4), (11840699188806025751, 3, 5)]\n",
            "matches: [(11840699188806025751, 2, 3), (11840699188806025751, 2, 4)]\n",
            "matches: [(11840699188806025751, 6, 7), (11840699188806025751, 6, 8)]\n"
          ],
          "name": "stdout"
        },
        {
          "output_type": "stream",
          "text": [
            " 52%|█████▏    | 2238/4318 [00:26<00:23, 89.00it/s]"
          ],
          "name": "stderr"
        },
        {
          "output_type": "stream",
          "text": [
            "matches: [(11840699188806025751, 8, 9)]\n",
            "matches: [(11840699188806025751, 1, 2)]\n",
            "matches: [(11840699188806025751, 2, 3)]\n",
            "matches: [(11840699188806025751, 3, 4)]\n",
            "matches: [(11840699188806025751, 3, 4), (11840699188806025751, 3, 5)]\n",
            "matches: [(11840699188806025751, 2, 3), (11840699188806025751, 2, 4)]\n",
            "matches: [(11840699188806025751, 3, 4)]\n",
            "matches: [(11840699188806025751, 2, 3), (11840699188806025751, 2, 4)]\n",
            "matches: [(11840699188806025751, 3, 4), (11840699188806025751, 3, 5)]\n",
            "matches: [(11840699188806025751, 2, 3)]\n",
            "matches: [(11840699188806025751, 2, 3)]\n",
            "matches: [(11840699188806025751, 4, 5)]\n",
            "matches: [(11840699188806025751, 3, 4), (11840699188806025751, 3, 5)]\n",
            "matches: [(11840699188806025751, 5, 6), (11840699188806025751, 5, 7)]\n",
            "matches: [(11840699188806025751, 4, 5), (11840699188806025751, 4, 6)]\n",
            "matches: [(11840699188806025751, 3, 4), (11840699188806025751, 3, 5)]\n",
            "matches: [(11840699188806025751, 2, 3), (11840699188806025751, 2, 4)]\n",
            "matches: [(11840699188806025751, 4, 5), (11840699188806025751, 4, 6)]\n",
            "matches: [(11840699188806025751, 5, 6), (11840699188806025751, 5, 7)]\n",
            "matches: [(11840699188806025751, 1, 2)]\n"
          ],
          "name": "stdout"
        },
        {
          "output_type": "stream",
          "text": [
            " 52%|█████▏    | 2257/4318 [00:26<00:23, 87.67it/s]"
          ],
          "name": "stderr"
        },
        {
          "output_type": "stream",
          "text": [
            "matches: [(11840699188806025751, 1, 2)]\n",
            "matches: [(11840699188806025751, 3, 4)]\n",
            "matches: [(11840699188806025751, 8, 9)]\n",
            "matches: [(11840699188806025751, 4, 5)]\n",
            "matches: [(11840699188806025751, 2, 3), (11840699188806025751, 2, 4)]\n",
            "matches: [(11840699188806025751, 9, 10)]\n",
            "matches: [(11840699188806025751, 1, 2)]\n",
            "matches: [(11840699188806025751, 2, 3)]\n",
            "matches: [(11840699188806025751, 1, 2)]\n",
            "matches: [(11840699188806025751, 3, 4)]\n",
            "matches: [(11840699188806025751, 9, 10)]\n",
            "matches: [(11840699188806025751, 2, 3)]\n",
            "matches: [(11840699188806025751, 5, 6)]\n",
            "matches: [(11840699188806025751, 1, 2), (11840699188806025751, 1, 3)]\n",
            "matches: [(11840699188806025751, 4, 5)]\n",
            "matches: [(11840699188806025751, 5, 6)]\n",
            "matches: [(11840699188806025751, 1, 2)]\n",
            "matches: [(11840699188806025751, 2, 3)]\n"
          ],
          "name": "stdout"
        },
        {
          "output_type": "stream",
          "text": [
            " 53%|█████▎    | 2277/4318 [00:26<00:22, 89.62it/s]"
          ],
          "name": "stderr"
        },
        {
          "output_type": "stream",
          "text": [
            "matches: [(11840699188806025751, 2, 3)]\n",
            "matches: [(11840699188806025751, 3, 4)]\n",
            "matches: [(11840699188806025751, 3, 4), (11840699188806025751, 3, 5)]\n",
            "matches: [(11840699188806025751, 4, 5), (11840699188806025751, 4, 6)]\n",
            "matches: [(11840699188806025751, 4, 5), (11840699188806025751, 4, 6)]\n",
            "matches: [(11840699188806025751, 1, 2)]\n",
            "matches: [(11840699188806025751, 3, 4)]\n",
            "matches: [(11840699188806025751, 0, 1)]\n",
            "matches: [(11840699188806025751, 2, 3)]\n",
            "matches: [(11840699188806025751, 2, 3)]\n",
            "matches: [(11840699188806025751, 4, 5), (11840699188806025751, 4, 6)]\n",
            "matches: [(11840699188806025751, 1, 2)]\n",
            "matches: [(11840699188806025751, 3, 4)]\n",
            "matches: [(11840699188806025751, 0, 1)]\n",
            "matches: [(11840699188806025751, 2, 3)]\n",
            "matches: [(11840699188806025751, 2, 3)]\n",
            "matches: [(11840699188806025751, 2, 3)]\n",
            "matches: [(11840699188806025751, 1, 2)]\n",
            "matches: [(11840699188806025751, 6, 7)]\n"
          ],
          "name": "stdout"
        },
        {
          "output_type": "stream",
          "text": [
            " 53%|█████▎    | 2295/4318 [00:27<00:22, 88.49it/s]"
          ],
          "name": "stderr"
        },
        {
          "output_type": "stream",
          "text": [
            "matches: [(11840699188806025751, 3, 4)]\n",
            "matches: [(11840699188806025751, 3, 4), (11840699188806025751, 3, 5)]\n",
            "matches: [(11840699188806025751, 3, 4), (11840699188806025751, 3, 5)]\n",
            "matches: [(11840699188806025751, 3, 4)]\n",
            "matches: [(11840699188806025751, 2, 3)]\n",
            "matches: [(11840699188806025751, 4, 5)]\n",
            "matches: [(11840699188806025751, 8, 9), (11840699188806025751, 8, 10)]\n",
            "matches: [(11840699188806025751, 4, 5)]\n",
            "matches: [(11840699188806025751, 2, 3), (11840699188806025751, 2, 4)]\n",
            "matches: [(11840699188806025751, 2, 3)]\n",
            "matches: [(11840699188806025751, 2, 3)]\n",
            "matches: [(11840699188806025751, 3, 4)]\n",
            "matches: [(11840699188806025751, 6, 7), (11840699188806025751, 6, 8)]\n",
            "matches: [(11840699188806025751, 1, 2)]\n",
            "matches: [(11840699188806025751, 2, 3), (11840699188806025751, 2, 4)]\n",
            "matches: [(11840699188806025751, 3, 4), (11840699188806025751, 3, 5)]\n",
            "matches: [(11840699188806025751, 2, 3)]\n",
            "matches: [(11840699188806025751, 3, 4), (11840699188806025751, 3, 5)]\n",
            "matches: [(11840699188806025751, 5, 6), (11840699188806025751, 5, 7)]\n"
          ],
          "name": "stdout"
        },
        {
          "output_type": "stream",
          "text": [
            " 54%|█████▎    | 2314/4318 [00:27<00:22, 90.15it/s]"
          ],
          "name": "stderr"
        },
        {
          "output_type": "stream",
          "text": [
            "matches: [(11840699188806025751, 2, 3)]\n",
            "matches: [(11840699188806025751, 6, 7), (11840699188806025751, 6, 8)]\n",
            "matches: [(11840699188806025751, 3, 4), (11840699188806025751, 3, 5)]\n",
            "matches: [(11840699188806025751, 4, 5), (11840699188806025751, 4, 6)]\n",
            "matches: [(11840699188806025751, 6, 7), (11840699188806025751, 6, 8)]\n",
            "matches: [(11840699188806025751, 7, 8)]\n",
            "matches: [(11840699188806025751, 7, 8)]\n",
            "matches: [(11840699188806025751, 1, 2), (11840699188806025751, 1, 3)]\n",
            "matches: [(11840699188806025751, 2, 3)]\n",
            "matches: [(11840699188806025751, 1, 2)]\n",
            "matches: [(11840699188806025751, 7, 8)]\n",
            "matches: [(11840699188806025751, 10, 11)]\n",
            "matches: [(11840699188806025751, 7, 8)]\n",
            "matches: [(11840699188806025751, 3, 4), (11840699188806025751, 3, 5)]\n",
            "matches: [(11840699188806025751, 4, 5), (11840699188806025751, 4, 6)]\n",
            "matches: [(11840699188806025751, 6, 7)]\n",
            "matches: [(11840699188806025751, 1, 2)]\n",
            "matches: [(11840699188806025751, 2, 3), (11840699188806025751, 7, 8)]\n",
            "matches: [(11840699188806025751, 5, 6)]\n"
          ],
          "name": "stdout"
        },
        {
          "output_type": "stream",
          "text": [
            " 54%|█████▍    | 2334/4318 [00:27<00:22, 89.80it/s]"
          ],
          "name": "stderr"
        },
        {
          "output_type": "stream",
          "text": [
            "matches: [(11840699188806025751, 2, 3), (11840699188806025751, 2, 4), (11840699188806025751, 2, 5)]\n",
            "matches: [(11840699188806025751, 4, 5)]\n",
            "matches: [(11840699188806025751, 4, 5), (11840699188806025751, 4, 6)]\n",
            "matches: [(11840699188806025751, 2, 3), (11840699188806025751, 17, 18)]\n",
            "matches: [(11840699188806025751, 5, 6)]\n",
            "matches: [(11840699188806025751, 3, 4)]\n",
            "matches: [(11840699188806025751, 3, 4)]\n",
            "matches: [(11840699188806025751, 7, 8), (11840699188806025751, 7, 9)]\n",
            "matches: [(11840699188806025751, 3, 4)]\n",
            "matches: [(11840699188806025751, 3, 4), (11840699188806025751, 3, 5)]\n",
            "matches: [(11840699188806025751, 12, 13), (11840699188806025751, 12, 14)]\n",
            "matches: [(11840699188806025751, 10, 11)]\n",
            "matches: [(11840699188806025751, 2, 3)]\n",
            "matches: [(11840699188806025751, 1, 2)]\n",
            "matches: [(11840699188806025751, 11, 12)]\n",
            "matches: [(11840699188806025751, 1, 2)]\n",
            "matches: [(11840699188806025751, 2, 3), (11840699188806025751, 2, 4)]\n",
            "matches: [(11840699188806025751, 3, 4), (11840699188806025751, 3, 5)]\n"
          ],
          "name": "stdout"
        },
        {
          "output_type": "stream",
          "text": [
            " 54%|█████▍    | 2353/4318 [00:27<00:21, 90.52it/s]"
          ],
          "name": "stderr"
        },
        {
          "output_type": "stream",
          "text": [
            "matches: [(11840699188806025751, 2, 3)]\n",
            "matches: [(11840699188806025751, 2, 3)]\n",
            "matches: [(11840699188806025751, 2, 3), (11840699188806025751, 2, 4)]\n",
            "matches: [(11840699188806025751, 3, 4)]\n",
            "matches: [(11840699188806025751, 6, 7), (11840699188806025751, 6, 8), (11840699188806025751, 6, 9)]\n",
            "matches: [(11840699188806025751, 1, 2)]\n",
            "matches: [(11840699188806025751, 1, 2)]\n",
            "matches: [(11840699188806025751, 1, 2)]\n",
            "matches: [(11840699188806025751, 7, 8), (11840699188806025751, 7, 9)]\n",
            "matches: [(11840699188806025751, 2, 3)]\n",
            "matches: [(11840699188806025751, 2, 3)]\n",
            "matches: [(11840699188806025751, 1, 2), (11840699188806025751, 1, 3)]\n",
            "matches: [(11840699188806025751, 3, 4)]\n",
            "matches: [(11840699188806025751, 4, 5), (11840699188806025751, 4, 6)]\n",
            "matches: [(11840699188806025751, 2, 3), (11840699188806025751, 2, 4)]\n",
            "matches: [(11840699188806025751, 1, 2)]\n",
            "matches: [(11840699188806025751, 3, 4)]\n",
            "matches: [(11840699188806025751, 2, 3), (11840699188806025751, 2, 4)]\n",
            "matches: [(11840699188806025751, 3, 4), (11840699188806025751, 3, 5)]\n",
            "matches: [(11840699188806025751, 6, 7), (11840699188806025751, 6, 8)]\n"
          ],
          "name": "stdout"
        },
        {
          "output_type": "stream",
          "text": [
            " 55%|█████▍    | 2373/4318 [00:27<00:21, 90.62it/s]"
          ],
          "name": "stderr"
        },
        {
          "output_type": "stream",
          "text": [
            "matches: [(11840699188806025751, 1, 2), (11840699188806025751, 1, 3)]\n",
            "matches: [(11840699188806025751, 1, 2)]\n",
            "matches: [(11840699188806025751, 3, 4), (11840699188806025751, 3, 5)]\n",
            "matches: [(11840699188806025751, 5, 6)]\n",
            "matches: [(11840699188806025751, 2, 3)]\n",
            "matches: [(11840699188806025751, 6, 7), (11840699188806025751, 6, 8)]\n",
            "matches: [(11840699188806025751, 1, 2)]\n",
            "matches: [(11840699188806025751, 3, 4)]\n",
            "matches: [(11840699188806025751, 5, 6), (11840699188806025751, 5, 7)]\n",
            "matches: [(11840699188806025751, 7, 8), (11840699188806025751, 7, 9)]\n",
            "matches: [(11840699188806025751, 6, 7)]\n",
            "matches: [(11840699188806025751, 5, 6), (11840699188806025751, 5, 7)]\n",
            "matches: [(11840699188806025751, 13, 14)]\n",
            "matches: [(11840699188806025751, 4, 5)]\n",
            "matches: [(11840699188806025751, 2, 3)]\n",
            "matches: [(11840699188806025751, 1, 2), (11840699188806025751, 1, 3)]\n",
            "matches: [(11840699188806025751, 3, 4)]\n",
            "matches: [(11840699188806025751, 2, 3), (11840699188806025751, 2, 4)]\n"
          ],
          "name": "stdout"
        },
        {
          "output_type": "stream",
          "text": [
            " 55%|█████▌    | 2393/4318 [00:28<00:21, 88.75it/s]"
          ],
          "name": "stderr"
        },
        {
          "output_type": "stream",
          "text": [
            "matches: [(11840699188806025751, 2, 3), (11840699188806025751, 2, 4)]\n",
            "matches: [(11840699188806025751, 2, 3)]\n",
            "matches: [(11840699188806025751, 1, 2)]\n",
            "matches: [(11840699188806025751, 2, 3), (11840699188806025751, 2, 4)]\n",
            "matches: [(11840699188806025751, 3, 4), (11840699188806025751, 3, 5), (11840699188806025751, 3, 6)]\n",
            "matches: [(11840699188806025751, 2, 3)]\n",
            "matches: [(11840699188806025751, 2, 3)]\n",
            "matches: [(11840699188806025751, 2, 3)]\n",
            "matches: [(11840699188806025751, 2, 3)]\n",
            "matches: [(11840699188806025751, 3, 4), (11840699188806025751, 3, 5)]\n",
            "matches: [(11840699188806025751, 6, 7)]\n",
            "matches: [(11840699188806025751, 2, 3), (11840699188806025751, 2, 4)]\n",
            "matches: [(11840699188806025751, 8, 9)]\n",
            "matches: [(11840699188806025751, 15, 16)]\n",
            "matches: [(11840699188806025751, 10, 11)]\n",
            "matches: [(11840699188806025751, 3, 4), (11840699188806025751, 3, 5)]\n",
            "matches: [(11840699188806025751, 4, 5)]\n",
            "matches: [(11840699188806025751, 3, 4)]\n",
            "matches: [(11840699188806025751, 5, 6), (11840699188806025751, 5, 7)]\n"
          ],
          "name": "stdout"
        },
        {
          "output_type": "stream",
          "text": [
            " 56%|█████▌    | 2412/4318 [00:28<00:21, 88.83it/s]"
          ],
          "name": "stderr"
        },
        {
          "output_type": "stream",
          "text": [
            "matches: [(11840699188806025751, 7, 8), (11840699188806025751, 7, 9)]\n",
            "matches: [(11840699188806025751, 6, 7)]\n",
            "matches: [(11840699188806025751, 5, 6), (11840699188806025751, 5, 7)]\n",
            "matches: [(11840699188806025751, 13, 14)]\n",
            "matches: [(11840699188806025751, 4, 5)]\n",
            "matches: [(11840699188806025751, 2, 3)]\n",
            "matches: [(11840699188806025751, 1, 2), (11840699188806025751, 1, 3)]\n",
            "matches: [(11840699188806025751, 3, 4)]\n",
            "matches: [(11840699188806025751, 2, 3), (11840699188806025751, 2, 4)]\n",
            "matches: [(11840699188806025751, 2, 3), (11840699188806025751, 2, 4)]\n",
            "matches: [(11840699188806025751, 2, 3)]\n",
            "matches: [(11840699188806025751, 1, 2)]\n",
            "matches: [(11840699188806025751, 2, 3), (11840699188806025751, 2, 4)]\n",
            "matches: [(11840699188806025751, 3, 4), (11840699188806025751, 3, 5), (11840699188806025751, 3, 6)]\n",
            "matches: [(11840699188806025751, 2, 3)]\n",
            "matches: [(11840699188806025751, 2, 3)]\n",
            "matches: [(11840699188806025751, 2, 3)]\n",
            "matches: [(11840699188806025751, 2, 3)]\n",
            "matches: [(11840699188806025751, 3, 4), (11840699188806025751, 3, 5)]\n"
          ],
          "name": "stdout"
        },
        {
          "output_type": "stream",
          "text": [
            " 56%|█████▋    | 2430/4318 [00:28<00:21, 87.03it/s]"
          ],
          "name": "stderr"
        },
        {
          "output_type": "stream",
          "text": [
            "matches: [(11840699188806025751, 6, 7)]\n",
            "matches: [(11840699188806025751, 2, 3), (11840699188806025751, 2, 4)]\n",
            "matches: [(11840699188806025751, 8, 9)]\n",
            "matches: [(11840699188806025751, 15, 16)]\n",
            "matches: [(11840699188806025751, 10, 11)]\n",
            "matches: [(11840699188806025751, 3, 4), (11840699188806025751, 3, 5)]\n",
            "matches: [(11840699188806025751, 4, 5)]\n",
            "matches: [(11840699188806025751, 2, 3)]\n",
            "matches: [(11840699188806025751, 0, 1)]\n",
            "matches: [(11840699188806025751, 3, 4)]\n",
            "matches: [(11840699188806025751, 5, 6), (11840699188806025751, 5, 7)]\n",
            "matches: [(11840699188806025751, 4, 5), (11840699188806025751, 4, 6)]\n",
            "matches: [(11840699188806025751, 3, 4)]\n",
            "matches: [(11840699188806025751, 3, 4)]\n",
            "matches: [(11840699188806025751, 6, 7)]\n",
            "matches: [(11840699188806025751, 3, 4)]\n",
            "matches: [(11840699188806025751, 12, 13)]\n",
            "matches: [(11840699188806025751, 2, 3), (11840699188806025751, 2, 4)]\n"
          ],
          "name": "stdout"
        },
        {
          "output_type": "stream",
          "text": [
            " 57%|█████▋    | 2449/4318 [00:28<00:20, 89.41it/s]"
          ],
          "name": "stderr"
        },
        {
          "output_type": "stream",
          "text": [
            "matches: [(11840699188806025751, 1, 2)]\n",
            "matches: [(11840699188806025751, 6, 7), (11840699188806025751, 6, 8), (11840699188806025751, 6, 9)]\n",
            "matches: [(11840699188806025751, 5, 6), (11840699188806025751, 5, 7)]\n",
            "matches: [(11840699188806025751, 2, 3)]\n",
            "matches: [(11840699188806025751, 1, 2)]\n",
            "matches: [(11840699188806025751, 3, 4)]\n",
            "matches: [(11840699188806025751, 6, 7), (11840699188806025751, 6, 8)]\n",
            "matches: [(11840699188806025751, 2, 3)]\n",
            "matches: [(11840699188806025751, 2, 3)]\n",
            "matches: [(11840699188806025751, 0, 1)]\n",
            "matches: [(11840699188806025751, 3, 4)]\n",
            "matches: [(11840699188806025751, 5, 6), (11840699188806025751, 5, 7)]\n",
            "matches: [(11840699188806025751, 4, 5), (11840699188806025751, 4, 6)]\n",
            "matches: [(11840699188806025751, 3, 4)]\n",
            "matches: [(11840699188806025751, 3, 4)]\n",
            "matches: [(11840699188806025751, 6, 7)]\n",
            "matches: [(11840699188806025751, 3, 4)]\n",
            "matches: [(11840699188806025751, 12, 13)]\n",
            "matches: [(11840699188806025751, 2, 3), (11840699188806025751, 2, 4)]\n"
          ],
          "name": "stdout"
        },
        {
          "output_type": "stream",
          "text": [
            " 57%|█████▋    | 2467/4318 [00:28<00:21, 86.31it/s]"
          ],
          "name": "stderr"
        },
        {
          "output_type": "stream",
          "text": [
            "matches: [(11840699188806025751, 1, 2)]\n",
            "matches: [(11840699188806025751, 6, 7), (11840699188806025751, 6, 8), (11840699188806025751, 6, 9)]\n",
            "matches: [(11840699188806025751, 5, 6), (11840699188806025751, 5, 7)]\n",
            "matches: [(11840699188806025751, 2, 3)]\n",
            "matches: [(11840699188806025751, 1, 2)]\n",
            "matches: [(11840699188806025751, 3, 4)]\n",
            "matches: [(11840699188806025751, 6, 7), (11840699188806025751, 6, 8)]\n",
            "matches: [(11840699188806025751, 2, 3)]\n",
            "matches: [(11840699188806025751, 4, 5)]\n",
            "matches: [(11840699188806025751, 2, 3)]\n",
            "matches: [(11840699188806025751, 8, 9)]\n",
            "matches: [(11840699188806025751, 6, 7)]\n",
            "matches: [(11840699188806025751, 3, 4)]\n",
            "matches: [(11840699188806025751, 10, 11)]\n",
            "matches: [(11840699188806025751, 1, 2), (11840699188806025751, 3, 4)]\n",
            "matches: [(11840699188806025751, 2, 3)]\n",
            "matches: [(11840699188806025751, 0, 1)]\n",
            "matches: [(11840699188806025751, 2, 3), (11840699188806025751, 2, 4)]\n"
          ],
          "name": "stdout"
        },
        {
          "output_type": "stream",
          "text": [
            " 58%|█████▊    | 2486/4318 [00:29<00:20, 87.26it/s]"
          ],
          "name": "stderr"
        },
        {
          "output_type": "stream",
          "text": [
            "matches: [(11840699188806025751, 2, 3), (11840699188806025751, 2, 4)]\n",
            "matches: [(11840699188806025751, 4, 5)]\n",
            "matches: [(11840699188806025751, 5, 6), (11840699188806025751, 5, 7), (11840699188806025751, 5, 8)]\n",
            "matches: [(11840699188806025751, 4, 5)]\n",
            "matches: [(11840699188806025751, 3, 4)]\n",
            "matches: [(11840699188806025751, 3, 4)]\n",
            "matches: [(11840699188806025751, 8, 9)]\n",
            "matches: [(11840699188806025751, 3, 4)]\n",
            "matches: [(11840699188806025751, 8, 9)]\n",
            "matches: [(11840699188806025751, 9, 10)]\n",
            "matches: [(11840699188806025751, 3, 4)]\n",
            "matches: [(11840699188806025751, 23, 24)]\n",
            "matches: [(11840699188806025751, 8, 9)]\n",
            "matches: [(11840699188806025751, 6, 7), (11840699188806025751, 6, 8)]\n",
            "matches: [(11840699188806025751, 10, 11)]\n",
            "matches: [(11840699188806025751, 5, 6)]\n",
            "matches: [(11840699188806025751, 1, 2), (11840699188806025751, 1, 3)]\n",
            "matches: [(11840699188806025751, 4, 5), (11840699188806025751, 4, 6)]\n",
            "matches: [(11840699188806025751, 2, 3)]\n"
          ],
          "name": "stdout"
        },
        {
          "output_type": "stream",
          "text": [
            " 58%|█████▊    | 2504/4318 [00:29<00:20, 88.05it/s]"
          ],
          "name": "stderr"
        },
        {
          "output_type": "stream",
          "text": [
            "matches: [(11840699188806025751, 4, 5)]\n",
            "matches: [(11840699188806025751, 1, 2), (11840699188806025751, 5, 6)]\n",
            "matches: [(11840699188806025751, 4, 5), (11840699188806025751, 8, 9)]\n",
            "matches: [(11840699188806025751, 4, 5)]\n",
            "matches: [(11840699188806025751, 2, 3)]\n",
            "matches: [(11840699188806025751, 12, 13), (11840699188806025751, 12, 14)]\n",
            "matches: [(11840699188806025751, 1, 2)]\n",
            "matches: [(11840699188806025751, 7, 8)]\n",
            "matches: [(11840699188806025751, 1, 2)]\n",
            "matches: [(11840699188806025751, 9, 10)]\n",
            "matches: [(11840699188806025751, 2, 3)]\n",
            "matches: [(11840699188806025751, 3, 4)]\n",
            "matches: [(11840699188806025751, 9, 10)]\n",
            "matches: [(11840699188806025751, 3, 4)]\n",
            "matches: [(11840699188806025751, 23, 24)]\n",
            "matches: [(11840699188806025751, 8, 9)]\n",
            "matches: [(11840699188806025751, 6, 7), (11840699188806025751, 6, 8)]\n",
            "matches: [(11840699188806025751, 10, 11)]\n",
            "matches: [(11840699188806025751, 5, 6)]\n"
          ],
          "name": "stdout"
        },
        {
          "output_type": "stream",
          "text": [
            " 58%|█████▊    | 2522/4318 [00:29<00:20, 87.63it/s]"
          ],
          "name": "stderr"
        },
        {
          "output_type": "stream",
          "text": [
            "matches: [(11840699188806025751, 1, 2), (11840699188806025751, 1, 3)]\n",
            "matches: [(11840699188806025751, 4, 5), (11840699188806025751, 4, 6)]\n",
            "matches: [(11840699188806025751, 2, 3)]\n",
            "matches: [(11840699188806025751, 4, 5)]\n",
            "matches: [(11840699188806025751, 1, 2), (11840699188806025751, 5, 6)]\n",
            "matches: [(11840699188806025751, 4, 5), (11840699188806025751, 8, 9)]\n",
            "matches: [(11840699188806025751, 4, 5)]\n",
            "matches: [(11840699188806025751, 2, 3)]\n",
            "matches: [(11840699188806025751, 12, 13), (11840699188806025751, 12, 14)]\n",
            "matches: [(11840699188806025751, 1, 2)]\n",
            "matches: [(11840699188806025751, 7, 8)]\n",
            "matches: [(11840699188806025751, 1, 2)]\n",
            "matches: [(11840699188806025751, 9, 10)]\n",
            "matches: [(11840699188806025751, 2, 3)]\n",
            "matches: [(11840699188806025751, 3, 4)]\n",
            "matches: [(11840699188806025751, 6, 7), (11840699188806025751, 6, 8), (11840699188806025751, 6, 9)]\n",
            "matches: [(11840699188806025751, 1, 2)]\n",
            "matches: [(11840699188806025751, 1, 2)]\n"
          ],
          "name": "stdout"
        },
        {
          "output_type": "stream",
          "text": [
            " 59%|█████▉    | 2540/4318 [00:29<00:20, 87.71it/s]"
          ],
          "name": "stderr"
        },
        {
          "output_type": "stream",
          "text": [
            "matches: [(11840699188806025751, 4, 5)]\n",
            "matches: [(11840699188806025751, 1, 2)]\n",
            "matches: [(11840699188806025751, 2, 3)]\n",
            "matches: [(11840699188806025751, 2, 3)]\n",
            "matches: [(11840699188806025751, 3, 4)]\n",
            "matches: [(11840699188806025751, 6, 7)]\n",
            "matches: [(11840699188806025751, 2, 3)]\n",
            "matches: [(11840699188806025751, 6, 7)]\n",
            "matches: [(11840699188806025751, 5, 6)]\n",
            "matches: [(11840699188806025751, 2, 3)]\n",
            "matches: [(11840699188806025751, 5, 6), (11840699188806025751, 5, 7)]\n",
            "matches: [(11840699188806025751, 2, 3)]\n",
            "matches: [(11840699188806025751, 2, 3)]\n",
            "matches: [(11840699188806025751, 1, 2)]\n",
            "matches: [(11840699188806025751, 5, 6), (11840699188806025751, 12, 13)]\n",
            "matches: [(11840699188806025751, 4, 5)]\n",
            "matches: [(11840699188806025751, 4, 5)]\n",
            "matches: [(11840699188806025751, 8, 9)]\n"
          ],
          "name": "stdout"
        },
        {
          "output_type": "stream",
          "text": [
            " 59%|█████▉    | 2558/4318 [00:30<00:20, 86.09it/s]"
          ],
          "name": "stderr"
        },
        {
          "output_type": "stream",
          "text": [
            "matches: [(11840699188806025751, 6, 7), (11840699188806025751, 6, 8)]\n",
            "matches: [(11840699188806025751, 6, 7)]\n",
            "matches: [(11840699188806025751, 4, 5)]\n",
            "matches: [(11840699188806025751, 1, 2)]\n",
            "matches: [(11840699188806025751, 6, 7)]\n",
            "matches: [(11840699188806025751, 4, 5), (11840699188806025751, 4, 6)]\n",
            "matches: [(11840699188806025751, 1, 2), (11840699188806025751, 1, 3)]\n",
            "matches: [(11840699188806025751, 10, 11)]\n",
            "matches: [(11840699188806025751, 1, 2)]\n",
            "matches: [(11840699188806025751, 1, 2)]\n",
            "matches: [(11840699188806025751, 13, 14)]\n",
            "matches: [(11840699188806025751, 2, 3)]\n",
            "matches: [(11840699188806025751, 1, 2)]\n",
            "matches: [(11840699188806025751, 6, 7)]\n",
            "matches: [(11840699188806025751, 3, 4)]\n",
            "matches: [(11840699188806025751, 5, 6), (11840699188806025751, 5, 7)]\n",
            "matches: [(11840699188806025751, 3, 4)]\n",
            "matches: [(11840699188806025751, 3, 4)]\n"
          ],
          "name": "stdout"
        },
        {
          "output_type": "stream",
          "text": [
            " 60%|█████▉    | 2576/4318 [00:30<00:20, 86.66it/s]"
          ],
          "name": "stderr"
        },
        {
          "output_type": "stream",
          "text": [
            "matches: [(11840699188806025751, 2, 3)]\n",
            "matches: [(11840699188806025751, 1, 2), (11840699188806025751, 1, 3)]\n",
            "matches: [(11840699188806025751, 2, 3), (11840699188806025751, 2, 4)]\n",
            "matches: [(11840699188806025751, 2, 3)]\n",
            "matches: [(11840699188806025751, 6, 7), (11840699188806025751, 6, 8)]\n",
            "matches: [(11840699188806025751, 2, 3)]\n",
            "matches: [(11840699188806025751, 1, 2)]\n",
            "matches: [(11840699188806025751, 6, 7), (11840699188806025751, 6, 8)]\n",
            "matches: [(11840699188806025751, 3, 4)]\n",
            "matches: [(11840699188806025751, 2, 3), (11840699188806025751, 2, 4)]\n",
            "matches: [(11840699188806025751, 7, 8), (11840699188806025751, 7, 9)]\n",
            "matches: [(11840699188806025751, 11, 12), (11840699188806025751, 11, 13)]\n",
            "matches: [(11840699188806025751, 2, 3)]\n",
            "matches: [(11840699188806025751, 3, 4)]\n",
            "matches: [(11840699188806025751, 3, 4), (11840699188806025751, 3, 5)]\n",
            "matches: [(11840699188806025751, 1, 2)]\n",
            "matches: [(11840699188806025751, 7, 8)]\n",
            "matches: [(11840699188806025751, 2, 3), (11840699188806025751, 6, 7), (11840699188806025751, 6, 8)]\n",
            "matches: [(11840699188806025751, 5, 6), (11840699188806025751, 5, 7)]\n"
          ],
          "name": "stdout"
        },
        {
          "output_type": "stream",
          "text": [
            " 60%|██████    | 2595/4318 [00:30<00:19, 90.26it/s]"
          ],
          "name": "stderr"
        },
        {
          "output_type": "stream",
          "text": [
            "matches: [(11840699188806025751, 4, 5)]\n",
            "matches: [(11840699188806025751, 6, 7)]\n",
            "matches: [(11840699188806025751, 9, 10)]\n",
            "matches: [(11840699188806025751, 3, 4)]\n",
            "matches: [(11840699188806025751, 3, 4)]\n",
            "matches: [(11840699188806025751, 1, 2), (11840699188806025751, 8, 9), (11840699188806025751, 8, 10)]\n",
            "matches: [(11840699188806025751, 8, 9)]\n",
            "matches: [(11840699188806025751, 3, 4)]\n",
            "matches: [(11840699188806025751, 2, 3), (11840699188806025751, 2, 4)]\n",
            "matches: [(11840699188806025751, 1, 2), (11840699188806025751, 1, 3)]\n",
            "matches: [(11840699188806025751, 2, 3)]\n",
            "matches: [(11840699188806025751, 4, 5)]\n",
            "matches: [(11840699188806025751, 6, 7)]\n",
            "matches: [(11840699188806025751, 1, 2), (11840699188806025751, 1, 3)]\n",
            "matches: [(11840699188806025751, 9, 10), (11840699188806025751, 9, 11)]\n",
            "matches: [(11840699188806025751, 1, 2)]\n",
            "matches: [(11840699188806025751, 2, 3), (11840699188806025751, 2, 4)]\n",
            "matches: [(11840699188806025751, 2, 3), (11840699188806025751, 2, 4)]\n",
            "matches: [(11840699188806025751, 2, 3)]\n",
            "matches: [(11840699188806025751, 1, 2)]\n"
          ],
          "name": "stdout"
        },
        {
          "output_type": "stream",
          "text": [
            " 61%|██████    | 2615/4318 [00:30<00:18, 90.32it/s]"
          ],
          "name": "stderr"
        },
        {
          "output_type": "stream",
          "text": [
            "matches: [(11840699188806025751, 2, 3)]\n",
            "matches: [(11840699188806025751, 8, 9)]\n",
            "matches: [(11840699188806025751, 2, 3)]\n",
            "matches: [(11840699188806025751, 6, 7), (11840699188806025751, 6, 8)]\n",
            "matches: [(11840699188806025751, 5, 6), (11840699188806025751, 5, 7)]\n",
            "matches: [(11840699188806025751, 1, 2), (11840699188806025751, 10, 11), (11840699188806025751, 12, 13)]\n",
            "matches: [(11840699188806025751, 4, 5)]\n",
            "matches: [(11840699188806025751, 4, 5)]\n",
            "matches: [(11840699188806025751, 4, 5)]\n",
            "matches: [(11840699188806025751, 6, 7), (11840699188806025751, 6, 8)]\n",
            "matches: [(11840699188806025751, 8, 9), (11840699188806025751, 8, 10), (11840699188806025751, 8, 11)]\n",
            "matches: [(11840699188806025751, 15, 16)]\n",
            "matches: [(11840699188806025751, 2, 3), (11840699188806025751, 2, 4), (11840699188806025751, 2, 5)]\n",
            "matches: [(11840699188806025751, 1, 2)]\n",
            "matches: [(11840699188806025751, 5, 6)]\n",
            "matches: [(11840699188806025751, 1, 2)]\n",
            "matches: [(11840699188806025751, 2, 3)]\n",
            "matches: [(11840699188806025751, 2, 3), (11840699188806025751, 2, 4)]\n",
            "matches: [(11840699188806025751, 2, 3)]\n"
          ],
          "name": "stdout"
        },
        {
          "output_type": "stream",
          "text": [
            " 61%|██████    | 2635/4318 [00:30<00:18, 90.00it/s]"
          ],
          "name": "stderr"
        },
        {
          "output_type": "stream",
          "text": [
            "matches: [(11840699188806025751, 1, 2)]\n",
            "matches: [(11840699188806025751, 3, 4)]\n",
            "matches: [(11840699188806025751, 4, 5)]\n",
            "matches: [(11840699188806025751, 15, 16)]\n",
            "matches: [(11840699188806025751, 2, 3), (11840699188806025751, 2, 4), (11840699188806025751, 2, 5)]\n",
            "matches: [(11840699188806025751, 1, 2)]\n",
            "matches: [(11840699188806025751, 5, 6)]\n",
            "matches: [(11840699188806025751, 1, 2)]\n",
            "matches: [(11840699188806025751, 2, 3)]\n",
            "matches: [(11840699188806025751, 2, 3), (11840699188806025751, 2, 4)]\n",
            "matches: [(11840699188806025751, 2, 3)]\n",
            "matches: [(11840699188806025751, 1, 2)]\n",
            "matches: [(11840699188806025751, 3, 4)]\n",
            "matches: [(11840699188806025751, 4, 5)]\n",
            "matches: [(11840699188806025751, 24, 25)]\n",
            "matches: [(11840699188806025751, 2, 3)]\n",
            "matches: [(11840699188806025751, 2, 3)]\n",
            "matches: [(11840699188806025751, 15, 16)]\n",
            "matches: [(11840699188806025751, 3, 4)]\n"
          ],
          "name": "stdout"
        },
        {
          "output_type": "stream",
          "text": [
            " 61%|██████▏   | 2654/4318 [00:31<00:18, 89.49it/s]"
          ],
          "name": "stderr"
        },
        {
          "output_type": "stream",
          "text": [
            "matches: [(11840699188806025751, 7, 8), (11840699188806025751, 7, 9)]\n",
            "matches: [(11840699188806025751, 6, 7)]\n",
            "matches: [(11840699188806025751, 3, 4)]\n",
            "matches: [(11840699188806025751, 5, 6), (11840699188806025751, 5, 7)]\n",
            "matches: [(11840699188806025751, 5, 6), (11840699188806025751, 5, 7)]\n",
            "matches: [(11840699188806025751, 4, 5)]\n",
            "matches: [(11840699188806025751, 3, 4), (11840699188806025751, 3, 5), (11840699188806025751, 3, 6)]\n",
            "matches: [(11840699188806025751, 2, 3)]\n",
            "matches: [(11840699188806025751, 2, 3), (11840699188806025751, 2, 4), (11840699188806025751, 2, 5)]\n",
            "matches: [(11840699188806025751, 1, 2), (11840699188806025751, 1, 3)]\n",
            "matches: [(11840699188806025751, 6, 7)]\n",
            "matches: [(11840699188806025751, 0, 1)]\n",
            "matches: [(11840699188806025751, 2, 3)]\n",
            "matches: [(11840699188806025751, 2, 3)]\n",
            "matches: [(11840699188806025751, 2, 3)]\n",
            "matches: [(11840699188806025751, 4, 5), (11840699188806025751, 4, 6)]\n",
            "matches: [(11840699188806025751, 2, 3)]\n",
            "matches: [(11840699188806025751, 2, 3)]\n"
          ],
          "name": "stdout"
        },
        {
          "output_type": "stream",
          "text": [
            " 62%|██████▏   | 2673/4318 [00:31<00:18, 90.39it/s]"
          ],
          "name": "stderr"
        },
        {
          "output_type": "stream",
          "text": [
            "matches: [(11840699188806025751, 2, 3)]\n",
            "matches: [(11840699188806025751, 1, 2)]\n",
            "matches: [(11840699188806025751, 4, 5)]\n",
            "matches: [(11840699188806025751, 3, 4)]\n",
            "matches: [(11840699188806025751, 2, 3)]\n",
            "matches: [(11840699188806025751, 1, 2)]\n",
            "matches: [(11840699188806025751, 2, 3), (11840699188806025751, 5, 6)]\n",
            "matches: [(11840699188806025751, 2, 3), (11840699188806025751, 4, 5)]\n",
            "matches: [(11840699188806025751, 1, 2)]\n",
            "matches: [(11840699188806025751, 3, 4), (11840699188806025751, 3, 5)]\n",
            "matches: [(11840699188806025751, 14, 15), (11840699188806025751, 14, 16)]\n",
            "matches: [(11840699188806025751, 1, 2)]\n",
            "matches: [(11840699188806025751, 1, 2)]\n",
            "matches: [(11840699188806025751, 2, 3), (11840699188806025751, 2, 4)]\n",
            "matches: [(11840699188806025751, 4, 5)]\n",
            "matches: [(11840699188806025751, 10, 11)]\n",
            "matches: [(11840699188806025751, 2, 3)]\n",
            "matches: [(11840699188806025751, 4, 5)]\n",
            "matches: [(11840699188806025751, 1, 2)]\n"
          ],
          "name": "stdout"
        },
        {
          "output_type": "stream",
          "text": [
            " 62%|██████▏   | 2693/4318 [00:31<00:17, 92.14it/s]"
          ],
          "name": "stderr"
        },
        {
          "output_type": "stream",
          "text": [
            "matches: [(11840699188806025751, 2, 3), (11840699188806025751, 2, 4)]\n",
            "matches: [(11840699188806025751, 3, 4)]\n",
            "matches: [(11840699188806025751, 2, 3)]\n",
            "matches: [(11840699188806025751, 2, 3)]\n",
            "matches: [(11840699188806025751, 4, 5), (11840699188806025751, 4, 6)]\n",
            "matches: [(11840699188806025751, 1, 2)]\n",
            "matches: [(11840699188806025751, 3, 4)]\n",
            "matches: [(11840699188806025751, 10, 11), (11840699188806025751, 10, 12)]\n",
            "matches: [(11840699188806025751, 2, 3)]\n",
            "matches: [(11840699188806025751, 2, 3)]\n",
            "matches: [(11840699188806025751, 6, 7), (11840699188806025751, 6, 8)]\n",
            "matches: [(11840699188806025751, 4, 5), (11840699188806025751, 4, 6)]\n",
            "matches: [(11840699188806025751, 5, 6), (11840699188806025751, 5, 7)]\n",
            "matches: [(11840699188806025751, 1, 2)]\n",
            "matches: [(11840699188806025751, 2, 3)]\n",
            "matches: [(11840699188806025751, 3, 4), (11840699188806025751, 3, 5)]\n",
            "matches: [(11840699188806025751, 2, 3), (11840699188806025751, 2, 4)]\n",
            "matches: [(11840699188806025751, 4, 5)]\n",
            "matches: [(11840699188806025751, 2, 3)]\n",
            "matches: [(11840699188806025751, 9, 10), (11840699188806025751, 9, 11)]\n"
          ],
          "name": "stdout"
        },
        {
          "output_type": "stream",
          "text": [
            "\r 63%|██████▎   | 2703/4318 [00:31<00:17, 90.27it/s]"
          ],
          "name": "stderr"
        },
        {
          "output_type": "stream",
          "text": [
            "matches: [(11840699188806025751, 1, 2), (11840699188806025751, 1, 3)]\n",
            "matches: [(11840699188806025751, 9, 10), (11840699188806025751, 9, 11)]\n",
            "matches: [(11840699188806025751, 1, 2), (11840699188806025751, 1, 3)]\n",
            "matches: [(11840699188806025751, 1, 2)]\n",
            "matches: [(11840699188806025751, 2, 3)]\n",
            "matches: [(11840699188806025751, 2, 3)]\n",
            "matches: [(11840699188806025751, 3, 4)]\n",
            "matches: [(11840699188806025751, 3, 4)]\n",
            "matches: [(11840699188806025751, 5, 6), (11840699188806025751, 5, 7)]\n",
            "matches: [(11840699188806025751, 2, 3)]\n",
            "matches: [(11840699188806025751, 1, 2)]\n",
            "matches: [(11840699188806025751, 1, 2)]\n",
            "matches: [(11840699188806025751, 4, 5), (11840699188806025751, 4, 6), (11840699188806025751, 4, 7)]\n",
            "matches: [(11840699188806025751, 6, 7)]\n",
            "matches: [(11840699188806025751, 0, 1)]\n",
            "matches: [(11840699188806025751, 4, 5)]\n",
            "matches: [(11840699188806025751, 2, 3)]\n",
            "matches: [(11840699188806025751, 2, 3)]\n",
            "matches: [(11840699188806025751, 5, 6)]\n"
          ],
          "name": "stdout"
        },
        {
          "output_type": "stream",
          "text": [
            " 63%|██████▎   | 2723/4318 [00:31<00:17, 91.59it/s]"
          ],
          "name": "stderr"
        },
        {
          "output_type": "stream",
          "text": [
            "matches: [(11840699188806025751, 5, 6), (11840699188806025751, 5, 7)]\n",
            "matches: [(11840699188806025751, 3, 4), (11840699188806025751, 3, 5), (11840699188806025751, 3, 6)]\n",
            "matches: [(11840699188806025751, 3, 4), (11840699188806025751, 3, 5)]\n",
            "matches: [(11840699188806025751, 2, 3), (11840699188806025751, 2, 4)]\n",
            "matches: [(11840699188806025751, 2, 3), (11840699188806025751, 2, 4)]\n",
            "matches: [(11840699188806025751, 3, 4), (11840699188806025751, 3, 5)]\n",
            "matches: [(11840699188806025751, 3, 4), (11840699188806025751, 3, 5)]\n",
            "matches: [(11840699188806025751, 3, 4), (11840699188806025751, 3, 5)]\n",
            "matches: [(11840699188806025751, 2, 3)]\n",
            "matches: [(11840699188806025751, 2, 3)]\n",
            "matches: [(11840699188806025751, 1, 2)]\n",
            "matches: [(11840699188806025751, 2, 3)]\n",
            "matches: [(11840699188806025751, 1, 2)]\n",
            "matches: [(11840699188806025751, 2, 3)]\n",
            "matches: [(11840699188806025751, 2, 3)]\n",
            "matches: [(11840699188806025751, 1, 2), (11840699188806025751, 1, 3)]\n",
            "matches: [(11840699188806025751, 8, 9)]\n",
            "matches: [(11840699188806025751, 2, 3)]\n",
            "matches: [(11840699188806025751, 2, 3)]\n"
          ],
          "name": "stdout"
        },
        {
          "output_type": "stream",
          "text": [
            " 64%|██████▎   | 2743/4318 [00:32<00:17, 91.07it/s]"
          ],
          "name": "stderr"
        },
        {
          "output_type": "stream",
          "text": [
            "matches: [(11840699188806025751, 1, 2)]\n",
            "matches: [(11840699188806025751, 2, 3)]\n",
            "matches: [(11840699188806025751, 1, 2)]\n",
            "matches: [(11840699188806025751, 2, 3)]\n",
            "matches: [(11840699188806025751, 2, 3)]\n",
            "matches: [(11840699188806025751, 1, 2), (11840699188806025751, 1, 3)]\n",
            "matches: [(11840699188806025751, 8, 9)]\n",
            "matches: [(11840699188806025751, 6, 7)]\n",
            "matches: [(11840699188806025751, 2, 3), (11840699188806025751, 2, 4)]\n",
            "matches: [(11840699188806025751, 6, 7), (11840699188806025751, 6, 8)]\n",
            "matches: [(11840699188806025751, 4, 5), (11840699188806025751, 4, 6)]\n",
            "matches: [(11840699188806025751, 6, 7)]\n",
            "matches: [(11840699188806025751, 6, 7)]\n",
            "matches: [(11840699188806025751, 5, 6)]\n",
            "matches: [(11840699188806025751, 10, 11)]\n",
            "matches: [(11840699188806025751, 5, 6), (11840699188806025751, 5, 7)]\n",
            "matches: [(11840699188806025751, 12, 13)]\n",
            "matches: [(11840699188806025751, 3, 4)]\n"
          ],
          "name": "stdout"
        },
        {
          "output_type": "stream",
          "text": [
            " 64%|██████▍   | 2762/4318 [00:32<00:17, 88.26it/s]"
          ],
          "name": "stderr"
        },
        {
          "output_type": "stream",
          "text": [
            "matches: [(11840699188806025751, 4, 5)]\n",
            "matches: [(11840699188806025751, 4, 5), (11840699188806025751, 4, 6)]\n",
            "matches: [(11840699188806025751, 5, 6), (11840699188806025751, 5, 7)]\n",
            "matches: [(11840699188806025751, 4, 5)]\n",
            "matches: [(11840699188806025751, 1, 2)]\n",
            "matches: [(11840699188806025751, 4, 5)]\n",
            "matches: [(11840699188806025751, 2, 3), (11840699188806025751, 2, 4)]\n",
            "matches: [(11840699188806025751, 2, 3)]\n",
            "matches: [(11840699188806025751, 14, 15)]\n",
            "matches: [(11840699188806025751, 3, 4)]\n",
            "matches: [(11840699188806025751, 3, 4), (11840699188806025751, 3, 5)]\n",
            "matches: [(11840699188806025751, 4, 5)]\n",
            "matches: [(11840699188806025751, 1, 2), (11840699188806025751, 1, 3)]\n",
            "matches: [(11840699188806025751, 2, 3)]\n",
            "matches: [(11840699188806025751, 5, 6)]\n",
            "matches: [(11840699188806025751, 4, 5), (11840699188806025751, 4, 6)]\n",
            "matches: [(11840699188806025751, 7, 8)]\n",
            "matches: [(11840699188806025751, 13, 14), (11840699188806025751, 13, 15)]\n"
          ],
          "name": "stdout"
        },
        {
          "output_type": "stream",
          "text": [
            " 64%|██████▍   | 2780/4318 [00:32<00:18, 84.58it/s]"
          ],
          "name": "stderr"
        },
        {
          "output_type": "stream",
          "text": [
            "matches: [(11840699188806025751, 3, 4), (11840699188806025751, 3, 5)]\n",
            "matches: [(11840699188806025751, 5, 6)]\n",
            "matches: [(11840699188806025751, 12, 13)]\n",
            "matches: [(11840699188806025751, 1, 2)]\n",
            "matches: [(11840699188806025751, 9, 10)]\n",
            "matches: [(11840699188806025751, 1, 2)]\n",
            "matches: [(11840699188806025751, 6, 7)]\n",
            "matches: [(11840699188806025751, 2, 3)]\n",
            "matches: [(11840699188806025751, 14, 15)]\n",
            "matches: [(11840699188806025751, 7, 8)]\n",
            "matches: [(11840699188806025751, 6, 7)]\n",
            "matches: [(11840699188806025751, 0, 1)]\n",
            "matches: [(11840699188806025751, 1, 2)]\n",
            "matches: [(11840699188806025751, 3, 4)]\n",
            "matches: [(11840699188806025751, 4, 5)]\n",
            "matches: [(11840699188806025751, 3, 4)]\n",
            "matches: [(11840699188806025751, 5, 6), (11840699188806025751, 5, 7)]\n"
          ],
          "name": "stdout"
        },
        {
          "output_type": "stream",
          "text": [
            " 65%|██████▍   | 2799/4318 [00:32<00:17, 87.64it/s]"
          ],
          "name": "stderr"
        },
        {
          "output_type": "stream",
          "text": [
            "matches: [(11840699188806025751, 1, 2), (11840699188806025751, 1, 3)]\n",
            "matches: [(11840699188806025751, 2, 3), (11840699188806025751, 2, 4)]\n",
            "matches: [(11840699188806025751, 5, 6), (11840699188806025751, 5, 7)]\n",
            "matches: [(11840699188806025751, 2, 3)]\n",
            "matches: [(11840699188806025751, 4, 5), (11840699188806025751, 4, 6)]\n",
            "matches: [(11840699188806025751, 2, 3), (11840699188806025751, 2, 4)]\n",
            "matches: [(11840699188806025751, 1, 2)]\n",
            "matches: [(11840699188806025751, 3, 4), (11840699188806025751, 3, 5)]\n",
            "matches: [(11840699188806025751, 1, 2)]\n",
            "matches: [(11840699188806025751, 1, 2)]\n",
            "matches: [(11840699188806025751, 13, 14)]\n",
            "matches: [(11840699188806025751, 4, 5), (11840699188806025751, 4, 6)]\n",
            "matches: [(11840699188806025751, 1, 2), (11840699188806025751, 1, 3)]\n",
            "matches: [(11840699188806025751, 4, 5), (11840699188806025751, 4, 6)]\n",
            "matches: [(11840699188806025751, 2, 3), (11840699188806025751, 2, 4)]\n",
            "matches: [(11840699188806025751, 1, 2)]\n",
            "matches: [(11840699188806025751, 2, 3)]\n",
            "matches: [(11840699188806025751, 4, 5), (11840699188806025751, 4, 6)]\n",
            "matches: [(11840699188806025751, 2, 3)]\n"
          ],
          "name": "stdout"
        },
        {
          "output_type": "stream",
          "text": [
            " 65%|██████▌   | 2819/4318 [00:32<00:16, 91.11it/s]"
          ],
          "name": "stderr"
        },
        {
          "output_type": "stream",
          "text": [
            "matches: [(11840699188806025751, 4, 5)]\n",
            "matches: [(11840699188806025751, 2, 3), (11840699188806025751, 2, 4)]\n",
            "matches: [(11840699188806025751, 6, 7)]\n",
            "matches: [(11840699188806025751, 2, 3), (11840699188806025751, 2, 4)]\n",
            "matches: [(11840699188806025751, 1, 2), (11840699188806025751, 1, 3)]\n",
            "matches: [(11840699188806025751, 5, 6), (11840699188806025751, 5, 7)]\n",
            "matches: [(11840699188806025751, 6, 7)]\n",
            "matches: [(11840699188806025751, 3, 4)]\n",
            "matches: [(11840699188806025751, 2, 3)]\n",
            "matches: [(11840699188806025751, 3, 4), (11840699188806025751, 3, 5)]\n",
            "matches: [(11840699188806025751, 5, 6)]\n",
            "matches: [(11840699188806025751, 2, 3)]\n",
            "matches: [(11840699188806025751, 1, 2)]\n",
            "matches: [(11840699188806025751, 1, 2)]\n",
            "matches: [(11840699188806025751, 4, 5)]\n",
            "matches: [(11840699188806025751, 1, 2)]\n",
            "matches: [(11840699188806025751, 3, 4)]\n",
            "matches: [(11840699188806025751, 1, 2)]\n",
            "matches: [(11840699188806025751, 2, 3), (11840699188806025751, 2, 4)]\n",
            "matches: [(11840699188806025751, 3, 4), (11840699188806025751, 3, 5)]\n"
          ],
          "name": "stdout"
        },
        {
          "output_type": "stream",
          "text": [
            " 66%|██████▌   | 2839/4318 [00:33<00:16, 89.91it/s]"
          ],
          "name": "stderr"
        },
        {
          "output_type": "stream",
          "text": [
            "matches: [(11840699188806025751, 2, 3)]\n",
            "matches: [(11840699188806025751, 6, 7), (11840699188806025751, 6, 8)]\n",
            "matches: [(11840699188806025751, 2, 3)]\n",
            "matches: [(11840699188806025751, 2, 3)]\n",
            "matches: [(11840699188806025751, 2, 3)]\n",
            "matches: [(11840699188806025751, 0, 1)]\n",
            "matches: [(11840699188806025751, 6, 7)]\n",
            "matches: [(11840699188806025751, 3, 4)]\n",
            "matches: [(11840699188806025751, 2, 3)]\n",
            "matches: [(11840699188806025751, 2, 3), (11840699188806025751, 2, 4), (11840699188806025751, 2, 5)]\n",
            "matches: [(11840699188806025751, 2, 3)]\n",
            "matches: [(11840699188806025751, 6, 7), (11840699188806025751, 6, 8)]\n",
            "matches: [(11840699188806025751, 2, 3)]\n",
            "matches: [(11840699188806025751, 2, 3)]\n",
            "matches: [(11840699188806025751, 2, 3)]\n",
            "matches: [(11840699188806025751, 0, 1)]\n",
            "matches: [(11840699188806025751, 6, 7)]\n",
            "matches: [(11840699188806025751, 3, 4)]\n",
            "matches: [(11840699188806025751, 2, 3)]\n"
          ],
          "name": "stdout"
        },
        {
          "output_type": "stream",
          "text": [
            " 66%|██████▌   | 2858/4318 [00:33<00:16, 87.10it/s]"
          ],
          "name": "stderr"
        },
        {
          "output_type": "stream",
          "text": [
            "matches: [(11840699188806025751, 2, 3), (11840699188806025751, 2, 4), (11840699188806025751, 2, 5)]\n",
            "matches: [(11840699188806025751, 5, 6)]\n",
            "matches: [(11840699188806025751, 1, 2)]\n",
            "matches: [(11840699188806025751, 11, 12), (11840699188806025751, 11, 13)]\n",
            "matches: [(11840699188806025751, 8, 9)]\n",
            "matches: [(11840699188806025751, 7, 8)]\n",
            "matches: [(11840699188806025751, 1, 2)]\n",
            "matches: [(11840699188806025751, 3, 4)]\n",
            "matches: [(11840699188806025751, 2, 3), (11840699188806025751, 2, 4), (11840699188806025751, 2, 5)]\n",
            "matches: [(11840699188806025751, 9, 10)]\n",
            "matches: [(11840699188806025751, 4, 5), (11840699188806025751, 4, 6)]\n",
            "matches: [(11840699188806025751, 2, 3)]\n",
            "matches: [(11840699188806025751, 3, 4)]\n",
            "matches: [(11840699188806025751, 3, 4)]\n",
            "matches: [(11840699188806025751, 7, 8)]\n",
            "matches: [(11840699188806025751, 1, 2)]\n",
            "matches: [(11840699188806025751, 5, 6)]\n"
          ],
          "name": "stdout"
        },
        {
          "output_type": "stream",
          "text": [
            " 67%|██████▋   | 2876/4318 [00:33<00:16, 88.08it/s]"
          ],
          "name": "stderr"
        },
        {
          "output_type": "stream",
          "text": [
            "matches: [(11840699188806025751, 0, 1)]\n",
            "matches: [(11840699188806025751, 3, 4), (11840699188806025751, 3, 5)]\n",
            "matches: [(11840699188806025751, 1, 2)]\n",
            "matches: [(11840699188806025751, 2, 3), (11840699188806025751, 11, 12), (11840699188806025751, 11, 13)]\n",
            "matches: [(11840699188806025751, 1, 2)]\n",
            "matches: [(11840699188806025751, 5, 6)]\n",
            "matches: [(11840699188806025751, 1, 2), (11840699188806025751, 1, 3)]\n",
            "matches: [(11840699188806025751, 3, 4)]\n",
            "matches: [(11840699188806025751, 3, 4), (11840699188806025751, 3, 5)]\n",
            "matches: [(11840699188806025751, 1, 2), (11840699188806025751, 1, 3)]\n",
            "matches: [(11840699188806025751, 2, 3), (11840699188806025751, 2, 4)]\n",
            "matches: [(11840699188806025751, 2, 3), (11840699188806025751, 2, 4)]\n",
            "matches: [(11840699188806025751, 3, 4)]\n",
            "matches: [(11840699188806025751, 0, 1)]\n",
            "matches: [(11840699188806025751, 1, 2)]\n",
            "matches: [(11840699188806025751, 5, 6), (11840699188806025751, 5, 7)]\n",
            "matches: [(11840699188806025751, 3, 4), (11840699188806025751, 3, 5)]\n",
            "matches: [(11840699188806025751, 3, 4)]\n",
            "matches: [(11840699188806025751, 0, 1)]\n"
          ],
          "name": "stdout"
        },
        {
          "output_type": "stream",
          "text": [
            " 67%|██████▋   | 2895/4318 [00:33<00:15, 89.32it/s]"
          ],
          "name": "stderr"
        },
        {
          "output_type": "stream",
          "text": [
            "matches: [(11840699188806025751, 4, 5), (11840699188806025751, 4, 6)]\n",
            "matches: [(11840699188806025751, 4, 5), (11840699188806025751, 4, 6)]\n",
            "matches: [(11840699188806025751, 0, 1)]\n",
            "matches: [(11840699188806025751, 10, 11)]\n",
            "matches: [(11840699188806025751, 6, 7), (11840699188806025751, 6, 8), (11840699188806025751, 6, 9)]\n",
            "matches: [(11840699188806025751, 5, 6)]\n",
            "matches: [(11840699188806025751, 0, 1)]\n",
            "matches: [(11840699188806025751, 4, 5), (11840699188806025751, 4, 6)]\n",
            "matches: [(11840699188806025751, 3, 4)]\n",
            "matches: [(11840699188806025751, 1, 2)]\n",
            "matches: [(11840699188806025751, 1, 2)]\n",
            "matches: [(11840699188806025751, 3, 4), (11840699188806025751, 3, 5), (11840699188806025751, 3, 6)]\n",
            "matches: [(11840699188806025751, 1, 2)]\n",
            "matches: [(11840699188806025751, 8, 9), (11840699188806025751, 8, 10)]\n",
            "matches: [(11840699188806025751, 1, 2)]\n",
            "matches: [(11840699188806025751, 4, 5), (11840699188806025751, 4, 6)]\n",
            "matches: [(11840699188806025751, 5, 6), (11840699188806025751, 5, 7)]\n",
            "matches: [(11840699188806025751, 6, 7), (11840699188806025751, 6, 8)]\n",
            "matches: [(11840699188806025751, 6, 7)]\n"
          ],
          "name": "stdout"
        },
        {
          "output_type": "stream",
          "text": [
            " 67%|██████▋   | 2913/4318 [00:34<00:16, 83.62it/s]"
          ],
          "name": "stderr"
        },
        {
          "output_type": "stream",
          "text": [
            "matches: [(11840699188806025751, 4, 5)]\n",
            "matches: [(11840699188806025751, 3, 4), (11840699188806025751, 3, 5)]\n",
            "matches: [(11840699188806025751, 1, 2), (11840699188806025751, 1, 3)]\n",
            "matches: [(11840699188806025751, 2, 3)]\n",
            "matches: [(11840699188806025751, 2, 3), (11840699188806025751, 2, 4)]\n",
            "matches: [(11840699188806025751, 0, 1)]\n",
            "matches: [(11840699188806025751, 9, 10), (11840699188806025751, 9, 11)]\n",
            "matches: [(11840699188806025751, 10, 11), (11840699188806025751, 10, 12)]\n",
            "matches: [(11840699188806025751, 1, 2), (11840699188806025751, 1, 3)]\n",
            "matches: [(11840699188806025751, 2, 3)]\n",
            "matches: [(11840699188806025751, 2, 3)]\n",
            "matches: [(11840699188806025751, 2, 3)]\n",
            "matches: [(11840699188806025751, 1, 2)]\n",
            "matches: [(11840699188806025751, 2, 3)]\n",
            "matches: [(11840699188806025751, 2, 3), (11840699188806025751, 2, 4)]\n",
            "matches: [(11840699188806025751, 2, 3)]\n"
          ],
          "name": "stdout"
        },
        {
          "output_type": "stream",
          "text": [
            " 68%|██████▊   | 2932/4318 [00:34<00:15, 86.65it/s]"
          ],
          "name": "stderr"
        },
        {
          "output_type": "stream",
          "text": [
            "matches: [(11840699188806025751, 8, 9), (11840699188806025751, 8, 10)]\n",
            "matches: [(11840699188806025751, 4, 5)]\n",
            "matches: [(11840699188806025751, 2, 3)]\n",
            "matches: [(11840699188806025751, 1, 2)]\n",
            "matches: [(11840699188806025751, 9, 10), (11840699188806025751, 9, 11)]\n",
            "matches: [(11840699188806025751, 1, 2)]\n",
            "matches: [(11840699188806025751, 7, 8)]\n",
            "matches: [(11840699188806025751, 1, 2)]\n",
            "matches: [(11840699188806025751, 3, 4)]\n",
            "matches: [(11840699188806025751, 4, 5)]\n",
            "matches: [(11840699188806025751, 8, 9), (11840699188806025751, 8, 10)]\n",
            "matches: [(11840699188806025751, 2, 3), (11840699188806025751, 2, 4)]\n",
            "matches: [(11840699188806025751, 3, 4), (11840699188806025751, 3, 5)]\n",
            "matches: [(11840699188806025751, 3, 4), (11840699188806025751, 3, 5)]\n",
            "matches: [(11840699188806025751, 2, 3), (11840699188806025751, 2, 4)]\n",
            "matches: [(11840699188806025751, 3, 4)]\n",
            "matches: [(11840699188806025751, 4, 5), (11840699188806025751, 4, 6)]\n",
            "matches: [(11840699188806025751, 3, 4), (11840699188806025751, 3, 5), (11840699188806025751, 3, 6)]\n",
            "matches: [(11840699188806025751, 3, 4)]\n"
          ],
          "name": "stdout"
        },
        {
          "output_type": "stream",
          "text": [
            " 68%|██████▊   | 2951/4318 [00:34<00:15, 89.30it/s]"
          ],
          "name": "stderr"
        },
        {
          "output_type": "stream",
          "text": [
            "matches: [(11840699188806025751, 3, 4)]\n",
            "matches: [(11840699188806025751, 6, 7), (11840699188806025751, 6, 8)]\n",
            "matches: [(11840699188806025751, 3, 4)]\n",
            "matches: [(11840699188806025751, 1, 2)]\n",
            "matches: [(11840699188806025751, 3, 4)]\n",
            "matches: [(11840699188806025751, 1, 2)]\n",
            "matches: [(11840699188806025751, 6, 7), (11840699188806025751, 6, 8)]\n",
            "matches: [(11840699188806025751, 1, 2)]\n",
            "matches: [(11840699188806025751, 1, 2)]\n",
            "matches: [(11840699188806025751, 7, 8)]\n",
            "matches: [(11840699188806025751, 3, 4), (11840699188806025751, 3, 5)]\n",
            "matches: [(11840699188806025751, 1, 2)]\n",
            "matches: [(11840699188806025751, 2, 3)]\n",
            "matches: [(11840699188806025751, 7, 8)]\n",
            "matches: [(11840699188806025751, 1, 2), (11840699188806025751, 1, 3)]\n",
            "matches: [(11840699188806025751, 1, 2)]\n",
            "matches: [(11840699188806025751, 5, 6)]\n",
            "matches: [(11840699188806025751, 3, 4), (11840699188806025751, 3, 5)]\n",
            "matches: [(11840699188806025751, 1, 2), (11840699188806025751, 1, 3)]\n"
          ],
          "name": "stdout"
        },
        {
          "output_type": "stream",
          "text": [
            "\r 69%|██████▊   | 2961/4318 [00:34<00:15, 89.87it/s]"
          ],
          "name": "stderr"
        },
        {
          "output_type": "stream",
          "text": [
            "matches: [(11840699188806025751, 2, 3), (11840699188806025751, 2, 4)]\n",
            "matches: [(11840699188806025751, 2, 3)]\n",
            "matches: [(11840699188806025751, 6, 7)]\n",
            "matches: [(11840699188806025751, 1, 2)]\n",
            "matches: [(11840699188806025751, 9, 10), (11840699188806025751, 9, 11)]\n",
            "matches: [(11840699188806025751, 6, 7)]\n",
            "matches: [(11840699188806025751, 1, 2), (11840699188806025751, 1, 3)]\n",
            "matches: [(11840699188806025751, 1, 2)]\n",
            "matches: [(11840699188806025751, 1, 2)]\n",
            "matches: [(11840699188806025751, 2, 3)]\n",
            "matches: [(11840699188806025751, 1, 2)]\n",
            "matches: [(11840699188806025751, 5, 6)]\n",
            "matches: [(11840699188806025751, 2, 3), (11840699188806025751, 2, 4)]\n",
            "matches: [(11840699188806025751, 1, 2)]\n",
            "matches: [(11840699188806025751, 1, 2)]\n",
            "matches: [(11840699188806025751, 3, 4), (11840699188806025751, 3, 5)]\n",
            "matches: [(11840699188806025751, 1, 2)]\n",
            "matches: [(11840699188806025751, 12, 13)]\n",
            "matches: [(11840699188806025751, 9, 10)]\n"
          ],
          "name": "stdout"
        },
        {
          "output_type": "stream",
          "text": [
            " 69%|██████▉   | 2981/4318 [00:34<00:14, 91.20it/s]"
          ],
          "name": "stderr"
        },
        {
          "output_type": "stream",
          "text": [
            "matches: [(11840699188806025751, 6, 7)]\n",
            "matches: [(11840699188806025751, 5, 6)]\n",
            "matches: [(11840699188806025751, 1, 2)]\n",
            "matches: [(11840699188806025751, 8, 9)]\n",
            "matches: [(11840699188806025751, 2, 3)]\n",
            "matches: [(11840699188806025751, 3, 4)]\n",
            "matches: [(11840699188806025751, 7, 8)]\n",
            "matches: [(11840699188806025751, 3, 4)]\n",
            "matches: [(11840699188806025751, 4, 5)]\n",
            "matches: [(11840699188806025751, 1, 2)]\n",
            "matches: [(11840699188806025751, 2, 3)]\n",
            "matches: [(11840699188806025751, 4, 5)]\n",
            "matches: [(11840699188806025751, 1, 2)]\n",
            "matches: [(11840699188806025751, 1, 2)]\n",
            "matches: [(11840699188806025751, 2, 3)]\n",
            "matches: [(11840699188806025751, 1, 2)]\n",
            "matches: [(11840699188806025751, 8, 9), (11840699188806025751, 8, 10)]\n",
            "matches: [(11840699188806025751, 4, 5)]\n",
            "matches: [(11840699188806025751, 8, 9)]\n",
            "matches: [(11840699188806025751, 6, 7)]\n"
          ],
          "name": "stdout"
        },
        {
          "output_type": "stream",
          "text": [
            " 69%|██████▉   | 3001/4318 [00:35<00:14, 91.76it/s]"
          ],
          "name": "stderr"
        },
        {
          "output_type": "stream",
          "text": [
            "matches: [(11840699188806025751, 4, 5), (11840699188806025751, 4, 6)]\n",
            "matches: [(11840699188806025751, 3, 4)]\n",
            "matches: [(11840699188806025751, 4, 5)]\n",
            "matches: [(11840699188806025751, 4, 5), (11840699188806025751, 4, 6), (11840699188806025751, 4, 7)]\n",
            "matches: [(11840699188806025751, 3, 4)]\n",
            "matches: [(11840699188806025751, 6, 7)]\n",
            "matches: [(11840699188806025751, 5, 6), (11840699188806025751, 5, 7)]\n",
            "matches: [(11840699188806025751, 5, 6)]\n",
            "matches: [(11840699188806025751, 2, 3), (11840699188806025751, 2, 4)]\n",
            "matches: [(11840699188806025751, 7, 8), (11840699188806025751, 7, 9)]\n",
            "matches: [(11840699188806025751, 4, 5)]\n",
            "matches: [(11840699188806025751, 3, 4)]\n",
            "matches: [(11840699188806025751, 1, 2)]\n",
            "matches: [(11840699188806025751, 8, 9)]\n",
            "matches: [(11840699188806025751, 5, 6)]\n",
            "matches: [(11840699188806025751, 4, 5), (11840699188806025751, 4, 6)]\n",
            "matches: [(11840699188806025751, 2, 3)]\n",
            "matches: [(11840699188806025751, 3, 4), (11840699188806025751, 3, 5)]\n",
            "matches: [(11840699188806025751, 1, 2)]\n"
          ],
          "name": "stdout"
        },
        {
          "output_type": "stream",
          "text": [
            " 70%|██████▉   | 3021/4318 [00:35<00:14, 90.77it/s]"
          ],
          "name": "stderr"
        },
        {
          "output_type": "stream",
          "text": [
            "matches: [(11840699188806025751, 1, 2)]\n",
            "matches: [(11840699188806025751, 4, 5)]\n",
            "matches: [(11840699188806025751, 1, 2)]\n",
            "matches: [(11840699188806025751, 2, 3)]\n",
            "matches: [(11840699188806025751, 3, 4)]\n",
            "matches: [(11840699188806025751, 3, 4)]\n",
            "matches: [(11840699188806025751, 3, 4)]\n",
            "matches: [(11840699188806025751, 5, 6), (11840699188806025751, 5, 7)]\n",
            "matches: [(11840699188806025751, 5, 6)]\n",
            "matches: [(11840699188806025751, 7, 8)]\n",
            "matches: [(11840699188806025751, 2, 3)]\n",
            "matches: [(11840699188806025751, 1, 2)]\n",
            "matches: [(11840699188806025751, 2, 3)]\n",
            "matches: [(11840699188806025751, 4, 5), (11840699188806025751, 4, 6)]\n",
            "matches: [(11840699188806025751, 1, 2), (11840699188806025751, 1, 3)]\n",
            "matches: [(11840699188806025751, 12, 13)]\n",
            "matches: [(11840699188806025751, 2, 3)]\n",
            "matches: [(11840699188806025751, 8, 9)]\n",
            "matches: [(11840699188806025751, 6, 7)]\n"
          ],
          "name": "stdout"
        },
        {
          "output_type": "stream",
          "text": [
            " 70%|███████   | 3041/4318 [00:35<00:13, 91.54it/s]"
          ],
          "name": "stderr"
        },
        {
          "output_type": "stream",
          "text": [
            "matches: [(11840699188806025751, 3, 4)]\n",
            "matches: [(11840699188806025751, 3, 4), (11840699188806025751, 3, 5)]\n",
            "matches: [(11840699188806025751, 9, 10)]\n",
            "matches: [(11840699188806025751, 7, 8)]\n",
            "matches: [(11840699188806025751, 3, 4)]\n",
            "matches: [(11840699188806025751, 5, 6), (11840699188806025751, 5, 7)]\n",
            "matches: [(11840699188806025751, 3, 4), (11840699188806025751, 3, 5)]\n",
            "matches: [(11840699188806025751, 2, 3)]\n",
            "matches: [(11840699188806025751, 3, 4), (11840699188806025751, 3, 5)]\n",
            "matches: [(11840699188806025751, 6, 7)]\n",
            "matches: [(11840699188806025751, 5, 6)]\n",
            "matches: [(11840699188806025751, 6, 7)]\n",
            "matches: [(11840699188806025751, 3, 4), (11840699188806025751, 3, 5)]\n",
            "matches: [(11840699188806025751, 10, 11)]\n",
            "matches: [(11840699188806025751, 3, 4), (11840699188806025751, 3, 5)]\n",
            "matches: [(11840699188806025751, 2, 3)]\n",
            "matches: [(11840699188806025751, 7, 8)]\n",
            "matches: [(11840699188806025751, 3, 4)]\n",
            "matches: [(11840699188806025751, 1, 2)]\n"
          ],
          "name": "stdout"
        },
        {
          "output_type": "stream",
          "text": [
            " 71%|███████   | 3061/4318 [00:35<00:13, 91.09it/s]"
          ],
          "name": "stderr"
        },
        {
          "output_type": "stream",
          "text": [
            "matches: [(11840699188806025751, 8, 9)]\n",
            "matches: [(11840699188806025751, 7, 8)]\n",
            "matches: [(11840699188806025751, 1, 2)]\n",
            "matches: [(11840699188806025751, 1, 2)]\n",
            "matches: [(11840699188806025751, 5, 6), (11840699188806025751, 5, 7)]\n",
            "matches: [(11840699188806025751, 9, 10)]\n",
            "matches: [(11840699188806025751, 14, 15)]\n",
            "matches: [(11840699188806025751, 5, 6)]\n",
            "matches: [(11840699188806025751, 1, 2)]\n",
            "matches: [(11840699188806025751, 1, 2)]\n",
            "matches: [(11840699188806025751, 2, 3)]\n",
            "matches: [(11840699188806025751, 7, 8)]\n",
            "matches: [(11840699188806025751, 4, 5)]\n",
            "matches: [(11840699188806025751, 2, 3)]\n",
            "matches: [(11840699188806025751, 1, 2)]\n",
            "matches: [(11840699188806025751, 2, 3)]\n",
            "matches: [(11840699188806025751, 1, 2)]\n",
            "matches: [(11840699188806025751, 2, 3)]\n",
            "matches: [(11840699188806025751, 2, 3)]\n"
          ],
          "name": "stdout"
        },
        {
          "output_type": "stream",
          "text": [
            " 71%|███████▏  | 3081/4318 [00:35<00:13, 93.48it/s]"
          ],
          "name": "stderr"
        },
        {
          "output_type": "stream",
          "text": [
            "matches: [(11840699188806025751, 4, 5), (11840699188806025751, 4, 6), (11840699188806025751, 4, 7)]\n",
            "matches: [(11840699188806025751, 0, 1)]\n",
            "matches: [(11840699188806025751, 2, 3), (11840699188806025751, 2, 4)]\n",
            "matches: [(11840699188806025751, 10, 11)]\n",
            "matches: [(11840699188806025751, 1, 2)]\n",
            "matches: [(11840699188806025751, 1, 2)]\n",
            "matches: [(11840699188806025751, 5, 6)]\n",
            "matches: [(11840699188806025751, 2, 3)]\n",
            "matches: [(11840699188806025751, 5, 6)]\n",
            "matches: [(11840699188806025751, 2, 3)]\n",
            "matches: [(11840699188806025751, 11, 12)]\n",
            "matches: [(11840699188806025751, 3, 4)]\n",
            "matches: [(11840699188806025751, 5, 6)]\n",
            "matches: [(11840699188806025751, 1, 2)]\n",
            "matches: [(11840699188806025751, 4, 5)]\n",
            "matches: [(11840699188806025751, 2, 3)]\n",
            "matches: [(11840699188806025751, 4, 5), (11840699188806025751, 4, 6), (11840699188806025751, 4, 7)]\n",
            "matches: [(11840699188806025751, 7, 8), (11840699188806025751, 7, 9)]\n",
            "matches: [(11840699188806025751, 7, 8)]\n",
            "matches: [(11840699188806025751, 3, 4)]\n"
          ],
          "name": "stdout"
        },
        {
          "output_type": "stream",
          "text": [
            " 72%|███████▏  | 3101/4318 [00:36<00:14, 86.86it/s]"
          ],
          "name": "stderr"
        },
        {
          "output_type": "stream",
          "text": [
            "matches: [(11840699188806025751, 5, 6)]\n",
            "matches: [(11840699188806025751, 4, 5), (11840699188806025751, 4, 6), (11840699188806025751, 4, 7)]\n",
            "matches: [(11840699188806025751, 3, 4)]\n",
            "matches: [(11840699188806025751, 13, 14)]\n",
            "matches: [(11840699188806025751, 3, 4)]\n",
            "matches: [(11840699188806025751, 2, 3)]\n",
            "matches: [(11840699188806025751, 3, 4)]\n",
            "matches: [(11840699188806025751, 4, 5)]\n",
            "matches: [(11840699188806025751, 2, 3)]\n",
            "matches: [(11840699188806025751, 4, 5), (11840699188806025751, 4, 6)]\n",
            "matches: [(11840699188806025751, 2, 3)]\n",
            "matches: [(11840699188806025751, 2, 3)]\n",
            "matches: [(11840699188806025751, 2, 3), (11840699188806025751, 2, 4)]\n",
            "matches: [(11840699188806025751, 3, 4)]\n",
            "matches: [(11840699188806025751, 3, 4), (11840699188806025751, 3, 5)]\n",
            "matches: [(11840699188806025751, 2, 3)]\n"
          ],
          "name": "stdout"
        },
        {
          "output_type": "stream",
          "text": [
            " 72%|███████▏  | 3120/4318 [00:36<00:13, 88.11it/s]"
          ],
          "name": "stderr"
        },
        {
          "output_type": "stream",
          "text": [
            "matches: [(11840699188806025751, 2, 3)]\n",
            "matches: [(11840699188806025751, 8, 9)]\n",
            "matches: [(11840699188806025751, 2, 3)]\n",
            "matches: [(11840699188806025751, 3, 4)]\n",
            "matches: [(11840699188806025751, 4, 5), (11840699188806025751, 4, 6)]\n",
            "matches: [(11840699188806025751, 3, 4), (11840699188806025751, 3, 5)]\n",
            "matches: [(11840699188806025751, 3, 4), (11840699188806025751, 3, 5)]\n",
            "matches: [(11840699188806025751, 1, 2), (11840699188806025751, 7, 8), (11840699188806025751, 7, 9)]\n",
            "matches: [(11840699188806025751, 2, 3)]\n",
            "matches: [(11840699188806025751, 2, 3)]\n",
            "matches: [(11840699188806025751, 3, 4)]\n",
            "matches: [(11840699188806025751, 6, 7)]\n",
            "matches: [(11840699188806025751, 1, 2)]\n",
            "matches: [(11840699188806025751, 1, 2), (11840699188806025751, 1, 3)]\n",
            "matches: [(11840699188806025751, 2, 3), (11840699188806025751, 2, 4)]\n",
            "matches: [(11840699188806025751, 4, 5), (11840699188806025751, 4, 6)]\n",
            "matches: [(11840699188806025751, 2, 3)]\n",
            "matches: [(11840699188806025751, 1, 2)]\n",
            "matches: [(11840699188806025751, 7, 8)]\n"
          ],
          "name": "stdout"
        },
        {
          "output_type": "stream",
          "text": [
            " 73%|███████▎  | 3139/4318 [00:36<00:13, 89.34it/s]"
          ],
          "name": "stderr"
        },
        {
          "output_type": "stream",
          "text": [
            "matches: [(11840699188806025751, 1, 2)]\n",
            "matches: [(11840699188806025751, 3, 4)]\n",
            "matches: [(11840699188806025751, 1, 2), (11840699188806025751, 1, 3)]\n",
            "matches: [(11840699188806025751, 1, 2)]\n",
            "matches: [(11840699188806025751, 2, 3)]\n",
            "matches: [(11840699188806025751, 1, 2), (11840699188806025751, 1, 3)]\n",
            "matches: [(11840699188806025751, 1, 2)]\n",
            "matches: [(11840699188806025751, 4, 5)]\n",
            "matches: [(11840699188806025751, 2, 3), (11840699188806025751, 2, 4)]\n",
            "matches: [(11840699188806025751, 6, 7)]\n",
            "matches: [(11840699188806025751, 2, 3)]\n",
            "matches: [(11840699188806025751, 5, 6)]\n",
            "matches: [(11840699188806025751, 3, 4)]\n",
            "matches: [(11840699188806025751, 1, 2)]\n",
            "matches: [(11840699188806025751, 1, 2), (11840699188806025751, 1, 3)]\n",
            "matches: [(11840699188806025751, 6, 7)]\n",
            "matches: [(11840699188806025751, 1, 2)]\n",
            "matches: [(11840699188806025751, 2, 3), (11840699188806025751, 2, 4)]\n",
            "matches: [(11840699188806025751, 2, 3), (11840699188806025751, 2, 4)]\n"
          ],
          "name": "stdout"
        },
        {
          "output_type": "stream",
          "text": [
            " 73%|███████▎  | 3157/4318 [00:36<00:13, 88.12it/s]"
          ],
          "name": "stderr"
        },
        {
          "output_type": "stream",
          "text": [
            "matches: [(11840699188806025751, 0, 1)]\n",
            "matches: [(11840699188806025751, 1, 2), (11840699188806025751, 7, 8), (11840699188806025751, 7, 9)]\n",
            "matches: [(11840699188806025751, 2, 3)]\n",
            "matches: [(11840699188806025751, 2, 3)]\n",
            "matches: [(11840699188806025751, 3, 4)]\n",
            "matches: [(11840699188806025751, 6, 7)]\n",
            "matches: [(11840699188806025751, 1, 2)]\n",
            "matches: [(11840699188806025751, 1, 2), (11840699188806025751, 1, 3)]\n",
            "matches: [(11840699188806025751, 2, 3), (11840699188806025751, 2, 4)]\n",
            "matches: [(11840699188806025751, 4, 5), (11840699188806025751, 4, 6)]\n",
            "matches: [(11840699188806025751, 2, 3)]\n",
            "matches: [(11840699188806025751, 1, 2)]\n",
            "matches: [(11840699188806025751, 7, 8)]\n",
            "matches: [(11840699188806025751, 1, 2)]\n",
            "matches: [(11840699188806025751, 3, 4)]\n",
            "matches: [(11840699188806025751, 1, 2), (11840699188806025751, 1, 3)]\n",
            "matches: [(11840699188806025751, 1, 2)]\n",
            "matches: [(11840699188806025751, 2, 3)]\n"
          ],
          "name": "stdout"
        },
        {
          "output_type": "stream",
          "text": [
            " 74%|███████▎  | 3175/4318 [00:36<00:13, 87.37it/s]"
          ],
          "name": "stderr"
        },
        {
          "output_type": "stream",
          "text": [
            "matches: [(11840699188806025751, 1, 2), (11840699188806025751, 1, 3)]\n",
            "matches: [(11840699188806025751, 1, 2)]\n",
            "matches: [(11840699188806025751, 4, 5)]\n",
            "matches: [(11840699188806025751, 2, 3), (11840699188806025751, 2, 4)]\n",
            "matches: [(11840699188806025751, 6, 7)]\n",
            "matches: [(11840699188806025751, 2, 3)]\n",
            "matches: [(11840699188806025751, 5, 6)]\n",
            "matches: [(11840699188806025751, 3, 4)]\n",
            "matches: [(11840699188806025751, 1, 2)]\n",
            "matches: [(11840699188806025751, 1, 2), (11840699188806025751, 1, 3)]\n",
            "matches: [(11840699188806025751, 6, 7)]\n",
            "matches: [(11840699188806025751, 1, 2)]\n",
            "matches: [(11840699188806025751, 2, 3), (11840699188806025751, 2, 4)]\n",
            "matches: [(11840699188806025751, 2, 3), (11840699188806025751, 2, 4)]\n",
            "matches: [(11840699188806025751, 0, 1)]\n",
            "matches: [(11840699188806025751, 1, 2)]\n",
            "matches: [(11840699188806025751, 1, 2)]\n",
            "matches: [(11840699188806025751, 8, 9), (11840699188806025751, 8, 10)]\n"
          ],
          "name": "stdout"
        },
        {
          "output_type": "stream",
          "text": [
            " 74%|███████▍  | 3193/4318 [00:37<00:13, 85.24it/s]"
          ],
          "name": "stderr"
        },
        {
          "output_type": "stream",
          "text": [
            "matches: [(11840699188806025751, 3, 4)]\n",
            "matches: [(11840699188806025751, 2, 3)]\n",
            "matches: [(11840699188806025751, 5, 6)]\n",
            "matches: [(11840699188806025751, 1, 2)]\n",
            "matches: [(11840699188806025751, 8, 9)]\n",
            "matches: [(11840699188806025751, 4, 5)]\n",
            "matches: [(11840699188806025751, 2, 3)]\n",
            "matches: [(11840699188806025751, 2, 3)]\n",
            "matches: [(11840699188806025751, 10, 11)]\n",
            "matches: [(11840699188806025751, 4, 5)]\n",
            "matches: [(11840699188806025751, 3, 4)]\n",
            "matches: [(11840699188806025751, 8, 9)]\n",
            "matches: [(11840699188806025751, 2, 3)]\n",
            "matches: [(11840699188806025751, 9, 10)]\n",
            "matches: [(11840699188806025751, 2, 3), (11840699188806025751, 2, 4)]\n",
            "matches: [(11840699188806025751, 1, 2), (11840699188806025751, 1, 3)]\n",
            "matches: [(11840699188806025751, 2, 3)]\n",
            "matches: [(11840699188806025751, 1, 2)]\n"
          ],
          "name": "stdout"
        },
        {
          "output_type": "stream",
          "text": [
            " 74%|███████▍  | 3212/4318 [00:37<00:12, 86.21it/s]"
          ],
          "name": "stderr"
        },
        {
          "output_type": "stream",
          "text": [
            "matches: [(11840699188806025751, 5, 6)]\n",
            "matches: [(11840699188806025751, 4, 5)]\n",
            "matches: [(11840699188806025751, 1, 2)]\n",
            "matches: [(11840699188806025751, 3, 4)]\n",
            "matches: [(11840699188806025751, 4, 5)]\n",
            "matches: [(11840699188806025751, 10, 11)]\n",
            "matches: [(11840699188806025751, 6, 7)]\n",
            "matches: [(11840699188806025751, 6, 7)]\n",
            "matches: [(11840699188806025751, 3, 4)]\n",
            "matches: [(11840699188806025751, 3, 4)]\n",
            "matches: [(11840699188806025751, 4, 5), (11840699188806025751, 4, 6), (11840699188806025751, 4, 7)]\n",
            "matches: [(11840699188806025751, 9, 10), (11840699188806025751, 9, 11)]\n",
            "matches: [(11840699188806025751, 3, 4)]\n",
            "matches: [(11840699188806025751, 3, 4)]\n",
            "matches: [(11840699188806025751, 3, 4)]\n",
            "matches: [(11840699188806025751, 2, 3), (11840699188806025751, 2, 4)]\n",
            "matches: [(11840699188806025751, 4, 5), (11840699188806025751, 4, 6)]\n",
            "matches: [(11840699188806025751, 7, 8)]\n"
          ],
          "name": "stdout"
        },
        {
          "output_type": "stream",
          "text": [
            " 75%|███████▍  | 3232/4318 [00:37<00:12, 90.23it/s]"
          ],
          "name": "stderr"
        },
        {
          "output_type": "stream",
          "text": [
            "matches: [(11840699188806025751, 4, 5), (11840699188806025751, 4, 6)]\n",
            "matches: [(11840699188806025751, 2, 3), (11840699188806025751, 2, 4)]\n",
            "matches: [(11840699188806025751, 5, 6)]\n",
            "matches: [(11840699188806025751, 1, 2), (11840699188806025751, 1, 3), (11840699188806025751, 16, 17)]\n",
            "matches: [(11840699188806025751, 2, 3), (11840699188806025751, 2, 4)]\n",
            "matches: [(11840699188806025751, 4, 5), (11840699188806025751, 4, 6)]\n",
            "matches: [(11840699188806025751, 2, 3)]\n",
            "matches: [(11840699188806025751, 2, 3)]\n",
            "matches: [(11840699188806025751, 2, 3)]\n",
            "matches: [(11840699188806025751, 1, 2)]\n",
            "matches: [(11840699188806025751, 4, 5), (11840699188806025751, 4, 6)]\n",
            "matches: [(11840699188806025751, 2, 3)]\n",
            "matches: [(11840699188806025751, 2, 3)]\n",
            "matches: [(11840699188806025751, 2, 3)]\n",
            "matches: [(11840699188806025751, 3, 4)]\n",
            "matches: [(11840699188806025751, 5, 6), (11840699188806025751, 5, 7)]\n",
            "matches: [(11840699188806025751, 5, 6), (11840699188806025751, 5, 7)]\n",
            "matches: [(11840699188806025751, 5, 6), (11840699188806025751, 5, 7)]\n",
            "matches: [(11840699188806025751, 3, 4), (11840699188806025751, 3, 5)]\n",
            "matches: [(11840699188806025751, 3, 4)]\n"
          ],
          "name": "stdout"
        },
        {
          "output_type": "stream",
          "text": [
            "\r 75%|███████▌  | 3242/4318 [00:37<00:12, 87.58it/s]"
          ],
          "name": "stderr"
        },
        {
          "output_type": "stream",
          "text": [
            "matches: [(11840699188806025751, 8, 9)]\n",
            "matches: [(11840699188806025751, 2, 3)]\n",
            "matches: [(11840699188806025751, 11, 12), (11840699188806025751, 11, 13), (11840699188806025751, 11, 14)]\n",
            "matches: [(11840699188806025751, 3, 4)]\n",
            "matches: [(11840699188806025751, 3, 4), (11840699188806025751, 3, 5)]\n",
            "matches: [(11840699188806025751, 2, 3)]\n",
            "matches: [(11840699188806025751, 7, 8), (11840699188806025751, 7, 9)]\n",
            "matches: [(11840699188806025751, 3, 4), (11840699188806025751, 3, 5)]\n",
            "matches: [(11840699188806025751, 6, 7)]\n",
            "matches: [(11840699188806025751, 5, 6)]\n",
            "matches: [(11840699188806025751, 2, 3), (11840699188806025751, 2, 4)]\n",
            "matches: [(11840699188806025751, 1, 2)]\n",
            "matches: [(11840699188806025751, 2, 3)]\n",
            "matches: [(11840699188806025751, 2, 3), (11840699188806025751, 2, 4)]\n",
            "matches: [(11840699188806025751, 2, 3)]\n",
            "matches: [(11840699188806025751, 3, 4), (11840699188806025751, 3, 5)]\n",
            "matches: [(11840699188806025751, 6, 7)]\n",
            "matches: [(11840699188806025751, 7, 8)]\n"
          ],
          "name": "stdout"
        },
        {
          "output_type": "stream",
          "text": [
            " 76%|███████▌  | 3261/4318 [00:37<00:11, 89.37it/s]"
          ],
          "name": "stderr"
        },
        {
          "output_type": "stream",
          "text": [
            "matches: [(11840699188806025751, 4, 5)]\n",
            "matches: [(11840699188806025751, 4, 5), (11840699188806025751, 4, 6)]\n",
            "matches: [(11840699188806025751, 2, 3), (11840699188806025751, 2, 4)]\n",
            "matches: [(11840699188806025751, 4, 5)]\n",
            "matches: [(11840699188806025751, 2, 3), (11840699188806025751, 2, 4), (11840699188806025751, 2, 5)]\n",
            "matches: [(11840699188806025751, 4, 5), (11840699188806025751, 4, 6)]\n",
            "matches: [(11840699188806025751, 7, 8)]\n",
            "matches: [(11840699188806025751, 1, 2), (11840699188806025751, 1, 3)]\n",
            "matches: [(11840699188806025751, 1, 2)]\n",
            "matches: [(11840699188806025751, 1, 2)]\n",
            "matches: [(11840699188806025751, 8, 9), (11840699188806025751, 8, 10)]\n",
            "matches: [(11840699188806025751, 1, 2)]\n",
            "matches: [(11840699188806025751, 2, 3)]\n",
            "matches: [(11840699188806025751, 2, 3), (11840699188806025751, 2, 4)]\n",
            "matches: [(11840699188806025751, 3, 4)]\n",
            "matches: [(11840699188806025751, 2, 3)]\n",
            "matches: [(11840699188806025751, 8, 9)]\n",
            "matches: [(11840699188806025751, 1, 2)]\n",
            "matches: [(11840699188806025751, 3, 4), (11840699188806025751, 3, 5)]\n"
          ],
          "name": "stdout"
        },
        {
          "output_type": "stream",
          "text": [
            " 76%|███████▌  | 3279/4318 [00:38<00:11, 87.32it/s]"
          ],
          "name": "stderr"
        },
        {
          "output_type": "stream",
          "text": [
            "matches: [(11840699188806025751, 7, 8), (11840699188806025751, 7, 9)]\n",
            "matches: [(11840699188806025751, 6, 7)]\n",
            "matches: [(11840699188806025751, 3, 4), (11840699188806025751, 3, 5), (11840699188806025751, 3, 6)]\n",
            "matches: [(11840699188806025751, 15, 16)]\n",
            "matches: [(11840699188806025751, 4, 5), (11840699188806025751, 4, 6)]\n",
            "matches: [(11840699188806025751, 15, 16), (11840699188806025751, 15, 17)]\n",
            "matches: [(11840699188806025751, 3, 4), (11840699188806025751, 3, 5)]\n",
            "matches: [(11840699188806025751, 5, 6)]\n",
            "matches: [(11840699188806025751, 11, 12), (11840699188806025751, 11, 13)]\n",
            "matches: [(11840699188806025751, 18, 19), (11840699188806025751, 18, 20)]\n",
            "matches: [(11840699188806025751, 1, 2)]\n",
            "matches: [(11840699188806025751, 0, 1)]\n",
            "matches: [(11840699188806025751, 1, 2)]\n",
            "matches: [(11840699188806025751, 3, 4), (11840699188806025751, 3, 5)]\n",
            "matches: [(11840699188806025751, 0, 1), (11840699188806025751, 5, 6), (11840699188806025751, 5, 7)]\n",
            "matches: [(11840699188806025751, 2, 3), (11840699188806025751, 2, 4), (11840699188806025751, 2, 5)]\n",
            "matches: [(11840699188806025751, 1, 2)]\n",
            "matches: [(11840699188806025751, 2, 3)]\n",
            "matches: [(11840699188806025751, 3, 4)]\n"
          ],
          "name": "stdout"
        },
        {
          "output_type": "stream",
          "text": [
            " 76%|███████▋  | 3298/4318 [00:38<00:11, 88.94it/s]"
          ],
          "name": "stderr"
        },
        {
          "output_type": "stream",
          "text": [
            "matches: [(11840699188806025751, 3, 4), (11840699188806025751, 3, 5)]\n",
            "matches: [(11840699188806025751, 3, 4)]\n",
            "matches: [(11840699188806025751, 1, 2)]\n",
            "matches: [(11840699188806025751, 2, 3)]\n",
            "matches: [(11840699188806025751, 3, 4), (11840699188806025751, 3, 5)]\n",
            "matches: [(11840699188806025751, 11, 12), (11840699188806025751, 11, 13)]\n",
            "matches: [(11840699188806025751, 3, 4)]\n",
            "matches: [(11840699188806025751, 3, 4), (11840699188806025751, 3, 5)]\n",
            "matches: [(11840699188806025751, 7, 8)]\n",
            "matches: [(11840699188806025751, 3, 4), (11840699188806025751, 3, 5)]\n",
            "matches: [(11840699188806025751, 3, 4), (11840699188806025751, 3, 5)]\n",
            "matches: [(11840699188806025751, 2, 3)]\n",
            "matches: [(11840699188806025751, 3, 4), (11840699188806025751, 3, 5)]\n",
            "matches: [(11840699188806025751, 2, 3), (11840699188806025751, 2, 4)]\n",
            "matches: [(11840699188806025751, 4, 5), (11840699188806025751, 4, 6)]\n",
            "matches: [(11840699188806025751, 1, 2)]\n",
            "matches: [(11840699188806025751, 4, 5)]\n",
            "matches: [(11840699188806025751, 2, 3)]\n",
            "matches: [(11840699188806025751, 3, 4), (11840699188806025751, 3, 5)]\n"
          ],
          "name": "stdout"
        },
        {
          "output_type": "stream",
          "text": [
            " 77%|███████▋  | 3318/4318 [00:38<00:11, 90.59it/s]"
          ],
          "name": "stderr"
        },
        {
          "output_type": "stream",
          "text": [
            "matches: [(11840699188806025751, 9, 10)]\n",
            "matches: [(11840699188806025751, 1, 2)]\n",
            "matches: [(11840699188806025751, 7, 8)]\n",
            "matches: [(11840699188806025751, 1, 2), (11840699188806025751, 1, 3)]\n",
            "matches: [(11840699188806025751, 2, 3)]\n",
            "matches: [(11840699188806025751, 3, 4), (11840699188806025751, 3, 5)]\n",
            "matches: [(11840699188806025751, 4, 5), (11840699188806025751, 4, 6)]\n",
            "matches: [(11840699188806025751, 1, 2)]\n",
            "matches: [(11840699188806025751, 3, 4)]\n",
            "matches: [(11840699188806025751, 2, 3)]\n",
            "matches: [(11840699188806025751, 2, 3), (11840699188806025751, 2, 4)]\n",
            "matches: [(11840699188806025751, 3, 4), (11840699188806025751, 3, 5)]\n",
            "matches: [(11840699188806025751, 2, 3), (11840699188806025751, 2, 4), (11840699188806025751, 2, 5)]\n",
            "matches: [(11840699188806025751, 2, 3), (11840699188806025751, 2, 4)]\n",
            "matches: [(11840699188806025751, 6, 7)]\n",
            "matches: [(11840699188806025751, 7, 8)]\n",
            "matches: [(11840699188806025751, 4, 5)]\n",
            "matches: [(11840699188806025751, 4, 5)]\n",
            "matches: [(11840699188806025751, 3, 4)]\n"
          ],
          "name": "stdout"
        },
        {
          "output_type": "stream",
          "text": [
            " 77%|███████▋  | 3338/4318 [00:38<00:10, 89.64it/s]"
          ],
          "name": "stderr"
        },
        {
          "output_type": "stream",
          "text": [
            "matches: [(11840699188806025751, 4, 5)]\n",
            "matches: [(11840699188806025751, 4, 5)]\n",
            "matches: [(11840699188806025751, 3, 4)]\n",
            "matches: [(11840699188806025751, 2, 3), (11840699188806025751, 2, 4)]\n",
            "matches: [(11840699188806025751, 3, 4), (11840699188806025751, 3, 5)]\n",
            "matches: [(11840699188806025751, 7, 8)]\n",
            "matches: [(11840699188806025751, 5, 6)]\n",
            "matches: [(11840699188806025751, 4, 5)]\n",
            "matches: [(11840699188806025751, 2, 3), (11840699188806025751, 2, 4)]\n",
            "matches: [(11840699188806025751, 3, 4), (11840699188806025751, 3, 5)]\n",
            "matches: [(11840699188806025751, 5, 6)]\n",
            "matches: [(11840699188806025751, 2, 3), (11840699188806025751, 2, 4)]\n",
            "matches: [(11840699188806025751, 17, 18), (11840699188806025751, 17, 19)]\n",
            "matches: [(11840699188806025751, 8, 9)]\n",
            "matches: [(11840699188806025751, 10, 11), (11840699188806025751, 10, 12)]\n",
            "matches: [(11840699188806025751, 4, 5)]\n",
            "matches: [(11840699188806025751, 3, 4), (11840699188806025751, 3, 5)]\n",
            "matches: [(11840699188806025751, 4, 5)]\n",
            "matches: [(11840699188806025751, 7, 8)]\n",
            "matches: [(11840699188806025751, 9, 10), (11840699188806025751, 9, 11)]\n"
          ],
          "name": "stdout"
        },
        {
          "output_type": "stream",
          "text": [
            " 78%|███████▊  | 3356/4318 [00:39<00:10, 87.67it/s]"
          ],
          "name": "stderr"
        },
        {
          "output_type": "stream",
          "text": [
            "matches: [(11840699188806025751, 8, 9)]\n",
            "matches: [(11840699188806025751, 9, 10)]\n",
            "matches: [(11840699188806025751, 5, 6)]\n",
            "matches: [(11840699188806025751, 4, 5), (11840699188806025751, 4, 6)]\n",
            "matches: [(11840699188806025751, 9, 10)]\n",
            "matches: [(11840699188806025751, 5, 6)]\n",
            "matches: [(11840699188806025751, 6, 7)]\n",
            "matches: [(11840699188806025751, 7, 8), (11840699188806025751, 7, 9), (11840699188806025751, 7, 10)]\n",
            "matches: [(11840699188806025751, 4, 5), (11840699188806025751, 4, 6)]\n",
            "matches: [(11840699188806025751, 5, 6), (11840699188806025751, 5, 7)]\n",
            "matches: [(11840699188806025751, 4, 5), (11840699188806025751, 4, 6)]\n",
            "matches: [(11840699188806025751, 7, 8), (11840699188806025751, 7, 9)]\n",
            "matches: [(11840699188806025751, 2, 3)]\n",
            "matches: [(11840699188806025751, 3, 4)]\n",
            "matches: [(11840699188806025751, 6, 7), (11840699188806025751, 6, 8)]\n",
            "matches: [(11840699188806025751, 2, 3)]\n",
            "matches: [(11840699188806025751, 2, 3), (11840699188806025751, 2, 4)]\n",
            "matches: [(11840699188806025751, 8, 9)]\n"
          ],
          "name": "stdout"
        },
        {
          "output_type": "stream",
          "text": [
            " 78%|███████▊  | 3375/4318 [00:39<00:10, 89.55it/s]"
          ],
          "name": "stderr"
        },
        {
          "output_type": "stream",
          "text": [
            "matches: [(11840699188806025751, 3, 4)]\n",
            "matches: [(11840699188806025751, 5, 6), (11840699188806025751, 9, 10)]\n",
            "matches: [(11840699188806025751, 5, 6), (11840699188806025751, 5, 7)]\n",
            "matches: [(11840699188806025751, 9, 10)]\n",
            "matches: [(11840699188806025751, 7, 8)]\n",
            "matches: [(11840699188806025751, 1, 2)]\n",
            "matches: [(11840699188806025751, 1, 2)]\n",
            "matches: [(11840699188806025751, 1, 2)]\n",
            "matches: [(11840699188806025751, 4, 5)]\n",
            "matches: [(11840699188806025751, 3, 4), (11840699188806025751, 3, 5)]\n",
            "matches: [(11840699188806025751, 4, 5)]\n",
            "matches: [(11840699188806025751, 7, 8)]\n",
            "matches: [(11840699188806025751, 9, 10), (11840699188806025751, 9, 11)]\n",
            "matches: [(11840699188806025751, 8, 9)]\n",
            "matches: [(11840699188806025751, 9, 10)]\n",
            "matches: [(11840699188806025751, 5, 6)]\n",
            "matches: [(11840699188806025751, 4, 5), (11840699188806025751, 4, 6)]\n",
            "matches: [(11840699188806025751, 9, 10)]\n",
            "matches: [(11840699188806025751, 5, 6)]\n"
          ],
          "name": "stdout"
        },
        {
          "output_type": "stream",
          "text": [
            " 79%|███████▊  | 3394/4318 [00:39<00:10, 89.50it/s]"
          ],
          "name": "stderr"
        },
        {
          "output_type": "stream",
          "text": [
            "matches: [(11840699188806025751, 6, 7)]\n",
            "matches: [(11840699188806025751, 7, 8), (11840699188806025751, 7, 9), (11840699188806025751, 7, 10)]\n",
            "matches: [(11840699188806025751, 4, 5), (11840699188806025751, 4, 6)]\n",
            "matches: [(11840699188806025751, 5, 6), (11840699188806025751, 5, 7)]\n",
            "matches: [(11840699188806025751, 4, 5), (11840699188806025751, 4, 6)]\n",
            "matches: [(11840699188806025751, 7, 8), (11840699188806025751, 7, 9)]\n",
            "matches: [(11840699188806025751, 2, 3)]\n",
            "matches: [(11840699188806025751, 3, 4)]\n",
            "matches: [(11840699188806025751, 6, 7), (11840699188806025751, 6, 8)]\n",
            "matches: [(11840699188806025751, 2, 3)]\n",
            "matches: [(11840699188806025751, 2, 3), (11840699188806025751, 2, 4)]\n",
            "matches: [(11840699188806025751, 8, 9)]\n",
            "matches: [(11840699188806025751, 3, 4)]\n",
            "matches: [(11840699188806025751, 5, 6), (11840699188806025751, 9, 10)]\n",
            "matches: [(11840699188806025751, 5, 6), (11840699188806025751, 5, 7)]\n",
            "matches: [(11840699188806025751, 9, 10)]\n",
            "matches: [(11840699188806025751, 7, 8)]\n",
            "matches: [(11840699188806025751, 1, 2)]\n",
            "matches: [(11840699188806025751, 1, 2)]\n"
          ],
          "name": "stdout"
        },
        {
          "output_type": "stream",
          "text": [
            " 79%|███████▉  | 3412/4318 [00:39<00:10, 88.93it/s]"
          ],
          "name": "stderr"
        },
        {
          "output_type": "stream",
          "text": [
            "matches: [(11840699188806025751, 1, 2)]\n",
            "matches: [(11840699188806025751, 2, 3)]\n",
            "matches: [(11840699188806025751, 2, 3)]\n",
            "matches: [(11840699188806025751, 2, 3)]\n",
            "matches: [(11840699188806025751, 2, 3), (11840699188806025751, 2, 4)]\n",
            "matches: [(11840699188806025751, 2, 3)]\n",
            "matches: [(11840699188806025751, 1, 2)]\n",
            "matches: [(11840699188806025751, 5, 6)]\n",
            "matches: [(11840699188806025751, 12, 13)]\n",
            "matches: [(11840699188806025751, 4, 5), (11840699188806025751, 4, 6)]\n",
            "matches: [(11840699188806025751, 7, 8)]\n",
            "matches: [(11840699188806025751, 2, 3)]\n",
            "matches: [(11840699188806025751, 5, 6)]\n",
            "matches: [(11840699188806025751, 5, 6)]\n",
            "matches: [(11840699188806025751, 2, 3), (11840699188806025751, 2, 4)]\n",
            "matches: [(11840699188806025751, 1, 2)]\n",
            "matches: [(11840699188806025751, 1, 2)]\n",
            "matches: [(11840699188806025751, 2, 3)]\n"
          ],
          "name": "stdout"
        },
        {
          "output_type": "stream",
          "text": [
            " 79%|███████▉  | 3431/4318 [00:39<00:09, 89.45it/s]"
          ],
          "name": "stderr"
        },
        {
          "output_type": "stream",
          "text": [
            "matches: [(11840699188806025751, 2, 3)]\n",
            "matches: [(11840699188806025751, 4, 5), (11840699188806025751, 4, 6)]\n",
            "matches: [(11840699188806025751, 1, 2)]\n",
            "matches: [(11840699188806025751, 5, 6), (11840699188806025751, 5, 7)]\n",
            "matches: [(11840699188806025751, 2, 3)]\n",
            "matches: [(11840699188806025751, 5, 6), (11840699188806025751, 5, 7)]\n",
            "matches: [(11840699188806025751, 1, 2), (11840699188806025751, 4, 5)]\n",
            "matches: [(11840699188806025751, 6, 7), (11840699188806025751, 6, 8)]\n",
            "matches: [(11840699188806025751, 2, 3), (11840699188806025751, 2, 4)]\n",
            "matches: [(11840699188806025751, 1, 2)]\n",
            "matches: [(11840699188806025751, 2, 3)]\n",
            "matches: [(11840699188806025751, 3, 4)]\n",
            "matches: [(11840699188806025751, 1, 2)]\n",
            "matches: [(11840699188806025751, 2, 3), (11840699188806025751, 2, 4)]\n",
            "matches: [(11840699188806025751, 5, 6)]\n",
            "matches: [(11840699188806025751, 1, 2)]\n",
            "matches: [(11840699188806025751, 1, 2), (11840699188806025751, 4, 5)]\n",
            "matches: [(11840699188806025751, 6, 7), (11840699188806025751, 6, 8)]\n"
          ],
          "name": "stdout"
        },
        {
          "output_type": "stream",
          "text": [
            " 80%|███████▉  | 3449/4318 [00:40<00:09, 86.95it/s]"
          ],
          "name": "stderr"
        },
        {
          "output_type": "stream",
          "text": [
            "matches: [(11840699188806025751, 2, 3), (11840699188806025751, 2, 4)]\n",
            "matches: [(11840699188806025751, 1, 2)]\n",
            "matches: [(11840699188806025751, 2, 3)]\n",
            "matches: [(11840699188806025751, 3, 4)]\n",
            "matches: [(11840699188806025751, 1, 2)]\n",
            "matches: [(11840699188806025751, 2, 3), (11840699188806025751, 2, 4)]\n",
            "matches: [(11840699188806025751, 5, 6)]\n",
            "matches: [(11840699188806025751, 1, 2)]\n",
            "matches: [(11840699188806025751, 1, 2)]\n",
            "matches: [(11840699188806025751, 1, 2)]\n",
            "matches: [(11840699188806025751, 5, 6)]\n",
            "matches: [(11840699188806025751, 1, 2), (11840699188806025751, 1, 3)]\n",
            "matches: [(11840699188806025751, 6, 7)]\n",
            "matches: [(11840699188806025751, 5, 6), (11840699188806025751, 5, 7)]\n",
            "matches: [(11840699188806025751, 2, 3)]\n",
            "matches: [(11840699188806025751, 4, 5), (11840699188806025751, 4, 6)]\n",
            "matches: [(11840699188806025751, 7, 8)]\n",
            "matches: [(11840699188806025751, 7, 8), (11840699188806025751, 7, 9)]\n"
          ],
          "name": "stdout"
        },
        {
          "output_type": "stream",
          "text": [
            " 80%|████████  | 3468/4318 [00:40<00:09, 89.57it/s]"
          ],
          "name": "stderr"
        },
        {
          "output_type": "stream",
          "text": [
            "matches: [(11840699188806025751, 8, 9)]\n",
            "matches: [(11840699188806025751, 3, 4)]\n",
            "matches: [(11840699188806025751, 1, 2)]\n",
            "matches: [(11840699188806025751, 2, 3), (11840699188806025751, 2, 4)]\n",
            "matches: [(11840699188806025751, 1, 2)]\n",
            "matches: [(11840699188806025751, 4, 5)]\n",
            "matches: [(11840699188806025751, 5, 6), (11840699188806025751, 5, 7)]\n",
            "matches: [(11840699188806025751, 1, 2)]\n",
            "matches: [(11840699188806025751, 6, 7), (11840699188806025751, 6, 8)]\n",
            "matches: [(11840699188806025751, 2, 3)]\n",
            "matches: [(11840699188806025751, 1, 2)]\n",
            "matches: [(11840699188806025751, 2, 3)]\n",
            "matches: [(11840699188806025751, 1, 2), (11840699188806025751, 1, 3), (11840699188806025751, 6, 7)]\n",
            "matches: [(11840699188806025751, 2, 3)]\n",
            "matches: [(11840699188806025751, 1, 2), (11840699188806025751, 1, 3)]\n",
            "matches: [(11840699188806025751, 1, 2), (11840699188806025751, 1, 3)]\n",
            "matches: [(11840699188806025751, 3, 4), (11840699188806025751, 3, 5)]\n",
            "matches: [(11840699188806025751, 1, 2)]\n",
            "matches: [(11840699188806025751, 3, 4), (11840699188806025751, 3, 5)]\n",
            "matches: [(11840699188806025751, 2, 3), (11840699188806025751, 2, 4)]\n"
          ],
          "name": "stdout"
        },
        {
          "output_type": "stream",
          "text": [
            " 81%|████████  | 3488/4318 [00:40<00:09, 89.83it/s]"
          ],
          "name": "stderr"
        },
        {
          "output_type": "stream",
          "text": [
            "matches: [(11840699188806025751, 1, 2)]\n",
            "matches: [(11840699188806025751, 4, 5)]\n",
            "matches: [(11840699188806025751, 5, 6), (11840699188806025751, 5, 7)]\n",
            "matches: [(11840699188806025751, 1, 2)]\n",
            "matches: [(11840699188806025751, 6, 7), (11840699188806025751, 6, 8)]\n",
            "matches: [(11840699188806025751, 2, 3)]\n",
            "matches: [(11840699188806025751, 1, 2)]\n",
            "matches: [(11840699188806025751, 2, 3)]\n",
            "matches: [(11840699188806025751, 1, 2), (11840699188806025751, 1, 3), (11840699188806025751, 6, 7)]\n",
            "matches: [(11840699188806025751, 2, 3)]\n",
            "matches: [(11840699188806025751, 1, 2), (11840699188806025751, 1, 3)]\n",
            "matches: [(11840699188806025751, 1, 2), (11840699188806025751, 1, 3)]\n",
            "matches: [(11840699188806025751, 3, 4), (11840699188806025751, 3, 5)]\n",
            "matches: [(11840699188806025751, 1, 2)]\n",
            "matches: [(11840699188806025751, 3, 4), (11840699188806025751, 3, 5)]\n",
            "matches: [(11840699188806025751, 3, 4)]\n",
            "matches: [(11840699188806025751, 4, 5), (11840699188806025751, 4, 6)]\n",
            "matches: [(11840699188806025751, 2, 3)]\n",
            "matches: [(11840699188806025751, 4, 5), (11840699188806025751, 4, 6)]\n"
          ],
          "name": "stdout"
        },
        {
          "output_type": "stream",
          "text": [
            " 81%|████████  | 3506/4318 [00:40<00:09, 89.12it/s]"
          ],
          "name": "stderr"
        },
        {
          "output_type": "stream",
          "text": [
            "matches: [(11840699188806025751, 3, 4)]\n",
            "matches: [(11840699188806025751, 2, 3)]\n",
            "matches: [(11840699188806025751, 1, 2)]\n",
            "matches: [(11840699188806025751, 4, 5), (11840699188806025751, 4, 6)]\n",
            "matches: [(11840699188806025751, 3, 4)]\n",
            "matches: [(11840699188806025751, 3, 4)]\n",
            "matches: [(11840699188806025751, 6, 7), (11840699188806025751, 6, 8)]\n",
            "matches: [(11840699188806025751, 6, 7)]\n",
            "matches: [(11840699188806025751, 5, 6)]\n",
            "matches: [(11840699188806025751, 6, 7), (11840699188806025751, 6, 8)]\n",
            "matches: [(11840699188806025751, 3, 4), (11840699188806025751, 3, 5), (11840699188806025751, 3, 6)]\n",
            "matches: [(11840699188806025751, 4, 5), (11840699188806025751, 4, 6)]\n",
            "matches: [(11840699188806025751, 3, 4)]\n",
            "matches: [(11840699188806025751, 2, 3)]\n",
            "matches: [(11840699188806025751, 1, 2)]\n",
            "matches: [(11840699188806025751, 4, 5), (11840699188806025751, 4, 6)]\n",
            "matches: [(11840699188806025751, 3, 4)]\n",
            "matches: [(11840699188806025751, 3, 4)]\n"
          ],
          "name": "stdout"
        },
        {
          "output_type": "stream",
          "text": [
            " 82%|████████▏ | 3524/4318 [00:40<00:09, 87.54it/s]"
          ],
          "name": "stderr"
        },
        {
          "output_type": "stream",
          "text": [
            "matches: [(11840699188806025751, 6, 7), (11840699188806025751, 6, 8)]\n",
            "matches: [(11840699188806025751, 6, 7)]\n",
            "matches: [(11840699188806025751, 5, 6)]\n",
            "matches: [(11840699188806025751, 6, 7), (11840699188806025751, 6, 8)]\n",
            "matches: [(11840699188806025751, 3, 4), (11840699188806025751, 3, 5), (11840699188806025751, 3, 6)]\n",
            "matches: [(11840699188806025751, 23, 24), (11840699188806025751, 23, 25), (11840699188806025751, 23, 26)]\n",
            "matches: [(11840699188806025751, 2, 3)]\n",
            "matches: [(11840699188806025751, 6, 7), (11840699188806025751, 6, 8)]\n",
            "matches: [(11840699188806025751, 22, 23)]\n",
            "matches: [(11840699188806025751, 2, 3)]\n",
            "matches: [(11840699188806025751, 6, 7), (11840699188806025751, 6, 8)]\n",
            "matches: [(11840699188806025751, 1, 2)]\n",
            "matches: [(11840699188806025751, 5, 6), (11840699188806025751, 5, 7)]\n",
            "matches: [(11840699188806025751, 3, 4), (11840699188806025751, 3, 5)]\n",
            "matches: [(11840699188806025751, 2, 3)]\n",
            "matches: [(11840699188806025751, 1, 2)]\n",
            "matches: [(11840699188806025751, 4, 5)]\n",
            "matches: [(11840699188806025751, 2, 3), (11840699188806025751, 5, 6)]\n",
            "matches: [(11840699188806025751, 3, 4)]\n"
          ],
          "name": "stdout"
        },
        {
          "output_type": "stream",
          "text": [
            " 82%|████████▏ | 3542/4318 [00:41<00:08, 87.28it/s]"
          ],
          "name": "stderr"
        },
        {
          "output_type": "stream",
          "text": [
            "matches: [(11840699188806025751, 1, 2)]\n",
            "matches: [(11840699188806025751, 2, 3), (11840699188806025751, 2, 4)]\n",
            "matches: [(11840699188806025751, 1, 2)]\n",
            "matches: [(11840699188806025751, 2, 3)]\n",
            "matches: [(11840699188806025751, 1, 2)]\n",
            "matches: [(11840699188806025751, 4, 5), (11840699188806025751, 4, 6)]\n",
            "matches: [(11840699188806025751, 3, 4), (11840699188806025751, 3, 5)]\n",
            "matches: [(11840699188806025751, 3, 4)]\n",
            "matches: [(11840699188806025751, 8, 9), (11840699188806025751, 8, 10)]\n",
            "matches: [(11840699188806025751, 2, 3)]\n",
            "matches: [(11840699188806025751, 3, 4)]\n",
            "matches: [(11840699188806025751, 1, 2)]\n",
            "matches: [(11840699188806025751, 2, 3), (11840699188806025751, 2, 4)]\n",
            "matches: [(11840699188806025751, 1, 2)]\n",
            "matches: [(11840699188806025751, 2, 3)]\n",
            "matches: [(11840699188806025751, 1, 2)]\n",
            "matches: [(11840699188806025751, 4, 5), (11840699188806025751, 4, 6)]\n",
            "matches: [(11840699188806025751, 3, 4), (11840699188806025751, 3, 5)]\n",
            "matches: [(11840699188806025751, 3, 4)]\n"
          ],
          "name": "stdout"
        },
        {
          "output_type": "stream",
          "text": [
            " 82%|████████▏ | 3562/4318 [00:41<00:08, 88.80it/s]"
          ],
          "name": "stderr"
        },
        {
          "output_type": "stream",
          "text": [
            "matches: [(11840699188806025751, 8, 9), (11840699188806025751, 8, 10)]\n",
            "matches: [(11840699188806025751, 2, 3)]\n",
            "matches: [(11840699188806025751, 3, 4)]\n",
            "matches: [(11840699188806025751, 1, 2)]\n",
            "matches: [(11840699188806025751, 2, 3)]\n",
            "matches: [(11840699188806025751, 2, 3)]\n",
            "matches: [(11840699188806025751, 3, 4)]\n",
            "matches: [(11840699188806025751, 1, 2), (11840699188806025751, 1, 3)]\n",
            "matches: [(11840699188806025751, 4, 5), (11840699188806025751, 4, 6), (11840699188806025751, 4, 7)]\n",
            "matches: [(11840699188806025751, 5, 6), (11840699188806025751, 5, 7)]\n",
            "matches: [(11840699188806025751, 4, 5)]\n",
            "matches: [(11840699188806025751, 5, 6)]\n",
            "matches: [(11840699188806025751, 4, 5)]\n",
            "matches: [(11840699188806025751, 3, 4), (11840699188806025751, 3, 5)]\n",
            "matches: [(11840699188806025751, 5, 6), (11840699188806025751, 5, 7)]\n",
            "matches: [(11840699188806025751, 3, 4), (11840699188806025751, 3, 5)]\n",
            "matches: [(11840699188806025751, 3, 4)]\n",
            "matches: [(11840699188806025751, 10, 11), (11840699188806025751, 10, 12)]\n"
          ],
          "name": "stdout"
        },
        {
          "output_type": "stream",
          "text": [
            " 83%|████████▎ | 3581/4318 [00:41<00:08, 89.20it/s]"
          ],
          "name": "stderr"
        },
        {
          "output_type": "stream",
          "text": [
            "matches: [(11840699188806025751, 2, 3)]\n",
            "matches: [(11840699188806025751, 3, 4), (11840699188806025751, 3, 5)]\n",
            "matches: [(11840699188806025751, 2, 3), (11840699188806025751, 2, 4), (11840699188806025751, 2, 5)]\n",
            "matches: [(11840699188806025751, 2, 3)]\n",
            "matches: [(11840699188806025751, 9, 10)]\n",
            "matches: [(11840699188806025751, 0, 1)]\n",
            "matches: [(11840699188806025751, 8, 9)]\n",
            "matches: [(11840699188806025751, 3, 4), (11840699188806025751, 3, 5)]\n",
            "matches: [(11840699188806025751, 4, 5)]\n",
            "matches: [(11840699188806025751, 1, 2)]\n",
            "matches: [(11840699188806025751, 1, 2), (11840699188806025751, 1, 3)]\n",
            "matches: [(11840699188806025751, 3, 4)]\n",
            "matches: [(11840699188806025751, 3, 4)]\n",
            "matches: [(11840699188806025751, 3, 4)]\n",
            "matches: [(11840699188806025751, 2, 3)]\n",
            "matches: [(11840699188806025751, 1, 2)]\n",
            "matches: [(11840699188806025751, 5, 6)]\n",
            "matches: [(11840699188806025751, 2, 3)]\n",
            "matches: [(11840699188806025751, 1, 2)]\n"
          ],
          "name": "stdout"
        },
        {
          "output_type": "stream",
          "text": [
            " 83%|████████▎ | 3599/4318 [00:41<00:08, 85.80it/s]"
          ],
          "name": "stderr"
        },
        {
          "output_type": "stream",
          "text": [
            "matches: [(11840699188806025751, 5, 6), (11840699188806025751, 5, 7)]\n",
            "matches: [(11840699188806025751, 4, 5), (11840699188806025751, 4, 6)]\n",
            "matches: [(11840699188806025751, 5, 6)]\n",
            "matches: [(11840699188806025751, 4, 5), (11840699188806025751, 4, 6)]\n",
            "matches: [(11840699188806025751, 1, 2), (11840699188806025751, 3, 4)]\n",
            "matches: [(11840699188806025751, 1, 2)]\n",
            "matches: [(11840699188806025751, 3, 4), (11840699188806025751, 3, 5)]\n",
            "matches: [(11840699188806025751, 5, 6)]\n",
            "matches: [(11840699188806025751, 3, 4)]\n",
            "matches: [(11840699188806025751, 2, 3), (11840699188806025751, 2, 4)]\n",
            "matches: [(11840699188806025751, 1, 2), (11840699188806025751, 1, 3)]\n",
            "matches: [(11840699188806025751, 6, 7)]\n",
            "matches: [(11840699188806025751, 2, 3)]\n",
            "matches: [(11840699188806025751, 16, 17)]\n",
            "matches: [(11840699188806025751, 10, 11)]\n",
            "matches: [(11840699188806025751, 4, 5)]\n",
            "matches: [(11840699188806025751, 3, 4), (11840699188806025751, 3, 5)]\n"
          ],
          "name": "stdout"
        },
        {
          "output_type": "stream",
          "text": [
            " 84%|████████▍ | 3618/4318 [00:41<00:07, 88.58it/s]"
          ],
          "name": "stderr"
        },
        {
          "output_type": "stream",
          "text": [
            "matches: [(11840699188806025751, 7, 8), (11840699188806025751, 7, 9)]\n",
            "matches: [(11840699188806025751, 3, 4), (11840699188806025751, 3, 5)]\n",
            "matches: [(11840699188806025751, 3, 4), (11840699188806025751, 3, 5)]\n",
            "matches: [(11840699188806025751, 3, 4)]\n",
            "matches: [(11840699188806025751, 10, 11)]\n",
            "matches: [(11840699188806025751, 2, 3)]\n",
            "matches: [(11840699188806025751, 3, 4)]\n",
            "matches: [(11840699188806025751, 3, 4), (11840699188806025751, 3, 5), (11840699188806025751, 3, 6)]\n",
            "matches: [(11840699188806025751, 4, 5), (11840699188806025751, 4, 6), (11840699188806025751, 4, 7)]\n",
            "matches: [(11840699188806025751, 1, 2)]\n",
            "matches: [(11840699188806025751, 1, 2)]\n",
            "matches: [(11840699188806025751, 3, 4), (11840699188806025751, 3, 5)]\n",
            "matches: [(11840699188806025751, 3, 4)]\n",
            "matches: [(11840699188806025751, 4, 5), (11840699188806025751, 4, 6), (11840699188806025751, 4, 7)]\n",
            "matches: [(11840699188806025751, 7, 8), (11840699188806025751, 7, 9)]\n",
            "matches: [(11840699188806025751, 4, 5), (11840699188806025751, 4, 6)]\n",
            "matches: [(11840699188806025751, 2, 3), (11840699188806025751, 2, 4)]\n",
            "matches: [(11840699188806025751, 6, 7)]\n",
            "matches: [(11840699188806025751, 5, 6)]\n"
          ],
          "name": "stdout"
        },
        {
          "output_type": "stream",
          "text": [
            " 84%|████████▍ | 3637/4318 [00:42<00:07, 89.03it/s]"
          ],
          "name": "stderr"
        },
        {
          "output_type": "stream",
          "text": [
            "matches: [(11840699188806025751, 6, 7)]\n",
            "matches: [(11840699188806025751, 9, 10), (11840699188806025751, 9, 11)]\n",
            "matches: [(11840699188806025751, 6, 7), (11840699188806025751, 6, 8)]\n",
            "matches: [(11840699188806025751, 1, 2)]\n",
            "matches: [(11840699188806025751, 0, 1)]\n",
            "matches: [(11840699188806025751, 7, 8)]\n",
            "matches: [(11840699188806025751, 10, 11)]\n",
            "matches: [(11840699188806025751, 1, 2)]\n",
            "matches: [(11840699188806025751, 4, 5)]\n",
            "matches: [(11840699188806025751, 7, 8)]\n",
            "matches: [(11840699188806025751, 3, 4), (11840699188806025751, 3, 5)]\n",
            "matches: [(11840699188806025751, 6, 7)]\n",
            "matches: [(11840699188806025751, 2, 3), (11840699188806025751, 2, 4)]\n",
            "matches: [(11840699188806025751, 3, 4), (11840699188806025751, 3, 5)]\n",
            "matches: [(11840699188806025751, 2, 3)]\n",
            "matches: [(11840699188806025751, 1, 2)]\n",
            "matches: [(11840699188806025751, 2, 3)]\n",
            "matches: [(11840699188806025751, 6, 7), (11840699188806025751, 6, 8), (11840699188806025751, 6, 9)]\n",
            "matches: [(11840699188806025751, 3, 4), (11840699188806025751, 3, 5)]\n"
          ],
          "name": "stdout"
        },
        {
          "output_type": "stream",
          "text": [
            " 85%|████████▍ | 3655/4318 [00:42<00:07, 86.54it/s]"
          ],
          "name": "stderr"
        },
        {
          "output_type": "stream",
          "text": [
            "matches: [(11840699188806025751, 2, 3)]\n",
            "matches: [(11840699188806025751, 5, 6), (11840699188806025751, 5, 7)]\n",
            "matches: [(11840699188806025751, 2, 3)]\n",
            "matches: [(11840699188806025751, 1, 2)]\n",
            "matches: [(11840699188806025751, 2, 3)]\n",
            "matches: [(11840699188806025751, 5, 6), (11840699188806025751, 5, 7)]\n",
            "matches: [(11840699188806025751, 7, 8)]\n",
            "matches: [(11840699188806025751, 1, 2)]\n",
            "matches: [(11840699188806025751, 2, 3)]\n",
            "matches: [(11840699188806025751, 4, 5), (11840699188806025751, 4, 6)]\n",
            "matches: [(11840699188806025751, 14, 15), (11840699188806025751, 14, 16)]\n",
            "matches: [(11840699188806025751, 1, 2)]\n",
            "matches: [(11840699188806025751, 0, 1)]\n",
            "matches: [(11840699188806025751, 1, 2), (11840699188806025751, 1, 3)]\n",
            "matches: [(11840699188806025751, 3, 4), (11840699188806025751, 3, 5)]\n",
            "matches: [(11840699188806025751, 2, 3), (11840699188806025751, 2, 4)]\n",
            "matches: [(11840699188806025751, 8, 9)]\n",
            "matches: [(11840699188806025751, 2, 3)]\n"
          ],
          "name": "stdout"
        },
        {
          "output_type": "stream",
          "text": [
            " 85%|████████▌ | 3673/4318 [00:42<00:07, 86.90it/s]"
          ],
          "name": "stderr"
        },
        {
          "output_type": "stream",
          "text": [
            "matches: [(11840699188806025751, 3, 4), (11840699188806025751, 3, 5)]\n",
            "matches: [(11840699188806025751, 3, 4), (11840699188806025751, 3, 5)]\n",
            "matches: [(11840699188806025751, 1, 2)]\n",
            "matches: [(11840699188806025751, 3, 4), (11840699188806025751, 3, 5)]\n",
            "matches: [(11840699188806025751, 4, 5)]\n",
            "matches: [(11840699188806025751, 4, 5), (11840699188806025751, 4, 6)]\n",
            "matches: [(11840699188806025751, 5, 6)]\n",
            "matches: [(11840699188806025751, 1, 2)]\n",
            "matches: [(11840699188806025751, 0, 1)]\n",
            "matches: [(11840699188806025751, 4, 5), (11840699188806025751, 4, 6)]\n",
            "matches: [(11840699188806025751, 8, 9)]\n",
            "matches: [(11840699188806025751, 3, 4)]\n",
            "matches: [(11840699188806025751, 4, 5)]\n",
            "matches: [(11840699188806025751, 2, 3), (11840699188806025751, 2, 4)]\n",
            "matches: [(11840699188806025751, 2, 3)]\n",
            "matches: [(11840699188806025751, 2, 3)]\n",
            "matches: [(11840699188806025751, 1, 2)]\n",
            "matches: [(11840699188806025751, 4, 5)]\n",
            "matches: [(11840699188806025751, 2, 3), (11840699188806025751, 2, 4), (11840699188806025751, 2, 5)]\n"
          ],
          "name": "stdout"
        },
        {
          "output_type": "stream",
          "text": [
            " 86%|████████▌ | 3692/4318 [00:42<00:07, 86.60it/s]"
          ],
          "name": "stderr"
        },
        {
          "output_type": "stream",
          "text": [
            "matches: [(11840699188806025751, 0, 1)]\n",
            "matches: [(11840699188806025751, 1, 2)]\n",
            "matches: [(11840699188806025751, 15, 16)]\n",
            "matches: [(11840699188806025751, 1, 2)]\n",
            "matches: [(11840699188806025751, 4, 5)]\n",
            "matches: [(11840699188806025751, 6, 7), (11840699188806025751, 6, 8)]\n",
            "matches: [(11840699188806025751, 5, 6), (11840699188806025751, 5, 7)]\n",
            "matches: [(11840699188806025751, 5, 6)]\n",
            "matches: [(11840699188806025751, 8, 9)]\n",
            "matches: [(11840699188806025751, 2, 3)]\n",
            "matches: [(11840699188806025751, 2, 3)]\n",
            "matches: [(11840699188806025751, 5, 6), (11840699188806025751, 5, 7)]\n",
            "matches: [(11840699188806025751, 20, 21), (11840699188806025751, 20, 22)]\n",
            "matches: [(11840699188806025751, 4, 5), (11840699188806025751, 4, 6)]\n",
            "matches: [(11840699188806025751, 5, 6)]\n",
            "matches: [(11840699188806025751, 4, 5)]\n",
            "matches: [(11840699188806025751, 1, 2)]\n"
          ],
          "name": "stdout"
        },
        {
          "output_type": "stream",
          "text": [
            " 86%|████████▌ | 3710/4318 [00:43<00:07, 85.44it/s]"
          ],
          "name": "stderr"
        },
        {
          "output_type": "stream",
          "text": [
            "matches: [(11840699188806025751, 2, 3), (11840699188806025751, 2, 4)]\n",
            "matches: [(11840699188806025751, 5, 6)]\n",
            "matches: [(11840699188806025751, 9, 10)]\n",
            "matches: [(11840699188806025751, 3, 4)]\n",
            "matches: [(11840699188806025751, 15, 16)]\n",
            "matches: [(11840699188806025751, 1, 2)]\n",
            "matches: [(11840699188806025751, 4, 5)]\n",
            "matches: [(11840699188806025751, 6, 7), (11840699188806025751, 6, 8)]\n",
            "matches: [(11840699188806025751, 5, 6), (11840699188806025751, 5, 7)]\n",
            "matches: [(11840699188806025751, 5, 6)]\n",
            "matches: [(11840699188806025751, 8, 9)]\n",
            "matches: [(11840699188806025751, 2, 3)]\n",
            "matches: [(11840699188806025751, 2, 3)]\n",
            "matches: [(11840699188806025751, 5, 6), (11840699188806025751, 5, 7)]\n",
            "matches: [(11840699188806025751, 20, 21), (11840699188806025751, 20, 22)]\n",
            "matches: [(11840699188806025751, 4, 5), (11840699188806025751, 4, 6)]\n",
            "matches: [(11840699188806025751, 5, 6)]\n",
            "matches: [(11840699188806025751, 4, 5)]\n"
          ],
          "name": "stdout"
        },
        {
          "output_type": "stream",
          "text": [
            " 86%|████████▋ | 3729/4318 [00:43<00:06, 87.90it/s]"
          ],
          "name": "stderr"
        },
        {
          "output_type": "stream",
          "text": [
            "matches: [(11840699188806025751, 1, 2)]\n",
            "matches: [(11840699188806025751, 2, 3), (11840699188806025751, 2, 4)]\n",
            "matches: [(11840699188806025751, 5, 6)]\n",
            "matches: [(11840699188806025751, 9, 10)]\n",
            "matches: [(11840699188806025751, 3, 4)]\n",
            "matches: [(11840699188806025751, 1, 2)]\n",
            "matches: [(11840699188806025751, 0, 1)]\n",
            "matches: [(11840699188806025751, 2, 3)]\n",
            "matches: [(11840699188806025751, 1, 2)]\n",
            "matches: [(11840699188806025751, 3, 4), (11840699188806025751, 3, 5)]\n",
            "matches: [(11840699188806025751, 4, 5)]\n",
            "matches: [(11840699188806025751, 5, 6), (11840699188806025751, 5, 7)]\n",
            "matches: [(11840699188806025751, 1, 2)]\n",
            "matches: [(11840699188806025751, 3, 4)]\n",
            "matches: [(11840699188806025751, 1, 2)]\n",
            "matches: [(11840699188806025751, 2, 3), (11840699188806025751, 2, 4)]\n",
            "matches: [(11840699188806025751, 4, 5), (11840699188806025751, 4, 6)]\n",
            "matches: [(11840699188806025751, 3, 4), (11840699188806025751, 3, 5)]\n",
            "matches: [(11840699188806025751, 2, 3)]\n"
          ],
          "name": "stdout"
        },
        {
          "output_type": "stream",
          "text": [
            " 87%|████████▋ | 3748/4318 [00:43<00:06, 89.00it/s]"
          ],
          "name": "stderr"
        },
        {
          "output_type": "stream",
          "text": [
            "matches: [(11840699188806025751, 3, 4), (11840699188806025751, 3, 5)]\n",
            "matches: [(11840699188806025751, 2, 3)]\n",
            "matches: [(11840699188806025751, 2, 3), (11840699188806025751, 2, 4)]\n",
            "matches: [(11840699188806025751, 1, 2)]\n",
            "matches: [(11840699188806025751, 5, 6), (11840699188806025751, 5, 7)]\n",
            "matches: [(11840699188806025751, 1, 2)]\n",
            "matches: [(11840699188806025751, 2, 3), (11840699188806025751, 2, 4)]\n",
            "matches: [(11840699188806025751, 2, 3)]\n",
            "matches: [(11840699188806025751, 2, 3)]\n",
            "matches: [(11840699188806025751, 1, 2)]\n",
            "matches: [(11840699188806025751, 1, 2)]\n",
            "matches: [(11840699188806025751, 3, 4), (11840699188806025751, 3, 5)]\n",
            "matches: [(11840699188806025751, 3, 4), (11840699188806025751, 3, 5)]\n",
            "matches: [(11840699188806025751, 4, 5), (11840699188806025751, 4, 6)]\n",
            "matches: [(11840699188806025751, 1, 2)]\n",
            "matches: [(11840699188806025751, 2, 3)]\n",
            "matches: [(11840699188806025751, 4, 5)]\n",
            "matches: [(11840699188806025751, 3, 4), (11840699188806025751, 3, 5)]\n"
          ],
          "name": "stdout"
        },
        {
          "output_type": "stream",
          "text": [
            " 87%|████████▋ | 3767/4318 [00:43<00:06, 89.04it/s]"
          ],
          "name": "stderr"
        },
        {
          "output_type": "stream",
          "text": [
            "matches: [(11840699188806025751, 8, 9)]\n",
            "matches: [(11840699188806025751, 5, 6), (11840699188806025751, 5, 7)]\n",
            "matches: [(11840699188806025751, 5, 6), (11840699188806025751, 5, 7)]\n",
            "matches: [(11840699188806025751, 6, 7), (11840699188806025751, 6, 8)]\n",
            "matches: [(11840699188806025751, 6, 7)]\n",
            "matches: [(11840699188806025751, 7, 8)]\n",
            "matches: [(11840699188806025751, 5, 6)]\n",
            "matches: [(11840699188806025751, 2, 3), (11840699188806025751, 2, 4)]\n",
            "matches: [(11840699188806025751, 2, 3), (11840699188806025751, 2, 4)]\n",
            "matches: [(11840699188806025751, 3, 4), (11840699188806025751, 3, 5)]\n",
            "matches: [(11840699188806025751, 3, 4), (11840699188806025751, 3, 5), (11840699188806025751, 3, 6)]\n",
            "matches: [(11840699188806025751, 4, 5), (11840699188806025751, 4, 6)]\n",
            "matches: [(11840699188806025751, 2, 3), (11840699188806025751, 2, 4)]\n",
            "matches: [(11840699188806025751, 1, 2)]\n",
            "matches: [(11840699188806025751, 2, 3)]\n",
            "matches: [(11840699188806025751, 1, 2)]\n",
            "matches: [(11840699188806025751, 1, 2)]\n",
            "matches: [(11840699188806025751, 6, 7)]\n",
            "matches: [(11840699188806025751, 4, 5), (11840699188806025751, 4, 6)]\n"
          ],
          "name": "stdout"
        },
        {
          "output_type": "stream",
          "text": [
            " 88%|████████▊ | 3786/4318 [00:43<00:05, 90.63it/s]"
          ],
          "name": "stderr"
        },
        {
          "output_type": "stream",
          "text": [
            "matches: [(11840699188806025751, 1, 2)]\n",
            "matches: [(11840699188806025751, 3, 4), (11840699188806025751, 3, 5)]\n",
            "matches: [(11840699188806025751, 8, 9)]\n",
            "matches: [(11840699188806025751, 5, 6), (11840699188806025751, 5, 7)]\n",
            "matches: [(11840699188806025751, 5, 6), (11840699188806025751, 5, 7)]\n",
            "matches: [(11840699188806025751, 6, 7), (11840699188806025751, 6, 8)]\n",
            "matches: [(11840699188806025751, 6, 7)]\n",
            "matches: [(11840699188806025751, 7, 8)]\n",
            "matches: [(11840699188806025751, 5, 6)]\n",
            "matches: [(11840699188806025751, 2, 3), (11840699188806025751, 2, 4)]\n",
            "matches: [(11840699188806025751, 2, 3), (11840699188806025751, 2, 4)]\n",
            "matches: [(11840699188806025751, 3, 4), (11840699188806025751, 3, 5)]\n",
            "matches: [(11840699188806025751, 3, 4), (11840699188806025751, 3, 5), (11840699188806025751, 3, 6)]\n",
            "matches: [(11840699188806025751, 4, 5), (11840699188806025751, 4, 6)]\n",
            "matches: [(11840699188806025751, 2, 3), (11840699188806025751, 2, 4)]\n",
            "matches: [(11840699188806025751, 1, 2)]\n",
            "matches: [(11840699188806025751, 2, 3)]\n",
            "matches: [(11840699188806025751, 1, 2)]\n",
            "matches: [(11840699188806025751, 1, 2)]\n"
          ],
          "name": "stdout"
        },
        {
          "output_type": "stream",
          "text": [
            " 88%|████████▊ | 3806/4318 [00:44<00:05, 88.96it/s]"
          ],
          "name": "stderr"
        },
        {
          "output_type": "stream",
          "text": [
            "matches: [(11840699188806025751, 6, 7)]\n",
            "matches: [(11840699188806025751, 4, 5), (11840699188806025751, 4, 6)]\n",
            "matches: [(11840699188806025751, 1, 2)]\n",
            "matches: [(11840699188806025751, 3, 4)]\n",
            "matches: [(11840699188806025751, 10, 11), (11840699188806025751, 10, 12)]\n",
            "matches: [(11840699188806025751, 4, 5)]\n",
            "matches: [(11840699188806025751, 6, 7), (11840699188806025751, 6, 8)]\n",
            "matches: [(11840699188806025751, 1, 2)]\n",
            "matches: [(11840699188806025751, 5, 6), (11840699188806025751, 5, 7)]\n",
            "matches: [(11840699188806025751, 2, 3), (11840699188806025751, 2, 4)]\n",
            "matches: [(11840699188806025751, 7, 8), (11840699188806025751, 7, 9), (11840699188806025751, 7, 10)]\n",
            "matches: [(11840699188806025751, 4, 5)]\n",
            "matches: [(11840699188806025751, 2, 3)]\n",
            "matches: [(11840699188806025751, 3, 4), (11840699188806025751, 3, 5)]\n",
            "matches: [(11840699188806025751, 2, 3), (11840699188806025751, 2, 4)]\n",
            "matches: [(11840699188806025751, 7, 8), (11840699188806025751, 7, 9), (11840699188806025751, 7, 10)]\n",
            "matches: [(11840699188806025751, 4, 5)]\n",
            "matches: [(11840699188806025751, 2, 3)]\n"
          ],
          "name": "stdout"
        },
        {
          "output_type": "stream",
          "text": [
            " 89%|████████▊ | 3825/4318 [00:44<00:05, 90.23it/s]"
          ],
          "name": "stderr"
        },
        {
          "output_type": "stream",
          "text": [
            "matches: [(11840699188806025751, 3, 4), (11840699188806025751, 3, 5)]\n",
            "matches: [(11840699188806025751, 1, 2)]\n",
            "matches: [(11840699188806025751, 1, 2)]\n",
            "matches: [(11840699188806025751, 4, 5)]\n",
            "matches: [(11840699188806025751, 5, 6)]\n",
            "matches: [(11840699188806025751, 8, 9)]\n",
            "matches: [(11840699188806025751, 3, 4)]\n",
            "matches: [(11840699188806025751, 13, 14)]\n",
            "matches: [(11840699188806025751, 2, 3)]\n",
            "matches: [(11840699188806025751, 2, 3)]\n",
            "matches: [(11840699188806025751, 3, 4), (11840699188806025751, 3, 5)]\n",
            "matches: [(11840699188806025751, 3, 4)]\n",
            "matches: [(11840699188806025751, 3, 4)]\n",
            "matches: [(11840699188806025751, 3, 4), (11840699188806025751, 3, 5)]\n",
            "matches: [(11840699188806025751, 4, 5)]\n",
            "matches: [(11840699188806025751, 2, 3)]\n",
            "matches: [(11840699188806025751, 3, 4), (11840699188806025751, 3, 5)]\n",
            "matches: [(11840699188806025751, 1, 2), (11840699188806025751, 1, 3)]\n",
            "matches: [(11840699188806025751, 1, 2)]\n"
          ],
          "name": "stdout"
        },
        {
          "output_type": "stream",
          "text": [
            " 89%|████████▉ | 3845/4318 [00:44<00:05, 91.43it/s]"
          ],
          "name": "stderr"
        },
        {
          "output_type": "stream",
          "text": [
            "matches: [(11840699188806025751, 4, 5), (11840699188806025751, 4, 6)]\n",
            "matches: [(11840699188806025751, 6, 7), (11840699188806025751, 6, 8)]\n",
            "matches: [(11840699188806025751, 2, 3)]\n",
            "matches: [(11840699188806025751, 1, 2), (11840699188806025751, 1, 3), (11840699188806025751, 1, 4)]\n",
            "matches: [(11840699188806025751, 4, 5), (11840699188806025751, 4, 6)]\n",
            "matches: [(11840699188806025751, 2, 3), (11840699188806025751, 2, 4)]\n",
            "matches: [(11840699188806025751, 5, 6), (11840699188806025751, 5, 7), (11840699188806025751, 5, 8)]\n",
            "matches: [(11840699188806025751, 5, 6), (11840699188806025751, 5, 7), (11840699188806025751, 5, 8)]\n",
            "matches: [(11840699188806025751, 1, 2)]\n",
            "matches: [(11840699188806025751, 3, 4)]\n",
            "matches: [(11840699188806025751, 6, 7)]\n",
            "matches: [(11840699188806025751, 8, 9), (11840699188806025751, 8, 10)]\n",
            "matches: [(11840699188806025751, 6, 7), (11840699188806025751, 6, 8)]\n",
            "matches: [(11840699188806025751, 5, 6), (11840699188806025751, 5, 7)]\n",
            "matches: [(11840699188806025751, 5, 6)]\n",
            "matches: [(11840699188806025751, 4, 5)]\n",
            "matches: [(11840699188806025751, 1, 2), (11840699188806025751, 1, 3), (11840699188806025751, 1, 4)]\n",
            "matches: [(11840699188806025751, 4, 5), (11840699188806025751, 4, 6)]\n",
            "matches: [(11840699188806025751, 2, 3), (11840699188806025751, 2, 4)]\n"
          ],
          "name": "stdout"
        },
        {
          "output_type": "stream",
          "text": [
            " 90%|████████▉ | 3865/4318 [00:44<00:04, 91.50it/s]"
          ],
          "name": "stderr"
        },
        {
          "output_type": "stream",
          "text": [
            "matches: [(11840699188806025751, 5, 6), (11840699188806025751, 5, 7), (11840699188806025751, 5, 8)]\n",
            "matches: [(11840699188806025751, 5, 6), (11840699188806025751, 5, 7), (11840699188806025751, 5, 8)]\n",
            "matches: [(11840699188806025751, 1, 2)]\n",
            "matches: [(11840699188806025751, 3, 4)]\n",
            "matches: [(11840699188806025751, 6, 7)]\n",
            "matches: [(11840699188806025751, 8, 9), (11840699188806025751, 8, 10)]\n",
            "matches: [(11840699188806025751, 6, 7), (11840699188806025751, 6, 8)]\n",
            "matches: [(11840699188806025751, 5, 6), (11840699188806025751, 5, 7)]\n",
            "matches: [(11840699188806025751, 5, 6)]\n",
            "matches: [(11840699188806025751, 4, 5)]\n",
            "matches: [(11840699188806025751, 0, 1), (11840699188806025751, 2, 3)]\n",
            "matches: [(11840699188806025751, 2, 3), (11840699188806025751, 2, 4)]\n",
            "matches: [(11840699188806025751, 2, 3), (11840699188806025751, 2, 4)]\n",
            "matches: [(11840699188806025751, 3, 4)]\n",
            "matches: [(11840699188806025751, 3, 4)]\n",
            "matches: [(11840699188806025751, 3, 4)]\n",
            "matches: [(11840699188806025751, 5, 6), (11840699188806025751, 5, 7)]\n",
            "matches: [(11840699188806025751, 2, 3)]\n",
            "matches: [(11840699188806025751, 4, 5)]\n"
          ],
          "name": "stdout"
        },
        {
          "output_type": "stream",
          "text": [
            " 90%|████████▉ | 3885/4318 [00:44<00:04, 92.67it/s]"
          ],
          "name": "stderr"
        },
        {
          "output_type": "stream",
          "text": [
            "matches: [(11840699188806025751, 1, 2), (11840699188806025751, 1, 3)]\n",
            "matches: [(11840699188806025751, 1, 2)]\n",
            "matches: [(11840699188806025751, 1, 2)]\n",
            "matches: [(11840699188806025751, 3, 4)]\n",
            "matches: [(11840699188806025751, 3, 4), (11840699188806025751, 3, 5)]\n",
            "matches: [(11840699188806025751, 2, 3)]\n",
            "matches: [(11840699188806025751, 4, 5)]\n",
            "matches: [(11840699188806025751, 1, 2), (11840699188806025751, 1, 3)]\n",
            "matches: [(11840699188806025751, 1, 2)]\n",
            "matches: [(11840699188806025751, 1, 2)]\n",
            "matches: [(11840699188806025751, 3, 4)]\n",
            "matches: [(11840699188806025751, 3, 4), (11840699188806025751, 3, 5)]\n",
            "matches: [(11840699188806025751, 1, 2)]\n",
            "matches: [(11840699188806025751, 1, 2)]\n",
            "matches: [(11840699188806025751, 4, 5), (11840699188806025751, 4, 6)]\n",
            "matches: [(11840699188806025751, 4, 5), (11840699188806025751, 4, 6)]\n",
            "matches: [(11840699188806025751, 2, 3)]\n",
            "matches: [(11840699188806025751, 4, 5)]\n",
            "matches: [(11840699188806025751, 3, 4), (11840699188806025751, 3, 5)]\n",
            "matches: [(11840699188806025751, 3, 4)]\n"
          ],
          "name": "stdout"
        },
        {
          "output_type": "stream",
          "text": [
            "\r 90%|█████████ | 3895/4318 [00:45<00:04, 91.28it/s]"
          ],
          "name": "stderr"
        },
        {
          "output_type": "stream",
          "text": [
            "matches: [(11840699188806025751, 6, 7), (11840699188806025751, 6, 8)]\n",
            "matches: [(11840699188806025751, 1, 2)]\n",
            "matches: [(11840699188806025751, 1, 2), (11840699188806025751, 1, 3)]\n",
            "matches: [(11840699188806025751, 3, 4), (11840699188806025751, 3, 5), (11840699188806025751, 11, 12)]\n",
            "matches: [(11840699188806025751, 2, 3)]\n",
            "matches: [(11840699188806025751, 4, 5)]\n",
            "matches: [(11840699188806025751, 0, 1), (11840699188806025751, 5, 6)]\n",
            "matches: [(11840699188806025751, 7, 8), (11840699188806025751, 7, 9)]\n",
            "matches: [(11840699188806025751, 4, 5), (11840699188806025751, 4, 6)]\n",
            "matches: [(11840699188806025751, 1, 2)]\n",
            "matches: [(11840699188806025751, 3, 4), (11840699188806025751, 3, 5)]\n",
            "matches: [(11840699188806025751, 2, 3), (11840699188806025751, 2, 4), (11840699188806025751, 2, 5)]\n",
            "matches: [(11840699188806025751, 5, 6)]\n",
            "matches: [(11840699188806025751, 4, 5), (11840699188806025751, 4, 6)]\n",
            "matches: [(11840699188806025751, 3, 4)]\n",
            "matches: [(11840699188806025751, 2, 3)]\n",
            "matches: [(11840699188806025751, 2, 3)]\n",
            "matches: [(11840699188806025751, 1, 2)]\n",
            "matches: [(11840699188806025751, 4, 5), (11840699188806025751, 4, 6)]\n"
          ],
          "name": "stdout"
        },
        {
          "output_type": "stream",
          "text": [
            " 91%|█████████ | 3915/4318 [00:45<00:04, 92.38it/s]"
          ],
          "name": "stderr"
        },
        {
          "output_type": "stream",
          "text": [
            "matches: [(11840699188806025751, 3, 4), (11840699188806025751, 3, 5)]\n",
            "matches: [(11840699188806025751, 3, 4), (11840699188806025751, 3, 5)]\n",
            "matches: [(11840699188806025751, 0, 1), (11840699188806025751, 5, 6), (11840699188806025751, 5, 7)]\n",
            "matches: [(11840699188806025751, 5, 6), (11840699188806025751, 5, 7), (11840699188806025751, 5, 8)]\n",
            "matches: [(11840699188806025751, 2, 3)]\n",
            "matches: [(11840699188806025751, 8, 9)]\n",
            "matches: [(11840699188806025751, 0, 1), (11840699188806025751, 5, 6)]\n",
            "matches: [(11840699188806025751, 1, 2)]\n",
            "matches: [(11840699188806025751, 1, 2), (11840699188806025751, 1, 3)]\n",
            "matches: [(11840699188806025751, 3, 4), (11840699188806025751, 3, 5)]\n",
            "matches: [(11840699188806025751, 6, 7)]\n",
            "matches: [(11840699188806025751, 4, 5), (11840699188806025751, 4, 6)]\n",
            "matches: [(11840699188806025751, 1, 2)]\n",
            "matches: [(11840699188806025751, 4, 5)]\n",
            "matches: [(11840699188806025751, 1, 2), (11840699188806025751, 1, 3)]\n",
            "matches: [(11840699188806025751, 3, 4)]\n",
            "matches: [(11840699188806025751, 0, 1), (11840699188806025751, 5, 6)]\n",
            "matches: [(11840699188806025751, 7, 8), (11840699188806025751, 7, 9)]\n",
            "matches: [(11840699188806025751, 4, 5), (11840699188806025751, 4, 6)]\n"
          ],
          "name": "stdout"
        },
        {
          "output_type": "stream",
          "text": [
            " 91%|█████████ | 3935/4318 [00:45<00:04, 91.17it/s]"
          ],
          "name": "stderr"
        },
        {
          "output_type": "stream",
          "text": [
            "matches: [(11840699188806025751, 1, 2)]\n",
            "matches: [(11840699188806025751, 3, 4), (11840699188806025751, 3, 5)]\n",
            "matches: [(11840699188806025751, 2, 3), (11840699188806025751, 2, 4), (11840699188806025751, 2, 5)]\n",
            "matches: [(11840699188806025751, 5, 6)]\n",
            "matches: [(11840699188806025751, 4, 5), (11840699188806025751, 4, 6)]\n",
            "matches: [(11840699188806025751, 3, 4)]\n",
            "matches: [(11840699188806025751, 2, 3)]\n",
            "matches: [(11840699188806025751, 2, 3)]\n",
            "matches: [(11840699188806025751, 1, 2)]\n",
            "matches: [(11840699188806025751, 4, 5), (11840699188806025751, 4, 6)]\n",
            "matches: [(11840699188806025751, 3, 4), (11840699188806025751, 3, 5)]\n",
            "matches: [(11840699188806025751, 3, 4), (11840699188806025751, 3, 5)]\n",
            "matches: [(11840699188806025751, 0, 1), (11840699188806025751, 5, 6), (11840699188806025751, 5, 7)]\n",
            "matches: [(11840699188806025751, 5, 6), (11840699188806025751, 5, 7), (11840699188806025751, 5, 8)]\n",
            "matches: [(11840699188806025751, 2, 3)]\n",
            "matches: [(11840699188806025751, 8, 9)]\n",
            "matches: [(11840699188806025751, 0, 1), (11840699188806025751, 5, 6)]\n",
            "matches: [(11840699188806025751, 1, 2)]\n",
            "matches: [(11840699188806025751, 1, 2), (11840699188806025751, 1, 3)]\n"
          ],
          "name": "stdout"
        },
        {
          "output_type": "stream",
          "text": [
            " 92%|█████████▏| 3955/4318 [00:45<00:03, 92.23it/s]"
          ],
          "name": "stderr"
        },
        {
          "output_type": "stream",
          "text": [
            "matches: [(11840699188806025751, 3, 4), (11840699188806025751, 3, 5)]\n",
            "matches: [(11840699188806025751, 6, 7)]\n",
            "matches: [(11840699188806025751, 4, 5), (11840699188806025751, 4, 6)]\n",
            "matches: [(11840699188806025751, 1, 2)]\n",
            "matches: [(11840699188806025751, 4, 5)]\n",
            "matches: [(11840699188806025751, 1, 2), (11840699188806025751, 1, 3)]\n",
            "matches: [(11840699188806025751, 3, 4)]\n",
            "matches: [(11840699188806025751, 2, 3)]\n",
            "matches: [(11840699188806025751, 2, 3)]\n",
            "matches: [(11840699188806025751, 2, 3)]\n",
            "matches: [(11840699188806025751, 7, 8), (11840699188806025751, 7, 9)]\n",
            "matches: [(11840699188806025751, 3, 4)]\n",
            "matches: [(11840699188806025751, 4, 5), (11840699188806025751, 4, 6), (11840699188806025751, 4, 7)]\n",
            "matches: [(11840699188806025751, 3, 4), (11840699188806025751, 3, 5)]\n",
            "matches: [(11840699188806025751, 1, 2)]\n",
            "matches: [(11840699188806025751, 4, 5)]\n",
            "matches: [(11840699188806025751, 9, 10)]\n",
            "matches: [(11840699188806025751, 4, 5), (11840699188806025751, 4, 6)]\n",
            "matches: [(11840699188806025751, 2, 3)]\n"
          ],
          "name": "stdout"
        },
        {
          "output_type": "stream",
          "text": [
            " 92%|█████████▏| 3975/4318 [00:45<00:03, 90.46it/s]"
          ],
          "name": "stderr"
        },
        {
          "output_type": "stream",
          "text": [
            "matches: [(11840699188806025751, 1, 2)]\n",
            "matches: [(11840699188806025751, 5, 6)]\n",
            "matches: [(11840699188806025751, 9, 10)]\n",
            "matches: [(11840699188806025751, 2, 3), (11840699188806025751, 2, 4)]\n",
            "matches: [(11840699188806025751, 12, 13)]\n",
            "matches: [(11840699188806025751, 1, 2), (11840699188806025751, 1, 3)]\n",
            "matches: [(11840699188806025751, 13, 14)]\n",
            "matches: [(11840699188806025751, 3, 4)]\n",
            "matches: [(11840699188806025751, 2, 3)]\n",
            "matches: [(11840699188806025751, 1, 2)]\n",
            "matches: [(11840699188806025751, 0, 1)]\n",
            "matches: [(11840699188806025751, 2, 3)]\n",
            "matches: [(11840699188806025751, 1, 2)]\n",
            "matches: [(11840699188806025751, 4, 5), (11840699188806025751, 4, 6)]\n",
            "matches: [(11840699188806025751, 6, 7)]\n",
            "matches: [(11840699188806025751, 3, 4), (11840699188806025751, 3, 5)]\n",
            "matches: [(11840699188806025751, 1, 2)]\n",
            "matches: [(11840699188806025751, 4, 5), (11840699188806025751, 13, 14), (11840699188806025751, 13, 15)]\n",
            "matches: [(11840699188806025751, 3, 4), (11840699188806025751, 3, 5)]\n"
          ],
          "name": "stdout"
        },
        {
          "output_type": "stream",
          "text": [
            " 93%|█████████▎| 3995/4318 [00:46<00:03, 88.34it/s]"
          ],
          "name": "stderr"
        },
        {
          "output_type": "stream",
          "text": [
            "matches: [(11840699188806025751, 11, 12), (11840699188806025751, 11, 13)]\n",
            "matches: [(11840699188806025751, 2, 3)]\n",
            "matches: [(11840699188806025751, 5, 6)]\n",
            "matches: [(11840699188806025751, 1, 2)]\n",
            "matches: [(11840699188806025751, 2, 3)]\n",
            "matches: [(11840699188806025751, 3, 4), (11840699188806025751, 3, 5)]\n",
            "matches: [(11840699188806025751, 5, 6)]\n",
            "matches: [(11840699188806025751, 2, 3)]\n",
            "matches: [(11840699188806025751, 2, 3)]\n",
            "matches: [(11840699188806025751, 1, 2)]\n",
            "matches: [(11840699188806025751, 3, 4)]\n",
            "matches: [(11840699188806025751, 3, 4)]\n",
            "matches: [(11840699188806025751, 3, 4), (11840699188806025751, 3, 5)]\n",
            "matches: [(11840699188806025751, 1, 2)]\n",
            "matches: [(11840699188806025751, 1, 2), (11840699188806025751, 1, 3)]\n",
            "matches: [(11840699188806025751, 2, 3)]\n",
            "matches: [(11840699188806025751, 1, 2)]\n",
            "matches: [(11840699188806025751, 3, 4)]\n",
            "matches: [(11840699188806025751, 2, 3), (11840699188806025751, 2, 4)]\n"
          ],
          "name": "stdout"
        },
        {
          "output_type": "stream",
          "text": [
            " 93%|█████████▎| 4015/4318 [00:46<00:03, 89.75it/s]"
          ],
          "name": "stderr"
        },
        {
          "output_type": "stream",
          "text": [
            "matches: [(11840699188806025751, 2, 3)]\n",
            "matches: [(11840699188806025751, 2, 3)]\n",
            "matches: [(11840699188806025751, 1, 2), (11840699188806025751, 1, 3)]\n",
            "matches: [(11840699188806025751, 3, 4)]\n",
            "matches: [(11840699188806025751, 4, 5)]\n",
            "matches: [(11840699188806025751, 2, 3)]\n",
            "matches: [(11840699188806025751, 6, 7)]\n",
            "matches: [(11840699188806025751, 1, 2)]\n",
            "matches: [(11840699188806025751, 4, 5), (11840699188806025751, 4, 6)]\n",
            "matches: [(11840699188806025751, 2, 3)]\n",
            "matches: [(11840699188806025751, 0, 1)]\n",
            "matches: [(11840699188806025751, 1, 2)]\n",
            "matches: [(11840699188806025751, 9, 10)]\n",
            "matches: [(11840699188806025751, 5, 6)]\n",
            "matches: [(11840699188806025751, 3, 4), (11840699188806025751, 3, 5)]\n",
            "matches: [(11840699188806025751, 2, 3)]\n",
            "matches: [(11840699188806025751, 4, 5), (11840699188806025751, 4, 6)]\n",
            "matches: [(11840699188806025751, 5, 6), (11840699188806025751, 5, 7)]\n",
            "matches: [(11840699188806025751, 4, 5), (11840699188806025751, 4, 6)]\n"
          ],
          "name": "stdout"
        },
        {
          "output_type": "stream",
          "text": [
            " 93%|█████████▎| 4035/4318 [00:46<00:03, 90.18it/s]"
          ],
          "name": "stderr"
        },
        {
          "output_type": "stream",
          "text": [
            "matches: [(11840699188806025751, 1, 2)]\n",
            "matches: [(11840699188806025751, 1, 2)]\n",
            "matches: [(11840699188806025751, 3, 4)]\n",
            "matches: [(11840699188806025751, 12, 13)]\n",
            "matches: [(11840699188806025751, 1, 2)]\n",
            "matches: [(11840699188806025751, 5, 6), (11840699188806025751, 5, 7)]\n",
            "matches: [(11840699188806025751, 10, 11)]\n",
            "matches: [(11840699188806025751, 2, 3), (11840699188806025751, 2, 4)]\n",
            "matches: [(11840699188806025751, 3, 4)]\n",
            "matches: [(11840699188806025751, 4, 5), (11840699188806025751, 4, 6)]\n",
            "matches: [(11840699188806025751, 3, 4)]\n",
            "matches: [(11840699188806025751, 1, 2)]\n",
            "matches: [(11840699188806025751, 6, 7)]\n",
            "matches: [(11840699188806025751, 6, 7)]\n",
            "matches: [(11840699188806025751, 3, 4), (11840699188806025751, 3, 5)]\n",
            "matches: [(11840699188806025751, 3, 4), (11840699188806025751, 3, 5)]\n",
            "matches: [(11840699188806025751, 7, 8), (11840699188806025751, 7, 9)]\n",
            "matches: [(11840699188806025751, 1, 2)]\n",
            "matches: [(11840699188806025751, 5, 6)]\n"
          ],
          "name": "stdout"
        },
        {
          "output_type": "stream",
          "text": [
            " 94%|█████████▍| 4055/4318 [00:46<00:02, 90.65it/s]"
          ],
          "name": "stderr"
        },
        {
          "output_type": "stream",
          "text": [
            "matches: [(11840699188806025751, 6, 7), (11840699188806025751, 6, 8)]\n",
            "matches: [(11840699188806025751, 0, 1), (11840699188806025751, 0, 2)]\n",
            "matches: [(11840699188806025751, 2, 3)]\n",
            "matches: [(11840699188806025751, 6, 7)]\n",
            "matches: [(11840699188806025751, 3, 4), (11840699188806025751, 3, 5)]\n",
            "matches: [(11840699188806025751, 3, 4), (11840699188806025751, 3, 5)]\n",
            "matches: [(11840699188806025751, 7, 8), (11840699188806025751, 7, 9)]\n",
            "matches: [(11840699188806025751, 1, 2)]\n",
            "matches: [(11840699188806025751, 5, 6)]\n",
            "matches: [(11840699188806025751, 6, 7), (11840699188806025751, 6, 8)]\n",
            "matches: [(11840699188806025751, 0, 1), (11840699188806025751, 0, 2)]\n",
            "matches: [(11840699188806025751, 2, 3)]\n",
            "matches: [(11840699188806025751, 2, 3), (11840699188806025751, 2, 4)]\n",
            "matches: [(11840699188806025751, 3, 4)]\n",
            "matches: [(11840699188806025751, 1, 2)]\n",
            "matches: [(11840699188806025751, 6, 7), (11840699188806025751, 6, 8), (11840699188806025751, 6, 9)]\n",
            "matches: [(11840699188806025751, 1, 2)]\n",
            "matches: [(11840699188806025751, 0, 1), (11840699188806025751, 4, 5), (11840699188806025751, 4, 6)]\n",
            "matches: [(11840699188806025751, 3, 4), (11840699188806025751, 3, 5)]\n"
          ],
          "name": "stdout"
        },
        {
          "output_type": "stream",
          "text": [
            "\r 94%|█████████▍| 4065/4318 [00:46<00:02, 90.88it/s]"
          ],
          "name": "stderr"
        },
        {
          "output_type": "stream",
          "text": [
            "matches: [(11840699188806025751, 7, 8)]\n",
            "matches: [(11840699188806025751, 3, 4), (11840699188806025751, 3, 5)]\n",
            "matches: [(11840699188806025751, 4, 5)]\n",
            "matches: [(11840699188806025751, 1, 2)]\n",
            "matches: [(11840699188806025751, 1, 2), (11840699188806025751, 1, 3)]\n",
            "matches: [(11840699188806025751, 2, 3), (11840699188806025751, 2, 4)]\n",
            "matches: [(11840699188806025751, 2, 3)]\n",
            "matches: [(11840699188806025751, 4, 5), (11840699188806025751, 4, 6)]\n",
            "matches: [(11840699188806025751, 2, 3)]\n",
            "matches: [(11840699188806025751, 3, 4)]\n",
            "matches: [(11840699188806025751, 2, 3)]\n",
            "matches: [(11840699188806025751, 4, 5), (11840699188806025751, 4, 6)]\n",
            "matches: [(11840699188806025751, 4, 5), (11840699188806025751, 4, 6)]\n",
            "matches: [(11840699188806025751, 0, 1), (11840699188806025751, 4, 5), (11840699188806025751, 4, 6)]\n",
            "matches: [(11840699188806025751, 3, 4), (11840699188806025751, 3, 5)]\n",
            "matches: [(11840699188806025751, 7, 8)]\n",
            "matches: [(11840699188806025751, 3, 4), (11840699188806025751, 3, 5)]\n",
            "matches: [(11840699188806025751, 4, 5)]\n"
          ],
          "name": "stdout"
        },
        {
          "output_type": "stream",
          "text": [
            " 95%|█████████▍| 4085/4318 [00:47<00:02, 88.28it/s]"
          ],
          "name": "stderr"
        },
        {
          "output_type": "stream",
          "text": [
            "matches: [(11840699188806025751, 1, 2)]\n",
            "matches: [(11840699188806025751, 1, 2), (11840699188806025751, 1, 3)]\n",
            "matches: [(11840699188806025751, 2, 3), (11840699188806025751, 2, 4)]\n",
            "matches: [(11840699188806025751, 2, 3)]\n",
            "matches: [(11840699188806025751, 4, 5), (11840699188806025751, 4, 6)]\n",
            "matches: [(11840699188806025751, 2, 3)]\n",
            "matches: [(11840699188806025751, 3, 4)]\n",
            "matches: [(11840699188806025751, 2, 3)]\n",
            "matches: [(11840699188806025751, 4, 5), (11840699188806025751, 4, 6)]\n",
            "matches: [(11840699188806025751, 4, 5), (11840699188806025751, 4, 6)]\n",
            "matches: [(11840699188806025751, 1, 2)]\n",
            "matches: [(11840699188806025751, 1, 2), (11840699188806025751, 1, 3)]\n",
            "matches: [(11840699188806025751, 7, 8)]\n",
            "matches: [(11840699188806025751, 5, 6)]\n",
            "matches: [(11840699188806025751, 3, 4), (11840699188806025751, 3, 5)]\n",
            "matches: [(11840699188806025751, 1, 2), (11840699188806025751, 1, 3)]\n",
            "matches: [(11840699188806025751, 6, 7), (11840699188806025751, 6, 8)]\n",
            "matches: [(11840699188806025751, 1, 2)]\n",
            "matches: [(11840699188806025751, 3, 4), (11840699188806025751, 3, 5), (11840699188806025751, 3, 6)]\n"
          ],
          "name": "stdout"
        },
        {
          "output_type": "stream",
          "text": [
            " 95%|█████████▌| 4104/4318 [00:47<00:02, 88.11it/s]"
          ],
          "name": "stderr"
        },
        {
          "output_type": "stream",
          "text": [
            "matches: [(11840699188806025751, 1, 2)]\n",
            "matches: [(11840699188806025751, 5, 6), (11840699188806025751, 10, 11)]\n",
            "matches: [(11840699188806025751, 2, 3)]\n",
            "matches: [(11840699188806025751, 5, 6)]\n",
            "matches: [(11840699188806025751, 4, 5), (11840699188806025751, 4, 6)]\n",
            "matches: [(11840699188806025751, 1, 2)]\n",
            "matches: [(11840699188806025751, 2, 3), (11840699188806025751, 2, 4)]\n",
            "matches: [(11840699188806025751, 2, 3)]\n",
            "matches: [(11840699188806025751, 1, 2), (11840699188806025751, 1, 3)]\n",
            "matches: [(11840699188806025751, 2, 3)]\n",
            "matches: [(11840699188806025751, 8, 9)]\n",
            "matches: [(11840699188806025751, 7, 8)]\n",
            "matches: [(11840699188806025751, 3, 4), (11840699188806025751, 3, 5)]\n",
            "matches: [(11840699188806025751, 1, 2)]\n",
            "matches: [(11840699188806025751, 7, 8)]\n",
            "matches: [(11840699188806025751, 3, 4)]\n",
            "matches: [(11840699188806025751, 2, 3), (11840699188806025751, 2, 4), (11840699188806025751, 2, 5)]\n",
            "matches: [(11840699188806025751, 2, 3), (11840699188806025751, 2, 4)]\n"
          ],
          "name": "stdout"
        },
        {
          "output_type": "stream",
          "text": [
            " 95%|█████████▌| 4123/4318 [00:47<00:02, 88.20it/s]"
          ],
          "name": "stderr"
        },
        {
          "output_type": "stream",
          "text": [
            "matches: [(11840699188806025751, 5, 6), (11840699188806025751, 5, 7)]\n",
            "matches: [(11840699188806025751, 3, 4), (11840699188806025751, 3, 5)]\n",
            "matches: [(11840699188806025751, 1, 2)]\n",
            "matches: [(11840699188806025751, 2, 3)]\n",
            "matches: [(11840699188806025751, 7, 8), (11840699188806025751, 7, 9)]\n",
            "matches: [(11840699188806025751, 2, 3), (11840699188806025751, 2, 4)]\n",
            "matches: [(11840699188806025751, 2, 3), (11840699188806025751, 2, 4), (11840699188806025751, 2, 5)]\n",
            "matches: [(11840699188806025751, 1, 2), (11840699188806025751, 1, 3)]\n",
            "matches: [(11840699188806025751, 4, 5), (11840699188806025751, 4, 6)]\n",
            "matches: [(11840699188806025751, 2, 3)]\n",
            "matches: [(11840699188806025751, 9, 10), (11840699188806025751, 9, 11)]\n",
            "matches: [(11840699188806025751, 4, 5), (11840699188806025751, 4, 6)]\n",
            "matches: [(11840699188806025751, 2, 3)]\n",
            "matches: [(11840699188806025751, 3, 4), (11840699188806025751, 3, 5)]\n",
            "matches: [(11840699188806025751, 2, 3)]\n",
            "matches: [(11840699188806025751, 5, 6), (11840699188806025751, 5, 7)]\n",
            "matches: [(11840699188806025751, 5, 6)]\n",
            "matches: [(11840699188806025751, 4, 5)]\n",
            "matches: [(11840699188806025751, 4, 5), (11840699188806025751, 4, 6)]\n"
          ],
          "name": "stdout"
        },
        {
          "output_type": "stream",
          "text": [
            " 96%|█████████▌| 4141/4318 [00:47<00:01, 88.65it/s]"
          ],
          "name": "stderr"
        },
        {
          "output_type": "stream",
          "text": [
            "matches: [(11840699188806025751, 2, 3)]\n",
            "matches: [(11840699188806025751, 5, 6), (11840699188806025751, 5, 7)]\n",
            "matches: [(11840699188806025751, 5, 6)]\n",
            "matches: [(11840699188806025751, 4, 5)]\n",
            "matches: [(11840699188806025751, 4, 5), (11840699188806025751, 4, 6)]\n",
            "matches: [(11840699188806025751, 2, 3)]\n",
            "matches: [(11840699188806025751, 1, 2)]\n",
            "matches: [(11840699188806025751, 3, 4), (11840699188806025751, 3, 5)]\n",
            "matches: [(11840699188806025751, 10, 11), (11840699188806025751, 10, 12)]\n",
            "matches: [(11840699188806025751, 2, 3)]\n",
            "matches: [(11840699188806025751, 1, 2)]\n",
            "matches: [(11840699188806025751, 5, 6), (11840699188806025751, 5, 7)]\n",
            "matches: [(11840699188806025751, 8, 9), (11840699188806025751, 8, 10)]\n",
            "matches: [(11840699188806025751, 4, 5), (11840699188806025751, 4, 6)]\n",
            "matches: [(11840699188806025751, 2, 3)]\n",
            "matches: [(11840699188806025751, 3, 4)]\n",
            "matches: [(11840699188806025751, 3, 4), (11840699188806025751, 3, 5)]\n",
            "matches: [(11840699188806025751, 8, 9), (11840699188806025751, 8, 10)]\n"
          ],
          "name": "stdout"
        },
        {
          "output_type": "stream",
          "text": [
            " 96%|█████████▋| 4159/4318 [00:48<00:01, 86.96it/s]"
          ],
          "name": "stderr"
        },
        {
          "output_type": "stream",
          "text": [
            "matches: [(11840699188806025751, 1, 2), (11840699188806025751, 1, 3)]\n",
            "matches: [(11840699188806025751, 2, 3)]\n",
            "matches: [(11840699188806025751, 3, 4)]\n",
            "matches: [(11840699188806025751, 2, 3), (11840699188806025751, 2, 4), (11840699188806025751, 2, 5)]\n",
            "matches: [(11840699188806025751, 16, 17), (11840699188806025751, 16, 18)]\n",
            "matches: [(11840699188806025751, 3, 4), (11840699188806025751, 3, 5)]\n",
            "matches: [(11840699188806025751, 5, 6), (11840699188806025751, 5, 7)]\n",
            "matches: [(11840699188806025751, 1, 2)]\n",
            "matches: [(11840699188806025751, 1, 2)]\n",
            "matches: [(11840699188806025751, 1, 2), (11840699188806025751, 1, 3)]\n",
            "matches: [(11840699188806025751, 3, 4), (11840699188806025751, 3, 5)]\n",
            "matches: [(11840699188806025751, 2, 3)]\n",
            "matches: [(11840699188806025751, 2, 3)]\n",
            "matches: [(11840699188806025751, 2, 3)]\n",
            "matches: [(11840699188806025751, 1, 2)]\n",
            "matches: [(11840699188806025751, 2, 3)]\n",
            "matches: [(11840699188806025751, 1, 2)]\n",
            "matches: [(11840699188806025751, 5, 6)]\n",
            "matches: [(11840699188806025751, 3, 4)]\n"
          ],
          "name": "stdout"
        },
        {
          "output_type": "stream",
          "text": [
            " 97%|█████████▋| 4179/4318 [00:48<00:01, 90.09it/s]"
          ],
          "name": "stderr"
        },
        {
          "output_type": "stream",
          "text": [
            "matches: [(11840699188806025751, 2, 3)]\n",
            "matches: [(11840699188806025751, 3, 4), (11840699188806025751, 3, 5)]\n",
            "matches: [(11840699188806025751, 3, 4)]\n",
            "matches: [(11840699188806025751, 7, 8)]\n",
            "matches: [(11840699188806025751, 1, 2)]\n",
            "matches: [(11840699188806025751, 5, 6), (11840699188806025751, 5, 7)]\n",
            "matches: [(11840699188806025751, 3, 4)]\n",
            "matches: [(11840699188806025751, 3, 4)]\n",
            "matches: [(11840699188806025751, 1, 2), (11840699188806025751, 7, 8), (11840699188806025751, 7, 9)]\n",
            "matches: [(11840699188806025751, 3, 4), (11840699188806025751, 3, 5)]\n",
            "matches: [(11840699188806025751, 8, 9), (11840699188806025751, 8, 10)]\n",
            "matches: [(11840699188806025751, 1, 2), (11840699188806025751, 1, 3)]\n",
            "matches: [(11840699188806025751, 2, 3)]\n",
            "matches: [(11840699188806025751, 3, 4)]\n",
            "matches: [(11840699188806025751, 2, 3), (11840699188806025751, 2, 4), (11840699188806025751, 2, 5)]\n",
            "matches: [(11840699188806025751, 16, 17), (11840699188806025751, 16, 18)]\n",
            "matches: [(11840699188806025751, 3, 4), (11840699188806025751, 3, 5)]\n",
            "matches: [(11840699188806025751, 5, 6), (11840699188806025751, 5, 7)]\n",
            "matches: [(11840699188806025751, 1, 2)]\n"
          ],
          "name": "stdout"
        },
        {
          "output_type": "stream",
          "text": [
            " 97%|█████████▋| 4199/4318 [00:48<00:01, 92.17it/s]"
          ],
          "name": "stderr"
        },
        {
          "output_type": "stream",
          "text": [
            "matches: [(11840699188806025751, 1, 2)]\n",
            "matches: [(11840699188806025751, 1, 2), (11840699188806025751, 1, 3)]\n",
            "matches: [(11840699188806025751, 3, 4), (11840699188806025751, 3, 5)]\n",
            "matches: [(11840699188806025751, 2, 3)]\n",
            "matches: [(11840699188806025751, 2, 3)]\n",
            "matches: [(11840699188806025751, 2, 3)]\n",
            "matches: [(11840699188806025751, 1, 2)]\n",
            "matches: [(11840699188806025751, 2, 3)]\n",
            "matches: [(11840699188806025751, 1, 2)]\n",
            "matches: [(11840699188806025751, 5, 6)]\n",
            "matches: [(11840699188806025751, 3, 4)]\n",
            "matches: [(11840699188806025751, 2, 3)]\n",
            "matches: [(11840699188806025751, 3, 4), (11840699188806025751, 3, 5)]\n",
            "matches: [(11840699188806025751, 3, 4)]\n",
            "matches: [(11840699188806025751, 7, 8)]\n",
            "matches: [(11840699188806025751, 1, 2)]\n",
            "matches: [(11840699188806025751, 5, 6), (11840699188806025751, 5, 7)]\n",
            "matches: [(11840699188806025751, 3, 4)]\n",
            "matches: [(11840699188806025751, 3, 4)]\n"
          ],
          "name": "stdout"
        },
        {
          "output_type": "stream",
          "text": [
            " 98%|█████████▊| 4219/4318 [00:48<00:01, 90.87it/s]"
          ],
          "name": "stderr"
        },
        {
          "output_type": "stream",
          "text": [
            "matches: [(11840699188806025751, 1, 2), (11840699188806025751, 7, 8), (11840699188806025751, 7, 9)]\n",
            "matches: [(11840699188806025751, 2, 3)]\n",
            "matches: [(11840699188806025751, 1, 2)]\n",
            "matches: [(11840699188806025751, 5, 6), (11840699188806025751, 5, 7)]\n",
            "matches: [(11840699188806025751, 2, 3)]\n",
            "matches: [(11840699188806025751, 5, 6), (11840699188806025751, 5, 7)]\n",
            "matches: [(11840699188806025751, 2, 3), (11840699188806025751, 2, 4)]\n",
            "matches: [(11840699188806025751, 4, 5), (11840699188806025751, 4, 6)]\n",
            "matches: [(11840699188806025751, 3, 4), (11840699188806025751, 3, 5)]\n",
            "matches: [(11840699188806025751, 3, 4)]\n",
            "matches: [(11840699188806025751, 2, 3)]\n",
            "matches: [(11840699188806025751, 2, 3), (11840699188806025751, 2, 4)]\n",
            "matches: [(11840699188806025751, 4, 5), (11840699188806025751, 4, 6)]\n",
            "matches: [(11840699188806025751, 5, 6), (11840699188806025751, 5, 7)]\n",
            "matches: [(11840699188806025751, 1, 2)]\n",
            "matches: [(11840699188806025751, 1, 2)]\n",
            "matches: [(11840699188806025751, 10, 11)]\n",
            "matches: [(11840699188806025751, 1, 2)]\n",
            "matches: [(11840699188806025751, 1, 2)]\n"
          ],
          "name": "stdout"
        },
        {
          "output_type": "stream",
          "text": [
            " 98%|█████████▊| 4238/4318 [00:48<00:00, 88.25it/s]"
          ],
          "name": "stderr"
        },
        {
          "output_type": "stream",
          "text": [
            "matches: [(11840699188806025751, 4, 5), (11840699188806025751, 4, 6), (11840699188806025751, 4, 7)]\n",
            "matches: [(11840699188806025751, 3, 4)]\n",
            "matches: [(11840699188806025751, 5, 6)]\n",
            "matches: [(11840699188806025751, 1, 2)]\n",
            "matches: [(11840699188806025751, 1, 2)]\n",
            "matches: [(11840699188806025751, 6, 7)]\n",
            "matches: [(11840699188806025751, 2, 3)]\n",
            "matches: [(11840699188806025751, 1, 2)]\n",
            "matches: [(11840699188806025751, 3, 4)]\n",
            "matches: [(11840699188806025751, 3, 4), (11840699188806025751, 3, 5)]\n",
            "matches: [(11840699188806025751, 9, 10)]\n",
            "matches: [(11840699188806025751, 1, 2), (11840699188806025751, 4, 5), (11840699188806025751, 4, 6)]\n",
            "matches: [(11840699188806025751, 3, 4), (11840699188806025751, 3, 5)]\n",
            "matches: [(11840699188806025751, 4, 5)]\n",
            "matches: [(11840699188806025751, 5, 6), (11840699188806025751, 5, 7)]\n",
            "matches: [(11840699188806025751, 2, 3), (11840699188806025751, 2, 4)]\n",
            "matches: [(11840699188806025751, 4, 5), (11840699188806025751, 4, 6)]\n",
            "matches: [(11840699188806025751, 11, 12), (11840699188806025751, 11, 13)]\n"
          ],
          "name": "stdout"
        },
        {
          "output_type": "stream",
          "text": [
            " 99%|█████████▊| 4256/4318 [00:49<00:00, 86.43it/s]"
          ],
          "name": "stderr"
        },
        {
          "output_type": "stream",
          "text": [
            "matches: [(11840699188806025751, 3, 4), (11840699188806025751, 3, 5)]\n",
            "matches: [(11840699188806025751, 2, 3)]\n",
            "matches: [(11840699188806025751, 14, 15)]\n",
            "matches: [(11840699188806025751, 2, 3)]\n",
            "matches: [(11840699188806025751, 2, 3), (11840699188806025751, 2, 4)]\n",
            "matches: [(11840699188806025751, 6, 7)]\n",
            "matches: [(11840699188806025751, 2, 3)]\n",
            "matches: [(11840699188806025751, 11, 12)]\n",
            "matches: [(11840699188806025751, 11, 12)]\n",
            "matches: [(11840699188806025751, 6, 7)]\n",
            "matches: [(11840699188806025751, 1, 2)]\n",
            "matches: [(11840699188806025751, 7, 8)]\n",
            "matches: [(11840699188806025751, 2, 3)]\n",
            "matches: [(11840699188806025751, 5, 6), (11840699188806025751, 5, 7), (11840699188806025751, 5, 8)]\n",
            "matches: [(11840699188806025751, 2, 3), (11840699188806025751, 2, 4)]\n",
            "matches: [(11840699188806025751, 1, 2)]\n",
            "matches: [(11840699188806025751, 15, 16)]\n"
          ],
          "name": "stdout"
        },
        {
          "output_type": "stream",
          "text": [
            " 99%|█████████▉| 4275/4318 [00:49<00:00, 89.44it/s]"
          ],
          "name": "stderr"
        },
        {
          "output_type": "stream",
          "text": [
            "matches: [(11840699188806025751, 3, 4)]\n",
            "matches: [(11840699188806025751, 3, 4)]\n",
            "matches: [(11840699188806025751, 1, 2)]\n",
            "matches: [(11840699188806025751, 3, 4)]\n",
            "matches: [(11840699188806025751, 2, 3)]\n",
            "matches: [(11840699188806025751, 6, 7), (11840699188806025751, 6, 8), (11840699188806025751, 6, 9)]\n",
            "matches: [(11840699188806025751, 5, 6)]\n",
            "matches: [(11840699188806025751, 12, 13), (11840699188806025751, 12, 14), (11840699188806025751, 12, 15)]\n",
            "matches: [(11840699188806025751, 2, 3)]\n",
            "matches: [(11840699188806025751, 3, 4)]\n",
            "matches: [(11840699188806025751, 3, 4)]\n",
            "matches: [(11840699188806025751, 2, 3)]\n",
            "matches: [(11840699188806025751, 3, 4), (11840699188806025751, 3, 5)]\n",
            "matches: [(11840699188806025751, 7, 8)]\n",
            "matches: [(11840699188806025751, 6, 7), (11840699188806025751, 6, 8)]\n",
            "matches: [(11840699188806025751, 1, 2)]\n",
            "matches: [(11840699188806025751, 2, 3)]\n",
            "matches: [(11840699188806025751, 1, 2)]\n",
            "matches: [(11840699188806025751, 4, 5)]\n",
            "matches: [(11840699188806025751, 3, 4)]\n"
          ],
          "name": "stdout"
        },
        {
          "output_type": "stream",
          "text": [
            " 99%|█████████▉| 4293/4318 [00:49<00:00, 88.32it/s]"
          ],
          "name": "stderr"
        },
        {
          "output_type": "stream",
          "text": [
            "matches: [(11840699188806025751, 9, 10)]\n",
            "matches: [(11840699188806025751, 2, 3)]\n",
            "matches: [(11840699188806025751, 1, 2)]\n",
            "matches: [(11840699188806025751, 1, 2)]\n",
            "matches: [(11840699188806025751, 8, 9), (11840699188806025751, 8, 10)]\n",
            "matches: [(11840699188806025751, 7, 8)]\n",
            "matches: [(11840699188806025751, 6, 7), (11840699188806025751, 6, 8)]\n",
            "matches: [(11840699188806025751, 1, 2)]\n",
            "matches: [(11840699188806025751, 1, 2)]\n",
            "matches: [(11840699188806025751, 3, 4)]\n",
            "matches: [(11840699188806025751, 2, 3), (11840699188806025751, 2, 4)]\n",
            "matches: [(11840699188806025751, 3, 4), (11840699188806025751, 3, 5), (11840699188806025751, 3, 6)]\n",
            "matches: [(11840699188806025751, 6, 7)]\n",
            "matches: [(11840699188806025751, 3, 4), (11840699188806025751, 3, 5)]\n",
            "matches: [(11840699188806025751, 2, 3), (11840699188806025751, 2, 4)]\n",
            "matches: [(11840699188806025751, 4, 5)]\n",
            "matches: [(11840699188806025751, 3, 4), (11840699188806025751, 3, 5)]\n",
            "matches: [(11840699188806025751, 2, 3)]\n",
            "matches: [(11840699188806025751, 3, 4)]\n"
          ],
          "name": "stdout"
        },
        {
          "output_type": "stream",
          "text": [
            "100%|██████████| 4318/4318 [00:49<00:00, 86.68it/s]"
          ],
          "name": "stderr"
        },
        {
          "output_type": "stream",
          "text": [
            "matches: [(11840699188806025751, 6, 7)]\n",
            "matches: [(11840699188806025751, 3, 4)]\n",
            "matches: [(11840699188806025751, 6, 7)]\n",
            "matches: [(11840699188806025751, 3, 4), (11840699188806025751, 3, 5)]\n",
            "matches: [(11840699188806025751, 3, 4)]\n",
            "matches: [(11840699188806025751, 4, 5)]\n",
            "matches: [(11840699188806025751, 1, 2)]\n",
            "matches: [(11840699188806025751, 10, 11)]\n",
            "matches: [(11840699188806025751, 3, 4), (11840699188806025751, 3, 5)]\n",
            "matches: [(11840699188806025751, 2, 3)]\n",
            "matches: [(11840699188806025751, 2, 3), (11840699188806025751, 2, 4)]\n",
            "matches: [(11840699188806025751, 5, 6), (11840699188806025751, 5, 7)]\n",
            "matches: [(11840699188806025751, 1, 2)]\n",
            "matches: [(11840699188806025751, 2, 3)]\n",
            "matches: [(11840699188806025751, 2, 3), (11840699188806025751, 2, 4)]\n",
            "matches: [(11840699188806025751, 2, 3)]\n",
            "matches: [(11840699188806025751, 3, 4)]\n",
            "matches: [(11840699188806025751, 3, 4)]\n",
            "matches: [(11840699188806025751, 2, 3)]\n",
            "matches: [(11840699188806025751, 3, 4), (11840699188806025751, 3, 5)]\n"
          ],
          "name": "stdout"
        },
        {
          "output_type": "stream",
          "text": [
            "\n"
          ],
          "name": "stderr"
        },
        {
          "output_type": "display_data",
          "data": {
            "image/png": "[encoded data removed]",
            "text/plain": [
              "<Figure size 864x864 with 1 Axes>"
            ]
          },
          "metadata": {
            "tags": []
          }
        }
      ]
    }
  ]
}
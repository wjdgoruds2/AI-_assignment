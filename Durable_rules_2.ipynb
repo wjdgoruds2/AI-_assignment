{
  "nbformat": 4,
  "nbformat_minor": 0,
  "metadata": {
    "colab": {
      "name": "Durable_rules_1.ipynb",
      "provenance": [],
      "authorship_tag": "ABX9TyOL5LWg75h5Lx6FLY/qvJZp",
      "include_colab_link": true
    },
    "kernelspec": {
      "name": "python3",
      "display_name": "Python 3"
    }
  },
  "cells": [
    {
      "cell_type": "markdown",
      "metadata": {
        "id": "view-in-github",
        "colab_type": "text"
      },
      "source": [
        "<a href=\"https://colab.research.google.com/github/wjdgoruds2/AI-_assignment/blob/master/Durable_rules_2.ipynb\" target=\"_parent\"><img src=\"https://colab.research.google.com/assets/colab-badge.svg\" alt=\"Open In Colab\"/></a>"
      ]
    },
    {
      "cell_type": "code",
      "metadata": {
        "id": "gsbRuMpIuqyr",
        "colab_type": "code",
        "colab": {
          "base_uri": "https://localhost:8080/",
          "height": 177
        },
        "outputId": "509c9489-3766-43f1-90d5-4e741b17d173"
      },
      "source": [
        "!pip install durable_rules\n",
        "\n",
        "from durable.lang import ruleset, when_all, m, post, _main_host\n",
        "\n",
        "if _main_host is not None:\n",
        "    _main_host._ruleset_directory.clear()\n",
        "\n",
        "with ruleset('animal'):\n",
        "  @when_all(c.first << (m.predicate =='eats') & (m.object == 'flies'),(m.predicate == 'lives') & (m.object == 'water') & (m.subject == c.first.subject))\n",
        "  def frog(c):\n",
        "    c.assert_fact({'subject':c.first.subject,'predicate':'is','object':'frog'})\n",
        "  @when_all(c.first << (m.predicate =='eats') & (m.object == 'flies'),(m.predicate == 'lives') & (m.object == 'land') & (m.subject == c.first.subject))\n",
        "  def chameleon(c):\n",
        "    c.assert_fact({'subject':c.first.subject,'predicate':'is','object':'chameleon'})\n",
        "  @when_all((m.predicate =='eats') & (m.object == 'worms'))\n",
        "  def bird(c):\n",
        "    c.assert_fact({'subject':c.m.subject,'predicate':'is','object':'bird'})\n",
        "  @when_all((m.predicate =='is') & (m.object == 'frog'))\n",
        "  def green(c):\n",
        "    c.assert_fact({'subject':c.m.subject,'predicate':'is','object':'green'})\n",
        "  @when_all( (m.predicate =='is') & (m.object == 'chameleon'))\n",
        "  def grey(c):\n",
        "    c.assert_fact({'subject':c.m.subject,'predicate':'is','object':'grey'})\n",
        "  @when_all((m.predicate =='is') & (m.object == 'bird'))\n",
        "  def black(c):\n",
        "    c.assert_fact({'subject':c.m.subject,'predicate':'is','object':'black'})\n",
        "  @when_all(+m.subject)\n",
        "  def output(c):\n",
        "    print('Fact:{0} {1} {2}'.format(c.m.subject, c.m.predicate, c.m.object))\n",
        "\n",
        "assert_fact('animal',{'subject':'Kermit','predicate':'eats','object':'files'})\n",
        "assert_fact('animal',{'subject':'Kermit','predicate':'lives','object':'water'})\n",
        "assert_fact('animal',{'subject':'Greedy','predicate':'eats','object':'files'})\n",
        "assert_fact('animal',{'subject':'Greedy','predicate':'lives','object':'land'})\n",
        "assert_fact('animal',{'subject':'Tweety','predicate':'eats','object':'worms'})\n"
      ],
      "execution_count": 20,
      "outputs": [
        {
          "output_type": "stream",
          "text": [
            "Requirement already satisfied: durable_rules in /usr/local/lib/python3.6/dist-packages (2.0.28)\n",
            "Fact:Kermit eats files\n",
            "Fact:Kermit lives water\n",
            "Fact:Greedy eats files\n",
            "Fact:Greedy lives land\n",
            "Fact:Tweety is black\n",
            "Fact:Tweety is bird\n",
            "Fact:Tweety eats worms\n"
          ],
          "name": "stdout"
        },
        {
          "output_type": "execute_result",
          "data": {
            "text/plain": [
              "{'$s': 1, 'id': 'sid-0', 'sid': '0'}"
            ]
          },
          "metadata": {
            "tags": []
          },
          "execution_count": 20
        }
      ]
    }
  ]
}